{
 "cells": [
  {
   "cell_type": "markdown",
   "metadata": {
    "slideshow": {
     "slide_type": "slide"
    }
   },
   "source": [
    "\n",
    "<CENTER>\n",
    "<div style=width:600px;border-radius:10px;height:200px;background-color:#ffcccc;text-align:center;vertical-align:middle;>\n",
    "\n",
    "<font size=14, font color=navy>  \n",
    "<font size=14, font color=navy>Programmation Python\n",
    "\n",
    "</div>\n",
    "</CENTER>"
   ]
  },
  {
   "cell_type": "markdown",
   "metadata": {
    "slideshow": {
     "slide_type": "slide"
    }
   },
   "source": [
    "# VARIABLES"
   ]
  },
  {
   "cell_type": "markdown",
   "metadata": {
    "slideshow": {
     "slide_type": "subslide"
    }
   },
   "source": [
    "* Association  <i>Identifiant</i> (Nom) $\\leftrightarrow$ <i>Valeur</i> (Instance de classe)    \n",
    "$\\rightarrow$ Leur association : <i>Affectation/Assignation</i>    \n",
    "$\\rightarrow$ Forme $\\verb\"nom_variable=valeur\"$   \n",
    "$\\rightarrow$ Processus d'appel\n",
    "* Désigne un emplacement mémoire par <i>Référence</i>    \n",
    "$\\rightarrow$ casier de gare vs. numéro/clé\n",
    "* Mutabilité :    \n",
    "$\\rightarrow$ Changement possible du contenu\n",
    "* Identifiant alphanumérique non réservé"
   ]
  },
  {
   "cell_type": "markdown",
   "metadata": {
    "collapsed": true,
    "slideshow": {
     "slide_type": "subslide"
    }
   },
   "source": [
    "#### Réaffectation\n",
    "* Python : interprétation g$\\leftarrow$d    \n",
    "$\\rightarrow$ Autorise les réaffectations\n",
    "* Types simples    \n",
    "$\\rightarrow$ seule manière de changer une variable   \n",
    "$\\rightarrow$ notion de référence inutile (référence $\\approx$ identifiant)    \n",
    "$\\neq$ mutabilité (en place)"
   ]
  },
  {
   "cell_type": "markdown",
   "metadata": {
    "collapsed": true,
    "slideshow": {
     "slide_type": "subslide"
    }
   },
   "source": [
    "$\\verb\"x=x+1\"$    \n",
    "   * Recherche de la valeur associée à x    \n",
    "   * Calcul\n",
    "   * Réaffectation"
   ]
  },
  {
   "cell_type": "code",
   "execution_count": 11,
   "metadata": {
    "slideshow": {
     "slide_type": "fragment"
    }
   },
   "outputs": [
    {
     "data": {
      "text/plain": [
       "(140621864024896, 140621864024896)"
      ]
     },
     "execution_count": 11,
     "metadata": {},
     "output_type": "execute_result"
    }
   ],
   "source": [
    "x=2\n",
    "y=x\n",
    "id(x),id(y)#référence"
   ]
  },
  {
   "cell_type": "code",
   "execution_count": 12,
   "metadata": {
    "slideshow": {
     "slide_type": "fragment"
    }
   },
   "outputs": [
    {
     "data": {
      "text/plain": [
       "140621864024872"
      ]
     },
     "execution_count": 12,
     "metadata": {},
     "output_type": "execute_result"
    }
   ],
   "source": [
    "x=x+1\n",
    "id(x)#réaffectation -> chgt réf"
   ]
  },
  {
   "cell_type": "code",
   "execution_count": 13,
   "metadata": {
    "slideshow": {
     "slide_type": "fragment"
    }
   },
   "outputs": [
    {
     "data": {
      "text/plain": [
       "(3, 2)"
      ]
     },
     "execution_count": 13,
     "metadata": {},
     "output_type": "execute_result"
    }
   ],
   "source": [
    "x,y"
   ]
  },
  {
   "cell_type": "code",
   "execution_count": 14,
   "metadata": {
    "slideshow": {
     "slide_type": "fragment"
    }
   },
   "outputs": [
    {
     "data": {
      "text/plain": [
       "140621864024896"
      ]
     },
     "execution_count": 14,
     "metadata": {},
     "output_type": "execute_result"
    }
   ],
   "source": [
    "id(y)"
   ]
  },
  {
   "cell_type": "code",
   "execution_count": 15,
   "metadata": {
    "slideshow": {
     "slide_type": "subslide"
    }
   },
   "outputs": [
    {
     "data": {
      "text/plain": [
       "(4438026360, 4438026360)"
      ]
     },
     "execution_count": 15,
     "metadata": {},
     "output_type": "execute_result"
    }
   ],
   "source": [
    "L=[1,9,12]\n",
    "M=L\n",
    "id(M),id(L)"
   ]
  },
  {
   "cell_type": "code",
   "execution_count": 16,
   "metadata": {
    "slideshow": {
     "slide_type": "fragment"
    }
   },
   "outputs": [
    {
     "data": {
      "text/plain": [
       "(4438026360, 4438026360)"
      ]
     },
     "execution_count": 16,
     "metadata": {},
     "output_type": "execute_result"
    }
   ],
   "source": [
    "L.append(7)\n",
    "id(L),id(M)"
   ]
  },
  {
   "cell_type": "code",
   "execution_count": 17,
   "metadata": {
    "slideshow": {
     "slide_type": "fragment"
    }
   },
   "outputs": [
    {
     "data": {
      "text/plain": [
       "([1, 9, 12, 7], [1, 9, 12, 7])"
      ]
     },
     "execution_count": 17,
     "metadata": {},
     "output_type": "execute_result"
    }
   ],
   "source": [
    "L,M"
   ]
  },
  {
   "cell_type": "markdown",
   "metadata": {
    "slideshow": {
     "slide_type": "subslide"
    }
   },
   "source": [
    "#### Typage dynamique"
   ]
  },
  {
   "cell_type": "code",
   "execution_count": 18,
   "metadata": {},
   "outputs": [
    {
     "data": {
      "text/plain": [
       "int"
      ]
     },
     "execution_count": 18,
     "metadata": {},
     "output_type": "execute_result"
    }
   ],
   "source": [
    "x=3\n",
    "type(x)"
   ]
  },
  {
   "cell_type": "code",
   "execution_count": 19,
   "metadata": {
    "slideshow": {
     "slide_type": "fragment"
    }
   },
   "outputs": [
    {
     "data": {
      "text/plain": [
       "float"
      ]
     },
     "execution_count": 19,
     "metadata": {},
     "output_type": "execute_result"
    }
   ],
   "source": [
    "x=x/2.\n",
    "type(x)"
   ]
  },
  {
   "cell_type": "code",
   "execution_count": 20,
   "metadata": {
    "slideshow": {
     "slide_type": "fragment"
    }
   },
   "outputs": [
    {
     "data": {
      "text/plain": [
       "list"
      ]
     },
     "execution_count": 20,
     "metadata": {},
     "output_type": "execute_result"
    }
   ],
   "source": [
    "x=[]\n",
    "type(x)"
   ]
  },
  {
   "cell_type": "markdown",
   "metadata": {
    "slideshow": {
     "slide_type": "subslide"
    }
   },
   "source": [
    "#### Raccourcis\n",
    "* a+=\n",
    "* a-=\n",
    "* a*=\n",
    "* a/=\n",
    "* a%=\n",
    "* a**="
   ]
  },
  {
   "cell_type": "markdown",
   "metadata": {
    "slideshow": {
     "slide_type": "subslide"
    }
   },
   "source": [
    "#### Affectations multiples"
   ]
  },
  {
   "cell_type": "code",
   "execution_count": 21,
   "metadata": {},
   "outputs": [
    {
     "data": {
      "text/plain": [
       "(140621864024920, 140621864024920, 140621864024920)"
      ]
     },
     "execution_count": 21,
     "metadata": {},
     "output_type": "execute_result"
    }
   ],
   "source": [
    "x=y=z=1\n",
    "id(x),id(y),id(z)"
   ]
  },
  {
   "cell_type": "code",
   "execution_count": 22,
   "metadata": {
    "scrolled": true,
    "slideshow": {
     "slide_type": "fragment"
    }
   },
   "outputs": [
    {
     "data": {
      "text/plain": [
       "(1, 2, 3, 140621864024920, 140621864024896, 140621864024872)"
      ]
     },
     "execution_count": 22,
     "metadata": {},
     "output_type": "execute_result"
    }
   ],
   "source": [
    "a,b,c=x,x+1,y+2\n",
    "a,b,c,id(a),id(b),id(c) "
   ]
  },
  {
   "cell_type": "code",
   "execution_count": 15,
   "metadata": {
    "slideshow": {
     "slide_type": "fragment"
    }
   },
   "outputs": [
    {
     "data": {
      "text/plain": [
       "(140503099114432, 140503099114456)"
      ]
     },
     "execution_count": 15,
     "metadata": {},
     "output_type": "execute_result"
    }
   ],
   "source": [
    "a,b=b,a\n",
    "id(a),id(b)"
   ]
  },
  {
   "cell_type": "markdown",
   "metadata": {
    "slideshow": {
     "slide_type": "subslide"
    }
   },
   "source": [
    "#### Affichage et appel\n",
    "* nom variable $\\rightarrow$ renvoi de la valeur\n",
    "* $\\verb\"print\"$ $\\rightarrow$ affichage de la valeur"
   ]
  },
  {
   "cell_type": "code",
   "execution_count": 25,
   "metadata": {
    "slideshow": {
     "slide_type": "fragment"
    }
   },
   "outputs": [
    {
     "name": "stdout",
     "output_type": "stream",
     "text": [
      "4\n"
     ]
    }
   ],
   "source": [
    "x,ch=4,'la vita e bella'\n",
    "print(x)"
   ]
  },
  {
   "cell_type": "markdown",
   "metadata": {
    "slideshow": {
     "slide_type": "fragment"
    }
   },
   "source": [
    "$\\rightarrow$ Ne fonctionne pas encapsulé (fonction)"
   ]
  },
  {
   "cell_type": "code",
   "execution_count": 27,
   "metadata": {
    "slideshow": {
     "slide_type": "fragment"
    }
   },
   "outputs": [
    {
     "name": "stdout",
     "output_type": "stream",
     "text": [
      "(4, 'la vita e bella')\n"
     ]
    }
   ],
   "source": [
    "print(x,ch)#Pas des valeurs !"
   ]
  },
  {
   "cell_type": "code",
   "execution_count": 18,
   "metadata": {
    "collapsed": true,
    "slideshow": {
     "slide_type": "fragment"
    }
   },
   "outputs": [
    {
     "name": "stdout",
     "output_type": "stream",
     "text": [
      "4\n"
     ]
    }
   ],
   "source": [
    "print(x)"
   ]
  },
  {
   "cell_type": "code",
   "execution_count": 28,
   "metadata": {
    "slideshow": {
     "slide_type": "fragment"
    }
   },
   "outputs": [
    {
     "name": "stdout",
     "output_type": "stream",
     "text": [
      "la vita e bella\n"
     ]
    }
   ],
   "source": [
    "print(ch)#Mise en forme"
   ]
  },
  {
   "cell_type": "markdown",
   "metadata": {
    "slideshow": {
     "slide_type": "slide"
    }
   },
   "source": [
    "# FONCTIONS ET ROUTINES"
   ]
  },
  {
   "cell_type": "markdown",
   "metadata": {
    "slideshow": {
     "slide_type": "subslide"
    }
   },
   "source": [
    "* <b> Fonction </b> :renvoie une valeur (<i>unique</i>) \n",
    "* <b> Procédure </b> : effectue une/des action(s)    \n",
    "$\\rightarrow$ Routine (tout), Méthode (routine de classe)"
   ]
  },
  {
   "cell_type": "code",
   "execution_count": 35,
   "metadata": {},
   "outputs": [
    {
     "data": {
      "text/plain": [
       "[1]"
      ]
     },
     "execution_count": 35,
     "metadata": {},
     "output_type": "execute_result"
    }
   ],
   "source": [
    "#Exemples et type Python\n",
    "\n",
    "#L.pop()\n",
    "L"
   ]
  },
  {
   "cell_type": "markdown",
   "metadata": {
    "slideshow": {
     "slide_type": "fragment"
    }
   },
   "source": [
    "* <b>Paramètres</b> : variable $\\rightarrow$ Définition de la routine\n",
    "* <b>Instances</b> : variables effectives $\\rightarrow$ Emploi de la fonction"
   ]
  },
  {
   "cell_type": "markdown",
   "metadata": {
    "slideshow": {
     "slide_type": "fragment"
    }
   },
   "source": [
    "$\\verb\"def nom_fonction(tuple de paramètres):\"$    \n",
    "       $\\verb\"    instructions\"$"
   ]
  },
  {
   "cell_type": "markdown",
   "metadata": {
    "slideshow": {
     "slide_type": "subslide"
    }
   },
   "source": [
    "#### Variables locales/globales\n",
    "\n",
    "* Locales $\\rightarrow$ déclaration dans le corps de la routine\n",
    "* Globales $\\rightarrow$ sans indentation    \n",
    "$\\rightarrow$ On évite leurs identifiants"
   ]
  },
  {
   "cell_type": "code",
   "execution_count": 8,
   "metadata": {
    "slideshow": {
     "slide_type": "fragment"
    }
   },
   "outputs": [
    {
     "data": {
      "text/plain": [
       "(5, 'bonjour')"
      ]
     },
     "execution_count": 8,
     "metadata": {},
     "output_type": "execute_result"
    }
   ],
   "source": [
    "l='bonjour'\n",
    "def ajoute(n):\n",
    "    l=n\n",
    "    return l+2\n",
    "ajoute(3),l"
   ]
  },
  {
   "cell_type": "markdown",
   "metadata": {
    "slideshow": {
     "slide_type": "fragment"
    }
   },
   "source": [
    "$\\rightarrow$ <b>Noms suffisamment longs et explicites</b> !"
   ]
  },
  {
   "cell_type": "markdown",
   "metadata": {
    "slideshow": {
     "slide_type": "subslide"
    }
   },
   "source": [
    "Variables locales     \n",
    "$\\rightarrow$ cessent d'exister en dehors de la fonction"
   ]
  },
  {
   "cell_type": "code",
   "execution_count": 11,
   "metadata": {},
   "outputs": [
    {
     "name": "stdout",
     "output_type": "stream",
     "text": [
      "8\n",
      "3\n"
     ]
    },
    {
     "data": {
      "text/plain": [
       "3"
      ]
     },
     "execution_count": 11,
     "metadata": {},
     "output_type": "execute_result"
    }
   ],
   "source": [
    "def euclide(a,b):\n",
    "    quotient=0\n",
    "    reste=a\n",
    "    while(reste>=b):\n",
    "        quotient+=1\n",
    "        reste-=b\n",
    "        #print(reste)\n",
    "    return reste\n",
    "\n",
    "euclide(13,5)#,reste    "
   ]
  },
  {
   "cell_type": "markdown",
   "metadata": {
    "slideshow": {
     "slide_type": "fragment"
    }
   },
   "source": [
    "Variables globales     \n",
    "$\\rightarrow$ stockées en mémoire    \n",
    "$\\neq$ constantes"
   ]
  },
  {
   "cell_type": "code",
   "execution_count": 42,
   "metadata": {
    "slideshow": {
     "slide_type": "skip"
    }
   },
   "outputs": [
    {
     "data": {
      "text/plain": [
       "True"
      ]
     },
     "execution_count": 42,
     "metadata": {},
     "output_type": "execute_result"
    }
   ],
   "source": [
    "True=False\n",
    "True#Grosse blague !\n",
    "def pair(n):\n",
    "    return n%2==0\n",
    "\n",
    "def mauvais_pair(n):\n",
    "    if n%2==0:\n",
    "        return True\n",
    "    return False\n",
    "mauvais_pair(2),pair(2)"
   ]
  },
  {
   "cell_type": "markdown",
   "metadata": {
    "slideshow": {
     "slide_type": "subslide"
    }
   },
   "source": [
    "#### Intérêt\n",
    "\n",
    "* Eviter la repétition\n",
    "* Ne pas encombrer la mémoire par des variables globales    \n",
    "$\\rightarrow$ Passage en paramètre\n",
    "* Modularité    \n",
    "$\\rightarrow$ sous-routines : tâches délimitées    \n",
    "$\\rightarrow$ Ex : Gauss"
   ]
  },
  {
   "cell_type": "markdown",
   "metadata": {
    "slideshow": {
     "slide_type": "subslide"
    }
   },
   "source": [
    "#### Spécification\n",
    "\n",
    "Ce que fait la routine.\n",
    "* Données : types et hypothèses sur les paramètres\n",
    "* Résultats : ce que fait/renvoie la fonction\n",
    "* Principe ?"
   ]
  },
  {
   "cell_type": "code",
   "execution_count": 24,
   "metadata": {
    "slideshow": {
     "slide_type": "fragment"
    }
   },
   "outputs": [
    {
     "data": {
      "text/plain": [
       "[0, 0, 1, 2, 3, 4, 4, 8, 9]"
      ]
     },
     "execution_count": 24,
     "metadata": {},
     "output_type": "execute_result"
    }
   ],
   "source": [
    "#Données : L liste\n",
    "#Résultats : L triée en place selon le tri bulle \n",
    "def trie(L):#Spécification à corriger (type+mutabilité)\n",
    "    \"\"\"L liste numérique triée par ordre croissant selon la méthode\n",
    "    du tri bulle\"\"\"\n",
    "    n=len(L)\n",
    "    for i in range(n):\n",
    "        for j in range(1,n-i):\n",
    "            if L[j-1]>L[j]:\n",
    "                L[j-1],L[j]=L[j],L[j-1]\n",
    "                \n",
    "L=[1,4,2,8,3,4,0,9,0]\n",
    "trie(L)\n",
    "L"
   ]
  },
  {
   "cell_type": "markdown",
   "metadata": {
    "slideshow": {
     "slide_type": "subslide"
    }
   },
   "source": [
    "#### Typing\n",
    "* Centrale\n",
    "* Python 5"
   ]
  },
  {
   "cell_type": "code",
   "execution_count": 2,
   "metadata": {},
   "outputs": [
    {
     "data": {
      "text/plain": [
       "1.5"
      ]
     },
     "execution_count": 2,
     "metadata": {},
     "output_type": "execute_result"
    }
   ],
   "source": [
    "#import typing\n",
    "\n",
    "def divise(a: int,b: int)-> float :\n",
    "    return a/float(b)\n",
    "divise(3,2)"
   ]
  },
  {
   "cell_type": "markdown",
   "metadata": {
    "slideshow": {
     "slide_type": "slide"
    }
   },
   "source": [
    "# ENTREES ET SORTIES"
   ]
  },
  {
   "cell_type": "markdown",
   "metadata": {
    "slideshow": {
     "slide_type": "subslide"
    }
   },
   "source": [
    "#### Entrées :\n",
    "* Paramètres/Variables $\\rightarrow$ exécution fluide\n",
    "* $\\verb\"input\"$     \n",
    "$\\rightarrow$ interromp l'interprétation    \n",
    "$\\rightarrow$ requiert une chaine de caractères"
   ]
  },
  {
   "cell_type": "code",
   "execution_count": 2,
   "metadata": {
    "slideshow": {
     "slide_type": "fragment"
    }
   },
   "outputs": [
    {
     "name": "stdout",
     "output_type": "stream",
     "text": [
      "Entrez une taille en m1.75\n",
      "Entrez un poids en kg69\n",
      "<type 'float'>\n"
     ]
    },
    {
     "data": {
      "text/plain": [
       "22.53061224489796"
      ]
     },
     "execution_count": 2,
     "metadata": {},
     "output_type": "execute_result"
    }
   ],
   "source": [
    "def imc():\n",
    "    t=input('Entrez une taille en m')\n",
    "    p=input('Entrez un poids en kg')\n",
    "    #print(type(t))\n",
    "    return p/((t)**2)#Ne fonctionne qu'avec Python 2.x\n",
    "\n",
    "imc()"
   ]
  },
  {
   "cell_type": "markdown",
   "metadata": {
    "slideshow": {
     "slide_type": "fragment"
    }
   },
   "source": [
    "<b>A éviter !</b>\n",
    "* Lenteur\n",
    "* Présence nécessaire\n",
    "* Perte des données"
   ]
  },
  {
   "cell_type": "markdown",
   "metadata": {
    "slideshow": {
     "slide_type": "subslide"
    }
   },
   "source": [
    "#### Sorties\n",
    "* $\\verb\"return\"$ en fin de fonction/routine    \n",
    "$\\rightarrow$ renvoie une valeur\n",
    "* $\\verb\"print\"$   \n",
    "$\\rightarrow$ se contente d'un affichage\n",
    "* $\\verb\"pass\"$ ne rien renvoyer et continuer malgré tout"
   ]
  },
  {
   "cell_type": "code",
   "execution_count": 4,
   "metadata": {
    "slideshow": {
     "slide_type": "fragment"
    }
   },
   "outputs": [
    {
     "data": {
      "text/plain": [
       "[1, 5]"
      ]
     },
     "execution_count": 4,
     "metadata": {},
     "output_type": "execute_result"
    }
   ],
   "source": [
    "L=[1,5]\n",
    "#print(L)\n",
    "L"
   ]
  },
  {
   "cell_type": "code",
   "execution_count": 7,
   "metadata": {
    "collapsed": true,
    "slideshow": {
     "slide_type": "subslide"
    }
   },
   "outputs": [
    {
     "ename": "SyntaxError",
     "evalue": "invalid syntax (<ipython-input-7-d34a48b37a40>, line 1)",
     "output_type": "error",
     "traceback": [
      "\u001b[0;36m  File \u001b[0;32m\"<ipython-input-7-d34a48b37a40>\"\u001b[0;36m, line \u001b[0;32m1\u001b[0m\n\u001b[0;31m    type(print(L))\u001b[0m\n\u001b[0m             ^\u001b[0m\n\u001b[0;31mSyntaxError\u001b[0m\u001b[0;31m:\u001b[0m invalid syntax\n"
     ]
    }
   ],
   "source": [
    "type(print(L))\n",
    "#type(L)"
   ]
  },
  {
   "cell_type": "code",
   "execution_count": 5,
   "metadata": {
    "collapsed": true
   },
   "outputs": [],
   "source": [
    "import numpy as np\n",
    "A=np.matrix([[1,1],[0,1]])"
   ]
  },
  {
   "cell_type": "code",
   "execution_count": 6,
   "metadata": {},
   "outputs": [
    {
     "data": {
      "text/plain": [
       "matrix([[1, 1],\n",
       "        [0, 1]])"
      ]
     },
     "execution_count": 6,
     "metadata": {},
     "output_type": "execute_result"
    }
   ],
   "source": [
    "A"
   ]
  },
  {
   "cell_type": "code",
   "execution_count": 7,
   "metadata": {},
   "outputs": [
    {
     "name": "stdout",
     "output_type": "stream",
     "text": [
      "[[1 1]\n",
      " [0 1]]\n"
     ]
    }
   ],
   "source": [
    "print(A)"
   ]
  },
  {
   "cell_type": "markdown",
   "metadata": {
    "collapsed": true
   },
   "source": [
    "$\\rightarrow$ Mise en forme"
   ]
  },
  {
   "cell_type": "markdown",
   "metadata": {
    "collapsed": true,
    "slideshow": {
     "slide_type": "subslide"
    }
   },
   "source": [
    "#### A éviter ... sauf demande d'affichage\n",
    "* Affichage $\\leftrightarrow$ Présence à l'écran\n",
    "* Valeur non mémorisée $\\leftrightarrow$ Perte de données"
   ]
  },
  {
   "cell_type": "code",
   "execution_count": 8,
   "metadata": {
    "collapsed": true
   },
   "outputs": [
    {
     "name": "stdout",
     "output_type": "stream",
     "text": [
      "15.0\n"
     ]
    },
    {
     "ename": "TypeError",
     "evalue": "unsupported operand type(s) for /: 'NoneType' and 'float'",
     "output_type": "error",
     "traceback": [
      "\u001b[0;31m---------------------------------------------------------------------------\u001b[0m",
      "\u001b[0;31mTypeError\u001b[0m                                 Traceback (most recent call last)",
      "\u001b[0;32m<ipython-input-8-e0ed9401a575>\u001b[0m in \u001b[0;36m<module>\u001b[0;34m()\u001b[0m\n\u001b[1;32m      7\u001b[0m \u001b[0;32mdef\u001b[0m \u001b[0mbarfoo\u001b[0m\u001b[0;34m(\u001b[0m\u001b[0mnombre\u001b[0m\u001b[0;34m)\u001b[0m\u001b[0;34m:\u001b[0m\u001b[0;34m\u001b[0m\u001b[0m\n\u001b[1;32m      8\u001b[0m     \u001b[0;32mreturn\u001b[0m \u001b[0mfoo\u001b[0m\u001b[0;34m(\u001b[0m\u001b[0mnombre\u001b[0m\u001b[0;34m)\u001b[0m\u001b[0;34m/\u001b[0m\u001b[0;36m3.\u001b[0m\u001b[0;34m\u001b[0m\u001b[0m\n\u001b[0;32m----> 9\u001b[0;31m \u001b[0mfoobar\u001b[0m\u001b[0;34m(\u001b[0m\u001b[0;36m5.\u001b[0m\u001b[0;34m)\u001b[0m\u001b[0;34m,\u001b[0m\u001b[0mbarfoo\u001b[0m\u001b[0;34m(\u001b[0m\u001b[0;36m5.\u001b[0m\u001b[0;34m)\u001b[0m\u001b[0;34m\u001b[0m\u001b[0m\n\u001b[0m",
      "\u001b[0;32m<ipython-input-8-e0ed9401a575>\u001b[0m in \u001b[0;36mbarfoo\u001b[0;34m(nombre)\u001b[0m\n\u001b[1;32m      6\u001b[0m     \u001b[0;32mreturn\u001b[0m \u001b[0mbar\u001b[0m\u001b[0;34m(\u001b[0m\u001b[0mnombre\u001b[0m\u001b[0;34m)\u001b[0m\u001b[0;34m*\u001b[0m\u001b[0;36m3\u001b[0m\u001b[0;34m\u001b[0m\u001b[0m\n\u001b[1;32m      7\u001b[0m \u001b[0;32mdef\u001b[0m \u001b[0mbarfoo\u001b[0m\u001b[0;34m(\u001b[0m\u001b[0mnombre\u001b[0m\u001b[0;34m)\u001b[0m\u001b[0;34m:\u001b[0m\u001b[0;34m\u001b[0m\u001b[0m\n\u001b[0;32m----> 8\u001b[0;31m     \u001b[0;32mreturn\u001b[0m \u001b[0mfoo\u001b[0m\u001b[0;34m(\u001b[0m\u001b[0mnombre\u001b[0m\u001b[0;34m)\u001b[0m\u001b[0;34m/\u001b[0m\u001b[0;36m3.\u001b[0m\u001b[0;34m\u001b[0m\u001b[0m\n\u001b[0m\u001b[1;32m      9\u001b[0m \u001b[0mfoobar\u001b[0m\u001b[0;34m(\u001b[0m\u001b[0;36m5.\u001b[0m\u001b[0;34m)\u001b[0m\u001b[0;34m,\u001b[0m\u001b[0mbarfoo\u001b[0m\u001b[0;34m(\u001b[0m\u001b[0;36m5.\u001b[0m\u001b[0;34m)\u001b[0m\u001b[0;34m\u001b[0m\u001b[0m\n",
      "\u001b[0;31mTypeError\u001b[0m: unsupported operand type(s) for /: 'NoneType' and 'float'"
     ]
    }
   ],
   "source": [
    "def foo(nombre):\n",
    "    print(nombre*3)\n",
    "def bar(nombre):\n",
    "    return nombre/3.\n",
    "def foobar(nombre):\n",
    "    return bar(nombre)*3\n",
    "def barfoo(nombre):\n",
    "    return foo(nombre)/3.\n",
    "foobar(5.),barfoo(5.)"
   ]
  },
  {
   "cell_type": "markdown",
   "metadata": {
    "slideshow": {
     "slide_type": "slide"
    }
   },
   "source": [
    "# INSTRUCTIONS DE CONTROLE"
   ]
  },
  {
   "cell_type": "markdown",
   "metadata": {
    "slideshow": {
     "slide_type": "subslide"
    }
   },
   "source": [
    "Règles d'indentation :\n",
    "* Séquence instructions $\\leftrightarrow$ même indentation\n",
    "* Instruction de contrôle $\\leftrightarrow$ $\\verb\":\"$\n",
    "* Instructions subordonnées $\\rightarrow$ niveau supérieur\n",
    "* Même indentation que contrôle $\\rightarrow$ fin"
   ]
  },
  {
   "cell_type": "code",
   "execution_count": null,
   "metadata": {
    "collapsed": true,
    "slideshow": {
     "slide_type": "subslide"
    }
   },
   "outputs": [],
   "source": [
    "def foo(n):\n",
    "    if n%2==1:\n",
    "        print(n)\n",
    "        n=2*n\n",
    "    return n"
   ]
  },
  {
   "cell_type": "code",
   "execution_count": 5,
   "metadata": {
    "collapsed": true
   },
   "outputs": [],
   "source": [
    "def bar(n):\n",
    "    if n%2==1:\n",
    "        print(n)\n",
    "    n=2*n\n",
    "    return n"
   ]
  },
  {
   "cell_type": "code",
   "execution_count": 6,
   "metadata": {},
   "outputs": [
    {
     "data": {
      "text/plain": [
       "(2, 4)"
      ]
     },
     "execution_count": 6,
     "metadata": {},
     "output_type": "execute_result"
    }
   ],
   "source": [
    "foo(2),bar(2)"
   ]
  },
  {
   "cell_type": "markdown",
   "metadata": {
    "slideshow": {
     "slide_type": "subslide"
    }
   },
   "source": [
    "* $\\verb\"def\"$ définition\n",
    "* $\\verb\"if..elif..else\"$ instruction conditionnelle\n",
    "* $\\verb\"for\"$ boucle itérative\n",
    "* $\\verb\"while\"$ boucle conditionnelle\n",
    "* $\\verb\"try..except..finally\"$ (HP)\n",
    "* $\\verb\"with..as\"$ (HP)"
   ]
  },
  {
   "cell_type": "markdown",
   "metadata": {
    "slideshow": {
     "slide_type": "slide"
    }
   },
   "source": [
    "# Définition"
   ]
  },
  {
   "cell_type": "code",
   "execution_count": null,
   "metadata": {
    "collapsed": true,
    "slideshow": {
     "slide_type": "subslide"
    }
   },
   "outputs": [],
   "source": [
    "def fonction(tuple):    \n",
    "\t (sequencedinstructions1)"
   ]
  },
  {
   "cell_type": "markdown",
   "metadata": {},
   "source": [
    "* $\\verb\"def\"$ identifiant(tuple):\n",
    "* Nouvel objet     \n",
    "$\\rightarrow$ classe $\\verb\"function\"$"
   ]
  },
  {
   "cell_type": "code",
   "execution_count": 7,
   "metadata": {},
   "outputs": [
    {
     "data": {
      "text/plain": [
       "function"
      ]
     },
     "execution_count": 7,
     "metadata": {},
     "output_type": "execute_result"
    }
   ],
   "source": [
    "type(foo)"
   ]
  },
  {
   "cell_type": "markdown",
   "metadata": {
    "slideshow": {
     "slide_type": "slide"
    }
   },
   "source": [
    "# Instruction conditionnelle\n",
    "    "
   ]
  },
  {
   "cell_type": "code",
   "execution_count": null,
   "metadata": {
    "collapsed": true,
    "slideshow": {
     "slide_type": "subslide"
    }
   },
   "outputs": [],
   "source": [
    "if (booleen1):    \n",
    "\t (sequencedinstructions1)\n",
    "else:\n",
    "\tif (booleen2):\n",
    "\t\t(sequencedinstructions2)\n",
    "\telse:\n",
    "\t\tif (booleen3):\n",
    "\t\t\t(sequencedinstructions3)\n",
    "\t\t\t\t#etc...\n",
    "\t\t\t\t\t\t\telse:\n",
    "\t\t\t\t\t\t\t\t(sequencedinstructionsn)\n"
   ]
  },
  {
   "cell_type": "markdown",
   "metadata": {
    "slideshow": {
     "slide_type": "-"
    }
   },
   "source": [
    "* $\\verb\"if..elif..else..\"$ Si..Alors..Sinon Si..Sinon\n",
    "* $\\verb\"elif\"$ et $\\verb\"else\"$ $\\rightarrow$ facultatif\n",
    "* Mot-clé $\\rightarrow$ booléen $\\verb\":\"$    \n",
    "    * Evalué à $\\verb\"True\"$ $\\rightarrow$ déclence instructions subordonnées"
   ]
  },
  {
   "cell_type": "code",
   "execution_count": null,
   "metadata": {
    "collapsed": true,
    "slideshow": {
     "slide_type": "subslide"
    }
   },
   "outputs": [],
   "source": [
    "if (booleen1):    \n",
    "\t (sequencedinstructions1)\n",
    "elif:\n",
    "\t (sequencedinstructions2)\n",
    "elif:\n",
    "\t(booleen3):\n",
    "\t#etc...\n",
    "else:\n",
    "\t(sequencedinstructionsn)"
   ]
  },
  {
   "cell_type": "markdown",
   "metadata": {
    "slideshow": {
     "slide_type": "fragment"
    }
   },
   "source": [
    "$\\rightarrow$ Plus pratique !"
   ]
  },
  {
   "cell_type": "markdown",
   "metadata": {
    "slideshow": {
     "slide_type": "subslide"
    }
   },
   "source": [
    "<b>Classement par ordre croissant"
   ]
  },
  {
   "cell_type": "code",
   "execution_count": null,
   "metadata": {
    "collapsed": true
   },
   "outputs": [],
   "source": [
    "#Données : trois entiers relatifs a, b et c\n",
    "#Résultat : la liste de ces entiers classés dans l'ordre croissant"
   ]
  },
  {
   "cell_type": "code",
   "execution_count": null,
   "metadata": {
    "collapsed": true,
    "slideshow": {
     "slide_type": "fragment"
    }
   },
   "outputs": [],
   "source": [
    "def classe(a,b,c):\n",
    "    if (a<=b):\n",
    "        if (b<=c):\n",
    "            return [a,b,c]\n",
    "        elif (a<=c):\n",
    "            return [a,c,b]\n",
    "        else:\n",
    "            return [c,a,b]\n",
    "    else:\n",
    "        if (a<=c):\n",
    "            return [b,c,a]\n",
    "        elif (b<=c):\n",
    "            return [b,c,a]\n",
    "        else:\n",
    "            return [c,b,a]"
   ]
  },
  {
   "cell_type": "markdown",
   "metadata": {
    "slideshow": {
     "slide_type": "slide"
    }
   },
   "source": [
    "# Boucle itérative"
   ]
  },
  {
   "cell_type": "code",
   "execution_count": null,
   "metadata": {
    "collapsed": true
   },
   "outputs": [],
   "source": [
    "for elt in iterable:    \n",
    "\t (sequencesdinstructions)"
   ]
  },
  {
   "cell_type": "markdown",
   "metadata": {},
   "source": [
    "* $\\verb\"for\"$ var $\\verb\"in\"$ iterable    \n",
    "$\\rightarrow$ tours de boucle $\\leftrightarrow$ longueur itérable    \n",
    "* Typiquement $\\verb\"range(n)\"$ : itérateur    \n",
    "* Listes, chaines de caractères, tuples, dictionnaires, fichiers"
   ]
  },
  {
   "cell_type": "code",
   "execution_count": 2,
   "metadata": {},
   "outputs": [
    {
     "data": {
      "text/plain": [
       "5"
      ]
     },
     "execution_count": 2,
     "metadata": {},
     "output_type": "execute_result"
    }
   ],
   "source": [
    "compt=0\n",
    "for elt in range(5):#'lapin' [1,8,'e',3,0] (1,9,5,8,9)\n",
    "    compt+=1\n",
    "compt"
   ]
  },
  {
   "cell_type": "markdown",
   "metadata": {
    "slideshow": {
     "slide_type": "subslide"
    }
   },
   "source": [
    "### range"
   ]
  },
  {
   "cell_type": "code",
   "execution_count": 4,
   "metadata": {
    "collapsed": true
   },
   "outputs": [
    {
     "data": {
      "text/plain": [
       "([0, 1, 2, 3, 4], list)"
      ]
     },
     "execution_count": 4,
     "metadata": {},
     "output_type": "execute_result"
    }
   ],
   "source": [
    "a=range(5)\n",
    "a,type(a)#Python 3 : classe range"
   ]
  },
  {
   "cell_type": "code",
   "execution_count": 10,
   "metadata": {
    "slideshow": {
     "slide_type": "fragment"
    }
   },
   "outputs": [
    {
     "data": {
      "text/plain": [
       "([10, 11], [0, 2, 4, 6, 8], [10, 9, 8, 7, 6, 5, 4, 3, 2, 1])"
      ]
     },
     "execution_count": 10,
     "metadata": {},
     "output_type": "execute_result"
    }
   ],
   "source": [
    "range(10,12),range(0,10,2),range(10,0,-1)#,range(10,0),range(10,0,0)"
   ]
  },
  {
   "cell_type": "code",
   "execution_count": null,
   "metadata": {
    "collapsed": true,
    "slideshow": {
     "slide_type": "subslide"
    }
   },
   "outputs": [],
   "source": [
    "#Données : un entier naturel n\n",
    "#Résultat : la factorielle n!\n",
    "def factofor(n):\n",
    "    if (n<0):\n",
    "        raise ValueError('Impossible')\n",
    "    else:\n",
    "        fact=1\n",
    "        for k in range(n):\n",
    "            fact*=(k+1)\n",
    "    return fact"
   ]
  },
  {
   "cell_type": "code",
   "execution_count": 11,
   "metadata": {
    "collapsed": true
   },
   "outputs": [
    {
     "ename": "NameError",
     "evalue": "name 'factofor' is not defined",
     "output_type": "error",
     "traceback": [
      "\u001b[0;31m---------------------------------------------------------------------------\u001b[0m",
      "\u001b[0;31mNameError\u001b[0m                                 Traceback (most recent call last)",
      "\u001b[0;32m<ipython-input-11-5206a5dce7c4>\u001b[0m in \u001b[0;36m<module>\u001b[0;34m()\u001b[0m\n\u001b[1;32m      1\u001b[0m \u001b[0;31m#Test\u001b[0m\u001b[0;34m\u001b[0m\u001b[0;34m\u001b[0m\u001b[0m\n\u001b[0;32m----> 2\u001b[0;31m \u001b[0mfactofor\u001b[0m\u001b[0;34m(\u001b[0m\u001b[0;36m3\u001b[0m\u001b[0;34m)\u001b[0m\u001b[0;34m,\u001b[0m\u001b[0mfactofor\u001b[0m\u001b[0;34m(\u001b[0m\u001b[0;36m0\u001b[0m\u001b[0;34m)\u001b[0m\u001b[0;34m,\u001b[0m\u001b[0mfactofor\u001b[0m\u001b[0;34m(\u001b[0m\u001b[0;34m-\u001b[0m\u001b[0;36m1\u001b[0m\u001b[0;34m)\u001b[0m\u001b[0;34m,\u001b[0m\u001b[0mfactofor\u001b[0m\u001b[0;34m(\u001b[0m\u001b[0;36m1.5\u001b[0m\u001b[0;34m)\u001b[0m\u001b[0;34m\u001b[0m\u001b[0m\n\u001b[0m",
      "\u001b[0;31mNameError\u001b[0m: name 'factofor' is not defined"
     ]
    }
   ],
   "source": [
    "#Test\n",
    "factofor(3),factofor(0)#,factofor(-1),factofor(1.5)"
   ]
  },
  {
   "cell_type": "markdown",
   "metadata": {},
   "source": [
    "$\\rightarrow$ Connaissance du nombre de tours de boucle"
   ]
  },
  {
   "cell_type": "code",
   "execution_count": null,
   "metadata": {
    "collapsed": true,
    "slideshow": {
     "slide_type": "subslide"
    }
   },
   "outputs": [],
   "source": [
    "#Recherche du maximum dans une liste de nombres"
   ]
  },
  {
   "cell_type": "code",
   "execution_count": 27,
   "metadata": {
    "collapsed": true,
    "slideshow": {
     "slide_type": "fragment"
    }
   },
   "outputs": [],
   "source": [
    "def rechmax(L):\n",
    "    a=L[0]\n",
    "    for elt in L:#range(len(L))\n",
    "        if elt>a:\n",
    "            a=elt\n",
    "    return a"
   ]
  },
  {
   "cell_type": "code",
   "execution_count": 28,
   "metadata": {},
   "outputs": [
    {
     "data": {
      "text/plain": [
       "9"
      ]
     },
     "execution_count": 28,
     "metadata": {},
     "output_type": "execute_result"
    }
   ],
   "source": [
    "rechmax([5,8,9])"
   ]
  },
  {
   "cell_type": "code",
   "execution_count": null,
   "metadata": {
    "collapsed": true,
    "slideshow": {
     "slide_type": "subslide"
    }
   },
   "outputs": [],
   "source": [
    "#Données : une liste L de réels (int ou float)\n",
    "#Résultat : une nouvelle liste contenant les éléments de L dans l'ordre inverse\n"
   ]
  },
  {
   "cell_type": "code",
   "execution_count": null,
   "metadata": {
    "collapsed": true,
    "slideshow": {
     "slide_type": "fragment"
    }
   },
   "outputs": [],
   "source": [
    "def renverse1(L):\n",
    "    n=len(liste)\n",
    "    M=[]\n",
    "    for i in range(n):\n",
    "        M.append(liste[n-i-1])\n",
    "    return M"
   ]
  },
  {
   "cell_type": "code",
   "execution_count": null,
   "metadata": {
    "collapsed": true,
    "slideshow": {
     "slide_type": "subslide"
    }
   },
   "outputs": [],
   "source": [
    "def renverse2(liste):\n",
    "    n=len(liste)\n",
    "    M=[]\n",
    "    for i in range(n):\n",
    "        M.append(liste[-1-i])\n",
    "    return M"
   ]
  },
  {
   "cell_type": "code",
   "execution_count": null,
   "metadata": {
    "collapsed": true
   },
   "outputs": [],
   "source": [
    "def renverse3(L):\n",
    "    M=[]\n",
    "    for element in L:\n",
    "        M=[element]+M\n",
    "    return M"
   ]
  },
  {
   "cell_type": "code",
   "execution_count": null,
   "metadata": {
    "collapsed": true,
    "slideshow": {
     "slide_type": "subslide"
    }
   },
   "outputs": [],
   "source": [
    "def renverse5(L):\n",
    "    M=L[:]\n",
    "    return M.reverse()"
   ]
  },
  {
   "cell_type": "code",
   "execution_count": null,
   "metadata": {
    "collapsed": true
   },
   "outputs": [],
   "source": [
    "def renverse6(L):\n",
    "    return L[::-1]"
   ]
  },
  {
   "cell_type": "markdown",
   "metadata": {},
   "source": [
    "$\\rightarrow$ Boucle cachée"
   ]
  },
  {
   "cell_type": "markdown",
   "metadata": {
    "slideshow": {
     "slide_type": "subslide"
    }
   },
   "source": [
    "### Complexité"
   ]
  },
  {
   "cell_type": "markdown",
   "metadata": {},
   "source": [
    "* Boucle sur un itérable de longeur n    \n",
    "$\\rightarrow$ Linéaire : $n$, $O(n)$\n",
    "* 2 boucles imbriquées    \n",
    "$\\rightarrow$ Quadratique $O(n^2)$    \n",
    "... etc..."
   ]
  },
  {
   "cell_type": "markdown",
   "metadata": {
    "slideshow": {
     "slide_type": "subslide"
    }
   },
   "source": [
    "* Tribulle :\n",
    "    * Boucle sur $i\\in [| 0,n-1|]$\n",
    "    * Parcours sous liste $\\verb\"L[:n-i]\" $   \n",
    "        $\\rightarrow$ si $\\verb\"L[j]\" >\\verb\"L[j+1]\"$    \n",
    "        $\\rightarrow$ échange $\\verb\"L[j]\"$ $\\leftrightarrow$ $\\verb\"L[j+1]\"$"
   ]
  },
  {
   "cell_type": "markdown",
   "metadata": {},
   "source": [
    "$\\rightarrow$ Attention aux indices !"
   ]
  },
  {
   "cell_type": "code",
   "execution_count": null,
   "metadata": {
    "collapsed": true,
    "slideshow": {
     "slide_type": "subslide"
    }
   },
   "outputs": [],
   "source": [
    "#Tribulle"
   ]
  },
  {
   "cell_type": "code",
   "execution_count": 39,
   "metadata": {
    "collapsed": true,
    "slideshow": {
     "slide_type": "fragment"
    }
   },
   "outputs": [],
   "source": [
    "def tribulle(L):\n",
    "    \"\"\"trie la liste numérique en place selon la méthode du tri bulle\"\"\"\n",
    "    n=len(L)\n",
    "    for i in range(n-1):\n",
    "        for j in range(n-i-1):\n",
    "            if L[j]>L[j+1]:\n",
    "                L[j],L[j+1]=L[j+1],L[j]"
   ]
  },
  {
   "cell_type": "code",
   "execution_count": 41,
   "metadata": {},
   "outputs": [
    {
     "data": {
      "text/plain": [
       "[2, 3, 4, 7, 8]"
      ]
     },
     "execution_count": 41,
     "metadata": {},
     "output_type": "execute_result"
    }
   ],
   "source": [
    "L=[8,7,3,4,2]\n",
    "tribulle(L)\n",
    "L"
   ]
  },
  {
   "cell_type": "markdown",
   "metadata": {
    "slideshow": {
     "slide_type": "subslide"
    }
   },
   "source": [
    "* Complexité (nombre d'affectations - pire des cas)    \n",
    "    * Boucle interne : $2(n-i-1)$\n",
    "    * Total $\\sum\\limits_{i=0}^{n-2} 2(n-1)-2i=2(n-1)^2-(n-1)(n-2)=(n-1)n=O(n^2)$    \n",
    "$\\rightarrow$ Quadratique"
   ]
  },
  {
   "cell_type": "markdown",
   "metadata": {},
   "source": [
    "* Produit matriciel (matrices carrées)    \n",
    "    * Liste de liste    \n",
    "    * $c_{i,j}=\\sum\\limits_{k=1}^n a_{i,k}b_{k,j}$"
   ]
  },
  {
   "cell_type": "markdown",
   "metadata": {},
   "source": [
    "$\\rightarrow$ Attention à l'initialisation !"
   ]
  },
  {
   "cell_type": "code",
   "execution_count": null,
   "metadata": {
    "collapsed": true,
    "slideshow": {
     "slide_type": "subslide"
    }
   },
   "outputs": [],
   "source": [
    "#Produit matriciel"
   ]
  },
  {
   "cell_type": "code",
   "execution_count": null,
   "metadata": {
    "collapsed": true,
    "slideshow": {
     "slide_type": "subslide"
    }
   },
   "outputs": [],
   "source": [
    "def produit(A,B):\n",
    "    assert len(A[0])==len(B) and len(A)==len(B[0])\n",
    "    n=len(B)\n",
    "    mat=[[0 for i in range(n) ] for j in range(n)]#Quadratique\n",
    "    for i in range(n):\n",
    "        for j in range n:\n",
    "            for k in range(n):\n",
    "                mat[i][j]+=A[i][k]*B[k][j]\n",
    "    return mat"
   ]
  },
  {
   "cell_type": "markdown",
   "metadata": {},
   "source": [
    "$n^2+\\sum\\limits_{i=0}^{n-1}\\sum\\limits_{j=0}^{n-1}\\sum\\limits_{k=0}^{n-1} 2=n^2+\\frac{n(n+1)(2n+1)}{3}=O(n^3)$    \n",
    "$\\rightarrow$ Cubique !    \n",
    "$\\rightarrow$ A exclure !"
   ]
  },
  {
   "cell_type": "markdown",
   "metadata": {
    "slideshow": {
     "slide_type": "subslide"
    }
   },
   "source": [
    "### Interruption"
   ]
  },
  {
   "cell_type": "code",
   "execution_count": 30,
   "metadata": {
    "collapsed": true
   },
   "outputs": [],
   "source": [
    "#Recherche d'un élément dans une liste ou chaine (typage)\n",
    "def recherche(x,iterable):\n",
    "    for elt in iterable:\n",
    "        if elt==x:\n",
    "            return True\n",
    "    return False"
   ]
  },
  {
   "cell_type": "code",
   "execution_count": 33,
   "metadata": {
    "collapsed": true
   },
   "outputs": [
    {
     "data": {
      "text/plain": [
       "True"
      ]
     },
     "execution_count": 33,
     "metadata": {},
     "output_type": "execute_result"
    }
   ],
   "source": [
    "#recherche(5,[1,6,7]),recherche(7,[1,6,7])\n",
    "#recherche('a','lapin')"
   ]
  },
  {
   "cell_type": "markdown",
   "metadata": {
    "slideshow": {
     "slide_type": "subslide"
    }
   },
   "source": [
    "### Autres modifications du comportement"
   ]
  },
  {
   "cell_type": "markdown",
   "metadata": {},
   "source": [
    "* $\\verb\"break\"$ : interromp définitivement\n",
    "* $\\verb\"continue\"$ : passe à l'itération suivante\n",
    "* $\\verb\"pass\"$ : ne fait rien!"
   ]
  },
  {
   "cell_type": "code",
   "execution_count": 76,
   "metadata": {
    "collapsed": true,
    "slideshow": {
     "slide_type": "subslide"
    }
   },
   "outputs": [
    {
     "name": "stdout",
     "output_type": "stream",
     "text": [
      "P\n",
      "y\n",
      "t\n"
     ]
    }
   ],
   "source": [
    "mot='Python'\n",
    "for car in mot:\n",
    "    if car=='h':\n",
    "        break\n",
    "    print(car)"
   ]
  },
  {
   "cell_type": "code",
   "execution_count": 77,
   "metadata": {
    "collapsed": true,
    "slideshow": {
     "slide_type": "subslide"
    }
   },
   "outputs": [
    {
     "name": "stdout",
     "output_type": "stream",
     "text": [
      "P\n",
      "y\n",
      "t\n",
      "o\n",
      "n\n"
     ]
    }
   ],
   "source": [
    "mot='Python'\n",
    "for car in mot:\n",
    "    if car=='h':\n",
    "        continue\n",
    "    print(car)"
   ]
  },
  {
   "cell_type": "code",
   "execution_count": 78,
   "metadata": {
    "collapsed": true,
    "slideshow": {
     "slide_type": "subslide"
    }
   },
   "outputs": [
    {
     "name": "stdout",
     "output_type": "stream",
     "text": [
      "P\n",
      "y\n",
      "t\n",
      "h\n",
      "o\n",
      "n\n"
     ]
    }
   ],
   "source": [
    "mot='Python'\n",
    "for car in mot:\n",
    "    if car=='h':\n",
    "        pass\n",
    "    print(car)"
   ]
  },
  {
   "cell_type": "markdown",
   "metadata": {
    "slideshow": {
     "slide_type": "subslide"
    }
   },
   "source": [
    "* Intérêt : Arret de boucle   \n",
    "$\\rightarrow$ en cas de succès durant les itérations"
   ]
  },
  {
   "cell_type": "code",
   "execution_count": null,
   "metadata": {
    "collapsed": true
   },
   "outputs": [],
   "source": [
    "#Données : un entier naturel n>=2\n",
    "#Résultat : un booléen testant la primalite de n\n",
    "from math import sqrt\n",
    "def premier1(n):\n",
    "    prem=True\n",
    "    for i in range(2,sqrt(n)+1):\n",
    "        if (n%i==0):\n",
    "            prem=False\n",
    "    return prem"
   ]
  },
  {
   "cell_type": "code",
   "execution_count": null,
   "metadata": {
    "collapsed": true,
    "slideshow": {
     "slide_type": "subslide"
    }
   },
   "outputs": [],
   "source": [
    "#Données : un entier naturel n>=2\n",
    "#Résultat : un booléen testant la primalite de n\n",
    "from math import sqrt\n",
    "def premier2(n):\n",
    "    prem=True\n",
    "    for i in range(2,sqrt(n)+1):\n",
    "        if (n%i==0):\n",
    "            prem=False\n",
    "            break\n",
    "    return prem"
   ]
  },
  {
   "cell_type": "code",
   "execution_count": null,
   "metadata": {
    "collapsed": true
   },
   "outputs": [],
   "source": [
    "#Données : un entier naturel n>=2\n",
    "#Résultat : un booléen testant la primalite de n\n",
    "from math import sqrt\n",
    "def premier3(n):\n",
    "    prem=True\n",
    "    i=2\n",
    "        while (i<=sqrt(n)) and prem:\n",
    "        prem=n%i\n",
    "        i=i+1\n",
    "    return bool(prem)"
   ]
  },
  {
   "cell_type": "markdown",
   "metadata": {
    "collapsed": true,
    "slideshow": {
     "slide_type": "slide"
    }
   },
   "source": [
    "# Boucle conditionnelle"
   ]
  },
  {
   "cell_type": "code",
   "execution_count": null,
   "metadata": {
    "collapsed": true
   },
   "outputs": [],
   "source": [
    "while booleen:    \n",
    "\t (sequencesdinstructions)"
   ]
  },
  {
   "cell_type": "markdown",
   "metadata": {
    "collapsed": true
   },
   "source": [
    "* $\\verb\"while\"$ booleen <i>variable</i>    \n",
    "* dépend de la valeur d'un <b>variant</b>    \n",
    "* Sortie de boucle $\\leftrightarrow$ évaluation à $\\verb\"False\"$ $\\leftrightarrow$ Condition d'arrêt/Terminaison   \n",
    "$\\rightarrow$ Possibilité bouclage infini.    \n",
    "$\\rightarrow$ Possibilité de non-bouclage.    "
   ]
  },
  {
   "cell_type": "markdown",
   "metadata": {
    "slideshow": {
     "slide_type": "subslide"
    }
   },
   "source": [
    "### Bonne conception"
   ]
  },
  {
   "cell_type": "code",
   "execution_count": 43,
   "metadata": {
    "collapsed": true,
    "slideshow": {
     "slide_type": "subslide"
    }
   },
   "outputs": [
    {
     "data": {
      "text/plain": [
       "1"
      ]
     },
     "execution_count": 43,
     "metadata": {},
     "output_type": "execute_result"
    }
   ],
   "source": [
    "def inutile(var):\n",
    "    while var==None:\n",
    "        var+=1\n",
    "    return var\n",
    "inutile(1)\n",
    "#Non bouclage"
   ]
  },
  {
   "cell_type": "code",
   "execution_count": null,
   "metadata": {
    "collapsed": true
   },
   "outputs": [],
   "source": [
    "a=0\n",
    "while True:\n",
    "    a+=1\n",
    "#Boucle infinie"
   ]
  },
  {
   "cell_type": "code",
   "execution_count": 45,
   "metadata": {
    "slideshow": {
     "slide_type": "subslide"
    }
   },
   "outputs": [],
   "source": [
    "def factonulle(n):\n",
    "    while(compt!=0):\n",
    "        compt=n\n",
    "        fact=1\n",
    "        fact=fact*compt\n",
    "        compt=compt-1\n",
    "    return fact"
   ]
  },
  {
   "cell_type": "markdown",
   "metadata": {},
   "source": [
    "$\\rightarrow$ Boucle infinie par mauvaise conception"
   ]
  },
  {
   "cell_type": "code",
   "execution_count": null,
   "metadata": {
    "collapsed": true,
    "slideshow": {
     "slide_type": "subslide"
    }
   },
   "outputs": [],
   "source": [
    "def factomoyenne(n):\n",
    "    compt=n\n",
    "    fact=1\n",
    "    while(compt!=0):\n",
    "        fact*=comp\n",
    "        compt-=1\n",
    "    return fact"
   ]
  },
  {
   "cell_type": "code",
   "execution_count": null,
   "metadata": {},
   "outputs": [],
   "source": [
    "factomoyenne(-2)"
   ]
  },
  {
   "cell_type": "markdown",
   "metadata": {
    "slideshow": {
     "slide_type": "fragment"
    }
   },
   "source": [
    "$\\rightarrow$ Nécessité d'une spécification    \n",
    "ou    \n",
    "$\\rightarrow$ Nécessité de lever des exceptions"
   ]
  },
  {
   "cell_type": "code",
   "execution_count": 62,
   "metadata": {
    "slideshow": {
     "slide_type": "subslide"
    }
   },
   "outputs": [],
   "source": [
    "def factocorrect(n):\n",
    "    \"\"\"Calcule itérativement et renvoie la factorielle d'un entier positif n\"\"\"\n",
    "    assert n>=0,'Lisez la specification'#Exception AssertError\n",
    "    compt=n\n",
    "    fact=1\n",
    "    while(compt!=0):\n",
    "        fact*=comp\n",
    "        compt-=1\n",
    "    return fact"
   ]
  },
  {
   "cell_type": "code",
   "execution_count": 63,
   "metadata": {
    "collapsed": true
   },
   "outputs": [
    {
     "ename": "AssertionError",
     "evalue": "Lisez la specification",
     "output_type": "error",
     "traceback": [
      "\u001b[0;31m---------------------------------------------------------------------------\u001b[0m",
      "\u001b[0;31mAssertionError\u001b[0m                            Traceback (most recent call last)",
      "\u001b[0;32m<ipython-input-63-1320e4d88527>\u001b[0m in \u001b[0;36m<module>\u001b[0;34m()\u001b[0m\n\u001b[0;32m----> 1\u001b[0;31m \u001b[0mfactocorrect\u001b[0m\u001b[0;34m(\u001b[0m\u001b[0;34m-\u001b[0m\u001b[0;36m1\u001b[0m\u001b[0;34m)\u001b[0m\u001b[0;34m\u001b[0m\u001b[0m\n\u001b[0m",
      "\u001b[0;32m<ipython-input-62-3e1884124ec3>\u001b[0m in \u001b[0;36mfactocorrect\u001b[0;34m(n)\u001b[0m\n\u001b[1;32m      1\u001b[0m \u001b[0;32mdef\u001b[0m \u001b[0mfactocorrect\u001b[0m\u001b[0;34m(\u001b[0m\u001b[0mn\u001b[0m\u001b[0;34m)\u001b[0m\u001b[0;34m:\u001b[0m\u001b[0;34m\u001b[0m\u001b[0m\n\u001b[1;32m      2\u001b[0m     \u001b[0;34m\"\"\"Calcule itérativement et renvoie la factorielle d'un entier positif n\"\"\"\u001b[0m\u001b[0;34m\u001b[0m\u001b[0m\n\u001b[0;32m----> 3\u001b[0;31m     \u001b[0;32massert\u001b[0m \u001b[0mn\u001b[0m\u001b[0;34m>=\u001b[0m\u001b[0;36m0\u001b[0m\u001b[0;34m,\u001b[0m\u001b[0;34m'Lisez la specification'\u001b[0m\u001b[0;31m#Exception AssertError\u001b[0m\u001b[0;34m\u001b[0m\u001b[0m\n\u001b[0m\u001b[1;32m      4\u001b[0m     \u001b[0mcompt\u001b[0m\u001b[0;34m=\u001b[0m\u001b[0mn\u001b[0m\u001b[0;34m\u001b[0m\u001b[0m\n\u001b[1;32m      5\u001b[0m     \u001b[0mfact\u001b[0m\u001b[0;34m=\u001b[0m\u001b[0;36m1\u001b[0m\u001b[0;34m\u001b[0m\u001b[0m\n",
      "\u001b[0;31mAssertionError\u001b[0m: Lisez la specification"
     ]
    }
   ],
   "source": [
    "factocorrect(-1)"
   ]
  },
  {
   "cell_type": "code",
   "execution_count": 60,
   "metadata": {},
   "outputs": [],
   "source": [
    "def factocorrectbis(n):\n",
    "    if n<0:\n",
    "        raise ValueError('Entrez un entier positif')\n",
    "    compt=n\n",
    "    fact=1\n",
    "    while(compt!=0):\n",
    "        fact*=comp\n",
    "        compt-=1\n",
    "    return fact"
   ]
  },
  {
   "cell_type": "code",
   "execution_count": 61,
   "metadata": {
    "collapsed": true
   },
   "outputs": [
    {
     "ename": "ValueError",
     "evalue": "Entrez un entier positif",
     "output_type": "error",
     "traceback": [
      "\u001b[0;31m---------------------------------------------------------------------------\u001b[0m",
      "\u001b[0;31mValueError\u001b[0m                                Traceback (most recent call last)",
      "\u001b[0;32m<ipython-input-61-3f655494d819>\u001b[0m in \u001b[0;36m<module>\u001b[0;34m()\u001b[0m\n\u001b[0;32m----> 1\u001b[0;31m \u001b[0mfactocorrectbis\u001b[0m\u001b[0;34m(\u001b[0m\u001b[0;34m-\u001b[0m\u001b[0;36m1\u001b[0m\u001b[0;34m)\u001b[0m\u001b[0;34m\u001b[0m\u001b[0m\n\u001b[0m",
      "\u001b[0;32m<ipython-input-60-fe88d2e21efa>\u001b[0m in \u001b[0;36mfactocorrectbis\u001b[0;34m(n)\u001b[0m\n\u001b[1;32m      1\u001b[0m \u001b[0;32mdef\u001b[0m \u001b[0mfactocorrectbis\u001b[0m\u001b[0;34m(\u001b[0m\u001b[0mn\u001b[0m\u001b[0;34m)\u001b[0m\u001b[0;34m:\u001b[0m\u001b[0;34m\u001b[0m\u001b[0m\n\u001b[1;32m      2\u001b[0m     \u001b[0;32mif\u001b[0m \u001b[0mn\u001b[0m\u001b[0;34m<\u001b[0m\u001b[0;36m0\u001b[0m\u001b[0;34m:\u001b[0m\u001b[0;34m\u001b[0m\u001b[0m\n\u001b[0;32m----> 3\u001b[0;31m         \u001b[0;32mraise\u001b[0m \u001b[0mValueError\u001b[0m\u001b[0;34m(\u001b[0m\u001b[0;34m'Entrez un entier positif'\u001b[0m\u001b[0;34m)\u001b[0m\u001b[0;34m\u001b[0m\u001b[0m\n\u001b[0m\u001b[1;32m      4\u001b[0m     \u001b[0mcompt\u001b[0m\u001b[0;34m=\u001b[0m\u001b[0mn\u001b[0m\u001b[0;34m\u001b[0m\u001b[0m\n\u001b[1;32m      5\u001b[0m     \u001b[0mfact\u001b[0m\u001b[0;34m=\u001b[0m\u001b[0;36m1\u001b[0m\u001b[0;34m\u001b[0m\u001b[0m\n",
      "\u001b[0;31mValueError\u001b[0m: Entrez un entier positif"
     ]
    }
   ],
   "source": [
    "factocorrectbis(-1)"
   ]
  },
  {
   "cell_type": "markdown",
   "metadata": {
    "slideshow": {
     "slide_type": "subslide"
    }
   },
   "source": [
    "### Exemples"
   ]
  },
  {
   "cell_type": "code",
   "execution_count": null,
   "metadata": {
    "collapsed": true,
    "slideshow": {
     "slide_type": "subslide"
    }
   },
   "outputs": [],
   "source": [
    "def renverse4(L):\n",
    "    N=[]\n",
    "    while(L):\n",
    "        N.append(L.pop())\n",
    "    return N"
   ]
  },
  {
   "cell_type": "markdown",
   "metadata": {
    "collapsed": true
   },
   "source": [
    "$\\rightarrow$ $\\verb\"[]\"$ évalué à $\\verb\"False\"$ (comme $\\verb\"None\"$ ou 0)      \n",
    "$\\rightarrow$ Liste vidée !"
   ]
  },
  {
   "cell_type": "markdown",
   "metadata": {
    "slideshow": {
     "slide_type": "subslide"
    }
   },
   "source": [
    "#### Recherche dichotomique\n",
    "* Liste triée :\n",
    "    * Tant que la liste n'est pas vide\n",
    "    * On regarde au milieu\n",
    "    * Non trouvé     \n",
    "        $\\rightarrow$ Recherche à droite/gauche"
   ]
  },
  {
   "cell_type": "code",
   "execution_count": null,
   "metadata": {
    "collapsed": true
   },
   "outputs": [],
   "source": [
    "#Recherche dichotomique - Liste triée"
   ]
  },
  {
   "cell_type": "code",
   "execution_count": null,
   "metadata": {
    "collapsed": true,
    "slideshow": {
     "slide_type": "subslide"
    }
   },
   "outputs": [],
   "source": [
    "def dichotomie_liste(L,x):\n",
    "    \"\"\"L triée dans l'ordre croissant, on cherche si x est dans L en renvoyant le booléen correspondant.\"\"\"\n",
    "    i=0\n",
    "    j=len(L)-1\n",
    "    while i<=j:\n",
    "    # Invariant: x nest pas egal a L[k] pour k<i ou k>j\n",
    "    #Variant : j-i\n",
    "        m=(i+j)//2\n",
    "        if L[m]==x:\n",
    "            return True\n",
    "        elif L[m]<x:\n",
    "            i=m+1 \n",
    "        else:\n",
    "            j=m-1\n",
    "    return False"
   ]
  },
  {
   "cell_type": "markdown",
   "metadata": {
    "slideshow": {
     "slide_type": "subslide"
    }
   },
   "source": [
    "* Fonction $f$ sur $[a,b]$ telle que $f(a)f(b)<0$ (TVI):\n",
    "    * Tant que l'intervalle $[c,d]$ est de longueur > $\\epsilon$\n",
    "    * On regarde au milieu $m=\\frac{c+d}{2}$ le signe de $f(m)$\n",
    "    * $f(m)\\neq 0$        \n",
    "        $\\rightarrow$ Recherche $[c,m]$/$[m,d]$"
   ]
  },
  {
   "cell_type": "code",
   "execution_count": null,
   "metadata": {
    "collapsed": true
   },
   "outputs": [],
   "source": [
    "#Recherche dichotomique - Zeros d'une fonction continue"
   ]
  },
  {
   "cell_type": "code",
   "execution_count": 64,
   "metadata": {
    "collapsed": true,
    "slideshow": {
     "slide_type": "subslide"
    }
   },
   "outputs": [],
   "source": [
    "def zero(f,a,b,eps):\n",
    "    \"\"\" f une fonction telle que f(a)*f(b)<=0, alors on renvoie un zero de f a epsilon pres. \"\"\"\n",
    "    assert f(a)*f(b)<=0, \"attention, f(a)f(b)>0\"\n",
    "    c,d=a,b\n",
    "    while d-c>2*eps:\n",
    "        #Invariant: f(a)f(b)<=0\n",
    "        #Variant : b-a\n",
    "        m=(c+d)/2.\n",
    "        val=f(m)\n",
    "        if f(m)==0:\n",
    "            return m\n",
    "        elif f(m)*f(c)<=0:\n",
    "            d=m \n",
    "        else:\n",
    "            c=m\n",
    "    return (c+d)/2"
   ]
  },
  {
   "cell_type": "markdown",
   "metadata": {
    "slideshow": {
     "slide_type": "subslide"
    }
   },
   "source": [
    "### Terminaison de boucle - Variants de boucles"
   ]
  },
  {
   "cell_type": "markdown",
   "metadata": {},
   "source": [
    "* Quantité $v$    \n",
    "* Dépendant du nombre $n$ d'itérations effectuées    \n",
    "$\\rightarrow$ Suite $(v_n)$    \n",
    "* Valeurs entières    \n",
    "* Suite strictement décroissante    \n",
    "$\\rightarrow$ Finitude (descente infinie) !"
   ]
  },
  {
   "cell_type": "markdown",
   "metadata": {
    "slideshow": {
     "slide_type": "fragment"
    }
   },
   "source": [
    "#### Preuve de terminaison\n",
    "* On exhibe $v$ ou $v_n$    \n",
    "* On prouve la décroissance (récurrence)"
   ]
  },
  {
   "cell_type": "markdown",
   "metadata": {
    "slideshow": {
     "slide_type": "subslide"
    }
   },
   "source": [
    "#### Exemple : exponentiation"
   ]
  },
  {
   "cell_type": "code",
   "execution_count": null,
   "metadata": {
    "collapsed": true
   },
   "outputs": [],
   "source": [
    "#Exponentiation naive"
   ]
  },
  {
   "cell_type": "code",
   "execution_count": 69,
   "metadata": {
    "collapsed": true,
    "slideshow": {
     "slide_type": "subslide"
    }
   },
   "outputs": [
    {
     "data": {
      "text/plain": [
       "1024"
      ]
     },
     "execution_count": 69,
     "metadata": {},
     "output_type": "execute_result"
    }
   ],
   "source": [
    "def expo1(a,n):\n",
    "    puis=1\n",
    "    compt=n\n",
    "    while (compt>0):\n",
    "        puis*=a\n",
    "        compt-=1\n",
    "    return puis\n",
    "\n",
    "expo1(2,10)"
   ]
  },
  {
   "cell_type": "markdown",
   "metadata": {},
   "source": [
    "Evolution des variables\n",
    "\n",
    "|  Itération |0 |1|2| ... |n-1|n|                \n",
    "|---|---|                                \n",
    "|  compt | n  |n-1|n-2|...|1|0|\n",
    "|  puis | 1|$a$|$a^2$ |...|$a^{n-1}$|$a^n$|\n",
    "\n",
    "La suite des valeurs prises par $\\verb\"compt\"$ est strictement décroissante"
   ]
  },
  {
   "cell_type": "markdown",
   "metadata": {
    "slideshow": {
     "slide_type": "subslide"
    }
   },
   "source": [
    "#### Exemple : pgcd"
   ]
  },
  {
   "cell_type": "code",
   "execution_count": null,
   "metadata": {
    "collapsed": true
   },
   "outputs": [],
   "source": [
    "#PGCD par divisions euclidiennes successives"
   ]
  },
  {
   "cell_type": "code",
   "execution_count": 72,
   "metadata": {
    "collapsed": true,
    "slideshow": {
     "slide_type": "subslide"
    }
   },
   "outputs": [],
   "source": [
    "def pgcd(a,b):\n",
    "    quo=max(a,b)\n",
    "    reste=min(a,b)\n",
    "    while(reste>0):\n",
    "        quo,reste=reste,quo%reste\n",
    "    return quo"
   ]
  },
  {
   "cell_type": "code",
   "execution_count": 73,
   "metadata": {
    "collapsed": true
   },
   "outputs": [
    {
     "data": {
      "text/plain": [
       "15"
      ]
     },
     "execution_count": 73,
     "metadata": {},
     "output_type": "execute_result"
    }
   ],
   "source": [
    "pgcd(45,105)"
   ]
  },
  {
   "cell_type": "markdown",
   "metadata": {
    "slideshow": {
     "slide_type": "subslide"
    }
   },
   "source": [
    "* Variant de boucle : $\\verb\"reste\"$    \n",
    "$\\rightarrow$ Terminaison prouvée    \n",
    "$\\rightarrow$ Figure dans la condition booléenne"
   ]
  },
  {
   "cell_type": "markdown",
   "metadata": {
    "slideshow": {
     "slide_type": "subslide"
    }
   },
   "source": [
    "### Correction de boucles - Invariants de boucles"
   ]
  },
  {
   "cell_type": "markdown",
   "metadata": {
    "slideshow": {
     "slide_type": "-"
    }
   },
   "source": [
    "* Quantité constante au cours des itérations.    \n",
    "$\\rightarrow$ propriété toujours vraie    \n",
    "$\\rightarrow$ preuve par récurrence (suite constante)\n",
    "* Liée aux variables de la boucle.\n",
    "* Garantit le résultat en sortie"
   ]
  },
  {
   "cell_type": "markdown",
   "metadata": {
    "slideshow": {
     "slide_type": "subslide"
    }
   },
   "source": [
    "#### Exemple : exponentiation"
   ]
  },
  {
   "cell_type": "markdown",
   "metadata": {},
   "source": [
    "* Invariant : $\\verb\"puis\".a^{\\verb\"compt\"}$ vaut $a^n$\n",
    "* Preuve : $H(p)$: après la $p$ième itération $\\verb\"puis\"_p.a^{\\verb\"compt\"_p}=a^n$    \n",
    "    * $\\verb\"puis\"_0.a^{\\verb\"compt\"_0}=1.a^n$ : $H(0)$ vraie\n",
    "    * Supposons $H(p)$ vraie et qu'une $p+1$ième itération a lieu.    \n",
    "    $\\verb\"puis\"_{p+1}.a^{\\verb\"compt\"_{p+1}}=(a.\\verb\"puis\"_{p})a{\\verb\"compt\"_{p}-1}=\\verb\"puis\"_p.a^{\\verb\"compt\"_p}=a^n$\n",
    "* Récurrence finie\n",
    "* Sortie de boucle : $\\verb\"compt\"=0$, donc $a^n=\\verb\"puis\".a^0=\\verb\"puis\"$    \n",
    "$\\rightarrow$ Correction $\\leftrightarrow$ respect spécification"
   ]
  },
  {
   "cell_type": "markdown",
   "metadata": {},
   "source": [
    "#### Exemple : pgcd"
   ]
  },
  {
   "cell_type": "markdown",
   "metadata": {},
   "source": [
    "* Invariant : ${\\rm pgcd}(\\verb\"quo\",\\verb\"reste\")$ vaut ${\\rm pgcd}(a,b)$\n",
    "* Preuve : $H(p)$: après la $p$ième itération ${\\rm pgcd}(\\verb\"quo\"_p,\\verb\"reste\"_p)= {\\rm pgcd}(a,b)$    \n",
    "    * $H(0)$ vraie\n",
    "    * Supposons $H(p)$ vraie et qu'une $p+1$ième itération a lieu.    \n",
    "    Notons $r_p$ le reste de la divison euclidienne de $\\verb\"quo_p\"$ par $reste_{p}\"$\n",
    "    ${\\rm pgcd}(\\verb\"quo\"_{p+1},\\verb\"reste\"_{p+1})={\\rm pgcd}(\\verb\"reste\"_{p},r_p)={\\rm pgcd}(\\verb\"quo\"_p,\\verb\"reste\"_p)={\\rm pgcd}(a,b)$    \n",
    "    par propriété.\n",
    "* Récurrence finie\n",
    "* Sortie de boucle : $\\verb\"reste\"=0$, donc ${\\rm pgcd}(a,b)={\\rm pgcd}(\\verb\"quo\",0)=\\verb\"quo\"$    \n",
    "$\\rightarrow$ Correction $\\leftrightarrow$ respect spécification"
   ]
  },
  {
   "cell_type": "markdown",
   "metadata": {
    "slideshow": {
     "slide_type": "subslide"
    }
   },
   "source": [
    "#### Exercice"
   ]
  },
  {
   "cell_type": "code",
   "execution_count": null,
   "metadata": {
    "collapsed": true
   },
   "outputs": [],
   "source": [
    "def mystere(x):\n",
    "    \"\"\"x est un paramètre réel>1 et le fonction renvoie ...\"\"\"\n",
    "    while(x>1):\n",
    "        x=x/float(2)\n",
    "    return x"
   ]
  },
  {
   "cell_type": "markdown",
   "metadata": {},
   "source": [
    "* Correction\n",
    "* Terminaison"
   ]
  },
  {
   "cell_type": "markdown",
   "metadata": {
    "slideshow": {
     "slide_type": "subslide"
    }
   },
   "source": [
    "# Comparaison While-For"
   ]
  },
  {
   "cell_type": "markdown",
   "metadata": {},
   "source": [
    "* Nombre d'itération : connu v.s. conditionné\n",
    "* For par while    \n",
    "$\\rightarrow$ compteur !"
   ]
  },
  {
   "cell_type": "code",
   "execution_count": null,
   "metadata": {
    "collapsed": true
   },
   "outputs": [],
   "source": [
    "for i in range(n):\n",
    "    instructions\n",
    "for i in iterable:#de longueur n\n",
    "    instructions"
   ]
  },
  {
   "cell_type": "code",
   "execution_count": null,
   "metadata": {
    "collapsed": true
   },
   "outputs": [],
   "source": [
    "compt=0\n",
    "while compt<=n-1:\n",
    "    instructions"
   ]
  },
  {
   "cell_type": "markdown",
   "metadata": {},
   "source": [
    "$\\rightarrow$ Equivalent !"
   ]
  },
  {
   "cell_type": "markdown",
   "metadata": {
    "slideshow": {
     "slide_type": "subslide"
    }
   },
   "source": [
    "# TODO : Complexité"
   ]
  },
  {
   "cell_type": "code",
   "execution_count": null,
   "metadata": {
    "collapsed": true
   },
   "outputs": [],
   "source": []
  }
 ],
 "metadata": {
  "celltoolbar": "Slideshow",
  "kernelspec": {
   "display_name": "Python [conda root]",
   "language": "python",
   "name": "conda-root-py"
  },
  "language_info": {
   "codemirror_mode": {
    "name": "ipython",
    "version": 2
   },
   "file_extension": ".py",
   "mimetype": "text/x-python",
   "name": "python",
   "nbconvert_exporter": "python",
   "pygments_lexer": "ipython2",
   "version": "2.7.13"
  }
 },
 "nbformat": 4,
 "nbformat_minor": 2
}
