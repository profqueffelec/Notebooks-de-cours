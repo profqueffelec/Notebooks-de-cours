{
 "cells": [
  {
   "cell_type": "markdown",
   "metadata": {
    "slideshow": {
     "slide_type": "slide"
    }
   },
   "source": [
    "\n",
    "\n",
    "<CENTER>\n",
    "<div style=width:500px;border-radius:10px;height:220px;background-color:#ffcccc;text-align:center;vertical-align:middle;>\n",
    "\n",
    "<font size=14, font color=navy>     \n",
    "<font size=14, font color=navy>Piles\n",
    "\n",
    "</div>\n",
    "</CENTER>"
   ]
  },
  {
   "cell_type": "markdown",
   "metadata": {
    "slideshow": {
     "slide_type": "slide"
    }
   },
   "source": [
    "# TYPE PILE"
   ]
  },
  {
   "cell_type": "markdown",
   "metadata": {
    "slideshow": {
     "slide_type": "subslide"
    }
   },
   "source": [
    "* Structure de données composée\n",
    "* LIFO (<i>Last In First Out</i>)   \n",
    "$\\rightarrow$ dernier élément inséré $\\leftrightarrow$ unique retirable"
   ]
  },
  {
   "cell_type": "code",
   "execution_count": 4,
   "metadata": {
    "slideshow": {
     "slide_type": "fragment"
    }
   },
   "outputs": [
    {
     "data": {
      "image/jpeg": "[encoded data removed]",
      "text/plain": [
       "<IPython.core.display.Image object>"
      ]
     },
     "metadata": {},
     "output_type": "display_data"
    }
   ],
   "source": [
    "from IPython.display import Image,display\n",
    "i = Image(filename='figurepile.jpg')\n",
    "display(i)"
   ]
  },
  {
   "cell_type": "markdown",
   "metadata": {
    "slideshow": {
     "slide_type": "subslide"
    }
   },
   "source": [
    "* Structure de données composée\n",
    "* LIFO (<i>Last In First Out</i>)   \n",
    "$\\rightarrow$   dernier élément inséré $\\leftrightarrow$  unique retirable"
   ]
  },
  {
   "cell_type": "code",
   "execution_count": 6,
   "metadata": {
    "slideshow": {
     "slide_type": "fragment"
    }
   },
   "outputs": [
    {
     "data": {
      "image/jpeg": "[encoded data removed]",
      "text/plain": [
       "<IPython.core.display.Image object>"
      ]
     },
     "metadata": {},
     "output_type": "display_data"
    }
   ],
   "source": [
    "from IPython.display import Image,display\n",
    "i = Image(filename='figurepilebis.jpg')\n",
    "display(i)"
   ]
  },
  {
   "cell_type": "markdown",
   "metadata": {
    "slideshow": {
     "slide_type": "subslide"
    }
   },
   "source": [
    "### Définition : Pile (<i>Stack</i>)"
   ]
  },
  {
   "cell_type": "markdown",
   "metadata": {},
   "source": [
    "Structure de données abstraite munie des opérations (<i>primitives</i>) :\n",
    "* $\\verb\"creer_pile\"$  : construire une pile vide (<i>create</i>).\n",
    "* $\\verb\"empiler\"$  : empiler un élément dans une pile (<i>push</i>).\n",
    "* $\\verb\"depiler\"$  : dépiler et renvoyer le dernier élément empilé dans une pile non vide (<i>pop</i>).\n",
    "* $\\verb\"est_vide\"$  : tester si une pile est ou non vide (<i>is empty</i>)."
   ]
  },
  {
   "cell_type": "markdown",
   "metadata": {
    "slideshow": {
     "slide_type": "fragment"
    }
   },
   "source": [
    "<b>Piles bornées :</b> taille maximale fixée (cas concrets):\n",
    "* $\\verb\"etre_pleine\"$  : renvoie le booléen correspondant."
   ]
  },
  {
   "cell_type": "markdown",
   "metadata": {
    "slideshow": {
     "slide_type": "subslide"
    }
   },
   "source": [
    "#### Autres opérations éventuelles (HP)\n",
    "* $\\verb\"afficher\"$ : affiche la pile (<i>print</i>).\n",
    "* $\\verb\"renvoyer\"$ : renvoie la pile (<i>return</i>).\n",
    "* $\\verb\"taille\"$ : renvoie le nombre d'éléments de la pile (<i>size</i>).\n",
    "* $\\verb\"sommet\"$ : renvoie le dernier élément de la pile (<i>peek</i>).\n",
    "* $\\verb\"supprimer_sommet\"$ : renvoyer la pile privée de son dernier élément.\n",
    "* $\\verb\"vider\"$ : dépiler tous les éléments (<i>clear</i>)."
   ]
  },
  {
   "cell_type": "markdown",
   "metadata": {
    "slideshow": {
     "slide_type": "subslide"
    }
   },
   "source": [
    "#### Exemples d'emploi (vie courante)\n",
    "* Historique des pages - navigateur web\n",
    "* Edition - traitement de texte\n",
    "* Pile d'appels - fonction récursive\n",
    "* Tset de parenthésage d'expression arithmétique"
   ]
  },
  {
   "cell_type": "markdown",
   "metadata": {
    "slideshow": {
     "slide_type": "slide"
    }
   },
   "source": [
    "# IMPLEMENTATIONS"
   ]
  },
  {
   "cell_type": "markdown",
   "metadata": {
    "slideshow": {
     "slide_type": "subslide"
    }
   },
   "source": [
    "#### Précaution\n",
    "\n",
    "* Choix de représentation $\\rightarrow$ objet (parfois) existant\n",
    "* Respect de la spécification du type  \n",
    "$\\rightarrow$ Utiliser <b>uniquement</b> les primitives de piles"
   ]
  },
  {
   "cell_type": "markdown",
   "metadata": {
    "slideshow": {
     "slide_type": "subslide"
    }
   },
   "source": [
    "### Piles non bornées par les listes"
   ]
  },
  {
   "cell_type": "code",
   "execution_count": 8,
   "metadata": {
    "collapsed": true
   },
   "outputs": [],
   "source": [
    "#creer_pile\n",
    "def creer_pile():\n",
    "    return []\n",
    "#empiler\n",
    "def empiler(a,p):\n",
    "    p.append(a)\n",
    "#depiler\n",
    "def depiler(p):\n",
    "    assert (not est_vide(p))\n",
    "    return p.pop()\n",
    "#est_vide\n",
    "def est_vide(p):\n",
    "    return p==[]"
   ]
  },
  {
   "cell_type": "code",
   "execution_count": 27,
   "metadata": {
    "collapsed": true,
    "slideshow": {
     "slide_type": "subslide"
    }
   },
   "outputs": [],
   "source": [
    "#Les 4 opérations fondamentales (primitives)\n",
    "def creerpile():\n",
    "    return []\n",
    "\n",
    "def estvide(P):\n",
    "    return len(P)==0\n",
    "   \n",
    "def empiler(x,P):\n",
    "    P.append(x)\n",
    "    \n",
    "def depiler(P):\n",
    "    assert len(P)>0\n",
    "    return P.pop()"
   ]
  },
  {
   "cell_type": "code",
   "execution_count": null,
   "metadata": {
    "collapsed": true,
    "slideshow": {
     "slide_type": "subslide"
    }
   },
   "outputs": [],
   "source": [
    "#D'autres opérations\n",
    "def sommet(P):\n",
    "    assert len(P)>0\n",
    "    return P[-1]    \n",
    "\n",
    "def taille(P):\n",
    "    return len(P)\n",
    "    \n",
    "def suppimersommet(P):\n",
    "    assert len(P)>0\n",
    "    return P[:-1]"
   ]
  },
  {
   "cell_type": "code",
   "execution_count": 12,
   "metadata": {
    "slideshow": {
     "slide_type": "subslide"
    }
   },
   "outputs": [
    {
     "data": {
      "text/plain": [
       "(3, [1])"
      ]
     },
     "execution_count": 12,
     "metadata": {},
     "output_type": "execute_result"
    }
   ],
   "source": [
    "#EMPLOI\n",
    "p=creer_pile()\n",
    "empiler(1,p)\n",
    "empiler(3,p)\n",
    "p\n",
    "depiler(p),p"
   ]
  },
  {
   "cell_type": "markdown",
   "metadata": {
    "slideshow": {
     "slide_type": "subslide"
    }
   },
   "source": [
    "### Piles à capacité finie\n",
    "\n",
    "* Capacité $n$ ($n=1000$ en Python)\n",
    "* Listes :\n",
    "    * Element d'indice $0$ : taille\n",
    "    * Suivants : éléments de la pile empilés à droite"
   ]
  },
  {
   "cell_type": "code",
   "execution_count": 7,
   "metadata": {},
   "outputs": [
    {
     "data": {
      "image/jpeg": "[encoded data removed]",
      "text/plain": [
       "<IPython.core.display.Image object>"
      ]
     },
     "metadata": {},
     "output_type": "display_data"
    }
   ],
   "source": [
    "from IPython.display import Image,display\n",
    "i = Image(filename='figurepilefinie.jpg')\n",
    "display(i)"
   ]
  },
  {
   "cell_type": "code",
   "execution_count": null,
   "metadata": {
    "collapsed": true,
    "slideshow": {
     "slide_type": "subslide"
    }
   },
   "outputs": [],
   "source": [
    "#creer_pile\n",
    "#empiler\n",
    "#depiler\n",
    "#est_vide"
   ]
  },
  {
   "cell_type": "code",
   "execution_count": null,
   "metadata": {
    "collapsed": true,
    "slideshow": {
     "slide_type": "subslide"
    }
   },
   "outputs": [],
   "source": [
    "def creerpile(n):\n",
    "#On crée une pile pouvant contenir au plus n éléments\n",
    "    p=[None]*(n+1)\n",
    "    p[0]=0\n",
    "#On indique que la pile contient 0 éléments\n",
    "    return p\n",
    "    \n",
    "def empiler(x,P):\n",
    "    taille=P[0]\n",
    "    assert taille<len(P)-1\n",
    "#On vérifie que la pile n'est pas pleine\n",
    "    P[taille+1]=x\n",
    "    P[0]=taille+1\n",
    "\n",
    "def depiler(P):\n",
    "    taille=P[0]\n",
    "    assert taille>0\n",
    "#On vérifie que la pile n'est pas vide\n",
    "    sommet=P[taille]\n",
    "    P[taille]=None\n",
    "    P[0]=taille-1\n",
    "    return sommet\n",
    "    \n",
    "def estvide(P):\n",
    "    return P[0]==0"
   ]
  },
  {
   "cell_type": "code",
   "execution_count": null,
   "metadata": {
    "collapsed": true,
    "slideshow": {
     "slide_type": "subslide"
    }
   },
   "outputs": [],
   "source": [
    "#EMPLOI"
   ]
  },
  {
   "cell_type": "markdown",
   "metadata": {
    "slideshow": {
     "slide_type": "subslide"
    }
   },
   "source": [
    "### Classe Pile non bornée"
   ]
  },
  {
   "cell_type": "code",
   "execution_count": 13,
   "metadata": {
    "collapsed": true
   },
   "outputs": [],
   "source": [
    "class Pile:\n",
    "    def __init__(self):\n",
    "        self._pile = []\n",
    "        \n",
    "    def empiler(self,x):\n",
    "        self._pile.append(x)\n",
    "        \n",
    "    def estvide(self):\n",
    "        return self._pile==[]\n",
    "        \n",
    "    def depiler(self):\n",
    "        if self.estvide():\n",
    "            raise ValueError (\"La pile est vide\")\n",
    "        else:\n",
    "            return self._pile.pop()"
   ]
  },
  {
   "cell_type": "code",
   "execution_count": 26,
   "metadata": {
    "slideshow": {
     "slide_type": "subslide"
    }
   },
   "outputs": [
    {
     "data": {
      "text/plain": [
       "True"
      ]
     },
     "execution_count": 26,
     "metadata": {},
     "output_type": "execute_result"
    }
   ],
   "source": [
    "#P1=Pile()\n",
    "#P1.estvide()\n",
    "#P1.empiler(1)\n",
    "#P1.empiler(2)\n",
    "#P1.depiler()\n",
    "#print(P1)#ne donne pas d'affichage\n",
    "#P1._pile#il faut employer l'attribut pile\n",
    "#P1.estvide()\n",
    "#P1.depiler()\n",
    "#P1.depiler()\n",
    "#P1._pile\n",
    "P1.estvide()"
   ]
  },
  {
   "cell_type": "markdown",
   "metadata": {
    "slideshow": {
     "slide_type": "slide"
    }
   },
   "source": [
    "# APPLICATIONS"
   ]
  },
  {
   "cell_type": "markdown",
   "metadata": {
    "slideshow": {
     "slide_type": "subslide"
    }
   },
   "source": [
    "### Notation polonaise inversée"
   ]
  },
  {
   "cell_type": "markdown",
   "metadata": {
    "slideshow": {
     "slide_type": "subslide"
    }
   },
   "source": [
    "* NPI $\\leftrightarrow$ RPN $\\leftrightarrow$ Notation postfixe\n",
    "* Ecriture d'une expression arithmétique    \n",
    "$\\rightarrow$ $+,\\; -,\\; \\times,\\; /$    \n",
    "$\\rightarrow$ Sans ambiguité    \n",
    "$\\rightarrow$ Sans parenthèse"
   ]
  },
  {
   "cell_type": "markdown",
   "metadata": {
    "slideshow": {
     "slide_type": "subslide"
    }
   },
   "source": [
    "#### Principe\n",
    "\n",
    "* Notation infixe (habituelle) :   \n",
    "$\\rightarrow$ opérateur <b>entre</b> les deux opérandes.\n",
    "* Notation postfixe (NPI) :    \n",
    "$\\rightarrow$ opérateur <b>après</b> les deux opérandes.\n",
    "\n",
    "$$\n",
    "\\begin{array}{l|cccc|c}\n",
    "{\\bf Opération}&3\\;+\\;4&3\\;-\\;4&3\\;*\\;4&3\\;/\\;4&3\\;op\\; 4    \\\\\n",
    "{\\bf NPI}&3\\;4\\;+&3\\;4\\;-&3\\;4\\;*&3\\;4\\;/&3\\;4\\;op\n",
    "\\end{array}\n",
    "$$"
   ]
  },
  {
   "cell_type": "markdown",
   "metadata": {
    "slideshow": {
     "slide_type": "subslide"
    }
   },
   "source": [
    "#### Lecture\n",
    "\n",
    "* NPI : sens de lecture (g$\\rightarrow$d) impose la priorité\n",
    "* Enchaînement de calculs :\n",
    "    * Nombre $\\rightarrow$ on continue la lecture\n",
    "    * Opérateur    \n",
    "    $\\rightarrow$ on cherche les deux nombre précédents   \n",
    "    $\\rightarrow$ on effectue l'opération   \n",
    "    $\\rightarrow$ on remplace le dernier nombre par le résultat"
   ]
  },
  {
   "cell_type": "markdown",
   "metadata": {
    "slideshow": {
     "slide_type": "fragment"
    }
   },
   "source": [
    "##### Exemple \n",
    "$1\\;2\\;3\\;+\\;-\\;4\\;*\\;5\\;/\\;$"
   ]
  },
  {
   "cell_type": "markdown",
   "metadata": {
    "slideshow": {
     "slide_type": "subslide"
    }
   },
   "source": [
    "#### Transcription"
   ]
  },
  {
   "cell_type": "markdown",
   "metadata": {},
   "source": [
    "* A gauche : calcul le plus prioritaire.\n",
    "* Même priorité $\\rightarrow$ choix\n",
    "* Groupes d'opérations $\\rightarrow$ NPI séparée"
   ]
  },
  {
   "cell_type": "markdown",
   "metadata": {
    "slideshow": {
     "slide_type": "fragment"
    }
   },
   "source": [
    "##### Exemple \n",
    "$(3+4)*5+6+7*(8+3*(2+1))$ dans laquelle les calculs $(3+4)$ et $(2+1)$ ont même priorité. "
   ]
  },
  {
   "cell_type": "markdown",
   "metadata": {
    "slideshow": {
     "slide_type": "fragment"
    }
   },
   "source": [
    "* $3\\; 4\\; +\\; 5\\; *\\; 6 \\; +\\; 2\\; 1\\; +\\; 3\\; *\\; 8\\; +\\; 7\\; * \\; +$\n",
    "* $ 2\\; 1\\; +\\; 3\\; *\\; 8\\; +\\; 7\\; *\\; 6\\; +\\; 3\\; 4\\; +\\; 5\\; * \\; +$\n",
    "* $7\\; 8\\; 3\\; 2\\; 1\\; +\\; *\\; +\\; *\\; 6\\; +\\; 3\\; 4\\; +\\; 5\\; * \\; +$"
   ]
  },
  {
   "cell_type": "markdown",
   "metadata": {
    "slideshow": {
     "slide_type": "subslide"
    }
   },
   "source": [
    "#### Evaluation"
   ]
  },
  {
   "cell_type": "code",
   "execution_count": 28,
   "metadata": {},
   "outputs": [
    {
     "data": {
      "text/html": [
       "<iframe src=http://www.alcula.com/calculators/rpn/ width=340 height=470></iframe>"
      ],
      "text/plain": [
       "<IPython.core.display.HTML object>"
      ]
     },
     "execution_count": 28,
     "metadata": {},
     "output_type": "execute_result"
    }
   ],
   "source": [
    "from IPython.display import HTML\n",
    "HTML('<iframe src=http://www.alcula.com/calculators/rpn/ width=340 height=470></iframe>')"
   ]
  },
  {
   "cell_type": "markdown",
   "metadata": {},
   "source": [
    "$3\\; 4\\; +\\; 5\\; *\\; 6 \\; +\\; 2\\; 1\\; +\\; 3\\; *\\; 8\\; +\\; 7\\; * \\; +$"
   ]
  },
  {
   "cell_type": "markdown",
   "metadata": {
    "slideshow": {
     "slide_type": "subslide"
    }
   },
   "source": [
    "* Même principe que la lecture $\\rightarrow$ évaluation directe\n",
    "* Pile d'évaluation :\n",
    "    * Début : pile vide\n",
    "    * Opérande (nombre $n$) $\\rightarrow$ empilage\n",
    "    * Opérateur $\\dagger$   \n",
    "    $\\rightarrow$ dépilage $n_1$      \n",
    "    $\\rightarrow$ dépilage $n_2$\n",
    "    $\\rightarrow$ empilage $n_1\\; \\dagger\\; n_2$\n",
    "* Fin expression : pile de taille $1$    \n",
    "$\\rightarrow$ on renvoie le sommet (unique)"
   ]
  },
  {
   "cell_type": "markdown",
   "metadata": {
    "slideshow": {
     "slide_type": "subslide"
    }
   },
   "source": [
    "#### Exemple\n",
    "\n",
    "NPI $3\\;4\\;+\\;5\\;*\\;6\\;+\\;2\\; 1\\; +\\; 3\\; *\\; 8\\; +\\; 7\\; *\\;+$"
   ]
  },
  {
   "cell_type": "code",
   "execution_count": 14,
   "metadata": {},
   "outputs": [
    {
     "data": {
      "image/png": "[encoded data removed]",
      "text/plain": [
       "<IPython.core.display.Image object>"
      ]
     },
     "metadata": {},
     "output_type": "display_data"
    }
   ],
   "source": [
    "from IPython.display import Image,display\n",
    "i = Image(filename='figureexpile.png')\n",
    "display(i)"
   ]
  },
  {
   "cell_type": "code",
   "execution_count": 31,
   "metadata": {
    "collapsed": true,
    "slideshow": {
     "slide_type": "subslide"
    }
   },
   "outputs": [],
   "source": [
    "def evaluationNPI(expr):\n",
    "    p=creerpile()\n",
    "    for element in expr:\n",
    "        if (not type(element)==str):\n",
    "            empiler(element,p)\n",
    "        else:\n",
    "            y=depiler(p)\n",
    "            x=depiler(p)\n",
    "            if (element=='+'):\n",
    "                empiler(x+y,p)\n",
    "            elif (element=='-'):\n",
    "                empiler(x-y,p)\n",
    "            elif (element=='*'):\n",
    "                empiler(x*y,p)\n",
    "            elif (element=='/'):\n",
    "                empiler(x/y,p)\n",
    "    return depiler(p)"
   ]
  },
  {
   "cell_type": "code",
   "execution_count": 32,
   "metadata": {},
   "outputs": [
    {
     "data": {
      "text/plain": [
       "160"
      ]
     },
     "execution_count": 32,
     "metadata": {},
     "output_type": "execute_result"
    }
   ],
   "source": [
    "exprtest=[3,4,'+',5,'*',6,'+',2,1,'+',3,'*',8,'+',7,'*','+']\n",
    "evaluationNPI(exprtest)"
   ]
  },
  {
   "cell_type": "markdown",
   "metadata": {
    "slideshow": {
     "slide_type": "subslide"
    }
   },
   "source": [
    "### Expressions bien parenthésées"
   ]
  },
  {
   "cell_type": "markdown",
   "metadata": {
    "collapsed": true,
    "slideshow": {
     "slide_type": "-"
    }
   },
   "source": [
    "* Expression mathématique $\\leftrightarrow$ chaîne de caractères\n",
    "* Bon parenthésage $\\Rightarrow$ nombre pair de parenthèses\n",
    "    * Autant d'ouvrantes que de fermantes"
   ]
  },
  {
   "cell_type": "markdown",
   "metadata": {
    "slideshow": {
     "slide_type": "subslide"
    }
   },
   "source": [
    "#### Première approche\n",
    "\n",
    "* Parcours de chaîne\n",
    "* Compteur :\n",
    "    * parenthèse ouvrante $\\rightarrow$ on incrémente de 1\n",
    "    * parenthèse fermante $\\rightarrow$ on décrémente de 1\n",
    "* Fin de parcours : test de nullité du compteur"
   ]
  },
  {
   "cell_type": "code",
   "execution_count": 33,
   "metadata": {
    "collapsed": true,
    "slideshow": {
     "slide_type": "subslide"
    }
   },
   "outputs": [],
   "source": [
    "#Donnée : une chaîne de caracteres chaine\n",
    "def bonparenthesage(chaine):\n",
    "    compt=0\n",
    "    for carac in chaine:\n",
    "        if carac=='(':\n",
    "            compt+=1\n",
    "        elif carac==')':\n",
    "            compt+=-1\n",
    "    if compt==0:\n",
    "        return True\n",
    "    else:\n",
    "        return False"
   ]
  },
  {
   "cell_type": "code",
   "execution_count": 35,
   "metadata": {},
   "outputs": [
    {
     "data": {
      "text/plain": [
       "(True, False, True)"
      ]
     },
     "execution_count": 35,
     "metadata": {},
     "output_type": "execute_result"
    }
   ],
   "source": [
    "essai1=\"(1+2)-4+(5+6*(4-2))\"\n",
    "essai2=\"(1+2)-4+(5+6*(4-2)))\"\n",
    "bonparenthesage(essai1),bonparenthesage(essai2)#,bonparenthesage(')(')"
   ]
  },
  {
   "cell_type": "markdown",
   "metadata": {
    "slideshow": {
     "slide_type": "subslide"
    }
   },
   "source": [
    "#### Mots bien parenthésés"
   ]
  },
  {
   "cell_type": "markdown",
   "metadata": {},
   "source": [
    "* Suffit d'écrire <b> uniquement les parenthèses</b>        \n",
    "$\\rightarrow$ On ignore les autres caractères\n",
    "* Mot sur l'alphabet {(,)}       \n",
    "$\\rightarrow$ chaîne uniquement formée de '(' et ')'\n",
    "* Définition récursive d'un <b>mot bien parenthésé</b> :\n",
    "    * Si c'est le mot vide\n",
    "    * C'est un mot bien parenthésé entre parenthèses\n",
    "    * C'est la concaténation de deux mots bien parenthésés"
   ]
  },
  {
   "cell_type": "markdown",
   "metadata": {
    "slideshow": {
     "slide_type": "subslide"
    }
   },
   "source": [
    "<i>Remarque :</i>\n",
    "* Conséquences :\n",
    "    * Nombre pair de parenthèses\n",
    "    * autant d'ouvrantes que de fermantes\n",
    "* Raffinement     \n",
    "$\\rightarrow$ permet d'exclure le mot ')('\n",
    "* Mot bien parenthésé ssi autant d'ouvrantes que de fermantes et si pendant le parcours le nombre d'ouvrantes est constamment supérieur"
   ]
  },
  {
   "cell_type": "code",
   "execution_count": null,
   "metadata": {
    "collapsed": true,
    "slideshow": {
     "slide_type": "subslide"
    }
   },
   "outputs": [],
   "source": [
    "#Donnée : un mot parenthésé mot\n",
    "def bonparenthesage2(mot):\n",
    "    compt=0\n",
    "    for carac in mot:\n",
    "        if carac=='(':\n",
    "            compt+=1\n",
    "        elif carac==')':\n",
    "            compt+=-1\n",
    "        if compt<0:\n",
    "            return False\n",
    "    if compt==0:\n",
    "        return True\n",
    "    else:\n",
    "        return False"
   ]
  },
  {
   "cell_type": "markdown",
   "metadata": {
    "slideshow": {
     "slide_type": "subslide"
    }
   },
   "source": [
    "#### Implémentation à l'aide de piles"
   ]
  },
  {
   "cell_type": "markdown",
   "metadata": {},
   "source": [
    "* Amélioration :\n",
    "     * Test de bon parenthésage\n",
    "     * Mise en correspondance des paires de parenthèses\n",
    " $\\rightarrow$ cf. Editeur Spyder\n",
    "* Parcours d'un mot sur {(,)} avec incrémentation d'indice :\n",
    "     * Si '(' : Empilage indice courant i + Incrémentation\n",
    "     * Si ')' : Dépilage indice j + Ajout (i,j) + Incrémentation\n",
    "* Dépilage impossible ou Pile non vide en fin de parcours    \n",
    "$\\rightarrow$ Mauvais parenthésage"
   ]
  },
  {
   "cell_type": "code",
   "execution_count": 4,
   "metadata": {
    "collapsed": true,
    "slideshow": {
     "slide_type": "subslide"
    }
   },
   "outputs": [],
   "source": [
    "def parenthese(mot):\n",
    "    n=len(mot)\n",
    "    p=creerpile()\n",
    "    L=[]\n",
    "    for i in range(n):\n",
    "        if mot[i]=='(':\n",
    "            empiler(i,p)\n",
    "        else:\n",
    "            if estvide(p):\n",
    "                return (False,[])\n",
    "            else:\n",
    "                L.append((depiler(p),i))\n",
    "    if estvide(p):\n",
    "        return (True,L)\n",
    "    else:\n",
    "        return (False,[])"
   ]
  },
  {
   "cell_type": "code",
   "execution_count": 7,
   "metadata": {},
   "outputs": [
    {
     "data": {
      "text/plain": [
       "((True,\n",
       "  [(1, 2), (3, 4), (0, 5), (7, 8), (6, 9), (10, 11), (12, 13), (14, 15)]),\n",
       " (False, []))"
      ]
     },
     "execution_count": 7,
     "metadata": {},
     "output_type": "execute_result"
    }
   ],
   "source": [
    "mot1=\"(()())(())()()()\"\n",
    "mot2=\"(()(())()))()(())\"\n",
    "parenthese(mot1),parenthese(mot2)"
   ]
  },
  {
   "cell_type": "code",
   "execution_count": null,
   "metadata": {
    "collapsed": true
   },
   "outputs": [],
   "source": []
  }
 ],
 "metadata": {
  "anaconda-cloud": {},
  "celltoolbar": "Slideshow",
  "kernelspec": {
   "display_name": "Python [default]",
   "language": "python",
   "name": "python2"
  },
  "language_info": {
   "codemirror_mode": {
    "name": "ipython",
    "version": 2
   },
   "file_extension": ".py",
   "mimetype": "text/x-python",
   "name": "python",
   "nbconvert_exporter": "python",
   "pygments_lexer": "ipython2",
   "version": "2.7.13"
  }
 },
 "nbformat": 4,
 "nbformat_minor": 1
}
