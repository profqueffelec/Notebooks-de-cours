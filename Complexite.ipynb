{
 "cells": [
  {
   "cell_type": "markdown",
   "metadata": {
    "nbpresent": {
     "id": "4e29391c-49eb-4283-a872-59f1d3e74bc1"
    },
    "slideshow": {
     "slide_type": "slide"
    }
   },
   "source": [
    "<CENTER>\n",
    "<div style=width:500px;border-radius:10px;height:220px;background-color:#ffcccc;text-align:center;vertical-align:middle;>\n",
    "  \n",
    "<font size=14, font color=navy>   \n",
    "<font size=14, font color=navy>Complexité\n",
    "\n",
    "</div>\n",
    "</CENTER>"
   ]
  },
  {
   "cell_type": "markdown",
   "metadata": {
    "slideshow": {
     "slide_type": "slide"
    }
   },
   "source": [
    "# GENERALITES"
   ]
  },
  {
   "cell_type": "markdown",
   "metadata": {
    "slideshow": {
     "slide_type": "subslide"
    }
   },
   "source": [
    "## Evaluer la complexité :\n",
    "* Calculer/Evaluer/Mesurer l'efficacité\n",
    "* En fonction de la taille des données   \n",
    "$\\rightarrow$ Choix du meilleur algorithme répondant à un problème donné   \n",
    "$\\rightarrow$ En fonction des contraintes temporelles/spatiales"
   ]
  },
  {
   "cell_type": "markdown",
   "metadata": {
    "slideshow": {
     "slide_type": "subslide"
    }
   },
   "source": [
    "## Complexité temporelle (<i>time complexity</i>)"
   ]
  },
  {
   "cell_type": "markdown",
   "metadata": {},
   "source": [
    "C'est un décompte des coûts des <b>opérations fondamentales/élémentaires</b> nécessaires à l'exécution de l'algorithme.\n",
    "* Soit on compte toutes les opérations élémentaires (+, *, test, affectation, etc...).   \n",
    "$\\rightarrow$ 1 opération $\\leftrightarrow$ coût 1\n",
    "* Soit on néglige certaines opérations devant d'autres, dites significatives.   \n",
    "$\\rightarrow$ 1 opération négligeable $\\leftrightarrow$ coût 0   \n",
    "$\\rightarrow$ 1 opération significative $\\leftrightarrow$ coût raisonnable (souvent 1)"
   ]
  },
  {
   "cell_type": "markdown",
   "metadata": {
    "slideshow": {
     "slide_type": "subslide"
    }
   },
   "source": [
    "#### Choix délicat des opérations significatives : \n",
    "\n",
    "* Parfois exigé par l'énoncé\n",
    "* Dépend de l'implémentation du langage (<i>buit-in functions</i>)   \n",
    "* Souvent 1 convient"
   ]
  },
  {
   "cell_type": "markdown",
   "metadata": {
    "slideshow": {
     "slide_type": "fragment"
    }
   },
   "source": [
    "#### Opérations significatives : exemples\n",
    "\n",
    "|  Problème | Opérations significatives  |                \n",
    "|---|---|                                \n",
    "| Recherche de x dans une liste L| Comparaisons|\n",
    "|Tri d'une liste L|Comparaisons|\n",
    "|Exponentiation rapide|Multiplications|\n",
    "|Multiplication de matrices | Multiplications (et additions)|"
   ]
  },
  {
   "cell_type": "markdown",
   "metadata": {
    "slideshow": {
     "slide_type": "subslide"
    }
   },
   "source": [
    "## Complexité spatiale (<i>space complexity</i>)"
   ]
  },
  {
   "cell_type": "markdown",
   "metadata": {},
   "source": [
    "C'est un décompte des <b>unités de mémoire</b> utilisées (sauf données/paramètres/résultat) par l'algorithme. \n",
    "* Chaque variable locale compte.    \n",
    "$\\rightarrow$ 1 nouvelle variable élémentaire (type simple) $\\leftrightarrow$ occupation 1   \n",
    "$\\rightarrow$ certaines variables auxiliaires $\\leftrightarrow$ occupation nulle   \n",
    "$\\rightarrow$ variables de types composés $\\leftrightarrow$ nombre de variables élémentaires la composant      \n",
    "    <b> Ex : </b>Liste de longeur n $\\leftrightarrow$ occupation d'espace de taille n\n",
    "* Rarement difficile à évaluer.    \n",
    "$\\rightarrow$ important pour les algorithmes récursifs (pile d'appels)   \n",
    "$\\rightarrow$ sauf si le programme alloue dynamiquement la mémoire"
   ]
  },
  {
   "cell_type": "markdown",
   "metadata": {
    "collapsed": true,
    "slideshow": {
     "slide_type": "subslide"
    }
   },
   "source": [
    "#### Taille des instances\n",
    "\n",
    "* Instances du problème : données/ paramètres effectifs.  \n",
    "* Instances : simples/multiples de tout type.\n",
    "* Taille des instances : variable de la complexité ($n\\in \\mathbb{N}$)."
   ]
  },
  {
   "cell_type": "markdown",
   "metadata": {
    "collapsed": true,
    "slideshow": {
     "slide_type": "fragment"
    }
   },
   "source": [
    "Différents choix selon le contexte :\n",
    "\n",
    "| Problème| Taille de l'instance n|\n",
    "|---|---|\n",
    "|Opérations sur un entier naturel $p$|valeur $n=p$|\n",
    "||nombre de bits $n=\\log_2 p$|\n",
    "|Opérations sur une matrice de $\\mathcal{M}_p(\\mathbb{R})$| taille $n=p$ |\n",
    "||nombre de coefficients $n=p^2$|\n",
    "|Manipulation d'une liste|longueur $n$|"
   ]
  },
  {
   "cell_type": "markdown",
   "metadata": {
    "collapsed": true,
    "slideshow": {
     "slide_type": "subslide"
    }
   },
   "source": [
    "## Types de complexité"
   ]
  },
  {
   "cell_type": "markdown",
   "metadata": {
    "collapsed": true,
    "nbpresent": {
     "id": "597cfa6b-cc4c-489a-8175-fb45aae8eada"
    }
   },
   "source": [
    "* Complexité instancielle (une donnée particulière de taille $n$)\n",
    "* Complexité dans le <i>meilleur des cas</i> (toutes instances de taille $n$)   \n",
    "$\\rightarrow$ minorant de la complexité    \n",
    "$\\rightarrow$ peu révélateur\n",
    "* Complexité <i>en moyenne</i> (toutes instances de taille $n$)    \n",
    "$\\rightarrow$ favorable si peu cas extrêmes rares + peu de variabilité\n",
    "* Complexité dans le <b>pire des cas</b> (toutes instances de taille $n$)    \n",
    "$\\rightarrow$ bonne notion pour borner le temps de calcul"
   ]
  },
  {
   "cell_type": "markdown",
   "metadata": {
    "collapsed": true,
    "nbpresent": {
     "id": "7f06874b-d215-4e41-91a1-143786adba73"
    },
    "slideshow": {
     "slide_type": "subslide"
    }
   },
   "source": [
    "### Deux cas extrêmes"
   ]
  },
  {
   "cell_type": "code",
   "execution_count": 1,
   "metadata": {
    "collapsed": true,
    "nbpresent": {
     "id": "21480873-56c8-4a7b-9984-19e71a051ea4"
    }
   },
   "outputs": [
    {
     "name": "stdout",
     "output_type": "stream",
     "text": [
      "1\n",
      "1\n",
      "2\n",
      "3\n",
      "4\n",
      "5\n",
      "6\n",
      "7\n",
      "8\n",
      "9\n",
      "10\n",
      "11\n",
      "12\n"
     ]
    },
    {
     "data": {
      "text/plain": [
       "(True, False)"
      ]
     },
     "execution_count": 1,
     "metadata": {},
     "output_type": "execute_result"
    }
   ],
   "source": [
    "def rechnaive(x,L):\n",
    "    compteur=0\n",
    "    for i in L:\n",
    "        compteur+=1\n",
    "        print(compteur)\n",
    "        if x==i:\n",
    "            return True\n",
    "    return False\n",
    "rechnaive(1,[1]+[0]*11),rechnaive(1,[0]*12)"
   ]
  },
  {
   "cell_type": "markdown",
   "metadata": {
    "collapsed": true,
    "nbpresent": {
     "id": "87957b18-cf4a-4c77-9493-669adf018d0b"
    },
    "slideshow": {
     "slide_type": "slide"
    }
   },
   "source": [
    "# PRINCIPES DE COMPTAGE"
   ]
  },
  {
   "cell_type": "markdown",
   "metadata": {
    "collapsed": true,
    "nbpresent": {
     "id": "348e8173-b6a8-4a29-ab63-191ec9fe2329"
    },
    "slideshow": {
     "slide_type": "subslide"
    }
   },
   "source": [
    "* Opérations élémentaires (coût 1):\n",
    "    * Affectation\n",
    "    * Test, comparaison\n",
    "    * Affichage, renvoi de valeur\n",
    "    * Opération arithmétique élémentaire\n",
    "* Suite d'instructions $\\rightarrow$ somme des complexités\n",
    "* Instruction conditionnelle (if..elif..else)    \n",
    "$\\rightarrow$ maximum des complexités\n",
    "* Boucle itérative (for..) $\\rightarrow$ somme des complexités\n",
    "* Boucle conditionnelle (while..)    \n",
    "$\\rightarrow$ somme des complexités   \n",
    "+majoration du nombre d'itérations"
   ]
  },
  {
   "cell_type": "markdown",
   "metadata": {
    "collapsed": true,
    "nbpresent": {
     "id": "e2556c1f-f7fa-4c26-9902-d4efac09cc87"
    },
    "slideshow": {
     "slide_type": "subslide"
    }
   },
   "source": [
    "## Notations asymptotiques (Landau)\n",
    "\n",
    "| Notation $\\qquad $    | Sens |\n",
    "|----------|---|\n",
    "|$u_n=O(v_n)$| $\\frac{u_n}{v_n}$ bornée| $\\leftarrow$ <b>usuel</b> (pire des cas)\n",
    "|$u_n=\\Omega(v_n)$| $v_n=O(u_n)$|\n",
    "|$u_n=\\Theta(v_n)$| $u_n=O(v_n)$ et $v_n=O(u_n)$|\n",
    "\n",
    "Pour un algorithme donné dont la <b>complexité temporelle dans le pire des cas</b> pour des instances de taille $n$ est notée $C(n)$, on cherchera à écrire $C(n)=O(v_n)$ où $(v_n)$ fait partie de l'échelle des croissances comparées (constantes multiplicatives omises)."
   ]
  },
  {
   "cell_type": "markdown",
   "metadata": {
    "collapsed": true,
    "nbpresent": {
     "id": "7c1baa6d-1007-4c0f-a185-3b55ba78bb4c"
    },
    "slideshow": {
     "slide_type": "subslide"
    }
   },
   "source": [
    "## Echelle de complexités temporelles\n",
    "\n",
    "Elles sont données pour des instances de taille $10^6$ et un programme effectuant $10^9$ opérations élémentaires par seconde.\n",
    "\n",
    "|Complexité| Nom courant | Temps |\n",
    "|---|---|---|\n",
    "|$O(1)$| temps constant| $10^{-9}$s|\n",
    "|$O(\\ln n)$| logarithmique|$10^{-8}$s|<b>idéal</b>\n",
    "|$O(n)$|linéaire|$10^{-3}$s|\n",
    "|$O(n^2)$|quadratique|$15$min|\n",
    "|$O(n^k)$|polynomial|$\\geqslant 30$ ans si $k\\geq 3$|<b>exclu</b>\n",
    "|$O(2^k)$|exponentiel|$\\geqslant 10^{300000}$ milliards d'années|<b>exclu</b>\n",
    "\n",
    "Idéal pas toujours atteint (en moyenne) :    \n",
    "Tri par comparaison de liste de longueur $n$ $\\rightarrow$ $C(n)=\\Omega(n\\ln n)$ "
   ]
  },
  {
   "cell_type": "markdown",
   "metadata": {
    "collapsed": true,
    "nbpresent": {
     "id": "1d4a4b7d-7d6f-4632-9025-03856c4c905c"
    },
    "slideshow": {
     "slide_type": "slide"
    }
   },
   "source": [
    "# COMPLEXITES CLASSIQUES"
   ]
  },
  {
   "cell_type": "markdown",
   "metadata": {
    "collapsed": true,
    "nbpresent": {
     "id": "15fbb571-b199-457a-9d77-d990d8fce15f"
    },
    "slideshow": {
     "slide_type": "subslide"
    }
   },
   "source": [
    "## Buit-in functions\n",
    "\n",
    "* Type $\\verb\"int\"$ : addition, multiplication, test, assignation $\\rightarrow$ $O(1)$\n",
    "* Type $\\verb\"list\"$ :\n",
    "\n",
    "|Opération|Complexité||Opération|Complexité|\n",
    "|---|---||---|---|\n",
    "|len(L)|$O(1)$||slicing L[i+1:i+k]|$O(k)$|\n",
    "|get L[i]|$O(1)$||extend L+M[1:k]|$O(k)$|\n",
    "|set L[i]=x|$O(1)$||set slice L[i+1:i+k]=SL|$O(n+k)$|\n",
    "|insert|$O(n)$||iterate|$O(n)$|\n",
    "|delete|$O(n)$||copy L|$O(n)$|\n",
    "|x in L|$O(n)$|| sort (<i>Timsort</i>|$O(n\\ln n)$|\n",
    "|min(L)|$O(n)$||max(L)|$O(n)$|"
   ]
  },
  {
   "cell_type": "markdown",
   "metadata": {
    "collapsed": true,
    "nbpresent": {
     "id": "833dfca9-3c49-4adc-8341-824703f5d77f"
    },
    "slideshow": {
     "slide_type": "subslide"
    }
   },
   "source": [
    "## Temps constant \n",
    "Permutation dans une liste"
   ]
  },
  {
   "cell_type": "code",
   "execution_count": null,
   "metadata": {
    "collapsed": true,
    "nbpresent": {
     "id": "07292c6c-ccd7-4b08-881c-42799d9bf5be"
    }
   },
   "outputs": [],
   "source": [
    "def permute(L,i,j):\n",
    "    tmp=S[i]\n",
    "    S[i]=S[j]\n",
    "    S[j]=tmp\n",
    "    return L"
   ]
  },
  {
   "cell_type": "markdown",
   "metadata": {
    "collapsed": true,
    "nbpresent": {
     "id": "d531e45e-7aa1-44d8-826f-6f3327f90d1c"
    },
    "slideshow": {
     "slide_type": "fragment"
    }
   },
   "source": [
    "$C(n)=4=O(1)$"
   ]
  },
  {
   "cell_type": "markdown",
   "metadata": {
    "collapsed": true,
    "nbpresent": {
     "id": "0caf9b57-f866-4a99-987e-6a74f037898f"
    },
    "slideshow": {
     "slide_type": "subslide"
    }
   },
   "source": [
    "## Complexité linéaire\n",
    "\n",
    "Recherche séquentielle dans une liste"
   ]
  },
  {
   "cell_type": "code",
   "execution_count": null,
   "metadata": {
    "collapsed": true
   },
   "outputs": [],
   "source": [
    "def rechnaive(x,L):\n",
    "    len(L)=n\n",
    "    for i in range(n):\n",
    "        if (L[i]==x):\n",
    "            return True\n",
    "    return False"
   ]
  },
  {
   "cell_type": "markdown",
   "metadata": {
    "slideshow": {
     "slide_type": "fragment"
    }
   },
   "source": [
    "$C(n)=1+(\\sum\\limits_{k=1}^n 1)+1=O(n)$"
   ]
  },
  {
   "cell_type": "markdown",
   "metadata": {
    "slideshow": {
     "slide_type": "subslide"
    }
   },
   "source": [
    "## Complexité quadratique\n",
    "\n",
    "Tri bulle d'une liste"
   ]
  },
  {
   "cell_type": "code",
   "execution_count": 2,
   "metadata": {},
   "outputs": [
    {
     "data": {
      "text/plain": [
       "[-7, 0, 1, 4, 8, 13, 14, 17, 28, 64, 112]"
      ]
     },
     "execution_count": 2,
     "metadata": {},
     "output_type": "execute_result"
    }
   ],
   "source": [
    "def tri_bulle(L):\n",
    "    n=len(L)\n",
    "    for i in range(n):\n",
    "        for j in range(n-i-1):\n",
    "            if L[j]>L[j+1]:\n",
    "                L[j],L[j+1]=L[j+1],L[j]\n",
    "\n",
    "L=[17,13,14,28,112,64,8,0,4,1,-7]\n",
    "tri_bulle(L)\n",
    "L"
   ]
  },
  {
   "cell_type": "markdown",
   "metadata": {
    "slideshow": {
     "slide_type": "subslide"
    }
   },
   "source": [
    "Taille de l'instance : longueur $n$\n",
    "* copie de liste $\\rightarrow$ $n$ + affectation $\\rightarrow$ $1$\n",
    "* Par itération : test $\\rightarrow$ 1 + 2 affectations $\\rightarrow$ 2   \n",
    "Au total $\\sum\\limits_{i=0}^{n-1}\\sum\\limits_{j=0}^{n-i-1} 3=\\sum\\limits_{i=0}^{n-1} 3(n-i)=3\\sum\\limits_{k=1}^n k=\\frac{3n(n+1)}{2}$\n",
    "* renvoi de valeur $\\rightarrow$ 1\n",
    "\n",
    "$C(n)=n+2+\\frac{3n(n+1)}{2}=O(n^2)$"
   ]
  },
  {
   "cell_type": "code",
   "execution_count": 8,
   "metadata": {
    "collapsed": true,
    "slideshow": {
     "slide_type": "skip"
    }
   },
   "outputs": [],
   "source": [
    "import matplotlib.pyplot as plt\n",
    "import matplotlib.animation as anim\n",
    "import random\n",
    "import sys\n",
    "\n",
    "def initie(n,r):  #fait ce qu'il faut \n",
    "    global fig, ax, scat\n",
    "    lx=range(n)\n",
    "    lval = [random.randrange(1,r) for i in range(n)]      \n",
    "    fig, ax=plt.subplots(1,1)\n",
    "    scat=ax.scatter(lx,lval)\n",
    "    return [(i,j) for i in range(n) for j in range(n-i-1)]\n",
    "\n",
    "\n",
    "\n",
    "def change(u,fig,scat):   #fait aussi ce qu'il faut\n",
    "    i,j=u#unpacking\n",
    "    LL=scat.get_offsets()\n",
    "    if LL[j][1]>LL[j+1][1]:\n",
    "        LL[j][1],LL[j+1][1]=LL[j+1][1],LL[j][1]\n",
    "    scat.set_offsets(LL)"
   ]
  },
  {
   "cell_type": "code",
   "execution_count": 9,
   "metadata": {
    "slideshow": {
     "slide_type": "subslide"
    }
   },
   "outputs": [
    {
     "data": {
      "application/javascript": [
       "/* Put everything inside the global mpl namespace */\n",
       "window.mpl = {};\n",
       "\n",
       "\n",
       "mpl.get_websocket_type = function() {\n",
       "    if (typeof(WebSocket) !== 'undefined') {\n",
       "        return WebSocket;\n",
       "    } else if (typeof(MozWebSocket) !== 'undefined') {\n",
       "        return MozWebSocket;\n",
       "    } else {\n",
       "        alert('Your browser does not have WebSocket support.' +\n",
       "              'Please try Chrome, Safari or Firefox ≥ 6. ' +\n",
       "              'Firefox 4 and 5 are also supported but you ' +\n",
       "              'have to enable WebSockets in about:config.');\n",
       "    };\n",
       "}\n",
       "\n",
       "mpl.figure = function(figure_id, websocket, ondownload, parent_element) {\n",
       "    this.id = figure_id;\n",
       "\n",
       "    this.ws = websocket;\n",
       "\n",
       "    this.supports_binary = (this.ws.binaryType != undefined);\n",
       "\n",
       "    if (!this.supports_binary) {\n",
       "        var warnings = document.getElementById(\"mpl-warnings\");\n",
       "        if (warnings) {\n",
       "            warnings.style.display = 'block';\n",
       "            warnings.textContent = (\n",
       "                \"This browser does not support binary websocket messages. \" +\n",
       "                    \"Performance may be slow.\");\n",
       "        }\n",
       "    }\n",
       "\n",
       "    this.imageObj = new Image();\n",
       "\n",
       "    this.context = undefined;\n",
       "    this.message = undefined;\n",
       "    this.canvas = undefined;\n",
       "    this.rubberband_canvas = undefined;\n",
       "    this.rubberband_context = undefined;\n",
       "    this.format_dropdown = undefined;\n",
       "\n",
       "    this.image_mode = 'full';\n",
       "\n",
       "    this.root = $('<div/>');\n",
       "    this._root_extra_style(this.root)\n",
       "    this.root.attr('style', 'display: inline-block');\n",
       "\n",
       "    $(parent_element).append(this.root);\n",
       "\n",
       "    this._init_header(this);\n",
       "    this._init_canvas(this);\n",
       "    this._init_toolbar(this);\n",
       "\n",
       "    var fig = this;\n",
       "\n",
       "    this.waiting = false;\n",
       "\n",
       "    this.ws.onopen =  function () {\n",
       "            fig.send_message(\"supports_binary\", {value: fig.supports_binary});\n",
       "            fig.send_message(\"send_image_mode\", {});\n",
       "            if (mpl.ratio != 1) {\n",
       "                fig.send_message(\"set_dpi_ratio\", {'dpi_ratio': mpl.ratio});\n",
       "            }\n",
       "            fig.send_message(\"refresh\", {});\n",
       "        }\n",
       "\n",
       "    this.imageObj.onload = function() {\n",
       "            if (fig.image_mode == 'full') {\n",
       "                // Full images could contain transparency (where diff images\n",
       "                // almost always do), so we need to clear the canvas so that\n",
       "                // there is no ghosting.\n",
       "                fig.context.clearRect(0, 0, fig.canvas.width, fig.canvas.height);\n",
       "            }\n",
       "            fig.context.drawImage(fig.imageObj, 0, 0);\n",
       "        };\n",
       "\n",
       "    this.imageObj.onunload = function() {\n",
       "        this.ws.close();\n",
       "    }\n",
       "\n",
       "    this.ws.onmessage = this._make_on_message_function(this);\n",
       "\n",
       "    this.ondownload = ondownload;\n",
       "}\n",
       "\n",
       "mpl.figure.prototype._init_header = function() {\n",
       "    var titlebar = $(\n",
       "        '<div class=\"ui-dialog-titlebar ui-widget-header ui-corner-all ' +\n",
       "        'ui-helper-clearfix\"/>');\n",
       "    var titletext = $(\n",
       "        '<div class=\"ui-dialog-title\" style=\"width: 100%; ' +\n",
       "        'text-align: center; padding: 3px;\"/>');\n",
       "    titlebar.append(titletext)\n",
       "    this.root.append(titlebar);\n",
       "    this.header = titletext[0];\n",
       "}\n",
       "\n",
       "\n",
       "\n",
       "mpl.figure.prototype._canvas_extra_style = function(canvas_div) {\n",
       "\n",
       "}\n",
       "\n",
       "\n",
       "mpl.figure.prototype._root_extra_style = function(canvas_div) {\n",
       "\n",
       "}\n",
       "\n",
       "mpl.figure.prototype._init_canvas = function() {\n",
       "    var fig = this;\n",
       "\n",
       "    var canvas_div = $('<div/>');\n",
       "\n",
       "    canvas_div.attr('style', 'position: relative; clear: both; outline: 0');\n",
       "\n",
       "    function canvas_keyboard_event(event) {\n",
       "        return fig.key_event(event, event['data']);\n",
       "    }\n",
       "\n",
       "    canvas_div.keydown('key_press', canvas_keyboard_event);\n",
       "    canvas_div.keyup('key_release', canvas_keyboard_event);\n",
       "    this.canvas_div = canvas_div\n",
       "    this._canvas_extra_style(canvas_div)\n",
       "    this.root.append(canvas_div);\n",
       "\n",
       "    var canvas = $('<canvas/>');\n",
       "    canvas.addClass('mpl-canvas');\n",
       "    canvas.attr('style', \"left: 0; top: 0; z-index: 0; outline: 0\")\n",
       "\n",
       "    this.canvas = canvas[0];\n",
       "    this.context = canvas[0].getContext(\"2d\");\n",
       "\n",
       "    var backingStore = this.context.backingStorePixelRatio ||\n",
       "\tthis.context.webkitBackingStorePixelRatio ||\n",
       "\tthis.context.mozBackingStorePixelRatio ||\n",
       "\tthis.context.msBackingStorePixelRatio ||\n",
       "\tthis.context.oBackingStorePixelRatio ||\n",
       "\tthis.context.backingStorePixelRatio || 1;\n",
       "\n",
       "    mpl.ratio = (window.devicePixelRatio || 1) / backingStore;\n",
       "\n",
       "    var rubberband = $('<canvas/>');\n",
       "    rubberband.attr('style', \"position: absolute; left: 0; top: 0; z-index: 1;\")\n",
       "\n",
       "    var pass_mouse_events = true;\n",
       "\n",
       "    canvas_div.resizable({\n",
       "        start: function(event, ui) {\n",
       "            pass_mouse_events = false;\n",
       "        },\n",
       "        resize: function(event, ui) {\n",
       "            fig.request_resize(ui.size.width, ui.size.height);\n",
       "        },\n",
       "        stop: function(event, ui) {\n",
       "            pass_mouse_events = true;\n",
       "            fig.request_resize(ui.size.width, ui.size.height);\n",
       "        },\n",
       "    });\n",
       "\n",
       "    function mouse_event_fn(event) {\n",
       "        if (pass_mouse_events)\n",
       "            return fig.mouse_event(event, event['data']);\n",
       "    }\n",
       "\n",
       "    rubberband.mousedown('button_press', mouse_event_fn);\n",
       "    rubberband.mouseup('button_release', mouse_event_fn);\n",
       "    // Throttle sequential mouse events to 1 every 20ms.\n",
       "    rubberband.mousemove('motion_notify', mouse_event_fn);\n",
       "\n",
       "    rubberband.mouseenter('figure_enter', mouse_event_fn);\n",
       "    rubberband.mouseleave('figure_leave', mouse_event_fn);\n",
       "\n",
       "    canvas_div.on(\"wheel\", function (event) {\n",
       "        event = event.originalEvent;\n",
       "        event['data'] = 'scroll'\n",
       "        if (event.deltaY < 0) {\n",
       "            event.step = 1;\n",
       "        } else {\n",
       "            event.step = -1;\n",
       "        }\n",
       "        mouse_event_fn(event);\n",
       "    });\n",
       "\n",
       "    canvas_div.append(canvas);\n",
       "    canvas_div.append(rubberband);\n",
       "\n",
       "    this.rubberband = rubberband;\n",
       "    this.rubberband_canvas = rubberband[0];\n",
       "    this.rubberband_context = rubberband[0].getContext(\"2d\");\n",
       "    this.rubberband_context.strokeStyle = \"#000000\";\n",
       "\n",
       "    this._resize_canvas = function(width, height) {\n",
       "        // Keep the size of the canvas, canvas container, and rubber band\n",
       "        // canvas in synch.\n",
       "        canvas_div.css('width', width)\n",
       "        canvas_div.css('height', height)\n",
       "\n",
       "        canvas.attr('width', width * mpl.ratio);\n",
       "        canvas.attr('height', height * mpl.ratio);\n",
       "        canvas.attr('style', 'width: ' + width + 'px; height: ' + height + 'px;');\n",
       "\n",
       "        rubberband.attr('width', width);\n",
       "        rubberband.attr('height', height);\n",
       "    }\n",
       "\n",
       "    // Set the figure to an initial 600x600px, this will subsequently be updated\n",
       "    // upon first draw.\n",
       "    this._resize_canvas(600, 600);\n",
       "\n",
       "    // Disable right mouse context menu.\n",
       "    $(this.rubberband_canvas).bind(\"contextmenu\",function(e){\n",
       "        return false;\n",
       "    });\n",
       "\n",
       "    function set_focus () {\n",
       "        canvas.focus();\n",
       "        canvas_div.focus();\n",
       "    }\n",
       "\n",
       "    window.setTimeout(set_focus, 100);\n",
       "}\n",
       "\n",
       "mpl.figure.prototype._init_toolbar = function() {\n",
       "    var fig = this;\n",
       "\n",
       "    var nav_element = $('<div/>')\n",
       "    nav_element.attr('style', 'width: 100%');\n",
       "    this.root.append(nav_element);\n",
       "\n",
       "    // Define a callback function for later on.\n",
       "    function toolbar_event(event) {\n",
       "        return fig.toolbar_button_onclick(event['data']);\n",
       "    }\n",
       "    function toolbar_mouse_event(event) {\n",
       "        return fig.toolbar_button_onmouseover(event['data']);\n",
       "    }\n",
       "\n",
       "    for(var toolbar_ind in mpl.toolbar_items) {\n",
       "        var name = mpl.toolbar_items[toolbar_ind][0];\n",
       "        var tooltip = mpl.toolbar_items[toolbar_ind][1];\n",
       "        var image = mpl.toolbar_items[toolbar_ind][2];\n",
       "        var method_name = mpl.toolbar_items[toolbar_ind][3];\n",
       "\n",
       "        if (!name) {\n",
       "            // put a spacer in here.\n",
       "            continue;\n",
       "        }\n",
       "        var button = $('<button/>');\n",
       "        button.addClass('ui-button ui-widget ui-state-default ui-corner-all ' +\n",
       "                        'ui-button-icon-only');\n",
       "        button.attr('role', 'button');\n",
       "        button.attr('aria-disabled', 'false');\n",
       "        button.click(method_name, toolbar_event);\n",
       "        button.mouseover(tooltip, toolbar_mouse_event);\n",
       "\n",
       "        var icon_img = $('<span/>');\n",
       "        icon_img.addClass('ui-button-icon-primary ui-icon');\n",
       "        icon_img.addClass(image);\n",
       "        icon_img.addClass('ui-corner-all');\n",
       "\n",
       "        var tooltip_span = $('<span/>');\n",
       "        tooltip_span.addClass('ui-button-text');\n",
       "        tooltip_span.html(tooltip);\n",
       "\n",
       "        button.append(icon_img);\n",
       "        button.append(tooltip_span);\n",
       "\n",
       "        nav_element.append(button);\n",
       "    }\n",
       "\n",
       "    var fmt_picker_span = $('<span/>');\n",
       "\n",
       "    var fmt_picker = $('<select/>');\n",
       "    fmt_picker.addClass('mpl-toolbar-option ui-widget ui-widget-content');\n",
       "    fmt_picker_span.append(fmt_picker);\n",
       "    nav_element.append(fmt_picker_span);\n",
       "    this.format_dropdown = fmt_picker[0];\n",
       "\n",
       "    for (var ind in mpl.extensions) {\n",
       "        var fmt = mpl.extensions[ind];\n",
       "        var option = $(\n",
       "            '<option/>', {selected: fmt === mpl.default_extension}).html(fmt);\n",
       "        fmt_picker.append(option)\n",
       "    }\n",
       "\n",
       "    // Add hover states to the ui-buttons\n",
       "    $( \".ui-button\" ).hover(\n",
       "        function() { $(this).addClass(\"ui-state-hover\");},\n",
       "        function() { $(this).removeClass(\"ui-state-hover\");}\n",
       "    );\n",
       "\n",
       "    var status_bar = $('<span class=\"mpl-message\"/>');\n",
       "    nav_element.append(status_bar);\n",
       "    this.message = status_bar[0];\n",
       "}\n",
       "\n",
       "mpl.figure.prototype.request_resize = function(x_pixels, y_pixels) {\n",
       "    // Request matplotlib to resize the figure. Matplotlib will then trigger a resize in the client,\n",
       "    // which will in turn request a refresh of the image.\n",
       "    this.send_message('resize', {'width': x_pixels, 'height': y_pixels});\n",
       "}\n",
       "\n",
       "mpl.figure.prototype.send_message = function(type, properties) {\n",
       "    properties['type'] = type;\n",
       "    properties['figure_id'] = this.id;\n",
       "    this.ws.send(JSON.stringify(properties));\n",
       "}\n",
       "\n",
       "mpl.figure.prototype.send_draw_message = function() {\n",
       "    if (!this.waiting) {\n",
       "        this.waiting = true;\n",
       "        this.ws.send(JSON.stringify({type: \"draw\", figure_id: this.id}));\n",
       "    }\n",
       "}\n",
       "\n",
       "\n",
       "mpl.figure.prototype.handle_save = function(fig, msg) {\n",
       "    var format_dropdown = fig.format_dropdown;\n",
       "    var format = format_dropdown.options[format_dropdown.selectedIndex].value;\n",
       "    fig.ondownload(fig, format);\n",
       "}\n",
       "\n",
       "\n",
       "mpl.figure.prototype.handle_resize = function(fig, msg) {\n",
       "    var size = msg['size'];\n",
       "    if (size[0] != fig.canvas.width || size[1] != fig.canvas.height) {\n",
       "        fig._resize_canvas(size[0], size[1]);\n",
       "        fig.send_message(\"refresh\", {});\n",
       "    };\n",
       "}\n",
       "\n",
       "mpl.figure.prototype.handle_rubberband = function(fig, msg) {\n",
       "    var x0 = msg['x0'] / mpl.ratio;\n",
       "    var y0 = (fig.canvas.height - msg['y0']) / mpl.ratio;\n",
       "    var x1 = msg['x1'] / mpl.ratio;\n",
       "    var y1 = (fig.canvas.height - msg['y1']) / mpl.ratio;\n",
       "    x0 = Math.floor(x0) + 0.5;\n",
       "    y0 = Math.floor(y0) + 0.5;\n",
       "    x1 = Math.floor(x1) + 0.5;\n",
       "    y1 = Math.floor(y1) + 0.5;\n",
       "    var min_x = Math.min(x0, x1);\n",
       "    var min_y = Math.min(y0, y1);\n",
       "    var width = Math.abs(x1 - x0);\n",
       "    var height = Math.abs(y1 - y0);\n",
       "\n",
       "    fig.rubberband_context.clearRect(\n",
       "        0, 0, fig.canvas.width, fig.canvas.height);\n",
       "\n",
       "    fig.rubberband_context.strokeRect(min_x, min_y, width, height);\n",
       "}\n",
       "\n",
       "mpl.figure.prototype.handle_figure_label = function(fig, msg) {\n",
       "    // Updates the figure title.\n",
       "    fig.header.textContent = msg['label'];\n",
       "}\n",
       "\n",
       "mpl.figure.prototype.handle_cursor = function(fig, msg) {\n",
       "    var cursor = msg['cursor'];\n",
       "    switch(cursor)\n",
       "    {\n",
       "    case 0:\n",
       "        cursor = 'pointer';\n",
       "        break;\n",
       "    case 1:\n",
       "        cursor = 'default';\n",
       "        break;\n",
       "    case 2:\n",
       "        cursor = 'crosshair';\n",
       "        break;\n",
       "    case 3:\n",
       "        cursor = 'move';\n",
       "        break;\n",
       "    }\n",
       "    fig.rubberband_canvas.style.cursor = cursor;\n",
       "}\n",
       "\n",
       "mpl.figure.prototype.handle_message = function(fig, msg) {\n",
       "    fig.message.textContent = msg['message'];\n",
       "}\n",
       "\n",
       "mpl.figure.prototype.handle_draw = function(fig, msg) {\n",
       "    // Request the server to send over a new figure.\n",
       "    fig.send_draw_message();\n",
       "}\n",
       "\n",
       "mpl.figure.prototype.handle_image_mode = function(fig, msg) {\n",
       "    fig.image_mode = msg['mode'];\n",
       "}\n",
       "\n",
       "mpl.figure.prototype.updated_canvas_event = function() {\n",
       "    // Called whenever the canvas gets updated.\n",
       "    this.send_message(\"ack\", {});\n",
       "}\n",
       "\n",
       "// A function to construct a web socket function for onmessage handling.\n",
       "// Called in the figure constructor.\n",
       "mpl.figure.prototype._make_on_message_function = function(fig) {\n",
       "    return function socket_on_message(evt) {\n",
       "        if (evt.data instanceof Blob) {\n",
       "            /* FIXME: We get \"Resource interpreted as Image but\n",
       "             * transferred with MIME type text/plain:\" errors on\n",
       "             * Chrome.  But how to set the MIME type?  It doesn't seem\n",
       "             * to be part of the websocket stream */\n",
       "            evt.data.type = \"image/png\";\n",
       "\n",
       "            /* Free the memory for the previous frames */\n",
       "            if (fig.imageObj.src) {\n",
       "                (window.URL || window.webkitURL).revokeObjectURL(\n",
       "                    fig.imageObj.src);\n",
       "            }\n",
       "\n",
       "            fig.imageObj.src = (window.URL || window.webkitURL).createObjectURL(\n",
       "                evt.data);\n",
       "            fig.updated_canvas_event();\n",
       "            fig.waiting = false;\n",
       "            return;\n",
       "        }\n",
       "        else if (typeof evt.data === 'string' && evt.data.slice(0, 21) == \"data:image/png;base64\") {\n",
       "            fig.imageObj.src = evt.data;\n",
       "            fig.updated_canvas_event();\n",
       "            fig.waiting = false;\n",
       "            return;\n",
       "        }\n",
       "\n",
       "        var msg = JSON.parse(evt.data);\n",
       "        var msg_type = msg['type'];\n",
       "\n",
       "        // Call the  \"handle_{type}\" callback, which takes\n",
       "        // the figure and JSON message as its only arguments.\n",
       "        try {\n",
       "            var callback = fig[\"handle_\" + msg_type];\n",
       "        } catch (e) {\n",
       "            console.log(\"No handler for the '\" + msg_type + \"' message type: \", msg);\n",
       "            return;\n",
       "        }\n",
       "\n",
       "        if (callback) {\n",
       "            try {\n",
       "                // console.log(\"Handling '\" + msg_type + \"' message: \", msg);\n",
       "                callback(fig, msg);\n",
       "            } catch (e) {\n",
       "                console.log(\"Exception inside the 'handler_\" + msg_type + \"' callback:\", e, e.stack, msg);\n",
       "            }\n",
       "        }\n",
       "    };\n",
       "}\n",
       "\n",
       "// from http://stackoverflow.com/questions/1114465/getting-mouse-location-in-canvas\n",
       "mpl.findpos = function(e) {\n",
       "    //this section is from http://www.quirksmode.org/js/events_properties.html\n",
       "    var targ;\n",
       "    if (!e)\n",
       "        e = window.event;\n",
       "    if (e.target)\n",
       "        targ = e.target;\n",
       "    else if (e.srcElement)\n",
       "        targ = e.srcElement;\n",
       "    if (targ.nodeType == 3) // defeat Safari bug\n",
       "        targ = targ.parentNode;\n",
       "\n",
       "    // jQuery normalizes the pageX and pageY\n",
       "    // pageX,Y are the mouse positions relative to the document\n",
       "    // offset() returns the position of the element relative to the document\n",
       "    var x = e.pageX - $(targ).offset().left;\n",
       "    var y = e.pageY - $(targ).offset().top;\n",
       "\n",
       "    return {\"x\": x, \"y\": y};\n",
       "};\n",
       "\n",
       "/*\n",
       " * return a copy of an object with only non-object keys\n",
       " * we need this to avoid circular references\n",
       " * http://stackoverflow.com/a/24161582/3208463\n",
       " */\n",
       "function simpleKeys (original) {\n",
       "  return Object.keys(original).reduce(function (obj, key) {\n",
       "    if (typeof original[key] !== 'object')\n",
       "        obj[key] = original[key]\n",
       "    return obj;\n",
       "  }, {});\n",
       "}\n",
       "\n",
       "mpl.figure.prototype.mouse_event = function(event, name) {\n",
       "    var canvas_pos = mpl.findpos(event)\n",
       "\n",
       "    if (name === 'button_press')\n",
       "    {\n",
       "        this.canvas.focus();\n",
       "        this.canvas_div.focus();\n",
       "    }\n",
       "\n",
       "    var x = canvas_pos.x * mpl.ratio;\n",
       "    var y = canvas_pos.y * mpl.ratio;\n",
       "\n",
       "    this.send_message(name, {x: x, y: y, button: event.button,\n",
       "                             step: event.step,\n",
       "                             guiEvent: simpleKeys(event)});\n",
       "\n",
       "    /* This prevents the web browser from automatically changing to\n",
       "     * the text insertion cursor when the button is pressed.  We want\n",
       "     * to control all of the cursor setting manually through the\n",
       "     * 'cursor' event from matplotlib */\n",
       "    event.preventDefault();\n",
       "    return false;\n",
       "}\n",
       "\n",
       "mpl.figure.prototype._key_event_extra = function(event, name) {\n",
       "    // Handle any extra behaviour associated with a key event\n",
       "}\n",
       "\n",
       "mpl.figure.prototype.key_event = function(event, name) {\n",
       "\n",
       "    // Prevent repeat events\n",
       "    if (name == 'key_press')\n",
       "    {\n",
       "        if (event.which === this._key)\n",
       "            return;\n",
       "        else\n",
       "            this._key = event.which;\n",
       "    }\n",
       "    if (name == 'key_release')\n",
       "        this._key = null;\n",
       "\n",
       "    var value = '';\n",
       "    if (event.ctrlKey && event.which != 17)\n",
       "        value += \"ctrl+\";\n",
       "    if (event.altKey && event.which != 18)\n",
       "        value += \"alt+\";\n",
       "    if (event.shiftKey && event.which != 16)\n",
       "        value += \"shift+\";\n",
       "\n",
       "    value += 'k';\n",
       "    value += event.which.toString();\n",
       "\n",
       "    this._key_event_extra(event, name);\n",
       "\n",
       "    this.send_message(name, {key: value,\n",
       "                             guiEvent: simpleKeys(event)});\n",
       "    return false;\n",
       "}\n",
       "\n",
       "mpl.figure.prototype.toolbar_button_onclick = function(name) {\n",
       "    if (name == 'download') {\n",
       "        this.handle_save(this, null);\n",
       "    } else {\n",
       "        this.send_message(\"toolbar_button\", {name: name});\n",
       "    }\n",
       "};\n",
       "\n",
       "mpl.figure.prototype.toolbar_button_onmouseover = function(tooltip) {\n",
       "    this.message.textContent = tooltip;\n",
       "};\n",
       "mpl.toolbar_items = [[\"Home\", \"Reset original view\", \"fa fa-home icon-home\", \"home\"], [\"Back\", \"Back to  previous view\", \"fa fa-arrow-left icon-arrow-left\", \"back\"], [\"Forward\", \"Forward to next view\", \"fa fa-arrow-right icon-arrow-right\", \"forward\"], [\"\", \"\", \"\", \"\"], [\"Pan\", \"Pan axes with left mouse, zoom with right\", \"fa fa-arrows icon-move\", \"pan\"], [\"Zoom\", \"Zoom to rectangle\", \"fa fa-square-o icon-check-empty\", \"zoom\"], [\"\", \"\", \"\", \"\"], [\"Download\", \"Download plot\", \"fa fa-floppy-o icon-save\", \"download\"]];\n",
       "\n",
       "mpl.extensions = [\"eps\", \"jpeg\", \"pdf\", \"png\", \"ps\", \"raw\", \"svg\", \"tif\"];\n",
       "\n",
       "mpl.default_extension = \"png\";var comm_websocket_adapter = function(comm) {\n",
       "    // Create a \"websocket\"-like object which calls the given IPython comm\n",
       "    // object with the appropriate methods. Currently this is a non binary\n",
       "    // socket, so there is still some room for performance tuning.\n",
       "    var ws = {};\n",
       "\n",
       "    ws.close = function() {\n",
       "        comm.close()\n",
       "    };\n",
       "    ws.send = function(m) {\n",
       "        //console.log('sending', m);\n",
       "        comm.send(m);\n",
       "    };\n",
       "    // Register the callback with on_msg.\n",
       "    comm.on_msg(function(msg) {\n",
       "        //console.log('receiving', msg['content']['data'], msg);\n",
       "        // Pass the mpl event to the overriden (by mpl) onmessage function.\n",
       "        ws.onmessage(msg['content']['data'])\n",
       "    });\n",
       "    return ws;\n",
       "}\n",
       "\n",
       "mpl.mpl_figure_comm = function(comm, msg) {\n",
       "    // This is the function which gets called when the mpl process\n",
       "    // starts-up an IPython Comm through the \"matplotlib\" channel.\n",
       "\n",
       "    var id = msg.content.data.id;\n",
       "    // Get hold of the div created by the display call when the Comm\n",
       "    // socket was opened in Python.\n",
       "    var element = $(\"#\" + id);\n",
       "    var ws_proxy = comm_websocket_adapter(comm)\n",
       "\n",
       "    function ondownload(figure, format) {\n",
       "        window.open(figure.imageObj.src);\n",
       "    }\n",
       "\n",
       "    var fig = new mpl.figure(id, ws_proxy,\n",
       "                           ondownload,\n",
       "                           element.get(0));\n",
       "\n",
       "    // Call onopen now - mpl needs it, as it is assuming we've passed it a real\n",
       "    // web socket which is closed, not our websocket->open comm proxy.\n",
       "    ws_proxy.onopen();\n",
       "\n",
       "    fig.parent_element = element.get(0);\n",
       "    fig.cell_info = mpl.find_output_cell(\"<div id='\" + id + \"'></div>\");\n",
       "    if (!fig.cell_info) {\n",
       "        console.error(\"Failed to find cell for figure\", id, fig);\n",
       "        return;\n",
       "    }\n",
       "\n",
       "    var output_index = fig.cell_info[2]\n",
       "    var cell = fig.cell_info[0];\n",
       "\n",
       "};\n",
       "\n",
       "mpl.figure.prototype.handle_close = function(fig, msg) {\n",
       "    var width = fig.canvas.width/mpl.ratio\n",
       "    fig.root.unbind('remove')\n",
       "\n",
       "    // Update the output cell to use the data from the current canvas.\n",
       "    fig.push_to_output();\n",
       "    var dataURL = fig.canvas.toDataURL();\n",
       "    // Re-enable the keyboard manager in IPython - without this line, in FF,\n",
       "    // the notebook keyboard shortcuts fail.\n",
       "    IPython.keyboard_manager.enable()\n",
       "    $(fig.parent_element).html('<img src=\"' + dataURL + '\" width=\"' + width + '\">');\n",
       "    fig.close_ws(fig, msg);\n",
       "}\n",
       "\n",
       "mpl.figure.prototype.close_ws = function(fig, msg){\n",
       "    fig.send_message('closing', msg);\n",
       "    // fig.ws.close()\n",
       "}\n",
       "\n",
       "mpl.figure.prototype.push_to_output = function(remove_interactive) {\n",
       "    // Turn the data on the canvas into data in the output cell.\n",
       "    var width = this.canvas.width/mpl.ratio\n",
       "    var dataURL = this.canvas.toDataURL();\n",
       "    this.cell_info[1]['text/html'] = '<img src=\"' + dataURL + '\" width=\"' + width + '\">';\n",
       "}\n",
       "\n",
       "mpl.figure.prototype.updated_canvas_event = function() {\n",
       "    // Tell IPython that the notebook contents must change.\n",
       "    IPython.notebook.set_dirty(true);\n",
       "    this.send_message(\"ack\", {});\n",
       "    var fig = this;\n",
       "    // Wait a second, then push the new image to the DOM so\n",
       "    // that it is saved nicely (might be nice to debounce this).\n",
       "    setTimeout(function () { fig.push_to_output() }, 1000);\n",
       "}\n",
       "\n",
       "mpl.figure.prototype._init_toolbar = function() {\n",
       "    var fig = this;\n",
       "\n",
       "    var nav_element = $('<div/>')\n",
       "    nav_element.attr('style', 'width: 100%');\n",
       "    this.root.append(nav_element);\n",
       "\n",
       "    // Define a callback function for later on.\n",
       "    function toolbar_event(event) {\n",
       "        return fig.toolbar_button_onclick(event['data']);\n",
       "    }\n",
       "    function toolbar_mouse_event(event) {\n",
       "        return fig.toolbar_button_onmouseover(event['data']);\n",
       "    }\n",
       "\n",
       "    for(var toolbar_ind in mpl.toolbar_items){\n",
       "        var name = mpl.toolbar_items[toolbar_ind][0];\n",
       "        var tooltip = mpl.toolbar_items[toolbar_ind][1];\n",
       "        var image = mpl.toolbar_items[toolbar_ind][2];\n",
       "        var method_name = mpl.toolbar_items[toolbar_ind][3];\n",
       "\n",
       "        if (!name) { continue; };\n",
       "\n",
       "        var button = $('<button class=\"btn btn-default\" href=\"#\" title=\"' + name + '\"><i class=\"fa ' + image + ' fa-lg\"></i></button>');\n",
       "        button.click(method_name, toolbar_event);\n",
       "        button.mouseover(tooltip, toolbar_mouse_event);\n",
       "        nav_element.append(button);\n",
       "    }\n",
       "\n",
       "    // Add the status bar.\n",
       "    var status_bar = $('<span class=\"mpl-message\" style=\"text-align:right; float: right;\"/>');\n",
       "    nav_element.append(status_bar);\n",
       "    this.message = status_bar[0];\n",
       "\n",
       "    // Add the close button to the window.\n",
       "    var buttongrp = $('<div class=\"btn-group inline pull-right\"></div>');\n",
       "    var button = $('<button class=\"btn btn-mini btn-primary\" href=\"#\" title=\"Stop Interaction\"><i class=\"fa fa-power-off icon-remove icon-large\"></i></button>');\n",
       "    button.click(function (evt) { fig.handle_close(fig, {}); } );\n",
       "    button.mouseover('Stop Interaction', toolbar_mouse_event);\n",
       "    buttongrp.append(button);\n",
       "    var titlebar = this.root.find($('.ui-dialog-titlebar'));\n",
       "    titlebar.prepend(buttongrp);\n",
       "}\n",
       "\n",
       "mpl.figure.prototype._root_extra_style = function(el){\n",
       "    var fig = this\n",
       "    el.on(\"remove\", function(){\n",
       "\tfig.close_ws(fig, {});\n",
       "    });\n",
       "}\n",
       "\n",
       "mpl.figure.prototype._canvas_extra_style = function(el){\n",
       "    // this is important to make the div 'focusable\n",
       "    el.attr('tabindex', 0)\n",
       "    // reach out to IPython and tell the keyboard manager to turn it's self\n",
       "    // off when our div gets focus\n",
       "\n",
       "    // location in version 3\n",
       "    if (IPython.notebook.keyboard_manager) {\n",
       "        IPython.notebook.keyboard_manager.register_events(el);\n",
       "    }\n",
       "    else {\n",
       "        // location in version 2\n",
       "        IPython.keyboard_manager.register_events(el);\n",
       "    }\n",
       "\n",
       "}\n",
       "\n",
       "mpl.figure.prototype._key_event_extra = function(event, name) {\n",
       "    var manager = IPython.notebook.keyboard_manager;\n",
       "    if (!manager)\n",
       "        manager = IPython.keyboard_manager;\n",
       "\n",
       "    // Check for shift+enter\n",
       "    if (event.shiftKey && event.which == 13) {\n",
       "        this.canvas_div.blur();\n",
       "        // select the cell after this one\n",
       "        var index = IPython.notebook.find_cell_index(this.cell_info[0]);\n",
       "        IPython.notebook.select(index + 1);\n",
       "    }\n",
       "}\n",
       "\n",
       "mpl.figure.prototype.handle_save = function(fig, msg) {\n",
       "    fig.ondownload(fig, null);\n",
       "}\n",
       "\n",
       "\n",
       "mpl.find_output_cell = function(html_output) {\n",
       "    // Return the cell and output element which can be found *uniquely* in the notebook.\n",
       "    // Note - this is a bit hacky, but it is done because the \"notebook_saving.Notebook\"\n",
       "    // IPython event is triggered only after the cells have been serialised, which for\n",
       "    // our purposes (turning an active figure into a static one), is too late.\n",
       "    var cells = IPython.notebook.get_cells();\n",
       "    var ncells = cells.length;\n",
       "    for (var i=0; i<ncells; i++) {\n",
       "        var cell = cells[i];\n",
       "        if (cell.cell_type === 'code'){\n",
       "            for (var j=0; j<cell.output_area.outputs.length; j++) {\n",
       "                var data = cell.output_area.outputs[j];\n",
       "                if (data.data) {\n",
       "                    // IPython >= 3 moved mimebundle to data attribute of output\n",
       "                    data = data.data;\n",
       "                }\n",
       "                if (data['text/html'] == html_output) {\n",
       "                    return [cell, data, j];\n",
       "                }\n",
       "            }\n",
       "        }\n",
       "    }\n",
       "}\n",
       "\n",
       "// Register the function which deals with the matplotlib target/channel.\n",
       "// The kernel may be null if the page has been refreshed.\n",
       "if (IPython.notebook.kernel != null) {\n",
       "    IPython.notebook.kernel.comm_manager.register_target('matplotlib', mpl.mpl_figure_comm);\n",
       "}\n"
      ],
      "text/plain": [
       "<IPython.core.display.Javascript object>"
      ]
     },
     "metadata": {},
     "output_type": "display_data"
    },
    {
     "data": {
      "text/html": [
       "<img src=\"data:image/png;base64,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\" width=\"640\">"
      ],
      "text/plain": [
       "<IPython.core.display.HTML object>"
      ]
     },
     "metadata": {},
     "output_type": "display_data"
    }
   ],
   "source": [
    "n=100\n",
    "r=1000\n",
    "plt.close\n",
    "lframes=initie(n,r)\n",
    "ani=anim.FuncAnimation(fig,change,fargs=(fig,scat),frames=lframes,interval=10)"
   ]
  },
  {
   "cell_type": "code",
   "execution_count": null,
   "metadata": {
    "collapsed": true,
    "slideshow": {
     "slide_type": "skip"
    }
   },
   "outputs": [],
   "source": [
    "#from IPython.display import HTML\n",
    "#HTML(ani.to_html5_video())"
   ]
  },
  {
   "cell_type": "markdown",
   "metadata": {
    "slideshow": {
     "slide_type": "subslide"
    }
   },
   "source": [
    "## Complexité cubique\n",
    "\n",
    "Produit matriciel"
   ]
  },
  {
   "cell_type": "code",
   "execution_count": null,
   "metadata": {
    "collapsed": true
   },
   "outputs": [],
   "source": [
    "#Données : deux matrices carrées A et B de taille n.\n",
    "#Les matrices sont des listes de listes d'entiers. \n",
    "#Les sous-listes sont les lignes des matrices.\n",
    "def prodmat(A,B):\n",
    "    C=[[0 for j in range(n)] for i in range(n)]\n",
    "    for i in range(n):\n",
    "        for j in range(n):\n",
    "            for k in range(n):\n",
    "                C[i][j]=C[i][j]+A[i][k]*B[k][j]\n",
    "    return C"
   ]
  },
  {
   "cell_type": "markdown",
   "metadata": {
    "slideshow": {
     "slide_type": "subslide"
    }
   },
   "source": [
    "Taille des instances : $n$\n",
    "* création de liste de listes $\\rightarrow$ $n^2$\n",
    "* Par itération interne : multiplication $\\rightarrow$ 1 + addition $\\rightarrow$ 1   \n",
    "Au total $\\sum\\limits_{i=0}^{n-1}\\sum\\limits_{j=0}^{n-1}\\sum\\limits_{k=0}^{n-1} 2=\\frac{n(n+1)(2n+1)}{3}$\n",
    "* renvoi de valeur $\\rightarrow$ 1\n",
    "\n",
    "$C(n)=n^2+\\frac{n(n+1)(2n+1)}{3}+1=O(n^3)$"
   ]
  },
  {
   "cell_type": "markdown",
   "metadata": {
    "slideshow": {
     "slide_type": "subslide"
    }
   },
   "source": [
    "## Complexité logarithmique\n",
    "\n",
    "Exponentiation rapide (version itérative)"
   ]
  },
  {
   "cell_type": "code",
   "execution_count": null,
   "metadata": {
    "collapsed": true
   },
   "outputs": [],
   "source": [
    "def exprapiteratif(a,n):\n",
    "    mult=1\n",
    "    nomb=a\n",
    "    expo=n\n",
    "    while(expo>1):\n",
    "        if (expo%2==0):\n",
    "            mult=mult\n",
    "            expo=expo/2\n",
    "            nomb=nomb*nomb\n",
    "        else:\n",
    "            mult=mult*nomb\n",
    "            expo=(expo-1)/2\n",
    "            nomb=nomb*nomb\n",
    "    return mult*nomb"
   ]
  },
  {
   "cell_type": "markdown",
   "metadata": {
    "slideshow": {
     "slide_type": "subslide"
    }
   },
   "source": [
    "Taille de l'instance : $n$\n",
    "\n",
    "* On dénombre pour commencer $3$ affectations.\n",
    "* On montre par récurrence sur $n$ que si $2^k \\leq n<2^{k+1}$, alors la boucle présentera $k+1$ itérations. Au pire des cas, chaque itération comportera  $2$ tests, $3$ affectations, $2$ multiplications, une division et une différence. Soit une complexit\\'e de $9(k+1)=9(\\log_2 n+1)$.\n",
    "* Enfin, la fonction renvoie une valeur.\n",
    "\n",
    "$C(n)=4+9(\\log_2 n+1)=O(\\log n)$."
   ]
  },
  {
   "cell_type": "markdown",
   "metadata": {
    "slideshow": {
     "slide_type": "subslide"
    }
   },
   "source": [
    "## Complexités logarithmiques (culture)\n",
    "\n",
    "* <b>Recherche dichotomique :</b> tout algorithme récursif appliqué à une liste de longueur $n$ pour lequel, à chaque appel, on se désintéresse de la moitié des éléments de la liste, aura une pile d'appels de taille $\\lceil \\log_2 n \\rceil$.\n",
    "* <b>Représentation binaire :</b> le nombre de bits nécessaires pour coder les entiers de $[\\!| 1, 2^i|\\!]= [\\!| 1, n|\\!]$ est $i=\\log_2 n$.\n",
    "* <b>Profondeur d'un arbre binaire complet :</b> un arbre dont chaque noeud père admet exactement $2$ fils admet $n$ feuilles s'il a une profondeur d'au moins $\\lfloor \\log_2 n\\rfloor$."
   ]
  },
  {
   "cell_type": "markdown",
   "metadata": {
    "slideshow": {
     "slide_type": "slide"
    }
   },
   "source": [
    "# CHOIX D'ALGORITHMES"
   ]
  },
  {
   "cell_type": "markdown",
   "metadata": {
    "slideshow": {
     "slide_type": "subslide"
    }
   },
   "source": [
    "## Cas d'école : Substitution à l'indéterminée"
   ]
  },
  {
   "cell_type": "markdown",
   "metadata": {
    "slideshow": {
     "slide_type": "subslide"
    }
   },
   "source": [
    "##### Position du problème\n",
    "\n",
    "* $P=\\sum\\limits_{k=0}^n a_kX^k$  non nul à coefficients réels, de degré $n\\in \\mathbb{N}$.\n",
    "\n",
    "*  $x\\in \\mathbb{R}$ fixé $\\rightarrow$ valeur $P(x)$     \n",
    "$\\rightarrow $ approchée ou non  ($\\verb\"float\"$ vs $\\verb\"int\"$)      \n",
    "$\\leftrightarrow$ Résultat de la substitution de $x$ à l'indéterminée de $P$\n",
    "\n",
    "* Implémentation Python : $P$ $\\leftrightarrow$ $\\verb\"L=[\"$ $a_0,...,a_n$ $\\verb\"]\"$.    \n",
    "$\\rightarrow$ Taille instance $=$ degré $n$ de $P$ $\\approx$ longueur $n+1$ de $\\verb\"L\"$."
   ]
  },
  {
   "cell_type": "markdown",
   "metadata": {
    "slideshow": {
     "slide_type": "subslide"
    }
   },
   "source": [
    "##### Algorithme naïf"
   ]
  },
  {
   "cell_type": "code",
   "execution_count": null,
   "metadata": {
    "collapsed": true
   },
   "outputs": [],
   "source": [
    "def substitutionnaive(x,L):\n",
    "    n=len(L)\n",
    "    accu=0\n",
    "    res=L[0]\n",
    "    for i in range(1,n):\n",
    "        accu=L[i]\n",
    "        for j in range(i):\n",
    "            accu=accu*x#on calcule à chaque fois a_i x^i\n",
    "        res=res+accu\n",
    "    return res"
   ]
  },
  {
   "cell_type": "markdown",
   "metadata": {
    "slideshow": {
     "slide_type": "fragment"
    }
   },
   "source": [
    "Complexité : $O(n^2)$"
   ]
  },
  {
   "cell_type": "markdown",
   "metadata": {
    "slideshow": {
     "slide_type": "subslide"
    }
   },
   "source": [
    "##### Amélioration du calcul de puissance"
   ]
  },
  {
   "cell_type": "code",
   "execution_count": null,
   "metadata": {
    "collapsed": true
   },
   "outputs": [],
   "source": [
    "def substitutionamelioree(x,L):\n",
    "    n=len(L)\n",
    "    accu=0\n",
    "    res=L[0]\n",
    "    for i in range(1,n):\n",
    "        res=res+L[i]*exprap(x,i)\n",
    "    return res"
   ]
  },
  {
   "cell_type": "markdown",
   "metadata": {
    "slideshow": {
     "slide_type": "fragment"
    }
   },
   "source": [
    "Complexité : $O(\\ln_2(n!))=O(n\\ln_2 n)$ (Stirling)."
   ]
  },
  {
   "cell_type": "markdown",
   "metadata": {
    "slideshow": {
     "slide_type": "subslide"
    }
   },
   "source": [
    "##### Algorithme de Hörner\n",
    "\n",
    "Minimser le nombre de multiplications $\\rightarrow$ parenthésage judicieux $\\rightarrow$ boucle unique :\n",
    "$$\n",
    "P(x)=a_0+x(a_1+x(a_2+x(a_3+x(... +x(a_{n-1}+a_nx)))... )\n",
    "$$"
   ]
  },
  {
   "cell_type": "code",
   "execution_count": null,
   "metadata": {
    "collapsed": true
   },
   "outputs": [],
   "source": [
    "def horner(x,L):\n",
    "    res=L[-1]\n",
    "    for i in range(n):\n",
    "        res=x*res+L[n-1-i]\n",
    "    return res"
   ]
  },
  {
   "cell_type": "markdown",
   "metadata": {
    "slideshow": {
     "slide_type": "fragment"
    }
   },
   "source": [
    "Complexité : $O(n)$"
   ]
  },
  {
   "cell_type": "markdown",
   "metadata": {
    "slideshow": {
     "slide_type": "subslide"
    }
   },
   "source": [
    "## Compromis spatial/temporel\n",
    "\n",
    "##### Renversements en place de listes"
   ]
  },
  {
   "cell_type": "code",
   "execution_count": null,
   "metadata": {
    "collapsed": true
   },
   "outputs": [],
   "source": [
    "def renverse1(L):        \n",
    "    n=len(L)                 \n",
    "    M=[0]*n                  \n",
    "    for i in range(n):\n",
    "        M[i]=L[n-1-i]\n",
    "    for i in range(n):\n",
    "        L[i]=M[i]\n",
    "        \n",
    "def renverse2(L):\n",
    "    n=len(L)\n",
    "    for i in range(n):\n",
    "        L[i],L[n-1-i]=L[n-1-i],L[i]"
   ]
  },
  {
   "cell_type": "markdown",
   "metadata": {
    "slideshow": {
     "slide_type": "fragment"
    }
   },
   "source": [
    "* Complexités temporelles : $C_1(n)=3n+1=O(n)$ et $C_2(n)=2n+1=O(n)$\n",
    "* Complexités spatiales : $S_1(n)=n$ et $S_2(n)=O(1)$ !    \n",
    "$\\rightarrow$ meilleur compromis asymptotique : $\\verb\"renverse2\"$"
   ]
  }
 ],
 "metadata": {
  "anaconda-cloud": {},
  "celltoolbar": "Slideshow",
  "kernelspec": {
   "display_name": "Python [conda root]",
   "language": "python",
   "name": "conda-root-py"
  },
  "language_info": {
   "codemirror_mode": {
    "name": "ipython",
    "version": 2
   },
   "file_extension": ".py",
   "mimetype": "text/x-python",
   "name": "python",
   "nbconvert_exporter": "python",
   "pygments_lexer": "ipython2",
   "version": "2.7.13"
  }
 },
 "nbformat": 4,
 "nbformat_minor": 1
}
