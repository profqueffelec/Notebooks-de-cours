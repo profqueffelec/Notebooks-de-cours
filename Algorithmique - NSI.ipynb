{
 "cells": [
  {
   "cell_type": "code",
   "execution_count": 80,
   "metadata": {
    "collapsed": true,
    "slideshow": {
     "slide_type": "skip"
    }
   },
   "outputs": [],
   "source": [
    "from IPython.display import IFrame\n",
    "from IPython.display import HTML"
   ]
  },
  {
   "cell_type": "code",
   "execution_count": 81,
   "metadata": {
    "collapsed": true,
    "slideshow": {
     "slide_type": "skip"
    }
   },
   "outputs": [],
   "source": [
    "import matplotlib.pyplot as plt\n",
    "import matplotlib.animation as anim\n",
    "import random\n",
    "import sys\n",
    "import numpy as np"
   ]
  },
  {
   "cell_type": "markdown",
   "metadata": {
    "slideshow": {
     "slide_type": "skip"
    }
   },
   "source": [
    "https://github.com/awesomedata/awesome-public-datasets"
   ]
  },
  {
   "cell_type": "code",
   "execution_count": 76,
   "metadata": {
    "slideshow": {
     "slide_type": "skip"
    }
   },
   "outputs": [
    {
     "name": "stdout",
     "output_type": "stream",
     "text": [
      "The Zen of Python, by Tim Peters\n",
      "\n",
      "Beautiful is better than ugly.\n",
      "Explicit is better than implicit.\n",
      "Simple is better than complex.\n",
      "Complex is better than complicated.\n",
      "Flat is better than nested.\n",
      "Sparse is better than dense.\n",
      "Readability counts.\n",
      "Special cases aren't special enough to break the rules.\n",
      "Although practicality beats purity.\n",
      "Errors should never pass silently.\n",
      "Unless explicitly silenced.\n",
      "In the face of ambiguity, refuse the temptation to guess.\n",
      "There should be one-- and preferably only one --obvious way to do it.\n",
      "Although that way may not be obvious at first unless you're Dutch.\n",
      "Now is better than never.\n",
      "Although never is often better than *right* now.\n",
      "If the implementation is hard to explain, it's a bad idea.\n",
      "If the implementation is easy to explain, it may be a good idea.\n",
      "Namespaces are one honking great idea -- let's do more of those!\n"
     ]
    }
   ],
   "source": [
    "import this"
   ]
  },
  {
   "cell_type": "code",
   "execution_count": 77,
   "metadata": {
    "collapsed": true,
    "slideshow": {
     "slide_type": "skip"
    }
   },
   "outputs": [],
   "source": [
    "import antigravity"
   ]
  },
  {
   "cell_type": "code",
   "execution_count": 78,
   "metadata": {
    "slideshow": {
     "slide_type": "skip"
    }
   },
   "outputs": [
    {
     "ename": "SyntaxError",
     "evalue": "not a chance (<ipython-input-78-2aebb3fc8ecf>, line 1)",
     "output_type": "error",
     "traceback": [
      "\u001b[0;36m  File \u001b[0;32m\"<ipython-input-78-2aebb3fc8ecf>\"\u001b[0;36m, line \u001b[0;32m1\u001b[0m\n\u001b[0;31m    from __future__ import braces\u001b[0m\n\u001b[0;31mSyntaxError\u001b[0m\u001b[0;31m:\u001b[0m not a chance\n"
     ]
    }
   ],
   "source": [
    "from __future__ import braces"
   ]
  },
  {
   "cell_type": "markdown",
   "metadata": {
    "slideshow": {
     "slide_type": "slide"
    }
   },
   "source": [
    "\n",
    "<CENTER>\n",
    "<div style=width:600px;border-radius:10px;height:200px;background-color:#ffcccc;text-align:center;vertical-align:middle;>\n",
    "\n",
    "<font size=14, font color=navy>  \n",
    "<font size=14, font color=navy>NSI - Algorithmique\n",
    "\n",
    "</div>\n",
    "</CENTER>"
   ]
  },
  {
   "cell_type": "markdown",
   "metadata": {
    "slideshow": {
     "slide_type": "slide"
    }
   },
   "source": [
    "## <center> PARCOURS SEQUENTIEL D'UN TABLEAU</center>"
   ]
  },
  {
   "cell_type": "markdown",
   "metadata": {
    "collapsed": true,
    "slideshow": {
     "slide_type": "subslide"
    }
   },
   "source": [
    "* Tableau $\\verb\"L\"$ :    \n",
    "    * Contenu quelconque    \n",
    "    $\\rightarrow$ Supposé homogène (même type)\n",
    "    * Type $\\verb\"list\"$ en Python    \n",
    "    $\\rightarrow$ itérable    \n",
    "    $\\rightarrow$ éléments indexés par $[\\! | 0, \\verb\"len(L)\"-1|\\! ]$\n",
    "* Parcours     \n",
    "    * Par les indices : $\\verb\"for i in range(len(L))\"$    \n",
    "    * Par les éléments : $\\verb\"for elt in L\"$"
   ]
  },
  {
   "cell_type": "code",
   "execution_count": null,
   "metadata": {
    "collapsed": true
   },
   "outputs": [],
   "source": [
    "L1=[2,9,1,10,7,5,9,7]\n",
    "L2=['lapin','chien','coati','panda','panda']"
   ]
  },
  {
   "cell_type": "markdown",
   "metadata": {
    "slideshow": {
     "slide_type": "subslide"
    }
   },
   "source": [
    "### Recherche d'une occurence.\n",
    "* Données : \n",
    "    * liste L homogène\n",
    "    * un élément x du même type"
   ]
  },
  {
   "cell_type": "markdown",
   "metadata": {
    "slideshow": {
     "slide_type": "fragment"
    }
   },
   "source": [
    "* Résultats possibles :\n",
    "    * booléen correspondant à la présence de x dans L.\n",
    "    * indice de la première occurence de x (NaN sinon)\n",
    "    * liste des indices des occurences de x (éventuellement vide)"
   ]
  },
  {
   "cell_type": "markdown",
   "metadata": {
    "collapsed": true,
    "slideshow": {
     "slide_type": "fragment"
    }
   },
   "source": [
    "* Moteur :\n",
    "    * On parcourt la liste.\n",
    "    * A chaque étape, on teste l'égalité de l'élément courant à x.    \n",
    "    $\\rightarrow$ polyorphisme de $\\verb\"==\"$\n",
    "    * On retourne une valeur ou on remplit une liste."
   ]
  },
  {
   "cell_type": "markdown",
   "metadata": {
    "slideshow": {
     "slide_type": "subslide"
    }
   },
   "source": [
    "* Pseudo-code/Langage naturel."
   ]
  },
  {
   "cell_type": "code",
   "execution_count": 9,
   "metadata": {
    "scrolled": true,
    "slideshow": {
     "slide_type": "fragment"
    }
   },
   "outputs": [
    {
     "data": {
      "text/html": [
       "\n",
       "        <iframe\n",
       "            width=\"670\"\n",
       "            height=\"200\"\n",
       "            src=\"./algo_rech1.pdf\"\n",
       "            frameborder=\"0\"\n",
       "            allowfullscreen\n",
       "        ></iframe>\n",
       "        "
      ],
      "text/plain": [
       "<IPython.lib.display.IFrame at 0x1104dc490>"
      ]
     },
     "execution_count": 9,
     "metadata": {},
     "output_type": "execute_result"
    }
   ],
   "source": [
    "IFrame(\"./algo_rech1.pdf\", width=670, height=200)"
   ]
  },
  {
   "cell_type": "markdown",
   "metadata": {
    "slideshow": {
     "slide_type": "fragment"
    }
   },
   "source": [
    "* Selon ma pratique, c'est inutile :\n",
    "    * problème de l'indexation naturelle/Python.\n",
    "    * verbeux\n",
    "    * oubli de la clarté de structuration de Python (retour aux {,}, ou void)\n",
    "    * Tout un tas de notations non-naturelles (accès aux éléments d'une liste,...)"
   ]
  },
  {
   "cell_type": "code",
   "execution_count": null,
   "metadata": {
    "collapsed": true,
    "slideshow": {
     "slide_type": "subslide"
    }
   },
   "outputs": [],
   "source": [
    "#A vous : booléen"
   ]
  },
  {
   "cell_type": "code",
   "execution_count": null,
   "metadata": {
    "collapsed": true,
    "slideshow": {
     "slide_type": "subslide"
    }
   },
   "outputs": [],
   "source": [
    "def rech1(x,L):\n",
    "    for elt in L:\n",
    "        if elt==x:\n",
    "            return True\n",
    "    return False"
   ]
  },
  {
   "cell_type": "code",
   "execution_count": null,
   "metadata": {
    "collapsed": true,
    "slideshow": {
     "slide_type": "fragment"
    }
   },
   "outputs": [],
   "source": [
    "# Pythonnerie\n",
    "def rechp(x,L):\n",
    "    return x in L"
   ]
  },
  {
   "cell_type": "code",
   "execution_count": null,
   "metadata": {
    "collapsed": true
   },
   "outputs": [],
   "source": [
    "# Problème : ValueError si absence"
   ]
  },
  {
   "cell_type": "code",
   "execution_count": null,
   "metadata": {
    "collapsed": true,
    "slideshow": {
     "slide_type": "subslide"
    }
   },
   "outputs": [],
   "source": [
    "# A vous : premier indice"
   ]
  },
  {
   "cell_type": "code",
   "execution_count": null,
   "metadata": {
    "collapsed": true,
    "slideshow": {
     "slide_type": "subslide"
    }
   },
   "outputs": [],
   "source": [
    "def rech2(x,L):\n",
    "    n=len(L)\n",
    "    for i in range(n):\n",
    "        if L[i]==x:\n",
    "            return i\n",
    "    return float('nan')"
   ]
  },
  {
   "cell_type": "code",
   "execution_count": null,
   "metadata": {
    "collapsed": true
   },
   "outputs": [],
   "source": [
    "# Pythonnerie\n",
    "def rechp2(x,L):\n",
    "    return L.index(x)"
   ]
  },
  {
   "cell_type": "code",
   "execution_count": 13,
   "metadata": {
    "slideshow": {
     "slide_type": "skip"
    }
   },
   "outputs": [
    {
     "data": {
      "text/plain": [
       "(True, True, True)"
      ]
     },
     "execution_count": 13,
     "metadata": {},
     "output_type": "execute_result"
    }
   ],
   "source": [
    "import numpy as np\n",
    "import math\n",
    "a=float('nan')\n",
    "a!=a,math.isnan(a),np.isnan(a)"
   ]
  },
  {
   "cell_type": "code",
   "execution_count": null,
   "metadata": {
    "collapsed": true,
    "slideshow": {
     "slide_type": "subslide"
    }
   },
   "outputs": [],
   "source": [
    "# A vous : liste des indices"
   ]
  },
  {
   "cell_type": "code",
   "execution_count": null,
   "metadata": {
    "collapsed": true,
    "slideshow": {
     "slide_type": "subslide"
    }
   },
   "outputs": [],
   "source": [
    "def rech3(x,L):\n",
    "    liste=[]\n",
    "    n=len(L)\n",
    "    for i in range(n):\n",
    "        if L[i]==x:\n",
    "            liste.append(i)\n",
    "    return liste"
   ]
  },
  {
   "cell_type": "markdown",
   "metadata": {
    "slideshow": {
     "slide_type": "subslide"
    }
   },
   "source": [
    "### Tableaux numériques\n",
    "* Problématiques :\n",
    "    * Recherche d'un maximum ou minimum (extremum)    \n",
    "    $\\rightarrow$ la valeur/son indice    \n",
    "    $\\rightarrow$ mémorisation locale (variable provisoire)\n",
    "    * Calcul de la moyenne des valeurs    \n",
    "    $\\rightarrow$ somme : accumulateur"
   ]
  },
  {
   "cell_type": "code",
   "execution_count": null,
   "metadata": {
    "collapsed": true,
    "slideshow": {
     "slide_type": "subslide"
    }
   },
   "outputs": [],
   "source": [
    "# A vous : valeur maximale"
   ]
  },
  {
   "cell_type": "code",
   "execution_count": null,
   "metadata": {
    "collapsed": true,
    "slideshow": {
     "slide_type": "subslide"
    }
   },
   "outputs": [],
   "source": [
    "def rech_max(L):\n",
    "    prov=L[0]\n",
    "    for i in range(1,len(L)):\n",
    "        if L[i]>prov:\n",
    "            prov=L[i]\n",
    "    return prov"
   ]
  },
  {
   "cell_type": "markdown",
   "metadata": {
    "slideshow": {
     "slide_type": "subslide"
    }
   },
   "source": [
    "$\\rightarrow$ Comment adapter ceci à la recherche d'un minimum ?"
   ]
  },
  {
   "cell_type": "code",
   "execution_count": null,
   "metadata": {
    "collapsed": true
   },
   "outputs": [],
   "source": [
    "# A vous : valeur minimale\n"
   ]
  },
  {
   "cell_type": "code",
   "execution_count": null,
   "metadata": {
    "collapsed": true,
    "slideshow": {
     "slide_type": "subslide"
    }
   },
   "outputs": [],
   "source": [
    "def rech_min(L):\n",
    "    prov=L[0]\n",
    "    for i in range(1,len(L)):\n",
    "        if L[i]<prov:\n",
    "            prov=L[i]\n",
    "    return prov"
   ]
  },
  {
   "cell_type": "code",
   "execution_count": null,
   "metadata": {
    "collapsed": true,
    "slideshow": {
     "slide_type": "subslide"
    }
   },
   "outputs": [],
   "source": [
    "# A vous : indice du maximum"
   ]
  },
  {
   "cell_type": "code",
   "execution_count": null,
   "metadata": {
    "collapsed": true,
    "slideshow": {
     "slide_type": "subslide"
    }
   },
   "outputs": [],
   "source": [
    "def rech_max_bis(L):\n",
    "    prov,ind=L[0],0\n",
    "    for i in range(1,len(L)):\n",
    "        if L[i]>prov:\n",
    "            prov,ind=L[i],i\n",
    "    return ind"
   ]
  },
  {
   "cell_type": "code",
   "execution_count": null,
   "metadata": {
    "collapsed": true,
    "slideshow": {
     "slide_type": "fragment"
    }
   },
   "outputs": [],
   "source": [
    "#Alternative\n",
    "def rech_max_ter(L):\n",
    "    ind=0\n",
    "    for i in range(1,len(L)):\n",
    "        if L[i]>L[ind]:\n",
    "            ind=i\n",
    "    return ind"
   ]
  },
  {
   "cell_type": "code",
   "execution_count": null,
   "metadata": {
    "collapsed": true,
    "slideshow": {
     "slide_type": "subslide"
    }
   },
   "outputs": [],
   "source": [
    "# A vous : moyenne après calcul de la somme"
   ]
  },
  {
   "cell_type": "code",
   "execution_count": null,
   "metadata": {
    "collapsed": true,
    "slideshow": {
     "slide_type": "subslide"
    }
   },
   "outputs": [],
   "source": [
    "def moy_liste(L):\n",
    "    accu=0\n",
    "    for elt in L:\n",
    "        accu+=elt\n",
    "    return accu/float(len(L))"
   ]
  },
  {
   "cell_type": "code",
   "execution_count": null,
   "metadata": {
    "collapsed": true,
    "slideshow": {
     "slide_type": "fragment"
    }
   },
   "outputs": [],
   "source": [
    "# Pythonnerie\n",
    "def moyp(L):\n",
    "    return 1/float(Len(L))*sum(L)"
   ]
  },
  {
   "cell_type": "markdown",
   "metadata": {
    "slideshow": {
     "slide_type": "slide"
    }
   },
   "source": [
    "## <center> TRIS DE TABLEAUX </center>"
   ]
  },
  {
   "cell_type": "markdown",
   "metadata": {
    "slideshow": {
     "slide_type": "subslide"
    }
   },
   "source": [
    "### Notion de tri par comparaison\n",
    "\n",
    "* Collection d'objets (à trier)   \n",
    "$\\rightarrow$ structure de Liste\n",
    "* Comparaison possible    \n",
    "$\\rightarrow$ Liste homogène (même type)    \n",
    "$\\rightarrow$ $\\verb\"int\"$ ou $\\verb\"float\"$ (souvent)    \n",
    "$\\rightarrow$ Relation d'ordre totale $\\preccurlyeq$"
   ]
  },
  {
   "cell_type": "markdown",
   "metadata": {
    "collapsed": true,
    "slideshow": {
     "slide_type": "subslide"
    }
   },
   "source": [
    "### Hypothèses\n",
    "* Listes numériques homogènes $[a_0,... , a_{n-1}]$\n",
    "* Ordre $\\leqslant$ ($\\verb\"<=\"$ en Python)\n",
    "* Eléments entiers ($\\verb\"int\"$)    \n",
    "$\\rightarrow$ éviter les tests sur les flottants (erreurs d'arrondis)\n",
    "* Seules opérations licites (coût 1):\n",
    "    * Comparaison $a_i\\leq a_j$\n",
    "    * Permutation $a_i\\leftrightarrow a_j$"
   ]
  },
  {
   "cell_type": "markdown",
   "metadata": {
    "slideshow": {
     "slide_type": "subslide"
    }
   },
   "source": [
    "### Résultats\n",
    "* Liste triée dans l'ordre croissant (de gauche à droite)\n",
    "* Variantes :\n",
    "    * retourne une <i>nouvelle</i> liste triée\n",
    "    * tri <i>en place</i>"
   ]
  },
  {
   "cell_type": "markdown",
   "metadata": {
    "collapsed": true,
    "slideshow": {
     "slide_type": "subslide"
    }
   },
   "source": [
    "### Motivation\n",
    "* Recherche dichotomique dans une liste triée en $O(\\ln n)$.\n",
    "* Recherche efficace de médiane\n",
    "* Gestion de fichiers (date, nom, ...)"
   ]
  },
  {
   "cell_type": "markdown",
   "metadata": {
    "collapsed": true
   },
   "source": [
    "### Evaluation de la complexité (coût)\n",
    "* Taille de l'instance $n=\\verb\"len(L)\"$.\n",
    "* Complexités :\n",
    "    * Pire des cas\n",
    "    * En moyenne"
   ]
  },
  {
   "cell_type": "markdown",
   "metadata": {
    "slideshow": {
     "slide_type": "slide"
    }
   },
   "source": [
    "## TRI PAR SELECTION (selection sort)"
   ]
  },
  {
   "cell_type": "markdown",
   "metadata": {
    "slideshow": {
     "slide_type": "subslide"
    }
   },
   "source": [
    "* Tri en place par parcours de liste\n",
    "* <b>Principe :</b>\n",
    "    * On cherche le plus petit élément de la liste.\n",
    "    * On l'échange avec le premier.\n",
    "    * On applique ce principe au sous-tableau droit.\n",
    "* <b>Plus précisément :</b> \n",
    "    * on insére à chaque itération :\n",
    "        * le minimum de la sous-liste droite \n",
    "        * en fin de sous liste gauche"
   ]
  },
  {
   "cell_type": "code",
   "execution_count": 82,
   "metadata": {
    "slideshow": {
     "slide_type": "subslide"
    }
   },
   "outputs": [
    {
     "data": {
      "text/html": [
       "\n",
       "        <iframe\n",
       "            width=\"670\"\n",
       "            height=\"220\"\n",
       "            src=\"./figtriselection.jpg\"\n",
       "            frameborder=\"0\"\n",
       "            allowfullscreen\n",
       "        ></iframe>\n",
       "        "
      ],
      "text/plain": [
       "<IPython.lib.display.IFrame at 0x10e7e44d0>"
      ]
     },
     "execution_count": 82,
     "metadata": {},
     "output_type": "execute_result"
    }
   ],
   "source": [
    "IFrame(\"./figtriselection.jpg\", width=670, height=220)"
   ]
  },
  {
   "cell_type": "markdown",
   "metadata": {
    "slideshow": {
     "slide_type": "subslide"
    }
   },
   "source": [
    "Voici les grandes étapes d'un tri par sélection.\n",
    "* <b>éléments ayant trouvé leur place définitive</b>\n",
    "* <i>éléments qui ont été échangés</i>\n",
    "\n",
    "$\n",
    "\\begin{array}{|c|c|c|c|}\n",
    "\\hline\n",
    "3&1&7&2\\\\\n",
    "\\hline\n",
    "\\end{array}$"
   ]
  },
  {
   "cell_type": "markdown",
   "metadata": {
    "slideshow": {
     "slide_type": "fragment"
    }
   },
   "source": [
    "$\\rightarrow \\begin{array}{|c|c|c|c|}\n",
    "\\hline\n",
    "\\mathbf{1}&\\mathit{ 3}&7&2\\\\\n",
    "\\hline\n",
    "\\end{array}$"
   ]
  },
  {
   "cell_type": "markdown",
   "metadata": {
    "slideshow": {
     "slide_type": "fragment"
    }
   },
   "source": [
    "$\\rightarrow \\begin{array}{|c|c|c|c|}\n",
    "\\hline\n",
    "\\mathbf{1}&\\mathbf{2}&7&\\mathit{ 3}\\\\\n",
    "\\hline\n",
    "\\end{array}$"
   ]
  },
  {
   "cell_type": "markdown",
   "metadata": {
    "slideshow": {
     "slide_type": "fragment"
    }
   },
   "source": [
    "$\n",
    "\\rightarrow \\begin{array}{|c|c|c|c|}\n",
    "\\hline\n",
    "\\mathbf{1}&\\mathbf{2}&\\mathbf{3}&\\mathbf{7}\\\\\n",
    "\\hline\n",
    "\\end{array}\n",
    "$"
   ]
  },
  {
   "cell_type": "markdown",
   "metadata": {
    "slideshow": {
     "slide_type": "subslide"
    }
   },
   "source": [
    "* Inutile de trier le dernier sous tableau à 1 élément\n",
    "* Après $p$ itérations, $p$ éléments sont définitivement à leur place    \n",
    "$\\rightarrow$ On cherche à droite de ces élément un minimum"
   ]
  },
  {
   "cell_type": "code",
   "execution_count": 83,
   "metadata": {
    "slideshow": {
     "slide_type": "subslide"
    }
   },
   "outputs": [
    {
     "data": {
      "text/html": [
       "<iframe src=https://visualgo.net/sorting width=1200 height=700></iframe>"
      ],
      "text/plain": [
       "<IPython.core.display.HTML object>"
      ]
     },
     "execution_count": 83,
     "metadata": {},
     "output_type": "execute_result"
    }
   ],
   "source": [
    "HTML('<iframe src=https://visualgo.net/sorting width=1200 height=700></iframe>')"
   ]
  },
  {
   "cell_type": "code",
   "execution_count": 84,
   "metadata": {
    "collapsed": true,
    "slideshow": {
     "slide_type": "skip"
    }
   },
   "outputs": [],
   "source": [
    "def initie(n,r):  #fait ce qu'il faut \n",
    "    global fig, ax, scat\n",
    "    lx=range(n)\n",
    "    lval = [random.randrange(1,r) for i in range(n)]      \n",
    "    fig, ax=plt.subplots(1,1)\n",
    "    scat=ax.scatter(lx,lval)\n",
    "    return [(i,j) for i in range(n) for j in range(n-i-1)]\n",
    "\n",
    "def minimum(L,i):\n",
    "    mini=L[i]\n",
    "    indice=i\n",
    "    n=len(L)\n",
    "    for j in range(i,n):\n",
    "        if L[j]<mini:\n",
    "            mini=L[j]\n",
    "            indice=j\n",
    "    return indice\n",
    "\n",
    "def change(i,fig,scat):\n",
    "    u=i#fait aussi ce qu'il faut\n",
    "    LL=scat.get_offsets()\n",
    "    Ltest=[LL[k][1] for k in range(len(LL))]\n",
    "    j=minimum(Ltest,u)\n",
    "    LL[j][1],LL[u][1]=LL[u][1],LL[j][1]\n",
    "    scat.set_offsets(LL)"
   ]
  },
  {
   "cell_type": "code",
   "execution_count": 85,
   "metadata": {
    "collapsed": true,
    "slideshow": {
     "slide_type": "skip"
    }
   },
   "outputs": [],
   "source": [
    "n=100\n",
    "r=1000\n",
    "plt.close()\n",
    "lframes=initie(n,r)#Ca buggait avec cette liste-là de frames. \n",
    "ani=anim.FuncAnimation(fig,change,fargs=(fig,scat),frames=range(n),interval=200)"
   ]
  },
  {
   "cell_type": "code",
   "execution_count": 86,
   "metadata": {
    "slideshow": {
     "slide_type": "subslide"
    }
   },
   "outputs": [
    {
     "data": {
      "text/html": [
       "<video width=\"432\" height=\"288\" controls autoplay loop>\n",
       "  <source type=\"video/mp4\" src=\"data:video/mp4;base64,AAAAHGZ0eXBNNFYgAAACAGlzb21pc28yYXZjMQAAAAhmcmVlAAB9zm1kYXQAAAKfBgX//5vcRem9\n",
       "5tlIt5Ys2CDZI+7veDI2NCAtIGNvcmUgMTQ4IC0gSC4yNjQvTVBFRy00IEFWQyBjb2RlYyAtIENv\n",
       "cHlsZWZ0IDIwMDMtMjAxNiAtIGh0dHA6Ly93d3cudmlkZW9sYW4ub3JnL3gyNjQuaHRtbCAtIG9w\n",
       "dGlvbnM6IGNhYmFjPTEgcmVmPTMgZGVibG9jaz0xOjA6MCBhbmFseXNlPTB4MzoweDExMyBtZT1o\n",
       "ZXggc3VibWU9NyBwc3k9MSBwc3lfcmQ9MS4wMDowLjAwIG1peGVkX3JlZj0xIG1lX3JhbmdlPTE2\n",
       "IGNocm9tYV9tZT0xIHRyZWxsaXM9MSA4eDhkY3Q9MSBjcW09MCBkZWFkem9uZT0yMSwxMSBmYXN0\n",
       "X3Bza2lwPTEgY2hyb21hX3FwX29mZnNldD0tMiB0aHJlYWRzPTYgbG9va2FoZWFkX3RocmVhZHM9\n",
       "MSBzbGljZWRfdGhyZWFkcz0wIG5yPTAgZGVjaW1hdGU9MSBpbnRlcmxhY2VkPTAgYmx1cmF5X2Nv\n",
       "bXBhdD0wIGNvbnN0cmFpbmVkX2ludHJhPTAgYmZyYW1lcz0zIGJfcHlyYW1pZD0yIGJfYWRhcHQ9\n",
       "MSBiX2JpYXM9MCBkaXJlY3Q9MSB3ZWlnaHRiPTEgb3Blbl9nb3A9MCB3ZWlnaHRwPTIga2V5aW50\n",
       "PTI1MCBrZXlpbnRfbWluPTUgc2NlbmVjdXQ9NDAgaW50cmFfcmVmcmVzaD0wIHJjX2xvb2thaGVh\n",
       "ZD00MCByYz1jcmYgbWJ0cmVlPTEgY3JmPTIzLjAgcWNvbXA9MC42MCBxcG1pbj0wIHFwbWF4PTY5\n",
       "IHFwc3RlcD00IGlwX3JhdGlvPTEuNDAgYXE9MToxLjAwAIAAADB7ZYiEABL//vet34FNwEDta7pX\n",
       "OLTLq5Q0PVH2lKZ4tkgAAAMAA44es10aknua0GgABgMDh70qrzeYCjg39cntLTC+7gpeK+jrkzBU\n",
       "o9nLdpXbMDUhbrn8B8ZJrB82rwd4gFgOQ5TvsEkXGheS2a07UrMz7WBVQHxv371b0qBvBKnzalGy\n",
       "Zwju+0l1QrlorQa3kw+sr3CyYYbjqrWnhvugrw16+AfSNnH5CiKW5EH3pJlkagWj6LO2MYDeT0fc\n",
       "95jwRo4RZSSkFA/0ClDYiwpxhtVHh3ACG9JaQXpG0EygPbCtOXlYK1Wpx5uM9jReNCVmHm2EWkof\n",
       "9k8NZduXEV40M9IPJJr0U5dAItpLApS/jFWD21bC0fEGr1zF1NbMctec+y1WooNSMxGrbm+Benz4\n",
       "aElbEifKJahUUEoVHNl1j50mTzPGQB5v2x3XlkT72xzFzdYs/t/RPVm3vTrpGUkXMM7AX3NGyntY\n",
       "r8vd4w/hS1Ar0GO/V8vdR52Wl+O12+E/MvH+4ldPjG2RY8kdLc6/v7DGW5EBuXpYT9he//8dcDuY\n",
       "X2cCIuPzhn2xGzF0Sx/aDA6wIR5gt3bEqoco3Mx5EeTPAlg2NMrGN6V0wmqcbc6JWW/724XE7i21\n",
       "bmITv01ptUV92YlHLY0lxfGOR3gJZJVZSVR33Lb9IsOxkfuwkk/O44qVDGa2mYeSXDgxf6Q+ejIB\n",
       "X+2KvcWxwtWKKx4fXdKpyDVy1fh5uyRAF5EViXfIp5yUIWXvLCpVDAiXPr7Y3syKWPxV57OW8J8i\n",
       "3OfbWCfpVBzZ76fOeecV3zdjThRTbA1utN4Uu70EhbApmHehUY1+WGozsXRpyiPoicH+spgbCmRP\n",
       "nPXln0wVOaRDFRolKBeXLXbM9A2x/FdvOl1o9vRdAnbQzUfjrXQXSEBCOBMAVo/ZDM5TkeBizUZD\n",
       "JnmqaJtQIiKnI2a1rKRkC2FNI2ePFo/jD3Zcib+QC09uXrTzfkvbpm7ppVVxvAO0bHayayz99WBz\n",
       "I3VQnm2B3DTyEDAYNm8QwdYAI0q24xcl3taTgPRa8uMz95B6IqKEXsQWAUkwYfyxIGSwOBONrq/Y\n",
       "BoEg/oYBE5/rAUWNRGP303JFsLBqX6TRG4KFlXIqc8VsZKdQeYLinPrf77Om5h5acmBIXpuw8Ws9\n",
       "uFGCq1QtlACB+2GVArL5GkDBA2gyKIq8MkzEdjzFZL3j6RBSCA33G3DMI8aLjXYN4+BMaQIxNcP1\n",
       "Z7Ig+Fy5cnAStypF55PcRL2FTdGPszivZwAPJaRDsZLrr+GzFL2xcOxI+jqVfEuD4VdU76nX9E+3\n",
       "ZX0uJ3Q+77HmrG0nwAMWegk8bhPeF8MsHRip4S0L63fKE8RjJw7Xayr4OJ0OqutiCbpaFH6xL+Z3\n",
       "zHr/cKsUq8AZ9mYybJqvHhAZfRyIgBtwRqfD93QTC14OzHOtzNs7p3ZK+3d4AvoI03XWZgH+ys2T\n",
       "jnHzDAEJboo8EJzJmhuRW6/5iwDoa+8C2SHjTKX+125kC+SqeJheAUVRTRmhe4vMOQeI6YftiV31\n",
       "ioaUAtT7sNWrRP3dhRBHdfgxTQbu1QEl6DAGaR9f1mXBF2hV1HMCrdlpa4cGzAtVt1fXko8ar1tn\n",
       "xKoxpN/ZEH8rPaMNVo69U8ouUs6wjbYZDCEdD0RSK/mBfzKKrSCX9FO2FESD7Pvf/iXUIS3KySZT\n",
       "05Rdq+CAixOG5VN+/qGCtuQvLpyXzcBWrj5RWlv8mXvyvDjsPvtRgs4mwqX6OVE53QNZ9bMC28kJ\n",
       "C3wk3WYyKvYroU8X5Vmkf2qVQ06Tz8cWGeeeo/Ldk9RDvpVoHUV8wdBUlOQOv2HI2caRT5dHqCGp\n",
       "nyQFyAAiwjJwNoUn/QM/xqpYFjeg2Jgfn/SaQks61udYMQxm40eZ7czBiYWETUaD/Ox+q0gYhP+D\n",
       "Te0bZ2t7kvEU74HFtz4I/1Yh+jShi5yTnuqNeZBwAViF3o4TFNZUZkwa3gH2vh5qG0SU55Tk6cDN\n",
       "zX5dXROfm/DdF2YSiCy7Spa8aPVChevqoizPqhm72N4FBJ5bqQXYoGNdNZZWfy1TWVhMaNyfoEUw\n",
       "ElTSTUGVck1l2sG6/7f/6nIX5/+OZj3fmQdizWalU8Tds1sVDLMQfE9mqPjZLEMzgokoRMl2p3Cn\n",
       "ofh2B/XGys3zJHWx5hoWBOjuH1XSIC/t5HFtBTT9AgZElhOIBcVQEuLsF7AumrN0SKA9JSW6HAlH\n",
       "rIvK0DB91QOCa8+gECrEnAzHq113wej3tKZb1EQXfESTwBL2iZcRd1pFerjrbaraRxKOQ5SScPAH\n",
       "5M59Bjf/HpGJaQUnzQ9HErHdDtr02pKqLzL2Vf6nkHer1cwV6IhS9XMZLCrqiAavvpnm3MBbhDD9\n",
       "8s5Z21ytcjCShynQm4CN0FxgRwcYd28WEEMWFAwZpwhehPCJGH4C3YW5f6gc85R14+jkeb8Aa5qC\n",
       "hLZZbfRmC/cN6Gjgisq/q5brqbnn77v2ubzBSVO/wRLXaMnA6/1QanRWH+y3nOKjheRfYnZHrRnK\n",
       "spnR6m9z+LvDfi6Yb5rJ/fuqxWmBontixyNx+MBeqxAYPFHXkJSoD0HpNb1cBXafr545EAlIQZ1l\n",
       "1pFd7EOmp/AkndXF5fDJT8DtYhdxsPbOOuyE2miCkYeXmgrYqqSSCmyu2ANIiLhxzNCHquj/Q+j1\n",
       "p45VAJkQj/aKJ82EFuFEVkZGOwElfWgHVQ8b7DPZI0rzKHity0m0xEswVcvxWD094xkjDmbYDtIY\n",
       "d/UjdCDzm6KuszTlukBHfb9XKTCBQGyYuGq/nj/ex6zv3kjCeL5dc5KmyXUQdVCWNnygzLg1HwvZ\n",
       "kvZXmAojFsnuPpLyvgDLzqRY/7J31JodX5lpp715MYL8rnNs32fqo7Pf6cUi02ILO0rarfNyDsuC\n",
       "81LiC5jGh9jboZDA4MkEnMMyIMtfl+m3BwRGvp5VDhRWrE4x2Msv5FJUKTdCs8NpNRE1OFIYSJs5\n",
       "kXEU+DCBtSYxYLjnZeCpatWwZT4dYvCcf2jsdwuqGxp4urOQ9leYk6Ijla1otbGkPEa7TSuA0Ho9\n",
       "sfFPxYpZ2PQ2VIJtdR28jkpPQqmC1DciH3p1dVgba+0yyAogcoUbMIL891dBDrr+V//2cmS/+Tcm\n",
       "2sbFob3XNormUHnsfKqlz7bEOKX6SJbzcDrLEPllWR0DlrJz5jTS7MwJhsYL3qhYmXdv8WV5cZ/q\n",
       "bZFLGmUdD/v3U889YZDSAx4k+ykM9A2IQxxMvz1/uYM65B6PH7uJQmVrHGsefVM1OSk6h7mWfK4i\n",
       "NLQYNqhdtCDyaOYGDKdOnlqzrYQwyN8kQNAE3YBZcRVgjSv5y1K7STTtpzrR+PAIE1jqJUFNImTN\n",
       "ql7N9sE4FstXLYIQJ0qevkDVHrcLNlmtRXKYj2/c1z3mnNKIGaWY1upFbSx6N4SrF//0ZM5tm3T1\n",
       "FyZ+UKdQOFiDFpk3FN5KMC8ndaND9rGZipgHTDl+r9BgqdpSTP6muththB6IIuuE8m/OY0HF3J6M\n",
       "D4b2/5APyVOmRUbHzIUUf+rMReKOgrQ4QACISb1SPdCr6WaKAQSXDuhs/XuyMKrfWs4kAyYyn4Lb\n",
       "432IP8WiZiaiyylFk/PL06Vb9wxqw6ItAzaOdUfQ58N0sF/ZpcGBe7zmIYfdiFW4WAS0SzArgUuR\n",
       "ER12YwEeE+yTHVLKpLWkM/OU4mnofuY2CUv/l6jJgPI8zUTaUokvqQd2EpmifJV/uEZL41xmu6xt\n",
       "AauPewNuZC6yr7nMB/ejbCWSSvL7nSjRJYG9dfmeEZVFkKUsKSKSmMZgLb9iMnpdTIzjB/kyAnTy\n",
       "1fz+hXR6iSslAgd5aYWA/MjZN0S5hVrhzXoZJXZ0GWuig1znsnHlfvXKs0W/oWQxirkX/+CSWChm\n",
       "BoECv3C0AdQOAeXEOlTfG+lyHXJDoMh7gTlQA8x16D0kEMGPHvGENoZg7nfujbb2yP/bNHDJcRJe\n",
       "E5u3aff3+K5L3QhwEE49SNPA29hLWdWPqRMI8Hy8JdQI0utDraF8JKJRRt7ZPVR1+zSJzImGcJGH\n",
       "mmFoTdlhFUIoQ/MHggweGBvQKqn2rd/YoLI8SKfx776avBP7t+OPUsNFcp1EDd7LiMYgSl3EBbyf\n",
       "4DOjf8FeriaCN1xyvLYby0/TiyZpBeYyfj7rI0zYbA4IeaQa9iqff/gwDlX//6h5sudVTW4oQOX4\n",
       "XAuSXatc9XqgufdXgp/GcSkJ+ROR8Pv5dhz0HytGg301rZibGAvdd6A4mNL8G/HDc+mWRtt99AWK\n",
       "2Y+h9ek78Jqb91WnCv9gnaahrthlGGE7JCbz3f+FuAEvW8f1o35p+amL//EcuieWCWfcBK13U1sW\n",
       "pxOROhypnW4KPO+EA166s3zAD++nQJ+aKa54abUvIFfVIQC1DN3yvMds65CmmcJDyVEVPhVkPhI+\n",
       "qwFlsgpbyviQErwu2j6Gvm6yjZpsCz7ZjkFy67rKG/SyuVS01MX7/PW1POLFoS8o1c/9gR5A4ddk\n",
       "/jTA2NdRn/V6w72vhqgMaExAsy/j8fcC71j6swVH7VUUsRxBrwZI/s2zXlKEFPzJ83usRX9MxDQW\n",
       "O3Fy4+iYZRm0RFJ3kIOK5LrOCsz4OKzDwpXkukToMEesnfGECMJzDrMOWwkhYzjrcah4x93mD9XG\n",
       "gF2/YkFmvJtA/a//x6GVVMARW6TZs4upnpYJYa+pIsfINKkoAo/S8O+NmEdnZtzA/6+wakrpoF9o\n",
       "El/QyYf7n1jH051dJTKnaLnSjza1VguFY1XOuJeZalwVVYIBjc8W2qzZtZvS7RseDr6pYYVJwBv8\n",
       "tJcl74QrMW1CD9njxZxsiRjgJ0170L05ZOhixWT8///+gf6kkuM4Lzq7deUtjzdPCpdLP7JCY/E1\n",
       "bGl/Tv/V6SR22wKyrTzKQr33bMGNj3zXh1mlxI07z4aQMdiR5xjjwcMNDiEfqDPLpj96nWMbb0HL\n",
       "MGk5hPy1Ep8+YA6dkz/jmKk79l8G/BWG5OZQrdiBJdU9aIANP4imWNvzmjMKo9APxu+GeHT8xZtt\n",
       "QLU47uALATvjoHcpxps/paAzMHiRHk5QM9JOohIxkvhbrtxcv3qCs0tCzfeVWIEO9yHsIscauxcD\n",
       "byTQ+pBunyQ/6Y0JsnqP5bxEV32voevQFqG0B+GkzYry7pRibNJ4nI/NmZ3TyedXCQCgWHnobcoN\n",
       "ysTA4GBPfeOVw5emCODzVCQ2zGPVvJYydze8g80sLuhavgOpyKd/S2BQZwqFJRc38RKaCSXmPmvb\n",
       "Ol/X//X+f/AQjTjl23NBl0G3T/7m1Lhk3/3MceFSWqOVbLdjd18AGnE6EqfHpvrZ5BQTkDzJC60q\n",
       "GeMe/CJ9TtT7Nio28NE0jzX+n3yKHd5Bm8AYmK6podpItJ3+jKe7gz7kVqJjhx7FPAzovwAAa5tA\n",
       "dbDGxUuTY1DIqIi4+BDMf6XlAFI5BUAT+5/9HF7lgvbBn6OmS6JJNA+Ai1AriJN49BNIIxttzXXi\n",
       "XMP419tEeS1KR8i+CL2sAdGHYJPvtK67yHhHjGtlGrdLLnTE0UV+0UYvXMfJGHf9qVrwPUQBsFkf\n",
       "txxr1xO2NXa5LGf9+WqBntBdwNBu8PFkwPc15S0ME8598oYRs7+X978F5ORzcajD2KlRLOm9qUQ7\n",
       "E5kB6hsP3Ga6sL7xRbrrd9QC/SBLfyUo+zoGvNe7zpILnF2XGM0GmYs4MvqlQabRnAIEObhhM9qz\n",
       "gIogWGAmFb4NUUhfeaL6tLe6m9g2GRkqfX5sY00I0/IsNTea0L6lzRGkrds+9XTeqCyAqwj8VtBz\n",
       "TY55WQ+q9efFPM8+dz+8MQwwFSpdV5Nr3AqCZe7Gdny3Lki2Hr9ac6ou3ys1a3nHb3U3sGw8Ox26\n",
       "f3jTQjc1YAWt1kiBmkUd59EW3ubYn5UNVnXllPNGXbKiEQbZerNuw2vhFZINjtK06G4Irs4S2CH6\n",
       "8eZQAiMl6HwTBA/bgRvHfr9YrCXSVsGiwXELjqxJNOYyUOjusUv2JEb9VVjI411hQ00y4v7z9UTY\n",
       "L8QDl1JNMMpDFhT7yqYo1p0ibLobq3S1NNDtxrvE9CBUawJ4vu6WaUAHsXFfXyWxJUhF2taf2D55\n",
       "NeMulJsKslOI2NBCJP+PxaV/W01kfQ9q6bIGpXWTl+vdFdYL9lWB2YVgVF/UltL5vfsprkxZVUw9\n",
       "UwdsAIJdsyGUEbv7Rs1rAz0JuxqtwSbn+LngnP+L+RXGmCdL+lMlenAgTOcIYqu7zQBDCeC5/YVv\n",
       "Uv6J/mjNPhfiOGm088TjJ1+MerXc2q8bDvbLRFEyyExeUKjP9bv19UgJo2jnmbiHuVb1AGJIoxBQ\n",
       "hoRgCm3m1wE0CtOushuWMfYEfwvaiwsanmpRo7E0ebEtdA7IAHVJX43sA6NBOgrBiNLURrBjCOKD\n",
       "zXiN83drlnirmq/2u1kfWTHD8xBY7XAltN30XD4zuJdlQUHwGq9V/QtoubZSfz5ZOFnYU55CzLbp\n",
       "+XFHJdG+SuZJAp+Z7qOq+4T/saIHJxZHi0PjZ3KoruQrija2TR6fsLl9gOYx6N/xyscyzhcpap56\n",
       "5L1FIz4Zch7RC6bnh8AQlFHuiWIJYRfknhtJlNY2R+FfEbHSChjWJJ3XnLlH37wax4Msgm59NV3Q\n",
       "fdH8lCnqJSVhSEsBx8UEols62XJRqK9gLO07SWEPrxusNUJIufLasR4gMGBW0oMnCBAAUyhqVMqM\n",
       "GQ9CtqcSoyIx7BPmViPyBvUd4PrHxq6ViqSOU3HVEm/iL5goRTSXQjtpq0ccyyAXUbT5CmAZA6MO\n",
       "nVAEkkTpHfXHBTTCOwIGHkX26XJZqGmhjt7orB4EGN9BwigFpKFo3e1fSobXsFajhlOsp3esUZZ/\n",
       "Jt2Dk6OUC9B9aSVt4z7Zm/q1lP2dDvr29UK9PDcuCCoJv5rPPNGiKbF4fEcHt2C3tE2E4GyM1KVg\n",
       "BpRSWfId/I5B50u1tQyISJIo9Lj3pwXECrkLXj1MeE5LLuXTNc+o2MKV+GuDy/xIKkAeE3htaPFl\n",
       "REa0P/+c0m0zCSJwVeVQcOMslaYRzhnsbWcd2PJ+fxrA5FG3/wUvab/uGCofPaqbXdgXIE9eqxMY\n",
       "EcrE5R7Y/rgsFRwxB7s/mbgVSgdmNZBHAFMN50IQVXC9xU3M1qS7B6qeOi2G6nbKnSNcpBKgRLxq\n",
       "LfYKJh3fqg2pSdXFl3xtYUdCB2hjr20PFYiByU/OXUl+AExZJuX0BUQUDcQuKuF2UMBOjZDVOSvt\n",
       "MFS9fOUjkbEn+sWPzk3vihgAwJBYV/Mp81II4RsdkTmJxIZ+IEFcGjCi6BXiEprNzTMUX7bhDKEK\n",
       "XOe067wCZmkw/3BDHtNjJpfl40R1RW5rBBYrbJjXgqYNERQRyWbFkuexKD1wMEBTodLIOCLP3D6U\n",
       "G978kyGWMXiAsLE/51zJXG4V/V/bbeMM89S6W4XklDGTq8/PjZrwJJw4rTPDnNGlpAmJoC56LH0h\n",
       "GAp8LSh+LYVWCgZoe+J/FuSg10Jlx0iny0Zi9Uf/YIdgRy8k6XYb5aODZA0ojc2XFksWNHCgb3bH\n",
       "4vaVfGFsBfUIenBfR3gUdS1MuGC0VFKpShGNOIH3nGZ5+IoVzvCbBBDJAAOaBuciER9jABkmJAIO\n",
       "YLaNScuOGisGF+r02HALnmq9ojfGPqqsvZpB21gRw9Stw1lQYQTCnIrKkWDHJcV6I2dEL9c4UDmD\n",
       "BLaLEoz7vM1z9tDt9vcFKkc7AihdKO5+Iexn3f9SwyptH/H31OCxdne4kmv1+aUq12ONzjWZoFGr\n",
       "A5olbeV7kNtJpqs44qSTXxNtLmk7eGIy+X1YSXO3CLJiXd8yq8cwOXD5pMLLmASqxbNvCSJWgNLf\n",
       "EfP7Fw6FglXo1k2PTFKNY6PcxzxewEyO+gtvV1cS3cVOR8DAN+EKDxv5HYP+FTFw/rZldS7eztTe\n",
       "d//o0GwgHGPNH81zhwwkzYO0s4tGuVT4YUkMGgPuyCB6Y3Oe1RwUO4pd8QmjyH+zWc62JXgpxzH9\n",
       "tHb3F0sIGPN2mft1uF4z8ltXuG7HiLSFVkcti73UnV8xK81cBAgnf1vZqkZiyxec7jn+cT04s5dN\n",
       "1wlr+/auuMOb+rmyb2b1VCPT/8dmjQdHlHbz3TwMQ4FueaQce5w8SKml0cFK/ICJ/H4g0KwnY+UA\n",
       "I0ranenAetgUR3SYks+6d4A6dCp2m4zbSsf4Ug+ImSEjn2p1rR2tjGFmfGGjm2x7Qps4glGCJlty\n",
       "gbp1xnexB4NGbo7oigEfdtxkwzHyE+NtMdclfRrE9CPpwAiKxo0/KELm10Jh5vrNxSUPoqqRF22x\n",
       "jyeXFeT7LI0yVfNTgIS6Gh+jrc4SdF8ZugLl5k59VfRRycHzqBDsZcHBbMUBPHmAXKbgcYPdzEIs\n",
       "c7QxX6Wk1F829iwVB79oOr5NfCJtqgrRO93rQwG5naTQ9uX0fm6xmQAGSuoRiD9Ott3LxqtWV044\n",
       "I3JHRHJtN+H0Pc/l1ULkbnqm+PEY7aSGD8GsdLAGfhXw6fezf+RLlw2sYVwjsGh7GcHKisdPBig3\n",
       "sNPcExdeylzrkivhngoEtcTQBBSAoU4U5CWcvYYNlfUnt2D7LhOz00CzVbCdcZAviQDDL95aB2aU\n",
       "FWeXn309YdY4Nju5VPgUNEhjKEPXbCsMAO52qCN1oF4vN1+jRXcUX6hbm9FRFsyY4sCSdy1CMXDZ\n",
       "la9ZRWT0vQhLmw4Av5T7a5VbRdqAxj0AFTuRlM9V8S7xfq+P1kxJhbMBFPeQx9Wb6PWikfCHEPxt\n",
       "s2YhQIUrYp1tkYJswZZlg2ARcO0vf/vGvgDUCNn3d5TmylI8qqIoytif6Ti3XByEF8iysf+/AeFP\n",
       "TF+H2x5bf7niZFH4e/nYVY2400I9raqcF1xPmm8zEMep6w4It+Z2UUvtw6xa9cs8+cUSfSHWKzKK\n",
       "h9unqFbfwutK6V3iGIQAIjfGvdLvdzOnxECtRLw8mA0PKG2uIO07uSn1S0C2RP2pxUNH9Txhobo1\n",
       "kAiSe5MDjLQ+aEl5XOWqm6A1iFzcm3PAehF1OAjUEkA8RPa9tYJ1z5S4+azwoNIxKuwjyOxb40ez\n",
       "WCMUEayrunoQ25mQ9zHe1a0vocXApGo2Jm40/mRgiM9UMH2v6MfRLID2fheHirwNOQEK6Bwrm8GY\n",
       "CDY3GuoJswfD3Y0vtZvPlg/ZwM9BMnyh5ksgs6nV+W/ZuwTMVA4P7SZBlx0fFQ5K9Q4x//CQWieQ\n",
       "4nwKyzyJei10uiUDMjKa8rYwSRVyQw8HweaTkyiFTcuk9XcCA0EZP10Zr8O7WSFLp8aUvoiSujNs\n",
       "iNfyCF8UjzFAxS93B2mGGe2TNxLPsJAxsGE2SogM/BLVVlIWxbwXWgUtmOuqNKjaJwf1qxWQTzpz\n",
       "ceFNNGlqDWfeFlKvlPegEvciGBPhfXodlChJyoX7C3wg6oSlj+CDq4//5Gjq3uVikVuzDdlt1P6B\n",
       "6b6DwyjXX4UYOpwAv3ovyqBU8SmyLob44f+a0jrFVdfk9jWtLLZy6W7cmycGcH9Oz5BeBQEH5rJh\n",
       "FcRLI43TpsupDb1aCWgqCcc5iN5BH8IfFceBZUij7XA/+jrnTZBOzlxTBipYh6qqdLlPFHyEIoVd\n",
       "usDWf+bGu8XbVESnNVn2Dy2V58nk4Xchx1ZQq+SPMEIvg3AXEdMeTYoG8efQd/F9hPSl8EGBH8rB\n",
       "/YpaFigdmIZ1yGGp+pdiRW9L3cbXaEo/+ABjsY48/qPN0y8DWNXghHTYN0QtSesHlR0RmPIKM/8O\n",
       "2RiupCr9Ghj4hv/3uyIo22XQ2/hJN15lS8oWw7L7ZzzjQ5ojweaKH5O+MaxcbQiRtsCKzCPJtjvp\n",
       "7vxFJuxwuPz9tL3/n+LXxTCQ46cF6utR6llBGYpw4ZJm++2+S2KVmsKWQvnzjqAp05W3PsCAQTKa\n",
       "B/ra9EZmeMrH4jIIolzTFZoxtxSr+3tWwFff7/6bD7ixQ/o+UMlv69MVaTiQWGZIroUd/8GK5/gX\n",
       "7TjTOv2OawkGHZkmnEsoCUC9NiS7iIrbsvcrD6dCRycKcl4/PaNqYqg12NbjWHpTaam0mUe0q6F4\n",
       "TrvevoS2LJ429V9ux0SPlH4Ww+w2eP60h2aaJeyyVuOUVPr/EVyfmXbRtkrY5xP+8ehGFJJH9xtm\n",
       "J4bvoWfDbwH2Wuamy8OkF+J69KjFSmtUqZ7RDJahJGKO+gtgb0zB1l1I3eDucsT2NBQ26WeXmiQV\n",
       "39x+JPmlkrL524aJxecFbJvYdTF2zYW9lXHIaIl0J9G7Bb9rs6yWYlF9h9CEa9slMpF2Rf5XMwDR\n",
       "IpWBemD0bBvFTOsZl2YfHgXMJTrNX6SIrX4/0RVMqdfb+aXODGXH2gSqzC/K62aggDn+8buzrWSz\n",
       "uuk1eDTidF3//fZDZqB1CRXTrl97XGursuIoitnpwt1K2+lPnZgGE57Lc0XMqLwZbKB1hdxralF4\n",
       "o/xMegxy4yDZ4x6eVt0eA5nNsLQJEPf33eeCfgXwJu/ABOBxVJWGw3MuA85FPWx59UTQBkDaupUG\n",
       "4YivPvL/ZlmOntnbWfuUskp/mZGotgrf/LtPFVClYRQctjOivpzh2Pw6nog/jWos1gt6LaOxzLh6\n",
       "yrqnyZ7N2ZkGDd+x3P5PtHv1ps+CW7Vqk/ko7d5c5pPEsUcxb2sbHzvJKgVABKJLGCJX3zkeEGl2\n",
       "HKIeCQpZvxalDVtDY6y67xY1IRpwze2RagIGCkWC//jIae0Z9yUmT14WmuNGB6XqUbEPV/04M6eH\n",
       "JmX/KDm8aazTNipzAPqH4bFlTwOgN2Pa/uIz6IWXLuqiXincjJ+7n2l+p6F//1fvW6o4WNKh3AAH\n",
       "klS1UAV/BrLUZwW2Qj2laidwBSVfT4afUByN7zl++lnGKZpcAREb3ntf3hvJMdF6+hBSm2eukRLr\n",
       "tLeurgqLmGv7vczVZLlymSO76e4EVX7hDOUKkW9DAh5T56IhKL4AJZ49n7z1DMWgDpvdyd+L2cea\n",
       "DNjrmapIkYX8SZ6nV/AHF1uqdhm6oLrbndFW5qSrhXhNH5dAbN+vjixj5tmwqXKnxSDa1xManwlm\n",
       "S8Smxgd9FVe31xmI3iatCEFgw2Q9rJPKf8tK5m3186+zRhJozp31Ik7hidNUcPX/yJ2y4yUP7r4r\n",
       "qT3FaFAyBANubPENcp/8ma87rz3Mr/WMtCnd88WBFwMjC1CwCiWwCqEZODEeSS9VGYk6XZb/lHgI\n",
       "bEjBI6vQMVUvygG40y5rQH4AWaPO9OnyLA0fWUlgbIecSopA74qxGqXkEnorY8juooeGGdAgzIb0\n",
       "2vPjtRBoUdludW/0rbMt8YZigN68LVx4mZfVlxOMYEKiD4SH4Z3Bcn7ac6IdjlF/o67+rBqXQ9Q3\n",
       "6Dh9X35eX45qMOIHKedCnQ7eFux5GRod3V25OvWUA7YNavKMwl7CgClO0uVPZ103G4grgRrMUHL9\n",
       "sGUepu3Scmk/5uZJOo9vH9nzr12YiXlkxfjT/QOy21y8TNqPZ7K45GyfTn6Y801hq+/JBHqFTXMB\n",
       "uaoeI1M1/wZH72d2OUNNl2aJin/NuKwFuvfLLEfFsiyX2kXtFbXS7fQDdHaj1hvByMLwP6awrlZH\n",
       "RiJfJeFqifQFN7jdxYQAWFZT9rAu+CrfjnNbn8CrtGef7Txu7+lWj230fAaE5MzVHTVJD4/UzcCC\n",
       "YhzkRcejdUYyxGAK2qLQIfTKVHhbM8JPWNh6CD8vJEx4dvFaKGb8PsOs7vSf8Mh8QzMpNbNb+KSu\n",
       "85OhjhrU0zHDIA+FeBkEBVvtRwZwTtJr/e7r34Sc5iyPr+YO8dSR4GSpxcEQMTP5Obkxhz+wYaFp\n",
       "lzV++izNjv8TKLfEViQE1qhU5vQxzUSqTP/FPxK3Ho9hgcco0f7imYYcyTZ+zNb/CHsY4cCYx7P1\n",
       "/VByUvVbGwVNIW1y9lOzpyR7RWs5J2zuSIy21SHxgX+VkS7ZIhtp0fmwlfe9fTlaaISw05AMMVMF\n",
       "yVHkfj9xuIVDptH1M/6qKNdwUR1A/6H6oIaL53ZxAXOz0z96Qrwymq/kTQnWq14zO1I0luFyA0ij\n",
       "hsVwA98rXPGG4UiR9yWmC5vDOqjDPz3nVC3T1YNGWHBUNi3dbJVfhtVW/+brmg+q82hdKbb2TSj0\n",
       "+GecG3fhQYmEP2W+tavoKMrbo8ls2zshWKvmFE7KOY3AV3OtE3gPQ04D0hoBL2R1FEF9WLTGD8ob\n",
       "Nc+sPnZeGk6/fuzvBapYA7ovokOpe5I+EXX8yWuk5VTcc+WNZFv3io5um7EuCxR53Y1FAkYIYhF5\n",
       "mUguqq5jiE35syUQLyr9v/7t5+GRTqdhs8qqDT0VCrZY592uEJ5lTMI7nMe5WzQlXso2+apBQCJq\n",
       "KrhFL3LigLnSdZVo5zoKSHEAHza9A/Bj9v7fmu9fA1MLX8Y8Re8/XwSWyYy1WCxEw9UFJfrCaRY/\n",
       "YzKC+ruHByDbprELiRO9/1lQLjHdGnRcVHX02v34zE8UslTj/pIjGdOK2SSRHxS3g9w6QRWDQo/s\n",
       "lkm8r+lhHyuixakeRScJDheMGuzv/x27B3TLpfzOOTTCbIwAfLPvkea/mZp7f+QpQdL8NpxthDw6\n",
       "LViyIxjvo4kUohy+ERcempmzzRhrt5mJnNs5BzBxl4mIfFXrNW42q0l3BjrmbOazlIplK1Nyn/Rl\n",
       "4/r13pKVeX6XocS++smVpRyWzUy/J5HjN07VDyJ7zLZHPqAW9Avb/JYw2NWYoBi/jrhicJPyEYlO\n",
       "0YpEoDhxZtX6yYGrhQtxIqQBHpMHgoGkeYUxPL1jBq/9yDBTDlO8fVDZOezSUbHyZ+Fz+L6y3ne4\n",
       "3TYiG+un0BdMfzmENmbib5CNM7zKNgtRggqNXrm8wqaYr2OXRfikbL6vvJFvzVA2r1qCAFkpNfKD\n",
       "HkobPtcrMPTLP9f6/c4HZ4HAnzY3VS3OjZ8Yofn+5JmjyUh36ZcodPrZiMtky6l79nzZJu/yYRQ3\n",
       "OS/ZUpaqM34O2aJD1t5HtMp26blMz/KXPbkLQ9YQxt9W8JoigOMsZv+RZ+6DtYpI2dl97tKTFu2r\n",
       "DmiLjfO5iY592YRh2x/EhXQFxafucW0uM/UzHIvGRPMFRd6NOjHuR7WJPiGxxSMLHkv2EA33pAuX\n",
       "cpi+OOQU/rbbXfqkDe5/2FHoPdpn7vOVoG7LRxZqO9nG5+F1vwSaHyQvA6rdu8OiIksTL1Q2rO5h\n",
       "r9OtzJk5K/jHEVOEw/9Zn17gIAC2NOgP0TmXjjiwZIdEB+ozUd7hs8l8aUcHccTE6MJRrJU7yifA\n",
       "FLr5Zv4asdgDSSKiG23s/SkNPXcSSeEVH4BsEYSyFklQxWtn2IuTMm7jEbF3RbSIoVzzJXPwQRiy\n",
       "Xn2OgeAZlZ03VyuMNDGQRxn3Px0AxaIUWKFYkfKZ789hMg2/wDw0mkWn1mg1r/mxfAtqIHpfk1ql\n",
       "1XlkEpHGSzf+Jxi4ldrzCB83WSssKWEnLWK8i73xsM+EJSB8RRdWWDg/Fm2nuoS4/uedp7qdImgG\n",
       "aoSYanm0dhmled9s+Z+X3/VKzlBhqgVZ7GfF6g63/tmK++w0dv/0ceHyDZFXvrVWZvbunjeoZe88\n",
       "48u0f1Y2MMhf8ocf/gg3eGKn7JN3vZWoAmVRNGegqx2OebwT9WZAIGl7gexTcFCNcuLy3CkPW7vz\n",
       "10l3kYBJB8RrsUXjtygwEuT1Vyp7jSbQvx6iWvKPyixvIt52lvzqTrLOL4j64UYXZDyusEVg8gYh\n",
       "0Iwlm3pg44xu6mbGBs0q2NOJNpjCe7oQawi2HNQdLajnfPsNCGawyjByDXWUa7zbByFtWSmlZ6U2\n",
       "OGBa4UFGD6XkvoguMSLdX4IeJ8KSAAB1utF2hFR8VWLBdDSZaEyhycJxWzthGuFd+G0zBQzv6JEK\n",
       "4B+OtVKcsMwhYmLkADNAlCo6Zudj0LENIhkzZM6pbcs4Jhi4X7mEoUild0rNLN6AmXFcQ6ybaNPm\n",
       "c6vOWiGvH8xlXknK7Cz964nSlw1Tfg3EuMmg34A1vzjpqQ4ktT8mgXOkna6+uWBJ4p9NxwNh525M\n",
       "6RcM+0czx6Z6HeAJFcFRu2Wgt4GLnD/J6bpjgxmzYffL9HYXm0R29Sys1GpfgI1De3Xu06DYpAKa\n",
       "jJZ5gHl2zMAS8KQAcohZDTBJ+kQp9iLaRTVeqSzFLE2n6EXqBA0byLxwO/FvvNcSf4nMrkNFSved\n",
       "CF6CufmAsDmbFt7HrlToc1k5FrFInc9I4YTMZh8+/0WP94Dh4zLeGR9UZ68uXq3hzJfcJLogqQdK\n",
       "PmtX9HipW2HMvhLuBeX1sgAKjXpWKpeiGJC8EwGh1N8vZuKaOQsrVTnIDU3kD7KKDDcORF2kCwDN\n",
       "kohB6NPOFiSPPoIgCSqsqxF3TX9fxh6MZAgRtjR2ZvmzmM14eBYPk6jlj6a/4P3GwvLb++7EimJP\n",
       "Z5mHc4l7wzNIRA7J4DFP8O/7CATuroHkgj+hXdd5RTFsBdBMl4bk5PTlKeTBspJ8K2fdPOF4ZOrb\n",
       "BDYPUom9NfU6yaKJETB19Z9Q8flk6hl8s7DuTTswPGEsTQSRtY+ugVQ+35SbiKR51h0PId0vPHhD\n",
       "MqMa2S71SNgrGGA/wzoQy7P7iWGsHvHszNE+MnW3PsFR16omLb9zFbrCB3WHORskCa5B8DJ6L9eh\n",
       "5goghPyUnrKmQ2ElWc5f2ZhBXMkEiFqcgiGNHZHCoR7MZOfD3GhbtCOxBV+WJ2ly4Z/S26mBkS2R\n",
       "ybqSCYHjQxTItyfIbu3w1Jqze7/WNvWjl/5I7rlu5ASoAF8tnPWEMUz3jX5QlUIwryYNXtQJw0Mc\n",
       "kTb9G+D+Uybyun6bWnEzo2eLrrc7at1opIB5suC0Wrgv+A33dvJltBZdmw6UPq6+wgo+AWkGCmb0\n",
       "5k4DlT4Jvuh0oKZ+TiskZClgwZ16+bo/ifw+l51k+RVNT/PIXjJRBj4Sv7wTzhFBO4Ed4wODJ+xS\n",
       "vUVc3b0ajHzibxgkA99WDyTUncogVDEyrAXRl1cDNxG5vC9j0xX0y2jDut0E9bjdSsZi1k0s2MrW\n",
       "MU6EMLbsVm159yBMhYmbzemrRrHl5Y0tpDCxXp/BemJTXJ8fvFQhm3ht1YkobqhNqX6ZzGcxzplV\n",
       "zwe/8VipsWnqry2RpQ+H+qgoK8jM18jgmV7ZJ4Eobk3NPpTrNDvIx6HgZZBXrxIqwZEhKJUku4D8\n",
       "5+rHXNwTcavR4YZ9LMYkorazOJrcAo3qWWU4Awe+kU73LBT10Bd+WstnvAAmlUcbO3/5v/Zl17B4\n",
       "ltdELHVSjGdWIqFBMx2kGiFgIXwRsHfH2ZCn831WZTOT0C8EOF4DUhJbnLctz1FwXia11WZuJtsG\n",
       "Lm0FILFMO3tLo0ELR5vhkc0AY5w3pjGKIenzXe7+uCCS91hDNlbxn71U90n+RzssATkIGySQGRCo\n",
       "hK/BVfi54RxXrCEGARBzarY+3XzXPQN5ewgTLS1MScupq9IiUDFcYkFVW6grSjBJesk2L6A/+Bh8\n",
       "WLP6vwqReAcBMmCpbhK2GywHEhMOeTrXmw1n4FmKnlyremFDMzEPn3PT5QT7Ny9OzeksaTN0ySaC\n",
       "QXivKVzmAMjBnwoCK+E+8uqZYF1FOxXyAaY9d3XIFR+Pup2UOvSAy//R+Jtfdmf26SuF5Maf1yx/\n",
       "bQWS4iQLu+xhKSAnDeGDr5HJlRiQHV0LdJTMbJ8J8wq0NHieHPwgdEHmsRyze0AGRf3vTuBPXJM8\n",
       "XUDhoZcPK7F91+qmEw5J2JBQiNjQYZcIohURyK3uIkv0nNTelT3y0uWosEiZhwsZx7pypSEhUkqC\n",
       "bLmbWe9jUcL74SHfgLBWoj9BtBLaNyw0Ra7qm0SVXTSVn9RR0bmywuuktX2TtV58qi0UfIG3nc5o\n",
       "jywj7D7scQL9x/hdBIUFXBqwOYDso/RryIV/esfEylvgH3zNLsOzKskkj1J14HYVFDoMglSjvpPl\n",
       "cRz5ZLzWj/CXYC9HKG3w02UnsKg9hDXBW3dPrnskcLIt7H3cDohHCu7TIr3V/0C3sEKwpv5kBEIo\n",
       "6QzP7vZk8JaQfOJbWQUDtcA54JIZbY1DQYS6k/BsYUSyIxCeRfWNRvFdrSQ/cLvcd9oB3V45NmG0\n",
       "yMYRPT15x4quZcXlZNDJOAtgHdCJmlD3lyK3LzGtJUGW5IkmE3/r9YXZ75x0GLPcHi0wKfbLhaGe\n",
       "MT2XCdFGoyHNw/9VMp/EcsdknPxbazEDfX5/fiiXRYMgQtvHNlEbATokMj0ZKok9GiQ6tEHE+e1z\n",
       "IzjDrguGEiHJineGgW5mecihpKkt6ztaALNOYQoDIDK996bRj45GKhhRxiMzbiWhxU2mZUtC4UcV\n",
       "lQ/f2vMOs0uyjysd8kQ3EipXhkzMP/tETtvbekUn7cPI+5pHzL/m7WZmK5eS8N+yD9rEUMPYRi1E\n",
       "icZx0XbZ7fK55yusSQ7RGckbc4jR9LR2uIWD3Qidmv+0o+ClrXU0I3X4dKQq3xzmv7kSIUKmx0Rc\n",
       "dBGiUS+B3+6wrC3eKmgJJpuK9shFfFAyYKnE+YSpW+Kkv4na08PVj3Nf4ehzbXALXDGMR8LDykli\n",
       "xgDrwTV6Cw/tLTBPgTa7x+QAAAMAACShAAAB80GaIWxBL/61KoAkhlmgCg7ltzwn+8hTRpzfsDUb\n",
       "m/peaf1Is+/G61IDtKLXKjhZSa2mvlEGneMr/n1zNDP0jMS9lHI/o9xX0GH8x1X2MnliZtljusRI\n",
       "Th6d8hq9393bf2WOLD0SwUXyz5Lio5E0o9dfXqnOLFZXP1WqUHWoj/jRxm/Wir2oCYuo+muGvclw\n",
       "hbMmL2lP3ELDFg1LIcGkA2nnRwcM/hjZ1xY9J9lJBmYKAeB5au1RnRUuslli4E9slvWDxKThaQ/g\n",
       "Sd645cWNWasi+mTojB93Udp2dtQnu+D0bXffGDZIrMA/ETjCAsyu69wcCAOM6asWDPA8bca8XZYC\n",
       "XaxSJEtEUhL/bahmKk91npNgQwgnCe4SCd/Z+jQAPKTJnX7hZm0I8uKGAjog7h/+idZ8ULRTzIQU\n",
       "c/lvJsT3a2XGwiwDdifntMvoSzrgqvcqx+7VY9DsoKk1l1EN0aEyn55MBrYTaTOSXJXNXsdTwZjm\n",
       "NYTkEfpVZTadOJz+7E7jNt/xxy32VGiGPbfsWPaQ6UJ/ghg4LiEWDucisx1QDuljltCyDFZVKYgA\n",
       "BFg3yleZyAjmHex/LtZ1cO1nXkZmAYb4UgebSZyEYE7MySPv7wEsx9cdRowhFtykpdK7tf6BFau3\n",
       "/w9kHpkcJJX8CiMEjIAAAAC8QZpCPCGTKYQS//61KoAN98See4aUQLs87DfPKLyoiIiQEpIMmRIv\n",
       "/OyhlwVwoQCAera0auvxZnl+8TVmQKlSEsNOIzOis7un8V7YChl7ChPmctFrgKxQCxIl/nE+tVcC\n",
       "aTM8pR2g8Zf5X71jhRaR7V0qwhYxGafafsf79BilDreeKYDbTTuRLV83WX7vnrQPWPeCxHtPQn3C\n",
       "6ZucCv12RiSM6xOqrvKvRf1st5aj7gnWlQD5TcJs3Vghov8AAAEOQZpjSeEPJlMCCf/+tSqAABvv\n",
       "lI+0wMTgBWyAhJ/1cLt3MLjP6jWRufm3O6UT3/MRkqm5GRRSqqam0X3lcRUcJOw9Lr5SYmcA64LN\n",
       "nZ//GT+kSC2GIYs5bVem21YmPCUmT8ASk3ui20IV0vdSVLbGWxBcm7VosS07nPZ+9ZK+B/sHztkl\n",
       "SiT6bE6M6XmXl1bgjvvFU0prU1AOoKmeXN7UmA60wMp5KJt85BnMcfQrzW9ilH9WI1/wqOqr51cu\n",
       "iQABLlOJ8jNuBeO1j6JxDiMqNBSj49cIbR+5c4wK2Aqnx6NGjBgeMzuuDmikahK8QKszVcyfuVJ6\n",
       "nfcP3M9e571Hix/v0cYzU5LFnX3Y9oJAAAAB50GahknhDyZTAgl//rUqgAN98axrePk6Hf4dfimA\n",
       "DRXeexGgUjVSg4NCoGTEiBGm8dQ1TtrnmyFj/0LTNDv6d9UN5gUobd3glayLql2B2XP7DaDB31pU\n",
       "rNOa06iWbeCz4mGraMSw7QSANN/Qt1DSKGgAESSEAX+0WJowc6s1JWwghX3l+i7FlXc90N9hWy27\n",
       "5PuixpevTSSPm4F7Kra+3NSrP0DqjF0ILUlb7OYnliGLq0dnNXSR7ZCn82A14vsH4PJ5tAVjiAeg\n",
       "MaqsDVWkBGP6ave2K5FxneLK6lZhYTD0HZX+7+9agr8I1j0On13WUubmuij6uzAZskj+VRhdgDcp\n",
       "RnMT5DE9E177VYAuidiIz4BrxUmc0ekL2Zw6+b/BIlgRrQuHEtL1oYHrnFPQECV+hvQdkradTHlg\n",
       "KIB2jQjn7P/wWfn0XRBiS0lhCeJeaeWxuINvs/RloCoBDwnPcSeIXmD1k0ReCh1qfvuRhsGt/ux3\n",
       "Ou+3P67XzXLFwVdqcixPq514oXeULFb38IPDB5WIqImY1LlXpqhv6zlsy+GhYoVQIdwq89iR+mnM\n",
       "hzutuse5q9g6XWlvRg9gZyp4Zt5uvTZgYodLr65yXLKSQHpjfFqQhECuN6qe4FDYV/WPN6+jOkw7\n",
       "7/8AAAA/QZ6kRRE8EP8ABFUO1Q+ibpKI887KeB3NH8sW1cYBAttx+LHAAnJWEn2t7S1sVYyqAaR+\n",
       "uo1rR+OJlOlpns+FAAAAPgGexWpD/wACWwa3OKX6XsSL8ZF+xsjaeVd9zgAnJO2XI11d132xeCkr\n",
       "N0LdAMwNXic6XUQYxawzPF2Ij8yBAAABDUGax0moQWiZTAgn//61KoAAbT5SmIWd/ib82BUqWXF9\n",
       "LhHbpTaBSsf0bMIEKVwuvd2owqGbxfzwNvs1y5hlLrIkS7MxOACaY57xGssGQe89Xj7oSCmoEndN\n",
       "FCJg0cl7F0wQFV1loUr0J9CkbSOii3junm14aBXYQ4sVAwIx1CTujEcJeXZQRwEOsn9EMn2T5dx2\n",
       "xJ6lWDHRPbtgb681dt7feIeoUxPK1b+s9OXbnd8KuYOrHl0qLJ9cUvxqjq9ohgf3Qsr3uhiHhjqu\n",
       "GYO0TiwaWGv+UvlmuRdc20zpppJ6tB0jvAKpi9sm0feqUXhHZnBEsfBlXZ7DKznN8zzIQ9BDPof/\n",
       "6DxzAko946MRAAACukGa60nhClJlMCCX//61KoAG0+NY1vBowBYB9KTkdyHWkUkkKATNLKj84pve\n",
       "/3LYmR6fXJY3IhpcyGPy4xc69FS/yAUMETZyPQTUwFvaqWN/7znf5hi5K5zgBDEoBkdLfTEBQ8CU\n",
       "n1F+6ESbj3KZbsbd0X4xgz4k+UPeSTM8n3OcG+4ErrPVfSV0hsRGNCQ70Vupv37hmjBDCw1mhoi6\n",
       "Jiofk40lGEezte3cVRbE+9Q9xQ84h+8s7gor22w4T6ofNqnR4pL2IBjmPWLUZxMoku2PCgYQ20dE\n",
       "a+E2Fy8ieMU2RdNhmTlJyIq7XaAYJQlurgPGNWhVNEOtEVptqYIcZ3qB/u+ZlhEEcHUYHb5VOtae\n",
       "PgR5O8zXg+sMEo551x6FmNxrM9AZzsdaRoGSj/s9zQENQfgFquTo8ftm+MgM8tW8cOg796Zmkkg9\n",
       "tqhV8xg3EMIY+QLJ1BlyIRD0sotUZfYZYv7T+lTwCnS9e41yAcrrKWj0vn1l3Tzp8jGcCsR6VXXL\n",
       "iMdtbd9OClAnI6bZaLTFbma1t1qGpM8C/N5GiDhDZD82yKd5HuZhaX63Hwgm8ZfMfdeIterD7cAo\n",
       "FPyCY73d0gUTKAUOFt2ZFx+qDkpyWAVH+gN2wyREs4VfNU2tEMsYvsRcXh10kT8cQrCzcD5VAory\n",
       "ubUpZQI7cozfY8dbOBrXJEMldCNi0I0me6aCPkzey9pTxKKYI6DfGcCKGr2Be2yxsA+sSde7hvGq\n",
       "cj21s6GsXf8k0/hoBm/xh79Cd+W5RFf7MrplxL32/42G/Dtuy5JmFHum7rnTgoiErI5QrbLK6QU8\n",
       "632vxZhFH7lc/3xaANM8XhI1+qxWhGLGDF4e1y2nYGTWZcdcuksnxKTaX+un7LU2YsacpJZDJId8\n",
       "9Fw3/A6/zLnc6Sbtmjf4v6AmYqTvNri2X+I+AAAAL0GfCUU0TBD/AAhqHanvKpjFBgdPDPGhgqp4\n",
       "rjvcbhL6+byM1XDyYlVKsf6cQC2gAAAAJQGfKHRD/wAS1ckyHG98gFEMG3FAYV+vEM3ZXrKVCeTj\n",
       "NSzc4QcAAAArAZ8qakP/AAJJ6TvAdaFUNQ+VCYTFLvzOa6LTR6ACclCPvoZ4xzqqdsEUWAAAAMVB\n",
       "myxJqEFomUwIJ//+tSqAF65IKAVBbU84c/xE8yFaZPrwRcbPi9s8csznLg6OXOevCNuT0k9XHS1k\n",
       "ts0uDvyKwdIpIJvaj5aXp9HnXfdcaVrFj7JUGRNqwXvGn2BQT7et4oGS+B6llMr/KTGbLdxZpoFI\n",
       "yMnJXK0O4Y3pl8kyddYO2b/1SGEW4TNrxm7B3ivFfCtZWMU/Y/in9LuJgDH2TjKBNKU+MOUxn6OI\n",
       "r1S8Pw+xS+/nCz4FnSH1dhtgfNQV22EpHgAAAllBm1BJ4QpSZTAgl//+tSqADVfGsbaHpxAPpSck\n",
       "AYa6PQF2WZjkqvu2u7OGZ4UknFyO3lvlUOY+YyNXxCnop3BwRj+DHgqq7ZvU76Y+Et/JbI2G32Em\n",
       "beCoMl6ONXONt1+neIZ2V3YYeQlxnbsMQ2AWcLyvg+FUlnXY46mxTCM+s1xZAfDQtWu8VBp4W2Dm\n",
       "v25ZVkVQJE0hmKecxQSvoXsTQB4BjxnEZ8kpxqivdRfJQolGjd1342dSEFW/W73P/59q669WzlbE\n",
       "hV3f5ZgyhYkT9gZegS1ERj0MUddCsiGWPRUSzNgY+KQEcoxRlNIGJtoYzcMDbuQYZ+JgpjRF88v5\n",
       "B+v39A1Xh8k8YWwBMbiG2pyHVfiMpcnTczqC9wh3eJnNnPqexl5jnm5WFmaX8qKKaIPRcuIVVjUY\n",
       "PdpcBXh1nnTCkvFjkCUt+khX6gMsWrorzAy4Wnn7YH4AIGAo1hL5zXRXXmJ1/sNqxpKOZraa+XH1\n",
       "vBIrB75zYdkQjfeQL1f521XHKr1EOeM5+gFJ962BRThJ/ysmf59mlnqPXywmWdFdnFSoOQRz0sRb\n",
       "819sYxFwsFrABl0GsfxQb0pgfobLFnSwo8SFgPriIv+MoUFko43EMTCkLYSdLyACDA8rCNvTh6fp\n",
       "RNUyNgEl/Y2y8I8d9gpAFNU1sQa1zAgfIweqpbW0UVptbMmr6HtjmoqB3fziVq0Ymt1XKMj8Jsfg\n",
       "90TDETpY4Jx3Kroxh0cjP51ItOpEUTITqZMXLD9Kmvw3pahLMVISrWqIJC7h7WgCqcGectlVfa89\n",
       "YIbNAAAAR0GfbkU0TBD/ABBUOgxdQACH1wf5S7slAW4fGXYamrVxrdGLH4ggSK6lhKIskBa9rVqT\n",
       "OykISvViai/812/sGxZge1ncoKCBAAAAMAGfjXRD/wAkq5JkRtshr9g4D1LQbR2TzrmtV2AEOJ8r\n",
       "2Gz/O//UZfwlh6T58fpEDQAAADEBn49qQ/8AI60aQcU92BirwKRohrzuVPdjb09i6ATJOha556AC\n",
       "aMJVhdt9L/mM/vDQAAAAqkGbkUmoQWiZTAgn//61KoAJwlhDzTpWQYJW5u0aPI+n5nivwqS7pQRT\n",
       "UAHZAAxZozGtkVvyirO6zbFLehEE+ykqLwUY9KX4IGlZaZimjxugOnonMnzx8yNfcuSfCdBXyEPm\n",
       "NlmwkK90etEPP0FLGDnassAXpUvM/UXX+VacODY8Fa+8EE0si+LvsxY+7jvBCKOfkkLaW2eD9j4b\n",
       "m3QP5OufsWasxE1/gj5FAAACL0GbtUnhClJlMCCX//61KoADLfGs1xdloveI1xBt+jzZAAfvtBQC\n",
       "DbvXjNK2SzngH5ZjXRl7bdZZxSmVXpEewVgpE96bpJybz2RJeIGYngmt+hz2y+O8P2BdOyGMVy/p\n",
       "TMcjpoh7yvJewl57KsSm8Rr+k0JxvG+V2pgM4DeqVipIk/MlIvWcykxs161Ucr728Nxb8AuTs96H\n",
       "Hz7zUKLsM3rImOiZUeuM9HBTTnv27WIt8XmwsB/sxuFqZGos2xYQN1/OpZu8Fx79c53bVYknVwpB\n",
       "X2nEZgPr+WkNliiBpmZmDGALwuG7tzGP4US1dzDwa9NOYzVW5Gwoyp7oViFhOmrEmaIwpri66zu5\n",
       "ZHd6V6ljFiaPmFX2rBy4vhhvyfXotELXkvfrPld1Z4q+dJoJVHw/ui96lh5XfcbmPu0+YbpjiHEp\n",
       "/7lD7IeltqCpMhhqle3txeWX5brhsRWG+UWbWiw5FoWjJwY0bCVJoHk62laLT/advgJ5MJdq5GeY\n",
       "W4HGdwGaZnlQ+SbLIzOfQLjSHQZISRidqcMm6kY//OmzhURomBpH0lDNWNNEhWQYYPCMQxcEguyq\n",
       "CpN3SZcH5c4JS1+5ibQ6TSgb1FlSq3ftM40nPGcX0i9fUL5KpDKIpO5Mj5uPcG+9yqulTjALagXB\n",
       "e4KtL0V0wNdN/inHNwh9s2Lui1dGJRJKbdwKbKqPl9bWvgRSQAug/dMY7tlraZVakqgMqM/l8yuW\n",
       "TMGihnhQHcEAAABBQZ/TRTRMEP8AA+F/jXCpiRsUomj2H9po1yPHlRNuJSCYbm3sGv4AJptslG42\n",
       "nUN7KR47dguedMANhyq7BP8SgpIAAAAzAZ/ydEP/AAR1ckxnoVxZqiyEwYb4s+q5CMCgA/hDWAPh\n",
       "vEDsKRbdwZVF9B03yELc2qekAAAAOQGf9GpD/wAIq0j9fxMlujS2ae9eagX0zpeBxvyXABOtp2oR\n",
       "Lae6QDajrtUEGS47YIsDPX4ueFgScQAAALZBm/ZJqEFomUwIJf/+tSqAF6wH/8JXoSQ/DyxfURLl\n",
       "ItlGwKE0Csy9K2/VPt1evbfn4mudGFnWYb6kZxF4BpjyAesVXGDgBmJlqjOPvQdaMPhwJGyiLHa4\n",
       "qpBln4PFxXT9qm8pl7TsNgRQvcTZFnYxRuzugwaqXhgmNy27ydVrywb7vTLB7IXdx4hknpnN4VV7\n",
       "XrhA4a/dYqMoljAPey2CUOLHNJMxTxSTnJp1jNmiYhaRA2GDoAAAAORBmhdJ4QpSZTAgl//+tSqA\n",
       "AMt8azOjZBAFr3e0yVwLy7G9wVzrlhTl+onOjxXESZ14xXoYB5uoPK/DEH8iEUe5NdiikrW+oRqx\n",
       "hWyjJsGjRd1/0+cpV+S0XtUoZwdK5EFbU0LX2+c3KMyr0nqBRoww9FIVA/FtnYnvZ0Dyn6Nb+UpJ\n",
       "4btAoVrCpQyhIK/CB6x7hlXzcWV7sHr67wcJCoVpLqdTykdzzFqY7xLe9OqRd860THVE9oPIucHU\n",
       "GpM9/bAs05uwENayp/HRLHit9pUvYmP1Zf/Ur/0CqNCPqMczPCgo0pMAAAGDQZo4SeEOiZTAgn/+\n",
       "tSqAAMF9JS0fiSNtUgAl3KhhkRhEM2jWvVqfp56UbaCQiHcx1wo0uf2vebdUo+SAd0XhYvxqdUMm\n",
       "7bVdA7nus9EfpBh7sk6+/DK6xZRzsIn7qTnZA6TPLdbxldMf7GihO2d/0v/wk/9e4VICs2ssJBG0\n",
       "mIPLSvRSvDXkS3Q8Z6JuC6lDoxkt7ya7EOfadKKpK0NRXU0hDSIuAJ3vxswjjlnvtuUUHt0Hy9w2\n",
       "g9DhF4u7H3EbVRy3CEAv3xg3H0hDjL9WorsqGArWToNTYzk0NManc7F6xe/lfaxfvbKxU/KqpAnS\n",
       "qKhFYMZhn9kBthqH60G3ePd+Heb0m31/7BSKEJIqBN/cD+e9457y4HaWCKqmPDscDfVjwasS9A7B\n",
       "hcRtUsaJuTlVME+Tb9wGanVPCsbj/ZOwXd1rNTmBl8slPHZ33RzP+qqtP10o8sBs81r0ogAIdAIb\n",
       "MOFUCpj1eZ6oeW10tKoEwCefKLjLBTYfn0u+yvCnC/rLAAABr0GaWknhDyZTBRE8E//+tSqADLfK\n",
       "SN5ufXEFxgBf937Tl9SozJtJkEvKYElvhrVscFchMbLGobIhq8b2SnNfrUyYzzO+j9MXn99YmTDh\n",
       "Ik3baxi4Hq1XAGd3rO41CbylWUYVAire2058sBE8X1cf0tsjTEDxGsCdrknf0R1pychraaw/nCi2\n",
       "M0thVXCE4+xxQ88NFU9oQhbkGHTTm05RrsFX5fFK0CoTdaL3J6Z1kifTE9lcDT9Acbosgik8gh8g\n",
       "R9grvCObfo1j0CPTNDUwUwQq6LEvL/BmYprENrdpJOzL/AIESIQ+SmxAUnx2Ey4MWsnVkf4HDLBv\n",
       "pxbwVahejTB9S1ZzBZblCAOndkajF/wGCLV24qXyMuDsW90jpVYP9WqlR7kmwphk2o2qIzbFkyHh\n",
       "dqk41j9D2bb3ybJ8UtdE62YshXiD+GP6OhH4H/GZonVNHC+dYuIGBBdM7IZqXSQXwYQeCJAUoeT6\n",
       "En2M5kCkvvk7y+AMxHksqzweuut6TEuVKNs3tSvsVxWogcKYXTTT18CeHa2aRZsoBLsbHa6UJxyK\n",
       "rurGOQfjTGN2F0H+AAAAKQGeeWpD/wAirRpHV4QKm9KbNVRffYrvQJwUkRuEkCAw8hb+8vYJOnrB\n",
       "AAABl0GafEnhDyZTBTwT//61KoAaf2de89v/4ZhgARi4lferQMmtv2HV4G+vqvE0BV2AGYeVNd0d\n",
       "CqWSF9V9jr+PJRhznsnL8XL1SVjdTaipR+VgcfMvIsog4Ef3GpLi1HGilRmvSyT/0zxfgAVX4DaP\n",
       "Rh8XI3Q7GSxX5kholCRikFvWXfdFT0SDhU7LDjByj57K1+2PeS/7xYX38ixhw43RfVgFpcxcnoNl\n",
       "LnNXxRHimzvXQ4NnUUIUozFkCdv1Qyn5PwitMBOzXULLMavoVP7NdExjtEMG9uazHxWGrUQP2w2a\n",
       "0BQUdbPnHORp8UXYiD/2l7j2RkI5ZkgMBsX20NFXy0oMh6eX3XihNjV4aII2AMQPZ6X6Y5WzRZRd\n",
       "6u3HTVxN5cZcl0kmuuaWcIvJg7xiprP58d+pR8rlFZoPHZ9+a37t8FVYjy0rsYBDB/kCBJhDB5CZ\n",
       "fHidHxVDpRo3MQtfB19sjx2wBFIuHRbqY355yj/RMoBcFRX1PXnn1qQegu6t1R3djyvofNB+0cI3\n",
       "NrJPTWmga9FnS8u4AAAAKQGem2pD/wBC4N2EGQAJZONQO+DZkmVb7RZcQcI28ZeSX8RsyYeYROO7\n",
       "AAABl0GanknhDyZTBTwT//61KoAMZ8pR3sNLcwQBuNzu+VHXNj7MsOai5GylQsb72Wo1TFXfis/r\n",
       "EX3dq+mWVjkPotKPC35fQZKu/GN6frmUDEOlADYO2LlJ0xU9hcevINgPF8GZKVF35Vw+u08I4MLI\n",
       "OfqUPVq8sc5s8KSkW+ZnFFgSD9ZjOzt1AVCIpjdvWz/Za5Psb8E12xOkcmAGDjhlEiVkYppLW41U\n",
       "cgGAhy4hjvmLwWlStHDdj+ro1oC5LLF8NyisYE5kNm/Ah7svOUlwAIsHFolBZKF4fCgJ3xVqgwvZ\n",
       "vQpeXndQRoRRtNO7nEenEmdHdqPsNdlrdeYGTrDRzD1cy6VU2mOfA0l8LOsNUHaE7Vlgsf3mmpRa\n",
       "ZLeUmfZ5ARHuF6wSkJt/iKtr+boOu2dutsYrOU6KCd+DzWLnmNkaPYk5s4KlG3cm19+aFNklORdt\n",
       "AElhjZk0DoFVq0+aiW0Gj8o+UHCjANZyPUuIhIU+SRoX0MWotZumzPD9R3k3Z0fWktNXQnOD+wkA\n",
       "mZcE6YS8Hx0DMcuBAAAARAGevWpD/wAhsGtzqZPxjQiMvwL0s7xneAImq1MrjPQ3htutJ0lekC5k\n",
       "t2yPpwOpl5JWdfzVDw4tO5/CANZ/wbmW/akXAAACVEGaoknhDyZTAgl//rUqgAYL41mLo6GiV8Bg\n",
       "CgOOSCA0eDXNYYZrZw+oGN307o7ckNW+EjvG5dRw4EyUefj+aBqcFnZ2uPbLc7nvNEI670Thr/LX\n",
       "Y2Xyi3XwIkzNaWc7weYl+tnp3ggmOC3Ftg+sHRqmAaU/l0siNo19zAByRKggbicqPOC3Den24sII\n",
       "5jkzpb50ZWhG7NxAy/knUdr7BthlFUMOixbYDIPyL4/yYDNG7/j8lnB0Spucr4f0RHE8Cgc/D2BG\n",
       "6RQfb4leZa1L/AF35r63bwIsIJwFUpKBe1Yl53983fVqh8oD0CgFPmwN8em1O3PaI+oI8gqOL6dC\n",
       "A7fojK+OUyd8s87Vwtd/3bAhVZJhzliT3pvrnoIdR4tUwSSnvUbBn0sZWsvyOwLlMlP3OkIlnBlp\n",
       "iflbgAQaE1eJzTxZ55QRLKWTxiGHa3IqGgcsRnJ6Fr5u+Yo81xlHFrj6Q6/MH7Oali+y1BQjufox\n",
       "L7KroiSl+fNQyHuO5Ki3VdGre+GW3QryrMZ/DN8hYy8XFkLu+fXgjwpO6lDi0bBhSgI6DUxBU8gm\n",
       "kuzVtZMz9Bo0SiAxOYvFkcgPcnVhTc/GxWJFFbFBfyVBTB6wFlPcsjIJltKfjvidqK4aSZPJSLKp\n",
       "ClRX7FZ+J1h8TqwmGOjLZEJr1UUYr2FbfeP9OZKcXbZocK5uCOwo2Ne2Yan2f8MplNFhriZJAR3O\n",
       "42fvPu6Q5zFHeKXkGjFtJr1ov5bfTbas2Jj0FygJNTvse8lnYuLLUVfvLXeiLYgLWuGNAFfNfO9g\n",
       "AAAAMUGewEURPBD/AAdqfH64innu1w6uMLpe5Jk9nm+fxyaM12LGJU3ZU0I624tQ9hjZLAkAAAAp\n",
       "AZ7/dEP/ABBYzb2y7CstIuVAD0AE62nXyoJZXrLFd4ilmloR+Q2dnC0AAAArAZ7hakP/AAgsGtzO\n",
       "RUaqEqmqdniIg6dtABNF8a0a1NOkFG6ue+bXmymF0wAAAKhBmuRJqEFomUwU8Ev//rUqgASBxr/A\n",
       "AmqzTthudlG7a2F17C1IT9mmDq7IAqu2ZA/ZqSuPEGU56qLN/9f91c0DXjBWb/k/h267OA+g1scH\n",
       "o7QIDCI1tgAa61V99shD1y6XeVjYflU2rQZGCMtxxRsZDjMefLd6YeT/RbjZY7hRubg8oq56YUgh\n",
       "BiKIQ9k3vTwef/MPrwQ/cXO2BYRy46+OFK/1IZ2jfswAAABDAZ8DakP/AAfvsfz0Zv7v3gT8aDyI\n",
       "U+xxSYAP4QkXY1XXoSbifZrbQlD+A5aHwsRTqXOxdOv+ri5ugP59ftYyaR99SQAAANZBmwVJ4QpS\n",
       "ZTAgl//+tSqAAu7PjzFO4vlgRsjn7f+AWpxomPLxSzZsCuMMwfqlyzlcJsF9dLppDpb5es1OdFKC\n",
       "fdy3aaMQ5PoHDS85xeM8hLW0rb9sDftXjmQKdzo2/0mpigEppt580IkOMJG7qZxHMLuPpiKgLxDj\n",
       "oBtaLTbz0SJPlTTn67fpEGGHPf1Zm3ZIll4tyBu+NrdtqckY22IB0bcwvkCa8to8VJeM1y9nayQE\n",
       "39e4fNuQe9nKVMaH8mMyiBLaWUq62ZjT/gIBNbFyYeLx6DM1AAAAqEGbJknhDomUwIJf/rUqgBIe\n",
       "/wQElVXeMfH4DcuPs5EAnRh0fDeGmy4SzdmTjaLWN4HZrKVyjPGyMoz5ilmzFxu2gyCaVw6i0ZBg\n",
       "TAwUFI1oRNpBUX9powSNXN7wSFD+XJULwXuLZdHoYiCg5zyr6z2G2gCyfC8myFSFWdcFTwd2F6mZ\n",
       "PE7CUX5SKcY7YuNtEMJBDxaawcYQ0EP1p3Qf1eQuEs4C2qFXgQAAAU1Bm0dJ4Q8mUwIJ//61KoAY\n",
       "j34j5tUWz/+PzyAAvzjvAl3HXMYs75g5d5gknMPlWKGrB1Ok0aGaHD6+NQvRZbB2KVp4L3hAwB+k\n",
       "JBEuuoRPyrqnRL3WG2Xc1pStYMdq26L0DgPGfD0uSki4SDud6iqSJA0pCheXYcFbwAw6pvUMoWYa\n",
       "kTyWa0KjbSPLF6qo6/Ohh5eOuPpgL0yXSt89BLV8IObBN3WQP7fXFE0ghHjNqvXc4WlAgizfd3Qb\n",
       "dM62KwrMyPpojhX6sbYOyZLolynMaeCeJoKhnePBI47Rjjddn75buqrBtkdJ2EWJel07LrCv/wDu\n",
       "IGUDOx8eZV2vBIhv/m8pntemPb2tLvBMaiIq/loKD4Vgbj2XDxnT7bgapx9bAiQMCOcVJt8L7CnV\n",
       "r0T7BxlHBFp0MsSnRNNeHSm7kuALMYGOh9uFihly0kEAAAElQZtpSeEPJlMFETwT//61KoAVaANY\n",
       "AOZOSyX9Bqrq4kM5D8BBsb+GkuGdCVFFGg8xM3XAZ3ZjmnxihTSM32EP2ZzKD9HCLnYQX1xKXOFH\n",
       "fnltkk2esIzRwN+EdQB7zm9dwCAUXcT3v0qziHOGupUaIWYC/Wf34eJo7h/KiCOAAjc9yFQxQClU\n",
       "U+epc2w8WHGlo9zbv4ZnWnqSO21nRG1b63ioUjmfw3ZXpIxtPxcFPsjEdVGCVU3sNoYypOK7075F\n",
       "nNVlPNl/2U7GjiOVL9AKPkpUz7sPxfLA3Oj/h8RmJD2YteZBgFVz3zylRg5bN/NIkQ7hnssPhZRc\n",
       "5wEAEdrk6nGAj7PRufwGaL0JwggoR65tUFlaBXcEkxm0qDBKldjMY+6+goIAAAAnAZ+IakP/ADm4\n",
       "THaE49+azL/EoC+QhDZrrJae4vTlxSszvIHWf7qgAAABZkGbjUnhDyZTAgn//rUqgBIe/oQifjiz\n",
       "6a/Xvrj7CuPOYauSMYASxID5JJem4F77riS06AeeIUd2W7fz1v3hb7ygOi4j+jLuz3QAotCVYnbC\n",
       "EX3w2xJyeP3kH/0Tk5RmhPu2X9Gw+4AO0F4Cnid76dM1O8TPtyXh5FZT2io7/vgmOKJ2UFLo4H4c\n",
       "CYQ1YApyn3k9DbgswQ6VTxJtpFxAnP1Jwk1LyYSynJDqGDessRuN5sIzOB3T9UjwpLt3XkirPlKu\n",
       "FR7m80jUC+0cHT89MHXlwRZMrdU2GOpi9Gr/NR59uEz4+JNAq257DQgFgPq7kDd6sAT9QLCvAAkS\n",
       "yAxIPWfX4ALVhA0bFOO5HgNXH8bNBhoR0WZ0j+Ga0eA1/2UcLgt/AF17AU9y/kM+N/63GEgu/dHQ\n",
       "WVNfflTKRcuBDwz6wwKWUJaDaK9f9KNWZURr1hVj/VuLVzlFm1kuUdmfkEBfu3Sy2oEAAAAkQZ+r\n",
       "RRE8EP8AAcSfMNTFC/4etTXippKbATNGAfHpxt/vcFJAAAAAPQGfynRD/wAD4fpviGIcFXONF9aw\n",
       "blbsHuKAEPneUp6TmXx26dFFG0sRFCsURT2/BJ8AilUrDsyyr5rgzg4AAAAMAZ/MakP/AAADAFbB\n",
       "AAABWkGbzkmoQWiZTAgn//61KoASBLCHnnfasb/s5P8TgiIHSbnd8pWK25JnOj4zDovaxrIHw/Z3\n",
       "SVkQWpNsy3RMmupPotKH/+5I2z5jnw9lkn26utn4TyxybjXEWwIkIn016d4Ldm25wo+V0qWNBaY3\n",
       "oi6fvkWRNlfd2UIeUZofv1xjMWZ2E9XFAobRugjqSWbUEAd/xJjNPot78pcXpppsx7scCCq5GlfO\n",
       "6Fm22R1etYSoungGDHB15zmShWgAIVSiCb0e0t+jb8OQlD0tftm/n4n4BeNzoL3zNwkwkYmHEqFx\n",
       "oKjd8wGOLCegpZDmS7Gg2fZ8bvWYCmf2laUu3J0OFXUQNiaKoTlh6+JFbM7EfW2iZyO+rUyYvUDp\n",
       "LJfprIi01Wkhso/LazL+0NdDNyqePsrOQB9ZJB2cfpxa7ykXmXRt261V7TZEnWzerFBBq/IgA4Q/\n",
       "QVJ7e1vkg4EAAAEiQZvxSeEKUmUwIJ///rUqgBIHao3oGfs4zJ1v28xetv8GZ/oDBbSMmzk9ED3X\n",
       "aWE/j7ao5n2vxetW0nsdeuL3N1qZLLTonlLycnKqwrjxAmLdWMr3sCrJ8rWLgpQq/U4Zdf8ze3Hy\n",
       "hKcl2ghTSE0iD7Tioa9WHOqUF3LSVGWU57u6P1hQF5ofoNroYO3aJFUMxPJG1mhMopDnIODlCMvY\n",
       "KbY4DOVo+12LJBdipjtKEAyhLuNSQKNv9e3NuS3Y7azS4feU7clOGHNyJe2bVuKsW+Oap8u1mIFp\n",
       "AoTBseAjbGamvXcYcclaCJMbpJSEmD+6qIZmRIZH0RANDLjXknFyR5KrBI1eCZvJg+EVh0Y7KqFs\n",
       "XG4DSc3sZDqRfetaTkGV7pkAAABNQZ4PRTRMEP8ADc3+X8BYjqlFPSC4ARgpWS5dS0VSgMbjMOR8\n",
       "0vDg4ihD+SMAgkc49hd12xTqjmkoru3DocVOo29xT6GKHKX/9fzck4AAAAArAZ4wakP/AB5eyh/V\n",
       "YrxzYtgZLpc/kTQ9tj1B+AD+DS7xwjytrEEvtXQd0AAAAqlBmjVJqEFomUwIJ//+tSqACzfS/dSh\n",
       "QRCnPBngA4+87E5bVlYGUuF+GCvDIPi+QUir2jSs8+rWJjrjlOa4R3qPX1QuJZurxFuXFlheLnvb\n",
       "UeK/SAHvDfTMPCn2CPO2JwW9FiwDh/dIWT4L6FJTIgup9DwhSx3hOxDZXq5VHTMz7txZl+aFDFC7\n",
       "/VUcfgRAv0yrnO0geZqof91yUUh0O75OZlYP9v6nUUHZSPYVmcz310r/OA/2whmf1nwwIV5KNLKh\n",
       "H3fksgqz8wY+sKacJs6saGAQHv9nmKjC52NHotKnvhVJM0XdjLnA8vDwOOkxBOXON7X7sX8R/rUr\n",
       "vXwKlCeEtX51qov0SxpJYJ+uxNEwR7jgk/I1vKkRQcjnHHgo+fCXTTvKKpzEFwL2TgCSJ9qdDJK/\n",
       "PVPgPIMtI4mvYYCd6DiHE33YbjTg5EBMZ7ct52L0TTGCWHuJNxL20hjBW6eufVvHz7mVtM3jFAhp\n",
       "zbNknN/I9Uoblmh846dwJbRaqxUide2Z62JtXbsAuvUcSBgIULGU6vxRBYCeQQ43ZzUvUYXhMIx1\n",
       "AkmwjBjN6IFdg+qQMo8iFjVlQe3HrSXEPF6QQQUFvkhEI48aF8sig++fSzgLW82Vfsxq1KDt+ze1\n",
       "JmKalYdFoD71csQ2Le/4AGjALlYMwr8qhc7MtT555kFkyeWa/Bpc9egV543Sc4d0/hBk+7iioc3L\n",
       "JFWR6fjB2SDJ9hYoEOn1J9zjK0LnUWu1MZKAaJ4Oho3ia0jz+Szl604Mus4Wee6mKUPVCfeehzJW\n",
       "8QPJCTja1xrKCzYzeKA7CJFi6vHt/MokZP9cVL73HBz0QVhQM5uTjQ/UnaTvSls4w2c0/ksHEd33\n",
       "bCfu1A/pTI8lfXszs0yfcZN0if0yIMAFdn3VoMTgJuEAAABzQZ5TRREsEP8ADc0K623wAS1eclSN\n",
       "4s2rFzr6bTCCqMuZdpTw3x8ghiZ4IeulXcOJoYEv/iTaSSZjdm4nGoeXauY+K4bycHXlP8k/Htaz\n",
       "rhhGCl5K88tNfP9zxpABqfJ4vR8GJNZZn3qh2GQJIXLOAsQXcAAAACgBnnJ0Q/8AHl/M1ryQMTHt\n",
       "+suTRyECcvN9axLO0JtZXtzOt891QAb0AAAAOAGedGpD/wAdrsof1CuXzg/Po5dgWAtUPnIM+RLs\n",
       "QnPypBNKOP8MAB8YqY7eMPwB7/GUGGzSQAm5AAABu0GaeUmoQWyZTAgn//61KoASBwBaORs3Zb6g\n",
       "+4Uae/Ae9MG6KYI49vCAGWBVjLirnPFqW6e48gCdd/gZPyX3GqeNRhBP2zI1IQgwUNEWgUsoBSXX\n",
       "WqYA4X8YlfxJ2LW1fRVAGR1Wgnm6HYwkmRJ0lShqbhjCPgimJrtb5KU11OsobV7acwo/cs6Du1Gk\n",
       "vIc1VCLk843APFEZ6Leu8z+uscZsJOcWBWeTyHVu5SMXm+R3Dz9dKXaFimbshOgIazPFtJmH4iR+\n",
       "XOlqh0XJh04Rxda8k3a/LXrHNX+cCr3eVVMEgMqxkAjGMwM8ZGhXlail/BSM5R61TPH+bBwsc7iO\n",
       "PYaioT45zyrwFzZKaZ7Sue1ll1Qmwer8xPQOmtBRRoiEzVBMfzZripPnJlMC3O/rqcQ+NinfxrAi\n",
       "kTgHhxFy/gnKYaeXMBsfFFnmrYwuDpY/YYIUAXcX03itIgKYziL5YRJpSPHFgpTq9Y2ms+gOdGoB\n",
       "HmgIxhmasEFFVrFHX2BSiGToLdGeaueItFydsbwYTA8ax5+y/RYEejiHsV7tteR2ql/JYpI4Aqn4\n",
       "dlYA1a1pH24T9MqvYNjXiZKmAAAAbUGel0UVLBD/AA19CpFlv/yc69EnJbSMny8q7x6I52tWncAA\n",
       "nJT78ArfoPpBi82eJ0zzKROSqYr9vItS1xywcK80t1Fi7Tjd7Td08tjR3aqQuGhQv33ROTJ2nUWq\n",
       "UI7NH0i786WRAdx5PjUE9UEAAABFAZ62dEP/AB2vzNbLcUYuBHsqfAORikAOLadumyaU/hf/wI5r\n",
       "cWR6q6PnWfpcRf7yrk9mTuBFowivIOuZVGpEf/AnzqV3AAAAGQGeuGpD/wAc/slv37AfkodQ9fEk\n",
       "BmTl8j4AAAFXQZq7SahBbJlMFEwS//61KoAKpKRxEwnlBACPQnI/hYMKrwPAypxowAlpZzmAurtl\n",
       "DTy4WCgtaar1j1S7LKsb6SwxuI81J7jvSWVXSIq8FUOw8xpeNI5/TWIPTVrXJCFa/QnK9EMh0Gjr\n",
       "qQVbWeu3haxOLbVabwwjVbHCUQzia2yJKmW3qZBITR7a6BIT2n0u6tTgVuukvRdbvMdIGgGtyZeJ\n",
       "GsIJ/01Kj817YtvZIIqhlgEDtddZ0ZE7xtrsYf9saeOAjG8BFpfuXM58wpaD5nWNACoUKHiRuE5C\n",
       "9t2q0AhhrzP4F85uJI+pWU3WuoNcAN0B5sYQgpUKGjZ76K7n6e2/ir02G5S953XIfry4QXn5UfJ5\n",
       "W97uyuqSuktC8fuP3TaABiN7eZygNcenqEp+jvGRnWQwp/tOScuZcqQ/zSyxKRqVCeSjI94Si+DN\n",
       "XMIiJB8HeS+CTwAAADwBntpqQ/8AHPwqIK+MnsyGAD4xUsZebquY7sesWajOFTJ3lL9yTzS4l1Gb\n",
       "mMgphKppwRGCM4g0ysyJR4QAAAFJQZrcSeEKUmUwIJ///rUqgBWPpI/SeVnuU//H66YAhBx2JVSV\n",
       "0onv+YjJVNyJ0qWlU1NovvK4ioNEJp2WXCU4IdoAguTdq0WIDZqyUo9QY2uF/CqENdkxD/Lwla9R\n",
       "3kRMpWsGNfN3d68tAnvjO97F5LixzMtdW3r8Mj98CEro+/piqKqXeDfCDRMsohpb55B02YYIbS6t\n",
       "SoAlZDZxGTbZXAsZaWetJ1zArxlP9vaj8jNXhrIkCpRwNQ252JHitKFz/9rtdxab/YCgdvQb6nt6\n",
       "chg3lQDosO6SUFGRLqOx5yLpIyNx+LzsCdNf9lNYlDM6Fw0s9dio+FX0vT4LfCChCe/JOLJbZ7Y6\n",
       "alpv8vO7dm6rPIIGDjFWFpHfU7mhigNodvtRw7P6f/i1W0woIeKnMtUvs3J7Z0SX/QkyRsF9sNx5\n",
       "cad8Wtw6xF0AAAGSQZr/SeEOiZTAgn/+tSqAEocRTgC/7zJUshI/zPzHJwvcl3hhZNPre///kmsv\n",
       "bKqV197EMOKMSvhH7YgdSEYSIz5lmLfBqhK7gV7xtdnozBIfJDS2H49YUi920aSCJrX1Qxo9tsRp\n",
       "iE2AwYxAvBuplP5bHHd14BDmxyTTw9sW0+Kc9F+EcX4Cs45vDD+JYQ+tsTk65khjZlcTLnxli6No\n",
       "JdL2fnDHappdvxVjqMJ9LMq93VCIPdWSZfLIFpcPkpOVO2qR3wywCD5fTiQEJxZL/A9LMH4bhjbj\n",
       "Mz21hCmh7X0JpKFOvCq4YkZaUSgEkkLiPcM3SdjxfMALE7qosWdP/+PjwKNFxB3D7J+9fQO+l+Qz\n",
       "MqfN8HCHEB8I1fWleabhNLymQDrPYVzngpSBlHl77RgJzKqnd1MeZHqx7OL2RT3q8PThTCS83/mH\n",
       "cUPCywV8DzmEOChlbVV6tGUugh+uJ2fp5ghfxwIZY1BThLSn9WYinAmnIw0vtS/ar5AE0oa2VIee\n",
       "s1mqtqqbTvw9wgtHXMqBAAAAZ0GfHUURPBD/ABcvn5/MJy5V6WjmhOrYYJcAElHXgcYB7TVOxQgK\n",
       "callTBBIq6f3W7nJ2J8lMtHwKLeFK/bC8orQ0mvY/Mk8FSv0RveyqDMuD9j2baUYZja+Bs7sOjyk\n",
       "ZVv29e9sUkAAAAA/AZ8+akP/AA38MbXgKf3wV8ddb9JBlqfcGACck+Y/u85SjXiPvuDUS0YuKVOY\n",
       "Mj0LRJAd7B/3BaEIz1IIIx1tAAABH0GbIUmoQWiZTBTwT//+tSqAFN+ko+aqn/8MSwAOlvOxKqQd\n",
       "KLUdhMHLu8FfWALmxOBnmrfrfuqZOYfKsUNWDqdJpX3qFVTyqLwBMxJFOaVi2fK3nPVE0sX/sn0v\n",
       "/xq4cQMisTN5t8Yqr3MYgOyYzEGOvgS7w7i3IBRLWWeTxtV5pYmtpmqElzfymjy026/4zw+eKRWm\n",
       "oGloh2gPIkti+GbZlxgJR9/PpbHPnK9IgyjqUbgc9JzfraA/gaoLswmwmreX+6PCvD3KOoxIAPnK\n",
       "CJS66dXXQI/rlUdPXPth/mZbJlUFpUM8y6nRfDD3s0yU1iLVYuvPp4or8H+hj0ENA4d03mTxOnx7\n",
       "74bAH+niTeUawepA9Hd94+0DjLpr6Aj5AAAANQGfQGpD/wA3sMcwFInAXFVoEQLTRgMF1OQXaW7u\n",
       "jOVxtshaEVKs3oTeKENiBxoN0wwbyt6AAAAB+EGbRUnhClJlMCCf//61KoATByBHABEmOsZwMmgF\n",
       "yH3hlG3Yh63QyVWqp/3BH7OD49R2QdVgVoqoSDzlqJBo52vuA2t21L7giu1fVWMe4tRE89JYWPh3\n",
       "nP3aA4fEFar/NBWE4D+KXoNkNufzsjCNJQvnF6m/B8Mg0+8xQ+Ok6GF0yqDYS+g/6EjTmm8zw625\n",
       "Pz8gNkwSajsfZEp6W28H6DsGE7g3WB3MBf/mDci7S5Vm6HbNEr/PVZVyh03v4a8ahcTrrjholakb\n",
       "cWnLbwcJt/ELpdFH6ryzuTQx8jvpP8elbU3SoHD8ZARIibY2W5IiqhB3kBB8seSRBjugaW8oscsJ\n",
       "p1kEIq9E5YEv/aNsL5Qh8dyB9euuJt0kw5v9gRE2bqlCblU3TY5N8uDaw/JDUQfFnJYKMj0hnfEE\n",
       "hidGT8rr9j7l2orcuNd0ZARSmkN+Sww2oy/Iouedt4FeLQCIB2im8X0d+TLXufRjqX/M4o4rdqS4\n",
       "1WYdMkPTFV/q+PIctrr2KDOKxJ4i2Uzy+dflkplbhR6/u//dKZaoh/Cs7fd5izU3b/BDue3ZQ9l4\n",
       "WAC8HyvlEBT4M2zB7JJ7EQ1/dBYYFFFLvilw4Ayx/ppkE/Ybvtd7Kwf0Wq5SkIE+FxurJ0LmO1Ti\n",
       "dsYb1OdNT6rifr17A3L1f4ktmQAAAFhBn2NFNEwQ/wAXv5/G9CQyifEAQpfqN1cOqBITxu/RNWAc\n",
       "PIAB+deTQkB3vKyohxVCYATKZsM+mBd2onzqjnylP8kLMhbuae3Ujb+gleusOhRr056vefGLAAAA\n",
       "OgGfgnRD/wA0d0p0f6zhCCTHsGHfVKbgBNNmgFM3Pjn7hBl5x2Ma7dD1yf92KMXapF0/mEGL7+gh\n",
       "iDkAAABCAZ+EakP/AA3OakWp5YbEtQ+OTVjbAB9XY9AiAibSrDcVNZuIZfdfJelt/Yu3keI0BM2i\n",
       "rn6o8GhuAIUcCpczJhJxAAACMEGbiUmoQWiZTAgn//61KoAKF9Lv79+d7b1jIVQMTAAh1Bs+OyDC\n",
       "CcSrL29IGKHxRjpc5Vc1zMnz5fZYPdPv2uXEf+I/HhJgL0IRe54IhoDHY4hNJXZMEjyqQifsn2ND\n",
       "9s74lOh1ZS6BapkHnklXBoEXXOz8GVMngSNbT8he+lMLT4lFoslBi7dz39vBebzY644F59vssCYg\n",
       "Wvx9ne8CgBStizf1qmxGISAnujzgv+0A/dpZLITSaJ3Nx84MjHNEcOjute3g9hg2h21oxXHy0H1a\n",
       "+2x1a4QzCKpWMjg8+uKw2OZSpjftad/WrpGWsVnCxt5EMdf3q31JzjeBqMZ2XylJrCgeq/yUjyop\n",
       "9lXkNZ2Zgif8dt2MxTy4KpRLG+kIr6zONaFqZxgDiBSQCh1EsxF10YzOss5jXg/3MmjSCsu1H+9l\n",
       "o1qMAUz88nKCyTlQ6l/DfJ6IKiAqRik1qhhM0t59ienkLl9iWsRTEeG6Qz4oWxdzR8Uf9BCzUigL\n",
       "JiokiRJCjMK1rX1ZHObaKHJOJvGqFYixK1/Lr5BcplrG6CVIwwNTF1Otn2B0bG4ox5dOzt0wzHtp\n",
       "AwjirA2mBMZoh+5kCRQrppN6VEkWIVjYbz8etk8KBjemZ7ZAhv7InbShnwSI20ndwSte9o31btrV\n",
       "sF4CfLWkUdvLVdZ+vTQa66w0wLN9wy0YQ/vjAiH//mXmHsCOg+Dqm9o0khc7wXEEq3m5VbSwi0WC\n",
       "OJAY0HvVGIzBAAAAdkGfp0URLBD/AAyNDj6N4xNuXwASqbkq3XeLVZhnxfaZ2EYv1pTIu/nthJ5R\n",
       "OH0N42KX3JarglB7S5DBP0EfYyDUuats3zZclG41/kJ+KcL9aIjNGxyRaK7PPDmOC7oaxE0gQv5k\n",
       "/R3mNt9YrhkvX/6TlklyG1MAAAA1AZ/GdEP/ABuf+dJlYtcCe6cAL0vQAEQfIisNEEZw+O8Fbp3M\n",
       "AQdbH9cxtfcyqGZRg4ngPmAAAABDAZ/IakP/ABr/HzSJxFKNncJtXcdL+QTemR6UuOJI/xGAEnPS\n",
       "8sBKuOiXVPRNNL7tWqq6qFY/Y0E0U89LRyvj2iShNwAAAb5Bm81JqEFsmUwIJ//+tSqAE5+/ATPH\n",
       "F2Jy/MzeIyiagAsYTvBNzIJWC2dcuUMVbFYwCSqmkfemWowDvDZlGwqIBCkv0iuuugOOO5vOzMd5\n",
       "FaoHZYyUK3Q533e3NN0Kh2YwetK2kfBdYkYRUjC3r/P9nY+DX/rqLYV+Tk7vy+AXeyDT3XOzNZU5\n",
       "1u9dPCZV6xDhx5tPJ0K1Ei2Qvm4ooEgACedOXcY6/KK7TCiB6oiD1c+8cmLFYz1TGy2uac4ynoHY\n",
       "r8RECS2UxGUU/c4vmqemE71pOKrnGzDPWrU7l4Z2NcawdGSQzQr79IQ5/NZKugVE7MJRdviWUJ5j\n",
       "0efQHEJbqF0K/EyilauybJK83+0vDZCKKUh+rw9GE9i2Lm8m8ejd54CDKNLtSSWuHk20jWGWsibV\n",
       "vgN7T8V1nodwUtaW6PCzpYIVY3s0+VwX2rimrMKZkVnG123GvsYuB019h0/BAVM+z4NiyzL+t/y/\n",
       "0b54KQOUCKbASdf/U3yeWys5Cg1v32g9DIkLclASdGVxWGWjwJS+BUKySGX9LdmM3aPzOZhCpA8w\n",
       "ZBTuPLPCfKaWeS6bV3mS7MnMwqqbCFJiLwAAAH9Bn+tFFSwQ/wAYW/rGse7SEcIAAfnXkqR3SqRt\n",
       "6i1DnjDMFUTgzcLJG1aZ4YhlmGNYNJXbRmbhz1LKny7EhKxdHG/+eDfa5blsmfrH92ElkYgbdy++\n",
       "TR/zpNODku0LhrlLxi7rV9z+DdtvKKrhL2HTLQpGrYGsJnCxzelr3TkPAAAAHwGeCnRD/wAa//5o\n",
       "ax5Y4D4oWB5hd56KKiHHy7zQAe0AAABLAZ4MakP/ADXBlaagE9zAFi/xdGx40Ggp4gA/hDymNgfE\n",
       "JzZ5M/z6ckb3IfFFX9dYKgSlN9jydRlPpnzxVi0KjD6oCp8t5NPYAF3BAAABNkGaEEmoQWyZTAgl\n",
       "//61KoATH72DQukEGjIAwy1VVUcIAH8hORrSHZSxxRkhQgoXPOFsWgecTnvVDxrJKsNfGmpRFwmj\n",
       "tF2GRYk4VrilWl0edDaBBeT6g77F/O4r5ko3Vygxgvz9oS+0JrQ8t+FdLZMRN70ED0iKTTDrL+v5\n",
       "MMv04WTkACeUHgx/k0dFZlNQ+0+0afiRuxI7Wzy3+lpQNgNR9BDmxiXvR6exA9gCVw53EQlBRpyB\n",
       "7JfadwGUKZmADdAgYTQXtEAcbyV2J+sfMzbBWMy4tj2X8bzJv/exrcQi8YnNx4eah4T0J9cw8EvZ\n",
       "mFR7x1KiUtSHNpK/dDxtM+n+DNqfqmjeAIz6BAfyDiGdo8xnue1zIbUMFZKCd+I7bLaXxuDd0v/8\n",
       "OfpCFBRJshN3M5e2kvEAAABaQZ4uRRUsEP8AF8F8p2YdXqQel2e1RDMG2NUoUAF0o+YVEMJv9rKC\n",
       "Pi8mwPWtQPzA64cfTIeUv1+PC3s9qF45ll+BmxPNbLmKbfTyFSkWaWXTguYh0yGzd8jZAAAAJAGe\n",
       "T2pD/wA0eapad+6AX8MAFOR+7k9BS3zWtQH1INzZey+RywAAAQpBmlFJqEFsmUwIJf/+tSqACYIG\n",
       "6pUPopVQADm3HNqmHBn37aRYuQ8UBL60c98EG5LrzJNDxb807+//a+yoVbVcTEc2e6KzjOfi+y4v\n",
       "WYnF+iwT+So3yGwP7AM9DUkR4axZtHmsZ2e7IFvQsD92ojmVZGNKujDXLtozLMnLzWHo4sa9OxJa\n",
       "TcXFjVZD6VKSLr5VGk0ml/OWOZN2P0UN8+IIWlDOpDGEqbEUzPtKf891x4RbTbcNhCSdzgccom83\n",
       "8rt/xsgkuTA2FQqNSvBq2HsAqmzmXBOUiJsG53pk25J5b8McDLyC1WIQG11p0LdGJkPuKNnQ+p/Z\n",
       "EVkqXqMEV3ZK5wY43lthQZWe9gAAATdBmnNJ4QpSZTBRUsEv/rUqgAmPX/fxT4tABL1xRM+CX6RV\n",
       "/vQRKgQIOp0hr8l0/BN/YPCbJrB9TdLMskN2KbITsmvR4SQ8qxM8Tw33w9rLFIOnG94sDPNx7l93\n",
       "t8HiC65rVV7LtM+L9qSdiS1tZaVuygCe5GneYdREGs2Xj5M4gD3KRRRaDeZw0DlwgmZXs1ThT3s3\n",
       "bqx5zXouGZgAwFgC5PwCMwdfGWo/BKTrzV9z186Ldg2fR1lJLl6t4SJY9uv1EQG54uZp83PDga9d\n",
       "r53B6ftSedLOwk7wxLKvOACyi/G68jcyer8PnApeivOnrNhcoQYZp2+VXlWAnQJJtYIG7QzqaAEJ\n",
       "pvH48fOL7q0uS2fqtUg28kE96GHRZLxqSFGUZSemlSDHw2GOx95tRDz8RoJvcleFNQAAACIBnpJq\n",
       "Q/8AGlzOXeKe7AtTbCiJ9STi5ArbT5NSyAa4r5ZuAAAA+0GalEnhDomUwIJf/rUqgAlHtkeH/V1A\n",
       "AzmpSVRQK9rDOWaGMRYYKNFgrGoyBhlU4iQjxc3A9/+pV3Pf83OG2CHdYkxZyUhvbYUYNO1VZJiI\n",
       "itzymy5di0DIkkWgN+B+v99pWWENYBaJvzl/LUrwEiV5XQKumQDYBJIUXoQ7vMk4vyNg1OcQob64\n",
       "sncD+J4HXks+NEOCC4q7lmC3pZKIpVe8Q1Xd9hEpoBWNojuzgmEUct5WTL2r++I/qniEO8y8V0vy\n",
       "2rc1ExNTcKKQ9h+xPyQr2cAMUxwZrifkQFhvtqXXwzw/Upfd1PImCysphCxnPePMMAR1tbSEQDGg\n",
       "AAAA5EGatUnhDyZTAgn//rUqgAlOJfoCIEADWwBLunQWFjx/jLKiD05/xCHc5+C7/J+OprU4xsDE\n",
       "huyHDoHeWsZSTiOVD1bWtin/jUpehfeV5MPT/q0FdSaB1ilGBcjjPh6lvAOaN0qCF4J2uFhuAX9e\n",
       "76vg2ObZXCz3UCh/i12uKhg3ORNkFiIfaglN1puNdC919TjYFCr+LrRFy2lf9DaOgod23eZw2LSl\n",
       "4O3weXHYtCDYoaqmPQnc+XFMwVYq23lYC0W6y3bEN2Jj1zX1oW7xLeystMXq7KhRgNyy7lhtWRF1\n",
       "84CpgQAAAXRBmtdJ4Q8mUwURPBP//rUqgBKfvwfd+oj6bABLW861NiCT1qUJLe1wuAYA6j8sBvin\n",
       "OpvJ9tjBqkA32Fg2xyRcR1iGXvsngmXtlwE6cjSNgrjeR13nkjTGZVQVnvw3X1XCtuUuaZ5TEpr+\n",
       "/CifKoe8XovFyg3v3A4dWNuayU/cxRVGIHCBDl+SxTQ59IQsufkRvY50GxkmdVRghp741CVgq36A\n",
       "0S3iWQefGO5Av85THDYumthi+qaH8e3bN2fh6qmU3QEa/A1LXvZEmbcXIQDiEwjsZxgKsMXeySrc\n",
       "XEcf1pqQ0pbgET3JoxXeTFwTsxV3ByFyM29ybm1sKnmJXvPyJdTddvlDVT46zCRsfwI024o4lgoF\n",
       "lxsxX6LuoKS1JjS+fmGq8HsynAuO0Av1GJenQBv0+8ZIt+cThAap2ZaVk+VMGVkEoqKC99ibG/hi\n",
       "rBiV943Kz6oj/30+h4RsBlUoidVZOEjewUG02PZ6DUuVIgpypzAAAACPAZ72akP/ADM5nLvFTITZ\n",
       "BagBmiZf83JnsQEh7vG34Po8uMWQWxRZ2ljg/+Qoo/fiOXTWbrqmgkQI43FNSUHEkHIvzoLBKxbq\n",
       "kv8HqokP9+xYC/d1AQkFawLg3Oprl+QUK1fmRLOlWnKoPzosCXVf/FXjcS1YTrCPrBeREWxf7eMt\n",
       "lfZCsvr7KP9e5kdX58EAAAFVQZr7SeEPJlMCCf/+tSqACQII6jc/C6PlVnQTE5ACc10iw5+Aj9CL\n",
       "ZuAXwfxsau12XYo+kUDCNb0RWF4d4HXgZHuy/bNpZjmuwc1Sceowxbveg0n7t4XALnlUC4LfZdTP\n",
       "WH0Jv2+Iq7ooQxDuUutgSod0HL53o2l//BgIllXoP6QKy2fFTvbZtoThPT8Zf4M1fds5jR54kgyX\n",
       "AYIdg0vhc5fqB9R/x77G+AzqHxi48NZilzLqKmisHAasrB5WAJP4rEnmhrUnSH+syzagby+QU/zG\n",
       "PpNNiIR7JZkHDmJ4rsIXcfLR8qDDcu/N0ZmKV79tL0gS94awyP5xYd5PIB0wY1PSCvRZrHeCTe9E\n",
       "7IGsRqMr3tRx3ZxGHxvzVxzszXTELOSOOEVGY6l5mtQdR5sVuVfleK7fyk0WCahrULyBj4Yaboke\n",
       "vCrP2Jc7qLz85QuisbC7AcEAAACJQZ8ZRRE8EP8ACzVa90CYAAFylY2WMucWqZIRUesxgE5lEc2h\n",
       "VJCEE30o+tn0dRXMSVuL7zj17BCYTCMiUNIuboAC1E8QeNzzm1oxN+/WOcaoHm23Fh82sc9kOAum\n",
       "/z61IuPQXwITseB4ZgOsaoI6smD5jUdEoqMj1zlOMnd7OXat/nI0R7WaG4AAAAAaAZ84dEP/ABkb\n",
       "owfCk0HAYw+Gli6nr9vKpLEAAACIAZ86akP/ABjMjSbC3h4AAhOqXJSF+mkriM84wLLSb7VHjHjb\n",
       "ka1t2XhhnamHSk9uzbBcolY3Ty91jFBlZ/dZp2GjsK61qZPmxy0BL/yGDMM4YDBBeTJOdYpA4W4Y\n",
       "CMeTaSMTV0Op8Buv0i/YpinhGWikq5IQFADYgQDb4zccLaYMK3rtO1dpGAAAAOxBmz9JqEFomUwI\n",
       "Jf/+tSqAEYaG26aACVZDMgugUhiW173Fwn8FJ698AyqoGPOY/09qMt+OOHT5JOBMJLNkQqWoZUKv\n",
       "dzrtro4uxxjjFeTfSjTqXCcon0q3CarWnVKDKiXHkfKuSYGpnVR3FWNbK/owMAAu1THJBLwpxxsM\n",
       "MRTUi2YQS54cHtehFnJwXyk0bhSH46tlDdDHE/cGPlLNVZtH/Dj3sKjOsqFbZ+spC7N6L8MmlpB9\n",
       "baGSH0g+eu2HKgRktY/6HoDqZstzgYojA1QG7sb/U+piitENdfY6GWtG7BZULEC+L3/wPpQD0wAA\n",
       "AKBBn11FESwQ/wAWCEqq6uACWUfJUhyY5P9TO0frgzzkXIp5oqt8XhQU7zx+xjPmnIYp7NtYKpuR\n",
       "vFMGf2gClhbdBvXZEX+rYZqpVzMoYuVGn+ABRDr01J/40sl8Vzs9d1tiMB2NEhL7HyBFtqnvPnZT\n",
       "nHMbrYCn7LxJ4VTAg/VE/OOhOvGBa5H6/NJOaKEgKJderSRf/sIKgx8mTYZJuHGpAAAAVAGffHRD\n",
       "/wAwv/i6xCi1DqIjvMAE0ViV3R9p+8kRmeXFr51gEQFXoPjj/pcr27v1FDDBDVzn3p32UNfOCHJP\n",
       "8IhMER7JnatjZGpeEmKmdiSf+jDCbgAAABcBn35qQ/8AML45/ROnMwozOd5NZf3tIwAAAEZBm2NJ\n",
       "qEFsmUwIf//+qZYAiDE8BqXCV9AA2kSQpiAqFLscu6r2KIgh4DROBwSWw06OLajfhgPm/3EONtI2\n",
       "kAcOBH9csBtRAAAAVUGfgUUVLBD/ABYLndhgAuUrCCyteFUD7EwjgKMSnCuPYTBTqpilYVP4B8vk\n",
       "bKcByDL9LhMMUfG/LjfS1ZMr67l682SGbujH3pcn6CISMOfUs0Nw6YAAAAAXAZ+gdEP/ADC3RhB9\n",
       "iPmWD9pGndrD2kcAAAAWAZ+iakP/ADC5nL+EHUULY/PMd0OPCAAAB35tb292AAAAbG12aGQAAAAA\n",
       "AAAAAAAAAAAAAAPoAABOIAABAAABAAAAAAAAAAAAAAAAAQAAAAAAAAAAAAAAAAAAAAEAAAAAAAAA\n",
       "AAAAAAAAAEAAAAAAAAAAAAAAAAAAAAAAAAAAAAAAAAAAAAAAAAACAAAGqHRyYWsAAABcdGtoZAAA\n",
       "AAMAAAAAAAAAAAAAAAEAAAAAAABOIAAAAAAAAAAAAAAAAAAAAAAAAQAAAAAAAAAAAAAAAAAAAAEA\n",
       "AAAAAAAAAAAAAAAAAEAAAAABsAAAASAAAAAAACRlZHRzAAAAHGVsc3QAAAAAAAAAAQAATiAAABAA\n",
       "AAEAAAAABiBtZGlhAAAAIG1kaGQAAAAAAAAAAAAAAAAAACgAAAMgAFXEAAAAAAAtaGRscgAAAAAA\n",
       "AAAAdmlkZQAAAAAAAAAAAAAAAFZpZGVvSGFuZGxlcgAAAAXLbWluZgAAABR2bWhkAAAAAQAAAAAA\n",
       "AAAAAAAAJGRpbmYAAAAcZHJlZgAAAAAAAAABAAAADHVybCAAAAABAAAFi3N0YmwAAACzc3RzZAAA\n",
       "AAAAAAABAAAAo2F2YzEAAAAAAAAAAQAAAAAAAAAAAAAAAAAAAAABsAEgAEgAAABIAAAAAAAAAAEA\n",
       "AAAAAAAAAAAAAAAAAAAAAAAAAAAAAAAAAAAAAAAAAAAY//8AAAAxYXZjQwFkABX/4QAYZ2QAFazZ\n",
       "QbCWhAAAAwAEAAADACg8WLZYAQAGaOvjyyLAAAAAHHV1aWRraEDyXyRPxbo5pRvPAyPzAAAAAAAA\n",
       "ABhzdHRzAAAAAAAAAAEAAABkAAAIAAAAABRzdHNzAAAAAAAAAAEAAAABAAAC0GN0dHMAAAAAAAAA\n",
       "WAAAAAQAABAAAAAAAQAAIAAAAAACAAAIAAAAAAEAABAAAAAAAQAAKAAAAAABAAAQAAAAAAEAAAAA\n",
       "AAAAAQAACAAAAAABAAAQAAAAAAEAACgAAAAAAQAAEAAAAAABAAAAAAAAAAEAAAgAAAAAAQAAEAAA\n",
       "AAABAAAoAAAAAAEAABAAAAAAAQAAAAAAAAABAAAIAAAAAAMAABAAAAAAAQAAGAAAAAABAAAIAAAA\n",
       "AAEAABgAAAAAAQAACAAAAAABAAAYAAAAAAEAAAgAAAAAAQAAKAAAAAABAAAQAAAAAAEAAAAAAAAA\n",
       "AQAACAAAAAABAAAYAAAAAAEAAAgAAAAAAwAAEAAAAAABAAAYAAAAAAEAAAgAAAAAAQAAKAAAAAAB\n",
       "AAAQAAAAAAEAAAAAAAAAAQAACAAAAAABAAAQAAAAAAEAACAAAAAAAgAACAAAAAABAAAoAAAAAAEA\n",
       "ABAAAAAAAQAAAAAAAAABAAAIAAAAAAEAACgAAAAAAQAAEAAAAAABAAAAAAAAAAEAAAgAAAAAAQAA\n",
       "GAAAAAABAAAIAAAAAAEAABAAAAAAAQAAIAAAAAACAAAIAAAAAAEAABgAAAAAAQAACAAAAAABAAAo\n",
       "AAAAAAEAABAAAAAAAQAAAAAAAAABAAAIAAAAAAEAACgAAAAAAQAAEAAAAAABAAAAAAAAAAEAAAgA\n",
       "AAAAAQAAKAAAAAABAAAQAAAAAAEAAAAAAAAAAQAACAAAAAABAAAgAAAAAAIAAAgAAAAAAQAAEAAA\n",
       "AAABAAAYAAAAAAEAAAgAAAAAAgAAEAAAAAABAAAYAAAAAAEAAAgAAAAAAQAAKAAAAAABAAAQAAAA\n",
       "AAEAAAAAAAAAAQAACAAAAAABAAAoAAAAAAEAABAAAAAAAQAAAAAAAAABAAAIAAAAAAEAACgAAAAA\n",
       "AQAAEAAAAAABAAAAAAAAAAEAAAgAAAAAHHN0c2MAAAAAAAAAAQAAAAEAAABkAAAAAQAAAaRzdHN6\n",
       "AAAAAAAAAAAAAABkAAAzIgAAAfcAAADAAAABEgAAAesAAABDAAAAQgAAAREAAAK+AAAAMwAAACkA\n",
       "AAAvAAAAyQAAAl0AAABLAAAANAAAADUAAACuAAACMwAAAEUAAAA3AAAAPQAAALoAAADoAAABhwAA\n",
       "AbMAAAAtAAABmwAAAC0AAAGbAAAASAAAAlgAAAA1AAAALQAAAC8AAACsAAAARwAAANoAAACsAAAB\n",
       "UQAAASkAAAArAAABagAAACgAAABBAAAAEAAAAV4AAAEmAAAAUQAAAC8AAAKtAAAAdwAAACwAAAA8\n",
       "AAABvwAAAHEAAABJAAAAHQAAAVsAAABAAAABTQAAAZYAAABrAAAAQwAAASMAAAA5AAAB/AAAAFwA\n",
       "AAA+AAAARgAAAjQAAAB6AAAAOQAAAEcAAAHCAAAAgwAAACMAAABPAAABOgAAAF4AAAAoAAABDgAA\n",
       "ATsAAAAmAAAA/wAAAOgAAAF4AAAAkwAAAVkAAACNAAAAHgAAAIwAAADwAAAApAAAAFgAAAAbAAAA\n",
       "SgAAAFkAAAAbAAAAGgAAABRzdGNvAAAAAAAAAAEAAAAsAAAAYnVkdGEAAABabWV0YQAAAAAAAAAh\n",
       "aGRscgAAAAAAAAAAbWRpcmFwcGwAAAAAAAAAAAAAAAAtaWxzdAAAACWpdG9vAAAAHWRhdGEAAAAB\n",
       "AAAAAExhdmY1Ny41Ni4xMDA=\n",
       "\">\n",
       "  Your browser does not support the video tag.\n",
       "</video>"
      ],
      "text/plain": [
       "<IPython.core.display.HTML object>"
      ]
     },
     "execution_count": 86,
     "metadata": {},
     "output_type": "execute_result"
    }
   ],
   "source": [
    "HTML(ani.to_html5_video())"
   ]
  },
  {
   "cell_type": "markdown",
   "metadata": {
    "slideshow": {
     "slide_type": "subslide"
    }
   },
   "source": [
    "### Version itérative"
   ]
  },
  {
   "cell_type": "code",
   "execution_count": 21,
   "metadata": {
    "collapsed": true
   },
   "outputs": [],
   "source": [
    "# A vous"
   ]
  },
  {
   "cell_type": "code",
   "execution_count": 87,
   "metadata": {
    "collapsed": true,
    "slideshow": {
     "slide_type": "subslide"
    }
   },
   "outputs": [],
   "source": [
    "def tri_selection(L):\n",
    "    n=len(L)\n",
    "    for i in range(n-1):\n",
    "        indice=i#désigne l'indice du minimum de la sous liste non triée\n",
    "        for j in range(i+1,n):\n",
    "            if L[j]<L[indice]:\n",
    "                indice=j\n",
    "        if indice!=i:\n",
    "            L[i],L[indice]=L[indice],L[i]"
   ]
  },
  {
   "cell_type": "markdown",
   "metadata": {},
   "source": [
    "* Inutile de modifier les éléments de $\\verb\"L\"$ dans la boucle interne    \n",
    "$\\rightarrow$ il suffit de mémoriser l'indice du minimum <i>droit</i>    \n",
    "$\\rightarrow$ on fait l'échange avec le <i>pivot</i> en fin de boucle"
   ]
  },
  {
   "cell_type": "code",
   "execution_count": 88,
   "metadata": {
    "collapsed": true,
    "slideshow": {
     "slide_type": "subslide"
    }
   },
   "outputs": [],
   "source": [
    "#Test\n",
    "import numpy.random as rd\n",
    "import numpy as np\n",
    "#rd.randint(0,11)\n",
    "def liste_alea(n,max):\n",
    "    return [rd.randint(0,max) for i in range(n)]"
   ]
  },
  {
   "cell_type": "code",
   "execution_count": 89,
   "metadata": {
    "slideshow": {
     "slide_type": "fragment"
    }
   },
   "outputs": [
    {
     "data": {
      "text/plain": [
       "(array([50, 20, 14, 22, 65, 37, 62,  6, 99, 21, 84, 91, 70, 31, 30, 53, 83,\n",
       "        44, 65, 46]),\n",
       " array([ 6, 14, 20, 21, 22, 30, 31, 37, 44, 46, 50, 53, 62, 65, 65, 70, 83,\n",
       "        84, 91, 99]))"
      ]
     },
     "execution_count": 89,
     "metadata": {},
     "output_type": "execute_result"
    }
   ],
   "source": [
    "L=liste_alea(20,101)\n",
    "M=[L[i] for i in range(20)]\n",
    "tri_selection(L)\n",
    "np.array(M),np.array(L)\n",
    "#rd.randint(0,101,12)"
   ]
  },
  {
   "cell_type": "markdown",
   "metadata": {
    "slideshow": {
     "slide_type": "subslide"
    }
   },
   "source": [
    "### Version modulaire"
   ]
  },
  {
   "cell_type": "code",
   "execution_count": 21,
   "metadata": {
    "collapsed": true,
    "slideshow": {
     "slide_type": "fragment"
    }
   },
   "outputs": [],
   "source": [
    "def pos_minimum(L,j):\n",
    "    \"\"\"donne le minimum de la liste\n",
    "    à partir de l'indice j>=0.\n",
    "    Nécessaire pour trier en place\"\"\"\n",
    "    pos=j\n",
    "    for i in range(j+1,len(L)):\n",
    "        if L[i]<L[pos]:\n",
    "            pos=i\n",
    "    return pos"
   ]
  },
  {
   "cell_type": "code",
   "execution_count": 22,
   "metadata": {
    "collapsed": true,
    "slideshow": {
     "slide_type": "fragment"
    }
   },
   "outputs": [],
   "source": [
    "def tri_selection_mod(L):\n",
    "    n=len(L)\n",
    "    for j in range(n-1):\n",
    "        pos=minimum(L,j)\n",
    "        if pos!=j:\n",
    "            L[pos],L[j]=L[j],L[pos]"
   ]
  },
  {
   "cell_type": "markdown",
   "metadata": {
    "slideshow": {
     "slide_type": "subslide"
    }
   },
   "source": [
    "### Version récursive"
   ]
  },
  {
   "cell_type": "code",
   "execution_count": null,
   "metadata": {
    "collapsed": true
   },
   "outputs": [],
   "source": [
    "def tri_selectionrec(L):\n",
    "    if len(L)<=1:\n",
    "        return L\n",
    "    else:\n",
    "        mini=min(L)\n",
    "        indice=L.index(mini)\n",
    "        if indice!=0:\n",
    "            L[0],L[indice]=L[indice],L[0]\n",
    "        return [L[0]]+tri_selectionrec(L[1:])"
   ]
  },
  {
   "cell_type": "code",
   "execution_count": 23,
   "metadata": {
    "collapsed": true,
    "slideshow": {
     "slide_type": "subslide"
    }
   },
   "outputs": [],
   "source": [
    "def selection_rec(L,g):\n",
    "    if len(L)>1:\n",
    "        pos=g\n",
    "        for i in range(g+1,len(L)):\n",
    "            if L[i]<L[pos]:\n",
    "                pos=i\n",
    "        if pos!=g:\n",
    "            L[pos],L[g]=L[g],L[pos]\n",
    "        return selection_rec(L,g+1)\n",
    "def tri_sel_rec(L):\n",
    "    return tri_sel_rec(L,0)\n",
    "    "
   ]
  },
  {
   "cell_type": "markdown",
   "metadata": {
    "slideshow": {
     "slide_type": "subslide"
    }
   },
   "source": [
    "### Stabilité\n",
    "\n",
    "Sauf à prendre des précautions supplémentaires (recherche de la  première ocurrence d'un élément), ce tri n'est pas stable"
   ]
  },
  {
   "cell_type": "markdown",
   "metadata": {
    "slideshow": {
     "slide_type": "fragment"
    }
   },
   "source": [
    "### Terminaison\n",
    "Sans problème : 2 boucles $\\verb\"for\"$ imbriquées"
   ]
  },
  {
   "cell_type": "markdown",
   "metadata": {
    "slideshow": {
     "slide_type": "subslide"
    }
   },
   "source": [
    "### Correction\n",
    "* Invariant de boucle : $\\verb\"L[0,p]\"$ définitivement triée à l'issue de la $p^{\\text{ième}}$ itération :\n",
    "    * Après la première itération $\\verb\"L[0,1]\"$ ne contient qu'un élément et est triée.\n",
    "    * Supposons qu'après la $p^{\\text{ième}}$ itération, $\\verb\"L[0,p]\"$ est triée.    \n",
    "    Nécessairement, les éléments de $\\verb\"L[p:]\"$ sont tous supérieurs à $\\verb\"L[p-1]\"$.    \n",
    "    La boucle interne effectue une recherche du minimum de $\\verb\"L[p:]\"$.    \n",
    "    En sortie de boucle, ce minimum est placé dans $\\verb\"L[p]\"$."
   ]
  },
  {
   "cell_type": "markdown",
   "metadata": {
    "slideshow": {
     "slide_type": "subslide"
    }
   },
   "source": [
    "Ainsi :\n",
    "   * $\\forall i \\in [\\! | 0,p-1|\\! ]$, $\\verb\"L[i]<=L[p]\"$ et par hypothèse, la liste $\\verb\"L[0,p+1]\"$ est triée.\n",
    "   * $\\forall i \\in [\\! | p+1,n-1|\\! ]$, $\\verb\"L[p]<=L[i]\"$ : aucun élément de $\\verb\"L[p+1:]\"$ n'a sa place dans $\\verb\"L[0,p+1]\"$ : cette sous liste est définitivement triée.\n",
    "   \n",
    "D'où la correction par récurrence finie, vu qu'en sortie, il ne reste plus d'élément à placer"
   ]
  },
  {
   "cell_type": "markdown",
   "metadata": {
    "slideshow": {
     "slide_type": "subslide"
    }
   },
   "source": [
    "### Complexité\n",
    "* $i^{\\text{ème}}$ itération (boucle externe) :\n",
    "    * $n-1-(i+1)+1=n-i-1$ itération de la boucle interne.    \n",
    "    $\\rightarrow$ 1 comparaison à chaque fois    \n",
    "    $\\rightarrow$ $n-i-1$ comparaisons au total \n",
    "    * 2 affectations en fin de boucle interne\n",
    "* Total :\n",
    "    * $\\sum\\limits_{i=0}^{n-2}n-1-i=\\frac{n(n-1)}{2}$ comparaisons\n",
    "    * $2(n-1)$ affectations (pire des cas)"
   ]
  },
  {
   "cell_type": "markdown",
   "metadata": {
    "slideshow": {
     "slide_type": "subslide"
    }
   },
   "source": [
    "### Bilan :\n",
    "* $C(n)=O(n^2)$    \n",
    "$\\rightarrow$ juste acceptable\n",
    "* Pire des cas : $\\verb\"[2,3,...,n-1,n,1]\"$    \n",
    "$\\rightarrow$ $2(n-1)$ affectations"
   ]
  },
  {
   "cell_type": "markdown",
   "metadata": {
    "slideshow": {
     "slide_type": "slide"
    }
   },
   "source": [
    "## TRI INSERTION (insertion sort)"
   ]
  },
  {
   "cell_type": "markdown",
   "metadata": {
    "slideshow": {
     "slide_type": "subslide"
    }
   },
   "source": [
    "* Tri en place par parcours de liste (g$\\rightarrow$d)\n",
    "* <b>Principe (d'insertion):</b>\n",
    "    * Avant la $k^{\\text{ième}}$ étape, $\\verb\"L[0,k-1]\"$ est supposée triée\n",
    "    * On insère le $k^{\\text{ième}}$ élément $x$ de $\\verb\"L\"$ à gauche :\n",
    "        * Tant que l'élément à gauche de $x$ lui est supérieur    \n",
    "        $\\rightarrow$ On échange les deux\n",
    "* Variante : \n",
    "    * On mémorise $x$\n",
    "    * On se contente de décaler les éléments du tableau gauche supérieurs à $x$.\n",
    "    * On insère $x$ à la place vide en fin de course"
   ]
  },
  {
   "cell_type": "code",
   "execution_count": 23,
   "metadata": {
    "slideshow": {
     "slide_type": "subslide"
    }
   },
   "outputs": [
    {
     "data": {
      "text/html": [
       "\n",
       "        <iframe\n",
       "            width=\"670\"\n",
       "            height=\"200\"\n",
       "            src=\"./figtriinsertion.jpg\"\n",
       "            frameborder=\"0\"\n",
       "            allowfullscreen\n",
       "        ></iframe>\n",
       "        "
      ],
      "text/plain": [
       "<IPython.lib.display.IFrame at 0x119c42410>"
      ]
     },
     "execution_count": 23,
     "metadata": {},
     "output_type": "execute_result"
    }
   ],
   "source": [
    "IFrame(\"./figtriinsertion.jpg\", width=670, height=200)"
   ]
  },
  {
   "cell_type": "markdown",
   "metadata": {
    "slideshow": {
     "slide_type": "subslide"
    }
   },
   "source": [
    "Voici l'insertion d'un élément (le quatrième) :\n",
    "\n",
    "$\\quad \n",
    "\\begin{array}{|c|c|c|c|c|}\n",
    "\\hline\n",
    "1&3&7&2&...\\\\\n",
    "\\hline\n",
    "\\end{array} $\n"
   ]
  },
  {
   "cell_type": "markdown",
   "metadata": {
    "slideshow": {
     "slide_type": "fragment"
    }
   },
   "source": [
    "$\\rightarrow \\begin{array}{|c|c|c|c|c|}\n",
    "\\hline\n",
    "1&3&7&\\color{white}{2}&...\\\\\n",
    "\\hline\n",
    "\\end{array} \\quad x=2$"
   ]
  },
  {
   "cell_type": "markdown",
   "metadata": {
    "slideshow": {
     "slide_type": "fragment"
    }
   },
   "source": [
    "$\\rightarrow \\begin{array}{|c|c|c|c|c|}\n",
    "\\hline\n",
    "1&3&\\color{white}{2}&7&...\\\\\n",
    "\\hline\n",
    "\\end{array} \\quad x<7$"
   ]
  },
  {
   "cell_type": "markdown",
   "metadata": {
    "slideshow": {
     "slide_type": "fragment"
    }
   },
   "source": [
    "$\\rightarrow \\begin{array}{|c|c|c|c|c|}\n",
    "\\hline\n",
    "1&\\color{white}{2}&3&7&...\\\\\n",
    "\\hline\n",
    "\\end{array}  \\quad x<3$"
   ]
  },
  {
   "cell_type": "markdown",
   "metadata": {
    "slideshow": {
     "slide_type": "fragment"
    }
   },
   "source": [
    "$\\rightarrow \\begin{array}{|c|c|c|c|c|}\n",
    "\\hline\n",
    "1&2&3&7&...\\\\\n",
    "\\hline\n",
    "\\end{array} \\quad x\\geq 1$"
   ]
  },
  {
   "cell_type": "markdown",
   "metadata": {
    "slideshow": {
     "slide_type": "subslide"
    }
   },
   "source": [
    "Voici les grandes étapes d'un tri par insertion :\n",
    "\n",
    "   $\\quad \n",
    "\\begin{array}{|c|c|c|c|}\n",
    "\\hline\n",
    "7&1&3&2\\\\\n",
    "\\hline\n",
    "\\end{array}\n",
    "$"
   ]
  },
  {
   "cell_type": "markdown",
   "metadata": {
    "slideshow": {
     "slide_type": "fragment"
    }
   },
   "source": [
    "$\\rightarrow \\begin{array}{|c|c|c|c|}\n",
    "\\hline\n",
    "1&7&3&2\\\\\n",
    "\\hline\n",
    "\\end{array}$"
   ]
  },
  {
   "cell_type": "markdown",
   "metadata": {
    "slideshow": {
     "slide_type": "fragment"
    }
   },
   "source": [
    "$\\rightarrow \\begin{array}{|c|c|c|c|}\n",
    "\\hline\n",
    "1&3&7&2\\\\\n",
    "\\hline\n",
    "\\end{array}$"
   ]
  },
  {
   "cell_type": "markdown",
   "metadata": {
    "slideshow": {
     "slide_type": "fragment"
    }
   },
   "source": [
    "$\\rightarrow \\begin{array}{|c|c|c|c|}\n",
    "\\hline\n",
    "1&2&3&7\\\\\n",
    "\\hline\n",
    "\\end{array}$"
   ]
  },
  {
   "cell_type": "code",
   "execution_count": 24,
   "metadata": {
    "collapsed": true,
    "slideshow": {
     "slide_type": "skip"
    }
   },
   "outputs": [],
   "source": [
    "n=100\n",
    "r=1000\n",
    "lx=range(n)\n",
    "lval = [random.randrange(1,r) for i in range(n)]\n",
    "\n",
    "lxi=list(range(n))\n",
    "lvali=[lval[k] for k in range(len(lval))]\n",
    "def initie():  #fait ce qu'il faut \n",
    "    global fig, ax, scat , lxi, lvali    \n",
    "    fig, ax=plt.subplots(1,1)\n",
    "    scat=ax.scatter(lxi,lvali)\n",
    "\n",
    "\n",
    "\n",
    "def change(u,fig,scat):\n",
    "    i,j=lframes[u]#unpacking\n",
    "    LL=scat.get_offsets()\n",
    "    LL[j][1],LL[i][1]=LL[i][1],LL[j][1]\n",
    "    scat.set_offsets(LL)\n",
    "\n",
    "\n",
    "#Pour compter le nombre de frames, on lance une première fois le tri sur lx et lval\n",
    "#On reprendra les mêmes pour l'affichage en conservant ue copie\n",
    "#On ajoute la variable globale lframes qui fabrique la liste des indices (i,j)\n",
    "lframes=[]\n",
    "Lpart=[lval[k] for k in range(len(lval))]\n",
    "for i in range(1,n):\n",
    "    x=Lpart[i]\n",
    "    j=i-1\n",
    "    while (j>-1) and (Lpart[j]>x):\n",
    "        Lpart[j+1]=Lpart[j]\n",
    "        lframes.append((j+1,j))\n",
    "        j=j-1\n",
    "    Lpart[j+1]=x"
   ]
  },
  {
   "cell_type": "code",
   "execution_count": 25,
   "metadata": {
    "collapsed": true,
    "slideshow": {
     "slide_type": "skip"
    }
   },
   "outputs": [],
   "source": [
    "plt.close()\n",
    "initie() \n",
    "ani=anim.FuncAnimation(fig,change,fargs=(fig,scat),frames=range(len(lframes)),interval=10)"
   ]
  },
  {
   "cell_type": "code",
   "execution_count": 26,
   "metadata": {
    "slideshow": {
     "slide_type": "subslide"
    }
   },
   "outputs": [
    {
     "data": {
      "text/html": [
       "<video width=\"432\" height=\"288\" controls autoplay loop>\n",
       "  <source type=\"video/mp4\" src=\"data:video/mp4;base64,AAAAHGZ0eXBNNFYgAAACAGlzb21pc28yYXZjMQAAAAhmcmVlAAL0em1kYXQAAAKgBgX//5zcRem9\n",
       "5tlIt5Ys2CDZI+7veDI2NCAtIGNvcmUgMTQ4IC0gSC4yNjQvTVBFRy00IEFWQyBjb2RlYyAtIENv\n",
       "cHlsZWZ0IDIwMDMtMjAxNiAtIGh0dHA6Ly93d3cudmlkZW9sYW4ub3JnL3gyNjQuaHRtbCAtIG9w\n",
       "dGlvbnM6IGNhYmFjPTEgcmVmPTMgZGVibG9jaz0xOjA6MCBhbmFseXNlPTB4MzoweDExMyBtZT1o\n",
       "ZXggc3VibWU9NyBwc3k9MSBwc3lfcmQ9MS4wMDowLjAwIG1peGVkX3JlZj0xIG1lX3JhbmdlPTE2\n",
       "IGNocm9tYV9tZT0xIHRyZWxsaXM9MSA4eDhkY3Q9MSBjcW09MCBkZWFkem9uZT0yMSwxMSBmYXN0\n",
       "X3Bza2lwPTEgY2hyb21hX3FwX29mZnNldD0tMiB0aHJlYWRzPTYgbG9va2FoZWFkX3RocmVhZHM9\n",
       "MSBzbGljZWRfdGhyZWFkcz0wIG5yPTAgZGVjaW1hdGU9MSBpbnRlcmxhY2VkPTAgYmx1cmF5X2Nv\n",
       "bXBhdD0wIGNvbnN0cmFpbmVkX2ludHJhPTAgYmZyYW1lcz0zIGJfcHlyYW1pZD0yIGJfYWRhcHQ9\n",
       "MSBiX2JpYXM9MCBkaXJlY3Q9MSB3ZWlnaHRiPTEgb3Blbl9nb3A9MCB3ZWlnaHRwPTIga2V5aW50\n",
       "PTI1MCBrZXlpbnRfbWluPTI1IHNjZW5lY3V0PTQwIGludHJhX3JlZnJlc2g9MCByY19sb29rYWhl\n",
       "YWQ9NDAgcmM9Y3JmIG1idHJlZT0xIGNyZj0yMy4wIHFjb21wPTAuNjAgcXBtaW49MCBxcG1heD02\n",
       "OSBxcHN0ZXA9NCBpcF9yYXRpbz0xLjQwIGFxPTE6MS4wMACAAAAdqmWIhAAj//71J/gU1BL8S+Fr\n",
       "Ye3Ut0kw0XCxLbPQAAADAAHmGbo1sB6TZjgAAHoTT+oVm/4AGz2N/xroFBolxJjp6bssHf+qOL05\n",
       "zCTarYtPGugxZ2AuGKqHt4/UnHgCbJSyNBzU0dudNoLIMB0qyhFPSWqd+M359pwYYzBGAtTbUYGj\n",
       "iF7wdKA883OmfJuIYEqJVgndKGeEeqx1fT0xnDdj+0ROoBun8cQwvKJh6BI2lOWJB+WUq/Dnkf7T\n",
       "p9i/z0nQcOycJzCGyEa7AJIvGqDMYCMRlRrD4weVRVG66j5gLXN3mdC+nq3rjpAOmT8Yd/ycI31H\n",
       "Hw+xeh7UEtuomJzFij1sc0TkEF6Wy5gqlz8GyLM3UbeRCiK8LTpiBti8+cF0zU99gqEd7wD7TgwS\n",
       "hArr3IDbM8NxEvB15ds1l2mX2/C0+ttbFO9l388biwmZp2xZB9LmiiuE7YEYYLnXo8qwImwZGxkw\n",
       "9XFUnYHsKBaeRWiWHryEBbInnBWQ+3qNhFPo38OZyE1YWXOkLBuKpYbNaTEJhz+dZUExK+XcfLNW\n",
       "/zyYsK7pZtXVYCycOjpMj11flEWylKSdb1IYfpHlJSe7RyvlO1XV+g5o/BDbQei78kSeo+NE+F+L\n",
       "MPJBfSb4OiSLEyo6uTqRSvleavWZsNN3euZC5W+A6FaxUSppx97Sv0AyLR56f+N7YceuWiisL0GO\n",
       "EdqYee9B8SiLAwH5+yMYznFxmaonDu9Ud+AOJXJfCyrEimEmBCPuUAl4zTHC8s7oL8BsWgo+/uYe\n",
       "s7qft+dX1cx7uI+ka1gnI/mP2OdVMkh1L4/HX8wD1kdxmFOjZTjb4R+GOrsMC15N2zDhJdPYpHZE\n",
       "aig9I0KsS+9c+Xs+LJ33jrRaa+HQaTN9UXX5ryUUE6Vn7QHPmhrPAAa9gkM0eePt7UhWMSmr3ZHB\n",
       "ROONL/MtovnBHUkg8vsOVZpbH7jmvMAx/zJhe7eTJO/tNctq4ENy/GXQHYn8IjkvZVl8sReVlIXZ\n",
       "Po2qUmVP9lATJhQJnVmFUEK0bXEqhS2qHMXl55huijisDO4j9ujexPGhBuXi9y3xEwDu6KrA1oYU\n",
       "vy1fN2j9KVFUpi5HFEXcE5HScuziWC5ziBtx9sLb1HzC7pzz/fyBTcUJY+ItsFZPrTYiwIrypGO9\n",
       "j/yzSotU2z9d1n9NLaWGGOOW+NO8CYkugmM/D9QfhG0rcQD1Q6fFdQ7Qh+WSbBZKG5Rb4G/KqwHy\n",
       "O4pEPraKVhLWZpijHdX0XqpcmQ8A4n6tvk2RFQ454J0I22Om/m3+E+JFACsjKwF2RR7b9Q1dTM+l\n",
       "S25Y5+JZBtYF//SK4+7oEDrBXFdRMHVLwObFBkLUsbrJe47vD9OFkJ2h+TDrz0pFHNDX2QSab7wn\n",
       "q2v4B0LHGeOf/HQ4AtDe8sN0Fz5CpQenu86uDZOFcxPOaRwEDh+cPxvHJthGibWmerYQ6XHj1icB\n",
       "m/Ya4/Y2uZHoMYwX7pF3nwhfLiD463BcosBkvpLso4tgSifBCcsGJ+yQ3f+z4P4cJRi0Dmk3O9UH\n",
       "ZJ45Vs8OzSrve/YP3keij6URrzQSpBsyJjDamAcLaEO9oKrEUVUEo2tB/vz+GjtUDVjmXPtM+voy\n",
       "Q6eYl/VsbSAGD9qezvRJ+hFsWbT1oVEh/1IyeD2Jh14+EyIXNjCSsADRRBImZd7P4w9VTltwdgx2\n",
       "2Tje8DmyT0DNq2D1L8cEW2mZtYZmGRrWZKGlgeQBdzkd3z8fbzb/kkafrcOMBSiFpT83+y91b0/G\n",
       "yR7vBkE4ilkkffbHgiQ/QMlkOupZA9turnQZiw4BtX3bjZMz26RtyhCd1MWVEUyeo3RFGEIekrmL\n",
       "h/YFAUReZPUN3iYb5fPw0X5oaBl4o4CF690R7eOvIUMrACLVp5CRUl9MVzRvfXfxC+iWULUOVUp0\n",
       "0m/+zPpBuxnUXnByTGu5F6lEFEk2KVRCFwVvVS98xJn3qC73VQMf7lzYKwI3aUBfYTfLA6ad3sMN\n",
       "/JLp/DZdRbsGbOZ62bNM37dIZmruo6y24PRYBIS5ZaiLkSF3aWAwdmBEqX5JD9HfO8we1BS3eaLy\n",
       "/fcQ4mwsVIrQM8P4VbzAg5PPHpeJDHQyHWaXvjEbH3omZls1CRVgTrQttujsXcmt/0j5T2hGRgLW\n",
       "Vw0/L6W1paEKNSFtLKz5ouBefLf88fVnoZ2ygym2/RF+4mefR1Zj+S7EnWrsV8dR9f6dzcPSa09I\n",
       "oL599mG5YanuGyu34peSvjJBPFOD2gqHqHsSgTDSBNABxn4ykWyGZZ1OVPYnstUIBbLxEntPggNJ\n",
       "FtVXMR4RW71aIJQv3oCcfJ0tLsOB1zZbtK1bjo4UDE7FXnulZcmiPn0MhwA0ll87xhyTU8gtO1FD\n",
       "FMhwh3Po1KIfWjQP8L0nC6KpkapbVmmr2EuoEKKVHum2tmUamr01qah4ZZHHURyRrQetbQL6vJTC\n",
       "qsJd4J+I40UWtsPSSnuUP4jChTwY05XYhDFt5aUKo8vbYaBcwdhzdOvl6Ahl2Oqo6+iT470zByM2\n",
       "pr1RrhgHbhHAz5p+Fe04iFP7QrF88NTgmNogqCBaokA0NIXoO1Ckoxmqvm7dGxstVGOoVMBzd3Ah\n",
       "q7G9txSlzQYWV0OTMMevZVDZmvgDUfpV252ug7uSOxCwKy+7z0wctczeYwocXq0sbsELa6241lhS\n",
       "Vz3IjLC0zrL+rn7A2Pwen9lvHpjBnTgqodXfZwjQp1+4h+Xm5YCPP+lGTCB4YnOrLF9oBt3FUlm9\n",
       "2ZlFpALRgWb3o6OiELJeM8/uisSOTd06wpg38syvIKwpoHaQLquAAJyF4EiG1dkCui5JgBTB3KgU\n",
       "W7zjeprJ9/PqlFylvZkv8SHASaN1CZ9vLDgqgW2YFIQcEOsFh5vLbiNycTV9J9lmRsNmuZFIawnX\n",
       "i5toP2SJTSHk39xCu1SOUKTUIy0AaBEx6zN5n/K3RqE6ULT4p5Cyp2ecT+ICdXSajGVawbDxSZco\n",
       "yGa88PSYtyqGrq6QNeauLMxGK0thb2bbUj6zUVUCZ36AP98kQRw5/67ZsnYB7lXc0wluyqk69KWX\n",
       "vJ1kbCfPSn0JZyNviU7+4Y1RSOTl7fU9DOIA3F+XEB06XMnPq00lTcusTEJaOalZcD7gbg1z73u2\n",
       "tya6+K1YRvrk7OQy6c8ZYp2rJwju6qykyHTbr7+K0SoSnlFR/UfPQb+H/cRNviPBAviLMjUCVpQc\n",
       "3/eOdHWqu9zqQImhwEeS2yyrOVoQg3vK5Ypwy2DMsDuH4Z18yMX6DPZrSf4bZmNPakGCSCUw1yRi\n",
       "GKXkUHJ/6/zuaN8KMy8JwaTeJ3H/m8rN7H+NAR4o0fOzP60ybluR9hOvbK6HJVqJL44acNU+UgKn\n",
       "cBfhv5IgzJykAAO1UpkV/NAndL5oUnu3X3wL5wKVQJ5g62Bemtz/nkASF7hS5/mKtxc7CEKwptVw\n",
       "nfonpnJsK45cL8sxxmurvZ50DXU2nYvuE+oPrhH7cBvxZQknZtDHlpyuygkwTi4CXoDXF7Y4uYTx\n",
       "n36In/j1bomGx0TlIOkrw8EePIX5hm1c4X3Sw6rTMZTy6hmo+85I79sO7edca5ZSI9HTqTEeZ5TM\n",
       "MUgDsG3Wq4e+hDSauJOgneKkXw6HTBtzyIZ+BXxvDAh8eRgwAb8nNOzPe5w67R0iw5Rnqgs7+kfQ\n",
       "HuajSPmHkXxDrIzi969kiMPlen0Y5bPWMA5vT/6/8nZB2eyvrc2sg4Rs9ZbmanMFJhDlhUr6ECiM\n",
       "GlK4qYNSLihjE9U6lbacm1MGBsfR3LFF/ZOh4nQJSANYayzyVcQiXRSPTgcPxsloclMM0+807BS8\n",
       "VHT7Vdq5Uv7MuoXKxT0hFD4Od+9egVe/PBvHDUfxSDNTZrwT534Dm44Ys8/5qRD1Gm1zovDsboOC\n",
       "5GURQPx5MwNfY1+VehCfIg3FQF6QG/GEiCXcSW0/5wYuGW9fePPr+UysQSNdyDRyTV632Ro9/J08\n",
       "a8HnWaaWi8V2SLco/mctKcMhD1SWACF5kimpilPky9syeDQ34A5by60awZP4S5OvS60idsa5VW7m\n",
       "fYa+BS7WNnNgoYF08ufnvzLdOqmlF8WvV4vtdFsxny7MRg5+FCTGXo/kzBRg/SfBWvGtVnb3lOBK\n",
       "AkAe5PFqQHb7ARMtREQcnlUtvmAiULXfubPUOj/MXgGJHs5aBMLplkM8PpfFIZm0W/3FTG+V7n9v\n",
       "sczUtCET4h7tj8bN8/pUvuf2iSk9IKqyUuk20afqJMCRJjcGusNwL49QWNRfqKjEN4Hgru9KFeTf\n",
       "T2UBKdFfDczMCqnmBYsqHb5MmPZN3h6eeTRXru+7ESNY926A1pGKuqhvImtlzF4d4hy9D/4u6krp\n",
       "Bm+DsA01ZlmiDBostHCFW15mBFr0sHuydr3Shh3PmqiivtWFh0ICm7c/ji/42iXcDtwdQ1IRt9MH\n",
       "6xS49GAn7IuDQ7djetSOvQRWgpsRRGwPBu6Qol0Q68ufhhXUoP13J8fT3BxG1V/zB4kFhaVFiiEN\n",
       "0AmGnHPzOwsKqbCgX8kGv2Ih0lrTNtvHrz5vrypGxuuCT33ymWCXvnPVw4wle+xv1BvmHovi36yy\n",
       "35xu1PGlTYageR4knlb5HOp5ueJdRgwKe9ASXsT7h/vSwprs7kBWiGAscbDxKU7lIrsAet+ksacn\n",
       "J/LrWsPXdPujFPCDmXL7sa6Jybc8XbD5+Pz1ojYrUGXle1B2E8YhNAgKTK2f5UZpI9TyIRsNL15/\n",
       "8AAwJlE65jE41RgPanaMZmjIohTPDKKQDjVUeBGlLwhLFZG0R1hREmUwN60oVAOGP/gc2gV+dh4a\n",
       "rV7Jyg1IfKRL26lS+QVJAqipZJrBRWxa7BBVke4e173DVNFxvXKevRRCkN32eNFVEatEzFf9j41h\n",
       "WB9bAHlyntWYMZP6WiD8VcWRQYB9WlhJnwwCzhJUOGJZ8CKNUWwbujgfwM/5s9IF2udwt1AnBqqy\n",
       "cqvLY460GL2SvJc6qZ0x6hWN2qrPGvxAy+3U2KFHowLTLP564lBy13fdG03la0NeTth3nOlnp+TO\n",
       "J2WNS3kFnXmqqBDJWh61SWpfiUmvwXKlB2zhyPhRBwZVY9RR9hQTWhf7MoPsOSjmVQDDBzSGq0/E\n",
       "F/z4Xx157BJAqk8zQW5ljb9yAtV4j+Sg7bUWO6DznnrYzy42yw+EATcq2c2x401cubqk+QHZfoOi\n",
       "Vpx8LjsA719KunYJmiY3BlFQkJZTKMFrMIsFS+ignweB9K0+y8sRg50jvsiDtyW3+uB3Hyoeg1Vh\n",
       "TX/gllForEwI58I545FNkqebWdI8gqp5Lq/K6CNQkuRNN8Fa3Iv12rLq34okyNCp895/4GF/bk9M\n",
       "O0jLC53ExAZQjHO+j4AjHEtreAb5e2ySr/31VbD23w5vT9OgIIR3YX0v9euq4u4pK6P/DqQxhWKB\n",
       "qA5h68TWB7e54eWWKCM61fqRYSAdYmf1TRkxQc0ACojj4ca1b4QVTWf7vcKT1koxEWnGVNgQXc0s\n",
       "8fiUYhd7V7awrmX7p/1b6sj53+jzCB5YMt6GAiK/XvXFPAfHFE4ETUaBCQbhH7dFbam6CMWSWBxa\n",
       "AtWpCdI4iTj9ZlWCDvQZDMyU9pKsv+MLaLrlW1A6Bk3NMl7vddFRdqxvmVZCIjwc6RrF3gtEurZ8\n",
       "DQ286r+dAISB2S3yRmu0miR1zlaRJ5SF/QBWqpS5jjr0wRaUL2mL66yh+uCC22MUiTbVwJCsvWWQ\n",
       "7gHZb1MUCAyKh+Nru3/33a3B65RLIox6s2Wx3ApR+vo0YIjTEYaXTzFdLv9sJfQTgaiHaEEdIoRJ\n",
       "wkOZVqQNUpRTlWbkzhi7kHegCgAwnYddbUAtFVhzcC+0ymZ/Jldw8Tx5VqWcS0fam7Cc+EFVOHrR\n",
       "ezVc6ybF7Lv9sJYzF/GRgDXw6U0TCb1E4w8EAxAQxqP5p8Rh6XmA3o7Qjnii49+ALulr885ry1Uw\n",
       "JV1deu4Wt97Z0IE+bL7QVoGfCFmTmhTA2DTqHxN6KE0D6nJPEtyNdWjvZ/k8ZXHZsbKK8fWIYHFj\n",
       "NpuAdxvftBG5c0RUeECWB8nNIvm8nREzjx3FlOGNY9Z+DZFX4Z3OC3PmC4Ll9KCWzKOK6giKHSNL\n",
       "vCjKTsnnkwsm2GxnQp7ADaU6+VEwRMQQ01rF7OcdnGEtOhZJDGAaA7o4AESJhA2kPeWdSGvJtwuG\n",
       "sEj9X8u8c0v1+iJZWKjkg0G2xmgrEky8hYyjA+4qOU3oASSYab6h9xWUkvFbsVg+G4LirIOie+4b\n",
       "1+Ft3Gv0ewW4/6H0GYxxhMk6UrDbSmlapwQ+8ol8/C+UylEnKZY3nME3/Jg0Im/t1f+GV0Tp5mwX\n",
       "x0nHr1W5gHjgqE4V5JuSH/je21H51jaRIQS7Bxq7TNkWilwMG6kKXCDRXwxngpTJkKO8G/56maY3\n",
       "lKIYGjcLwJBOezXumuIAmj1IwlP4tOhV743JFEBdeRcElu2ObGdkaKtwWsVWKGm5MDh6kIjw/bbg\n",
       "HwbpGYq/HnxDfcvoTJ1A0ULlpbRZO5W0Vc1lQTHfVSSi/Yb/EXtlSVVMcloGNB1w6Z5iAPIji6X5\n",
       "zTJXyrhFC5sRLq0PPEqCef6nH6WZ+uOrwmFlJc7eEdWsa8MdtY2JTETga51i+Q2d/cf8gMs6BJF4\n",
       "q6UX9g1U5HlKRMdLpFnV4BpSo+h8FubRIHAA5OgInLtvs0kjojg/Z1U/na3jyKoRqDrUCt4pa/xn\n",
       "jE0wmpYQXn/68udvlm1qmgtrbtNMwORxNHf5w00OS/Hv0EnL3sN88lrTvQZFitoGJ2AZeGOMj/EY\n",
       "OfhQkxl6P5MwUYQ+XlLDAKNJvEY2d4iVBmUMtxkAPskKEBJwW7YZ7Amd6nha8RZH95HypanuyneH\n",
       "3wW7WT6eiVGqjGGZX+TqvZo4EkTjnhJtz0KztYDshhkAer5q7nrM3TrHIyKDN7VWLtWMRHmOSqAI\n",
       "OXtjKk1rAfSLCfFrDStjrbCWI1xK9mALasYMENOltyqVzaV3WN1mMgQM1yerNjFPMpGl51pHrIQa\n",
       "fhhRI+W/fBe38ld/j+vFbM2J/5rmM+KxQlVI87DF6e/J6cj2vGpiLe9kV34QvdDEARtAzq2tFCj5\n",
       "eErbLIEw8loHq62qFIBxunhzfqUFIYUpR5qr+2Z0f3wcWZfhyh85Z4aUF88nCLBWP8mp4fV9n9UU\n",
       "pBtSQoS+96h6YR8aLzZTPmyCZkRh9qWG7KyeQDg7uWLIukj/60flQrdaY35vxA+98NFZM4RIjuua\n",
       "URuFy3mEnWO5iQ92e+ivYDESGU6RomTr9xga4g0AkTr6oXSMAjSVFNkHjbMZwiakUbyHkdoJDugN\n",
       "Dpezcuz8LdLw8HWvPiHv1CnBpY1QDdSqnBJX94u8kfeE3kYpd69zB/2QPKfJLWJbC/Nl3K6eLX3r\n",
       "mESp0rMfx6tzsSpiA0W8QHK3Rwjzib5xR6kbupzRizbtZFbijqrVxC3Q1ON6Lpjlqvmxz2cWPgIz\n",
       "WLMWs65x+pJJBvjTIm0Jw2C1JgAM9I0DEAEXGr1/STbqhzcBYBxojPiiSkKICv/NilzAGt1hWmyc\n",
       "wofuhVdPk3ZwihGVjiuagFSl3REWEvbDhwAJ+I0BhGEMOhCK1y0lRJFauxm6LOD9YqF2+QyA3NRb\n",
       "0AZgpuAJa1HhfBaTW/Gu9dcQIGlTXmbqG96upazDAlWWChI6UaZXm1t5Di55fNT2oH9U0F6dNDWP\n",
       "w6rvlXvTErslplM24jf60quTyYVO+5F3FU1CKmPx4vPV8qutv/IiOe7XO87u4C2GUOFudYqZ7KID\n",
       "YjYEXnHnMtibHw1371m7FPQEPoVj7Ca2i9jtI3h0VoUXm/1m+lJggVfdDfVi8c3Y8ys+T27HS8Ym\n",
       "569+UCfqUm8RWqdpX1pftv2K3KhwBaYysRaHpZAcvhPZBdUG64FpbSrMo45eSIAD62fcF8KiZl31\n",
       "pcj2b3djy8pNYsbmbBxRiDWIAdZWyOg1S5OaxMCfIBK+nqeYyxBp1zhllM1Ejc9+z4wTv8mtizQf\n",
       "U+pVCSQRK9DFI/MvDhZzKw4/Yn7GG4plOWAd8Y3ob9aZxcO+FxBl/VQrdvlgKwS08PvCJwf0Ysj6\n",
       "oe5H0kyocB6uQRBiUb+sariv57w0XeCaFOSe+8val8PnHS5C1zt/dY/0fahdfCKB/CeuQMxCeWpH\n",
       "9+O6m9+UI6LOnF8XsPvNgPy2cKhbFTTTk4nZl/xkBCgWHVFDQasIwaOUXVLqyI4dBazpCtPUWEjc\n",
       "du6b791upJv+o60O8BgkWwOemcmY3FvTPYKwSNyFL04QSkgrIJWxhvJiqnXNruHbiyLRCMAFGiBL\n",
       "BBj4AS6Eii3PU/VRTERLt8/J65oYy4L1Gh1lnW5S5Ar0515R5oY3V2nQrOX1BYQ34KdN/9EYJL1J\n",
       "xnSBb9fvMaXGA5t7XN7v5YgEf8+xQx91/JXx76jmkWmL2sgVMxXQ6UoNNIkmk4bjl6E/1Cib7vkv\n",
       "lD5c6/ZjCeNF/4LeUqi2NVcPP2dNL5SdrUUq41Wpr/A2m5uCWbZu2ZpnGyZRBwCbmLUPztQMZDVJ\n",
       "bC0ZYHseejUv0iBMVoTXRp+/jHn3RF6RmhJ3suWsCfvNeeIZ/h5qr5dX/x6Uc7OwbJBejQNhBbif\n",
       "KvmbFxBP4nN58dOY11UMdgAj4uWAy39XeezzFxn5S/zQl7f3tns9NXjMl9MmjspNJGkTb7GSBjK6\n",
       "Svm5JAzOFpk66Z+VRrdnAEImzRzNOBJCmmPuMtQnXRCPSfCDNhquIW6sYBrXAvSEwH4QOcNEfLK2\n",
       "UQJ/EuWsVa3bBk2ua9dCNH+6G/7orpyBUSmCDvQCSl7nS9O5Kw9xOKNcTpbnYYVf7GHAW997d4zr\n",
       "HNNAgPmkL9u6Bjdz9oO6qtAyRDDkUYnAicMuSXb68mfLgFH6xOKVWvNkuHZckyNVrGOB5LGeCWFL\n",
       "Sqosz7Lb5SC1fQZgtyD8zWvy69TXBnjEcX2JwkMUQVn1cfwaWP+GdinI7f+t//8Pu+fOWZzTPBZY\n",
       "82eQ0gGcTULnCGNJJJg15gfnW37HPK8nz7zr8dcT5im0wyUCNVq7qzJWcoUZ//HiKuOldt40/34w\n",
       "dJOFD2ISw3Yu6cxrDywTpRw2lhJwg13+SMGpayqFkRLjymnr+X3/zhGHoPM7uPay2zK5NlV4FyeK\n",
       "+WN+ch6HucLmBZVAo+G6UxiRrKE4Q7EyhGdPLAVnJX6+vXsVOQPvbJq9e7xb3DT0FILuBIh7F5Se\n",
       "x2DjEQXnG6Bs/nZa1dB6FuiEbxbnjYih7Ap/WN98ihzWpkJIwi85+7ZKaOaa2UIVkK7OVD4cAYwL\n",
       "yucRorjHpejGtJlbvC4HaHe3nHLGPiHRFOBSUjT/QZXscMujHgCX3Hz2A/MI3rZfFYqfS86Nuv3o\n",
       "wvT4e8oG73mC7KhES/2wOJmxUADmQH5XZA5E1eWhw1B2ZDHZEEK+5BVaSaNIP1eOrAnjtNlPdaK7\n",
       "FPJFHax06j525m5HIfdMubVKq+FBevSlzlzCFjj66KJCjQjLsklamGFnJqjsMD3qZFxpzqXKIVjR\n",
       "ybjHk77eHN59dnbAgXwNihxaVqNo1Yzjtjv8SzYEDo7rMOfxoQEigfCttgCoRfzqLW79vnqrQu/T\n",
       "+h9vPLA1RFd3BnjbQAlpatCphb8tZNh8IH555GvXQOho+ckehGplQCTdIywVSuhJYgR0nag61azT\n",
       "BtfyZKwf9O3hZaClNjkVLHZKgaoZDnn/OPDLlSDzLtgwrE6DNEE+J0smhBqcsLwHl53NRqUG5i+/\n",
       "vAgL/SaPFM4vxNItqrtL4wDlMqRfi98kfaBNiQ9gkgleDe88fMt+6bitrzcAK2NiRUCKEKoFXYsZ\n",
       "hUJG9BuuJ8ALXhVesgtN3kE+AhN2eCZRbNblLU2YXrph52LXfDOV3Wni/RWrTm9L5icyriu8LLNU\n",
       "r3wzb+xQBAUyoRX2L5Rh+zBWuQqTBhnGKCcgLDlVtisA2TtD4srwi27L6kGhk9n7qhaBHbuUMu8V\n",
       "nwnMDpIsQ0Ke8cati6xFuLQJhBMuBupZySxfGVIl4ZVtsPQjb7V5RUOsz49GU1UEn0TgI3kXgA/o\n",
       "f0C/g/QCHdSlxmeQwDwhGsP2InYrHhs1T9TtRtfH54BhJogOdauJ+TFP4wACyR+AAAAc91UAAAEy\n",
       "QZokbEI//eEFZuq6f0N/kgZhgHQDPUIhqu7xqvrlgSLYqKPFfgky6d5UPNmqCaIS+J8dSTVP9Bx4\n",
       "f0H+1n4qBL500TM0WxE5WwSQpMj2gehfJHJcfeLA2CuPWlHzYl+Izzh/3azQOTfCVdnZfYvO0lWv\n",
       "ny8uR/SUzkK2HUD8MRLSpD14rzfCKwOCUxWE2eHUj5qzCKjbxNkvoj3qrW5JBz6heRixTfCFpHHd\n",
       "wgbWZK0YrfgAyVLjNAGsAceAtcxH7cZMi3GyhcTW9mMp7BYuREnIPMhg8//i6GEqgGWgR2bCu5zK\n",
       "JXkTEqsMq41LQS3rzy+WUEgEYurwjksS5j64DAOPTsG8PU6C8i7giCSCAlj2utrtz6nvg1A8xGDv\n",
       "KwZFzsdxRGLm1I7YMEa63NIezlykAAAAVEGeQniN/wmy5gUmYFpPNEtMRymu+x/6plubCET/6PwJ\n",
       "/XhzepJxcWZLYRAbOBagGNnSIVwAcwsLeEe8ILoA/mxDS0s3YXa+ULO4ZIQpTrN8nHD6gQAAAD4B\n",
       "nmF0Rf8MFxA9FlK461Gu8No7C4+Ct6plu9fk7+tSNy48hH8V3uX1WaKzHWKtQJv5OnVu+BZ4jixh\n",
       "6YQqoAAAAEABnmNqRf8LkeKuJCh2JegVyWwphbAIqpl1/S+Vimq/35FL428MAy74//M8gAhjjOma\n",
       "K6/OYRw5j6HTsTsb3RXPAAAAcEGaZUmoQWiZTAhH//3hBIskyhy5k04UqAlGqsrn305iBrNgRns7\n",
       "aJlEANpDUSKg6n1ShBHMz0CLLNH1/0RU4OmPWzm1yeSge2nSX2hYTXG7LkNRgdUeq8EqAHB0X14H\n",
       "25GIQSGSa1ASGboYIkMA94EAAABfQZqGSeEKUmUwIT/98QBiuTq5ZEHxlgFA0f4rJOWun0nE2p3b\n",
       "6GqQskAw3EFEVgFtPnnWQYxfIM6tKNYWuwD2FQz5KpyfNxb6cbqBEZ/mVlJZuVKdDQLZxEB+glW8\n",
       "x4EAAABFQZqoSeEOiZTBTRMJ//3xAGi5OrYIvcXX/FOzCfk33AUOISfKLBKczHp4ARqO41zQGKS7\n",
       "ZXRKhURQa8glWgAJkc5ck9kFAAAALgGex2pF/wq1gBycKHYl6BXJbCr/tozBLWB6yvnxIOqK0niy\n",
       "bZGxxs5F19Ezz5gAAABHQZrMSeEPJlMCEf/94QAZEQNLABNQ1Pxp1vcs/7zZiTcls/qT9xho3N90\n",
       "dPVZ2aqU5fOIiUnBhoRO7mEVoeN3AzK/DxZsgiAAAAA1QZ7qRRE8bwiGIBTvqFaj+5Gpx41WEaMw\n",
       "bEQCmrt22ArDqdJYf5QwhhayfH7rMM8xVgm6dMkAAAAqAZ8JdEX/Cr6vEXYilhTeVCCBZoDe2jMG\n",
       "uWMlSmo2529zT4OP2ucoA1AYAAAALwGfC2pF/wq1gBycKHYl6BXJbCr/toy45S8VfJE5Bo4QvNvE\n",
       "AENCNntz7gTUrxHAAAAANUGbD0moQWiZTAhH//3hAAye/zjQwfZZigekuBvHwWmfsS/gztB3jjw9\n",
       "ItjS7AHgJOUNa6E5AAAALEGfLUURLF8KtYAcnCh2JegVyWwq/7aMuNlL4ZzxrIRe+pQgMQaLSzSd\n",
       "3sf9AAAAJQGfTmpF/wq1gBycKHYl6BXJbCr/toy42Ooe/1Bkfgsb5tM4F4EAAABFQZtQSahBbJlM\n",
       "CE///fECJabmNJuEJqyjfSotJpoOdZqto5nUZXF+DXGO/Fh4c0xZvaQ6WS8Oz13PIFPgY1Ko0zvP\n",
       "VGUYAAAAJkGbc0nhClJlMCE//fEAB5UGCpABTXQiB+TIiGIQ8STEolZt+ZMYAAAAJkGfkUU0TF8J\n",
       "6Opt3iHxrPQK5LaZnUqvCZIZ0iZ9bAw0egKQRGfBAAAAIQGfsmpF/wno6m3eIfGs9ArktpmdSqeE\n",
       "vFCWOulFeLFvmAAAAEdBm7VJqEFomUwU8J/98QAc3i0Aewgu1IVwgWIf4mRS+ebjnWby3aDCmVSP\n",
       "ksYa/rn4aXTHYZEpCKq5Du0tcgtDoA9OGagr4AAAACkBn9RqRf8J6Opt3iHxrPQK5LaZnUqvG2tF\n",
       "7+esWsQht2pGXdLNyYrgbQAAADJBm9lJ4QpSZTAhP/3xAB2LHpF343BRJCM64FkgCtQK8tVbEaGQ\n",
       "J9EK5t5kw/3fuaR33AAAAC5Bn/dFNExvB9uQOR9Z3gqy8NqYJFdStq5BpASebUMdfFlZr2IupRqT\n",
       "5SF4N03ZAAAAIgGeFnRF/wnwXPF2IpYU3lQggWuAlMzfM38vdx1GfUIgBqUAAAAjAZ4YakX/Cejq\n",
       "bd4h8az0CuS2mZ1K2z5x67ZyCaAeLi0iaT4AAABqQZodSahBaJlMCEf//eEAL3l5Ta75hKMgk3Y5\n",
       "OQwrt7uUX3177/8JfiWGHgD+PXF+1m8kWxUHQ514ZpfZZ5mOMniaY4gKEnd/9JqDepwCpNxRBsmx\n",
       "zOnW28XgKShfmua8gQleg6j/zl/K2QAAAD5BnjtFESxvB9uQOR9Z3gqy8NqYJFdStq8Q3daWlmYV\n",
       "MAJTYa9RH9ZsHdmS1mNcF9Ts8j8c04Q6vtmUU353cAAAADIBnlp0Rf8J8FzxdiKWFN5UIIFrgJTM\n",
       "4Rccj0byIATUShe1J9qx0JWgFYV1YfHeFqhZwQAAACcBnlxqRf8J6Opt3iHxrPQK5LaZnUrbpmPt\n",
       "Aa5zejqU65PW1FKAGBEAAABRQZpfSahBbJlMFEwn//3xAZzAMbyc7Pwl+MQA43lf2HNdMwp9lQ5h\n",
       "c5TfmfOgfUu/K3XtViqnLqxilKc+2Kxcr3OUGO7/sE3reko9tkle/DfMAAAAKgGefmpF/wlLMm3e\n",
       "IfGs9ArlO6qaGaMgyxz+5AB2NsDxuSktJhWDOa2DgAAAAFZBmmJJ4QpSZTAhP/3xAAeff9b5W7UA\n",
       "WcP4BnRc0gSt4CYZOnYWchZEdeHunRMvz36NOzIGpG+BMJkFUIZw8MhgeKxdQ4VFl9x61hY5w+1B\n",
       "BiyD+0FgEQAAADNBnoBFNExfCUsybd4h8az0CuU7qpm+dDmurvgeXSAC6c1tLAPjnVthnBDkGXU9\n",
       "V0EqKYgAAAA4AZ6hakX/CUsybd4h8az0CuU7qpmPd+2gATd0gROy+dLp8BDodlrbd/LA5+6xrvUd\n",
       "9YgN1iRqBD0AAABcQZqkSahBaJlMFPCf/fEAHYseYGzOowe5ABxZmdR0lEpb2TPZ0AByxn1N1vp/\n",
       "5a8gsU5fOlg81vJpN+yoZnWAtq3FmD6HX6El5jxVJYLkKTRoGq5J+PXBX5BCnjAAAAAmAZ7DakX/\n",
       "CUsybd4h8az0CuU7qprVtZGvNtCuBVlBF9RDmNkQo8EAAABMQZrISeEKUmUwIR/94QAvvJ7rGFhh\n",
       "xKss8o8ZVknQBfhhpSqwVOja6FjcuvksMTb3SrOUsd7AST1dVYMvLHXuFbmqNzmxOWDdBk8dJQAA\n",
       "ACtBnuZFNExvB11ccr9Z3gqy8Nq6Gqa1XTgSkhqTDR+JUD0twEhbhCZA83WFAAAAKgGfBXRF/wlR\n",
       "kFmZvqSYV2Ra8tFUr9hZ3s7sABCCjfXgcvyZT1ixSBEy2wAAACQBnwdqRf8JSzJt3iHxrPQK5Tuq\n",
       "mtMPeYFPkUWV0zFjhMMOyygAAAAtQZsKSahBaJlMFPCP/eEB+7qr3VdeHRLCtlVWAOg/hYfenh7e\n",
       "//a8Fnt+CJFgAAAALQGfKWpF/wi7Mm3eIfGs9AvW9S/kROG+gA2ONt7nkHhjlJJ2ss3AKOjARcS4\n",
       "gQAAAEpBmyxJ4QpSZTBSwn/98QAHZsekXXPIAF0EjwU3zJITmR33wuW2WEKvzXjr2dhWQREGEyW6\n",
       "IT+cvw2yGN/Ie3Om7tzjqNOSPcKdwAAAACIBn0tqRf8IuzJt3iHxrPQL1vUtKmxg053cQEJgtS4C\n",
       "+PYgAAAAQ0GbT0nhDomUwIT//fEAA8lj3PgF3Qm7CRhBGWxyZUI+4hwM0uyduupQEc9s/jbSao9R\n",
       "vMFLL2v5vQG+aSkwjDDRTiEAAAAtQZ9tRRU8Xwi7Mm3eIfGs9AvW9SveeKWQclyMcmgBurLK8cHR\n",
       "tJXUX+dZQ0HJAAAANgGfjmpF/wi7Mm3eIfGs9AvW9SrYxD0q0AE5I74QNz9Zf/Vib3q3bgId2XPm\n",
       "VsnFisg8FoxVQQAAAGFBm5JJqEFomUwIT//98QAc2x6RNemEAAN15XWJGe0rmb5rLes/JD2L2OU0\n",
       "UM2gg2XSGQ+nRFmXVsH5KPzOP6jIfOnTD/HzBcCznACn7zdB0EQZYkKRNRoHtPYdUbymIdbfAAAA\n",
       "JEGfsEURLF8IuzJt3iHxrPQL1vU0112NhRyJyTh1gX/L4yqvLgAAACEBn9FqRf8IuzJt3iHxrPQL\n",
       "1vU0yVoD+tgXP5eigDl1lbEAAABKQZvWSahBbJlMCEf//eEALkxKyONguBBXZ/42AHSNp1YnKwEe\n",
       "Vf+0r4vmcGJBrWKxpb4M2rlbrzcH3i4l7O/jbszWXQHoOUbsABgAAAAzQZ/0RRUsbwbrEAp31CtR\n",
       "/ckMso9Flrlsy8ibc1e3uw0AEQJsxWGDKrzhOLQA8bbe3m8wAAAANgGeE3RF/wjBkFmZvqSYV2Ro\n",
       "XqOBIbfABOyQnPxg4mycrq4Sdgoj3bH5zsiPjLhVXjQgjFmTcQAAACABnhVqRf8IuzJt3iHxrPQL\n",
       "1vU0252bVDoCH+L2J4lcQAAAAChBmhdJqEFsmUwIR//94QGV0bvdWNYJIhGxCAZIbef9OGYGnfxJ\n",
       "sNixAAAAJkGaOUnhClJlMFFSwn/98QAOzY8wNoo4TozHkFZJDzcD0JhgQxjRAAAAKQGeWGpF/wg0\n",
       "8VcSFDsS9sloHLIIMAJqSX/U/4ngYszrmAU11ZamUsKuAAAAMkGaW0nhDomUwUTCf/3xAAdmx8ZI\n",
       "A5uFWt/xxP/MR+lH8clqDLwYJ+DHBaWdjeqUuGixAAAAKAGeempF/wg08VcSFDsS9sln0RiMRPrg\n",
       "BAhc4zryRUeu82s1W1G1hXAAAAAxQZp/SeEPJlMCE//98QADz7/rLDIc+gzfLZ45+gAipdPbczVl\n",
       "r60gEa+fInL4dvL2cQAAACdBnp1FETxvBovwCnfUK1H+avHqj5Y/pjEwUYJcMonabgJr2cztqf0A\n",
       "AAAxAZ68dEX/CDpyyZm+pJhXmCU1ljW9FE2wAQEqIlJxQqpFT3kkV3lxsOkKW0kYy93rgAAAADEB\n",
       "nr5qRf8INPFXEhQ7EvbJZ43UwhABOZQH6kgACuTQFM9R6CT+UQ2V1a44BYfeRVYsAAAAMUGaokmo\n",
       "QWiZTAhP//3xAAA8lj4yQCaOFsCGhv/PtLfn5JkFHU2Lmf0WkGuxpw//7OkAAAAwQZ7ARREsXwg0\n",
       "8VcSFDsS9slnhnU1tgBNSfhgj3XWtrwEgiwYikv1QBw7DouIfBS0AAAAHgGe4WpF/wg08VcSFDsS\n",
       "9slnhnRixMGUf35ExxKddwAAAFBBmuZJqEFsmUwIR//94QBfqBXPDneoW6zTApqs6ZD62hjXdgJV\n",
       "aEID2qet7sQWUcGBAAWzjZKq5IIPdcLXTVmYSLS93f/0AkTOKzsXgYKV1wAAADVBnwRFFSxvBovw\n",
       "CnfUK1H+b6NLERpFttacLLuBY8r7F0JEkrQASyewKqNj+mYZWtsmofjLUQAAAC0BnyN0Rf8IOnLJ\n",
       "mb6kmFeYJT5q/ZAyH7yp88lXBgACD578TpZedV52A8gt7oEAAAAdAZ8lakX/CDTxVxIUOxL23dQX\n",
       "RGW1pMzpIWZnEfEAAAAwQZsoSahBbJlMFEwj//3hAUvWyIs2WmhFwTYdjfs6MBzJfxrAANyUCNBF\n",
       "rK9+VoPVAAAAIAGfR2pF/we/gA5OFDscqzsLCwrJpWQqRQ+cXt3LU3I1AAAAK0GbSknhClJlMFLC\n",
       "f/3xAA7m/6yw4ygCHlAjiVpgO8Z3X5YtectaIY3TW0AAAAAtAZ9pakX/B7+ADk4UOxyrJ/lqmlgA\n",
       "hwzzLUUsnysC/S1PY2y2OMhraB+jsFPRAAAAQkGbbEnhDomUwUTCf/3xAAdmx5NXNvAEjMnmz7CV\n",
       "zGzMjU4Rn83gNGaEV6wc9UL7nK7oR0PcBFemb6gh1m7vybzY+AAAACsBn4tqRf8Hv4AOThQ7HKsd\n",
       "lQ8cxZwAToofcDEWJ80z9fSCnbb6tQMG/RHgAAAAT0GbkEnhDyZTAhP//fEAA7NjyQH4HD2S8f4Q\n",
       "rkn6ryGs5miTEIo0w0n3HoWjS24m29lDq298duPDecn6w3wcceG+79nwCD052P5cfbVMwIEAAAAz\n",
       "QZ+uRRE8bwY0qJqPrO8G6wusq4T5aqhPiIAS5fj5SPlj7QgVBeKJhs+iP0oH3iB0RnWrAAAAOwGf\n",
       "zXRF/wfEF4i7EUsLQSXWAkPSgAhnsM/SYyup+BRA66/c3L4c8RAPT+j6+M1AKaXopVKSIWn9y8vx\n",
       "AAAAMQGfz2pF/we/gA5OFDscqxTOw6kUAJT5BtHgU9+Kkwf5opGNCo6IZeIK3eFrQQO4y4AAAABN\n",
       "QZvTSahBaJlMCE///fEAPVPr8D5cxNgL0antwJpglFpfQ5y8sOMDI6UWMNe8pP/Oljtdc4TkcPIq\n",
       "VybS4m0UGka/xLYdAOrZxx3uz2QAAAAlQZ/xRREsXwe/gA5OFDsdWUP9PFdMJ+VawXsgRjNWra65\n",
       "NoYR0QAAAB4BnhJqRf8Hv4AOThQ7HWqwQLYdGz9RZKxLmzPQyQQAAABiQZoXSahBbJlMCEf//eEC\n",
       "k5JpMpr1xCWdvc5SLXccw2ig8ALArgS8BUqb7vApJ2jiXmpbotZfHP4GOYEon2ArrlbOVZlTExrm\n",
       "9WMKkgsnHaCmpgx7zOumeIpDJTRMprGdLGAAAAAgQZ41RRUsbwY0qJqPrO8HCr1b9QE+6+mf569Q\n",
       "rQULouEAAAAqAZ5UdEX/B8QXiLsRSwtPd6/qGOXtbACFEi/2Zg76sGBF+mzLEqTbAFlAAAAAMwGe\n",
       "VmpF/we/gA5OFDsdarBB+EvZ4AE4CO9cEDGPRQWY0j4jz4ko4AIBGDobm176PoCtgQAAADBBmllJ\n",
       "qEFsmUwUTCP//eEBEuSZQ6C3jyzHryXayMtAAbm9v/5PaUadgv1k8wQ07pkAAAAeAZ54akX/B2eA\n",
       "Dk4U08jlu3rA5PiI/EkYBs3siPl3AAAATUGae0nhClJlMFLCP/3hABf9/17bnFHoAcYYbQor8zhk\n",
       "ajSmh4IlunfhtmXdcRlPNPIbz9iG01XpHq5Mc0hDe2NCX+8UAd2cWt0ApheZAAAAHwGemmpF/wdn\n",
       "gA5OFMSUbe6NkNU4emunKqjZwmaEx2AAAABKQZqdSeEOiZTBRMI//eEAFz6Vz0oAUD49/XWsY71V\n",
       "HAxPtE5BoW+f9FagaxN+u97mSLG9r02Cri0rx/FK/a1n6PBm4acK42UmdrEAAAAcAZ68akX/B2eA\n",
       "Dk4UxJQeUKw+PX4KtFN1DfiHQQAAACZBmr5J4Q8mUwIR//3hAOlo3e6wkbUDnV5mwCTbyKf2jxti\n",
       "bMFPLAAAAERBmsBJ4Q8mUwURPCP//eEABfiAaH8AQiRSiJ6Xeb5pm8VN6w7qTk5AkQOUqeqivplz\n",
       "mSecsuNXdv2izMXO04hkAZ2lmAAAADIBnv9qRf8HD4AOXouZtHFGABAgdchZK6iTc2fC5UhHZUgb\n",
       "Drizc+gI6TddWIBZSM9fQQAAADtBmuJJ4Q8mUwU8I//94QAF9errAeSABKl0HCWTDD2sI8lLPDlV\n",
       "HGC81e3E6HdCpk1KLQUeVzXbyds3bgAAABoBnwFqRf8HD4AOXoudtgunCdeZOU//gXn9gQAAAD1B\n",
       "mwRJ4Q8mUwU8I//94QAC59v2J9S4jU4ARzMMyymmvJPGfj8XCwbNzy5MVoL67xcfu4DT6v+taNmF\n",
       "yDU4AAAAMAGfI2pF/wcPgA5eiV7kuHi9EANmwxc+N+Rnx3apDWMEszrgXj1e2MBROmjtQapn8wAA\n",
       "AC5BmyZJ4Q8mUwU8I//94QAAYgFL11rqu55EBCeSP1Um2f82R0YvmglZOeSDd51BAAAAJAGfRWpF\n",
       "/wcPgA5eh4e2y7wAPzo1CLGGDN6xP/DqKQqOTpqglwAAAEJBm0hJ4Q8mUwU8J//98QAPl7qLfuhA\n",
       "NnfKKpBLLwnmcNFxezjKFKaih0WnjvmYO5olUizUOdn/MOHw/R9AWiiBuIkAAAAaAZ9nakX/Bw+A\n",
       "Dl6ZysLPdkPauN0NP07LZeYAAABAQZtsSeEPJlMCEf/94QBcWHoYmt0SkpMMov+shvYWvooOEt+s\n",
       "detTgAM+3w8DtT/xIcUjajux/ryk+caWzfJ1wAAAACZBn4pFETxvBZ3IHJXono5Od7GA8AJjfBY/\n",
       "nG8G9+DVK1/1LycW8wAAABgBn6l0Rf8HFBeIvuKE0OJQSvx+fMv0/SsAAAAYAZ+rakX/Bw+ADmEc\n",
       "SUfwmqN7czj+wEn+AAAALUGbrUmoQWiZTAhH//3hAMluqvdZGNY/6IQBS/ur/ftgskTMUSatUIGx\n",
       "vQyBgQAAAEZBm89J4QpSZTBREsJ//fEADub/DnX6kAVjlHe7MuB+IeQ5YQCPENCSTLB8sdGYGbnq\n",
       "vK/3u/iuyXV4SiH4MCIdQPFw2HkxAAAAHAGf7mpF/wa8epaAGHxYQfPqYppJHkqMSKOskoMAAAB7\n",
       "QZvzSeEOiZTAhH/94QAXPKusNpQ8/VgByuCrPBP4aJvnCdxmznxCIhJftgYp7VGGRzVDUKrLxKzK\n",
       "cRsxsNjd/OjLQZMQXOFRGnJoanPWBgJ+jXPulQqxAMQiz1Wo4l0KZGihqUmrK/UK1Heg8Qd9HjMF\n",
       "gAu9du/6XU3AAAAAM0GeEUUVPG8FVcvjWbtyhGgAckE8P9DB2D+yUo+ZIIL8ehUNxn14GZEy7X3v\n",
       "Ur8dA2n/mAAAABgBnjB0Rf8GwDEMZvneo2PWzZGRJjHh6EEAAAAYAZ4yakX/Brx6cyyIFIvapp9A\n",
       "q+OZSyFMAAAAREGaNEmoQWiZTAhP//3xAG75OrSsl0NknABbVafuxzbZ4wrKZwIIHqCoB4850zHb\n",
       "iQtXMsWzMlKbawqH5sJutPHTdzwEAAAAh0GaWEnhClJlMCEf/eEABfXq6wHLF7/vdIAAVGH7AIYn\n",
       "uemZ24mHzAW6G7VlTP2bff5C66mkNUVJEQwm/nEjqXMEaZsKNY+827f/4ekN2XtfuqGSnGcPqdIT\n",
       "pRS0iBIVV7pJEli8DJWD2Zk/bTR7VMi3osM+44qjN4pf52V+cKcGTSNEAkfSwQAAAC5BnnZFNExv\n",
       "AD9zUA9KOd1AA5icU5W4infRNIF1SWyQJAKPBaz6bAxDybBoMcPYAAAAFgGelXRF/wBRt/spRa1k\n",
       "CSuGKeCKW4EAAAAjAZ6XakX/ABUMxh+AAh4/7cMKeOxU8EgUVJAzw6Cwx4aqitUAAAA8QZqaSahB\n",
       "aJlMFPCP/eEAXFcXTExDAC/DDK/cOVkXIsxYloBR7X3y4ajrhrom5PU9qc6iYyNzPj9gDneAAAAA\n",
       "FwGeuWpF/wTVXvV3AwZeosNr+Gz6HE9BAAAALUGavEnhClJlMFLCP/3hAj2jfVLNirX0/zAwPys3\n",
       "2TgPQxW3SZXw3slxP/nBJAAAABcBnttqRf8Carxg4ZoiPbXnDrnbFLJ6iQAAACNBmt5J4Q6JlMFE\n",
       "wn/98QAOdY8wNoX/GpbfnJAI7SOEdcMJTQAAACEBnv1qRf8BPt1OABOySWcdQUhPvOvU4Cmhg1qJ\n",
       "OYJObYAAAABQQZrgSeEPJlMFPCf//fEABz7Pw7u+AFz6EjnubAE40u8KuDCBEy+zeMcDtCGX62YT\n",
       "rpHrrEIbUO27aKx1CwO97Irby+MeMR6RJ7IeDo+pPUAAAAAjAZ8fakX/AJ6cCLzUAEPD5sTeRNsz\n",
       "mV//+KAOMioYlIdyRycAAABbQZsESeEPJlMCE//98QADs2PIK6Vahjm235ALgCHkB3O9Jm0seYgA\n",
       "B6TgtXSl/1F533VKonC5T2Va3gdBYa0bpzrU55sX7cEAXg55v9zmbX7mM8fErkDbRIRqgAAAADhB\n",
       "nyJFETxvAPN9twdl8AEG+IOXdp1GgcrjfSUZZaErSLIM8hUmDeKnXkr8krpbsbEBDupdOcuzrQAA\n",
       "ACMBn0F0Rf8ATmTsGteUABAggpUv51+TR+DgYktqCmloxyu2rAAAACgBn0NqRf8AUce6jN8KtGgA\n",
       "h/95xHlu8El0naOzWcOmRmHMf3MNAqghAAAAcEGbSEmoQWiZTAhP//3xADq9KptUzgAcet/qUbvj\n",
       "w0kAxWbszQ32A5V83DWS5zL7YB+ioRvVlwbWyf0G7js2ibX5oDlTgzf2yL4ZI4qJEbi+CknVhTQS\n",
       "tCih86cCXK4A5yQTSLFZo5HbIItsV3N0XKkAAAAYQZ9mRREsbwPE7d0qb4WesIDvvi5X72GBAAAA\n",
       "HQGfhXRF/wAUYIZTdEAGzBPm3R4R9+wz2t9kCbFhAAAAFQGfh2pF/wTVXvVdwIi3r/8Mj+K4gAAA\n",
       "ADZBm4xJqEFsmUwIR//94QAtOVeEYAa91S9ZEgJwzOVQRmz2erX4GlQDfvexao2s0Ix44Z9R/gwA\n",
       "AAAqQZ+qRRUsbwHjnBkZaqwPP8AAhBfL5j2Nc6t3uWOK966BfenXs1IH9DnFAAAAGgGfyXRF/wJq\n",
       "SD8k99UyAEG/Tw1ATrWZbnkJAAAAHQGfy2pF/wE/Ocb9IAQgZ5lqKhjradgqRYStHQdUAAAAb0Gb\n",
       "0EmoQWyZTAhH//3hAF09MEz257AJpKaANiodR7+QyGtLyfnEUZn9RePY1bQeCjDrdXbXShcFWu/d\n",
       "gI8lYQeEuOAg+V1ncHoJXPoPP8HnGJBzRdSrM4pl+rxioZ4me6dXHxWuHgmU1QLgh/E/kQAAACpB\n",
       "n+5FFSxvA7/HeKLCQANm7vctPlpl9Jz5Yp6EyhLs6gk+o46/O1ykV+kAAAAVAZ4NdEX/BNSHjcqB\n",
       "iUOHKxzEnXTBAAAAFwGeD2pF/wTVXvVrUG7StNA1Ps8GXkjoAAAAQEGaEUmoQWyZTAhH//3hAC0g\n",
       "o0mk4BPqYJukv0uhXdi/4V8k8yzs9VHRMyfdZERoJRnUecgzSCvDNWeVTH2q3fMAAAAjQZoySeEK\n",
       "UmUwIR/94QAALV026EvMJpxk0AtXITUJ0bMT2GEAAAA2QZpUSeEOiZTBTRMI//3hABagIzWq/haA\n",
       "6AG3BP08dZBVbtwI2NrvOCZT+q4qGJc42tGlP4VwAAAAHwGec2pF/wE0RvXmAEKAqBD0kggvq5XA\n",
       "oo3UqwHXj1gAAAArQZp3SeEPJlMCEf/94QAXXk91hW/0AgiYiEJXXkYoEDrhy0I4GXkV1X3EwQAA\n",
       "ABhBnpVFETxfAT4YzVeCorxdo0JyDz4e64AAAAAfAZ62akX/AJzDGgPnAB+04MUFnjSecoCh8T2J\n",
       "W5HOSQAAAGlBmrlJqEFomUwU8I/94QBXcNfDA6BVIKRtt+tk2d4sU7s+0HbzvGf0tTUHxIgLJIcQ\n",
       "K8NvyWeeHiRcRyXItG+GfnSbbzV66Lrm9Bvry49vH916yB6fij4v/QN08evVzBilWoRGrmfT+0kA\n",
       "AAAsAZ7YakX/BJfRP1GXOGgAILfKVOkneQ/temgQBe0uCGkBbS4MRcT3hmdF5IAAAABpQZrbSeEK\n",
       "UmUwUsI//eEAV3DXwwOcaJxe152eEv38AV0/NmsRwz2A3UbSqy+nIuUsvI0uUz24qBVt/iqLH8kd\n",
       "qvdNvCqUmu6puVtROSCCPfNle8tLOqvf2FD6jWQppSMx3FdNgxqkitHBAAAAHAGe+mpF/wSVd6pt\n",
       "RHLaH7pE32m9bFS4hUr6+7AAAABMQZr8SeEOiZTAhP/98QAA7X1s2jgBfmaTKZfBvTgTe84W7+GO\n",
       "D1u3WU3aPeC4k5WrGIj6Oqp6GUyWiuH8K6fIplhPMbEHWkR9WMff/wAAAHZBmwBJ4Q8mUwIT//3x\n",
       "ADcFHfTGo/B95Y6rZf00ckQcAd11xuLrkStAlycmPTlxY9VJTxlKDBb3WS4x3NN85hPx/lthNGMp\n",
       "ooIGcUdH/QJjHh8SCMHU7FPnBxbwRAhtDz5kI6O/7ejJ1mu/f71dXr/Ca0NxbhBBAAAAGkGfPkUR\n",
       "PG8AD9zgyLq1+7qDSa39K+lcRHWAAAAAGAGfXXRF/wAKLl/VgAII/NO+WC/UIiWLGgAAACcBn19q\n",
       "Rf8ACoDGUeowASLQAJXvlpWdR8ve47cU/oJkPeuHke+qNDUAAAB9QZtDSahBaJlMCE///fEAOMgL\n",
       "/G6UKvgBtqm/QZXc1g1YWHue95N17QYjJFGKm//BW0C/TttJu8vh+BvHibY7ld4SLAMx7eMQBKI/\n",
       "sCGG4MwOrtmApxa/xPhB+c8JA3B4BpBz4ML2cMMflhgWVxeUq631syv0GnG9X3WOhAEAAAAZQZ9h\n",
       "RREsXwS30Lfg30IbtmykZf9I29g9VQAAACABn4JqRf8EpmiraxaYgARAomUpNq8rNJ6qA5Rv1b1i\n",
       "TgAAAEFBm4ZJqEFsmUwIT//98QAcKx8ZID6faz5D+LtlA5VaF31HYTaIn77AEZYr0VtwJlacIgvS\n",
       "5YzF6VBrT3+J7hY/QQAAABxBn6RFFSxfAmhEH+NAKqAP8JDYm6xuC/KMjIhZAAAAFgGfxWpF/wJq\n",
       "r4OATtcx8u/BMfWAR3EAAABDQZvKSahBbJlMCE///fEADh2PjJAFFfbLTa0w3LS1GZgbO7HMvkji\n",
       "itSvDH+CSIyJREOX2qWEJg9nrL5R80LmvsFizwAAACVBn+hFFSxvAO/nSKPloAQcSPh1g2WHTeey\n",
       "QBWSIchWIh2I7LteAAAAGgGeB3RF/wE0RncgAQ7Il5imY/qIsp7I6YpIAAAAFgGeCWpF/wE1XpwG\n",
       "BX7Zv2a/BBWU9IEAAABaQZoOSahBbJlMCEf//eEAC55VzhozJ3/lNjTYAcVk0rUCy/+QB2ocHXyr\n",
       "FWWSwJea9k2itNAAlgdZy2fVG3urO0x32iFhlzOGC2G0xSdDXx0kU1tctclNgCpgAAAALUGeLEUV\n",
       "LG8AfCTsD6WdlEAF2Zb7gAt3NLJMTcka60Jrx63MsqrJsLG2yDJJKAAAABsBnkt0Rf8Anu5BUgYA\n",
       "DadWkrOVM/0A8qqUrYEAAAAeAZ5NakX/AE5uh3IRACDddL7TQ9XfbkiatUzIx0l5AAAAREGaUEmo\n",
       "QWyZTBRMJ//98QA49ureOSKht8AAQoAVbJVl3M5aguRKTENxPoKvl4l4IP00KLmTzbsYpqQwxKq2\n",
       "mQpUltDFAAAAIAGeb2pF/wSxGdyABDhhI0yjbkXy+2qRuPwpkuK9ic9sAAAAPUGac0nhClJlMCEf\n",
       "/eEALX+gBvQ/7moqcwObpcNke0HMRup2OJLskDnv/YdyxD7vhFqlasxF4sGjWRs23/gAAAAZQZ6R\n",
       "RTRMXwJr36+ZQ/hgOpoazVZqC4AyMQAAABYBnrJqRf8Caq+CsaD4zmsdE9pnxlF4AAAAVkGatUmo\n",
       "QWiZTBTwn/3xAA6O/7AZVluQARLm2z0yeB+P0PTxSehej/jq8/9UMb6GxqduLROuZJ2wiqWsmu+A\n",
       "VmI9tpqib02cBCcdFvaycCqPf5BPlrjAAAAAJgGe1GpF/wE2ATUAEPI3/vAJDPlKXIRRK59jez1R\n",
       "OrSNbCAObHJBAAAAOEGa2EnhClJlMCEf/eEAFqyrrK71qLskApaZmurO8yWRZUfsENgcJ/PDnrTN\n",
       "428Z6H3rpwlKQqggAAAAG0Ge9kU0TF8BNV6cA8xtKIOa4113h2X83/ydIQAAACMBnxdqRf8An2Nd\n",
       "RYVndACEFjPE6UX5hzOzQLoacbvpkwq5gQAAAFNBmxpJqEFomUwU8I/94QALWQ9dHKV/wApjexzW\n",
       "1pv2+66Slp17POA3cdickS0GA+tZ4qQW9kFoqdLWr4ORbJrbCXFT6+3rDdRQKXv4tb/diFlR3gAA\n",
       "AC0BnzlqRf8ATyhbkACD6PQHOCn8XxkkdkFCVo3nuiQT8sjbuGqZxCHY1RCEG4EAAABBQZs8SeEK\n",
       "UmUwUsJ//fEAA6CMb/StqzwBzCfg6rZ1X7EQCvU3eljzqfj++osOal4lbCdxifrT0Kpo0t4TnX/o\n",
       "3lAAAAApAZ9bakX/AE9FmwUQAhJSyv3jCvizBIthqPjeBEDh60smMho5/M91OnMAAABIQZtfSeEO\n",
       "iZTAhP/98QABxEXo2Nf+s8Acoq4fc+zM/OvpHh6+rbaftsc3gRY4TvzbUGURxL4timHnm+O0J8+V\n",
       "Bav39aVVZtdhAAAALUGffUUVPF8AJqvUesFr9SAFrC00aaoGUoZNKQIKEwGZ4NXL0QcMUoxdNqnM\n",
       "8AAAACABn55qRf8AFQzfwwAFzcZqrBgEquyz3yoNIT1ECxUtbwAAAEtBm4JJqEFomUwIT//98QAA\n",
       "7aMnIDc3flePw+llSjmgBannS0x+O8D9NNq9MK07MuHgGhv4eVCFwAaUUwEKff+0n5YRcsQgY/KM\n",
       "i4EAAAAZQZ+gRREsXwAUcehlsO37rmB3+v7VA7RlcAAAACIBn8FqRf8ACjkCbHWmNsAE6KqMw4G3\n",
       "G2WhRGsdWwTdwBcNAAAAQ0GbxUmoQWyZTAhP//3xAAA8lj4yWI06FogIRfyFpNuAuDpK6BXuEzZF\n",
       "X5C+RxzV52oTdxLOlBB/xm5gCH/odGLHt4AAAAAbQZ/jRRUsXwAFQGMoxFm4vuhHRtpZLGuFGQZ3\n",
       "AAAAIgGeBGpF/wACoDGNYMhH1mAD8OSVA/wLthiCKfQ4SmA2TgkAAABdQZoISahBbJlMCE///fEA\n",
       "DyWPSIE0PpoKVeACqQGMQ9o5Dc+HQQLIqlJyVuEGVDtx/yasf0EYril06IdL8Do42DHtbwBGrD4D\n",
       "7TVB1Zha7du3x+3OjvTS73vzL3wPAAAAGUGeJkUVLF8BUB9W80JKhQI22UjkOqBU84EAAAAUAZ5H\n",
       "akX/AACql17OOJJbTer84eAAAABdQZpLSahBbJlMCEf//eEAAAyfo376QaGAE1/9lprqIQK6E78B\n",
       "AIdBIXz7wiQrRLkGZiXcBrOEO610HJMHy/ia/w6YiyUNj0ps6qv7BD3BRm3IeVdJ8F/x9bdo+rpw\n",
       "AAAALUGeaUUVLF8AAKyO1RIk9JABoF0zhDBRRJS7TvV1YloOdOmQuVD8+E3w3SH50QAAACQBnopq\n",
       "Rf8AAKyPRH3zAAQ5vjT0mbGz1rpLhWTSWXPoMMgYCZwAAAB7QZqNSahBbJlMFEwj//3hAFlnEpkA\n",
       "u+nVfonmZX7bvYWcAf05xcmtBH3NeBXGwNHj+9USHTyjGF1O8kXoydUFed9Aypk16sF88NN9Loip\n",
       "7nxDMvuHKJkqyLquKPPzZJGFkU+ygu9RCy+drF3furSqEtXl2TDxJbjMRX1gAAAALQGerGpF/wS1\n",
       "wCABOiLNYWZU+ZruGFhkzKGmApHh/C1kE3g4oqASmUKZJrqraQAAADBBmq9J4QpSZTBSwn/98QAb\n",
       "lFLlkeAmUhkkGCrGUxevgAEAQ/I9fmp/60dhLHQE58EAAAARAZ7OakX/AlhEwQwRX7rIwTcAAABL\n",
       "QZrSSeEOiZTAhP/98QAOJq60cqAH9Cd5icRoThDvxKHLYdUPVCoPiHO6l4l0VvqnTdcvZ+QAc8Nq\n",
       "iBYf5PlRHHsOrnfbaaMREaLMAAAAF0Ge8EUVPF8BNfKeS2gg/0ltuwBi0WpgAAAAHQGfEWpF/wE2\n",
       "As4AEQIwIG4BEKRTxDhlwFNppAWvAAAAJkGbFUmoQWiZTAhP//3xAA4hFewvAE14dYEgtrbWLjKZ\n",
       "yiaJ1d64AAAAFkGfM0URLF8BNV2ZM3hDek0vf/g14GAAAAAfAZ9UakX/AJojfKxACDNYxPVJkcLt\n",
       "uGm3aneHqdgycQAAAF9Bm1hJqEFsmUwIT//98QAG5qcKTHPdYAdH6U4/4CAoKd5iMFbNxgEo7dPP\n",
       "FJHd/FYf2LsAO9o7x2/sbACg6YqbspX51pZcMl58SGzk+FLCOaAMW7k4F+qKDseFVXp8qgAAACxB\n",
       "n3ZFFSxfAJavVHZUYASnauxxzju/W1i59Pdg1k7my1y5gC+riZdeUxiIXQAAACMBn5dqRf8AT05b\n",
       "MEAJj9OZJNf29Rlj2TRT9zWzoM3cci3MgQAAAFFBm5pJqEFsmUwUTCf//fEAA6AuW0Mk5wAtJV8v\n",
       "dR8T94bcrrjcmCY89o/tlLrmxlhVmctZjibuake7DmYKc0ACg7pXYf/u0RIL/hiqYSO4+SAAAAAU\n",
       "AZ+5akX/AE+Huz7/6a+vBLpJr4sAAAArQZu9SeEKUmUwIT/98QAG5T1AEYZWbwphRgBMtoZGzrqU\n",
       "3sSidRkV+rVtXQAAAClBn9tFNExfABR9aBADdcoCSYWkrgorgzvW3ayJeygO3PANywLhoW7BOwAA\n",
       "AB0Bn/xqRf8AFQy4uxIAbjn1K/XLsTgvubEfxwmGOQAAAGVBm+FJqEFomUwIT//98QAG5T1ABxnZ\n",
       "4QYd37sNxrULvsuEt5bVu98n8DHizOL6TduQ/CGTgJAFcaTmk1HIZNEWYKAN1scHqP+JXGT5OoLR\n",
       "IIbC5oNdu25J5Imexti/VzC7/2M9wAAAACtBnh9FESxvAAfucGRt0uABs9jP1AAThCTasYa3ozJH\n",
       "WJZ4J+2hnltlmCMwAAAAKAGePnRF/wAKO4wVwZIATQpc+X9BXiSySm6WovCXIunmp5IiWF8+hSEA\n",
       "AAAjAZ4gakX/AAVAYyjEvMbEaACGjvwhlBOEOT7VKLgTTm6l/uAAAABwQZolSahBbJlMCE///fEA\n",
       "OMgLQyAQIAdAq+QW96Dhpzc0HXVzMkWTJwSSmvHF9PAvtbn5Ez32yBlx6f5MVdrWOgHqnhs5jRDT\n",
       "yZxMeLEMsnHwvIzim/i+d4f/7nUz3uXePBgLqcF24W5Wssxn/3hdNQAAACNBnkNFFSxvA6sXjnYu\n",
       "SABe8vxE+nvES67wleocqORnrV0F/wAAABQBnmJ0Rf8EuHL0scgimYwA0DCJiQAAAB0BnmRqRf8E\n",
       "tV71Th7AAXO5czmClDVHn/QQF2CmsQAAACdBmmdJqEFsmUwUTCf//fEAG4i4xQAGAw5zHNwTuibU\n",
       "111QbNb58T0AAAAVAZ6GakX/Alq7oYFK86fdxNrb8TbRAAAAQ0Gai0nhClJlMCEf/eEAFqYDKsAn\n",
       "3+6FE8fRjXjHBOY09427B20VfcEA21K1PzvaZ2WwpED0pySK2KzA3cXymUqS1h8AAAAoQZ6pRTRM\n",
       "bwDx90OgAQxoIvtDQBbQiuyUCcR2aDW14dG4VfAoAF+g4AAAACABnsh0Rf8BNhtxXSAEygG3s/g7\n",
       "4OCKDoUHF7M8z2JQtwAAABUBnspqRf8BNVe9WtQdZuEPwkUViCQAAABIQZrOSahBaJlMCEf//eEA\n",
       "C6+tUy2GWFZ/ANeZnJZaKufPbipVTLtvbfKNpvssDIjnjxowzPPGehpFN+tk8yeZl0PKzt/uyvyA\n",
       "AAAAGUGe7EURLF8AnwxeYYdidMfwbF2rE2Y1Y5sAAAAjAZ8NakX/AE/N13G1nQABAggpUspVEaUB\n",
       "1wVxLdZAAts9XIEAAAAvQZsQSahBbJlMFEwj//3hAAXNgLRuQkLDARm10rridcZcns2KB766UpE0\n",
       "kwsCBGcAAAAiAZ8vakX/AJcrdeB3AAucUVd+ukDG/KLoED1RHRezcJ5KIAAAAE1BmzJJ4QpSZTBS\n",
       "wj/94QABc2JjRQA2qRB2inQlMNFR2gO60Jlnb7sbZTqBfNRXtY/RoVibtn0yP4slGYU+gFEpKkvL\n",
       "JZNeJt4kfAyRNAAAACIBn1FqRf8AE+OCoAQkqVjUidLrOcngljRKIlOe095hX9cfAAAANEGbVEnh\n",
       "DomUwUTCP/3hAAF+IBe6fVAJpKZ2CrWC+WZycWyzbmKVA0ssJUCaw9fW2jZbAsAAAAAkAZ9zakX/\n",
       "ABR+w1gAsKRfMnEN5bW9wViAGbhs5pLS8+TLfA1QAAAAUEGbdUnhDyZTAhP//fEANd5oX7vMRg5C\n",
       "JusE3ySSM/3UmmXd4T/uQnP41fRCeqUsOMFHHHh04Cxq+Vbq1YwWaJAWzzYqGkqvqeABIER7ADeN\n",
       "AAAAYUGbmUnhDyZTAhP//fEAADsn2NXJYRgBQCb8Aoz4UykhQ6+wZKdcPEwEeWp0Tafew0lgWbxJ\n",
       "QFHiSgr1cZ3e5VYWg+z75pITGnA/m/TDf1HEJ7hE2NzZIYlnK1Dn0k/gO8wAAAAwQZ+3RRE8bwAD\n",
       "9zgyLYkOdjUZK0RnwATojPL8ZBCSFWk3jI8vr+mxnd98eIlz+MeBAAAALQGf1nRF/wAFG7JUAJoU\n",
       "ufL+grxJZJSXR3id+Ylyg729GFzwmH0uP7bihMdakwAAABABn9hqRf8AAphde0SneqnaAAAf8WWI\n",
       "ggAM//727L4FNf2f0JcRLMXaSnA+KqSAgHc0wAAAAwAAeB0oXug4SqvQwAAdGPnthIJ7wAJ+ByVT\n",
       "ZcfRrWhzCDFWRVeCYQfoQ782vUNydQ9Z9nEPiBwgBEun+rl1gnKSyqpneolBpV7lZ+WTu/QzvJ4l\n",
       "YSEaN7tGOIFJrfYk9o3/YPAvG+ubF4qPy+2yJKFf4eIarQaecIJ4PAN/kL81GM59NIwI3AYKWCWK\n",
       "VOu1UrXhUv4E3FLzyjPQSwlFTp4Z3iOTeffWNGYk/nIdlpiy9tlzYFPLzylrlqHrh+dUbTTwboEY\n",
       "NlN1ZpK25CqW2eQjSiBQ4oZDShWTh2DgEzTb667iED8XwqnvYvg8flGdzks7IaFwVK9J9w/LltX7\n",
       "KrOC01+MN8IkHdA4rpQCA8x9tt933KUUW5mkv6At2uBn58kZpDrevX/mjP9uoN0I7IPIU9pl4d7R\n",
       "SH9/lnUpWRjlcViDHO8J4MuCQvtk6FDC4iXj+Ben/H8bbSvsq9n4diFeWWhDwmJY9HP9VG3EKy8l\n",
       "N/PALaWrud2PC2sxIZXYvLj0mb0/MDSUGdlBC8bTadYzrYd0n7YgQBZyEPPS6fhPGW0AB1d+iyEq\n",
       "tYKhRUeqWsT1dPKIkhMXAmCt8TWNaggVQVKQnDWZ4pN7F2J/BxwJ5T6EFGvaPYNFOAt/Gznevsbb\n",
       "EeuywlxtkvPYXRGQmNn0rumDi8IWpV0AO4i/vSLUwdk9zjd6+uP3+ytzK6BFrJr7+lYh41SZzvJ6\n",
       "f/vNJMxFY51G1ZdMfQjXn5af6Fi839vkOT+HvJ69AW7LIE1P4vWop6scF/D9U1PZJe7TDA8FWdWm\n",
       "JLcLPmx/oN7smDbkunPi58khJ3DyQUlIHjyDoMQDT4EXHG98azi/eLXBnusv6Ir47j1SW7iYkpRd\n",
       "J0wKS5Z2p7bkoX1GKBhlkz/sgvAKSzJo5DLrsM3dnETfJoT+K9hcQZ3dcwcxAySkNzQrG2221ljn\n",
       "YhoDF1S2SKl4gd5aMvmV7T6jNnk3eRRE468gAR9YLVZPtk408szp2ljjY/HlVJENQ1eqToWJGMGo\n",
       "89uPN4tAHSa6a+Zb4LA6NXcyXxL5PWcrUfFLllyf3j0dTVUBbft0Rx4kMk/UGg9lPierRQo2aoqn\n",
       "rZO7tz2q27Vf/Zbny8dF+6YE7f2NZunxcXF3ElADEFsDGVONxZ5McGI91chdyG7739P9wPVhTcf3\n",
       "GmPrp8ruRfLV+eHR3OVRTQQSE/FspLx1QxMxTXU6AXSjp8jCykev3uHHrx2vychuqyAfSsVrgfnj\n",
       "tC1vKp2miJ1hU5J1BSjkx1EWBVEUXk2w3UxA5retXDcKZWXnnRDICXSVQf/SRjf+lP0fe0NRljKW\n",
       "+O62+Ju+w0Ecev9WFHlyj/bwwJAOTcsky76x0LOmhCe9mqIO7uIZLErmo149VVwnI7K98zDqcLP5\n",
       "QwsKbzk4m82VqMXM1CQgHk3oPN4ABLXQbK6GBSOSDRoAooYHQv1OyUKSm0H1yA/E95kwNAL3MFyf\n",
       "1XxHcfuRXsZAigVYaxGETz3ivbRb2n5D4zmwsa9vMawpNC8noqvQSlwjzn99AD/nZmL3CgSuRPLP\n",
       "Bba80XFJgUC5dUWn3z5Pm2OrVw74EXz+hdfRHnJYjHngsHhd4arR5VuaM65fETT8qcPG7IUWCKS4\n",
       "+7UhxAA3RFwuRbqrMnl5Khi/8l5XBzdTDOVHnKVYUPi/ePrxfiAgsS7YE66mHo9/tS8LtsVLWFcl\n",
       "nbf2WFDjPFJeXnsz7q1lfQwIAZacivCBicK16wZmBZ2/RCGyhU7OFQYp5hd3RFMV1cbHjEegUFa8\n",
       "BbE9ay2RLMmo4j7pHCp7CK77rFA4ZKMXWP8Exc6XWVMRAQ0m9ZKwtdtLqxCsbAzeHPqGniUD4Gnl\n",
       "Ih/nK5Kmuiydkw+IdQ2fAf3YChnjhREivuRiC/hboH9Vlz57cFihmPemsFKaPgNjyD7PY6/70j3R\n",
       "s7p8Pstm47wLqO9qD/DNpFF6Hy5Hwe8TWwwzOGUOPKj3Lft1oE4JmTgw7zx737UfMFSvl73i932x\n",
       "0Pfg7OZOQ4NqpcwkYE6N0sHwMnvhkwmU+u4pqr18FZKFzOk6nx/yekxcUPX+2epLK6BvSly18hUk\n",
       "u/Sh1U5S8PxwcNIx5oUwvAysA6KKLGkuusYHfUJLLUNYXnej/v+LxC+50EHoTO+cIZmt45ai7+sh\n",
       "BxY2430T5umQbrXIEbOst7eQ+OEHO1oRBmgq1WWLxhoRy11Gk7ou//6dQTYSSlXmRzOnMncm/7qU\n",
       "Yc7oMaGTVCoEcxW/zHTVV/sR4gCuZJpPUqzB5cPqQ5dPsh4yIBNqO/kxIsWTYUXMVOjchwfbfIsW\n",
       "5oyvCeUfHXSkUQcEF8LOfs/h3+fLTfvbX/cxAe4t3ss5lDn2WE8Zg6ojNRsOwjEjT8wQ3vR80SOX\n",
       "BMxWYCkbKpIeS/83hvcDFy1ditWj0RD5maFkPLgYap6j2RdCSP1ttK1daMj98/JpnBE+oPdOscOA\n",
       "7MYJIWVOF13TcRb0RIfGYCYWrbE5dOu+vksSJDqkAV42eNPRgo/JaPttYzgVQzEAvC9swRCEHoWy\n",
       "M4Am5Ne/kk6yCijcCbzmdiZ9zKt+mhpRDULb9qg/teP4O4UuX7I0wcLfZkNurFnixsdXrxGK8dUD\n",
       "F6bh9jWKlv2pxwbBsPWo7NCfx9bvw6P4j95L9Ctlyvyded4ZqL2IaZoRYzxtOteVLGXp4uWeAlnq\n",
       "o8b92llYsxPUrFVlf/uFHTSt7+sgkeNaJBphzgfnbG9mkJyBSW/IqxNW4sGGpoVaxRUmJa7XMEEk\n",
       "iEln+3ScRUAfOQqRnKRXJKveawr+yOo/kpZEXd17mBOXMAvITsSdLjW5oqkPlZV3qyLA/ycWOneI\n",
       "piYZKiJ3av7XLIq7DRCanYsEu9c+n2imRkktrpOmRnUePLTWZZ4Dx1tHnC924lvojWG+T/jZG3Xb\n",
       "wm6JEsvZRC7xDw99TSPNoNwW0yx8FFvyP81+7AIqcrUkwvg6htSwTxO70/qX2di+0UtpDDbj1PCt\n",
       "hRL3B/eHOLoc/2klhGIGFuiA0aP/sPbpt3ASMK6gUqtBCXyFwAissw9uq9pf4vHL7M85aIEYIzOF\n",
       "qAeZAlG9gWLO1ZqONVVfvNy2S2lowQrs3XYsGWhct5AGQpKmoALcSAiMl188IzGxWwh//XLRCy2Q\n",
       "QpFuwgi31wsU7LsTMxkwu4P9ekeSIz3oZQysXNvZBBKVNhyAJqwOxNWWRRzvHyUgfCbE9tDgdNeY\n",
       "2IE8fsT6cewmUiTmF006HQe7bfzTCKWhWL7kt9TOKwMGnvs/QzijZKyRo6OmynnANBjdVsornEfS\n",
       "GR9hTQ9xxYeBbXAC4E6r3Hy966t9Q29FV47IkEuy8qsMk83Uepv7sdAxT5P8Nk1Qi42CqOIUa7Mh\n",
       "bhcyPV2Enj/yi7CxLVZGKYb5i8x5URPX4McTMW8RM/mydMrfqwkNYeWMZwDKY9RMgDziyR3GPoCA\n",
       "jEbeASHG1vNv6pzKwhxUzgk1n0DKmYiYUVVrCQu9vGcjqSCpiwvabyTnQFBX5E7lIKnyMMiXspAp\n",
       "pBjV/WkoQbQYjzIG2tih2m5SuCZDcn6pP4zTyS1UlxQ5AoDGcHl1SeAuKjLicpW0Lpp4GHCEbgwC\n",
       "CC2MsgUrfTZAiycsPeAkC6n4hb6TE0faDNnwxLH2YQlLgz3cXTNVtkd491Q+IjnSQSqlOIDN6mqu\n",
       "1OG/FAd3x3gnOICrTPms6GGD3VnMf6PkpopHZYwaGsK51L7JGnwdtZ6cNIcXw1xdalwLbUsPqr6g\n",
       "UUpvLvtJJZoNuu3svE42gmWl8t3wiUt5oWtjDBwNPWuZdlsCNteoIOxyXFuyUkPFX8JFd46pVbap\n",
       "JfZfov3wfyHhCKdUmGTV4dt9aaX5fSAk2cOWzlQdZLCrE4NMTJmei75T8TVh8//LyINuwXAiSuno\n",
       "ore9eGUTiYqqxqbTcOuKDUu19G8mu5WnCnbCGM+DJTMqAQl+oAlfiqXcW0f2XlfpJgYn5NA7gB1E\n",
       "Ve2DKxoXaBYTeniVSjnHyTHfXK6C4F3iIRYx60UnA1U4uZ+N/9ew/389wUExYKlp63JiGmmLQX64\n",
       "GkfaAfuNBxd5/C9BIU+sFr2XJGuWr21om121tjjjIJK5hlshynQl2qu1BGy6RkkndNQ7kwfeBb6N\n",
       "Evf9O/czD60iD56fVNC7hwEGbjDvSdUh/5uhZY8ZXvHk5naYH6Y4P7yJxmumwO9PVqA4Kb3GdBDC\n",
       "S5sFqSHf3wMc2jHVsPvERJ01qiN/LxHRYYvyZwSS+7F+Sbf96JJUBGlc/B/PgpxLQVNP3G1YK+Ki\n",
       "BS2X1nx/VXRVX7MzGn/bgeCRZzHjyVQPspg2eW3wzn//+kjbxu/rwTjrz1d14vbOJhDr7a+dXL6u\n",
       "ciyz6GHOKze2oTPPVqJShiKwNoLvJ0XuJe3b3tiKn/o0+Auv7MB4TaSpyNVUY0LmTBrGFze9DFNQ\n",
       "twDJK/jrU+tcTFg6BDPDmGJ6fCxTJsESorMIyXLJogMwlrBFetFqfsPZwrNaFGxgxQHQIvHMvInY\n",
       "5k3GwwNWPpy5JIAjZ5OVDunikv6WQiyXykWOq6QefQSkkoagpTGKojfrlinwGIxI5gxxyaMO9+z3\n",
       "hXGGrC6333eglym8WqbCrv7AGJTY8OImjhY9xIT8eQKOAOQlEPd226P290y6aOVTmPOMzzSIbGFh\n",
       "TBbIaSt8HhLFb6pSJC9LaB2YG9jCED8HoM3QdDSzE9F9cKs/Bwu0D2fQG0tbmZVBA0Wlx3DminBd\n",
       "xfyNAuwOm4nq6z7Ld0Ro3NGVozcfcwyRcKIg0tF/C97nPcz6b9OmkmsIph+Ubq4UssLiBtjiXj1D\n",
       "LYZHarSWns0tgwoCrNCNYRoIDV/T+zc80E1eMA/kuSEnZH5YjI1nMir10ngusI9PYKFMzKrgk5CT\n",
       "sSKbPygolO7vJaFUKoL6xUzoNEks48wG+Jm6i5qBPkNmNKjP7yLdhqsjYatR7wbepfYAYe0zgLTd\n",
       "MnyKPqOpRHjHsSKoM6RX3DVn/4UKsPvls8spKgtERV8H8swDVEmqTASd6SlZnvxTzMkFjpc5AUYk\n",
       "Mvb7XK1Hf3mrVqNvEGSQWvjJbpwuMxh0Ikp9RZWI2FI1k0gUPtpbPyExXQX8b2RTK1xygUE3OWV9\n",
       "+G52aDvI/X7JuGIG6vIJ2uwXTLdRHf+mllVKiw6oIuwat34x6aYVgOQZejwULrvrpgj6mCpJhu+V\n",
       "syjqJQaQFaql1p7HglhPHKtHF/FUX1KRz+mo+xYD7cw3m8cxw8auEp2d3gZVzKFkoNJmna2u3un4\n",
       "7uYCAt/2/mDtTxOK8dKt/+lxqcCSsl0Abw2+zyfetG4ZXzYCM/ZMFnpD0HHyLa+/iZEnDAUd/x55\n",
       "jx8r6qRuEu7SARYA5s3BHw9wKD9w4WzaoFCfdd3pPSb+6BcLZOVk8vwaQmds+YWc3FaLbW/EIv5V\n",
       "2P9+ocPJkUAp8/exGLAAyRYNl8I7DESucy0PQswNh4ePDZx7dUsP+gqR8tWX9gqJDSAk94SUX15d\n",
       "SFHjV25vL1MULqdvofEOC8DLaFLG/iiHjssLhbDa+G0AiYluki5UQitENF+1jqTVCoQKok0OOi15\n",
       "cGv2KzyCqT6hkmGIBkaTluijzDk4iZ2/f/oLH97uATIuDyvRM/zkYO2ueZNdwO3cthydFW1K3bkx\n",
       "cFjhb4+SMKCXr3Nv3GsE0oGcHkSKJIQGv8cSCtEZFZ6lSuphNk6xsauroOCZ97DlU/cpscGw1fH8\n",
       "o9n4TvIGDb69cQIGXm1UNGJb8TZfHGCjNP2wsRigJmmQ5q6JBKxm2O0Z4iPmbDGGjVg3sNpbur2H\n",
       "i8YbzD9jNWT5QtBI1U1h+DiS/+CnTBhzV+sByuAP552dgXLOokcmmlAuFT8LzofWhAO6tmlLFm+v\n",
       "Ms932mQvK44wn8WVmBzi6xHnR5zumYt24dDrMWXOZvoQ+UVhTyulAMfIKd609p5U19h2h7WUZEEF\n",
       "9PzYS3G9RUzIYcqMtsYNE0VrTe+jJWIe/AAvNi9Sg6ovsMuHjk9RlE96HD0HIlFKEm/HgKBTpAV7\n",
       "jmizW4VJ+mOmEtZLUrOTizu/sR2XGcIg4guVuXhxBPvO1QuGSNpMYl8R/WaWLZIBLkGwLSVgXPlK\n",
       "MOj1VIQbYyl3zvCWlY+yrO5ghSmCExx8TiIsGi5nh94qefxF5/FOhnwb3tPy1XAYKMT/hIMyEzW0\n",
       "xYXNMN9uthPqEEpGGDUzlOSA+NmKT6b0pIeuXduDJmjC7wb15acXcP/SEogt2l1hCDwj2SNaXTHj\n",
       "kiR1TbBNF8pl/lV29wdrgXOV3mldssLmI4YYhX9oeESzTMwP1kZPnCaQ5VmQTvvlYsXVFjTs4T9z\n",
       "IAne+CpiEd0sXqKdlcKEBbFs0VlJwA/oKuSP847j+H9ezwQpbDmRTN9nKvg7JtB0REAdtRF/W4N6\n",
       "1S9J95rPHvi6C56xErdNSrOTYq2Es+bI5te3vpXXjQrRRvJZSIShfpknZNVk7yo0iuG5iJ639lX4\n",
       "Zr4Iw2EvdrpRJ3fmHY3bmDesScdJj3xL1gXLp2QGDnR4sQN8//87OsCbhNq/b3K0ig7vjQN8Yn/I\n",
       "EW4Df9lq+qXB36+h+e9Vd2DEqHW1T/6vWFzf0nVIokOJk7/1sCRNewqxIrKu0+Nb22ni/0ZBLNxc\n",
       "FWeaCnSdIvleO30q3Mq8sonGOlbc7G/FyvicnBhq47fxFpZoQXESy5q76NZU6qFAxHtE/iUglDTz\n",
       "GRq3m9m/43MPVswXmm54kn7BL7yK4N/lLtkekVcy8zKiyIz4AJ3x2Uqn9/GQ6IHQTi1wo/ZPB2A4\n",
       "Tx18+GtxRHYga42RXpbTSofI0+/ply+JCsCuOUGMxon+Tw+LN+8k+b8k9pxdPUSVK9JPjfzK29/R\n",
       "XRHJEf3bK0/LBxdsSXxIt8cYsvxNe4M7PIl0LIf2ZdCw0qDXQEA27/JSdTC0yhriogYgzmNn6t6a\n",
       "0D5zY9o3S8ZOa39xDyM9e/Wz4Fro06ftrbAWTWFMmTKmfwTCXwgNHTPn7R/gdUpGccrIPcmjscMI\n",
       "Cd5qCzPTxrG4kTMwhMLJteAmllQcSFvSgLcfn/jWQiYwV9QqnEAi8vjrZe3PyK5p8mNRgw/tNlul\n",
       "ew+TehKRdI/AJBxGMNT3xnumUMhhIS2GZCFJ+Qdg4IpUJngQoWOQBaqb3+bRyheN39V7WwLdz6J2\n",
       "Xp3eDSxnBqN9KktrxarY9wmkDtvZnjouYJ3BWFpi+KLcnqX0E8hUmrzQhv3V+9GX/vLPHRNo52bx\n",
       "C7nNe2PlHzWa0tz6qjS/udrMo4p7o67C2B7XhSHrlvaBB9g41sab4vsLcrnnu8btxjeUmnhR3Otd\n",
       "9pwV5mlgQqGxpjOHRrnBAsGeUPFCssFmIRxGsygAqveQeIYLXG0uN+lbHrSM6O3KTcGPKcELisAP\n",
       "otDjxFhH4VQHO1jCrAVrw4BcN8Zy+nsoKZWu3+Ejh5FIo4m+lDfmF6AW6UgAGfCJQ3bR2uFlwWHN\n",
       "jM/rS/QVHyFh/Q6+Zg2VqeoSbUEE4fYW5kmFgn7BhvV9HKzJxYJMwx/G6gxiXf+7w8I9oEzDrn9/\n",
       "uJDcd/bWopiBFbLANUNdpG2JZdiSvWaW6qWmhkk+7N0Z4a5HljNKaNHWCsnfWXSy0s8QVONcUgAs\n",
       "G0FLio9fPGb/0DUUxcmrZ9XA2CvXbp1rctT0/USNAsHCSvH1ZbLYlL8GUf8FvOMUZJz26/SZoOyb\n",
       "VNQ3weEKaLonLmuz6Nk9ScM8ejVdx4RjMAagOClzk7/uylQXs7jstpWF6ikFpsMi+1Udc4hxjyjj\n",
       "SdXM0CDpgmTFEh5yATBn0Ke2yxgWiEftAlwdDbZHgbCTLMLKNHSl469qiyC74EIvRg8tX1s5FM+j\n",
       "p1ynYjlaCATma/qTM8WwGp0TJocMByk8HLx1H1CrAmCaU09ttTDEvNabk+85PmIiyxgxurXylP8Q\n",
       "EnGOZCjBI2ojaxB1wdRkY51cDH0zNmfj93tyI1/YFHQUkPvaZ7PwLbl212+3aLErifwNcfF4Am5j\n",
       "1h6knGJyoASuXJi574covB8+Mtxz5dwuxv7iyuLLbJJJJR3u9R/shbOTd7jDM68UCwD4DifZ38pO\n",
       "d8k4Iml/ufa1fSh7H5JRs68brqZ2KvkDOyV/0TtNZ9UrH85LBqUpinF8FBNu2twZvermRrLv1d//\n",
       "Mzz0/NqaK5UzrF1clLJTzDgwf/rR9AD+tzIniFpb8/8+fAqd21bFPTwwqkJ3L8PNqpg1xqZB/XkI\n",
       "Pkb+zTPPMNjCuz2Vq/H5gQ/tEScSMMBKfbieMxXETkQkYkPWhFDZHgdsrhxdHurT5X+tIg1L5pvt\n",
       "9ffJ+GJgBj3OjaPCDqO0fyYCQMtByBXaD1yCyXDplUYfU3IfHLLS0EkDwX3737XVniyhrGCXJMl6\n",
       "JUrSNfLYXC/hv2p58GD+y/4dZjthjLgkBT1pIDfwE9CsEqannWufynY88Tnlx//NRsd/RZoCDt0B\n",
       "6ZdqrDozUk+r0MyggGOe7Y5aSgA5PlbadJYI1y5RAqbM1Rr5UUPAhhE0jbJhkoxauaKLiD9w8ea4\n",
       "IoKonR1NTo8yK0C79SL8GZCarGVHsWuCFYCMxQGJOmo68D5cALO3k3CA0fXkjfeAyzElnyuARy6M\n",
       "NXkBkAJc/xok9WWTnbbDYEEz8EZ3/YOHhGbqjsjLpxYsR66ECYNTpCqBKA1MM0fBo/jMmD39aVGe\n",
       "i8iQD2eE23B65EvXPCNRAGHVwXRSgyQFvrxEzFDBQL28DaWhJQy+Dfub5iXg3zekr2Iti74qIK5r\n",
       "XrTu0OuMkVhfOUFGk6ZVYLbfxlIPb2GvPsTbldIntc2wjy496u5qFgo4SEsUObfBFIrjSQDwe9ba\n",
       "hkUW5UnCNHVBeFtcEL7GLTgyt//whzqAJ4ETgPQ5QKF+cOoFCIBl8YCkXVaXB6Rzn8JdxvQAXZIr\n",
       "kvNGqA8NUvpzCDKXXSI7E9bHDo/gcJtOTqx39kTddHojVG8b0qZlMU+K5nOmVsi1eqGdBn8gdGUQ\n",
       "YRolt6pVkBjCqn1MNDEXDEw6gwMsZlcTe91xV/mSaFrRkdK8QJSAuFS0GMErG1P15k5OzOTywIL2\n",
       "Plpnjx8ga9qQH/r18SSZE034ukuFLlPSF95ZvgWkup9RfWocnG/1WGIqNpVJRo6DrhXB+K8BYR4i\n",
       "LPCa9s3zMD2Zc99J+BSK8jqFXRjyy9R3B4CElhXvQSTEWFJKcGqTXwYPrcNFDaORr3AaFKM4NgJV\n",
       "0ePtU4pgL1yTJt3s1K0F103yd8CkPh/LyAATsWHGWG7s70/t1IzWSEeaUwaCe3JchR6+frZpDRiY\n",
       "x4wpjZjWTUiDbuMTDqRdA9KzBzNlBWb7MnGtVe5FA6VkKTRfbp2CQY2S1XSpExqvaM2e8tP31pRe\n",
       "xS33sBr2VxM5Ox2aXrSPHnrlJ0xcCytesp9AkBO9N0t+ED304ykVCe7MgPVbOX0vIbBI850AJgwX\n",
       "vtp1ttCwiPvqMjnxSfxKdDNwIUN80cui/Bf1JD/uxsdVjk1d1qzeWU6zGfvVmSoM834r2iLdnAXX\n",
       "zP86ehbPmOeMjr5IbaYOjYBUuHWMzVKsVa999RYhkpJ9/2Ha3zNJmuDXT8p9Bz2xCCwbvnOTpZ+u\n",
       "mLOkysabK9CrpV6AzZIR83KNxS0idoKdhB1IXknEbb4fH5fXsFg0iSRdZvJ1Jdr6qJEd+DUUwFyJ\n",
       "+n7vVBOIjMoehTXoFrsbqx3bHVwj5a8P67rP8eoSjAe1le6B83rCpEwbksGc2eAbUjhw/t9/IAob\n",
       "BlUNr+B63Jpq8n3VUR4oq05FcgzQ8T98Y/68a/aqvZ611ZsjcPokp1H34DZGh99gquAbEP/pTTXt\n",
       "hxig3Er9gBJnq8iaBIjseO1cNCnJGncPA50uUFMFjcBUwdyF5QimKPCOXzggsip74C+Ep1LTb/ys\n",
       "AhPn+AD6b0E6MjTVjfO+XrwKc71Kde3U0TpdNwHrcvEhrilM3PnxObWNu6bWqWKzai0Lh86ii120\n",
       "/vBoHkO7Te1dis+YMHdA+mtV3DcyubtCxWTcuPkuBnnlV+VvpqqltisIhP5w5Fdqcs9yfeHdKrfu\n",
       "4FTU+2mVVCzCiwecE4JpSWA6rqjyHoHXg0Ga4t/o4GnWc41Xo9GPNKQ8WxFXekhAZUJ9SnEoFFP4\n",
       "7/8vNoI2pGmbttCwreg+j1IVD3bEyGFukOALFGUpnYuh2bz26JwivCg9J017MIUT4LxJNsOadNTT\n",
       "oIIHY1SbpA1/vEYMrqOAG8F3dhtmMFElxtQJwkm0sBIbGyIBU1foPP6aXA4zG9sk/Lf+vr9jYcTR\n",
       "5Ea+kSVGs17PmGqZnuFuj0SzHX/ko6R1gLuGKv0j/gF4aHhdYGZPIQEu5GDXQFQXlHfGlch75FKu\n",
       "DOqdfDf9jts0jhDz4hKz0j9jG5AiMVd07jRBmOL/2HOF8W/ala90IS8/Drc8H89aOHnnFLng9D5I\n",
       "lfb7cNz9T92/OE6EHUmDsMGxkeIyVvSgxCeGa63fuTIYbjEYT6twVA4jTFICVCmCm05rrSIUxAho\n",
       "MSljRAtq4OLwmqhWdRITTOM3SXQIgeEkd4fwgq8nw46jCdkwhBxz7rMJ5JXUtf6wFqUa78YNsBGJ\n",
       "33o3gX/9fiP3Erg5rarzqQFSmxw8WGXiD58dKeRYRiSKU45nti2nnrLhZ1FdQ+yHRyit32jkdpE1\n",
       "RDEN2QdWDVhNogaY6uMX6J+nK565J12ilQ5lmG4pCnLFrNwnYrcWR2Hugcb4d/PZZo86gsjhS53c\n",
       "8lpuvwuCiXKUz5ozjK0YDm4aoF1NxMPVfxkCW0yWFIhY+lF9iktcobuoAyAqVBfs8LsKXWv2/ta4\n",
       "0mEPr0+69W4rTZAAPJKWEfEZ4AAl7yCBAAABXkGaI2xCf/3xAvGAY3kyM36gCBiFdEgT9L0fvGj/\n",
       "ru+bHgI+82/6Hh+gJUd9Dp5MeickKE78UPl7H6//pC8keh/9apNdgx2jc/O4qv0CmRALM8FBax5V\n",
       "D53ADjRzKjRrHvWROmIrus12mPSDTIe5vTmKFE9lWGp0JhsLEDJmj8+GATzQFIW/ZppPrnaSbE3h\n",
       "MAgZ/VYcpY/nTv8M0lnyLqTQHRPPBb254lCgoxIMOfFM0o8DGv8I+wf9UvKwthJFMGqezQl5hAR+\n",
       "RzwZI+LB0yDuGkZJmz93Z2AcwpJcJiNWHJcxsbICsioz0icF8fqTZP7KpG7aOEGSvck291V7IyBk\n",
       "Fc4FOvrmdiua6ejxUfnWbNTeUDKaAmo9SaHJ6uurKK7WR2HXpeqBg+JzpW1atEHhxHXwixQAvofx\n",
       "h9JX1gvVti2VcMp/RVcEjNmwdQcxGUWvQyJ/xl5D3zNzdgaUAAAAWUGeQXiL/wuNebq4yMoL0E7/\n",
       "wI0bCAAHSSQzSizUJbe4AWO82MxgaCbABq7q+6e0oeQ2YgErflvhAx3lzwqeKmY0YNdRCev8//B+\n",
       "wkJM5QwJNtpfGANCbLGZAAAALAGeYmpF/wwjrO97ZXQNS8AIT7vvLHcYIzjexT2XGS6cOz3d8TeK\n",
       "dqQcAKuBAAAAf0GaZ0moQWiZTAhP//3xAA4hyo/1wDIzuy3HuuMzCeysJ/ykTBzr4oR0RKAawQ49\n",
       "o6JNvu0mJV+Q1KD3S1aP5CSyV9WhbjPYfgtffSvw+SUquLerHTOqp/Xo4aiAPdKi/HctbxLbpyvg\n",
       "Do3G/+gY7V/3zRbuOWE5J26gmd8JTYAAAABDQZ6FRREsbwm8QtjlCFHOU7ymmhMeADac7UNePTuX\n",
       "WD0595qJOHbsoi9dVMJtxY04UUraiNu9614uo3WgzX1uJxJIgAAAACwBnqR0Rf8BLjAEACIFFFan\n",
       "04ueayPGmCPykDbAe9lq8pzK/w+B/UTc3muVbwAAACMBnqZqRf8BNfHh+AAh7jX00i2uQ5GQ5mHU\n",
       "ElsjrKzcaJSygAAAAFBBmqlJqEFsmUwUTCf//fECJabmNJuYc/ztEv5JzAD9mkCJNTlj+iExI2Ev\n",
       "w7nlrQo8GcGYFgRUjQqbbtYbXu2bzCyG5vUoc3Vqos4wHGey3wAAAC4BnshqRf8MI7ili57ClTAV\n",
       "3n2oAQoNSXZ1uhmcX91Ce/omY+HZ+lv2quNRbXiYAAAATUGazUnhClJlMCE//fEAG5/0JowH42Vv\n",
       "v/acpppn9OQAP55Tmj9nqjqSG2UaPiBsX/PeCXoyj8NVfpqwcjgXOjxLaa8mKosgEle9IsovAAAA\n",
       "PUGe60U0TG8Jg5IUufzOSOKyGXB4oT9VQAPtywNUr1cXeZAElKTUp2ibEiBCIHtIGqlU7bG3lTZl\n",
       "db6juYEAAAAhAZ8KdEX/BYvsqtiVvMjVegAbD4zm1bhoVLho0kS/ZujhAAAAIgGfDGpF/wWIfuy1\n",
       "HBEQHAAg/+23oQeWuXxntNy52zTVSYEAAABqQZsQSahBaJlMCE///fEANyT6O5Aiol4dQg00gAh2\n",
       "a8rhM/yv/3y/LtbLpCeaePZmbspsCnNLm7ITvDwVaKDhThSP+KUPzOQDz5TCoRyLN2iEEp7OHF+8\n",
       "jFscU94GkY+7uTlyp8EY6h/mmAAAACRBny5FESxfC85OQTwLLJOiYEH0K6RF2S4q1SG5LRrfI/BN\n",
       "4tUAAAAgAZ9PakX/BYiN5GWMAGyqAi6o7AAh1CuRmxDiRPOwb0cAAAA+QZtSSahBbJlMFEwn//3x\n",
       "ABuvdQqRTN8SGPwgBwSdHdVhw+r5i72RvQJMN02HdfU7yd3A32mKRXRzVfYeMYAAAAAiAZ9xakX/\n",
       "DCO4pYueTqeasiWIIjjBAlMwnzPt/J6AXmwV4AAAAHtBm3VJ4QpSZTAhP/3xAA3GUPLVCI5FACKu\n",
       "1APG/nam8RLUKfv4ppkQMuN7rLpb9Fr5Jq6qE7yocP1u8weY/gzS4uYarVpVm8hryUrt5Czzi+y0\n",
       "gel7Qcsp0SOvfJEetxswvv/HjsuQqp7MPk1RKvXvdTtiviNF2sXABDEAAAAtQZ+TRTRMXwvOTkE8\n",
       "CySbhUNm7D0Cgn9p0h3Des+6kIiLPcXb4kZCa5cfMe6XAAAALAGftGpF/wWIgGFP+8eWuAEIGeZa\n",
       "kcxFO07arlkw+Y9IVev/8chm7ii9HYuBAAAASUGbuUmoQWiZTAhP//3xAA4djzIT+kJu7V+2wAcY\n",
       "kokCpzhNrLrGCcKyiDU4R9HA9mjDdzCk6uIGDvFfj8H8DDXOhcU9WN0J4YAAAAA7QZ/XRREsbwmD\n",
       "khS5/M43CojHoHQAFs3hx1SbdVX6m59vzmaGzCU0oiCsePLCG4yJYTnJ7X+twK2m3wYAAAAoAZ/2\n",
       "dEX/BYvsijgivamlQAB/5pXSyJQpdY21Ekhb8/cLpOPvUZnHLwAAAC0Bn/hqRf8FiIBhUB6AKloQ\n",
       "AGxEDPUGtEiYsrd9D1j+xKuN8Qrf9TSw3N0ym6IAAABHQZv8SahBbJlMCE///fEABxCLAk0ATFmj\n",
       "NKyoZK7+0fFMfc5gzQ6L33zUMakUPBLck+/ELHV1uDzH6ObTFZwbyFsHOCYVJaAAAAA5QZ4aRRUs\n",
       "XwvOTkE8CyScQ0h+1dLv2Zd5A9SE/gAlpQpjthtuo16S/PMzwcWMicZI9dsJBC1QOiYxAAAANAGe\n",
       "O2pF/wWIgGFOdWei8EQAacRU9uwcGSjt7ug8vteK2uqXx/swhE8Eq5XOcplFSjdM3/EAAAClQZog\n",
       "SahBbJlMCEf//eEAVqcP/b9d+1EACpOQbXQPRauTYTRVSwezB86XpD9AKqYjgk7tmjznBSQ3cYTr\n",
       "EMfWcFXyC98v+yZSgJaFatyair1GGIeo0YLxEjJjq5yw/7Li/JP241LI5/KdPC5MWgyr7UUxB0cr\n",
       "pxrClsCnv1Ow+OwjSaMWlCqDYktZV/2GtnhEmuhfwjWYBowt+JBT4Ybkrf4VJZ3NAAAAJ0GeXkUV\n",
       "LG8Jg5IUufzQNSMcH6TSBnzBtwMDue6XvMneozx79a5vwQAAADMBnn10Rf8Fi+yKNnskKOrhynBK\n",
       "nI8mwAP5yzRbfIaI40eRDyoY0sI/oQtpSwOYDF5UPHAAAAAqAZ5/akX/BYiONO4AE6Is1hZlTXXe\n",
       "mS+OfxtC0WcWuZfB8AEynpVP/NmBAAAAKkGaYkmoQWyZTBRMI//94QKTkmUOYhK7L0JEFKP2raDC\n",
       "TYENlDWBWJUYwAAAABwBnoFqRf8MI6zqe5TSFnIoeBX1qqbjtt8UFTYxAAAAI0Gag0nhClJlMCEf\n",
       "/eEAALCxBlv9PdYaudVcq7j0hAMkQ4wxAAAAOkGapknhDomUwIR//eEAFiauleiYAbrDcf+VlLfe\n",
       "IvaxUCE6DjSHk/Tljel5kzcoYmJdL+0l4do/upAAAAAoQZ7ERRE8XwvOTSVw/AwAfyv+BH11j212\n",
       "tEyFr1hP5tYBXvT+CEKfgAAAACQBnuVqRf8FiH7tAxrYkAIECHjx0aec8UYKBeJgCpuR6/agfHEA\n",
       "AAAuQZrnSahBaJlMCEf//eEAFh6ReMgAX4EiOqUeCHy1dkqpgQdxvEAp1mRd6xbfGAAAACxBmwpJ\n",
       "4QpSZTAhH/3hABbPWtfZBCyNSvFAFSFrKfr15tXVhzxOZazyXwm44QAAADRBnyhFNExfC85NJaw4\n",
       "yimoAXD2bDNpq/qK+4rpYiobbjhdpdoTfLbNGISFrA7ck1dq01FGAAAAKwGfSWpF/wWIfvvBQ5e8\n",
       "wAmQR3rfhTs+b2e+wNcPM5BSADSJsQbzgFewf4EAAAA6QZtMSahBaJlMFPCP/eEABagJb1qoTidA\n",
       "DiKI9CF+FEHHzUGwk8nndee3c+qvSoVNizrEXm5pKDV29QAAACsBn2tqRf8MI6xBaMucNAAQsvcE\n",
       "hfFtCt22XIfzj/TiRMEkz1oq9c2DMvevAAAAN0GbbUnhClJlMCE//fEAA4wc/924A5RW8xMf0XiM\n",
       "zJPoMreOpeBu/p8rNVvf2GScrYS/5jKXb0EAAACKQZuRSeEOiZTAhH/94QAF19a9C31e47iAb6kf\n",
       "GrZwAy15PLO90FpVKm4SRFdCZ80moF08VDoOcm4A12tAkdJTLeloaFAA2X/IkqwdHV1QSHPlAMcz\n",
       "ZUhikdxAk/VLv5IyR1nGOQLjwExtGXyKiYOwrFQrlA3EsyvXJ4H0+5hHIPSwneKu3/qzmllQAAAA\n",
       "I0Gfr0URPG8Jg5F5yllOhHerFpzdTWSNL3EKHTB0lyB7dgXAAAAAKwGfznRF/wWL6m8puZX/UolU\n",
       "gBLkzT8a/VQ+rAsd5NTrKESerEDx69ZwOD0AAAAvAZ/QakX/BYh9xCr1cXM2ThZsn8gAbB7f20I6\n",
       "P8eanZNOtJbqRToXsenRPFuvCLMAAABbQZvSSahBaJlMCE///fEABr09QDAfOV2t7OxN2dSMk7xT\n",
       "t9UTIn1adYaJHdgyi2hfcWjfSMhbnZeJ4Zopkhidg6YPeBrNjUOrAgNpVuZTlLnF3/FBqCAA7okc\n",
       "aAAAAFNBm/ZJ4QpSZTAhP/3xADb4C466mkLWyEtXn6dr0BfkxoYEAL8JeDzPjCMbRzR+dpI2uic3\n",
       "ME6SEPI7XQWriOs7oPq+mmSU0m4T++dXEoiWBOVB8QAAAClBnhRFNExvCYORiDX5taPYAA7DFMPl\n",
       "cQpS7Y/Tk0YZPXY2GqajC72iLwAAABcBnjN0Rf8Fi/csuJ8PeGWwtZvwXg/Q3QAAAB0BnjVqRf8F\n",
       "iI4sgJCivUAJYT2POm50bv5xbNWkfAAAACtBmjhJqEFomUwU8J/98QAa6LjN6AMBhnzdYuBZUQT8\n",
       "DmGSVSDTFIZVAQv4AAAAFQGeV2pF/wwjrOtQ4jV77FnTOzmVfwAAAF5BmlxJ4QpSZTAhP/3xABut\n",
       "/22nB4qABGBWCLdWnPlcGjPf6NGZ64y2IyUBZcfQNgwfHlFzQ8fmiaz4UuhrtHrAMsLyYjApmuzW\n",
       "WK/D6IYlk3AbI7H3PkqsBDtMcZzAAAAAPkGeekU0TG8Jg5F82BH/BgAH4Mjdkj3fEVuHgaqANIJi\n",
       "p5yMr1VNDVvzhf/+3dxI3mAwH44gs1mV/HKRTB0wAAAALQGemXRF/wWL62zkkC6kISSGwAJzvo3k\n",
       "CtC1taR4iL/xC763RSJVT3Bpcqj0gQAAAC0BnptqRf8FiH79G/SbUEAEAzdL7gLVPmFVVgVMox+E\n",
       "a3S7G5kVwDxhoa58aEAAAABRQZqASahBaJlMCE///fEANW7/kwgB0Cs4sm2dOfhKUOG0nkxOyYo6\n",
       "+JsqbfR+P0TVQcVvAtyiWdxXIIlRBLrpWomQVFdPxNTLUR0zHevssYmBAAAAG0GevkURLG8Jg5GH\n",
       "7J7dhssvYeLBeSAF4+rSQQAAACkBnt10Rf8Fi+trptkeKHFwb8ADTng6Dwnv33rlWoC6QlyLWneG\n",
       "Mih6QAAAABIBnt9qRf8FiIzhCmkad/vlqmkAAABZQZrDSahBbJlMCE///fEAN36OTrZywCLRTyya\n",
       "cetjjEfsXHaaoIjzwY/q1nhlT0ar5WNB5rVIajdOmDXImgT4u76BDe5X358tccFTsWo0D4mcPT80\n",
       "rbjPfWAAAAAlQZ7hRRUsXwvOTT3w4yOCQ7AAXPVQp3qkt2MM1Yy2qHaujUo6KwAAABYBnwJqRf8F\n",
       "iIBwATG6kA/f8J4oyOphAAAAUUGbBUmoQWyZTBRMJ//98QANgQDvCMAFgj3GBFTgBn10HOoc7L2V\n",
       "4ZiPfcYOvmqJdVMKiJ09Ybycrv4Y/GT4lQZX+PRlrmnAR/h6KIXft4PskAAAABQBnyRqRf8MI6yK\n",
       "Ht87KPUf+9fEwAAAAGJBmylJ4QpSZTAhP/3xAA3JJV28+U1QAX4jzHQhS7sp9D2RwiQ8Rjl7e3vW\n",
       "dj4l+K1GD97/8Mt6xKqwb6yUk7cwZhZHZI8V1NsisL3Lhpj2vAUMtmIdkUjNiSDLtYH0mmwyGQAA\n",
       "ACdBn0dFNExvCYORfLPqNUAJkGvdJ4QQGgDzOGp2lYJ5dwxrno+SPtMAAAAhAZ9mdEX/BYvrYfK7\n",
       "YGfMAEHSAXkIrW8uWoKxKUpCLLbXAAAAGwGfaGpF/wWIfvAz6jAB+dGuaO2YtdrM4AGF9gAAAC1B\n",
       "m2xJqEFomUwIR//94QALUwGlgCcW6i5rUfY5hCpIGgNWWS1QZSLYzuhWoWEAAAAbQZ+KRREsXwvO\n",
       "TSFYSbrvm508y4WOo2dQxc2BAAAAHwGfq2pF/wWIfitRYcJABs7lswzUYRXE1WShZ5sHUg0AAAA+\n",
       "QZuuSahBbJlMFEwn//3xAAa8yQBMJoAXIcAK5s/NULGikvBJ9k1idHneoOPoedwxWUBUSsPS8Mg2\n",
       "gWXCPL8AAAAiAZ/NakX/DCOsQZ99iQAgN7RvkvDtINN63sPANQclGsZQcAAAAClBm9FJ4QpSZTAh\n",
       "H/3hAAWrKvMyAR9873/dWorKRgnOr5mfs4HV8xsTIAAAACZBn+9FNExfC85NHytSkAA2eoywROtY\n",
       "yTRQ9k/vRwFYRdz17bIW6wAAACIBnhBqRf8FiH3D7UtBQi3a8dABDhhI0Tw5Vfk0CaAC7jeQAAAA\n",
       "UUGaE0moQWiZTBTwj/3hAALVQMVAMeFqQuIk/5NqyS3pNCjs2Vg0DLv/7cF7/VZsPSbLt/Z5npHE\n",
       "kbyuDF7mP1Fger5ZiKI2wSnim7hA7hWtMgAAAC0BnjJqRf8MI6wugrDBEgBLR7XGfPlzJL7W/UeU\n",
       "b2WWZATUG0azUkHmy3VxeY0AAAAzQZo1SeEKUmUwUsJ//fEAAOf/KQef8Amrb3a0H7KhEC4mSLt1\n",
       "IrVbPQr96xrhPskz0caBAAAAHQGeVGpF/wATzEq2An0whAAGxKUCduzpglhuqNEVAAAAQEGaWEnh\n",
       "DomUwIR//eEAAL6IFo3P2gDz1odBvvSYtIK9XR5kwmbimNqcpO/1Z1/O+tf8RkBWes8icJnszEcy\n",
       "l3QAAAAmQZ52RRU8XwAKPrQIATH9Al47Z2vMea2R/Qc3XZVqQtt01uGele4AAAAgAZ6XakX/AAo4\n",
       "9DYQoATPfQo7YOqnNFkAHykFyAvxvcEAAABKQZqbSahBaJlMCEf//eEAALnrCumIkIXp7vD8MhWC\n",
       "lAFAFsDdnXwvy2lAl2i0Me30PVV7Pp7WS4qzV6d7QWZJC8REbqz1CTSI9QgAAAAVQZ65RREsXwAF\n",
       "HHoZS3T3Jt1StDfuAAAAHwGe2mpF/wACjj1nN/lIAA1NsMEf2t5u8GoiPKWVGZEAAAAgQZrdSahB\n",
       "bJlMFEwj//3hAAAYcQKnZ190B17YMvkWu5EAAAAjAZ78akX/AAFOofZwAftQeXkbdxFAcTsoGPtg\n",
       "QtNKSJkFt4MAAAAwQZr+SeEKUmUwIT/98QAPLZ+DuvX5nAHJ+Lh+8iWSD51prQ+jWJJrrzN4J8dx\n",
       "OCaTAAAAP0GbAknhDomUwIT//fEAAAeSx6ReiPNYsALovHh35t0h9TUOx4uu9lkdh3s5GsxCDv2o\n",
       "yyJgfsDq/qlFT/ksLgAAABRBnyBFETxvAACG+m9MTVYKa9K+4QAAAB8Bn190Rf8AAKg4qj2soZCz\n",
       "EgAhJSyvsBGtWv1OWZGgAAAAGgGfQWpF/wAAVnbtQAQ0JU6IxzWXH+cBHIjRAAAAb0GbRkmoQWiZ\n",
       "TAhH//3hAFPnE2gAKh+9LAFbVjgQdh/PufHSDX8dz4DJD/7vGxgORpdDpypS1ZNH1V1+t/a4sdQw\n",
       "3grKAJ6hB+Qi6O++UGmbsWiRc8/tYC9+tk/9+cotMmPiGhXx16fyDk63F9iFgQAAACxBn2RFESxv\n",
       "A4E4MhM0tkQ/AA8ahsyvPlz5tuUbdnOA8O10wVCjpXstl4/y8AAAACMBn4N0Rf8EZmvym1EAISR7\n",
       "Ugr17WkhoEK6f7KBOdGJBbStgAAAABYBn4VqRf8CSEQf40AZwtyoBGKtRI1ZAAAANUGbh0moQWyZ\n",
       "TAhH//3hAAVlo8o8gADhlt6f74hpQi6pw+E5Jr0pldI4cuhtZ2MVRlabuHwIAAAAQ0GbqUnhClJl\n",
       "MFFSwj/94QAVgQrT6aOjwaAIGQ9GYde+QOw4kO/pQnRFh0t6c9X4shEQtxz0z+HETy0mGYzfRlHj\n",
       "o1MAAAAeAZ/IakX/ASQ+hUWABECTASIV7SCmB59qCoJ8Qg7AAAAAUkGby0nhDomUwUTCP/3hABYW\n",
       "A3zQA5Q42MZ4vdCtD+DpE09L/SzUlijcUdAYpEMnN1Ay8y57Q/52ihL0yO7V51kPlA8HLi7DYRlC\n",
       "XgfF8y4Z5X0AAAAiAZ/qakX/AS3x4fgAII+gOdgq6h0HM7tQaXKqVCnIkfFriwAAAE1Bm+1J4Q8m\n",
       "UwU8I//94QAWHKvCMAnt5OJWWuXyupV67jKpJypzszu6AMgpZdZEzCs7LShyR1TjvbudsO7zWm+p\n",
       "FsntkTyyWO9sPwxHTQAAACYBngxqRf8BLVxSybPRgAICTTN4gBGEXQgX9B/qCmfIQSNxWquDwQAA\n",
       "AENBmg5J4Q8mUwIR//3hAAsM/kAAcbe/HK6vwAw4S/dtXBX50jk0IZcPl0iZZ/cgSZCkKIXNZMci\n",
       "EjjT7mTmw/N0qiHgAAAAREGaL0nhDyZTAhP//fEABxt/1ymdpKYSR2bHoBYie3kToS5L3mSUmXnh\n",
       "A41mfiUdyp1qmxc0W6rexgbsyHg68TMWERjQAAAAa0GaU0nhDyZTAhP//fEANZWTtopAAlp7SkMR\n",
       "91HScIigP+1oQHSXAGKBG9I4GfTKfrunW/dQQ/cuHIq59oXlkpuH1hgk1wYTwB7HOhPZtU+GeLaz\n",
       "fyg9rKcMxUb4S+f/2Av0KOfkbLYZXVtBAAAAMEGecUURPG8Dgu3erRe66td2AAkqoIaIPfTgmgCD\n",
       "YBiuGc9Rq0vmmd6jBH6yEstS4AAAADIBnpB0Rf8ATUuRAAmU50ex9qZyffcGeuxrhph49XylGydL\n",
       "Evbwfh1j0Uva3YON32HruAAAABUBnpJqRf8EeVmBsfTsLik1x8vgOycAAAA9QZqWSahBaJlMCE//\n",
       "/fEANX9bOUASd8WnXkOw6yRARfiIa1kDgr0dbDk+ht/HBg5nahhlCVSxGKRin5temQAAACBBnrRF\n",
       "ESxfBHV6b/PKgIANnqFDEAIMKvQU2oflL+LbwQAAABQBntVqRf8CS9+vLviB7Q6r8n4RcAAAAFZB\n",
       "mtlJqEFsmUwIR//94QAVgCYRapVIWwBD3LEpsZuEKvki0V1zcqZQms9VWV6Tsy9ofUkIcPxOCPYd\n",
       "ms9ssCRQXMux3s/c19udM5AtxYuUB7YDMCLGwAAAAB1BnvdFFSxfAixW2HhUHBRqKM1bjRJglaUg\n",
       "hKPbjQAAACcBnxhqRf8CK+leNwQkAGyqaZatzeW0+FeG2uu/LEwNa+6zBsVxhBwAAABCQZsaSahB\n",
       "bJlMCE///fEADXq2+AEG4Df1DJREDeVbLmmFgH6VIz5wPGA+bAItH0lYFhBy28q1aqBz5tuiai2p\n",
       "eve0AAAASEGbPknhClJlMCE//fEADcklm9AlwEFJGPCtJX5a+o9ui77WcyST2O8nNr+sMIKsuj77\n",
       "rPP6W12/AHMgVzlI1ZUaJGMWPBWPTQAAADBBn1xFNExvAbjJhCg6MmK4ABB6puPRwFWEPnSMptgF\n",
       "jAFNLQQwjaWeHPy3HnSQexEAAAAiAZ97dEX/AipKcytEl16zABDsjJNB3WnAuG1DtL1MSEhUEQAA\n",
       "ACQBn31qRf8CK+jwYLXfcRABDixnidKKdNOMroe0EUcgiEGiMPEAAABGQZthSahBaJlMCE///fEA\n",
       "BuaZUK3qHzHgBto1yIfVFB0J6OLmtZlch/WriqEHmuTxU9Aoz812A2IB1K9CKVWl7PRWbwxGwAAA\n",
       "AB1Bn59FESxfAiyttRUICf+wN4r0WJdzuxcHjTokLQAAACwBn6BqRf8CK+i67NeQgA+dDbf7KsiX\n",
       "tot71551c6AYU6j9wjmdBryl02k50wAAAEhBm6NJqEFsmUwUTCf//fEAA4mhsgFAC5LOIu1+TlND\n",
       "kD9fculOKBFeVL99CYLWX40w8ExYeEJ+EfH0r5RPUy8qO8u7k8TuR+kAAAAdAZ/CakX/AiytpZ0Z\n",
       "HSKG0IhhpZ9lB5bOBuvvFEEAAABdQZvHSeEKUmUwIT/98QADiEV3PgERLQljw7S3cdesN+iZyVcf\n",
       "4aTfTPsFl/dso0Z6xnCni5iMBlEibo+v/gQ3sAXz7v5vpSR8f7JkpmSKAcoOYOXkrseX9MjpWKmB\n",
       "AAAAKEGf5UU0TG8BuMl04TG+bXOl8zAmeyWq0AJZaY/sv/t+AKAWkTop0oAAAAAkAZ4EdEX/AipJ\n",
       "l0UcCgyADZ5tkern+CRSiTrU8bX7jn3mq6SBAAAALAGeBmpF/wIr6JN2kaoFRIATUjWK42ov11S0\n",
       "stkXGQizgU9jsFSbKeYBN/lnAAAAmEGaC0moQWiZTAhP//3xADVu/PRDgAcnTBP2FzkV42IhCRLj\n",
       "+k+rOHOS3P2XcSkM485BGU2Wp3vAmp1URVFqQ5tncI9asVUIjCQX4EfpyMQXoqlAOMgxi+VdD7jj\n",
       "1Qrwwj8JUWcVPMUiwWF0TRbH7mzknJ0UoNRWLBhvrHI5K4PKM8ABVAnrj2I+PvwaOj/z4rVkd9Z8\n",
       "/qQdAAAAH0GeKUURLG8Dgu3dK7CyP5+i5aThp6JNqWnmxlidGQQAAAApAZ5IdEX/AipJZsJ+YwAl\n",
       "e+SayrFzhx1/Fe0lMKtsvtY2xpdteIkB/4EAAAAnAZ5KakX/BHEZ3IAE50y6tVKdYNPfYgnU7wUR\n",
       "QSHfhkRK/fPUsMqBAAAAJUGaTUmoQWyZTBRMJ//98QAaSLjN6AL5HGCvQykyg3GExiAt7TUAAAAc\n",
       "AZ5sakX/AjhEwcuDrwhksWZXvAtPhWUhTK7lXQAAAEBBmnFJ4QpSZTAhP/3xAA12bAPdC4YABdQL\n",
       "m0yd2BCrL/aupCqlBH/krFnNMvGO/9FVa/1ahjRvWUxbcAeoSOIYAAAALEGej0U0TG8A6EWJAAiA\n",
       "JGiFSybP781vTpt/BgEZqLoZDs2K4NmCf76wq07cAAAAGwGernRF/wEmHL1GikagCNAeAImHvQy3\n",
       "3uzKgQAAAB8BnrBqRf8BI7tACAEB6sZtcuULMZRNy2FQaZSjXTE4AAAAWUGatEmoQWiZTAhH//3h\n",
       "ABY/RRAwj6kKATSD4vF3rHY87HYBC71sgTbd/SZmNAA9+2CEuoZjcajFWcHd1lOEZlgC64LYs5Q4\n",
       "MpE7aA/lNZjpA5A9Mf+q3bOAAAAAJkGe0kURLF8BLfHh+AAh5Fhlx6Wbef/RsUqEUSsiQdZujZJ5\n",
       "BWidAAAALQGe82pF/wEqCOnE2j+C8ymAegA92wZ+4d7JOhOnZE5EO5yNE6JFDtU3nlKV6QAAAC5B\n",
       "mvZJqEFsmUwUTCf//fEADd+Z+EWyC9nbzeATG98DiMcyZZZ5bwxAJKSyjU6lAAAAJQGfFWpF/wEt\n",
       "XRALoABDga/UU5AAFAap5OPMdOnIpgdnXZgwm4QAAABFQZsZSeEKUmUwIR/94QAFraO5ryAKOONj\n",
       "DNqaNZw/yWlpfZmFxLsZU0AoOcFl0Gtbl1DX4d9siEbnn4bL7+l/FL56WyuMAAAALEGfN0U0TF8A\n",
       "TXsOoOecOwAEI6O5J03gW2KA/gISZuMVp2cwYaCe8JmsabW7AAAAIAGfWGpF/wBNfGmC0+tAAr6q\n",
       "/XG+0RKHIZUi0HejTS9wAAAATEGbW0moQWiZTBTwj/3hAAWrpFtFAY1Y5/NF/70G/RMxc4HPqq1r\n",
       "dA17bU6ScuXdJPRgjO0ifjcWCErXTyE3vM61MLf7NexsiLPiVUAAAAAmAZ96akX/AE0o17BADdEH\n",
       "WI7vw3J357RoY6UcqwJ+x96UXrGeyrEAAABDQZt+SeEKUmUwIR/94QAC1ZV4RgDlci8z63cX02ez\n",
       "NGpPebHVucxw+xjtxrey3MJVopbGCk+ITfUAMqbxfP9pOeGbyAAAABxBn5xFNExfACar04B4BoQw\n",
       "PEe0aJPKReSfXIrBAAAAIQGfvWpF/wAT7MYfgAJyNcNZDhIkgC72xtM+DbBjI/fHgQAAAElBm6BJ\n",
       "qEFomUwU8I/94QABc8q6v7EtI79gBFRhSAVpmla72/ZThlGr74UjBmpadzLemKImUcGRMahVWsm9\n",
       "xRMyuZIUpXbezYFTAAAAIwGf32pF/wAT2XNIAHDvlXfrrvwQMnU/k8DytSi5rJdvgDHhAAAAb0Gb\n",
       "w0nhClJlMCEf/eEAAL/6NZ840hHqAbZUKAXN3p626R25gLujafIjEm4ORHu7GobGEaRsHuNzho60\n",
       "Jh1BRsu1VumJk3JzXMjnUPNEY/iDinoJgFHou11KcL8qZFdbHFEt5jx+RGKlQA27P5XZgAAAADhB\n",
       "n+FFNExfABLirXE/12yTwAgxZXsGcQ2CVkBzw6mO7wggcK3sMH05naW1x97/7+oNoLRju5v+MQAA\n",
       "ACYBngJqRf8AEt8p6eVkcoANAumWvvKL+n0wThMpeYUrzSN/5682HwAAADRBmgVJqEFomUwU8f/8\n",
       "hAFE+VEXS2MOKACKnzxCzrhkwyE/c6yVUCsQkTHXzL7AOf/+jSmAAAAAKwGeJGpF/wRwZvtCPYAP\n",
       "2kRiaESO0Sb1HgRbA53kxmBZ+lu5OXxgV7l12cwAAAAiQZomSeEKUmUwIR/94QAqEh4IQPmioZFv\n",
       "BpmnIUTW9P5vBwAAABxBmkdJ4Q6JlMCEf/3hACoG1L6qMZELzo7TZAtoAAAAHEGaaEnhDyZTAhH/\n",
       "/eEABUFGM1Gm9GxK6SdU9YEAAAA9QZqKSeEPJlMFETwn//3xAA2JTYQUAAnHNvPMo7l1yaAZg7Lr\n",
       "fUnjsg8kASnf1FrJBBeuW+hz5DcZpxyUEAAAACUBnqlqRf8BJeyKqBgA/amCd/cumBZeoXo2D0eZ\n",
       "og/lGLj520OjAAAAOUGarEnhDyZTBTwn//3xAA18XHJwAHFnOBvekX9c0yTknnsES04D7xrRW/I/\n",
       "3P7TPuiQ2i9+mvsg4QAAACMBnstqRf8BJEU2utEAIDG244J3S/RYwHiR+hUL0iVCuv+nywAAAFlB\n",
       "mtBJ4Q8mUwIT//3xAA12mhSMY6yQBSgy7PAKye1e9BVsl3ID6BYkTUvJVZLyD6XgcYM3HM2J0P8g\n",
       "vtK7PVfI83HBI+9/nEQgaZq++7bxez/tDIeIW+QpIQAAADFBnu5FETxvAOfOC2/EpZAAISJq3V2c\n",
       "QYoebVEbhTD2fF/SAXUyTTc0rXF+UgmDXxi0AAAAJwGfDXRF/wEuGjpXWqxUxAB9pFQE7tzPkpCC\n",
       "69yZUY/6eO2q0vqtLwAAACcBnw9qRf8BLV2dUkAH85Oigu0tC2Ydj9iFUH4RewRI8W4SU7ySTcEA\n",
       "AABYQZsUSahBaJlMCE///fEAM+7/kwgBXuZ6KaPmwUHWoIsBzKhB1e1OfxlkCVEAhr+XNyZRMMRA\n",
       "8NlYP7PvRGHx6sgeL/12sDoLPr7zX92YNvIWeSdt5+YJgwAAADBBnzJFESxvA20khI3TAbJtwAEA\n",
       "Wv7/74W8gKAOwKoOQZAHYvPBomnd2R+lNoF6MXAAAAAqAZ9RdEX/AEpeouZbkAIN2KYsCk40OhLT\n",
       "cvq7trOLG678xfDnzMnxwRBxAAAAFAGfU2pF/wRX0UEyYDXgCatniMuBAAAAJ0GbV0moQWyZTAhH\n",
       "//3hAFPo1CmLlUVLx/J87G33SEtgnh1qIqj1tQAAACVBn3VFFSxfBHVe9TeC9gAJ0UBUAEsDe0va\n",
       "0qAFAw2wFWNzg3/IAAAAEwGflmpF/wI4RB/jQloi5SrzYl4AAAA6QZuZSahBbJlMFEwn//3xAA0v\n",
       "vt1tcANzOEeHaJWujqn3LnkFK8pInveNyt6B92XYl1/IDuw99QAeYQAAABYBn7hqRf8BHfR0kR3f\n",
       "F4WCwy6oc03aAAAAQUGbu0nhClJlMFLCf/3xAA2NcYm3AA4MgnnIrXsrC/PPiVBc5viVwp4RpZhg\n",
       "yAnpyTRTivdJXWAJRkJj+/TuPJoQAAAAHgGf2mpF/wEdeEgAGzyWZNFdPFbVeDoYacXtr4UeMQAA\n",
       "AFJBm99J4Q6JlMCEf/3hACs8nw7NVX+WPLkiSc5gBxP+0/9JZ6IQLpVW5WR+T6AKSOYVmCgrJF9N\n",
       "0ixdk+QSvRnWwfgQe1AL0FaWzuuPdUXOziUjAAAAK0Gf/UUVPG8A580dEEE6cAB1hhoTGV8w2mOy\n",
       "LKap7w/o+IUsL8AeZeyWcZkAAAAYAZ4cdEX/ASRTrJAAnIz3bhebCBr0CMNnAAAAHwGeHmpF/wCQ\n",
       "tednSMX9gA2m5K+ZfxUorEqDM2WwvIAAAAB/QZoCSahBaJlMCEf//eEAUUQMqwBycnXKeck6p74G\n",
       "QKH0foRGecStnPMV6XOT7NowS+2mktJQXQf/xhLqJEeJMvl7yozJYRlf1ktTfKzNUdJkSUWUIqoW\n",
       "EJegsuO4lhZd7xWtpv4Npqjuocoj13MOVKjuNxT9mnv9xwT3LiZbQQAAABpBniBFESxfBFfQuGRV\n",
       "kYw+A9BmJ4dP5aKjwAAAACYBnkFqRf8EVeEgAGzzc1hZlTXXf+LyyAgmgt8S4WS8uOAWZhktqQAA\n",
       "AEpBmkRJqEFsmUwUTCP//eEAKcwGVYB90h0koDGyxrBGUfBI8Za4H7M3KDvAJyKjLGSV9HpAWXqE\n",
       "FCTvNa4DmiuZzw6DDQKXHIYkIQAAABkBnmNqRf8COEQf4vIGXxfKyQiXIAozk3SgAAAAPkGaZknh\n",
       "ClJlMFLCP/3hABUGkCDwgAjI0KaDJecSiJ5DryoWEVcfxE538UysQSyYtB2CPMXXTC5SNiRV9PoO\n",
       "AAAAHQGehWpF/wEd8p5Rd1979WVAJuGZiX/KNkKoJwNxAAAARkGaiEnhDomUwUTCf/3xAA3e/xMZ\n",
       "7x+KcAKlI8GnJGUcKYOW2nlkTfB0S+yuskazOz6iNc3kcGkeQ2EK0GpLeaagorD+BrAAAAAgAZ6n\n",
       "akX/AR5MgsqABECh23m4TfJp3qB3ElaVdz7qdrEAAABJQZqrSeEPJlMCEf/94QAVjKvCMA3Ujrlr\n",
       "4kSVK6JGgBAr3g+8Bje4nke7fjXCTtvjr+mfi+h7gGuTWKkrWz2dR4zU0Mxr73S4sAAAACdBnslF\n",
       "ETxfASVwCABc83NYYuZIQ6P75yofGYknifsgHQDxr7fr2TcAAAAjAZ7qakX/ASVcUsmz0YACAk0W\n",
       "FjCgi60PgRh4TLSL49qKissAAAA/QZrtSahBaJlMFPCf/fEADNluQsfTV2hmAtiAOi1ivdThswhD\n",
       "GKE5U99X7yMvFHw4gQr6Py3oA0LQbyR2ROfBAAAAJgGfDGpF/wEVXsI4IIuYgAiAwCdTHPRAhJ3K\n",
       "fDmWtu0SSbveLcPhAAAAQkGbEEnhClJlMCE//fEAA3RANUcAI1VO9bBfZaPC9MUvsrEYxFO8K4N4\n",
       "P74TWekxmBXD3pwv//nsFzSSLtGwf1ARUwAAACZBny5FNExfAEuAs4AEylwA4EAy1/DcJxBKR7DS\n",
       "tEeKZctG5Ih34AAAACUBn09qRf8Alq6BzEgAIS4uXVMGAcs0wt6opIH74hHJMBFUosd7AAAAS0Gb\n",
       "UkmoQWiZTBTwn/3xAAN2bfRLAAA6H8RfBR2ZmlEIfb3S8i1E/f8mT74hNWRP6rGM2puaYpSlcqqm\n",
       "CzH/r6OoA2Kd6gKPEtrGgAAAAB8Bn3FqRf8AS14SAAbOKSPD4yW+fjz603oH7PC81848AAAAakGb\n",
       "dknhClJlMCE//fEAA4djyRlYAF9g2KSTHUfhnuizfChngtdAOcvfZfWYoXh+maVr26/xhrdJ+hKV\n",
       "UD6Omajo+zWK5dfnsNdJ2o5yXisZv1Wni806Y8XVAxVMv5TM6dRzxJqz04bwvNMAAAAvQZ+URTRM\n",
       "bwA8snYF+K2JwAOagu9wWAOFj2+4aLBJ5fJfwohsYbSu7so1o5fp3lUAAAAkAZ+zdEX/AE2UWkAF\n",
       "gXyNpqtTYBR06KSj3mZ4z/DEr7wlU9S9AAAAHwGftWpF/wAmq7b1jABs4zU7XEnG4KL4Oi+iPYfG\n",
       "F5AAAABUQZu6SahBaJlMCE///fEAM+C4hT5CrPAETHR7Eu5G08gSAnHLZUXVjpUGQvcJh63uwj3w\n",
       "+X5R3o/UXrbWbUhU++YNENLhg6lHKShfnAmGxH6TEPriAAAAGUGf2EURLG8DbSR2wRRBAr+Iod8D\n",
       "nOixkiMAAAAbAZ/3dEX/ABPvTDINdsAE5GfhG2lwdknDUp/AAAAAEgGf+WpF/wRX0RKEdLYygf5f\n",
       "wAAAACpBm/1JqEFsmUwIT//98QAz/1tSEAct4Pivv/OPktKfHaxnScGI4iAg5+UAAAAaQZ4bRRUs\n",
       "XwRVem/zvQ/2huq2cHN0zJB0640AAAATAZ48akX/Ajvfr5l/hedA2nlV2wAAAExBmj9JqEFsmUwU\n",
       "TCf//fEAGaplTPIA1rdzObaeRN1PqAERfCasAlbzUy++ByEkHhsx7P2ZgzsUzdAGcHCFw7K6HUo1\n",
       "jm9gtKYwHLNhAAAAGQGeXmpF/wEd8p5OPzDyhvdGczYc4SeSUoAAAABHQZpCSeEKUmUwIT/98QAN\n",
       "eWLTvACDEAIV+XIFKU2MSGgk8z8ICTg2pm/uoWhHKjocXaRDFNCjf+fCKfRfI+NvRq+Uv5+nwHEA\n",
       "AAAiQZ5gRTRMXwEl7DpB6V0AIM6rpOxKcty26ZHTDPgFX6yZgAAAAB4BnoFqRf8BJfAMf06AEFbD\n",
       "aQSLyj6LhsisTFf8mssAAAArQZqGSahBaJlMCE///fEADXxcaqAKh5aVjPLItVTrWTX/gnxceR+n\n",
       "h02ggQAAAChBnqRFESxvAOfJ3RBRybcexQAg3wrDc18QzqxDjU9c7soQVAklwr3AAAAAIwGew3RF\n",
       "/wElIQEDDrwAAhF+RAia0l0ZWK3PO6RNfxuN7mtlAAAAHQGexWpF/wCSI1VQAGztJl0BS5vVoLfd\n",
       "DXLbyqtRAAAAVUGaykmoQWyZTAhP//3xAAN0Cj4dn6MAF+I9DJAdXbs5X5WM+v4S6i4scXjdhWI+\n",
       "DNgZBzMd5r9iUu07XfHhpg8D2h43BMCiDPD/al6Q7LMCf/wPeYAAAAAqQZ7oRRUsbwA7HdDoAEyt\n",
       "IeiKDW858ZqYbLk2NI5FqqRPVkwXJrKlik5ZAAAAIQGfB3RF/wBLjeNACDfjpdr+PBPH2njtEgIP\n",
       "JH5as7eHwAAAACABnwlqRf8ASxGdyABASaZwhgN/WDzODkUwrHUESnc4gQAAAFBBmw5JqEFsmUwI\n",
       "T//98QADjemn5nSFXtgBQ4Rx1K+Fv8OBaqiiLEsR8iZdMuPCNjb9+ZnWfu/d2350UzABtPVkArsf\n",
       "6YO0L/cBiVG6qIqz4QAAADBBnyxFFSxvADyoi/U7gAmhdAF2TJ5AFcOfzlckb4QKeyNi7kOz/B5j\n",
       "TudvOLlDvUEAAAAUAZ9LdEX/AEso6HS/0STFiFiaUpkAAAArAZ9NakX/AE1V7o0TSACdFaK1Oi5r\n",
       "ffgzd8x+RbeoN/8ArHrZQc6fjrpLgAAAADpBm1BJqEFsmUwUTCf//fEAAOHY/g3AHKKvixpTq3A8\n",
       "xW8KytGmane8yNCVKmju9DmCeLN91OQIwVfAAAAAKgGfb2pF/wATV1MgA2nJUduwJ6CNWL4GWQQR\n",
       "Pites2ut1pntqvgVtBI2fwAAAFdBm3RJ4QpSZTAhH/3hAAFzYB2c2EHbmUWAOoWafTIO94+t8IlK\n",
       "FslM7dMY3x4gJGpnvhI5iBs/7LT5+KkWPXdREUmt/11RY0WOLyVEl9KdpebrD/hv9qQAAAA8QZ+S\n",
       "RTRMbwAPi7C3gAE6LTHoB4QwxlKQbKupkVwWTuWulKo1UkXDDuH48vLpi5byHUidDbUeGJPtyyzg\n",
       "AAAAHQGfsXRF/wATWm1I9wxX6AAGx29myASwQO9VFCElAAAALQGfs2pF/wAT4YxrWhHCgUjoAEQq\n",
       "dhdZe0YUPoh5f2f284vK3GZJu3qtz95ScQAAAE9Bm7ZJqEFomUwU8J/98QAz71S6gCDx3jjuLSqt\n",
       "z34ksUifRqUQLlDoDd1cIJD61tabBIOpP3X+Cumi0SUan4IabQruSQvYRjhONUQevbuBAAAAIwGf\n",
       "1WpF/wRRGdyABOh/24YUM7cR3abEUnzPxpdfaHX+3fQMAAAAI0Gb2EnhClJlMFLCf/3xABm0UuWa\n",
       "YgDk3fGM26bq0bGM029AAAAAEQGf92pF/wIoRMEwRX7nwWobAAAAHkGb+UnhDomUwIv/+lgAAoAD\n",
       "gZN4UW/jXV2Jxv1bjAAAHZFliIQAL//+9q78yytHC5UuHVl7s1Hy6Ely/YgwfWgAAAMAANVp5QZS\n",
       "k1YjvoAAHkhp7YSCZMADZ7nbgh+0zd+YWI+SjYqvBMIP0IdiDXqG5Ooes+ziHxAuagiXT/Vy6wPg\n",
       "54eaSvUSg0q9ykIde3OUM7yeJV6kKs82idiBSa31hPaN/2CLVyQfNheKj8wXsiShX+HiGq0GnMhR\n",
       "WV1B4yOz6RhOQPIOY0fh5UcR7zQOBpyaUBNl58eBHySBCcJePtWyCOMahQIKS2tQiD9eipkiVz8w\n",
       "alkvZeeUtctQ9cPzIu1G7UFyWIOIM9k3U7YwQPmU3gEQKG/4IJwHQcNIcAmabfXXnTX/i+FU97F8\n",
       "HebkIq+xhrMZVoYUapBYaxRa6+veZ9QvKL79+vVnLzbonA8RMxJ4oy/NY6hizPWhkwOlkZp2BBvC\n",
       "5wYbWnCIFoBXXeY9DSBFDxtr2vMl8el4ULAN5WIKaZx/yXZN/2klvH8i2lw8Bq0SWs/ebN+XJycL\n",
       "Pi8u0RlIPfaEFc3ugMKCOu6xrEHLmHs04Uoieq0o++G6llQlv9StdGwntqNpoF7dpU2cMKZWj+yd\n",
       "F9J51VGbY+wUVlqg+GlpvnAECB1fI+ewA5npXHCapNsqaJ9ITohwBYBqvWBFwAXuEmRa1M+g+ijZ\n",
       "aLMA+ryi2fkvmAYVB3MKOdh4sI77PUXlZO/qgauv7n6Chzy+vPlNXm2NxXX3hfOj9jnCVMXzZ8J5\n",
       "WzvlVsxZRFf5bedxqtPSEDDw77aXgexZeLAvXiUlyc3hBEPmCZwwJfKPoIf2xIXqSWPfz7hV8Gp5\n",
       "IT0Hy9y0qBYwNTYGIIqa0RdcGCQ1G1PR3DbEHLfNp7YB9dFP1pikIjch2lNMIjhTcP8c61k3uNO+\n",
       "MLGuTwqlR/an8HcvaX99ppmGaTmjAoeAgObmsVc2tPsCdHKh0ysRCo4c9S+KnQKkp9dxMBii32qx\n",
       "UFCiaSdeMuOw2rQWmKtrRCt5ajcIEgdOqg/dMTtCxhKNhmBSZNlCgefW3YKYL+Ml5r93sQPcSz7x\n",
       "8kJKIvjR6fqm+X2ow/vbOoEawyNe/4iFbEX9AmkKzAmAHjkJm3fJOTzrtNQJ8HmqampD6Ho1jW5k\n",
       "a5YzVBpsEG3Wi+jFyp0CCZ1UjR2h1Y0nn45OZ29THRe5wd/UH8ESndJ8JOEUBy02yGCLJi30e2RU\n",
       "TmeiokLEHOZbwGmPiaf9l+NHAh8qZUbCQs+nO6r60bHORM3wF7lyG0OurlPA240zBK+lSxEfMuRS\n",
       "+qjN1PQxQs0ocYi45lo3KFzGodHkk07DXGGchFSdmqjxQW/K1jCWNlVlhp9mWX2q3HZ0CqM/PrY6\n",
       "piYdiuiVZL2x7SFFKJiNQsHasJDKAmn/+XkcoOKoov5gOQDFdRPXuioW2U4WkN37adgHzbrLIS4k\n",
       "7s2YG3hT4eSiw0tOMZOjRJAWc37WR5wc735I936EtYAUu+g2YGvDazkhLopGxF3ZsVBD08EpHLv0\n",
       "brie8yqou0zARcn9TWJOhtyt3DIBrTtaar0/ApO02lRp3h5RCieYXaTpjWVsNG7g1YXjXtxa4E6o\n",
       "7C8UJ+PBo+CbmYCGemFlhfnJ5XM0TEIgyz3obx7/ESQ5XNv8Bk+ZBAV5e+9DmZqvhhbzow+V5rrL\n",
       "3Mh4tR1hUFFMt2RVDk/Mgv4/RSPGH6PWBD+obB1lF1TQk0Z3LdkfKQCrUSk4L2ySX4WeaRETrqYe\n",
       "j3+xnNcGrnjBoI6m1iHAylFjHD2+IcBBzYhlFUbIHHDgV8TG8fWlGWUbhQhVY+YOUsIsm6O+Lco6\n",
       "6qd+nV77Pkfw/FDbNzRrIjsxGOTZFOA2g6O+W0gXV3awkg5xxiMyS618ntgwAOt54pNBUfdiPrEJ\n",
       "xUHPl4CXx1b1ri/smRnPkHKyAt+aYx76MyrbJ/MxL0aNDKoNZG0QcJotIHvXQyuFhduBb5UkLiTH\n",
       "PP8rsIRD8rpWdZYfXn8p8hpORgQOFfdszKKSV38xETOQhGqnlYKSl8wr7murZg77uRDTu+AmXH5q\n",
       "2+iDBDwD+ynEFHgPivaqT+j5zuPu2+EHAhaa42mlYDzNDdnnHewTnbTjqfP8/83dZT9I20icMpkn\n",
       "BvEG46coojL8yJow3pGR2g6IUlqPyYs4RLg6ccvZgIFwF9FkJ56ZCQkCyrqaaF2aDUNPeBCDK48l\n",
       "yWUrwmZxqX9MmysURPwZlRTBMFm7rz5sJV5nlscjc588cBj5vp3gXs902npsWIICiK5QKOlAzvtC\n",
       "SIF5akUx5f0mvSZ6f1NR1mQGhUam5OiWcPdkAutgOMDCMFUpWM3kid+UN0sPV8Dm5IHFMcr5YxVD\n",
       "cNoNB8csf8rY79TD/hNHtFXQefxE/20tRy5V/kPy0xqOAPeCTT5z9JOeHashhci976672uWLpQm7\n",
       "mXM7n0aOOLBFgaFtxIduzDEdWd4srvD5Trcpcs0nF4vNDrIsvFZyPXen538gceVJ+zA9WwdPJBBh\n",
       "gop18ZKFAo7T/0LORynhyGKJcleau7ZXsrkI185bUyQ0KzFliE0rm8rJUml/hlku52KqvenYUdrV\n",
       "gIA0KFlDIew6fttBQyiJ+ArIBD64Wdayw2Ps7Yhd2MozBw9y5cAzznLKFdfyAyp425SNGgwb0iOq\n",
       "+CmCGKPcrLeo4SlDBAkS7WV007rzH//myZe/TmcxHOpScPj4aZ9as0jbbVBSuDzI/dikVu8eGzn4\n",
       "w+PmRabpmhfnD+Is2DlSnjg39AqqipeAXkJ2HVKCWzAOsEIbttrK37mMl9fdEkO+dW7MUlTKft7r\n",
       "XaZ86Ca1n+lHjhDB2ef+ZAym+VKywPSD7T/bPCHOgKjgEXnvcI9ykyKyjQjih9wybdIll7OCREab\n",
       "q4nhHm+bMWmPMv3sSb7BKQaNgNOFcnoO+fb0ScrnL3p/Uvy8S0TMpOW1XQ0WxR3+N+md9ywIVDjw\n",
       "8DKunBQJj80IRcohFYUSaWsOA7gWEYvngpjJdLnPKUTmH0Tsi3RqE5CeNoR3EeECLBzUPsRB2atd\n",
       "djU2mVk3CV7qtrI73E1CpD+0lvYWEf85pZSFgtBCzqcPjEzD1b86R4BVhjs6N1LCaQHPYPREy1w3\n",
       "awHf4L9gHCsTpKo4YbfcV+ysXI+w+1HgBJzACv+fu0NWFYjhG8cc9Ew9YI51NTM24WGVsUzz8+Jx\n",
       "fHsjUmC/OpL3yjrXwE7RbWMgickX6LqPGI26HOMmshtabCHfbGfv6+8HUD/Hl24jT0z+EZ+p/bA9\n",
       "/OzIhV1xTUZroHoFYPqnYR+Nv5lK7lDsEHrh/nozdL85SJYEhfVUEyW1Ytl0TiBeGuoOZDtbbPEN\n",
       "OBbKa0gu2Zxxw8POHZymYqS623D3+7UILnG/LDXmr2PBMO6E7l2IvenH8xGD0jdg2f/c/v2d6vij\n",
       "O/5uW3p2QzsCKOQgZwMU8M0nPyyYvZVNeryKNLqp/35aUZKMtE2Oj6y2lR7SEaTN/Hfg4Mzf208j\n",
       "RH4Ym7gAu5mtNN5qZd//irxSdG2S5OsqQAwQte18/V/6PIbwBi9inTitd8oSynOEp69q87JzP2QY\n",
       "CgAQC7Z4sPf1ZQmI8R+3BW/jgP0GjhcvpuSPj60/LcdO7bxG4vGt2WLZ6zH/WhFvM8QotO4IgcvF\n",
       "SEWQ/cmJUhVwCqpevga6gmGbo57KKFsC3lN0O+KsINiq1GlRO5CWCDo4FKvEuA0cfYeWrWQJssC0\n",
       "s6j3S+SuZML6zmnaDw6hsi6GYTTYJfYNyZJok2sOVLXjCU+DtXKmBqzSXnwbnP3SpS3L5g5pKlSJ\n",
       "ktZN2RFwaC6wgYZYszqmMbdA8eE9b+BMuLZY7oafkx31yug2Ltu7r0mPWik4GoiN+sDv9HsP9/Pc\n",
       "OWMWCpaoJNFBNv/Czfdg0TIlBgM6BlI/MuDMvrGIWBj3R85ZLl5ybXbW2OOK0dHzDLZDlOhLtTRu\n",
       "8tHT55JO2seYMwfeBb6P4eP+nfuZh9aQz89PqnxJBDI3cozvSdSw/5uhZY8ZXvHmifaYH6Y4P7yH\n",
       "xlPLLsdPVqA4KV/LFPdlKAGZaTxqPRXqIjtp552i8WtyiOHc4GFeyt7K+rLzlIt8gNzvlDypwqJO\n",
       "Z8UNRLkBXYYHXrkKmcLKH4Qv/WPBSc/AKUQgWzujnJrn3FaaM3AQCV/1bEq9ycPniSlMsuEbzgv4\n",
       "6O+dNjz760kBQkbWD//7lllXIfFONuy5qVUCCi4tkW2Poc+t+3PPq4nVfBfDwkrqJGO9yOGdtUsP\n",
       "LIr/iD7NxH8cmdCAg39BrLvDJJPS03UXKZoLGX3PCWjQUGUWtdcWc1yV6ZM2UcJ+UMHKeSM8O2mf\n",
       "DVxevOR06FQCkFlCB6MkHUKx0lNgGKz5dB24WO4Dk36gy3mWfeh1ykKfIrYDL1k2qQjwUo1nUfle\n",
       "0FLHPL8UdsqhJiWSCvXsJ5Eiss7wIC9vEARjJ/StNqnba+AD+Dl8XJ+URONG5Vc078UE+nEb2zoE\n",
       "wzHaIwYDhwK5w54RFrWTOE2U5u4yk2gVFJo/qAEqKPUwKKo+CzHJVjQNTXwtP42OUZg4nqHmSbOw\n",
       "YUBKiQmYxIHil/dlclcWsrXpte32sND2fXOKVJ2FkLs9/WY1+pYUwXmzB1PDkJOxhqL91sxzFnqw\n",
       "ww13fA76xYosmAM/2op0AiejiKZbb0l2Pu+BH3yrDzonTAKoRMu0NFRRaO35oziCQI5Rxzhk7d6q\n",
       "mofL04tjYgI08IH5e509iLVADe3sUVm0S/bwpu9CGVEF3THY/8Rtg7UBD7HzN1BSD6JHx34X6rSt\n",
       "vOH65sjvysHy9VO11+OiJb5dY4cEhOEOHBq7Fy2XgNP3HJc7Y3JBJjTn27LZbx8YOR7Lm0327PPb\n",
       "1rSakJqcFveAk/gVm02KZLZgWRp+QOu+yIAWIb3j/mVVA68e9qo2mHUoSWj1fnHluVv1RdmBhrHw\n",
       "YL7PjYKVg6BOnUvnJVSdPT6k5bu6zQ10DH/LBUrxdftjBPSoZ2zheabKx6jUJvhFbokh6LkVhxxU\n",
       "9KeKFGnN5lpHpe+l9jtcd/x55jx8nXuSbqf3Z+iUFVw8uqi0E+EkHC2bTxMQU8rPuLnv0Na7ryzM\n",
       "P+GkPPxHp626qAkR2lYleQ3y55bcCsEpUa9KfytyjzlPlweZPia2yCayW0qQSPt2bdya0u6nvjvi\n",
       "vQxoKetacz+0kCRE6Q/DXTId9uv1RQpB/7xTnqRJuGyzYwc+w/8hGZZWhwL/E7A9NYF9JZ681M/+\n",
       "XpaV5XYVw62fujwIb9WZHuNU5nCjFrYN7V0vzWMrWu9P8EeDEQKc2HlJ2JTNq7OTJ+zI4IjeU777\n",
       "eW54g2lCBsWiv/LoG1PKvZq3zak9PV7vzu9ggJpunGgPEvWc1faao+guJZQLMo3ZhZqdpdWFRguP\n",
       "aYUsvVQnm+bzhUAqns+n8htDusDloMMMynTSzoP0iQuCdoZpyUghWp0M8cnqMv77KerFyxva3Msd\n",
       "fDs9IbeV2QUY7ylpLGxPVSydVd7cNvKua4AAC1iL72XtHA9Dhf7edqhaMpwJON1nrwLzbcyQClMo\n",
       "MICVgDV3uCnuYdS29OC/LDVCwIKFS3V7uP2yilYTki+n75vH13Wodb7XbJJToZ8G/UjctVwHAhcP\n",
       "05BmQjswcm7flOI1sF7uuxAzKP6g0KkaFJKgWFF3q7yHrkK2epM0YXeDehzn9Q04q0zpxrTJuv4O\n",
       "AGb5wq4Gehqa5ZcEQz3CovxcVqWhcrtcb7UB5IapNkjdTULovm8hH6UL35mMlalMZam3/nmjJD52\n",
       "cJ+5kATvfBUxWRshxZinZWyhAWxbE46s4Af0FXJH+cd9/DZzhULsdvzwxnkDCvg7JtCV8Bc7aiL+\n",
       "twcNqFmRZu8fqKrK31VFKsgN+VWofg92XFqlSXLg7Hv0+7eH/4ow+6lo38/ocsTVh0i5EM5Y6Wcc\n",
       "pYJ5r8aoG7CbhhReAFhWb1pAtnOymA+fIzv848ZLDvWlCZxy5QFfd76MmdSVjeYn/uRPerYycRIS\n",
       "Cglzd55H4QbPZwPFJBDM8aN6k/vlFUiN0Z7myscG9vejQqgnRQ2IZ0iXvpcezQqgtEE5kIYlQYhg\n",
       "YxhBdWm/vSQGegi2jfI2EyOPQXzkXoM+cSbdAlABXAC3U+xDJo3fHZv/dwqhh9ukToPMy6qXo/W9\n",
       "UpcViNyg6LiKPgFysuCAm0s15vPXQAHa2dIV7HMy/+Nr26lDw05g46gq2QsQnuqrNGpc8xr85Z2g\n",
       "Oow4Fyjg46bJc3Ln8Xk8cbCWBL1/yT0eCkea9QHKGWSwSOyrTbaB1SmFv4yRVIfsZ0bKWZa9733n\n",
       "wt7EStcINawxHa+dEK89hh2mbmpaAgFn2Rwwclkktpmp/qiKTIgKVjA32QLspVVBIW39tf9amDLE\n",
       "wtEXxaUxW8gl4nIY7Gvv5/4ttX8Eg/tb3D/R8x5ShgG3ZPnaMRrluoIsNPdhLCzulw2A8XSuLmYV\n",
       "96AFN8rNg2LeClVOOfgYGkA74E9OY+6YW2/Zu951SkVJyaHhAgMZVkmPWO8lQ/xNyZ/Q17pUZrQR\n",
       "lhIImxLxgulhX/l3j2lxJW2+gwxX415q31YmE2Q0f+ggvA73hZGQWlwt2Jgn8sN5/+sqrUgQXEI2\n",
       "WQz48OEAmA6U+Ab1E428aQ8DljkrcEw/D/ZM28eWRQ1sKQwTk8Mpsc8TCOS+AJWuNP4XDN2OYNuj\n",
       "sP5z0WC7T9YFgq6Mpy7neIZCUiugDK+QitMcdm6u+UQSCNuDHlxWp6cmdOFqntr08DwWzpPvr3eB\n",
       "FuhPBegX0w93pwE5Hb4xQwpVdYztc1Dd23XUFulHTJjTzKG7hIHYoZjKvE1xuB/Fm1feWTcyUr44\n",
       "0GxPllPmWSWeqDzyZGzimsjYwDj2pEBsE40UXaTfuLgMp9fNqgH+sXaH4nCQnjhOVgppSlY79TAN\n",
       "UNdUiZPZdiVojlKsx2G2L0U5dtXZbttS0cAOH1ZLO4Y5MRAPzxBUyKzpNSwbQUuKhkkUhL+gaimL\n",
       "k6aygHWwW27dOQw9w+37fDQLBvVv1wzWC2JS/Bpn+zvxILHD7MuS0fOT8iEke4hs9gv9P8jJn8a2\n",
       "9rUnDO8/IAxjC04TgL7wUwGGsbIc27D5i+NbtjDzv11ll/ZnEHpeu/hxI+H+qO7KDp1eTFWiRU3i\n",
       "f5z1IQHXGlHaMjczWkr17JmhqRavw77EsmgCRxuyymtYqSAw9CEz52b/WnqT1KnBjbNuATmR3VUg\n",
       "B227ktj9YfjBps3Nt7XYEy0AL4CEsESYV21ectIzuilepR5laMdDhaVj55D05C1Ih1gjkBYpWLMl\n",
       "aI39ZvNQq37HXvlzYGf9ORpzHU+fVNLoxaXk+BnTjSzDeCwzJZSzLwG4d2KNtU+UIlU4K9yOhVSE\n",
       "kWE9B++o7dYujRCzR2SIc927AqdiCOvpJ8GH3vLr4EXmXHKLKOAdw0QRazF6FncKuFVJ1plSngSM\n",
       "BUjH3qF0msJ873VbY0vBWNNcAjNRO01n1Ja8SWQzccHK++8Ndxk0uOVn4PGLOxyVydqDVlsLgkqG\n",
       "gaQDfTBOWNYElAPsAJiHBnzNB48n3Ib63EHyTv8gO6fxziDo6rTtWBvjLoQXwsg/ryEHyNrYm+Hm\n",
       "Gxhc1Ze0tlrNK1R8o6jWQrIqVBYpk7iLWldVcc58QNPXmVWOPxYlp7z2mrE274nks40zixukoVdS\n",
       "iD7oafy623Z1o/kxo36p7vyU96GzKzsRisg8KBort7ctGgovw6+/5CWvmripsScJEux+jBCDZvRP\n",
       "Xs4fc+NJMztulQ6nSWJxPUVQzyRxSP407Ao4zUroVbMkBfUgN1a3auD8yEZ21fec3QTdyDxTCi8r\n",
       "WNd3jTMz7JP4fgomSrInk1tQyzJy/2+RmBsA0lhVZWD6G+8PwIPft1BBN8boK65ilpkO7IXYoG/n\n",
       "zxWtHjNjwTRun5hnqwggCpR6WwUZ1M9OVicBCBS1mblUKEqsTiXzSm6uOScw+ZM/ZETSgA5G7Wnw\n",
       "yyhFpatWBjCy7bxDG2JvtL2I8WS4VnHtCU0qO8q6hxvGPknq83f3ol9//caGoFd+W/1NbaSPdrrZ\n",
       "Gd5IcXXWkpD0PcR4Ad9iWFFQYWOaaHHbC2JiOKV7NFThExJtnoJVTAow77i+c/zKHQsK82QyHDB4\n",
       "iz7XY4llraghUs1s0ZZj2nI0rfRgZ9SycKAvOfnN1xquna2sGFWMz8oCBi1Jj7NxrKYcl+jFjSDp\n",
       "70GYY5Z/Z5LTDD6T8Ycf/YTQMtP6y435jZ5AFYgk5r9ogp9mt8B4qmCsiE4uQwSZut7GYsZNSE9F\n",
       "J9TjGEJpGU8yt6DVFzHKVc4sPP/G6pEy1cKa6UgwN2sHpUI9HzX5RTq13CaOrQALVD8zZbRx5QsZ\n",
       "x5CK9DivJQU+ktTR/sNkAMY70fViYTVcY54ANn2OHvI8gdWw7awE1EoWeBFJ5Jf/TxOjKRHa1NvI\n",
       "sTxPer3/SrMicvKF1/md70H2PFk96AdcatrPXhByXonPwa3J4lnZw5vr5AIyEyZtQOgsOIOjh8Ln\n",
       "US/0hZAAWylKMomWDD1gG5OWg5hektZTL1WrDQ2j2pNaTZp+o3BPwjklMiMptenRbFoRS76qOfgZ\n",
       "3m+4ncj4Lj98TRTqmu2V6zUJzvG6zEock88y89uO/I0NbHZoguyyVP6kSBFqn/+XbBXTTdlqt6OY\n",
       "Q+4n04P9UrrFcXndE6XQcGNQaKRKaGKYOKuy2SmZI+TO2jvhj4i98VRGVWHOqm1hB4GUy17+N0Un\n",
       "rexwOwQMrFsRX/rWHNmQVl2W/OAfo4JeL/7BSRRbOlckUeNZ3wMJtuq6A8eELEjPRRqS8HaoWzzi\n",
       "lmNOCUOJfXzaBmp32M8rqJunU4f4C7XE2SVP1vVoJhcOfdBD586mRlimjOz1EeUlvRAalV5wfZB4\n",
       "rPsVMOA+jhKAoTqLKR7oSCEPQEfEFeStuc4RdATmK3DFslGBsVA8s2WkkdFIJlp6yQYRfcCT/mLz\n",
       "O73yrUeOS5eEfLXh9hATds21BcHaReV4bAtkBGDvj1io7lMvJItTdd2ji4jXVPpjQ/WXaSogONFs\n",
       "4c5orkGaIbf3kDU3CDxar0e7g0KFxColsvDFKBX7j+0bbkWb/8/eISmmwY55AzeeWpZb/FP5bjZH\n",
       "jgf4KnxX6Iruu+5XJDGalqp7Q7dsO52oQQY6D64sRmCTZnEU9mNjS4qVUJvNk+DR/M2mj2+d9pmM\n",
       "On7jzkA02wtA57oTWCDRhHQIJjQSpE2sZoQvauO23TSTuxMo8Za2If9xwOKm+9St61u68cZNtg7E\n",
       "3vN13dNg4xdZzugEkN5PPKr8rZ3h4PLU5KxnJHi0T/ZgXpiUcIU7DLz47n91WsqqFnH8PcYmZacg\n",
       "nhNOLZeQ9A68GgZQCoJ7a2MHan6vRGFeV+djluxWbkWASiKLAMoX3eWRtvorw+A5OIVwHfx0MVvn\n",
       "OP/3TKIYVKn1b2fMfEg4cJd2OOj7NYCnCT3ONYer5qqk40LaxzjYHvQQQQyebZSbH9g1Pzyjx4eM\n",
       "cLwX/2el9tqN2ygkFycBp42Wr3Kc+LZleFS2jnCJnBtv/c18u8Lot+A8cS4wSALDUNCK/75J4pRt\n",
       "he425KNFIs2xnkAk0AR0gMH4uYLy7ZgiQwXcYloUlIRQxOEpj4+eilGzODc6oi3zN0u18qLQ6+bK\n",
       "fW3+RHguo9rmI4P68DvQGz/n6qnm/eU2dbRBy5H3qQoDfJEJnlDQ1AO4Mg/DdfzzhOhFVJg7DBsZ\n",
       "HiMlgbXBTx11nVfS+5CnUdL9vkHEyxHhDNyULvPBK8RZgzSmrjM9LTN9ru8KmsB/DzPCWg1BY8nT\n",
       "zuFU0MztZfy1bsUbKlUGTo7sRrOOWx/AdLVyoLzyUZOwK3xdzl8p4ggbBPtir0AqD7N/63xZjcEI\n",
       "Yw/Wz4QKfOo9huuK+MnUD+EJq+P6dXFGLf58OpdM4Ifze3ViDIo3faOmt+8yCH6JUv9dYpbELLbX\n",
       "zJmpKNhV6m+2QBX10him7MS83xsWqNfr+CxAp9WqpNG1/APApbADWHfjxqUSw84waFPgbC4SBGET\n",
       "UbT7FxqmgAjs3tvDXAJrZ6C+6+lbZfSwlUUo6V8PC7EFYbVRiEufzhdNH3sPW89ALQAAG34CMxg1\n",
       "AAX3JXAAAAEGQZoibEJ//fEC8YBjeT0kgkysgAJ1UiQkCfpej940f9drLx3QvJP2TFCYRFeNxsFA\n",
       "N3FCf5QYAS3T/t530YCHyuf2eDd9GijzVXGIthqJI60HZ+/f0ErpL1x2VMJSRnZ8MQKdDXtGKea6\n",
       "Hov2T9APdcOsYIaE/EeqPeZ2+nLjQqaiD9f61KovKXsNfJNqu19Qtj2YgfBjSJDhojB8El4foQNf\n",
       "XE4LvEB0zErJBigT3FZ0hOfUpnxbK/0YQ03R1xdjwsfU/6GemmJr8kWr1/XBYMzpg522p9vEh5ie\n",
       "b+PuN9xm8dNs3JuPGulEzGQRUCw68EHizDlraLZC2eIZfzKUsu2N4dcW4QAAAEEBnkF5F/8MH/By\n",
       "hyK8wQ6ccL/DS5JlWF8gAs/DKcIAOUy1KTZdjNABp6XSstsLEPLesoS49yANgcFXF22XzkJBMAAA\n",
       "AFdBmkU8IZMphCP//eEBldG73YB0D09TGWky4B5HB6NLBtTf91kWX0PwkBThQ03pbkZlpv0TkIyk\n",
       "bcxxobTO9jAfQLV/5wR5gjFC6ZAuInrujsZFM+1XtcEAAAA6QZ5jalPF/wwju4s/8agevE0RPNBU\n",
       "BEEsw52spVEjOl+IAIeP+3DChtokSLbEOqjDCOn/KxeENqOz4QAAACwBnoRqRf8BJULXxgVWKgAb\n",
       "ENd/ZSZC91+IS+DTD0VMQYs7eZo7yKtdnbmM+AAAAEhBmodJqEFomUwU8I/94QA6/xSYCTfr3f/t\n",
       "8t21Atpv+9ytF6nLnVpwFx7V31WqEnoSWeEP2AguN25ldcUmPnl4Ex7ME7e2QcEAAAAzAZ6makX/\n",
       "DCO7tEJWpML1QwAAAwAdVmHmCRmz3SWSABsqmnZesaC+TMJ+LmsLA5GCjWLAAAAAY0GaqknhClJl\n",
       "MCEf/eEAmnWyvXxZ0v4kAFcSq1Qn8PDljk3ANdOWCueZW+9SeOVcgQ0WoXnWk63NCkWmS9cPoWe9\n",
       "otJqYLmKTninq3sU/n6FdYofVFJaRA/NhJGsgSVqfy/NowAAAD9BnshFNExfC85Og+yKOqFyGiF0\n",
       "pAYBBdDJjy4IQMsCjR/7lAAh423/GJbojj/K9q7FYK2P/BStMWq2Aw/3MvUAAAAwAZ7pakX/Bmtr\n",
       "vw9vx2AA+3qR4dZuqqJxqMPugbb2r+s69nrw+cbLadz/LXE6XIOAAAAAT0Ga7EmoQWiZTBTwj/3h\n",
       "AAWKF0GbYAhHUIB2metQIqGiZR686RpTv8aM35U2pcK2nDebBvFB+g09vc2i2vo/LqmwnreAf6v1\n",
       "5toU25U8BMAAAAAuAZ8LakX/DCO7tEJWpML1QwAAAwAaZjNBkReSbk8pABDQrpdeAE2pvZw5pCBW\n",
       "wQAAAElBmw1J4QpSZTAhP/3xAiWm5jTUkcsnxpE0c0VsAmhhMYasC6DvzfIKbAXLxYWucgRj2cJ+\n",
       "1s5LZDD1w234/UcXqHO1GKPglvKXAAAAQ0GbMUnhDomUwIT//fEAA3UifkuQDWQdyc8HkASRHHvp\n",
       "BkbuOmvKMaf/yOCzF1IS9UnwVA3yuOMvSJK/plAhjHGX8YEAAAAmQZ9PRRE8bwmDkhS5+xvWznne\n",
       "XE4g4JIq8UCPcn88/wRA2b6oBXcAAAAjAZ9udEX/BYvqaqsbvO1YBX6wABBR9msaDt5e5VK6Jni2\n",
       "r4EAAAAhAZ9wakX/BYh9chAxrYkAJW8RdmKgNv/3pWijduXLx3dpAAAAWEGbdUmoQWiZTAhH//3h\n",
       "AFS9wiEQErsY7/nortCEvUuiR0m1DXYXFKZgJU1iB2kKTfZmt/uA+XQlgNELvQl+caH+oXvLp//v\n",
       "zs5pVtyNTa+hI6IflFwdE4EAAAA3QZ+TRREsbwmDkhS5+xvWznneXZsBoJIi47Bl5QAmZPg++5Ag\n",
       "7siBgpN2Of2CUD7kL4obds0NSQAAABcBn7J0Rf8Fi+ojERWrQJepBXlR0UjPgAAAAC0Bn7RqRf8F\n",
       "iH1yuxfhaXqkANgA2Ie5Mn03GwbgBecawnDTplvuiBnBIft8yVYAAABqQZu2SahBbJlMCEf//eEC\n",
       "k5JlDrLL1pz721gQ7WfiaQ7DnK3b9B1JQN4d14n2foQcOH3Sw8JdflVUF5VScI/JiydhjBwVvsbZ\n",
       "+XH5sDkAGToTOSGHrKhYvFSYSCP4rwj4+9kRyVCdoDmi4wAAAF9Bm9dJ4QpSZTAhP/3xADXekhXM\n",
       "t3KdyoXnlhyVZWRAT5sLqef/SDgJY0e0NigyOHlgY/SoQ354RjB18KnMxFVAXKXWKFvP1uMJ77cb\n",
       "qeatYJW6jHUkyVSNEEKHEE203AAAAJFBm/tJ4Q6JlMCE//3xADQKVRPQ5oAscWAB40gD2wJk3Bpp\n",
       "6MSPB9KOkcWK03lLccxzsF6xzkSnn7LmWi8qGMKhPVhfo2W7SPsrJji1u4iXys7FWxnxQf8rd3FX\n",
       "s1qMQVYW+iPwF5RggAsN0mifGAGPW+fLwbyiggcQv8+kqoGfCKZyx8nLlnN9b+jQsBO/Y4dwAAAA\n",
       "IEGeGUURPG8Jg5H2hUZbInyMK/aaHsniAdlKgq6HIUllAAAAJgGeOHRF/wWL60JO4fSOVyqMxBuq\n",
       "yYcPToANO+Yj5e5AxlSLLPUhAAAANQGeOmpF/wWIi8bjAB+DGXG2i4Xiuqu6nvFDbfeeEc4WTcGU\n",
       "/qNPbuqb7kEmHEw3zU+YcehBAAAASkGaP0moQWiZTAhP//3xAOVk6qcyOD+ibn/kpMCIlVCgBtUQ\n",
       "AU3H0uJgFo29GoqloRezRC6GjcgZ/GO+IxvcMHVuRx8l8T17ZAbMAAAAOkGeXUURLG8Jg5H2hUZb\n",
       "IvA4V+02sCS6IAF8BG2NDd477L/kx8iKxX6DxwoFqV3T6f5ErgAtdqhMQRcAAAAcAZ58dEX/B2wX\n",
       "johcM7eY82/BOgz2wsnWzUBbQQAAACwBnn5qRf8HZ4Ac+W1O9lxm/vznIgAbD4OPF+9x0v21qzgS\n",
       "faVcMGlmLx9HTAAAAFNBmmJJqEFsmUwIT//98QAyiDBUkN9OTR5BOyuADaToMUntHaIhJLlY5UCM\n",
       "hK2NkEdocOCypXTjGS8JD75nQiDVqKTcJKe/aA8Zgm+DiAqyEuFq4AAAACBBnoBFFSxfC85OC6Jk\n",
       "Zo4PHTZ1cW9akgpwAgNurg1t6QAAACQBnqFqRf8FiIpefwAEPIs1hZlTXXgcJ+s07964QB+5PRrV\n",
       "lToAAABrQZqmSahBbJlMCEf//eEAKKwIJAANd35vINnu4uJSOHQrd+n0yaixWIp0kq4sJXp8+NeI\n",
       "Ty/HOfpx4N4Idn+JYfSvLw8/rdK0h1yga8r7PKoFDs+z+tecfZbgq62ikuvVhs2OkymyU75I42EA\n",
       "AAA4QZ7ERRUsbwmDkfaFRlsi8DhXsyv94G9dumgAA2eaOtFGtLOpQoTHzi72p+a5mpHQ1ngV8KNy\n",
       "HpEAAAAoAZ7jdEX/BYvsfIQKAEHDe+6nVm5xNAxVOzHLMVfwG1QQeGcB5HEtgAAAACIBnuVqRf8F\n",
       "iIBdsfDxbyAw6EAED4SdwUhc7jjYHcg+/6iZAAAAUEGa6EmoQWyZTBRMI//94QH7urGyhmnrTqn7\n",
       "0ghwAWzqEeP1yhT5iwZFq7g6SV/RxB+NVrWqUl/tRpcXneXuvsBvMxNu0Hc2XtyGV0JOtzSQAAAA\n",
       "IAGfB2pF/wwjr+qi7+a+q/sMy2c3UiTW7Cf9gltBLrfHAAAAOkGbCknhClJlMFLCP/3hABTwRO/S\n",
       "WWvAEAkxiAugKqQnCRF/xT3SDBT2vgPadq2mnxWrXRmBdvnAiMEAAAAmAZ8pakX/BuR1PvPbOrtA\n",
       "gAECuTB1PJjRUf/amGgs1Pht0766YuAAAAAzQZssSeEOiZTBRMJ//fEADSxcWQ+W19oAQK3NPwA9\n",
       "sQyhnooKhuZIvNFPxgcU8gNQCIW9AAAAIwGfS2pF/wbkdT7z20JsuACHkegX3ZtJtl4ASV5vrGB+\n",
       "dFttAAAAKEGbT0nhDyZTAhP//fEABrySphU28ASP4sbouTdJurcVAgQ0G73PjfAAAAAqQZ9tRRE8\n",
       "XwbkdT7z21Ruv6gAlpPeokgPJRCPMHZIhqcJRjreIR8dPQb1AAAAIQGfjmpF/wCWrRHJAB/OFW6G\n",
       "JNsUgz0L+SaJVpzLu+uEwAAAAEBBm5FJqEFomUwU8J/98QADXZRqZcu/64QAh2T4HztBtnmZzegO\n",
       "AbRUIznzkNrAzmv0IfB5OCsVG/ykb8edKodBAAAAIAGfsGpF/wboSuVsQMv+zXKd/2AAhn6Sa5DV\n",
       "Mx9xNhfBAAAAaUGbtUnhClJlMCEf/eEABYmjue1gGr3mxgkBVT/mpornWrmHDCPdfyeHNc0EIcwe\n",
       "vMmiac05dwAiFrd/yGwgadkCP+kyKpLGlEnGnszPTzySj3Y60hEvSTvAbuOiOCP9GJkuF/BiJegZ\n",
       "OQAAADFBn9NFNExvBXnIII/YB4v3skAB+rx1nLqtQGsjJsJVS8ulwle+lXBbcbB+OSkYri2hAAAA\n",
       "KgGf8nRF/wBLhpYWQAgADseZ7CZfkisRGBQAuhDICkQ8V0d4y1D2GwXI8AAAACYBn/RqRf8AS69c\n",
       "AC55dhlygeqnuA3P2I7zdlg9+KNUMjFzgLOIEAAAAFlBm/hJqEFomUwIR//94QAFh6RXXTz4W2/7\n",
       "5eSX5gyQgCLvIcf0GdOjnYEXji0RrxdwZgnOvFCBtu473WbFqsbk8TgYry2UTTkYKD/fl8mxKBO+\n",
       "GVS93uGiwQAAADFBnhZFESxfBuR1PvPbTwtlcqu+22GAEI0y6tVIsTbsAlGg+mnpBO+p8xWW+wUM\n",
       "qCdmAAAAGwGeN2pF/wAmqvhhp2dllblxtk7PeC4rfQ0vMAAAAEpBmjpJqEFsmUwUTCP//eEAAWuF\n",
       "0GtwgGomhAzYGiRcNXisBqSxXyWUkgatmW7Kd0Mt3AJ8Da9BSmmJcnwTUX4anlHmeS0L3IDgMwAA\n",
       "ACsBnllqRf8G6ErlbEDJQan2GeAB+0adsh30gGaojOjlTilG22lGBSQKXRo1AAAAN0GaXEnhClJl\n",
       "MFLCP/3hAAFq6RXHEcLFUAUxOPwis1Jzdc+6Yr3ySUOe0UDGlrmer+uA/9M/PoUAAAAoAZ57akX/\n",
       "BuR1PvPbStJa95QAlpPoe4HO51Shn1O2kT85EtvUe1ZK4gAAAD1Bmn9J4Q6JlMCEf/3hAAC6NH9p\n",
       "wALnDl4Hkk3Z+2Dqk87M+9AZ5NKAcmdhXIh6VscMm+GK2mePPI/GMMrgAAAAMkGenUUVPF8G5HU+\n",
       "89tKHH4ea4bABOr0jpN5L2ZPvISBGuy/pwqUq/YunufDrg4ZnAuBAAAAJAGevmpF/wAJzZl8BAB9\n",
       "8s4zvi7cDfE1tM7XUR59rahQ6+kZWQAAAFRBmqFJqEFomUwU8I/94QAAuYnAgDY1/gGSCBaRtP4A\n",
       "kcNwSCYTulnB2hxQCSxw886kmGalSz0DKxnBflYG3vhi77hPTJ8ELpEzkheweJo00A+9YCAAAAAn\n",
       "AZ7AakX/BuhK5WxAyMI92wzaIoAD7N4bfOTfWGyR2geKTbpbkF/BAAAASUGawknhClJlMCEf/eEA\n",
       "u3JMoc85nxBekLM4DMPNDAEHaaaAsU46u4w/hotRdvT5LZGxu61y3olc9B5CAyZnXAHdZXGo9Wxt\n",
       "b0AAAAA6QZrkSeEOiZTBTRMJ//3xAAA7NjxrAZ8xMFXgCdsUs9az0Fe4t+UF58z4ZOhYBrG2I4/W\n",
       "El7yD5pPDQAAACYBnwNqRf8CObtNGvdwALnFIUmxGod2ui35yq5lUoyxsiN9XRL0gQAAAEBBmwZJ\n",
       "4Q8mUwU8J//98QAAHb6L08TVJgmKDgAiwaVqT//MIC5GL159ayp3TcrKbu8kh6LmtimNIoIXSls/\n",
       "3GuIAAAAKAGfJWpF/wI5u0wNYdV1BkAGgY0/J1alrbTkwjrb3gxgL7p6uEiNd0cAAABWQZspSeEP\n",
       "JlMCE//98QAPLodZz9KG+Dx7ERrG7mqZcg8v5YqoFZkdMoA5AjuiiJmlgrf5ofhTdFfZHE6AtI6i\n",
       "HK0AdIzwUaBcQXPSxtKRXp7VRNUpeyAAAAAuQZ9HRRE8XwI5u/44e0Z248zACajSJhy82IW1lzDq\n",
       "zuTQaZzXepVKC5KZ/Q8XnQAAABsBn2hqRf8BUM0eS2erLZYJ4SnbM8mkFtWS9akAAACUQZttSahB\n",
       "aJlMCE///fEAAAeWz8HdByJr0ANtU2SqwGrxVmdAS86o2xj6oeJw3/m7ikgDuTFppv//G+P4XduU\n",
       "uzFEgMKi4We7h9j6VvWj50uqVqhQJeAfzjTG/z5j43U6CsUpWki4EVUwU8YhFhKnXLRxXbOT7uHt\n",
       "SnB/cLRI0sCG9rrdUfPCijpdf1XNOytpJhpjgAAAADNBn4tFESxvAcHv2slSygyc1DRd19iwrigA\n",
       "ab4tHMlILuONOmLxuRNvlcUEHdFnJXJ+cI8AAAAdAZ+qdEX/AACoOMZ+MnOABBhoTPz3Fx3ECqb1\n",
       "XmUAAAAoAZ+sakX/AACsj49rgARASKqSqeK52L5Ohp0Tx1nku7pspr2MBjUl1AAAAIxBm7FJqEFs\n",
       "mUwIR//94QBO9AuNCSOtsALU6h29lMFW19/VYNr1SSvhfEvN+GjYIjam9hd4/t3hxnLvs3hNASAa\n",
       "CabcUtOMiVN/gLrtd8mNfG9VhU6mHHYyNFbi54l4sD1Ed9PucuTGEUUL5YLjD3X3iqq65y0MQoXN\n",
       "fd/z0F+vu0trKgQJ7kx3AQgPKQAAACJBn89FFSxvA1klBZsOPblyJ/mSKRpPDMfdOgMv7O5VKJRS\n",
       "AAAAJgGf7nRF/wAAVSx3c7YCqzYANROhoFNpQOh7gPEWtbR9E/PZuuYRAAAALwGf8GpF/wQmaKuu\n",
       "1piABD7+BHYlPlmjZlMcdZ7GmwuFBnThq6oGR4jQ3rkuN4D9AAAASEGb8kmoQWyZTAhH//3hACeP\n",
       "uyb7zxgAR2j0rGQtfw/KR61y7hz6NuJJVW19cqrGuK1PjsO7ibVTn7Nk0O6irtbbs6LP5kTRQQAA\n",
       "AExBmhRJ4QpSZTBRUsI//eEAKOR+ufwA0Ve1EOBIOXHdayOXuV9tr4D2Ha2z269ARGY066pNittY\n",
       "/5QYHcybPCPt9BERHhj23ZmRhglBAAAAJwGeM2pF/wI5uTuMABDP0k7S5nX78cCNejdXuQhwDS8S\n",
       "QzCm5wLIsAAAACpBmjVJ4Q6JlMCE//3xABnDb5b7grij5Obg60908HdoA2qSDOiVfFPAAtIAAABB\n",
       "QZpYSeEPJlMCEf/94QAVEiEs/gBtpE2Oe8z49E84gd9ZoOgr7lZ/VRQk91j5Yv7NfCAA8de8Kwi/\n",
       "njum8u4SG0EAAAAXQZ52RRE8XwI8iWNFtRw29Hb8ka13d5gAAAAiAZ6XakX/AR3x/YGADZVNMtWQ\n",
       "q7fO/Nk0/e2Z9lHCG+CZgAAAAERBmppJqEFomUwU8J/98QANMG244rQAjI6O+fH3JvS1IUNAezYm\n",
       "h9lc0sg4JVH3xA00TdIa4m1U+P6kKYxwTLx5Ger7KwAAAB8BnrlqRf8CPK2NiJACDaTmz2GM0tKY\n",
       "SNWc5xOntIOZAAAANUGavUnhClJlMCE//fEADSxcWP8N14AWCY6DSIeegWY2FIAZH6LQlZurqwlV\n",
       "so3WlM6enk5xAAAALEGe20U0TF8CPFaOBbvALMgA1NnPl/O5HoYhHUoaYcg1h7MjPB6FckKxTXeg\n",
       "AAAAHgGe/GpF/wCMtednSK6RACDfc4iSVtTwzcZskE2+wAAAAEtBmuBJqEFomUwIR//94QAKwwFV\n",
       "WeQAAk346ig/3HepGGB7iqM36iKS/2IBgZdbgJNP7nomcaBxs9ssH7Crg6K5ucdcqwj0X/yTYzEA\n",
       "AAAaQZ8eRREsXwI8rbOzxBzYP8FqBXb08pK1EpIAAAAbAZ8/akX/AEha7reQcAEPIuOeE5WDW2GP\n",
       "c7nAAAAAVkGbIkmoQWyZTBRMJ//98QADcZo6gqABP1V/K9hOi+xBk5FKeWJ/BV9L/q+WLXYZHiSW\n",
       "tTdNu10s2FvSqirj1zrIGWf8QWTcfM0RaGwmz1TeVPVbnMGBAAAAKgGfQWpF/wI8raUK/hr+IAEM\n",
       "+lA+Y7X67P6bsQm6XsW/Q54aJx514iH1sAAAAFlBm0VJ4QpSZTAhP/3xAANySVKPK8AOgVvxUlrR\n",
       "SJGdo1qM9py2HLGF4QaVciMzDaGEq/Y2UGkHgL+R3b/gK2Y9+d3XLHvCw9jyewJ48c2A19Sd4+gs\n",
       "U/xFQQAAACZBn2NFNExfAjxWrjQ+4ALCCpqeHg1aVYMAh3IMptjVFjiwJODFgQAAACcBn4RqRf8A\n",
       "SxE3DngAcRSwd9DFuQ7ilGr1ZatPmqk/IAWc8Ib6jpgAAABEQZuISahBaJlMCEf//eEAAtnJ7rCs\n",
       "G+OmFAEdhTIy++xwMM9tqFs8+Fhu/edyjx78ySF+RiYs/MDVQWK7216BzFKfGW8AAAAYQZ+mRREs\n",
       "XwI8rZ1s8Qc1/qt7471XGQtoAAAAJQGfx2pF/wATQi8kAC4PdIMivMmWbZUtT2zQR5QEWYhAf7Wd\n",
       "pB0AAABAQZvKSahBbJlMFEwn//3xAADigu2+eAOUVfd1/Di7LifGwJaXMKjwS+glhB9pLJJSBxbE\n",
       "0awrmYGowVIjSyYPgQAAACEBn+lqRf8CPK2Za7AiRgAcI1jBru0uVFvGmgSl9ONZHQcAAABMQZvt\n",
       "SeEKUmUwIR/94QABbF35nEAHbnj6xv5/rOz3pjeKjfK3Qz9P8nJstBUhxaOzDRtOg/B0kaSYj3d4\n",
       "QWlxp88KiI/+biYTMoydWAAAAClBngtFNExfAjxWpL9GQjWillAUAEHSGVAeUiBKjt6NPM/9yi8h\n",
       "anmVtQAAACMBnixqRf8ACfm67OxwXpACEDWU/Gw306+KijvoE3VOqfxxYAAAAE1Bmi9JqEFomUwU\n",
       "8J/98QAAc6x5I0gQA58r+oW/L19CiJ+vEU2+eOJvbxOgJgcny6lfrJwn6xo8NLAoix30g7Znfauy\n",
       "iou8AUw4P0ozgQAAAB4Bnk5qRf8CPK2XjCdOAAm/0oHzTR2dU/q7U3gKmagAAABLQZpRSeEKUmUw\n",
       "UsJ//fEABmyPdjnX/RnLSqzIoAWCdN2vjkJbg7LaJrCQNrersJpfkSUNiIbm+AwzMYx10JgkIcPM\n",
       "rry9WE3x/9oJAAAAIwGecGpF/wCKru7QOGQAbPSpWPeZ5XKTSWXaetsauXE1PitvAAAAZkGadUnh\n",
       "DomUwIT//fEAMpodvngBuZuChriiUL+3LzM0YkZKLdrYDlhbDOlkqYgDbyM70F7T6DaFEOYZfioa\n",
       "9eCdRI+5Me0r67jRky9e3bvBCmk3cOlGByF+aemwAoGF1FsoAa0UgQAAAC1BnpNFFTxvA1khU4+1\n",
       "I/CBY42D74AA1Mpd+itYzvYBXq/colekw6Sv6QvmAfEAAAAsAZ6ydEX/AAUKy5uSQxAFbUKHtBRc\n",
       "F7owtzq23pwRECHexRPjijnDkGaUcIgAAAAXAZ60akX/BDfKeSz0nXznA+3J9kWRdKAAAABzQZq5\n",
       "SahBaJlMCEf//eEATwsq5E/9lMqgCdv/Exc3VjKR9US3R5fLT++Y8ls+9fDOahAhsYUnPsJyDQaq\n",
       "PEsFO418lzcnJ1hEv6WuOsKVWhPV44+6Xdy5d630V13ZLZHwl2N8rqBgUbis20N8mLCOxxDEcQAA\n",
       "AClBntdFESxvA1fFS7q4qoACGefxfWR5thDW09o4ezh4Fec+S/P2YrNndAAAAB8BnvZ0Rf8ENpn+\n",
       "eBwAIdYmKnAU8yseqXP0RPby0GgQAAAAIQGe+GpF/wIr37QYGADZ5u0DL7cZ3jaTmaBZLSfANkBf\n",
       "QQAAAEBBmvpJqEFsmUwIR//94QAorEolA70paHGwBsuA6cPI3ySWqlCQrEcLr8TkmXlWLe1IroHe\n",
       "3RnOUZbjXBG1rZ2BAAAAHkGbG0nhClJlMCE//fEAAAzZIzwAWvABTxQjyK/GgQAAAEhBmz5J4Q6J\n",
       "lMCEf/3hABT4+4gCEZlhwJYI45DCnuYBRGUCAk0HXkjldroarBVKMq23CaUuTisahJIR2lmhtkYX\n",
       "ZA9URv2mx6AAAAAhQZ9cRRE8XwEd8AYz0gBNQKgQ/aZqt20B1i6fU3kg2ezAAAAAIAGffWpF/wEd\n",
       "7x0c5ACA9du9u7UYxI7aA847Fp/PQvTRAAAAVUGbYEmoQWiZTBTwn/3xAA0sXFGisUZL+ynJYUAK\n",
       "tnUfWnM4bqdop5WX4VK52nXM8HU0uR+cFrUp22Pa14j+ry7y914KlIAbyr3IiCzcjhtcBBeBIkAA\n",
       "AAAhAZ+fakX/ARxTrJAAuebpktckfa5eI5jCSfqBpzhPzBagAAAAKUGbg0nhClJlMCE//fEABsfw\n",
       "ufmY89XAwLFZBksXOWPzPNuHabKfWUM5AAAAJEGfoUU0TF8AkvYdHlvKZ+ACdBa8Rjh3OmtrPEW6\n",
       "N9RmvnTwQAAAACABn8JqRf8Akvf+7PpACEA1b+7Io/aIE56COJwjlq5DQQAAAEVBm8ZJqEFomUwI\n",
       "T//98QADYEA19IAI1VMfc1Q9gV6dikLdDZ7/w7FaHuVr2aIyRQVK9BZYIG3J6Xqe2OE0AKrd5Re6\n",
       "1jMAAAAlQZ/kRREsXwBIZoBSrAATPRfc97dgVg5o+wboxzah5c+O1hA1wAAAACIBngVqRf8ASQi8\n",
       "kACDFzYrnhBCpanpb+N786ao5SNJZDXBAAAAWUGaCUmoQWyZTAhH//3hAAWGQOQDG7xm7D3du+w/\n",
       "DR8YgWF7rWOnv7rfyPmw6FOwJusBn0pC6g7uWu6oIkONOZTD4SwEjCXcKb2nNZZnOiZkCRA8IxsY\n",
       "50CmAAAAKUGeJ0UVLF8AS3x4fgAIeSUKMCMj68Z2T1FF6gfwVB/TUMUw82OtcY+BAAAAJQGeSGpF\n",
       "/wBLlYBKAANnCxAxFQi4/ayr47Y5no394HlS52NE1sEAAAA0QZpLSahBbJlMFEwn//3xAANySVkN\n",
       "KVrbgCDR0TAvWz3Exi+0o3ad0MnP70upvNt7CyO9sAAAACEBnmpqRf8AS1cUqVSW64ANlU1zP//L\n",
       "Af/RXhr8LGZ+j4AAAABEQZpuSeEKUmUwIR/94QABbHZlkAfPdBXVCKRFImzWVjUpKhjegafPk/Vp\n",
       "etspf82d3RQRfI7d6AJA1j9qssm67QufMMEAAAAlQZ6MRTRMXwATXx3NAAQ8bTFH58R9AU7ta+DL\n",
       "Vzj3E9V0aq/AkAAAACIBnq1qRf8AE18bRrs+KBpdgAJlN9+s260SIOZCOn/v/SaBAAAASUGasEmo\n",
       "QWiZTBTwn/3xAADiEV0hsH5OADgyIQIvpoXARezjfXVEob+2j0PUdaO/BPHcSeF1ibAn46exx5jE\n",
       "/qfRfhTWVyKjYfAAAAAiAZ7PakX/ABMZn/HnZsAOOlpU6V4Ho/J7BnScn4OEgFCS4QAAAENBmtNJ\n",
       "4QpSZTAhH/3hAAC51z3gEwsOA/VZrG/Ex4J0JGI9S/e4D6rnrcsL4uMK/uV8U65IOu1qpqYNemiK\n",
       "GKcp7rGxAAAAIkGe8UU0TF8ACaSdG9q+LAAh5SywQA7qo4nuYWVbNzglw4EAAAAgAZ8SakX/AAn5\n",
       "zfFkAIDlce+xFjcpmemrhABmB8OgtSEAAABiQZsVSahBaJlMFPCf/fEADJ/mYb0ndNqVNt0XZUbi\n",
       "kXysDEbdQq5wT6YD0UFA7tdLFnU9WbfSnNgxuYOaqIgSGbiC75yod8WpGNcqKgSKhQYFwxq/GVvS\n",
       "Wb3N58V9LYbFM5MAAAAhAZ80akX/AQ1d3fMJFJIAIPoMkcEx42DJJXcXu86JBQf4AAAAUEGbN0nh\n",
       "ClJlMFLCf/3xAAA5yd19vR1doAL+HyxLtB+bmzeAPC8HBaLdv/anLq6vKqIKk88eHyD1Pglxqc0e\n",
       "7dlbOt5Jg7T5M5g3bo/VvrKvAAAAJQGfVmpF/wAE8zCurAA2mKDvI/2G2phPr76Ntm4VvDl0INb4\n",
       "PPgAAABVQZtbSeEOiZTAhH/94QAAX/0YtC4AJ7r3/aEi/cScP0+GRXb5tJdjCWOzLlpLZnJLBDA8\n",
       "tvnmCS4oe3qRJGxgir3F8T7Y83sAVx7BTv8s/PuwG7OlrAAAACZBn3lFFTxvAAP3J2hwyxFwWAB/\n",
       "ItHakaSlzpvzn228QJQpqNz/kwAAACQBn5h0Rf8ABRtyBzFASJ2eoEOiACIEnQIb0VgV5bf9J2Ra\n",
       "BXUAAAAZAZ+aakX/AAFFyQFCABB2ZO57xN6FM2o1vwAAAFhBm55JqEFomUwIR//94QBO9ArnzoAN\n",
       "PspdkPUqN00C2zscqdBpHi5V/NXd0i2fN0f5IVIp4i8q9k0z7nx0g8UoO/ZTTbis9/FLCAkyfqD5\n",
       "lYUa7lEvsf2fAAAAIUGfvEURLF8ENcAgAToj3F+jwryICwyZlDeSyQZk4ODp7gAAABwBn91qRf8E\n",
       "NXSvlMwAEPpxHtkmtn/d8ff6yi9xAAAAMkGbwUmoQWyZTAhH//3hACj+tVdHmbANlK5ofN3LCL5I\n",
       "FHF+J8RqzeADDonruTIxMle4AAAAIUGf/0UVLF8CI5PxDZ+ACGLi8nsi70iCDs0Dl7DhVrTZMAAA\n",
       "AB4BngBqRf8CK9h4NNbcACGY7CsT25mgXUOyYdgI3cEAAAA1QZoCSahBbJlMCEf//eEAJ6HS4ANq\n",
       "S7UfwmKWgMJ2h4yEZODRMLe5JXy316vTsA9//l0WNOgAAAA5QZokSeEKUmUwUVLCP/3hABRgIzWq\n",
       "Xs3oAcrpKOMHeU2CQRjVJ6RxfdN8rPziCftG3E0Rc42tqMGBAAAAGgGeQ2pF/wEURqqgANl4UuiW\n",
       "XSWOnggvxDJBAAAASUGaR0nhDomUwIR//eEAFPyrwjBGODQdG0tCyDhmKVzhoPpO+p3U9aRSW3eB\n",
       "Sjxi3EoeeZWouC3dFpAu4pbWwfDgwVrGu/4z/yAAAAAiQZ5lRRU8XwI08d4x4WWABKufVNfVZnq1\n",
       "rieLPgj/DKM/UwAAACABnoZqRf8BHdXpGLDfAAQ8jthm9ktNOT8mTNjO8sQ/wAAAAD1BmohJqEFo\n",
       "mUwIT//98QAGkzE6C075JACMCmWdEUG7PzSoPlZ1JQppc2TaVbPLtYA1Uki5y1swxoRNvue5AAAA\n",
       "OEGaq0nhClJlMCE//fEABpaZUK3KebgAjUV1RrF5pJbg2gfFIpuTkVTbeUlY55US+mKi+pkbEDe7\n",
       "AAAAI0GeyUU0TF8CPFa5gbRgYANp0Fpq8J5WGI7SGn9563Xr5gdMAAAAFgGe6mpF/wCSq98eIibo\n",
       "EHBpV5U1mucAAABGQZruSahBaJlMCE///fEAA2AFrUR4wAX4RniHKg6BSkHWjN/rDfkVLnDip+rc\n",
       "+nbmdAfxESALGBh6TJ+XEHIgcSW+NyLGYQAAAChBnwxFESxfAjytpJp2nAAWmBkHNi3KZ+O5eI9t\n",
       "J0oFaa/NRgnG2i70AAAAIgGfLWpF/wBJEZ3IAEBJplrCeBlW3+XMvJC5iasFzJW0SkEAAABNQZsw\n",
       "SahBbJlMFEwn//3xAANgDCZD9wCZhALP/hnw7KPMmXti91HFI+T5wUXuiPSVjFmMm/6UOXCW5QvN\n",
       "baOuXT67a7jHyWos9YtrSpAAAAAgAZ9PakX/AjytpJ5A8YpvutgAhmZtTSBeGKxJg5EoLnkAAABl\n",
       "QZtTSeEKUmUwIT/98QADcklm9JHwHb/Vp/DjPo8wJntTYZ7halYaRpx0ZNpjQvwbcaKGJYF0Iskg\n",
       "S+J60WtrwWXYEjS4fnVom9UsPwd/eXpnHbLmiBn/Lxg3mGqdrDqvS/3ZsjEAAAArQZ9xRTRMXwI8\n",
       "Vq4smJe1AgAToizWFmVHirhTbRTs8mtpgNz7oyyk2VHoIQAAABUBn5JqRf8AJar3x6/NA1hUvjNE\n",
       "lr0AAABIQZuWSahBaJlMCE///fEAAOHIELAHxHg/fn63DjkzJ6bt44A4GPO2jaLwphEqIiM9mktj\n",
       "5GSQ5agSI+muDZJFrNZYa8MXHew+AAAAIEGftEURLF8CPK2ZeMOr2ABs4JI+XuT8BxYC1HZencW0\n",
       "AAAAHwGf1WpF/wATXxq1JuAOgAnREm9ft5nNOc6l5Y9y1sEAAABLQZvYSahBbJlMFEwn//3xAADi\n",
       "EVysb1gE0nM3TALgHTntpXqct+/QyVLauY9+MJpQwyahbXi9+uF1mSoPJkymX+WG01iPwjw7asHw\n",
       "AAAAHwGf92pF/wI8rZl2eDAF9wgANTfHIAQqLU1tp9+Via4AAABDQZv8SeEKUmUwIT/98QAAdH01\n",
       "hSpXmYALGbhVI++EZzxYEvClHaeKehv7qqe8rH0izTttdffc2Hj0Za4YHVRJgiMRnQAAACpBnhpF\n",
       "NExvAcO/71EfPvkt4AAPt8EOJlkrnIGI7O4sfRUsnAYGHjyirVkAAAAiAZ45dEX/ABJSUvZ1uADT\n",
       "KxsBF2pjNP6se+FI6+x5Uueo4QAAACcBnjtqRf8AEl9LUGEr0ayYAQb9nziFrrPHJ5d4n8IBoDTJ\n",
       "O7tcsXgAAAB1QZogSahBaJlMCE///fEAAHR9N19zXmEzwAJ2yoNlkkqAZ92Gzy6/83jml4sIxTl9\n",
       "ZX/Puuf9vk+PTuIm3Ocxxm57lLWgDXVs4djKLYjL8IOJibkvyGkSwZ6kIPt5/SF2Sfe6l1s2Vyv6\n",
       "TvxOjrVdc/HnhbSAAAAALkGeXkURLG8Bw/teolSreH/GAAXwtNBaGxtAHwk3xV2S3dnAS+E+18RG\n",
       "0wLPfOcAAAAkAZ59dEX/ABJSTsBUNHWczABpdTxE7XQKCID0ttPts58hF8kgAAAAJAGef2pF/wAS\n",
       "X0uFgLzImj+IUNaRN2p4kABDuKBV3OPg62wXTgAAAEZBmmRJqEFsmUwIT//98QAAHQb/gy5AJMDX\n",
       "BIDUZvvhgeHq5tiBcayAuxB9/0UGLL326chp9QW/8RNbOJhwOnd8VX6OdhaTAAAAKEGegkUVLG8B\n",
       "w/teolSNtqGuH4lxLdpACBvthhFwExQL8n5Bz4Mn2YAAAAAkAZ6hdEX/ABJSTLRteJdL4BADgBBk\n",
       "IpKrQKueTQtibXI3sjpzAAAAJQGeo2pF/wASX0XVTgRuHNvTW6ZABtOsPF90T+zBrXtoUEWrkfEA\n",
       "AABtQZqnSahBbJlMCE///fEAMnY8gr/7gBCPK/wz+Qewe6a57uw6stXulcgaAfFXeoH67dXNXKVT\n",
       "2EH1vQ9B0UzOdxNq8pCkeJ30zYHqAfVaT/yP+Z1TthnlDrI1BUe3wkimffk32/T2hjctT9uQgAAA\n",
       "ADBBnsVFFSxfBDBwndK0AAbPNGlCXA/Wjx0EIXZAVL5KRCU+zlZLqRmW0GkN65Mwp6UAAAAkAZ7m\n",
       "akX/BDVfDP9uGz1AB+1AibL7F/BRQrEW04b6ilV/H+aCAAAARUGa60moQWyZTAhP//3xAM7puqkm\n",
       "Eqvvb8pClQB/H7q7LqgYwjphc/mevzEnvGSnxKFxhi5hnn+soc9nBvE5EObafjssmQAAADNBnwlF\n",
       "FSxvAbjH7fFFktf1p1RSTRKKAZ4zMD4s4jJJj394AAe8D3FPPjn3rVD5wsP+EnEAAAAgAZ8odEX/\n",
       "AhlTwnJRz8PBbZTpqJ0xV4ANh8Zzatw0iDMAAAAdAZ8qakX/Ahq7ugpzyDysHR2SFSOk/qAD9bHu\n",
       "5SQAAABhQZsvSahBbJlMCEf//eEAFGYEObSAG3jEjUEJJRwTZrhfvkRfWIXAbMQKmSwEj2cKAt2F\n",
       "kMkyzPzv/yPl+tStqUFz4ODagF+6tZk2y8vZPIlGxbO4uoTQju6FxPsuB6s9hQAAACtBn01FFSxv\n",
       "Abj+IVJdheABDQ6guIHytp3IeI+yemJKvwuE5EU7zHsgVwfMAAAAKgGfbHRF/wIqSTDEgAh5EuNy\n",
       "rPQdAXMLzRQKHHvEFb7FWcp6aa/wudHeUQAAAB4Bn25qRf8BFEaeogA077PmLhDGs3Q/zNJi6z3O\n",
       "z3AAAABTQZtxSahBbJlMFEwj//3hABUfWtRAEHGdEizAHP4xfo7Dbwyfje2qtIStiZpgw6VW01Vd\n",
       "i5luECrM3EZ/RkrP8duSV1615LXLY4GHT2gqwvvNfekAAAArAZ+QakX/Aiyt0vO5lYoAGxB7cyD9\n",
       "n3CBYq+q2ThsAGSPffsWUaXrm/y7gQAAACdBm5NJ4QpSZTBSwn/98QAGli4qRuFHzl0IF9lbx9js\n",
       "zXgSziQ/GYEAAAAcAZ+yakX/AI4jVVAAbO5bMM1GEVxNtBWrxHQw0QAAAEJBm7dJ4Q6JlMCEf/3h\n",
       "AAp8XeATuIJeCLK3hJZTOwIf6Y2a/53FZPn1iNVnx2J+aLwhFoNqRpNMS0kqOrw/lPCawuEAAAAr\n",
       "QZ/VRRU8bwA5vdDoAENAVjXcmSbmM50Rm9V5roqgtfr841IHwrcQ3+lEQQAAABsBn/R0Rf8ASYXv\n",
       "DSAANnjQtNiqt+qgsJZTqF8AAAAhAZ/2akX/AEl/AEAJijiXPr6galdk+kGikfGtqlIjhWggAAAA\n",
       "REGb+UmoQWiZTBTwj/3hAAVmApTWALSONioGoAmMrw76hpe4TwhO0Lt2+z4uxLfN/3sfMM6SlOYW\n",
       "C4bYO6PWsSPSrK8YAAAAFwGeGGpF/wAkiNdnABs9QV+L73WvDlUzAAAASEGaG0nhClJlMFLCP/3h\n",
       "AAWP8eDyD0rM+YCkmxlYBV58RIrDssipjj+9nd9pgTrW376HeFHVgdEnBLo0vzCzVoKHUJg8On8m\n",
       "BwAAACABnjpqRf8AS1Xuj0kZn12AAh5FqPBhkZRxvpWX0wnH6QAAAEZBmj1J4Q6JlMFEwj/94QAB\n",
       "YlcUBTuIBNH5rF0GsizRwtLdQZ0yH9Im3QcseBJ4gFDtrr5/JWb+o8b/9K2MXj3jt8hkqnLAAAAA\n",
       "IQGeXGpF/wASxGdyABDhrhrIaWzEY7txBTeQByEASYSZuAAAAEtBml9J4Q8mUwU8J//98QAA3MXH\n",
       "hrwBQCb8C6437gBYwqrKB72EiKa5e91FxPsCAJ26cULcPj7UPKF5RGz5p8nrGwjJ9EQF+xPr88kA\n",
       "AAAZAZ5+akX/ABLkx+bFaCRucIhWjSGpN8ItwAAAAEFBmmJJ4Q8mUwIT//3xAADjb/D21IJOW8xI\n",
       "emKQAmXNl9zRxwBdcBYJuILytQeyWVVF5UNxgPrtvWVHz79ER9xa4AAAACpBnoBFETxfABNVe9dn\n",
       "MAJkDUmujDS2qPL08PRpGoJfvi4osqKsfzTkGLEAAAAiAZ6hakX/ABNVxgb6SEgAh5VPlye+Uv1R\n",
       "axWIBHKh73ll4AAAAEpBmqVJqEFomUwIR//94QAAtXSK5HYxyjQAjUkUY+rgN3mHmHUMxqxXVNuu\n",
       "gYNZUMqRtsOiIoi0MzL/uoe+OauXEV8S249Xfe45UQAAACZBnsNFESxfAAmiNOIgBBnSBE7rIeda\n",
       "gG9JuiBSOlzt08fHDLNmSQAAACMBnuRqRf8AE1Xpy8356GeoAPdkpTeL57djjL6d4vkkWJaMkAAA\n",
       "AEFBmudJqEFsmUwUTCf//fEAADoAG7jlzABYX63fOX7lClI37D6XenEEQyRaqemw6VavcC/5De4L\n",
       "Z90wUyXM+f7aDwAAAB4BnwZqRf8ACdF2g0BzgA/XCOZrs/ACKcadj0Lk5gIAAABVQZsJSeEKUmUw\n",
       "UsJ//fEAAHR9N1j78vWqL4gE96UogEzxVEdnMPo4NKKFr/cT4JUsJ//UA8IeBtMGzIBO7C6CzDej\n",
       "L5ENRaED0B1h4wC/8uvAz8djjwAAABQBnyhqRf8ACfD3ZUnZwZN4ylaggQAAAD9BmyxJ4Q6JlMCE\n",
       "//3xAAAOyjfrrjXgACO0+/2+QO6U/7SnKO3MMtK0IGFK+aXeL8vI+5+qlYeLse1MyuqLBcAAAAAk\n",
       "QZ9KRRU8XwABR91OABcPUlrKLWTcn+s75/4F9ikrYgP4gFjAAAAAGgGfa2pF/wACkHUk/tMDh7SS\n",
       "GwvkipiCNrfxAAAAaEGbcEmoQWiZTAhP//3xADEWP0igBYI7xdXMdcsm3wa2QjW4GXOBkxunThi8\n",
       "I74RLnMwet2vt3O7/zmhzh7u+x//rK/95ddnGuJq6eu6RiAAtYZmGKYFyvotChGoTWK26Uu6jQ7E\n",
       "cBYOAAAAKUGfjkURLG8DRSS0Og/nCkTe2H0YAEOKjG520QCRC2QQ/QbUVZy4roePAAAAIAGfrXRF\n",
       "/wABRaJysQAhHRVl570QM0mi1phfbCAlkdDIAAAAFQGfr2pF/wQZW2Y6t+U8AIW0sD0pfQAAAFVB\n",
       "m7RJqEFsmUwIT//98QAy3uqqgB8/FqXAA9/Bzl/RsC5nihkxCuJSi6KyhiqyXpvjM3nac4Lq2oZR\n",
       "9saHfTK7soVNoOoUyy8rV0CMwv48ouymABixAAAALkGf0kUVLG8DV7hZ49IAE4ENla2uEefKaw3Q\n",
       "SolV0D1E6tjYPO7+MUffC8RLP00AAAAhAZ/xdEX/BDSECmHzsABOhKaTCNihD6aP6FqEfa8Uxkdh\n",
       "AAAAIgGf82pF/wIS2HFV2AAh5DkSuSy5iCBC2T8ZxTuSNr3HfTAAAABmQZv4SahBbJlMCE///fEA\n",
       "MRY+wvADpHThl17pRsC5HtaCbruUSbDHbgCV7YWBnsLqVSY6lHPJL2O1CVa1udte7L0uMjFfDmwH\n",
       "LlNBB8B8cL+LvBqB1WKkKNPROp5y9WycBNY+6zt6AAAAGEGeFkUVLG8DRST7r9w8pLA+tpm2/UCb\n",
       "gQAAACABnjV0Rf8CG0ywrCdyEKzgYANlXxsB27V7jRDr47RYwAAAACABnjdqRf8EBmisNP+MQAIg\n",
       "T2qKNm4AzWw3vhNwLE/zjwAAAClBmjlJqEFsmUwIv/pYASfbRYAPdUubbz9W45JJJ7GTvXGzAFit\n",
       "zONbQQAAHCNliIIAC//+9q78yytHC5UuHVl7s1Hy6Ely/YgwfWgAAAMAANVp5QZSk1YjvoAAHkhp\n",
       "7YSCZMADZ7nbgh+0zd+YWI+SjYqvBMIP0IdiDXqG5Ooes+ziHxAuagiXT/Vy6wPg54eaSvUSg0q9\n",
       "ykIde3OUM7yeJV6kKs82idiBSa31hPaN/2CLVyQfNheKj8wXsiShX+HiGq0GnMhRWV1B4yOz6RhO\n",
       "QPIOY0fh5UcR7zQOBpyaUBNl58eBHySBCcJePtWyCOMahQIKS2tQiD9eipkiVz8walkvZeeUtctQ\n",
       "9cPzIu1G7UFyWIOIM9k3U7YwQPmU3gEQKG/4IJwHQcNIcAmabfXXnTX/i+FU97F8HebkIq+xhqmt\n",
       "o697fPiK8F24olKYVPA47zwrW5PMIa/BKD7XY6A6y8ZKRx5tbxX2mGy8dx9ImrgISR8TH6HMQfSx\n",
       "5pUqqXyo/ePvfvYeyY6VaAnTNZqtMWPMEiU/ZkQ9Gua+HcglnKk3+V7zYzxL/9BnSrrBOQUEHMBx\n",
       "cj7p1IDsUa9Q8kPH6zJcgKmQx4WboXIOdav1oDnkGJlXaIS3HOfu0/JGlCcI2aJJhGu2WjT5difd\n",
       "8ks+lHTRNnTS5H4kAcCM6M3a1UURSv0CFNV4S2+XiVkQHABhZsNAyyvcQk5vy7AQUF6bXr6MxUTO\n",
       "Luyzfuimb8W8fMFTCS6NHVXNSjfoPh3REv6Zk37Jk006F/kyE/mGzEqFEHo2v2VeOlOt+FYu88bf\n",
       "0hbR85zhDpJ1iLfF2JYwcFkXY3kjkusm5Vpu6NTMDI8jbZWXEN1G01YWCNfSjSMi5YzhIPzLbq4d\n",
       "O1ncz45+KJPG6m+kC3Xlh2T/t5OfP7tQy8TrkDHFtEmoAXWOWTeEKPX45kqS9lQ64yWqhLsJCf/J\n",
       "pu68VvM2JSIIc94MfD2cWXn1QId8voms+dV+ITPceTgSB2H9fiatgVsn1aDeqeu0hg4TqIQQ15+K\n",
       "JBLndHV9XFFTTCfvvyp6q/9/ZHXL+RRc7RjxS1PP9+zPaMbq1UCLAst35yrify4NRTdWXu9kWk/o\n",
       "TjDV7uebvl9dD88Nkin/vEfBA8vwbsdq2B1kKm/0A08fFVitXqOuONhh/gn6ZMJyYnzShEBjvCsW\n",
       "wjbsHLm19v6t638fHByKh/IEbkzR6UA8bL9wDijKYxaMaPfYcnDVAlMSjkSlaByRihx++fo5DzOH\n",
       "dQ5uS35cfpzmAqssQOTKug/W47QwVDfz62LmI9pXyxm6aQ7Ld/4d2LTmfhDkg0O5cHLKgrvLZa9i\n",
       "qNLg2G1ke+vwFgb7jgrJaix3IbJwErxtY+vvin7P8eHHm3028ymbyhV3y+r8oBb55yVWFahNdQhR\n",
       "AAB8g68oO+aAryZ9EooWiYDRRvu7nivtecdrT0veZL+tEtyfnP6msR8NzxMzUSo2ZUyY8LYQm0/a\n",
       "zZGOvIWk52F15PLNyXhlUegS97fECp60FhNN8iAc6HGj4JuZPYHzoFy4cZPK2snghEGWe9EYJFOs\n",
       "IPN+XXou8NUtDD0g4Vy5OMDEE5lUH5KbUe251t7gUVxb7qYvDqO39maUPpodHjA0i2A0vgxeHZ5y\n",
       "VxJozuW7YYthMtRKTgvbJ2zRZ5pEROuph6Pf+jxBwaueMGva7x8zsqt/3J/vOZXDcvz5fs8TT1Ks\n",
       "58ZKEuH0jZ4/yV9zlSJ514I6+TiXxvN/MNUpxbzKNxUWBZzbdm6YImHbxHTWzqGnID0BtEsWODeV\n",
       "aGBUdQ6xy9cJyRHgudwVYPJUP2XZxdjBZgIDHX/LQn2ANaZWD2OzVLGmv37Ua+6TnPwRyvfYVSs1\n",
       "QlMpb4Z9sBu9GTEPR4YnuiRYDGspGWSRfcgHeci24X6gEuDjDKulLvoNebzQ8UnjMJ2wS5+fzpZm\n",
       "YF9AIo1kKIhWwVuSUzU9UuTHnO3YGSzlB9XRULHZw30tX+GHTpJW7rH4WV7wThO2W6Lp4+OUdRGc\n",
       "DAvVGZNVTYdIlbTwGqxKYGrQ50nAMY3bQqsMlY9JTtYsr45li3P08XGABIQVekVa0pjNlxJE4jVt\n",
       "j+DTclPJnai1YZuwr6TVqg8qjOw4jL9mDyeX88Koez/m7aPA4IfYzLFQbRVPXybvN1cj3sDcSnWX\n",
       "6014Arhi+X/Fj/GGwkm6atzckDimMlnLYqhuG0Gg+OWcYySBgDUsOWj2iroPP4ivx3aor0TFofGq\n",
       "C6fwPeCTT5zMRqaP6TxP/dC46GigEVo5iS6DrvA+iq8vzVUJbvoYQtjBNa33Wbs6Xm+nLjfKH9SH\n",
       "uXlIBmfBWcj13pUuJxlUM8hsed4SaHVJ/oECKl5KPGdUNPpHO2pF6OkdJLVv6yrW3qIGiYOJQb6R\n",
       "Vect0+nRo8Zp8S/T1/1mSRN/PqTn+F1bCT1F7C8SLx2ocD0/FTZzzExtDkAdwdGQbuSPbcHV9XS9\n",
       "89mXVXxkI/pPdHmubfZ0/GuC9o6GvFnmC8seMVHIpAwoZqBqTlm04BHgwpHu792icrpp2x8BKy08\n",
       "M6B0/eppC85hoxQ8A72kjhVHGi2aOtV4cRt7L3rPMtmiVKPSJZF/05ZhOHV9uP6YYXo+vdWoZRAF\n",
       "5CdkOds7mZRVIfM2T9ZcLVKT1tmYXEFxRxlW93dRdT/o7JFij3GVGAM9KotqKYxMjJJbXSdND7Zd\n",
       "m33ffH8OWtiLd1uMGeHKoZiRQaTH68urm0S78neN6chGCola1LZvKNfLCaKLC6WmlxIVtPpGEUXY\n",
       "WW9HCCdSoalyPMDosFbESNpDDNE+GuthRL3cXhEVSIRgIS1WPTKhd0x434C/Fy3O8F5IMmXJj/4y\n",
       "hYhPj9c+E7rA3L6kjnm10Vh9wFOLqmJRP+tQjHlHrRd/2JHqdJoChMN1eqw80naIOt9gXL1YJfen\n",
       "Hw6XH7TbMbkjUxvCrXywsrVWYGBZaKGrYt7ZMFbeEw3LE/AWzOI2m92x7JU5km4ozD6HXuEcsa5c\n",
       "UWAz3rEAHG2n9glqFZXgjAv/CerSV2+dwUG4V23ARiCbAJRBymT7WstS4E9VP8uSrj+5XMYDGV1P\n",
       "LygEr6Gi7qrnddx/Gjx1ldEsYs3PP1ZuqasG0d4uPom5Zm5I6mjGHpD0TYMS7jQEDX3N1GpH4Xxl\n",
       "xdPhnhy2H2hQsWVri03mvfXmLeMggyF8SIdbSJLb6rYwNkxXa4sfW24e/7RTQqW2vEfMYykDaAHL\n",
       "ROeEBaENkHFM9b1JAwvr/3/XR75KrKOgsU1M3OMwyPYi3zTWL32Ac39qFggR+YWaU2TCM5ff8v1w\n",
       "ltjr0LiLcgrDRXzdNPgdY+PSqZe16H/yWhDoL6A7ai2phcxx+/4g0vFPJYi2MgBdIWXuS0kf7E+9\n",
       "bHwyew7LGDOTlXhQ7fP69NI2I3FUhxrTsUQaQwYNdqZy62ch/NAl/9pKrgj1MB7LxOIrrnmS39Qg\n",
       "mK7SEkABPsCwdShaPgBRUocvAK+YExmhstyZvaIkVjsaIEkup8V1k+/XMWA40IkC04txFxhaZjdP\n",
       "oh+Yx3pg75/CEJo/pIUMTVbcYCj3dK+dE5HWQlGXk0+hHMTQ0SJzEql3EFtrQQFBDpni0urOl/z7\n",
       "l3DxyXVs+CJLzWWhxsk8WwGG+XyrNr0Gkb+TNQ5pz9CQT4/C9IMYTnB6YgsLF2DioUcLLr03aYro\n",
       "MJUvEQixj1opOBrCTUZhWsr2H+/nuPLGLBUtVcI7yQ6YtBfrgaR8hQwTCNxen8L02gh5xrLZcka5\n",
       "a/7VybXbW2OOP2Zg+GWyHKdCXau64J9l0jJJO331SSNfNwgDFFc4rLv3Mw+tIr++HwaQ/YnoVuBZ\n",
       "3pOtLQwGd6/9epsqjHnaYH6Y4P7yZxlOlP29PVqA4KWPbfQwkt+dApdofy8AXgZDQ5XIq7Mv3gvD\n",
       "ofd9uhqFiS+7QKVc9CgPtYzJWyrQH0nK2LeCXfviDE4Xeb2xotX09fMeI287tVHeBP2Tq0jWomWg\n",
       "8/hGRd4fI0caR5imL/40Y1WRI+oZt94iTo3Ff1Tbx7ZIIV8kLGPFb5C3y914mVsV3YyNtwDhiyJR\n",
       "y2vAcLT7iHBWDgoAW04dmcOLZxTKmge8SDTBQ+329FkZfVcGjI1GPhkjw4X+9TX3PiBNuxLRiBkE\n",
       "WjqxTeFrqNbu2AAC4hVx45ke7DNYIfKdsPYvwPCF1rpQa3B0GzVlK87aVFK5Gx6+Ggcp9AGsl8dK\n",
       "L3CUIawAsosGJJQjpHhzO+4neytVRBbjXRfGjQOIBoVZz3did03BpraEuBqdnPML1X5HQtzfukTz\n",
       "omrDxofCMDlOBTrtY5qHqhqwG64ZhzRSNMvW6fBwcdImccibJx4sd/ifzlZnUyAe1Sh8nNTn8U3n\n",
       "o8Xyb8pBeZEH20A/w3G6nugWVTfjqHtyV6eoTCMZWpuB8KeusGUkDkb1YtCzR8tXFnnEpvsHigH8\n",
       "utPCt3UI11aQsounyAIUzV3fYRN19G1U1SdjDUXzEnC6ZZ4Ca3cei8QFsK3PEhVa71PJhGvnN8/z\n",
       "fm6jAeza3wYsWFaPqX5SxsdK7JgEflWin4sYlCuUFWrlP4Q5HeCyfTUC8Rm0WyCBapzDQvM/WIVf\n",
       "mfk16TXlw09qyiHsQudb4n1bVODyklCe5DoefGWow3PGkUfDZgQtFft7UqUSIQ41b6ImSfcyU6NT\n",
       "lxJWURS9zrKLRvzC9OVsbfCL2K07GSSFy3kyN241ubSxtwnHJnGJhK1Q42FkDOdrhmoEGD+HMrs4\n",
       "dT5ltNnWF1GK+kuWTFMUs/1bNGktLZbNvCJfQvVFCZfVlkV/EgotC+kdzjXwzNoKN3xVxbGIQ+Eu\n",
       "dhqIxkTbW60drJIkPDI8Tx4zOPp4UIacnagdLyzHbCrtNwnr/K5ZUiTzKS0jhj3fHC8AL4zs9E9S\n",
       "PNKkS8z+7P0SgpiawHZZa/wkg4WzaYcYN6yb0npDYxU76MWMrgVrENqgRXr0Tmnr20bTOxQZmSuc\n",
       "m5oV7blsRxGOFqycfVVLVQEJJpv1bvS9OpxeDEoHvMCwfsyWfWfQoapRFeJ0OiJX0XrfGz4aT/+j\n",
       "AaMl6TBgjXjwJrc5p7hj7OZi4hgf64GPj9c8F56/Mz0WW7fufXW+ZiIx8vXT46lR3QlZlwiZNSwR\n",
       "/9B92YY7IwCgO+rCnpRk35+3JtmwXIp+79bH0Io7MUrrDcalcfK7cXU1VbL0lqHRqD7A77GV/mZh\n",
       "nIPCo65FkNow+VCvsNJ6mCrpTYbchV97/S0ylFKEXwayoku3NN55C/JD9AHdPi+F9XHEKsRx5sDF\n",
       "bZhUyQ9UnuQWnix+KPXkT6Mgtd2NACMWqp2IPHlKQwowCn9fQeRcHqMlBuLJkSJrDqrsLUQumvbY\n",
       "L5/ECmQJrRNO9+0/QfqMIT6KkVKzGmzx7edqhdDfhTHGAQvPmEbmXkZs2sMejNhNbB6IISrVg686\n",
       "H3TRDNICpppnuLV7hMSkxgRh9L2Tyhddd/e987gsuZftWjiTyW1JDe40A3myukYxZLjo3qmhuwBv\n",
       "buHkPam0i/YwDm5hH6k+ANtFDFI1xKKAROPUPE/oWkfAkQS7yU7Q70wPENOVDFuvmKyyIPvOBsaj\n",
       "oDlo7OgjwgC3SwdhfRVszdmZMhZdeqemvv4QiLt3l2gSsHr8TkeuK0cMKg7SoWyd+vcx+PoqW+HM\n",
       "lnpncB8ESAti+32tqDyb3XXdr4FZv9rrT6EeVmANTsrHzK93m+x4htxa+sA4Yfg4LVcKJ4Cs8Y/H\n",
       "k7nv5zLSFLBFD8Huy4tdfy5x/V7+p3bDFZN+1kQlF9kXDlikRmEXHI9a8L5CkVSyWrzl2/SKR6yf\n",
       "zbyvLd07oegYW44S8nFti/13zyBaE5zCdhtMZAp1Dx2N8PmvQ+9aGHhptWvI8Ozu5wvAsWueh5ty\n",
       "v97ilXwZrTCwojAvFRRegrPfoyQDfHklrE8Q9jIQh/t+aWaOV+O1tTp1boOuEtUe3wh8k5ePJet5\n",
       "cI1fo0mVHI5LDurmfOtvHKAfYLbFFSpRvZB3uzIslruOSeVnNWVDnf2ILO0iOnONTQDYqGeHEdWB\n",
       "txhVL89+OMZHgLl18OhVzdxP542fgeIpnm4Sgww4hyaisVSmOdm2btMy3cF1MMkKMUXgeQh4Y95L\n",
       "Ecd4fZCvQJspFye8JHCa/b5eiiAM7q8IBmCXUQtB+QiLJGrgLB6yyOGDj2vT2RyiII3ExlnpTsmD\n",
       "+OSbSRH05hAwdO6dF8uJ0hZu/s5cJT5XX54r/miQgHlzF55yFxW9/gmqX1SxOhgzb8rsVu968Cvt\n",
       "i5fpBHlQG/8Kqcc/BREFhD2Af+NA4LorN92L3oc2JdPNWBtiOhDHJ95AQ+szzCeYahr1+DHdpHmE\n",
       "PUq8Zin+bVlvJieATnzCJ9aStMSlUpibrf4Sejvl72RDZX/U/1ag/eFkamI8idpk6gZp3t//uBlO\n",
       "EhuYzt0UJwigAZNHXCFLOlMZH3ne5J+coWJ6V5CikJRwwYetTdFNo4urJzmxM4Jj8aXZoSRW7AmT\n",
       "R17HUfzm4l4i5K2B2++cKRyF4TMM00wBHaqEVsLqDxFAo1ZcltwY8x01VQAajNtHVdC1ErLn0ru4\n",
       "/0tNpR6rgkuVW3QOUZ/HbmbaFIt/X1+a5qHLhP5v2RwoPbLb46CIO7H47LnqlaB8RW3M5MAuHnoH\n",
       "XzctKJqYYtLxo0wqrnrcTXDaWd0w8gFhslIIvBIlryViYwUOWBJJV56GMqCEFu/3EhuO/tQ50xAi\n",
       "tlgGqGuuRMnsuxLhmptDJNNDJJ92bqffzkeWM0po0dcbl4QAMRAPzxBVOMnRAFg2gpcVPP3xm/9A\n",
       "1FMXJ6xFaeP4r126gdp7hOfqJGgWDiifXDARYXi2sFfP85/ElwcvG2yvR85O0IiQOLGz2C/0/yNm\n",
       "fttb2tScM8h8f3+ISLMAagOCmSrhO/ZIVJx3KNh1bi2Eh5P+Hh4Ihn2xOZ+ryjelCwsawGHdUMfA\n",
       "hQ5jRWREaFkRX6zlGbxxQ20VWpx/7GaszhW2IePzKPaKiMjVy2BFra/BBe4R8jALd/gtz4NIAvCc\n",
       "baWttNHyXWLedR4naN4q6f24kCDRR5HuGzSpUQvfCQ5/+dhnQclnz47JgpLuhkQ9eNm4NtQclYnp\n",
       "hbUsGjZMGE55ewGIG4Fv94d5Qxt6QcfIoe+a5FcRn1lI0P2u3uhLvNgVtQTmE3UIeTabFAiomU/O\n",
       "NS1fL6W1fxwxtEMCkvtLBmd8Ctc0X6pIqwmfzrNRJZxZCZnfmRMM2igibSHLHQEstwpa+R8nJFnv\n",
       "uAhoPBPvRJZBvHJHN0kZteQSV0GXSyi6m9YdjP455CkCKVZ1JVXYwt1tSK8OY6ihbmopmEF8sbWz\n",
       "wjrVD3RAz/P1p5AzEdy0K1QybrRvtzTbvieSbrPkar4ITPi6VGWAWZmy6m0fyZDDNvOvVe7PXKo5\n",
       "LG7PVHH8kiu3tw8qBQRoHSXWjFnnUopTST50u50IQzDp1b60OIfJXT4xtkMoAiKw7yvRcPbYIUbw\n",
       "3xFWSCL23uwazWH4iayuBGjVB2/eJ/J8madfzqj3kt/i1RGZ2BBo9fFD/NpVUY+CR/kUkb3MEic7\n",
       "N5yNleOPP3Tsh9DvVXKIlDV31ShDVgjzUPTScn/6HKOa/r7CN69AnTwfhQ0zdF+Iw27Hg75Oaw6U\n",
       "9gVqfXsPQlYwRw/ywN+JdfEMTC5T6XhhZ9OsXxh0pDEZKBXtWzCcQd7QXvM0cgb8Oo4dS3V2cJ2k\n",
       "H+sI2Oznl3u9IEb4VDHU4Da+p0KmLbpCSjJpLVW0UhPx8KIHsDbx+3C1VBtgybi6sW+AEAhKTNSo\n",
       "3yxR9ZoW7Q8WSG7E8ddc6UDiv3E3C94TNiQQs2P22cf4LWj3xn0aIsL+F62bunnabwBWwkiPa8Mt\n",
       "/xwNzUO2bpsZLROx7PSCmhh8+tw0zVkjR1QYMe4EyQNdQQYJ//hMSaX+jAuKc1dOC/O2r41nGGQQ\n",
       "G9hWGvpDVsLn48NPXvIBgPTiYRzNmb4msa2H7AH8kDkEMn54fZQ5JZ4oJDmej3XR6I1RvHxaAPw3\n",
       "RhS08Ef2QGDAeIdtZRomt4aciTGqv47+cBW0HN/koziO82FfMnH6kkVhXwRj8GgqcBl2Zslefdwf\n",
       "o94bKQd5/sfpvc0ywEy+05NCBhBMj1ld1BAtkF0uUbSE+aagGFbmzkr9JVawsSE4FOMVDN6uNhqe\n",
       "V4sa8LFHsyzxXh17wXvudtvsfwCXi9AZor6YyfFKQc6AMJCAvL3bW3saGoSGlaQoG9dA5r3LEOFP\n",
       "AFTE7GEqvEWfcnns26VLIRrdFdiZgeAMdOKyNAhsBFBFkgWBITO3TJwC8fBivsX52zRmD3spRDDY\n",
       "RWpZ9mXzwI6QAyKoAHuiHUePUwFQofVs6NHtvuIb9zLrYmmLL0qPyqXbEJPP1/UAVS0aF2DECz57\n",
       "E2iWejA8Zmpnh5wyC7ALB1cW2jdJeDtULaFRvZi69rX62XefeG4IbGeV1E3R38h8BdrvSQ6pPJ7X\n",
       "NZaRA12Oa36R9VWajThSOOP2oPkf+6qUDLCSFGYeVtTZ1Ma+Lcwq3kZR+ihf56auERyogjeXtXXc\n",
       "VgIgJTjvBYOl39erKiMN/wZvd1Vkgwi+5De+ReZ3e+VddTqv0fs4l7919YnvWZlprYdnFUTW1Ujw\n",
       "tiTYvhUJP9jdaWJxkkPZH4OA+VsuHUPQVwOTjb0Xy8yqGsdAE+zGU+2TsAT2S1evm1MH0hizdLnF\n",
       "OdMYZ4h7Ie50FoAB2lwsexod0Jy9Hf/Yn0hr/GuNMrUL4OlXXV0sQ86AiSs+PNhmUunfFbxtewnR\n",
       "kbrl2SKzHlG98ZE4h+lPf8J46hmRPc7M+M3cjjdbRTS5nK4uvpX/taP5dfnCB170u/1naI1IcAIg\n",
       "h7Z4890YUERWe5aCS8QEUOzuCuEO6ZlMzRpEOViCs2n1fqZlW2dl3CP7RypIa2MHan6zEfLJnNOa\n",
       "9pRbr20X3oOvgaVrOIgTH3kuEAKRpkcHTWcr3+7FDL9vXAUp99iB2gC3hrCpY/Ay9ARIJ5x1LfJL\n",
       "OEoGTJ0pm1Jxl4/zZ35F9/xYto2pv/YbsWFsPMUXE04fCYgEBRVN3WzbxshFfmfn2QZiwmC5jSQf\n",
       "9hPYH3/pHvbQStQEfcnpVuGrZe6hnME9qPnbJjICaS8cT5xjmY+RE73WqKyI8x5IPyFxC99wtgel\n",
       "/Pkx1v0XsrzUp7GiRn+FQ/KBbc+gb58NynTs/tQXp0v99p2vsVespWKL0IzutDPtJM4PLv85ETif\n",
       "rwdma4Cyq3JRG0IjCWw6SDz3/8imgtpP2G/Wzhs03JNuBYNpuIN9HcsX+gbQSvQ5kX8PfqK0jFBe\n",
       "RLxDZCNVeTwaNeekEJ1Nh22GLCXNfXeNNC+XAkrVZxUSVpJQshFLJCv77mswRcHJW5BV/L6UfgaA\n",
       "LUo1324JBsOP330NYy1K9M9+j7UNg5L2K5wPnbrhIZHVyXVLZ/d+FbrP3DbMQ/7WeesuBw+XIlt5\n",
       "Fbv391cm4G0/0sYATbexfWU4xKTAjhWxmjRRmyjCByDsLhEEkX+d9yL4Vks2JOhdXsBy+qflNOSx\n",
       "nYLSQQXT6NXV/5ekUZ3bvUc6phKXK8jFWLmmDHzWlUAEdolwKQkaJF8n2iWWMeWzi4rdp6Yl0OgJ\n",
       "Athi2qL655SrOgEkd71qJKRAAAR5B4H5gCPofIEAAAE9QZoibEI//eEEiyTKHLrWOSAWLMiLZ3AL\n",
       "0fx7D/ruQJBaDkKfVMaJBr5rs9nRpeQOKqbOVIwAywby4LVaAOb0kUWAjxpqerz6mjNe44ikozzx\n",
       "EIn6Ae2EOSfVkINxbZ6Rj+x7Zpb0gqjiWvRVqd9fL8dSA+KrZ3nDe2h+8XduWd/AKulhow6gYzIA\n",
       "g4kF+N8Tzm5PnMEqalYSiwCQjbNBesvN+u52wRld+/l3mHVF3eAf/XKFrdOsMEgP+OpCukrGepup\n",
       "w1fbwJztlwYH2ZWy448GAV0FWs8BTEmfslle7t78DI0DwXH3bwBcqqCga9+dqBsJVg24WA0rv/tZ\n",
       "bn2ls1JQD6gUUILANqowHCLPC11LiXxu08fkulIBUEM93WraabLMRcRqlpqDh4BLjI9/zjObHLrc\n",
       "bLb73eJm5P0AAABEAZ5BeRf/CrWAHJwodiYnmbQg2ElXUAAAHWVFyxknqLEMAINWqZnf7QsLIZAR\n",
       "yzVzEvtxlA7BMgwD4m1qj2Bwfq2ZuxoAAABvQZpEPCGTKYQj//3hAUvWyIuIzGoLSzB9zzitPofa\n",
       "agH6YJlH4bdwDeP4eu35fBPz9likWsP0f96cFxs+UjKwUPNpcLHKoGSjot0rQNbbpAf44mNjrCSP\n",
       "p3kxbx756BdnP+7IYPC1kf4maXBC/knxAAAAKwGeY2pF/wq1gBycKHYmulkuOKXoZGXno7MBSIbf\n",
       "FcWjMAJIdYFY7DulMCEAAABtQZpmSeEPJlMFPCP//eEA1+6r31Xt6oSHReuuH/yZDJN9QArmha1G\n",
       "GfEvozZpmDhu3/0vXwFByfTPNliibStYWrUSUXV/KbW0haCwd5/9M5nNczkqX730O+JgdAH6dgtd\n",
       "BgID3u/WAvfGq1uGgAAAADcBnoVqRf8KtYAcnCh2JrpZFnSsg3ify6vRgARAk7I8xhFw4W2XjtBG\n",
       "33ZhaJqwEkzbMsLaOjI4AAAARUGaiEnhDyZTBTwj//3hABUfWobTHAsBXHQB0Bxt/WJtbex1x0xt\n",
       "u+lQZ9FsXkBaM4o+TrWlgakRvxsWfcjR4SzW90eBgQAAAC0BnqdqRf8KtYAcnCh2JrpY8xIw666N\n",
       "0iiAD+hl+CncUwDLvRXW5jEuAmhQzpYAAABNQZqrSeEPJlMCEf/94QAUfK1gDo/s9XQS45rwBMKx\n",
       "DQSKYzH5FoPH95GDUadruTqaOkRvZdfe9roinVHk9Z278fTQudH+UhUZ+WE59V0AAAA2QZ7JRRE8\n",
       "Xwq1gBycKHYmuljzEi7FM4WAQae7LAAlXPCBFJSEOEd5I4wBa4drC2FxBCLiqoOJAAAAHwGe6mpF\n",
       "/wLorOwwCgADU3UjXXvpbxEcqAA/03NZiKAAAAA+QZrtSahBaJlMFPCP/eEACn5V1fyS/rBJ5eaA\n",
       "EaeQdKYWivcEYldWp/VQ9wr1bCKFuKpl++2ACbokCTS45JEAAAAiAZ8MakX/Cr78gaZgeyPmsegd\n",
       "9QOs48xwpwgY4sMinp4ygAAAAD9Bmw9J4QpSZTBSwj/94QAFPyr9IgA3niyeQlrQvy5CK7M7i0lp\n",
       "7CUqpZnHcdjLWfouYoFWVJkkS9BNy3NySDEAAAAwAZ8uakX/CrWAHJwodia6WPMMmkThXVNgAEHw\n",
       "GCpLwhJjqUrt/Y4qZrBY6Q3euOYxAAAAREGbMUnhDomUwUTCP/3hAAVlo7mN4BMqpaiIAVlM4OJY\n",
       "9MRYCaATmgo2Sd/glNd5oRAfaaGLCZyhntrlhqBlt1Bi2A7AAAAAMAGfUGpF/wq1gBycKHYmuljz\n",
       "DJvoEIALnqCe60x4S2lzx0u4evAfRSuvqiWlYEqDdQAAAGhBm1VJ4Q8mUwI///yEABT8UVYd9Exo\n",
       "HjrACdLlszjI9a1pjTJX8O5Hyx0kn/mxBwa54UyErL07WpdYPk6XkB8pPyi88hoBxf22Ry/amqgl\n",
       "EaWl3Kz4YeVP/deFKWLfmmYbzhFgxiTxYQAAADFBn3NFETxvCIYgFO+oVqQVIoCz1qnUfpl6h11I\n",
       "ADsZ7Gmr8KvROgn8oYGTHGpYzSfaAAAAJQGfknRF/wLqTt+uChsACVjPrnT9XZQRostYeXrCdh1f\n",
       "1TQa3SsAAAAeAZ+UakX/Auis25YTrp/YT37RP1SOc2sWpjzp/T50AAAANEGblkmoQWiZTAj//IQA\n",
       "BWX4laJAFAEQXwB4fthG9INUQW1pdhN+gB6//aOA5AM1Q1ChG1MAAABCQZu3SeEKUmUwIR/94QBP\n",
       "dXf0BKzoID1vW3Gbi8icCm7T8ztKWNicpxKlCDDzb+sqoU4/PenEg0Mphr4yL2FKcneRAAAARUGb\n",
       "2EnhDomUwIR//eEAT344AjNt8ZrTmOYGxci6p4ZTaoCEvDxB/5nrb8XU27QFHe0dqY3OU5tmcXn+\n",
       "Dt06CqLc8Hvd5QAAAFdBm/lJ4Q8mUwIT//3xAADdAc9D9wCagyuBWBOQlqMVJl3w4YFF7OIE2tXU\n",
       "juH5Ku8AY78aLDx/ukPBIKjiriasNhDf5kr+HM4+QThMewYX9348FgHi2VsAAABLQZodSeEPJlMC\n",
       "Ef/94QBPdXf0BKz+v485/S1nimbwrIk7wCHBJ5yEqWiVy5IgQ+kGevXSTi4jdYW+OCp1S/AgAUtS\n",
       "CM25FQPibnGgAAAAMUGeO0URPG8IhiAU76hWqJYa7WjGYb1OEWq1EUAEBbxuV28saiYW16F+aqyq\n",
       "NyqcxYAAAAAwAZ5adEX/AupO01HZAYAQoF/hIiFbBxtOpkV4nl8wqQE6u7n5tvScfRUkvlHPoJPx\n",
       "AAAAGQGeXGpF/wLorMp7njieTnxEfVRn7Z06rCIAAABjQZpfSahBaJlMFPCP/eEDXXVXuqbEXFl5\n",
       "0vjUHhNUSYBknRcbWvnl/0dJohluZXCdPUarTQbLv+aKAD+hSC6tXcb886prbW1lfW7+fSQ/6ggU\n",
       "tvjAkPEmhIC+9//a+ciru1bAAAAAKQGefmpF/wnwlcNDMMtxHKFyABDhnuaLPuvoYoywxq4o6wdR\n",
       "mSrwIMPhAAAAQ0GaYUnhClJlMFLCf/3xABhedM+RojO4A4yRwCQdj5Sr85gGxGHTd4FerUWmItvu\n",
       "W4cZb6j7biKrvaUaVEbfgcphs0kAAAAnAZ6AakX/Cejqbd4ikj6YMqPRrUAGjMLBz82O5HJk/jIf\n",
       "dazed4ifAAAANkGahEnhDomUwIT//fEAGQJLFAAn1MEgHX1te2bcxLXOSxQAhW6L4TvOI4391iyP\n",
       "ZGUPVl6doAAAAC5BnqJFFTxfCejqbd4ikj6YOVZPGcrgAGpj4eodEIMOc695oiI/Ct/+IOuE9ISA\n",
       "AAAAHQGew2pF/wLorfdnlDGHsyND7wurMoqvpeIK7r77AAAAP0Gax0moQWiZTAhH//3hABSCMm8S\n",
       "ABwYFWnaCcMqOfyWGeH8b+xdmTtmjVubiJ5BNeQeSufWpsI4fiThDOQ2oAAAADJBnuVFESxfCejq\n",
       "bd4ikj6X+kLgyPWgAQ69xsAdovQ9xbOMkGdPyK/qS28dt0QwJPC8gAAAACgBnwZqRf8C6K0Ql3Q4\n",
       "SADZVNMtRSyfKwMfibHnOkovXo6cAy2Um2pxAAAAUkGbCUmoQWyZTBRMJ//98QAM6J/8BQAsPbfm\n",
       "7gmLJ9oWOV7IS5evKoLVQQW7vevG6AZ2ldB0VEvHMNtCHKdKxMnc/6u3KVJ3zErYvMgRdbH9hSEA\n",
       "AAAuAZ8oakX/CfCVw0Mwy2i8vAZCGAA/8zGJlyAZwpryRRuCZXRGt8gQo1y/0AHDgQAAAFhBmyxJ\n",
       "4QpSZTAhH/3hABRsq9VIBYwL4a8bSGTJIrc9+wvbud2hyCT5GKJjmdf7rX0F8AIdeB5Q+mhdNpeL\n",
       "2VDr5uGAXnH5BkfNFAbD6D1YrIN47fwiZB6hAAAAO0GfSkU0TF8J6Opt3iKSPpf6KNNO2SjpKN+i\n",
       "4AGxB2hHRLyF4l5/9STx4XBAe6TNHjjtCrDXNpIH016wAAAAKAGfa2pF/wLorO1LhqxCFO+YAICk\n",
       "tQOEg0/r1kKaL3VTOVnFsuio53EAAABEQZtuSahBaJlMFPCf/fEABpSSq4vrwaAPJ7GSv5lffVNg\n",
       "rWRQ+muuWicfpMyQaNiCxa217y76OKCWIJB0OK4jL5uYscAAAAAnAZ+NakX/CfCVw0Mwy2i8uEC1\n",
       "rT/ahLMqtOcHT2Q6FFBmbySCzRyBAAAAUkGbkUnhClJlMCE//fEAA2BFU54BNe3xXuOHKojd0oj2\n",
       "v1G+acmQBitl1zxsp4LRqb1p43zUI9496Y9JS1RG8jg0jyKHZzxnG4ssZ8AtTsP7vMEAAAA1QZ+v\n",
       "RTRMXwno6m3eIpI+l+NGfUwPQpgA2BObGaSSGSy/gwe3l33rFHRcVaJqPACkrlEN9BwAAAAtAZ/Q\n",
       "akX/Auis2x+dkhgzTABAUlw9gsYU39IOHBh9SASiUNfamnPMcgt6w17CAAAASUGb1EmoQWiZTAhP\n",
       "//3xAANfFxZJ7k+23GoY6gAIwKwRbq05+f1aNvPo0Zr9BHQ7AdsdCXBaE1FK03EvxGwbDayGPpLs\n",
       "a6MQa0EAAAA1QZ/yRREsXwno6m3eIpI+l+NHUMABHq/ivqUg8pSflKX78fBMDBaJXvA/1g6VkuGV\n",
       "9gtmLdIAAAAvAZ4TakX/Auis2tyGKEgBt9GoJc3xCvxv7ScgidPB+Fpom0QJtuQn7itMbAaS3AkA\n",
       "AABXQZoXSahBbJlMCEf//eEABT9YWPsOut54ZAJpxJaAwpl0h9vd7oLPax+9PbgdZxAS8xL37Lad\n",
       "oz8GeOOBRVFoE5ywP9KFD48CZHbZm8Lyfc76YbOvbF7AAAAAJUGeNUUVLF8J6Opt3iKSPpffPe5x\n",
       "nwjUe1xsLLl+Smy/awXMzLkAAAAoAZ5WakX/AuiszOXkSAE1Iijt1/IBKKH7hpP0Ow3/qIWeg3d0\n",
       "0AVCTwAAAE5BmllJqEFsmUwUTCP//eEAAWFEoAANtzkLLBcVYbGvI+5fw0tvZhXRmIvf7ylGPM2X\n",
       "IYLYFOfMpzWcWxxvonctHZhHZOYtMQk6nrtyGEcAAAAwAZ54akX/CfCVw0Mwy2i8tMbDu3BAAuVT\n",
       "UE7j1DmSI1SZuWggOlf7q8AQ88S837elAAAAQ0GafEnhClJlMCEf/eEAAWKTKld7OuduhPQBDpU7\n",
       "KixaGZStEx1oy27dWvp6aCUtU2Vvhb+zAkeKQCRzX6tQX0wdIYAAAAAyQZ6aRTRMXwno6m3eIpI+\n",
       "l90u9znFU+5YAIPtmdqnzD4u6QtsNO42sfA1UUQMAYu4LrAAAAAjAZ67akX/AuisyoJW5/37iABD\n",
       "Psj8rt61Rw9uCk2zWKithEkAAABdQZq+SahBaJlMFPCP/eEAALW0f7rAC6bMc/aVHmR6Yc0ptDnk\n",
       "dtmUZy2G5n94dKlcjyBh2h4B28mkZO4lxPkEgQb/ZHmMifDBPhtHjeQFxVSc6hM8GpucTbjbyx+3\n",
       "AAAAKAGe3WpF/wnwlcNDMMtovLSEFVVGUwAQrTv+tJqY+AUZ84aMOnchOoAAAABHQZrBSeEKUmUw\n",
       "IR/94QAAtXSK5HJ91wAj3d9IZjMDpjwJ3kVrx1B75GiDauZpqz0vckO2XP5kqgBcihNNGokYcNDZ\n",
       "8vYK0zsAAAAyQZ7/RTRMXwno6m3eIpI+l9wXmlOhE4QAgIMkVkM2TVd39NG4eHlKmbBT+f8HG8i+\n",
       "RTEAAAAoAZ8AakX/AuisyUw+VUCXPeAEJDj4JhH2yZ2VVzKr/RJ1jW3Vw79ugwAAAENBmwJJqEFo\n",
       "mUwIR//94QKTkmUOYfY981eqkAtDxIqni/DOuaYiagKx3HzSjIfvv/1vUWHc6XHsdcIrkr9CSJF8\n",
       "oS3AAAAATEGbJUnhClJlMCEf/eEAAFz6RXHtxsnoVhA0TK1UDVVAEJOOaox5el3QRLYxIrflRgZI\n",
       "AKaVPZR1+311sXft0KD5EysG8yVFN7NnmMAAAAAhQZ9DRTRMXwlLMm32DpZuvxnlOG0+lxDl5woQ\n",
       "VgObXv6RAAAALAGfZGpF/wLorMilhYi87jggA02e1SeKUojGIgntjNU7wertp1+87yodwC6gAAAA\n",
       "T0GbZkmoQWiZTAhH//3hAfu6q91XTw8jHsACNSfii73D9fjxnfwGd1WNtsqJI+xBEYdvDIL3DBkm\n",
       "EBC4tNLJNHIxmhKBRipCHDU85sKlpqEAAABQQZuISeEKUmUwURLCf/3xAAAOyf38FC+SoAEYE+yh\n",
       "rzpAkcow+4v7/Da3JrSHRh1ke97wdXzZljk0+DUpd7jnlEmAfANeUZyNto5i2WjmiS8AAAAnAZ+n\n",
       "akX/CLs9buS0voeQQANp1aaxDS8ySLEkLZT3wTkLjo45xi9IAAAAJkGbq0nhDomUwIT//fEAAA7S\n",
       "CKyTx70zeIZGOXLxcj8Q7rngfa+xAAAAKkGfyUUVPF8Iuz1u5LS+KoT84AQonu9oAVSJ0U8bGnCj\n",
       "cyWrS4Zth4s/gQAAAB4Bn+pqRf8C6KzIqgcbnb+/4s/dWWr6T/fbRmjhAYAAAABxQZvuSahBaJlM\n",
       "CE///fEADyWPc+Azr/HxgPo22hFauzR4mj+3DTw4/nheW6WWYQi38N4lxa+mj49wr6609RcFr2YD\n",
       "7E3Mta4sSuwhGwx7fRmBn6aK4cf7Xj844/6vnZC2xzQngkA62NxpXsYv8Pq9tcEAAAAgQZ4MRREs\n",
       "Xwi7PW7k9GfZaWvVwK2kXDbqZJgtsH6je5AAAAAaAZ4takX/AuisyCugen9EcjaOYugqGRPVWUEA\n",
       "AABsQZoxSahBbJlMCE///fEAAAMD5LXAaiAEafifYaZB+Wh5juIH/DEmicPV2Hs9yiRjRRqdOWwX\n",
       "yTqPkTCDW1cceGd3l2TOQcPN80ERsN+TIZ2bQFoqb3rcXEN4NQJc7yKPxkf2Fqe69q9Y6r/hAAAA\n",
       "KUGeT0UVLF8Iuz1u5LSQjJDRGbAAm4IweMxLWo9qFDJT5RqAfnEUpkSAAAAAKwGecGpF/wLorMgW\n",
       "c+Vp51XmEgA2bocn2kuF5gta0gV2kkmn/uPkB2uCZoAAAAB3QZp1SahBbJlMCEf//eEATVVua1wA\n",
       "jsxG/tOdanYYkwxpG3MIa8BRwr6Svz6U87uCeyFYq21QMa/h/4KitiVHb1BouLXw6IKiNgy/2yo0\n",
       "oBrRfAO/0lGQKAc+n3jNZw+zL2wmlj4LdXpdquWM1tVSsfw8+MnAk3sAAAAvQZ6TRRUsbwbrFh/i\n",
       "sBs/aYwegdYgnBIANmDCEgNrBhuQeJ3IyulvDX+pToXJeJgAAAAjAZ6ydEX/AupO0Y/L5kSAEB+K\n",
       "GDvaYXB7/wey206rCcsSF9kAAAAZAZ60akX/BBfKfZd7EctAsFPBvXFmWpPUXAAAAGNBmrdJqEFs\n",
       "mUwUTCP//eEBldG+5Rj2BnIAbQ8Za6rFl0jrwB4eXf7EGQ/73mTgFzFKwcGZy1Ud308F3LPV76Nk\n",
       "U7vykhRMmH0ADao1DU379oV9EyHznr2fTjcKro6NArLN5SEAAAAtAZ7WakX/BBXAIAE7Jv6Em9ic\n",
       "xG96zUNoCUahM1eIQZ7Qoa6d5/ubKuWdYuPxAAAAMEGa2EnhClJlMCEf/eEATPQLjJWgAATGS0I5\n",
       "ozi431smGMIdEduIYioW51R1I29knQAAAD5BmvpJ4Q6JlMFNEwj//eEAJrRQMkFACHScO4CynXt2\n",
       "W0XlUh+HEXfjGQs/II9SslcT83Ih3sI+XFAeOT7HTQAAACUBnxlqRf8H9PqdmHUfCBwwQAbEKxhq\n",
       "4rXnlXB4hjEO+DCye2SuAAAAS0GbHEnhDyZTBTwj//3hACeaBX4fB6AOJtf+/3OtDFHhJ6R9bp9T\n",
       "JRvMYwEOfuEzwSS63ajqGbHycXWTW0Y6Iz9PtxFGXQXWraQS8gAAACMBnztqRf8H9PqdmIpg8Qso\n",
       "ANHTAI+zPWAj2mRz+Huw7RzytwAAAEdBmz5J4Q8mUwU8I//94QAT0DG+NfmyjABa0z6A6T2mb4ak\n",
       "K8QSVcUcGSrCX7I/bPJls0HAkrMgeJXTTTr/Ku6bOVkBFiXG1gAAABwBn11qRf8H9Pqdl+WA/UL+\n",
       "IerT7A+7tDPfUf7wAAAAM0GbQEnhDyZTBTwj//3hABPR7oq72M4AFSck3kWKXrbRjaLtxDvlPqJI\n",
       "4WePgfQ3wBY0IQAAACMBn39qRf8H9Pqdl+UKhPzgBCgKgROsyPr4X2T3YQP451vcgQAAAE5Bm2JJ\n",
       "4Q8mUwU8J//98QAM4QPnwQAsEfAhYZYJ15/owprIo0n3aVXOxFpqUoWLDyv7Wfb5toiRCQWQGtzc\n",
       "F8yeUTTlSsdivDuYKMfyFlEAAAAmAZ+BakX/B/T6nZfmeEGHYWx3ABByJ5o01RzwVEdeVpnXFmyD\n",
       "4cAAAABSQZuESeEPJlMFPCf//fEADOm4yvTIvgE0j5O1vZ61bsn/l8kJSOTPSzGXZ6zBh+pyLsIX\n",
       "2hk8xLADEzUQKT3Uv4mzIeNLeUoAqpc/zxU+JZSnHAAAAC4Bn6NqRf8H9Pqdl+aLzDzoLGL/oAGx\n",
       "DW686kRk/DwnO098AnGYD29tzZchxE+RAAAAVkGbqEnhDyZTAhP//fEABp/akkqyDl0Y+7P0KIAb\n",
       "yQu4ll5yQfXUOx9f5q8S7G65XZtzbNhKx2Hnntm/UihH3hfkcwiORhCil+uvyrCyhJ2WxxNkgBdw\n",
       "AAAAL0GfxkURPG8GX/YdKR77ZDtjTNABECqO6qU3kGFil+AYmg441Yo+NOQn3biZratIAAAAIgGf\n",
       "5XRF/wLqTuyLuJj7wAhITInOcgNAqwE1yYTBWbJOAiUAAAAtAZ/nakX/Auis2qDmAwAgOjpPTg0l\n",
       "ySMUWm0Fry/laqDkEIVJerbD3eJmzc6QAAAAWUGb7EmoQWiZTAhH//3hAEr0mRkACO0E1qMYgOex\n",
       "stkRD+8yCdhqdsE/fT91AWoZ930+Ri1xlUzl08tw5CjvvadyxX9N+ZjOFivS+y//c4sEL1uN+3Ns\n",
       "VCJvAAAAH0GeCkURLG8DMSXpAlLqlGdkLmzO8tvZCybvIfpSnW0AAAAhAZ4pdEX/B/p2wY/b3yvM\n",
       "QAIaEGkDscFF5EByE7dF7xXwAAAAJAGeK2pF/wf4gfUksgADZVNVF26/I6tueVMCbHDyfrEKckeu\n",
       "hQAAAE1Bmi9JqEFsmUwIR//94QEr5Jp8Fh84IIq4ArTN6UTJYPVoe0Qpvq3kJ3TS6Z76+BhYddPP\n",
       "gO8I1Gqn3+m9xgu/RaGSIki90hkdiqIGNAAAAB5Bnk1FFSxfB/T7IXH1qagmTWiLjA7ODqb2Jxuq\n",
       "FWEAAAAjAZ5uakX/B/T5PqoO6zNN27ABB6Ugk5uA0uqZ0mOp8WqL4asAAAAkQZpxSahBbJlMFEwj\n",
       "//3hAEsNlY/2SvKO08pz7WaVxuvd28UkAAAAHQGekGpF/wP3C4R10VqvkjVoi/y+z2zfZV04xFiH\n",
       "AAAAPkGak0nhClJlMFLCP/3hAEka9X8aLn/sDgBLIw2H00iPL+F9s99WBAcFzrkLps43GOMFOQda\n",
       "WAJ1yOYd8tCBAAAAGgGesmpF/wLorQ5/zKDOyiaIZ9w2tpOoCUkgAAAAPEGatUnhDomUwUTCP/3h\n",
       "AEl1d/QEqHHzO1A+j+HrqvXf8zsAwqwyYPs6Wbe/VCdCvqSD66JyadY0/iqHTQAAACABntRqRf8D\n",
       "4uIBKvNctZflABs4pK1ZkMSGx/gebar1JQAAADtBmtZJ4Q8mUwIR//3hAEl1d+GEno6oc77nfW55\n",
       "4Z9SuAFBaiFI27RCSe9RLPOGxjPQ91F2QekDPbFFBQAAAHFBmvhJ4Q8mUwURPCP//eEAFGYlIo5s\n",
       "ANy8tUYys7TCEWgrpNnO/TwFdNNLM3+qg+72CTwCfr2vKxhmlYEARTZZm1QP8S4/8+Ip4wNrKizB\n",
       "ga9bJ6CaomhbRuR3HbwIm/p7ode3GQkZWUJOYaXrlxiggQAAACEBnxdqRf8C6K0QegbduQ8wAQ8j\n",
       "tgKr3L9aN9fs2paxhEEAAABIQZscSeEPJlMCP//8hAAnlRGKmnHlQBLoqDbFSzUeCYIAoNoZICIO\n",
       "JKgzvkDyOZeUTZ1D+Nn6IGMSYkeEF59eVuA9kgjrVSGDAAAAMUGfOkURPG8CR0KKNafOoAIgUtUm\n",
       "MjvKcAlOKV+Z731zK8O8Si8yrmhaSWV4NFT3rI4AAAAmAZ9ZdEX/AupO7IsZG9xcABDw95qOZq1x\n",
       "p8Ajzv4AeZ9R400x44AAAAAeAZ9bakX/Auis7Uu3bIVFFQyR0AEx0EKz+2JWFlohAAAANEGbXUmo\n",
       "QWiZTAhH//3hAEr0DtFABGAwlUIKbQJUx8tTl69mi5HF2AVPOswNG6JHUdhLgVMAAABPQZt+SeEK\n",
       "UmUwIR/94QBK4BogmAF7/dTlxr66K1v4PqH6GFYXBzNAKlTgllEoSnDkwQQ+3CMgQpz8F9sTKIPA\n",
       "BKoYtNzF7uR/mOUgcZQjYAAAADJBm59J4Q6JlMCEf/3hAE1+M3pnWaHfIWpIAaXcXXhbKuYYe4Rs\n",
       "7cISFpe5VyR/v/DAgQAAAENBm6FJ4Q8mUwURPCf//fEAGS/C4ATCdJxYUdFmrzGC3NTS8njj9Q/C\n",
       "UqruA3NduZzLgJra1fQb61z/X3EF6qzClIO7AAAAIwGfwGpF/wLoreJBrgAQzxcG2/Jc2Vn5H82k\n",
       "ZyIwEjubp0wpAAAAMUGbxEnhDyZTAhH//eEAJqWVchvIamADjdSecQK82RbSYGt657qKIUi3YdPb\n",
       "M17D438AAAAoQZ/iRRE8XwLordquIkAH1rlzlhvaU7wRORUngdLReI1xedLkF/JoWAAAABYBngNq\n",
       "Rf8C6K3ew/Alr+XW2rHkfHb1AAAANUGaBkmoQWiZTBTwn/3xAAyGSoIREGAAEsk4GSdDxU1YAJYG\n",
       "ntN9Y/+Xm78RePw8UJVINBNwAAAAJwGeJWpF/wLorQ3/cFwAbPNOLIcjwZ/aMgS+l6HI7jjk1Waj\n",
       "F1FJOAAAAERBmihJ4QpSZTBSwn/98QAMklgERDgBHn8HVysbcwMDlQ7txbnkOsIXMB8GL3D58IjV\n",
       "6wQn//ftb9jRuvg0uuTQVMgqoQAAACgBnkdqRf8C6K0N6ZL3ABq/BFIVtbNHdfxkwrPj3ZHlB7wk\n",
       "0oik1MfpAAAAWEGaTEnhDomUwIT//fEAL+QDP+ABa5vYAIo1IXKa/gQeGkABIpyWrv/+i+3kfefv\n",
       "mzFF2hutIzF3lEJRil3+T1ddHjybkYDJvrbjxCgGTZJeazmbONRjATsAAAAyQZ5qRRU8bwMxIVV3\n",
       "0x+txEg7u1XA+AAcoU1AJkR9MtwhwTPQbEtDsW/BySuHvAb8tnUAAAAoAZ6JdEX/AupPuFj7sf4a\n",
       "iAEIGe5o779K97NlwXqCuHbttFcBpi+KgAAAABcBnotqRf8D+NrBvuUtREE5SNaKeBkGoQAAAEVB\n",
       "mpBJqEFomUwIR//94QBLI9tuciJysRhAFWsN2aTxMbXSTjGQtMQMmpQZ2q+uApPJ2LsvXROlET2H\n",
       "iSajmKRfvBwk/58AAAAnQZ6uRREsbwMm0xjgopa8OE5JaygAD/6bZRkfQxy4XX89H7pDUfJNAAAA\n",
       "JwGezXRF/wPzp7cgA2nMBKvtB2IdSMn/6GJXoY/s1b3GzHWxsKCrgQAAABcBns9qRf8D+NrBvuRD\n",
       "BkFjFaIGbUGmgAAAAD5BmtFJqEFsmUwIR//94QBK4BNRvADczA5mFWH0ykd2Jsa2czgp6AG2ny08\n",
       "1oDG6CSQJSStw03Ji1peMDhK0AAAAENBmvNJ4QpSZTBRUsI//eEASxEz3I0ArsiDIOIvQ9YBe6+Y\n",
       "3UO5wLt/GhSKB3B3/33Qaqgato1kfWdp8LP0SzKIuSktAAAAHgGfEmpF/wP3C4Rl/Ivr9cwAhA1c\n",
       "y8U5a1OmZa9XKgAAAFJBmxVJ4Q6JlMFEwj/94QEr5JpyEWmnkSvsQAOJqk9/RC7rbWEf737hTIsR\n",
       "7FfKD77Kb3xxwGZGhAOpd/vYAu9rVi0xl8Ipd4gSCNXjlzcvW9tRAAAAHQGfNGpF/wLoreECeUWw\n",
       "AQ7n7vyOpp5x227CtEcFAAAAMEGbN0nhDyZTBTwj//3hACa4JPWp5gFSCXFTeVf1ExkZZZRqsAEx\n",
       "oOkaxdX0HsX/gQAAAB4Bn1ZqRf8C6K3cHMNKQAg2OwrE6+fJayjflT1/M1EAAABEQZtZSeEPJlMF\n",
       "PCf//fEADJhjur7+UhOLsGgDjAXv0bKCnvwk9/eLS6QCUJtM9aVuRNATHGLaQuW46miU6zl/TYY2\n",
       "vsEAAAAXAZ94akX/AuitDoAYga8u1f/I8JLCyeUAAAA0QZt8SeEPJlMCE//98QAMkQDP+ABtSiX8\n",
       "3U1B59yBUOe3UP63u1M/fgAdbsgDGaYyeaWqgAAAACJBn5pFETxfAuitDoO64AP5u5PWinYR9yrW\n",
       "vNJ6hli5/h6oAAAAIAGfu2pF/wLorRBVYyAOAAgzZOd49u7qeLXDSNIMwcN9AAAAOEGbv0moQWiZ\n",
       "TAhH//3hABPcq8zIBjnCV9Po9PL2lc3fzyc/djq53ADxkmreDuCmLIgcZee0SeyOAAAAI0Gf3UUR\n",
       "LF8C6K0OYBQABs83NYWZU113+hnKnjcOKujWM3rYAAAAJQGf/mpF/wLorQ5ZECU1N2AAlXPF//AB\n",
       "WTJNI9jxG5SyflY2YYkAAAA6QZvhSahBbJlMFEwj//3hAAo7SwMCABYAU9Azd9GmoXUZuay+8Bjf\n",
       "YrRX5SyAym5Z8x3EmoRCQFcGoQAAABgBngBqRf8C6KzsC+6EVS/XiScyaevXn2UAAABMQZoESeEK\n",
       "UmUwIR/94QAKNlX/kAFBi3hz5M+rUz8H4YmbleaKYbmPvGQDolDODLmxepe1yArqa7DhExSqpU+X\n",
       "69vCh7tmgBwFUF8SJAAAABpBniJFNExfAuis7CyIFHowHlJjPofJkgkTtgAAACABnkNqRf8C6Kzs\n",
       "xpQkFYAjoAQpoc4l/skRetIqvoirYQAAADtBmkZJqEFomUwU8I/94QAFQaP7TgBbONiNb7Vwk4Jj\n",
       "X9yaLMImb8hyYbdFTIohT/UW/wYZfsrnf1m4gAAAACkBnmVqRf8C6KzaXBK0SAD8B1yFj6yluq2Z\n",
       "O0HSJMkN8cJ9p+SEjfhn1AAAAEVBmmhJ4QpSZTBSwj/94QAFQiAJf2gQKANqjF56uLuM+OBKWJjj\n",
       "sSi5loa1dmZo4Ph33Byyr8p8SVICWem726k4ALSppvEAAAAiAZ6HakX/Auis2osVeeNyWgAmUozm\n",
       "RPX5YugcFH5y9IDOgAAAAGBBmopJ4Q6JlMFEwj/94QAFYrr5AMWRNmEmk/dY9JF+gjEEYpK6wTux\n",
       "x1KOw568ysWDfrS+8AWifYdl7DqRih67jjxTtamx5KO4e3RrEeY9CYdl1p1nW3yruxWGQ3PrKB0A\n",
       "AAAaAZ6pakX/Auis2yUH0roaUzXYYV1PmOwMZqEAAAAmQZqsSeEPJlMFPCP//eEABWGAuNcd4MOA\n",
       "BlMZv5ADSTgCR81WhrQAAAAjAZ7LakX/Auis2xYP8a4yFIAIcM9zQFuZT4Za+3Ruvy/BaoEAAABU\n",
       "QZrOSeEPJlMFPCf//fEAAONv+v2v6QAoI0/knE29xOA3OTou0IWNTrvniPI7DMFl2+TgPQ/1yxK0\n",
       "sSEQegLdQuD1kHx9ZxSRh7wX0MbadDPb18owAAAAJAGe7WpF/wLorM0IHdEyQlAB+0TUzFBS/51D\n",
       "8Iea+v8SuL6CtwAAAFdBmvFJ4Q8mUwIT//3xAADcklSjhcAOgVvyfuT3BC6uvsQd6TWQJUirxu6h\n",
       "zZJsEIdaPow5zWGEUQnZesW6Sq0MeA/+Q0hCTbF72E8jouxf7UavcYn1ikEAAAAiQZ8PRRE8XwLo\n",
       "rMzoJowBHq/s6Xh4NXUUrs6rG8yZr9QwwAAAACQBnzBqRf8C6KzM6CaMALWoJ2QqrZzoSo5wwLIf\n",
       "0QOd2cqFsKgAAABFQZszSahBaJlMFPCf/fEAAHD5h8AVankOuMo8KyheueA7u+lIMNUYKrV3L2MJ\n",
       "SHCOjB6xH3EFQV8d5j4qHZrpsvLdChiBAAAAIgGfUmpF/wLorMqFgOLJho7qcAIRtQdJ2PZZjNSb\n",
       "u6n8xSgAAABFQZtWSeEKUmUwIT/98QAAcS0b11LyjNCa4bGwoAVaiZ6aT+x5LWi2JmdQQykp12Hm\n",
       "T107LrY4poBSUdG/a3jQ1Fk8eslBAAAAJ0GfdEU0TF8C6KzKhawSAFrCgfNMcWPUkhjionZhaO1L\n",
       "Bm4GCw8u4AAAACQBn5VqRf8C6KzKgkq6iw4AE6KcuIDbbGwJqGP/si9X2ylj/LsAAABGQZuaSahB\n",
       "aJlMCE///fEAAG5lTG2rUj5PAgwJLJ3UJ7XxtUo04ieCm3DdTvKPbGs6z+6yMIrjQE/7TZ/sKInu\n",
       "qY4oFax90QAAACpBn7hFESxvAkdCceQyZ0cpK/AA2XC/SCVrgmWrxpRVz9zU0/tvhpSXw8EAAAAl\n",
       "AZ/XdEX/AupO0meL8QAISUBA371Hs1vi5si7C3nEoEmRdTFhkQAAACcBn9lqRf8C6KzJS6QjdgAW\n",
       "FQoe0FFwWcFJudW1n8M2nYZgr3doA9EAAABVQZveSahBbJlMCE///fEAABzyK6RdCIh5Ze4AiY6Z\n",
       "8jAGd3QtPg6KFUmyD0PiFA/q/GY5lLszzvWa0HXFshatwgbAmLP56AvKNOtadY61VaAWoR2lXAAA\n",
       "ADNBn/xFFSxvAkdCcXHfhNOeTn+eD4gA3hysovXfAO3g2OYN9sWSVtvR6igB7MKPPiTju6EAAAAv\n",
       "AZ4bdEX/AupO0fa0Ep/oAd/RgAg7Uv6qgYn037hMckLMAWXiqzoF6yKP276hPfAAAAAhAZ4dakX/\n",
       "AuisyFUwHW5m/jCQAbKqoL9WGhmNq+BLP0DAAAAAX0GaAkmoQWyZTAhH//3hAEr14ZyAE/SGjf+q\n",
       "FuRWpROq+e/rZgaFnFyMop7VIg14yzEiuG5jQ5THHCbGsnQdC7wxtkwZKsklZKDkj017Aba9EaCF\n",
       "EPe+K8rdlaNpy6DRAAAAKUGeIEUVLG8GNkn46bs7JfNCU0EWn3o8AB+d0KNlG98zYRNv3mAXMzbH\n",
       "AAAAHAGeX3RF/wLqTtG8gts2RIAId2D7w8EfGhuEFk0AAAAaAZ5BakX/B8G/kjyCRIipvN4BaanA\n",
       "ZrLWGzwAAAA0QZpESahBbJlMFEwj//3hASvkmkWKq3uewTGAIX0JVW95MuJjjRPAqYp/S/7oYMA3\n",
       "b24LOgAAACkBnmNqRf8HxEOb+xIATUoKlaiyH5zzhU8QLBzP0No6A1w+OCCoV/hFbQAAAEtBmmZJ\n",
       "4QpSZTBSwj/94QAlyHN6CMAUxxkhT/nSipc6u9K/tKi/a9DWZ39tXrCrtWfZCgbDiJmth440XU3F\n",
       "WlvcE/xPb+cUtl9EZ6AAAAAZAZ6FakX/AuitxvkW7snXRKF1ZfMiR9p8oAAAADpBmopJ4Q6JlMCP\n",
       "//yEAJZZu/g743AGsn7Fpctzv08o7XGwizo75ANZXN4qfde7wgeLb8TVsD3+R19BAAAALkGeqEUV\n",
       "PG8CR0MpOf1ckvh8ACDwAixIoauDC7JyBsNBW+xgkKr/MG7F1c3R/5wAAAAqAZ7HdEX/AupPmhw4\n",
       "AEM/QI4JhMu/ZxZLWX3ijE1h6X3x6WOcnl86lvqBAAAAIwGeyWpF/wLord6Y3epCmDTKBZbrQygA\n",
       "amzZxKW+TOHBjKKRAAAAQEGay0moQWiZTAj//IQASwtKqvquN1BACwQaFTL1fIBv5qAoK1kVEeCo\n",
       "Upf0fIczkubfCbAmlJ/DIyEB9twh3MAAAABOQZrsSeEKUmUwIR/94QATUsstjoAcoIbwcjP72c4w\n",
       "hjyZ8wJKocR1ONDttnfYDLpBxDLR7JCPXh28Guy/fAFiej46kJF3bHxUtYIkApfBAAAASkGbDUnh\n",
       "DomUwIR//eEAE/I2vP4Aq1jRKKhNPjVfvhO0a/FeA9TTspkYJK5Sk/f6+QDTxC9W47VYkaKvv8vJ\n",
       "an6Ugo01OEV1xEVAAAAAUUGbLknhDyZTAhH//eEAE+a75lADTSYK9CVqz/qZSli+qqAjL6zM71iL\n",
       "D1zbebOlNMWoY7yGBNTrNTLLMm8kNLaDlZKEH624qFfbLI/H3sGdaQAAADBBm1FJ4Q8mUwIR//3h\n",
       "ABPekVxW2Xit9QA5yOO2lTHPBxxjD5azpNqpLb146BFPc2EAAAAlQZ9vRRE8XwLorQ5fW4AP5v2x\n",
       "ep17hg/4klmoExV+CvgSzK42wwAAACoBn5BqRf8C6K0OWHs8S2ACDa3xm1DqiIt6Ey+mRR+DjC+Z\n",
       "JHTUOU2nLCgAAABWQZuTSahBaJlMFPCP/eEAE1NlamwzhHH/lDsADnFzJkI51iJnZLWcMGdENW9U\n",
       "Zka5oTjzCB5HgkuWPkHsW0GO2GO+ddJJFFYuJd7g8Q4bIsvxASvw1mEAAAAqAZ+yakX/AuitEFkP\n",
       "cFZ8AITRjw7y8hcK2PylKx0+zjh3PEtlGlj4a5KgAAAAJUGbtEnhClJlMCE//fEABm4uPdAAoM43\n",
       "KfLicg13CubZoNrk/pkAAABCQZvXSeEOiZTAhH/94QAFRI/XxIAK5FPdjU+clDKTk2WgUzhAoRId\n",
       "xtX/5Wjdl1Wf0+oCo8Ro3ky7KT4YTA2fWC72AAAAJEGf9UURPF8C6KzqF6myM9l2AAm3seejCVRT\n",
       "RVBWcHDLZElIywAAACUBnhZqRf8C6KzqOdGq+TD94AQkjTOyBWJOwW52Y/cFbj/8WcgpAAAASEGa\n",
       "GUmoQWiZTBTwj/3hAAVBcokaAAT/ww35bUyFBzpFvpcwu13XqD+ME4TbLNzfAWFjE3mRDy/6Fse7\n",
       "eVbWF7ZwH8Vx46p9EQAAACgBnjhqRf8C6KzqSZhyNzAAfgBTCOdPFJqdBbAG7saBQ7Y39eiwl1hT\n",
       "AAAARUGaPEnhClJlMCEf/eEABTwgi9GPxxgKCONh4EY+K/vNb3yGli2PD5aQX5aqw+Vv/QXXU/ae\n",
       "KwDTFlzKpIfFTOYsty5MQAAAAChBnlpFNExfAuis6kS1qm+LiABOyexFujd2Io1DsGchaFDw4HL+\n",
       "E616AAAAHQGee2pF/wLorNqCNtUL3kTtxaaT49ufgH4gW15BAAAAOkGafkmoQWiZTBTwj/3hAAVh\n",
       "gKihqgGpSCJTzkKfq61LyfQksgGFYq2alv9jjr1qkEm6Tzby6SdY5lAAAAAsAZ6dakX/Auis6kvi\n",
       "GwgJct8AE6Is1hZlR4q4U1lPeRH1ZBrQ25s+HOTLHpgAAAA+QZqASeEKUmUwUsI//eEAAVlTnQ+x\n",
       "LNACfBcw11GnZxYGRfXM2EqTH+T4v11ntsd8GBk098XtHFb+UFzO+6EAAAAnAZ6/akX/Auis6heZ\n",
       "pL9mACHh0uiYrlxf5wyvR0zxO3vYyUlUOVWHAAAAVUGaoknhDomUwUTCP/3hAAFhRHrQGRIbwO4W\n",
       "ZDs3knf8MqExdYPrAXOldNSgtxNxIJ2zIzzwSG7ty4PkhvmdoP7OXu8UY9ga275UEyKy+iAs9pzF\n",
       "HrEAAAAnAZ7BakX/Auis6heZzN5A02NI7sAHpuBnweYpGI6m8Vk1A8ntxpCYAAAAPkGaxEnhDyZT\n",
       "BTwj//3hAAFhYC4si8cvi/PoAiVuFSJh/gR2xolxhEmW3erryY1z4wYK8ybyo8ny8UwuiZXgAAAA\n",
       "JAGe42pF/wLorOoXmcf+eTUADU1UmujDVEuqv8nCF/0moXzioQAAAEFBmuVJ4Q8mUwIR//3hAACw\n",
       "9Iu0UAG8/RgwYbinIRDCpRx/TsN8f8qmZ9ENiWp/O4TnGQDCXHU72wSFOuFJfV/4MAAAAENBmwhJ\n",
       "4Q8mUwIR//3hAAC1MBlWAqiO8a5FYrPo3U6YiwyOr2vo+rKQpmAcblYWGse5WRqhWmHF9iGZBodn\n",
       "AJaBJ0yqAAAAJUGfJkURPF8C6KzqF5dHqmg0OW7ACzela980+76T8t1zTS1u8EEAAAApAZ9HakX/\n",
       "Auis6jnM8ew5gBKfDmk2SoJ0IFcndfS+T7pr4gA8uY+OIIAAAABLQZtJSahBaJlMCEf//eEAAFra\n",
       "Owr0AFcqpOSt/RqnQVL0f8JaIgEhFqP7G7Bvur5eKFAeSx+50XVssMsln0LLvzLKZWuSfIylhuUh\n",
       "AAAAJkGbbEnhClJlMCP//IQAAWzziEz91TQyeAnqi50cre+viligsLQhAAAAKkGfikU0TF8C6Kzq\n",
       "RLQ3yE9L9zgBCighKXOlJVeu98tepSNCVacA8oUyQAAAACUBn6tqRf8C6KzJS8apRAAhwz0E4Qwa\n",
       "f5e64xS/FAIBEw3pC7JBAAAAREGbrUmoQWiZTAj//IQAALUip8jrwIDg4glqYQBKs1QOebHX7p9U\n",
       "GY83xHLzoR2rAqL4vQTPL+gEy0e8+EH1px94b7iMAAAAQkGbzknhClJlMCP//IQAAFpnwa4ztfrw\n",
       "AcGftb8q8ntKhhpRAE8l9isyLaVqoRn6sclCFYVVMbb/5jryGWZNgdczQQAAAEpBm+9J4Q6JlMCP\n",
       "//yEAABadJfq01tX5YAVyanrzZgg0ViypznnMYQPlS3N4WJgZljnV4cetU6bwV+d4jwANmrSIICw\n",
       "9VmzO5EtgQAAAElBmhBJ4Q8mUwIR//3hAAmlxQpwm4Wp4Z/U1ZLwAsED1yE27SXKhpsfUhy9Xar4\n",
       "tTMqNb0g2NufYTn1uC64WtX1MzzqbiO/A9S4AAAAUEGaMUnhDyZTAhH//eEAABfvx2HYAAi94m1D\n",
       "Pi1y6zBaH18d1qc3/C6RhnQ1Wdi1X/hzPkPOav6GhOaeEl27pvfT5EESetNNsHw/bhxuos9KAAAA\n",
       "TEGaUknhDyZTAhH//eEACXdEoz/ztk8+rVAFb7xsRC5OxnDEM3EzxeghRtDui2evPaWfkEPLYiEK\n",
       "1uBwoiYysglAdeYXO2xL3b/UjuEAAABBQZpzSeEPJlMCE//98QAADsqcO4C+yUAGwNTU/f8RKdte\n",
       "AZn22FmIKuyu3jA4WTz72uwx/BoX5tl2uxkXJxwkaLgAAABRQZqXSeEPJlMCEf/94QAYn267gENd\n",
       "wkVJojBd9VEZ38rAJUR/rH9pvON3VEp251J5fI9Hm0b9Ud8DTGmS2x2HfFO3M1djycSNf7c5f469\n",
       "eqshAAAALEGetUURPG8CR0KszXvTZYMcM5c+pMSlX7/sAA1Ox37v8H7P+EaDAVXgykmAAAAAIQGe\n",
       "1HRF/wLqTtG8nNwZZNWcQAIPm5b3iJgZCnyCpazAawAAACQBntZqRf8C6K0fQPgslGQYAATJyMv1\n",
       "/Xor/8FZYQLeCOFrn30AAABJQZrZSahBaJlMFPCf/fEALo6XddACwTp3FO/BrCDIRk+SIPO8CEpU\n",
       "KRM79Ty/AYhCmhpWsSL2hpa+Ba1f60knnobykT/gqrokWQAAACIBnvhqRf8HqqxJ+iBQADac6155\n",
       "KWQENmnkmryExnKwOfVxAAAaL2WIhAAv//72rvzLK0cLlS4dWXuzUfLoSXL9iDB9aAAAAwAA1Wnl\n",
       "BlKTViO+gAAeSGnthIJkwANnuduCH7TN35hYj5KNiq8Ewg/Qh2INeobk6h6z7OIfEC5qCJdP9XLr\n",
       "A+Dnh5pK9RKDSr3KQh17c5QzvJ4lXqQqzzaJ2IFJrfWE9o3/YItXJB82F4qPzBeyJKFf4eIarQac\n",
       "yFFZXUHjI7PpGE5A8g5jR+HlRxHvNA4GnJpQE2Xnx4EfJIEJwl4+1bII4xqFAgpLa1CIP16KmSJX\n",
       "PzBqWS9l55S1y1D1w/Mi7UbtQXJYg4gz2TdTtjBA+ZTeARAob/ggnAdBw0hwCZpt9dedNf+L4VT3\n",
       "sXwd5uQir7GGqWSSfnVScC+mC+9LeiW4wTrt1fytFHBMVzL6Z+jYvH8ydX4SIbK7XmVj6XYr0exh\n",
       "tpXBZmN8EeF8JZP0AUUXP1lqnd6Bs4YvYMimY0jZL/W+eVKWHrbRMUsmLYWxqcq0ZTRRZEC8cqyc\n",
       "TnH/3/1l/bIQpSdc7B+8KKS2kklWHx0nJBwME8ozRRhnfXmHlkfprzKkQtlWOIk71YPZS24cfcw9\n",
       "UaiD4y1UVOQNjxu/fTstB9FGydQcIQIqlw9B22ApHSa7zv/inWP3bPwyhXmtCeTLONRmWpTDUzux\n",
       "/8G5rW6eJdqRz3qV6N4OdXG1BmioZP0wMfdfpbmkQCbQ3VsqeEwify6YafLebAVLlm+KtrXAPg+D\n",
       "fU41ipFq3koYbpLEYhnQ8PJfeujeryEcfc0OZdTO8LsR/f/CRU1EcnQWer5o5BJLQ5vEITuXR1hY\n",
       "Isgf98h/eoKsKcBjAMNzfz0mUK6wiKNR9PHhDK45/54WtEyu2lPh2KZJ7EAJhvkrf6P9XyAAT/6z\n",
       "lt0Zw78sD8jAzpdqoe0MDF3aIGMGysVj0/BdLC1MHDyLW5KqJfupuIbQ8nFdaetB8mvyA6ENdOf1\n",
       "yy1mq4WQSyfxZZoFyT/aKSj+X15T6Nn2TQ6UVXsOBggXjiNgKwCDWyk3xjEk9YvD7XHZ1kGaAQFV\n",
       "lgpeYKDFV+qQJSU8bz62E+6fVRG+GuLZhoRTDj6ZEwDu4+KAtZSZCzdRDxerWtlIRacdcrZiJs5X\n",
       "zVOC3D9S/G0LLRt1ThTahlWsWOvwQ6vkwOIe6ZXW0Oec3TbiVL6sfDmP1jpT9Nq/h4CVPgCbhwvh\n",
       "t2MW4LrHqZFDURbbi2/PtuU86CuJ7zJ0jg/7PC5P6nFhvm5m73DIBrWisdeFsICtQ0zRBtxo6P/8\n",
       "MnbWWlM26Re4RPQu383qubXoFhNN6CJ/9DjR8E3L6gHL2JgHOMnlZgUv4iDLPedg4WI6/c7egIiJ\n",
       "EEGLGuv+TscmZQFXiQ7DFBaTa7szKZmtELZ0Gr4D23WaO7M0ofTQ6PGA9Kk1W8BmSfI+S8nxUBCw\n",
       "lXRthMtRKTgvbJM0Jl5pEROuph6Pf5+NFgNXPGDXWFD38DZcrd2COey20xB7BPO4y6Dug2xtFP0X\n",
       "u1aE9KzNAcoqxO1k68Q9Y1fMCLprl65u0uXw9Yx5UjAQdbitAID4+uS5jDcbRuGSDMkO6xC/mDzj\n",
       "45KNQiwewd8zbrtNg3+AU1UZjR8Fa/jxGCyy85o5OOB5rzRsZW4i1xiAaqshJoOwffXqlzX4tRYp\n",
       "dYIupAQhpay3pKtNksKXOEa0M2GEueHeGVxQhkzU17OmW5HaLcRrps7RjREKhCrbkPkvh3Dm+UpA\n",
       "1m/tJ4WbPhyjtQCqPsk+2QwHblvkGjRRLD2693xCWLzKrSGHDOMWL4jgEQhkOyshgH8BGvcZyYA+\n",
       "1vWyWmASqYwEM27M0lmrJrIa5CAlKeZhzn1zclOWzFj7l07P3W5z6N7YeY74xbo06Vw3PkBVKuBG\n",
       "/RskKwV5asbPL8to7+ylKis5f01ucBnGSSVgM0LacaspBfHUiL/i2KAZxKgS+KiBTXdC/JWyKgjf\n",
       "2K/gnGHzCwHm+hV0pFELNkEZqNkNF/Ofw7fuEcjS6N21tI+fSwlJaj+nzkJyGo/pPE/90KxyNk2t\n",
       "qc6i1HSCzFyxBCAeCLA0LbiQ7Hh6K7ljhWGtFpjJu2IX+pDn85ccev1+K4a70ecuKZYGJRG75xkF\n",
       "FOfXJMYwP/3dVoZ2X2rYa+/VbMGDPnY+S5GNcl/v89aF7mRN/66IGwZFZKQWHeCxOYZpLIUEyjlG\n",
       "5eABZLkKN5wUTEbIPrPser0VwzXQlGqbJawqcTMyDbYqkrqoJ//SrM4bjcyEYcJTkfRPPHYuutTp\n",
       "EYR//CTEvnZI0Wg4U83WSMhNTq7gnLm13kZmu8LtWd4pYq/LibafXXj673Tf8+OjLzU6Botm6s8y\n",
       "8xKTf54ivFwlZ5sEGjRprSWQQVykiJy0WZY5dNF8hKWLeWmoXI8J9NPZgc7Bsp+8gOMLGbmuugWZ\n",
       "4mKZD2v6UkvhDji4nhHcnevj7SOKnBW2O4aa/2lrdbCNYf+T56FcsRhGBM/qX+pT1msovG1FbXmx\n",
       "d1/Gvk7EA8LWcyNukqeNuPt2jAHV72rm3a73AAGs9p019UOowLDQLHNXaEgq3NPZujUJ5iNNT9jt\n",
       "seGzQssxzPpppsj4SG48sywgKLwIWOfvlYOTD+0ShUJRWf+0avLBf9xUBxmNJ90mIqVLYZq4grmX\n",
       "pux/9NfxeZ/e3+1k5P/i2zeVKsG9comOiWEWmiYshHq5TZ53YDAEFUJ9KEPjVEqX5iGHc7mUVAh/\n",
       "8h6/HMuc9tT9HlLfLhDpaFGX3uieEDiwXvQcEw8MreulgeMxJPGn8VRVlLfBb70eItddj/i43CB7\n",
       "WLc6/Q4NDUXJ0ppHXsAGc/lgEXlb2uB6jkRhh3IYum/lNHE9o9r+Ytvi3RAsi1j8B3cO7pLUPR8Z\n",
       "KG82fvQTDlNVVoD9usWL+Wf+kpEdqEJFfv+veUJFBzDrbSzET2KNT9AZuAXHrVtuoA1nHxl2bDEx\n",
       "9WJn5/g4k5vKuRSROmR5nKjFC042JIcvwZTYW9CZTvIDUx9YhDh/z5QH3BX2OGIkoS/8R7UwlgJ9\n",
       "zZh7DmWhQj+modKtMscEfCVmibzxHSgvXfbHccGiQy/BQAHsvc/5jtgX8HaDfaSEc/Bqwjp9q7AF\n",
       "Vr6dOWCakkd92NOhs6npVN83TA9tyxSbEqrBDm9SwAF6V3yMmFUEFoQOvXH+kcgtdE8CWXET622J\n",
       "s6x7AN5SQ07e8Wk5d/hYgK5HdzhNwPf7bHV5BR4SQY+R+SG5PZf01gAk8UR9ZbqkePAWlY3wXZOw\n",
       "3F5DSOrdV6ovCdcSGteUMr9jnv64JZeOzzrjLngwy94OBo8fQofBIGekD+gGVUP9/PcdMnZs4mZX\n",
       "B3IXdeFm+7BopYkdgvIGUj8y5cfg1biwMe6PnM2Le3v+jiRs0b+FojGihc2myenZ1yx9l2dWJt+T\n",
       "9d3RfNwgCzIXH/xWj38Q2j9fbrxZA8Yicztw1Xhsqw/83QsseMr3jy8oOwD9McH95LozN1wK9PVq\n",
       "A4KYwDkQwkt+dApdodATW3cOx6h/RNLfdNGG0BEEgeaC6rucbU8lFZbTgCcaRhrjLI6YAxVss/7b\n",
       "XWggEE0ROmKj7as0M+YJtfeU8c/DeYZy87crBnBHYWhB19gqawVV/8tbtg5mFOfT3+xIUuvbx0lk\n",
       "JUelTVV+lvdVQM5QCXpjHXWcuyKsE1vTNV/Jj3bm73ZBViofGYYVqtkA/JT1v0wsCDhkEvBnACF8\n",
       "34KZg+WqixSqYEH1H49TeBtWidx8Mdt0+T66LXAzfyQf0Ppkf0HbhNroT/2TlqNBZOI1jGYzmC4+\n",
       "E2ulg4/olD/Gp3suOkMqcGsFEQ5km5SrAN+sOtNGEM1hdpFe1533gnQGrBkxKIgpVUiT7Wy/Zfcn\n",
       "5RE5FP62EotiH5ZmcuuoIaVAFmoas65exw09qlD5MSqCLl2NCMGKoxFp3pajaqR5+5ZUVmOSyiEV\n",
       "ajcSfx9RRXJInqHrp2NJecnJp1J5DEgbdxSoh9/1nA62SQjjpUhH999BMeTya9ZLdXlcXeCDO2Kn\n",
       "UKYHO1UEnYw1F/ysw4KV9dfn/diKCEb7CLoiz0pDWyvxlrLqS/XbNZf6T4eEVVyD45Ci2Yd64fou\n",
       "HazLIVmFeUZhfeeYHRlIRboMj9GR9bcNJN9rC4ZyuRyWmHw7F0hZRtfGGYKB7q0EQw6jRER8WLdg\n",
       "phKPweJ3IDnvZEuGI+hWchbfOyxtZhpy1HNyLBR0c1kOUcX9PBW+omzPTstll/PLosGckYw+9nf3\n",
       "mT9tjbh/2ql5lrrbksmT3GO2vxlQGuVjh09JxfpzvvQPWHbUpsKM13WVuP/dvHODgZILrfbwz2UV\n",
       "eFfEF5qr2Xh5rsYIhUI95XXhE9E3Z4iSoV3jGPXvkL166NgFDZ4sQI/bfk8ldRN8arToFque9CYT\n",
       "0/F8URlWXbS13DE1+sVGhL96q5ZUiTzpbmTYfhG3Oc9eIJE6J6ktAv16Zu7SARX/apLC9td6/CSD\n",
       "hbNqX5k7+U3pPUthF1n/Z3XjgEwNADwHqqDHcCrEqwLCvAwnnfaVu57Xvp1NqRF0ETAUY0n59+8o\n",
       "HsaJNoP5wmjzm4RjBvArppo7UJ1Z2oQSONx15DpgZy/LPLV4qM0m5TBqg6t+q6SUz+y3is5o8DJT\n",
       "HBwsY/Ubcg5S6Z9fx/3wSCcvysV30Eo1Ke7Q2mXuXnjysuKzLHlwe6jZtF5RxMMcZTqC8vhntTfi\n",
       "9cZTqR3nrBT6plVfhp0hdL9VkZMzkIbkC4pcXh9hT+6h38QLqRKDtufIozvp6Dxcj0nlaAeZN662\n",
       "vcJ7Yn7bPK2l4BKVjG8TXnebPVT2LzEYDkjSed2ojD9kI//yYfnCpQG2QkaXdJCqLE871hG8Yc0x\n",
       "j+ax07wJY2z5hMHZ9tLE0x9lp+g/ULjUjOvZestXzx7edqhZgZsZR6l8KrTRK5l5GcCXehfPX4Cb\n",
       "X0igyPgf2Q3CwURWwNvdF0ZeZuMZJ2Egr4CK2spbgdmEcfEXxgT2PAdFsibrfo03ogFf2V0jGSrZ\n",
       "ua8Tvb3S/OCA7Cue+N5DOYRThJFjooyGYvnFI1czfYOf393E75OGuBsswc6fGsw9MDwlfoEy26zF\n",
       "ZZEGmr2jJVFaDjKjoI5YBIQDd4Zu9t133Sjq2qAHlkqpDasp35cu6riX75e6ky8EWRKy8qpgt769\n",
       "zH4+ipa5c5qFNh8gE1FLYu728nJdN7rru18Csp+BNqYiPKzAGMiFj5le7zfY73ARc7pdvOtwbdl+\n",
       "QE8BWeGdFywSF2Q7QX5eSr5LbJcWoDw+Cf1e/jjQg71G/ayISjNZul/fwth+7HI83BPzP9EnOzJI\n",
       "mdOnOCYB6BQtCKe5uc3W17erz5D1tCZ9S0Egp1Fb9t60kC5OJpP40i7NgWYkix8lQQWspoWstoEH\n",
       "0AgVTWiUByb3tiZ096PriokFwQlTFTn1sIdNN1oDeKfT/oPzQl2J6M0b5exkkW5zFzBzQWRXQezo\n",
       "+eq0KO4tcM54mSZUs46LHYD5NhPpv8Vz/emUj2l991cY9gATbukZHCCHesLLijlKW4U5NyvS4Ter\n",
       "DWjUEEcKASqeYkSt8eTi6hk/rUp1swyS3QLeCekCFXKt9Gw+urBcBO9uDBQqh6zDrXwjPpRwcrI7\n",
       "RoJZ+0Ke9K4/j9COvX1+4h0zAIHjhevryn6f+E8azKz4bP1+n9wPE3HFrKG7w0BfLGOMJHNTv2Bn\n",
       "kL+H3+kzNz6HBVlL+sgovyA9ZycTe1Ek8ERaMxHu0Aw0mKn0ebf9h1EiWPIsJbDMhIRMBZnvgToD\n",
       "I26pABaqbcZJa5SHs6Yg6LX+rtkBMbNTufvNXODUtL98AKLrO4khUZDGcA7kcyKIR1Smal0aAGfn\n",
       "1GEHk95SOORk33tB4cGoRopcyx90TMDCo0TQ6bS+5ridO18sikGndOWm+E+xCYDMZZTjcoLv4Ny7\n",
       "xc429lcP0ujRuyZhn/S4LvaNeF2E6yX4GNX1pYoI8OO17UOpKu8aUkk/zSZyExV1DrMFRg5rg+SM\n",
       "ojXRrXOgg7jjgsuQI3nJyzw3pDnICRnMivmhi1mYcNXgO+RXRngksDTndLJZjUy/gorvxy9qrC2T\n",
       "bTpZ8+LBTWfeNtTo5KFTmtI8YlHr80RDc2Np+ZQ3bRyNsmw7vOuZ/rPzPeldlGhgOvmY9et4akC+\n",
       "kmom+lREHE4DUxax1k2JCoK8ZHZokmaUwLZagVs5krxPihQuF2z7LSmKTPEcaBFQ2KKojpm0me1e\n",
       "45ickZ7T78+pK8dZQnvcjhKyeR7PDKg3j3rceyRucL0ha8oVI2EflSjzVBA5sl/WombH9cHN1L+q\n",
       "RBg5AyZtUZgVZ9swMHB+ZwSgWxKX3+f+uPx5cHMdl318DOGZKWasV3VnQJaiVMD9poGrLpFMQi77\n",
       "5Bkl4cOB97SEB5slFO/vP21B5fjKBAn8D93mVrRXp+FR9thf8GVuOB9wHAcjOoBdjPxlPs5VPe45\n",
       "KwgUSrs5GDLQKjGnQ3PCL5bSXFtgQbrste2+66NRycwehLiXyn0BzLEJitZwBBqlut4JmBLR9jnL\n",
       "DA8khLU8UDB4H6XQ/A2S3pAgX2j0zmEX+q8GUonvz+Yb3sh3GCmQiiqOv61I8AwbnacDzX/9YbK0\n",
       "JR2gqQIvX4ij5ZAXPbKdYFkjKcw4bATFhdX4H5mLmExetsXkrUKAMZImQ7dIg1ZHEjJZwXi0kJXG\n",
       "4MT/XFm+6xXWghbv71gsbfinx5oNw86+h6+KQQyq5XTl3IQi7PQ6sU8EWjbzRMSMtzYhPSe+XrIU\n",
       "4cvfEqujCPgg95Xc+w+WcCUQbmW+osDiqV+7gI4T8SfhPVVUoo+wFavFmS4nXj2zsej6cGIjp/Ac\n",
       "JWJAyFdtAynzuug53CEDb1vBYbY2m5uhhfnpEUbhOWLiezNCTP5Y8TVgbkpcZmjaSIJG0rLvtATw\n",
       "0PUtYrJvVLaAo+rBeXUacxtAOPLkW9flloIZsou7/o72D6dPuRchssiZx/TmBPbOlEN5vOHYByfP\n",
       "HdHrGY1hvtgyAk1+9JmNBJO1sFXDPwjMJspGDyitWydr8SK/F0vnNSgKpQdgVTLwsKPKe/o5AC2x\n",
       "/hvdrI54uSH3bs26ahwsOR4mjPwFFo1JO/+wdq6TO+OlimgTtSEgK7ftw1HFCrkpDnuAIpoOw76k\n",
       "04i8Uodm6yMFFJzQPYKuuTikZYhOeeCwgzmMncZ1clWzOBvFPj0JMIX2NWxC4eKhoi5DDbzMY//C\n",
       "J6KW0dhPgqX/vjPYxXI6vhiyS4F5wsLO93WZ4sOiwQj3upwrpXQ/l4ZBSqm4oJf/EtgGiZ/+DCQL\n",
       "49bkNm/FvL316zkVf8Pjb/CUoAYShvGUap3XZM8L+MsPMW5hWEHViM3DSkfY/SPij1YrOBiI7jli\n",
       "mZLckItm66PRGqN43Zmp3inxXNSYNCNPRLbIhndAC35vV4ygBCmQJTP4MvozWgNyqCGTpvWyVa8g\n",
       "LYbz9Y7OOen30PxOMWgPkD7Cq28vN1WP+LxDxE3nsxdTbwpJ/2tNPZMzYGfE7wN91A9QoV0uL27E\n",
       "/s7JOEzEH/p0uQHrcP1F78eAGUE9T8JBrwjwBd3iDUJ30cQyEffKyT5bu8eyrc2dP2QyTrXotrQu\n",
       "vnEisP90BHUK2h1czXxuslkcHT6pGtdtjEyIi5Bi4hlUFRzJMKvkEyJgYbgv2x/ez1O1D5ZGewxZ\n",
       "KRvVac+MMIl2QDm0VCzMzqvTw2jMJKoZWgGlZDv9+5qrZShVyTKjImjnSvQnJkJyrRkWwIot07bF\n",
       "YDXR6fJO2nYny1P9PuB4Al6xLUpSLUU2O2Q2FwbqeC6iglpuv+EbBjxmA8Y6hiX/cFDwXmM/5RFu\n",
       "AYuETGJ/8Uwa4agfwC/UWch0Ibt658u4Ma2S3YIGqvlEwU6ql3YS+sd2mr46HfT6wYX972VSuaqA\n",
       "XtFoWG1j6wE38BdlooYMZB+LO49Tlj1S4CitO1zXog9/ipvAh+/Q0tUCZHr4Ty9cVfUvlwRSvHlX\n",
       "XU6r9H7OJfDp2ZQnjTIMalt8i1UJ7u1DGbAOj9FltBKJ9APmRUJKq3ylS37I7SeYc/iE3YdvH5Tc\n",
       "XGK0/D36ta2NkANzWW4stcyNX1VaX5G0zbTX2hbv5XZ9vBOqJtBSajB6CnRf3HxvAaFA8zlkv0tc\n",
       "0p9BICFnJOM+iYVERivyQUe5J2WmR/87D31Ino9qcb6oKr2i4MN0LZpXIPSXG3QIPzBt4qcMI984\n",
       "+UOVKts7LukV+B5l7a2MHan6zJAM3OEoX0rLXw0qH5Ubt5dFdU3M3SMGC1KRpmD8M2hpBL/1QvZp\n",
       "Y9bYFPYZNtnsFcyPoU4nfs3a5vcwfamNC4VFooPxQoCeN9FmNd9+KDxkh/SlkWixuGZdAIJEQs10\n",
       "PMETOB+hx5+gG6PdFcbI78FuPh8nGrL4znBcVsgW05r5Z7igX+GgWg+hJjm/mHveYuHqApnf6Mmx\n",
       "5KNFIwdbTkSGwUp8YPxcwXl2yF/XJ9uZQpKQihX9LzdZC1WOun79wnRFvmbpd8aPKCb5v0+e4qy3\n",
       "pqtrMPX2HvFTjdjWzhIL+T17G5LpROW454KOX9VW56HyRK/JXf0H5jr+ecJ0GUVDZO3zGR4jJW8A\n",
       "mUgBonZdSzSBhzimSeR9pNgbKZqKd5ToSiaK0KS2qBmW68eKpHtjNW6IWFRCLgz80W8UTtnmPCj4\n",
       "yMXL2NUkN4SqT3Zbv/+y4DQMcpxhwTJb0mDgwvOj725HFR+Ku64XDIn7iVwHxQFdHUvjuRUbVSOr\n",
       "o9HF//UMvc9nYElUnIUay1p0tP5ASJeAJ7+D6FFbiTa4ro36VlQJ76tO8j9BMLhE+9179hosjvwJ\n",
       "Xg6fPGEpIgN5YzT/g7RjZl0jAFsHO+m2YtRt+anNNiiBfW1P5Xj254SjRKcvOMrRgObhqfGE3Ew9\n",
       "V/GQJ/dlvCbU0N7AtjCIYWzi4rdp6Yl61ClqXEyv+U++ueUqzoFTX6PudJV/TeArkhIAAWEAAAEl\n",
       "QZoibEI//eEEiyTKHMtzFJlZEAa3yQ7Z3AL0fx7D/rs8CAQ1yU/EKxmS4cFQcP4CTz1xT3mrmUOO\n",
       "P52DgvyBxVTX1DoAeIN3EjPgWTQDMsbTD0BfOqxeULLadwRgeV4QDeMJZAREUuYhx0sJje89qpqO\n",
       "nW9g/81iVH+oJHA6wxaw/pZtvCgkfu5KOnFLUrVQE/kbXRxWYh6JjQ/Zhn0iqCrKITaQWvdUX+IP\n",
       "imFsYb1NDfS4C4egLN2LsWgiH2Moo/IsTfon2iW7flEvIt5h1comoh76Pk/pC3j5xmlKvJNUYXaV\n",
       "SYR6mNZPBNT+lKNUmwEhd/PQ9lfmjY2kLK5Adol89guaRFRzG/hixc8b5YjXoEWQ5OXBsMJ2IskW\n",
       "TbeGdPZecsAAAABDAZ5BeRf/CrWAHJwodiXoJiCo+2sAAAMART/IT56p0N3nO4AQG6rotAhU4xcm\n",
       "z2ejzUHqCrA7YC4l8ChgyeUbsnQCEwAAAHhBmkQ8IZMphCf//fEArXANe666bHh9VANch13lcLPs\n",
       "wKLoCb98V/9VG4k6O69lybqC7jaqfxVa0/TGxOWeaLTNlcogOjbbTVs0mMkFsGXu26oW3D7M4jZA\n",
       "k5FHKN99weyCjBUb7Wtgh1XhoowXOlILivo1mQ7VkNAAAAA+AZ5jakX/CrWAHJwodiXoROl63hCK\n",
       "arQzhm61cAGzy8zuelU7LNac2qp+eVkRACporRUEX9I+3eG1mY1wrYAAAABHQZpmSeEPJlMFPCf/\n",
       "/fEAGGJLFAA3U568Y3fDsMpXoE1nsrvbVbZWHRUJSuBRgnT34pfH4DHMUoY2wQZVOcoPz53h0Iwt\n",
       "VZ8AAAAlAZ6FakX/CrWAHJwodiXoROl63LqvvpCVJ2yJVgwQvrnHj2XsJwAAAE5BmopJ4Q8mUwIT\n",
       "//3xAAyKlPgCHvh9946jQ0vGLlDxCOESCe89neIwdiOKAEEC6NSRH/jzlHxDApzLsF4+gScNxKXY\n",
       "tbYND9xWBOnEmSUAAAAwQZ6oRRE8bwiGIBTvqFaj+51R1gPMb0J8a7lVIAEz4xux2qfmTPghMH0o\n",
       "7ADxdExYAAAAIQGex3RF/wEBk4K8FQF4sACID6+i5DeSGzQpGlNcJ/LYygAAACUBnslqRf8BDfMb\n",
       "JaQABs8s+tiOIlchdHu9W1BPs36z5wPCpIkhAAAAP0GazUmoQWiZTAhP//3xAAyMXFeuoRuyUgAh\n",
       "QEOClBBvOl9npCP8ci3yXKf0v+HwvLKv6oFIuvJIkFTXQpUH+AAAADFBnutFESxfCrWAHJwodiXo\n",
       "ROl63HCGPOQAD9obk3rrLTzmARkn8mwvs8H77ifmwAe0AAAAJwGfDGpF/wENXGCKBrx3HhACDzaN\n",
       "yl0bRxO7V6Dok6K2h1Y5tWWMWQAAAGhBmxFJqEFsmUwIR//94QBI9A7RQAoAvJ0ymIXu2mZd/jkR\n",
       "YdbS873lWp+6SZcGb+dIJXPLMjc4jT82hMAIWerIC8G4oPqk6iMPxZFmCFyP1wilqCVceB+2p2hR\n",
       "jyketkEz9j+T/P+RgAAAADdBny9FFSxvCIYgFO+oVqP7nVHWBCT17TsISAA2m4nAqHHevdUFbSMw\n",
       "da76Zsz34wC6SzN9CIk5AAAAHAGfTnRF/wCLCNv6Lz0JABDga/L5c9rVc79qqSEAAAASAZ9QakX/\n",
       "A+Le81GY66OC0f6DAAAAR0GbU0moQWyZTBRMI//94QNddVe66tHi5iUnKus0QJsgVc2APlvm+aXQ\n",
       "ewyEvmJ/5HZbQrkRbgZSquVCoqRj9Ui5gLc/fmTBAAAALQGfcmpF/wnwlcNDMD2RPO7wylkGgBCa\n",
       "YWDNQgGJ/Lu+7xTWBURlOBJGWEAtoAAAAEZBm3VJ4QpSZTBSwj/94QAlj/U5FmAAsAHmsq5jAV4C\n",
       "jiBCIcEKMGzJP2VxVbnOjjYh8LG/231lmja7xiVET3MvfiUTA5tBAAAAIQGflGpF/wno6m3eIfGt\n",
       "XcJPqw4hAmx6sOrNPdNHNDBZQQAAAFhBm5ZJ4Q6JlMCEf/3hApOSZQ5iD4rmugDlbpzOV9zV9vvw\n",
       "R1GfRp1xv/EV1mMPABJpFjxo4uQhUzFaZUNuEKr3fExKvGp18W4PiuRbMb3a6t2cryRELxjKAAAA\n",
       "MkGbuEnhDyZTBRU8I//94QAm3RJvnn98XwPHATQBtB8RgEZGOvUyZjKmyMGdM3527O90AAAAJgGf\n",
       "12pF/wlLMm3eIfPcruRUkI9elABDPuUx9CMd94kIf3IjjEalAAAALkGb2UnhDyZTAhH//eEB+7qr\n",
       "3VdPZBv5MNRlEkgzNIhM9oApi1ZufgJKnab2Pw0AAABGQZv7SeEPJlMFETwj//3hABNI4VdTgqMA\n",
       "I91CPJgtaerldJqh0xJGdGR+4evIFAAc0hOO2aOQmNZDu1TmhZoICG8g8Wm+VwAAACgBnhpqRf8I\n",
       "uzJt3lEWd6jCjRMIAGzzbMiFM7XA+vAYT78ualqArfAgAAAAQUGaHUnhDyZTBTwj//3hACbdEoyS\n",
       "XDHSUAlyDpr/QZHe07LDz/0PMOZQ/W5YDNNGp+NrusaNPyWu01IM4c6dJQDBAAAAJQGePGpF/wi7\n",
       "Mm3eURaCTkSu8N4ANiKqykwcAtqiYhXviTcI44EAAABcQZo/SeEPJlMFPCP//eEAE/N00Jm6+gMG\n",
       "xsUcVHQpcr3TjMyNNAdOeLcfKeuthsEKHBlR93gxyNgyHUMX/oOwpGBVPh1Jx657ArozKopIKF2w\n",
       "9g5K6eV3WaXIpbEAAAAoAZ5eakX/CLsybd5RDECvoAOIowtw3zxPw06HapvAKnf1bi/NmggRcQAA\n",
       "ADFBmkFJ4Q8mUwU8I//94QAJ6I3gkuQgAqAK33fsKFmLYh8i3KDIZtE1RITsj/GcPfHAAAAAIAGe\n",
       "YGpF/wi7Mm3eUQbSVR7bnFEAISHvNRhCyp9v5d9YAAAAQUGaZEnhDyZTAhH//eEACjMSlVn+XwBB\n",
       "0+5UIzUizb2bG+0Q+5qlr7Dvyqy/pp+B77l+TGhRliT6EkSwenAUib5hAAAAG0GegkURPF8IuzJt\n",
       "3lEHCcudlKBglOlV6LEVbAAAAB8BnqNqRf8AihF5IAE396EmvKQ5a/onMC4kDwTrr8OAAAAALUGa\n",
       "pUmoQWiZTAhH//3hAZXRu91Y2fNInhRmAAsCg9oyOj93AFRMvioLNQ7gYQAAADxBmsdJ4QpSZTBR\n",
       "EsI//eEABRhLvSvUJxOgBtwCXPwifg3MrZAEERfKQXrPEdb2cqM5w8E4+cPW0P/LgMEAAAAhAZ7m\n",
       "akX/CDTxYhy7tce2pwAg0nUQEGMS1gohQ9WkOhHhAAAASUGa6UnhDomUwUTCf/3xAANMQA8MQAjt\n",
       "O1IVOsq6QcGhYpSiGwqvHg8P//6PlU15kljkO2rDyuIGIU9OE642zS2bdTUzwTxk9tMAAAAlAZ8I\n",
       "akX/CDTxYhz8lwgAm/6BH/fg4dM+HpCNpxOpP2S0TZxw+AAAAERBmwtJ4Q8mUwU8J//98QADTWCY\n",
       "dWYAUGy77xoapXhNGRJQrHk0b4KLzYqN6SupegE8hssNzR3U2CwuFttfeyNlYPWAMQAAACYBnypq\n",
       "Rf8INPFiHPEOuEAE6ItIujx4ESq3G5ywESisAEq6M+DwgAAAAE1Bmy9J4Q8mUwIR//3hAAVr1qHx\n",
       "ggMAzS/ICtVFUkC7EcRDCKH/B4+kGQysQkQXBKrY9bUx+xjpF/74+sTdMK3qrZ59QV+tSHSy089n\n",
       "KgAAADBBn01FETxvBovwD3MelNOo3IgAIaR4vWwEJ4BoJapwshutIbtO+RLiztmNCZDx1YEAAAAg\n",
       "AZ9sdEX/AEmHPiyAE0phwufxvqSGQ9mYFWEvcgydFicAAAAXAZ9uakX/AElXWcvLVIZJwuQOlfz5\n",
       "Y4EAAABbQZtwSahBaJlMCE///fEAzum5jSkrjCENUpcvScAfCpXgyfE9zqQKOYxvd45wh8PTkhIE\n",
       "Jilitzl2KuhpkXB4/IXXFqQZgEtT+MW05W0OblHYUeUpJuvprhcnqQAAAGVBm5RJ4QpSZTAhP/3x\n",
       "ADAYLfoCVm0jKjaacjkQWL4kgRiMwwjotcDJr1YxQ8yVFPOzJ/UCAfvk2gEh1LFYqjZRrAFyRoiF\n",
       "3tJUMqMsroHXUGSMTJnEyGEg/WuxNFl/v0mEfONinQAAAEVBn7JFNExvAydl8VTXEMTAA/XZlu6w\n",
       "5euxL4syxHfKihRHDHDI+DxBRP2AZyXypbUJJB5OwdHZYXdRVg3W7LnkCokiE2kAAAAmAZ/RdEX/\n",
       "A/ZZGZNFQw0gAITFf8/BmQETQWR7fsJbTs1bRo3yGm4AAAA2AZ/TakX/A/jesDcOiFXOADUckLmW\n",
       "hvRVF09FmXyjL9RsVRnCcz7n1H5LM5CL695pNnWciSU5AAAAQUGb2EmoQWiZTAhP//3xADAYLfoC\n",
       "Vm4KcOL+rqqj0znswPsbAaXToyFZXUAYn7ISqfMC32l7ZqFM7eGdsnxeyWNBAAAAK0Gf9kURLG8D\n",
       "MfzCQayAQWwAD2OLnOBffhny4oFi+ORzwjsVFE03RLFHaFAAAAAhAZ4VdEX/A/ZZEvI6RiwUAAbC\n",
       "g6kV8l0XXz7D8meldhNwAAAAHgGeF2pF/wP43qtE9C2sbIKjqlmtoAE7BGi61C0wcQAAAE5BmhxJ\n",
       "qEFsmUwIT//98QAwD0fAz6Ac2aYAFxXOuIHuOUK637YUntbt4ksLUoyW3lKbZV62I0pfi0B/lOJQ\n",
       "5alxTI80GzSdpAhYT+FngSsAAAApQZ46RRUsbwMvnxpr6Nm4AJqUxlwhzxqF8ayG77kNinNvfUIS\n",
       "EiPw8dMAAAAhAZ5ZdEX/A/ZOYqAA2nLhHjqjM1HMPkyee8Y9rISewt+AAAAAFAGeW2pF/wPhB7zA\n",
       "PALkoJ917JFxAAAAQkGaQEmoQWyZTAhH//3hACWQQXb3iYhchIACtt1NIRCduYpwq29aOzDb92m7\n",
       "J/ASpdFl5eUu7WBkLeEDUUbCd0B8wQAAACZBnn5FFSxvAZSt7G6NkluQAbKxRJkUpIuZkvij4PNJ\n",
       "mMHX7uDAgQAAAB4Bnp10Rf8B+l+k09qAAgXoJVPA4ama3SJ/fyrgPmEAAAAdAZ6fakX/AfXDvj/u\n",
       "dUAIOEZ2B4l1eFeSbiicBnwAAABIQZqCSahBbJlMFEwj//3hAEkon7TgAtdIIu9wUb4e8sIhPs9x\n",
       "sn1vyVGNGGHpbDj4o+spHTmP2ac+l7LuH3huYytOGcs0Aa/QAAAAIAGeoWpF/wPba+6lwAIdd3ZW\n",
       "BOvFxOHQy1ZW2x0BI5BhAAAAOUGapEnhClJlMFLCP/3hAEkLKyrAJyx3azFs1kgoGnph9WRJexHW\n",
       "ID7acGXb/vL0pHPgVwH/nH5jeAAAABwBnsNqRf8HqqxH297YACHlNwAJxihtC1fRJc3mAAAAP0Ga\n",
       "xknhDomUwUTCf/3xABfBxMx1nrwAcGPOBnbXVYeHmr+pMAc2KbF188MlBJt75Gee37jeIQNxYdy5\n",
       "v6PyjwAAAB4BnuVqRf8HqqxU8pvThxgBA85ukMJRT8/uwJMI3qEAAAA1QZrpSeEPJlMCE//98QAX\n",
       "2H1rVt8AcmHcwvZMgi4qbo3iDwGGhw7qdWJK1AuG+KsKIKlg/zsAAAAhQZ8HRRE8XwH5m+ZAAmXO\n",
       "GIbojesNQ7DQaY8iooEVFzOAAAAAHgGfKGpF/wH509uQAbD2vrMSs4nnZkVsAfY2WKddgAAAAEdB\n",
       "myxJqEFomUwIT//98QAMNxNTYSaGcARITwqR8mXuniW9z3bflkTmhBirk1V8Y3oT2GlwVEtVYpc1\n",
       "Hx5T/OLKf1zJIYPNgQAAABlBn0pFESxfAQXynktnrtKf7D0DJ89yaQvgAAAAJwGfa2pF/wEEOLuc\n",
       "AGzywI8YJKjoRG/ybwyLs8ogZuIIEVVzw0SA2AAAADdBm29JqEFsmUwIT//98QAMiSTSfrVn6wAQ\n",
       "ecxaunLM8OikFYLlp9/6kNGeuWH0Yr3Qd6qnLaWxAAAAKUGfjUUVLF8CBCVjkSkNVpzcAH4JRL85\n",
       "zFdGXP4l5zsdaHAiqoFlrJcwAAAAIAGfrmpF/wEN8AW2kABBf2sLNzI3sj2FD4VUQYrzcWf3AAAA\n",
       "SUGbskmoQWyZTAhP//3xAAyJJUo4XADoFXGBk7hKKuug0ibDJw13+iVT/kDuKGZJD9TcaHJmpVml\n",
       "VzEQDfNhJ5LTiZ5xShRtW5EAAAApQZ/QRRUsXwENV712cwAmQXPAsJZktrFXzWJjKZUqlDf4Ul4t\n",
       "Yp72cswAAAAfAZ/xakX/AIYRpagAh4c1bLlVlgbvOQ2aAa4e2HWAGQAAACpBm/VJqEFsmUwIR//9\n",
       "4QAKMx/eFBZqYvbmJuQsrVG/VqtaggxOdkW7KLAAAAAgQZ4TRRUsXwCK+AMZ6QAmo0YfQXG1CbGq\n",
       "P4BqOLWznocAAAAgAZ40akX/AIr37JfgAIMXIypnWX4muZoFvH8iEQNZ5iUAAABMQZo3SahBbJlM\n",
       "FEwn//3xAAM1o6AfX43AA4MfpS91d/N1EhcA34pl8N85NB4H8CZySufUxvhA8Tl/xJwSqIMgQVbU\n",
       "l1/u7+JNz82tNwAAACMBnlZqRf8ARYCzgAQchx8aMg5Nb1JcRZtBPdxeErczKEDB4wAAAFVBmlpJ\n",
       "4QpSZTAhH/3hAAVBo7UF4A5LxXphUlYu91Sx78h8j85n1UlNfeqmhpnqTh0Oune2asO8e5YZmoPt\n",
       "FtyfG96ptUXYYI/rREj4pIR82f+/9rcXAAAAK0GeeEU0TF8AR3sOpnDQAD/aFhZjnFnr3eHYaa6w\n",
       "1MPnfdT1Sv14bXnAEcAAAAApAZ6ZakX/AEd8eH4ACAk0zhKPoFsscdjA0ecyBuD6KJ/kjQIofGti\n",
       "qPEAAABAQZqcSahBaJlMFPCf/fEAA0xAM/4AQccpaBrTZjIGRbwEyE1PLcopB+i4TuKE2GtGCh2N\n",
       "EpDBl6wiLYrvYJUQYAAAACYBnrtqRf8AR38AQAt3VovLnRCQbDTs4MIZ/QaX9glY15ceGP5hzQAA\n",
       "ADBBmr9J4QpSZTAhP/3xAANLTKhW97DJ7TQBZw7tQ+4DEfmeHO7NL7VAfVy3V3nWbzEAAAAiQZ7d\n",
       "RTRMXwBHEacRAC3dR3r5vFQY5R0QtP3mFBxvoC3isQAAACUBnv5qRf8AR1enLvF22wAQ8f9uGFDY\n",
       "kIeRcMKNQYjR+e2stH+BAAAAREGa4kmoQWiZTAhP//3xAADYCqjEsAE96bTF5vHH1DKGIswmyE9o\n",
       "Dsb+q3w3ZmGNKHnqPZELG/5F1zQRZhnqTHqOzqh0AAAALkGfAEURLF8AEkRncgAXOOT9XykVunwP\n",
       "PFwQNrpLi5Z+4hakbdF0QrTg+VcF9bAAAAAmAZ8hakX/ABJEZ3IAE6Is2p0qjbL6z9c7+nGU4C8b\n",
       "+6F75Ojxa70AAABfQZslSahBbJlMCEf//eEAAWP1rQ4tt0YATPsXzADiyIuRZPcOdfWDpS66BDzZ\n",
       "TIutBsIryuvnJ4sHmzaQjrD7CVG2f73PNJ3SJ+GNnn7Kb/4GyyuTg2VwCBA0h+myphgAAAAtQZ9D\n",
       "RRUsXwAS3wUITCgAD9bpyKhDR3QwbZ0WRi65mJoQD4rH5UDtRfvHP15OAAAALAGfZGpF/wAS1Xvk\n",
       "UkgAhoR0VEavUc9EnU1S1CQELMuGXrU86pybWkRyIRORAAAASUGbZ0moQWyZTBRMI//94QAAsULo\n",
       "M2wBA4pvYeJ9ZWusdZk5mypi5y6wKaUV2vJff0nBu9qRyxhvyUVXfBV7OdyXE5OBNysP0kcAAAAk\n",
       "AZ+GakX/AAliM+WgBA39bmG20VJRU3fEzUDZ4myZmSAhYvRhAAAAQkGbiknhClJlMCEf/eEAALVl\n",
       "XT4sgUuOADayrqo/+5TDtnR1wusT9UapIhf9ZcGNples4qpgBi2xgfeCjT96mN0ZsAAAACBBn6hF\n",
       "NExfAAmvoWnoqKAA3qDOUZ3qh8W5RIAVSfN6HgAAAB8Bn8lqRf8ACa+NoJj3YACZTfR5eD1QDBfD\n",
       "LgeAIlDZAAAAU0GbzEmoQWiZTBTwj/3hAABai+Jfdu2agwAj3eI76YBIjz0kwgmXA4iGelbJgLQp\n",
       "YVE+78qpDHMjPUC8Vduz7JeXjpgL93FCqWaVV417NeqwTQXAAAAAJwGf62pF/wAExbDiq7AAQ8LC\n",
       "WUiLPyzDcx5DAUPfBivAVmwqeJlImAAAAElBm+9J4QpSZTAhH/3hAABaukVyO/RijwI82DbeMALS\n",
       "R+BR7oXJ0ykTOonYlQscsROodFY+yGEgZdtzkqbDQ8ZQY4vpOrQFSEQRAAAAKEGeDUU0TF8ABNIH\n",
       "eUQAhJSyvr4iOw4NVvPiuGytXd1t2CglWgkklcAAAAAbAZ4uakX/AAT4YzU3XW2UV4iVPiYY9WaD\n",
       "R6KBAAAAOkGaMEmoQWiZTAhH//3hAAAXOV+QA1c9IC1MhCbRFwx18N8/AgT/dGvk28UN5UAimcjM\n",
       "UMfW9wkrBjUAAABCQZpSSeEKUmUwURLCP/3hAAAXSL/pYMAHHsg8RevsD/QgvvF0aAsCW1hcUppr\n",
       "/zW3+heSXe0RNoI6lipz6YQPFb1AAAAAIQGecWpF/wACfZz5aBIANm6HIfHYW+jVF+FzldFqx3Ha\n",
       "gQAAAD1BmnNJ4Q6JlMCE//3xAAAOcfUTuOlACO1Bjh9M3xH47gPk+vScg9AExPO62nyZtGYevds8\n",
       "lbyp6FIOwBtgAAAAN0GalknhDyZTAhH//eEAABfRAsL7AyXQEOq6qtByOG9cEhSormCy3DnAP/H+\n",
       "KBAE+iNIPSNJa4EAAAAnQZ60RRE8XwACfgt5Hor84AQkpcvRM5xaRvlWaZdK8G+NwsLm2E5PAAAA\n",
       "IQGe1WpF/wABRaFuQAJwF8tBGpcIRVi/quxDMbVsNgUo4AAAAEZBmtlJqEFomUwIR//94QAX0QLk\n",
       "CF9N/wAbaYvZkCXPp1+Fz8BoTDrtur/PfVltBUJxoZyeqI6KLDz61og3PLtYewdsdZ5MAAAAGEGe\n",
       "90URLF8BR87DYyGWWlcKr4cKECc1sQAAABcBnxhqRf8BRx9W80JHWMFCHNyZFHUcggAAAEBBmxxJ\n",
       "qEFsmUwIR//94QAADDvVyJJKYwTWfQAcGIjx+RbXSItpT768iSTuGtkqvJEZmA6m6t2eJe+3SZjl\n",
       "O+WJAAAAJUGfOkUVLF8AAKgMX56Ix8AJi1gNOT3yE0XfnCeijvFftbWdI3QAAAAkAZ9bakX/AABT\n",
       "zgfXGgVAB83ahbdNqTiZbQOHHM+CRjT9CILBAAAAVEGbXUmoQWyZTAhH//3hAAAMOd3gQ/0Ve91K\n",
       "T+NlW6mtNBccls6h0bTB5bQRv5VsBP9DbVy5VcYJHQKusTLVrxemwdf2ok0Zs2cVCTtUO/DzpfOD\n",
       "gwAAAF1Bm35J4QpSZTAhP/3xADAYLfoCVm1a1EP7uAcp3QI/4xwPzw/eivvMRzm2gDkOUMbOuuve\n",
       "VB4l91GlugpvglZtARo9HqwQyuRlokht87L/Nnn1bupb3J0RQ3iRa4EAAACjQZuCSeEOiZTAhH/9\n",
       "4QBLdXf0BKzt808HnL62IZatY19PCYgKEZ/ty3Wq7hcUYkt/8P26xpJYlWaC8Wsp7JM3BLhp0kfQ\n",
       "Rhb3jGzldaHGbobvWGlbwf4sebEfoKtnm48mRzYIuurnKfajZycXKdZlnk/7+Rg7S1UzU0z5giEI\n",
       "dtUW1hrEjVJf/gocSABgbAG9QeO3Nmczc5QN2hiAvNOIehkUkQAAADBBn6BFETxvBiKr7moMqmW6\n",
       "sSscWiKwaACdBASI5vYHKThFlLmloMxnHoFOLciOScAAAAArAZ/fdEX/A/ZTvwQxoC45HbQAJvfl\n",
       "lXUe/LXfTSzRqxA6p5s4s/zBoPwbWAAAABkBn8FqRf8D+Nq41yuVADLaZ+poAY+KUeO3AAAAQUGb\n",
       "xEmoQWiZTBTwj/3hAEsNjO4+vHjiksAxaj/lPxMfPS3GKmCU47NbqB8cXrsWEwqMp65CX/LDCksE\n",
       "D6c/efVEAAAAJwGf42pF/wfEQ5qrHbgBNShRJf+kLAEAYqoUlmupPR0+I59OZZq7mwAAADdBm+ZJ\n",
       "4QpSZTBSwj/94QAkkX9lumNncdACmLAClDWVFFn/C7Fokr0pCZJ5d4iC9vfRcJH/GaPjAAAAGgGe\n",
       "BWpF/wHu1HTQAIZ+0IDy5ESzitXht7L9AAAAQUGaCEnhDomUwUTCP/3hACbdE2FqzVQaAKrCyD2O\n",
       "Q6y1+kb9XWLUttYVJHFHAeXXXCeJv2eQOfjnAWETIaj71A5xAAAAHAGeJ2pF/wIKs/C5MAEHY8sz\n",
       "6N6urKlEdHb5LcAAAAAnQZoqSeEPJlMFPCP//eEAJbgh1qugAZZCQPv5ibiR7U58nDN0wBzgAAAA\n",
       "HQGeSWpF/wH507JAAgK61/e07/hDxoeYUtj+5dJhAAAASkGaTEnhDyZTBTwn//3xAAxIZgegAtnb\n",
       "g6XZavqe5RVcwGu/gmNowDSxDNewgd3EtgmT1H1oEQJerHjfB4c5Lu5ov6XMK+VzeEPAAAAAEwGe\n",
       "a2pF/wEF8p5LZ/zL7Q7O5YAAAAA3QZpvSeEPJlMCEf/94QATWiaeWAEaHdcUYF+cAcLrtkNOs6jz\n",
       "7T4ynZGxBmWlmli7TD2Oe9QOcQAAACJBno1FETxfAQGaATagAP18TDS83o5Arop+/DuFR5KLFtnA\n",
       "AAAAGwGermpF/wEDu0AIAQHw0Sy5QmFhtBWZbqmlWQAAAENBmrFJqEFomUwU8J/98QAMn6bKG3yl\n",
       "gDb2Zy7lVTxtbpvMdbuFpkieXxjfPjtWPqYMgDbA3cCeugyZZ4/ViL33a//hAAAAHQGe0GpF/wEN\n",
       "8eH4ACHaZdWqkL5WThtkgceYAGjLAAAAREGa1EnhClJlMCE//fEABnf6boID7S7ZN2E+2OOj0Eyb\n",
       "8yXF6JbZIBbFLEUmrPnED1OWgR3KAbIvPuczm5lHQLHcRY5xAAAAIkGe8kU0TF8AiqXVXD44vsAD\n",
       "U1tHM0WSADMx0vteZUD1bkAAAAAaAZ8TakX/AIYibhzwAIeRt+XDxM8+oCTEssEAAAA/QZsXSahB\n",
       "aJlMCEf//eEACe9Irkcn1EgA3D5p9I6vQLS4ZVxn9NXEaY8cswYJsJ+2c5o6B8/Wxw2DKUR8ZhDx\n",
       "AAAAI0GfNUURLF8AhL0eJZH5AANiEl5kfM35+n6jMyXPnYQDjLNAAAAAEwGfVmpF/wCLKvo/ssgZ\n",
       "3RITF+AAAABEQZtZSahBbJlMFEwj//3hAAUiQ8I9FgBMsNLY7+sR3PMVv161zxib/b7TaBbmGMfH\n",
       "aDrFENa4i2+ZXEptSz9gWDcZHD0AAAAjAZ94akX/AERa7rvpIKAA1/fRJZjQVq6lZso6sxyg1jMc\n",
       "r3AAAABQQZt8SeEKUmUwIR/94QAKR62XcZ5iALD3fpQUQgYCDOu4aeEpXl29BIIN5VyTw4ybD7pP\n",
       "+YTR5BSui8bN/aA0qjaNIRAJF4ajMWV6P5tH7cEAAAAkQZ+aRTRMXwCKr03+eQ8wAQxHEtuDBtO/\n",
       "cya6IlYVOc6cOsq+AAAAHgGfu2pF/wBHfHi0AAQVe3uJsXnGn3HkUhoBEviO8QAAAE9Bm75JqEFo\n",
       "mUwU8I/94QAFPBRnva/AJpKLiHIBrhJpx0OGtCisuo3IKjFO/fxkiV4vg3k92sEcE57VUCTzfxnU\n",
       "K/iNVTgJqQrluvfu9UOdAAAAHwGf3WpF/wBGbUeOQAOL56OrYt40JOao2+P4uY9yDYEAAAAfQZvA\n",
       "SeEKUmUwUsI//eEABT+kVxeRqdKaKAkK/vXtXQAAAB8Bn/9qRf8AR1dA94mADZ6x2hF5kyioJ91I\n",
       "sUQs5XQ8AAAAPUGb4knhDomUwUTCP/3hAAFZaXHgy8AceZebLb87zrI3H6cbYBHOIF/uj2w9HvhQ\n",
       "c+ssS1nDnhJZesEZ3D0AAAAmAZ4BakX/ABJXAIAE7IdjCf+rtaEd8Fw0n6oqKdLetR+cBf4w97UA\n",
       "AABAQZoESeEPJlMFPCf//fEAANgRmB88AmvldiXHqxS1adbCNcisyQZmTkRb02NPsAypX/7re2aB\n",
       "KxHr3p9ZOYAgMAAAACEBniNqRf8AEkRncgAXKpqCeBWjspZJ/wK1qwfM+g8/6hQAAABhQZomSeEP\n",
       "JlMFPCf//fEAANfTKmeQEzavYDCLR0dn/cbC1TzMizxyIi0VOqX9R5UG0uAIlHvuR+j6VyRzJbwk\n",
       "SyYGQNMqrRISA80PJIY9l9xr4a58Wl+dx+BJHOD03/OYMQAAACUBnkVqRf8AElXpv0VdIKAAGpx6\n",
       "Byph/1I8nXrMmSzTxMKd9WHBAAAAUEGaSUnhDyZTAhP//fEAAG6IBqjgBGqYCIjnD9gvfQBqfSdV\n",
       "/ATJzgc+Htmu5JDyVIYEiH9hOIo3YwkMF8c4fU+Y7O7js4POccvnxDXq8h5ZAAAAJ0GeZ0URPF8A\n",
       "CUyceMkACUXUJFZjrSoH/0tQr9HhNNKVYd2/BIA+jAAAAB4BnohqRf8ACWIzuQAICTUDtmA3rWdq\n",
       "q8RqsB3UDWwAAABWQZqNSahBaJlMCE///fEAAHG9NPzOkEDDbWAAcYm/OGcV5FciFpabFIq3BxUm\n",
       "ud1jmNomHJi+MfJfRao9/o7eiBGf2Z0Veij4OohytADOmLHvtlqUEcEAAAAyQZ6rRREsbwYiq+Jb\n",
       "oN0McNABN/+tTdsQ9pOR/PntgE8QjPuUNj0QrdOx3+LjdnRnuewAAAAeAZ7KdEX/A+N8tTDeHx9g\n",
       "AbTm8boVD7RorZgBnRGaAAAAJAGezGpF/wPhBVbIZOzmAEHCNcJIr/GjVoHO1m0OqBfoTxsg4QAA\n",
       "AFVBmtFJqEFsmUwIR//94QAAWrpFca1aIkAkYARVzm4+Z8m+otheLsmS6mZLWJIx06U/Yevg9lqp\n",
       "PTRGqDmR6WnvB5eXhPL0a3QNn8257QNEiXkdJamAAAAAH0Ge70UVLG8GN/mCpQNEMUU/ORmrYAEI\n",
       "EPDiQEnLlX8AAAAhAZ8OdEX/AATUxFQAmoFQo8O/NAITU4HXCxgSbh3F2NzBAAAAIQGfEGpF/wAC\n",
       "ar03+T4rvvACA5B+hyxi4eYsuHGpYqcHUgAAAD9BmxJJqEFsmUwIT//98QAADnIJG8Na8AHAF3OD\n",
       "NplUqRqlrtAIJX8EJ7wmwInnY7Z6RfgWLlxMeMLLTstjStEAAABLQZs2SeEKUmUwIR/94QBLdXf0\n",
       "BKzpodPCaHCoY2Q0FHItec0rf70qnl3PWH3aU/egJ4H/xBwzqpeaj4g9EySe2UgyWE+V3D3uL+qA\n",
       "AAAAK0GfVEU0TG8GNyYGM0mUYn43ZF/vgAbPXPI+RqbA0/G8BqVDQLUUxpXAUd8AAAAfAZ9zdEX/\n",
       "AAE5gm3gg4cVdAANm6IGfRg7IOnwDZuT8QAAACABn3VqRf8D+N6msVYVzEAEOGegnlgyr7GDs0RZ\n",
       "bWNXoAAAADhBm3lJqEFomUwI//yEASQjGEg0gACOGfFN0zykPDhcG2YXRyhTVRDt01APi8LnqBtD\n",
       "hb0AHGFXwAAAACZBn5dFESxfB8RDmqqLd+AB+0hnkyLxiqdfMkLkje5pwCmzcOmF3QAAAB0Bn7hq\n",
       "Rf8D4t+0hIgAD9qEJRMoXCWaVcTEpAkMCAAAADFBm7pJqEFsmUwI//yEAI4bn2VO2SAGala4iLaS\n",
       "gKu5OfaBfNnPrLk9oNxLWC/nQV0xAAAAL0Gb20nhClJlMCP//IQAjnnTwAh3uQw0p/NnSGodlfGG\n",
       "Pug/5hesLkIyjbLZhFvSAAAAUEGb/EnhDomUwIR//eEAJt0Tbt+VP7I/TGcAcoJPj2wZZdCxuKcj\n",
       "SFXi3Yay2EtyTqfN2K+UVFdOsxEe0LXDQ6RFe6sdaYf+tfNNVAuUujTBAAAAR0GaHUnhDyZTAhH/\n",
       "/eEAJcj9ZiKPgCDwj3rNRQ6eJSVrj4YlIQbNx28n6VVPSm8+wTecA7avhOMeLRxs0cXU+aSVL+NX\n",
       "CuI5AAAAMEGaP0nhDyZTBRE8I//94QAlmgUf6FohlsyMv3G8/CBwRGwDP30d+O96WdgI04pzbQAA\n",
       "AB0Bnl5qRf8B/Hw2AD7e13CqXiZlD4/dOdWMDVrUwQAAACBBmkBJ4Q8mUwIR//3hAAEtRTOKw3Fg\n",
       "uGOQgApHJE0XQAAAADtBmmJJ4Q8mUwURPCP//eEAEsffMVvMVuEAHN74EcHbAsEiGZwLr4e+/sLe\n",
       "XBZs6yYCfaZ0OQp9qu8FywAAACQBnoFqRf8A+uHDJW9UAISRJxIiyOR4qbOYc/xxMAT+nCQl+F0A\n",
       "AAA6QZqDSeEPJlMCEf/94QATZEqNkgBaJioTZ2UGwdI1f3YDmA0XTg/5lrCs/5nj1V835TbP4YZu\n",
       "LR9ycAAAAEhBmqVJ4Q8mUwURPCP//eEAE2cI3m9ADoDnBgqouEh1tbVVHt/QGH5jL87D3MRiEZzt\n",
       "eu8avAjwXhWrPsh1RELOs9SxIF65EPwAAAAeAZ7EakX/AQRGfLQAhB6tvH13GN/8M68Ns42lKmxZ\n",
       "AAAAQkGax0nhDyZTBTwj//3hABNUTPMyAafNSNlgljJxW7qSSXKsegIWfFYhPVGMi/zJDDgqs33l\n",
       "QtLTRneONB+ul/ZJaQAAACUBnuZqRf8BBVxgb6dZIAQH0PbKaAu/Q8uESXfFRUAeuWlWiK+XAAAA\n",
       "QEGa6UnhDyZTBTwj//3hAAnsurQAWBiwBI66Qr4iOZ84Lu6NfkILi5YP81/3RVGLQXiY1GQSq4Eg\n",
       "z5PmQfzr7j4AAAAdAZ8IakX/AIdsKAA2i536rDUlpUmdcWtWRrdi0EAAAAAfQZsLSeEPJlMFPCf/\n",
       "/fEABkYuM3oA+JB/JHYMTJc2FwAAABsBnypqRf8AhhxSagBBwj1MBxuZRFiHHo74CYAAAABIQZsu\n",
       "SeEPJlMCEf/94QAFII/XxIAIcie0vTROGd9hc8nTzc506IG6MW9Be4k+8sKyq1Y9a2wH5YGeThUU\n",
       "hnaHCK4+KmdcwnicAAAAIEGfTEURPF8ARXv2hnCAE1aHqlv+62PSqgulrX/FZvgdAAAAHwGfbWpF\n",
       "/wBFlsxwAQz9sj0FyafFYXqTYDDgRzrMs3AAAABNQZtvSahBaJlMCE///fEAAzWaNK42UAOT4Dv5\n",
       "teZVzojYPWdgtEcQTdmN7JlThq8tDf9yq+mZQH8oZ7wrramPEXCbApME/L+cHbvS/SsAAAB0QZuT\n",
       "SeEKUmUwIT/98QADTqsjpoBCSb1e8IokGFqZlJhYsKZVNx/tEqk2P7/rgOHf9WFr5vlzOqgR2Nux\n",
       "vR3Qzz/Pck9ufm76KvzMI3q3jlEt8hxEsUg5+eRYh064BK5GhShnjPmQYP4s69j0mfQHJwEGdb0A\n",
       "AAAnQZ+xRTRMbwYiq+MOXEMTAA/OqL32yvW4sLvemV6Hlm7cgW4B4LVJAAAAHgGf0HRF/wPjfO1o\n",
       "xQABs7SX4+/y+2RCeKWyafGeNQAAACMBn9JqRf8D4QWb8DgARhpxpwIVJu0d4pzBBvl1fzGL1qDG\n",
       "2gAAAE9Bm9ZJqEFomUwIT//98QALnPqDSAGMdhLHZMTDZnmA2bOZ7XPREMKTerQa1bPA8ym9fP3l\n",
       "Zd+sW0U8wl6bs4w3ICkKUHxBkg7cV2ZlwU45AAAAKkGf9EURLF8HxELdnPb7hIACIEco/2YEmhDY\n",
       "BDohT53BmFY+Jn+Eo9HdwQAAACEBnhVqRf8AI6uKSGSt6TgAQex26+zjqlimBePZ2xTRUbAAAAA0\n",
       "QZoZSahBbJlMCE///fEALt8DLfpCKZ0ALi9XSQDRdB7XZJQHjROzipDS4i8nneR813iEXAAAAB9B\n",
       "njdFFSxfB8RCr7sJgAnRFfUYEgduV2fKIWw2QDPhAAAAHAGeWGpF/wPkHnygADZVNc0gHXd0hiNn\n",
       "gd9MD5gAAAA0QZpbSahBbJlMFEwn//3xABczyjXV1PgA1BUXVIyFEvqE64JcjaLQYa1tpnS4MXjC\n",
       "pSQPCQAAABwBnnpqRf8HxEMw91cAGla/muPxYBOtb1aRihJwAAAARkGaf0nhClJlMCEf/eEAJZoF\n",
       "VWeQAARe6wMPITxn3CB/4awQkx556FEqN/V6VOkmhe1Drw70MLQroZz79JPfpeu9obNcN1EAAAAg\n",
       "QZ6dRTRMbwY3JeMbNGiNOrgAbCqQvczvH4I/vl9AesEAAAAdAZ68dEX/Ae7UlrEAIN4bAFsR+UDs\n",
       "mrXp+Qwwh4EAAAAfAZ6+akX/Afxq+LIAQjJKjeZCL8kBXnyU43zr/KMDKwAAAF1BmqJJqEFomUwI\n",
       "R//94QBHJH/JrYQBWnv73tQya1VSdj1FFzAG00OLAespnMjoL1MgX11F6w2K53qJ4rfVF1cIfSfd\n",
       "EaCIhdxW2qBHYBGKoyVGNaLs7J/ah11ePLsAAAAjQZ7ARREsXwfEQ4xP+5hZGAkAEH9jH+vwiqg6\n",
       "AjIkJEMCLuAAAAAUAZ7hakX/A84hmrQli1ZIMBMFBgUAAABBQZrkSahBbJlMFEwj//3hAEcLK0sA\n",
       "CTyQMW2EtKw7gngNCZxUheSKRRRafqp5vB98m9/Wlw2iToggJfmbDeXjSpoAAAAhAZ8DakX/B8RD\n",
       "idIPyV4ACIFQbqXHxwAXgY50larnMebgAAAAOUGbBknhClJlMFLCP/3hACSP+8zNGAGtyXNlQdw2\n",
       "UrdVj0Wkpfl/6UbDbn5fNA7s4eJitdgh/zmPZQAAABoBnyVqRf8B5ccLABs87TIg9E2QqG5262Kt\n",
       "gQAAADlBmydJ4Q6JlMCEf/3hACS0SfEVYQBD1iPUzinVBncaBSmV+kpwPx11oshMh+ov3Eb4Omj4\n",
       "Q8YKYsEAAAA9QZtJSeEPJlMFFTwj//3hACSTjJHxkzjDQB3e80C51dhV1fSVBZmKbJFp1GkJOZba\n",
       "Mz2Ry76QnYb8HOJqRgAAACEBn2hqRf8B6sOGWLSPu7QAgoRUqYwRUW9vRi9H3GS6PuAAAAA0QZtr\n",
       "SeEPJlMFPCP//eEAJd0SfYiCZzfhc1og5702t73r7O+Fp1gpf7AcBnbjc+hMPDo4NwAAABkBn4pq\n",
       "Rf8B+3oCi/riw5vHicNX41rtcjpgAAAAT0GbjUnhDyZTBTwj//3hABLaJsK9ABGRsTFZQizBU4/R\n",
       "Q23nvUSl1bjo7eMReGcizo4NJXjVZgH+l72MC+1pUM+xJptjZuo62vO8eVAatoAAAAAkAZ+sakX/\n",
       "APzpI2YACHDXBc/ZI+APTAlWngGzCIVG2a0ttYWBAAAATkGbr0nhDyZTBTwj//3hABNk+uFABcXP\n",
       "hA69ReS5MWNagauZt0uhXSsw0esVTCnp6yr+zgJY85Ermk1fsX98Qb95eMN3JJOJshuoF/0H1QAA\n",
       "ACYBn85qRf8BBe/7sAlgAIeRvxMXoOgqmSytiqjG8Y9Oquu9YiKYsQAAAEJBm9FJ4Q8mUwU8I//9\n",
       "4QATXFDcZ4AiG6/ggkYqOkTHl1dY40ttnj9aY1k8V2HWbDDXlxO6RI+wk7HheiWA5NKRMg8AAAAe\n",
       "AZ/wakX/AQX8AQAmLjPNGxVp0KYj/vAJPGjGTYuAAAAAM0Gb80nhDyZTBTwn//3xAAxEDVLbniME\n",
       "B5lUALDzA9AurB00giAtKtn6PNhcszpxOFZqwQAAACABnhJqRf8BBVxgb6dZIAQcB3lHvM8Gs2kI\n",
       "4Y19FWO56QAAADVBmhZJ4Q8mUwIR//3hAApHJ7g6OinEgBYGLN2Z3/hxosQfajoJzjprUy69lnI5\n",
       "gqvtdpQYMQAAACBBnjRFETxfAIb4/sDABs0yVY7p2k4OM46xM2E1oNEwIQAAAB0BnlVqRf8Ahy1g\n",
       "YANptJE0zqt5EahFavpsMBXsPAAAADdBmlhJqEFomUwU8J/98QAGRplTPIBIQcvSQnES1WIKGxiE\n",
       "QmqSppscTOJzqReENCVETfABasfMAAAAFAGed2pF/wCGrttLDP365McuNXqDAAAAJ0GaeUnhClJl\n",
       "MCL/+lgAJc7aJM94QAmhFtAy+3Q15TFHu1jmKFRQQAAAGI1liIIAC//+9q78yytHC5UuHVl7s1Hy\n",
       "6Ely/YgwfWgAAAMAANVp5QZSk1YjvoAAHkhp7YSCZMADZ7nbgh+0zd+YWI+SjYqvBMIP0IdiDXqG\n",
       "5Ooes+ziHxAuagiXT/Vy6wPg54eaSvUSg0q9ykIde3OUM7yeJV6kKs82idiBSa31hPaN/2CLVyQf\n",
       "NheKj8wXsiShX+HiGq0GnMhRWV1B4yOz6RhOQPIOY0fh5UcR7zQOBpyaUBNl58eBHySBCcJePtWy\n",
       "COMahQIKS2tQiD9eipkiVz8walkvZeeUtctQ9cPzIu1G7UFyWIOIM9k3U7YwQPmU3gEQKG/4IJwH\n",
       "QcNIcAmabfXXnTX/i+FU97F8HebkIq+xhqlTDpHm5DKUtM0kI3bUEsOj+QjixWzUy9ox2QfhhFWZ\n",
       "aV9ewEe+vrlf0YtsUCnXBDMSxcf/s/ivF7meVLKOyerR45H62IZI8F0fQnT+c9zJX7Lh0xUOIB54\n",
       "xVNPAnJVMmXAZvancKGL99t358gNM1VfI1sIwPkF+/2d+uBPY7A83hChiGWJZkCFIGgTR1R70kQT\n",
       "cgrjFJLQC7hHna8+AHHv9pu8MsCMrJrdkMh4wFv4k6ybtCnRsF9B3RsugVGwwNnJAAIT/Yp5OGWw\n",
       "Rm4EsCFXv94UiTdM3y3ZRLiZ0RC9nk/mwks80s2atFl9kqaa5UA4o/nF//17JU+4fMeIEQa2onHw\n",
       "n3tL8q7iGX9RfwMcZAwEpDNoSSoTq6UJiPVaBvnFJAWWLIt/veCFuH3J8Xl0RvEVCfUE8IWcPfQp\n",
       "vyd7bxGKHHjodRPpDcasDkG6k9JrIWkYL7ZhCEO7tZlIXkmzVWTuA3vUNY3TFvVTG6xfrRNnM8Jf\n",
       "rBknPCmw2yZIKzKxjPTAMBjZKsFiYYhlZdjypcijfzZ4yF8rR6q3QiPFeDa7Y1X77+z+2o49mAUL\n",
       "E39GaU5NkRhpQeHVjz3zK2GboUv7Ck055WQusJ7XZbwNcCpr9NSJFPJ4+Kk2q66Mo7q83jCDfgi5\n",
       "0OffLZFrU+X6ToKuxZSIpzdAEpL9E1N5Ydna2mfJ+BAq8c1jHwVXHQ3bFAMtZJBIO80K+Xu4DW8A\n",
       "Kn9zNefvD6CCWbEe06PSbgHnFEmn8iKCVj0mGtnMVeNL2cSYzwuT+rCBw0ZVOh3ZYoQjwBuKXotI\n",
       "1hWVbbSkGq0c01ZIdTZilPi3S/0c08Y1uqIyeCLXwC+Ip/r2qOsqiGVhdnWkSm4Q41rUcTlGwT6Y\n",
       "AklNdBiKcgs1RNXdO9KkWOvGzBcnAAjqxSeI8n0sMlEOhQja6tjviiUL1dE4G4CuHt08hNGHLgtO\n",
       "zYADM02L6iboHxfvH14vkpkFsZ4E66mHo9/pDYPBq54wbpMs8vGMLwQjlCaRDgIObEL3xnTsNkmQ\n",
       "JzMVoaCp3f2+7QJvCgdYH3li5zRh782qQnTTiMplj8HChMOlYdLR5sr7Dji27iECcnTwQtOxqyrT\n",
       "ZRPLS2cqMSK0Uy4CXHeqCUP3FUBaZgFVH1a8hCmBwAM/qgvUmgS340j6CDId8I9gsA4U0EFBWpKB\n",
       "MTrz1uU5tDVi6cDlWGpIzarBqzXPe9oJAsntIs6mG+69hGrWNev16ZBC4M8ze6XKremOT8F9d3U/\n",
       "YcyguCdA3bP4bLLnjazQT3XL3MBy5o4dMbzRL8HfWOuVlM/Oy7onzOR+9zFfqogyq9s/27oS3hNW\n",
       "hp2Y4xm0zdlFDkc+rlqeADaF3J0VTXLxNz60DR4FcHZhP5YdfsR160rV2p5KaJMXVN03EbbfhVxI\n",
       "ti7JuzbvkMpRBQ+wDFE/ZL4/Z+F8CSyl5j5LbDH+p5EsUsn4CR7+yGzbhtBoPjknXS9QYl2JxvYi\n",
       "I6ug8/hq/y61u6Br1ka3hQz3i2eCTT5x4vW+YeoXEBrez9a+vARRIVjjZsSnabZwpXJos9O2NcIV\n",
       "1znI5cybsSauivTdsQv9SHoIDEo2zwbbTvs477np78jAwD6g+mt9ntX5fa5bovNewoE4/eP9DchH\n",
       "7VReVViAeLajiLIk1S1dwQk8nyZqnGrf0mDujZqJNBT3oyY2oK9yLdV0BmqV0NFPcJtbxiTfYWHY\n",
       "0r8qEIjWD6aDjhEDvfXV3cticTp8FkM/XGtN4Nv7mXhUN2b5OUYfR3LLAngOeMOPOFgjtPpMIZad\n",
       "90I334SB0ljLRKcsRfa2/sf5OpvZ5vqCrvCPHKW2b1xTLe3Ld2dnVSB0QuwvoLsF+x++rBdMwjIy\n",
       "pwkiYPnswG8WMJUm7J24JyYkwSrPLjWUG79NSyPfZqy29QbLyzpZfJ8of9ulfGtjnHxGkwcsUuvC\n",
       "ZcfXzStOKUV9nDltcfcdMqUO0N7TIJu4TayfYlbuQKwHewMlQqOzrJ3m6DGwO50Bv7L2nc0tF+DA\n",
       "nfA/CfHisHdkbAvij++4KJ0OoRIEYUQngikSzWjzrv71+Sv3cr8V+Bh9iB9TamAKa1myfXZ9UIsZ\n",
       "94soIZRb3lGWZYvJex//Yx0AxwGG7y2QerqxfJUk2bHo67/dcVTnoQfMloOxHRLEJRJovwXnABQO\n",
       "PhjBBcqkGsQhhqt4jlb8b5kQfUnTR5jp+LIqoMnBtDs7C+Orb7INtxskHn4Ii03jgMbgnHhAR5YQ\n",
       "NKak93fhnVNbw1QrwUiwh/0JMDYmyAw2cUXuMGJ3YwQNfG8S681EZD509sCmLo0D5BEemjvH6ulR\n",
       "pQ2jg5TG4P4FPUZy/Q1Jgin/gNIAZ742Kr95HmI4/3BljL0Jy8h5+eFhq3r2gmMF+XcAtgPlcQVG\n",
       "89askqzfpTG8toGRggDbm2HT8mcunljt2iFh+rwh+xRsqzJH3g7vnACaPSrO+TGZ3w8l4+9xJqO7\n",
       "bCKWk3pwf9LM2+61shi4Fv3OGsR0zb+T+ylYovG5//2gSnYyUdTDGIKMgjBTQu9wHWvg8wCPkDp6\n",
       "xIknhWYnrtcBf2lGeDzJmwgfuuZ6BaeEltxaz+zY3UlEw/Tkncr99NMkKb4ucpw6HeQABlgfTPZ1\n",
       "xRFZht0P9nNJnCppok503ScEUVU4QWIkkRi/7GV3M8SrQiQ44cCeef2+eYz86+Y4Uqnz9Fpio2AQ\n",
       "rBPghhCDx7duUMATyqdtiJM/2WVScVmw3ZkqYPpoiwNR5xO0xXQrOsirAaPH0KHwRBkuALjvIqof\n",
       "7+e4YsW3zL6D6iOfCkxJ1POHJmFKDDKU3F6fwvoTgcziwMe6PnM9KfOrLBxI2aOlZeTv3KRynQl2\n",
       "mHrIXJj0xibjo2A/183CALmH8f9O/czD60gn50/jkDxiTP88RqAx7aZ/zdCyx4yvePPm+cwP0xwf\n",
       "3kNjK8iZbwltX3gp6031PdlJ3OccSesn6UAWqT+3V1//9xi3R0ce0GuLdJ8JVfQkmeLE6h0yfkkR\n",
       "Jnl/7K3ikFoznlLVV+N60Kbs4qq/avuo8+wOWKzYZbWvz+ubP5TpPjOHpiGTFbxxBJpM5R1/HY1h\n",
       "ZyDIY0nEz707apvmdRA4MqmriE7GSRB/ZdSFly0xjBRXjLakaTPg3+7wDtNZKT5sTaKWkDajauhr\n",
       "L0YIjuFQPtF3rs0XlIVF7326R5CDj2m9Dt4W/mOM7ITR4O8WQ1U3fM4BULptf2+nSpIRkBEEVlwN\n",
       "m65EKsKGDFPurRjVd2vmGau3vX51ayAw3GSNaD+PKHwudEKhXGCcMl/ecOCOgrVJBkmevskNSW5U\n",
       "snlZIJCkK+XcCwUlA71FsedujxidpHnBlR84zqgMSC2g+V41GyX/QKPw7nNJbvbwRWrmRR6wP5PN\n",
       "xgySBMeK5J8Bwek7GGovYM/ZG/k28/0zHuKqpQabMzth0wcF+vrTsnWeP1OKk/2oao1ErH0BNHqj\n",
       "51m/lP7ez+VdXrTloczdA7F4g4PSoqacwWIXNnYJV3RRf6/+c6Cn8qsotrjcF/mUb/5l6julg54F\n",
       "TGyZ2tn5/JyCUfxqP1utIf2946hM06G5qZstgvwFTL3Tv8lihk8Kqq7n/YHmFinjxcxqod+FBxJn\n",
       "ujvu7wX8cLnm2t6HxrXu3UYb6mOWcLPdx74jNIH4/zBgco3IymfDYRLVK+7alEQcOV9A69cCPWFC\n",
       "ay3WWmhBy3sajKPmJtosI5+p310DQBKGKKj6Qzg4MTJQ/gOuQVy0MxyU1GHU9IZOHyY86Nt92fol\n",
       "App0ILWohf69cVLZtAXwKqmpvSe4FRl8vgwt/YCBzmZ9YSQDxbt28wp9pZEh50dkXpsrMnsFT1J6\n",
       "d08xO5iHwu6fLNiScL3nfjF3dXQt36akBjAixUahOHGYU7eOpVe2eXx2YhmZn2B6sxhi3jrO3O4c\n",
       "U5pcmJguKWOCK6PtkccRrBFcqWF4euBFfnedhZT39EHJIrC9XqMN7ysyUau7tbU0L+OHtVxyspPd\n",
       "fnkYsooy/ALlN+jkyS2o4S08z/SPZFP0ZxYyAFFGkbIa0ZO7EwJyo80g5vdK7A8t5+XDr1ghubh/\n",
       "5hTKWIiiRGyFKQwgp6KerF0syLTefkyGPV8LfT/npulpJg4d4hq2ZcRl5gWFEXoVNcAABP/mvKuf\n",
       "K+uK+ePbztULTXwwZW3Wee4/p5cyQCtZwz6M14AhvhGvta/APJgkJ4q4mlRS8FvDUkMAaNWA/mGB\n",
       "saHRBGX5T4DnDlEe1aL6lCpI4EbJeH776EoFPQqJkJXu4kxf6Nf29NrrbFWXuVWKi3O2bnc6vjm1\n",
       "Db2p34vQLszCvJIpMrvfMdNIqh9ckuGCRN7rs7iM3hKr5gM9hGvQ3GgMQdBQWB6h785W8e4catBC\n",
       "vrsOcHCRdBd6BhRxClUbOva8D+KkwjsFRundTKpcjOiB5juV2YvoHf7WOXKMIRMdgZS/9xmn5N2i\n",
       "LZTAFosvvwOvCf8O3amTDNr5kes63BwWWZPVvNZ4xviF3PWIlfHlcaVfJbZLi1I6PeuZTFTcMSX4\n",
       "PfZH7LQzYUTsmrIv709SmYi8v/8P7Vg3ONNhedmSYQqCskKpLT6iKrjko8y48dcISslBIzm85uvs\n",
       "BlCxKrHH9lmHw1TbwluBbrYL1DQFAZLOyIWfsNZ3ktPeoWQFgUJgoHqOQv+w0x0ot7bO7/QsSWrP\n",
       "QVZeA+X6D9oHk+yTRtmlVmODHKOiv4N/LrCcKGuqYGWElS3BO0rd9hwygNzwDauW3dbJXtAzrMgh\n",
       "0fgZOUaKJEDgWTSJDn/jywA0oHTtc4IBeNm0HD9Pb2mjSEfvpZX5jh+4MJCG9UKHJIKs610ik/I8\n",
       "zIYzno7fSqOw8/lmw7+m68se+1vTtCd143UDi1mSTATYO+8cZsi4EluA/f1D/3dpHxBSMcKh29r+\n",
       "lW/jRZ2sMaFDD7jSqIzEtq6ZRTTD4tE/RZCXoriCtlwKrAa9nZ0GYuoiC9Ql8ByALVTeqRKSm/nB\n",
       "hdDZjfk2fAtB+KiJ5AYEZiCGQSOMBV7WJRWwkMvBBEVVjOkuHm0kx3cnKpNZ356umxHCRtyqN0WZ\n",
       "10VWBmjOqjH9foRM74BwwWjd9ZJMNXyMabsIanYIrtP/GQqmqTFN/bElUsuobfrIgq6EHvNcPKdz\n",
       "dqBACincXI3z4v641OkpmGkcA6KAWEIapToRoCgyq3ciE2zQNHgIj6ya1UIrNjZCTaebway5HeBC\n",
       "kGIx5CmBToQIpcfJvPJ6WQVU8bMVmo5hS3DI0DQ+i/Xb/NOY5mO602LUocvroqgt0nAlLwJNZBmr\n",
       "Q/vu2JNgS0ysVua8ClrhmfT+m6mO9321qWzDilM6LJFTHSDDJQYzXa+TxAd2xJow1FWmgY8jK3GJ\n",
       "DiKi8aqpBTr4rdEBCQhEcQQUFZ7+p6nLPKWvcBxKOmn4PLIhwXaZt1zdCykiBxqGoS7oUIAGIgH5\n",
       "4gqvIDSACwbQUuKsRIcAL+gaimLkr04sIaCDqu3Sejy1PT9RI0CwYzz64YCLC8W1gkh/tJ8yxRkm\n",
       "88YOI5ydoVh1DfB4QpouicwAuZo2T1JwzppGM4KEFzAGoDgpmvpX3ZSoL2dyjZafX/tn/ZdL7cKZ\n",
       "XAccVRRg8NUuJ0D4USU8tHqPf1Xca/gEs5Ttr4N8K7pkjNvMhQT0E0/WsxoktjssL+BtiPQRLMQl\n",
       "ibfm+tcNse5h0MOICvhUCQSeVOYRI9+B7cDoCH7GaZT3+OfIn9N8R4yXMl24vqWYUMjvzKkWkzR+\n",
       "DJdmYKQBZtrmP7yETzg8L5Ryz9SxLvvjaNsqWAhdXaAoq+/NiiDTe7/00BbZfzaYss1/3ZMPcZ9K\n",
       "2IvMBvsOPdb9F6w2RpuwCmJVfwDX5waQ3wwx6t2hPIbgtGOYAABcfYTsj0x82RA/KsRw2i+5GGHg\n",
       "m7mPNH2UJtjTklwmfX9rhhtcxjCYHke5J7ehntCyDrGntmUrBIt5cM5Kdg0esHp7mI/tMgH1+b7y\n",
       "6JzVxNOWu04zeRsuwjt1TlwP8Xo7/b1aSUfeO9mefAssvTjhtIR5qgwmGPRKgGJ0t6sdX+1UqNpZ\n",
       "0cOWPoijzUZMLMt/77alb6+NVJCVQYjl/OhWBLLKQMgCUKnmWaIkew0Yoc/q+K/ntFguxxydGBsm\n",
       "ZA/asqCK3Y9EZ5PvQ+GsNVdJOLauRrb4HO1kHYdaTX6Fv+fxgY/Ar5D89nozk63zM1YADlf30VXq\n",
       "QY0ABGvcyWfckLerJKiHS7aHMGz91FBT4nVRXYw3WY0NWJxgj0O4cUz8ltHwEtNICy1y3HI8rrE0\n",
       "kq3zRDaXHlMLloI7xDhnxlUphOFGk2yfytGHYx5qYYeWz2Y9ra69AErqN9DfeFAUlYvteuBtkEVj\n",
       "/MtgcABxbLG7UWe6B+75mPd39YBGeulK1uZdJqQXjyfiDN9yT6L6xxBBpSlD2OQXUvBOwOmlOb6S\n",
       "rpBkGIJvVivEcG9C1UAGOqwQnVk/T1pTREJWps2CS3I7LIWzhw+9XCUPM3ItJ0vOsqiKAFeYKqZG\n",
       "R5eTD/BNZMAuMl9Gq3HkrOouGnek3oQvkpv/5Xh/ZIQFdUfoUlxoPwTji4L2kkzKu/gQN7j/k3L+\n",
       "2sp6ZtUYeHUZGdAw9sl01L3/+u958jJXsyeLLcNugmnx8GYA3Elty8dcpvyCOTdYen1e3BpUlMyR\n",
       "cQHCFcc7U/ywmvR5UaPd4D5umWqQGi7UIM8s1CKSenB8QWUBdb6WjSogS0Iam973pwlrAsdRSlwF\n",
       "nhT2XDWzINlBqvu57fQGXMaeoWYsAQ4e2/NIZpx2Wlo9DYd7mgGTdPcYKYet/2K7CZsO8Wd4ysJo\n",
       "vsu9zIAMHyaeWKfmbxdJ2Qip0rXFVUGwAJ5QqMY5dZ1gw3S28mFzFzHITyR7M8FSCVydsKvwnc3b\n",
       "bH0DOtFYVRza7KAVMJiIg3FXHdk8sXz7gAfYHBOzurmdPmmjPtvguB5TyGVl2ncMm1ud6MNkwEYA\n",
       "QkNR1gt3VuyWV7lmRtzPldt16N6SNRNT/KPttcztDkYZbqcXnRJNop9p97+W1IpHH7jF/bjHytyR\n",
       "5Jy4tNEXBNRH9+KwwfYmYyAX/Pq350mTO73yrUeOS5eEe1scn6vdDitDEdmY+rf5MbSFbR6vkFXX\n",
       "vfQXynWkMGyiQcbxQm+g4HVquz3eP/FwGTdedYfLN2mOi24pe/TPy6wyd3l9RQ2/O3UvxaTGY880\n",
       "PqoM60qZ6MJxGJEr0khgAp8VLJvgxG3M2K+XGHdAT+5oxyB851IGUQXKR1EqTwZwNSTEGKWb9LFd\n",
       "FEDr902YvbWxg7U/WX2mOo22vhBn+ODioGFdQJUHf61CCh/YhcMjjOAbCIHwl/FValaa0sZ7KVai\n",
       "enOt51GYQ3MCXU+7x5dPGce2GKGBUIJvD27A95HJ+m1dAf8nwDO5BldI7s78/N3NHEEmbgkiYepe\n",
       "1FOt4Ky7Ccw1bVNXrMBXEYgMyhUyePikWR6F2egWk7bhroj/9kqZTQl4jj3Bq/ZEx153mLa1WlgT\n",
       "m88E/7iaHoVgMhRO4gdigqXjCh1Dqoz85zcCVu67dfcGaTLOhzPpcSzt3k4vcd5lAKxlp/uICXoH\n",
       "lfN1QDh3oE8rW4vwNHJsdeGsgJMLs3tOgFub4DHfGBKugyGV41pU/SD8AEc7dIFrfk+KQMigokH2\n",
       "66oqJ3OCcBQMBz0GU0H4ckPx0vIF1gLK3b7ePTk6vFUj2xmq7QeweKO/lIFsYBS5+L4nH4rxP8k8\n",
       "2QyInaFZ5d2ceibOg8Xo4rDuXDKMnvJqcl19PEV6mi/MEqQKcU/QSxyL2X5AqmaWazmr1tAqvzJr\n",
       "aaCveJpYWjwjqvZ6WHRvV692lql7agfjBfTTvPYmaLw6vfoxaLwVA0x1cYvbzwOP+JVTs4k32Msw\n",
       "3FIV636zcJ2K3CwJb+tDjfDv57LL+/f1kcKXO7nSrT0K/mJy5SecURp+y9BzDGb+IC8ay6r+MgS2\n",
       "t+O/ELH0ovsUDrEG7qAMgKlQWhq0cCDa3WTXiuNJhD7d/lurEqqEAA3DFtJ6lLWUf3kAAAEyQZoi\n",
       "bEI//eEEiyTKHLrWOSAWLMiLZ3AL0fx7D/ruQJBaDkKfVMaJBr5r4WvXF/dV1x752MzjR/FP6G/Y\n",
       "irolQEW4NKsz2R2gf7r9AP7QUN2ohE43b/kuuCkUzKkmza7xetSqI5bHCdcB1MV94QUeysYyr0to\n",
       "oqiJ/+vRBpwVt69ToSR0MBtIXUVM94eIJPjMKD9FyVf6ram+7/8Ghrqj1zrZMvIPWZlF631CLaJr\n",
       "Alkq+o87iug8L6XwEmPWuEFUWq1JOba8sPBE4HRr3ROL04JEfqWXcg9e4sMjw21ngRdMI0jlKnjK\n",
       "PVSTzE0auHZzNEhstA7IiVN2Zd7GWKExi9zCo058aUkO0ChMDxd/u9WuaN+BOCIbWSyCIOG8htkx\n",
       "0ehBOC3My2xLtXJPnenLzwfZAAAATQGeQXkX/wq1gBycKHYl6EReJ154KIEpGQAAUp/PXfScywGB\n",
       "eW1+gA920mwcOuAXKOTMgfvDL8eKxoiF57kiJfB7IJMuRnQF7F1TL2OBAAAAWUGaQzwhkymEJ//9\n",
       "8QIlpuY0uCjljEvVhWbt+8L8ctf9wE91ipydbpfoA5LFIv236UVmUYJmL0IdKDny6f1VnTSf4ubL\n",
       "7qXgCXNCBL3jPZQ+jfTK41hwZQvBAAAAi0GaZ0nhDyZTAhH//eEASXtWKvjUfCkOw8ErHwqz9Uxh\n",
       "JApmR5uP8cDy1oKeb6LrYFLWyBe6uIbEYhE2udFlDlXt3+ZNuZ9uBM+EZwK9WDUEq9fU5r///Hjs\n",
       "UsH1LeNO1p2o8qMe2MTxQIUCVZjGW/iLRLGgm5oIYzk330xOLP4Y3IB373vLuhGiqMEAAABJQZ6F\n",
       "RRE8bwfbkDkfWd4KxHynpam3gQX0uoYAE6LTHn7VypzqiS+kvhGJzRqOROuXjdJDiNrMhWvCm7qx\n",
       "uMk/VaCIeOHPJnYqCQAAACEBnqR0Rf8C6k7esLCAXUkpclZYVrcvGWqzWgj3joZx4oAAAAA5AZ6m\n",
       "akX/A+LiASgKo4xS7osDWgBCMjtZ54VCOw2Qv9lkmIP6tmR4fXhjNer5dfJ4lebGe4Ik7kXAAAAA\n",
       "V0GaqUmoQWiZTBTwj/3hApOSZQ5iK6hAtPtRACMBzelO3CJTS0zL5/z6Sjl5v/wWrBvUS9E5efMq\n",
       "LWf3wUoiWoQA1RxaYXnXyp5Et72mBsJn0/hAMnJJkQAAACsBnshqRf8JUc/TQzBBBOvA9vXoH+gA\n",
       "2nOtPMx84J/pJ2k0oP8sAE5oOsWAAAAAPUGay0nhClJlMFLCP/3hAEcRM6y35PkY7QjOAGi5U6ZI\n",
       "DzyuamlfdjULMu3IchIftiLdvSZ1j93bO3JoLuAAAAAgAZ7qakX/CUsybd4h89zHDP0eAFl7HJGU\n",
       "opoECI8gHzEAAAA7QZrtSeEOiZTBRMJ//fEAFzHEzHWevABvICWcRxzNCmi93TMiq0TCpj54ZFf2\n",
       "t8aNe3bAbomGqCvo+YEAAAAmAZ8MakX/CUsybd4h89y5nQ0oGmABCEFuTPtBCKc9Z2m3FAMAFxEA\n",
       "AAAgQZsQSeEPJlMCEf/94QAkpZVyD5owydlG/cMSU8TKGLAAAAApQZ8uRRE8XwlLMm3eIfPcuZ0I\n",
       "sHRQAeaT8RknOoSAN5rjcYyhK2vAM+AAAAAdAZ9PakX/AuityY9YVYAQb9oQHlyIrBx22RrJvS8A\n",
       "AAA6QZtTSahBaJlMCEf//eEAEsf6nIUQAHFlM6Y3FVzH6rPoOMkYGu24CqcK4QNc0kBwng0P8dut\n",
       "VqbpZQAAACJBn3FFESxfCUsybd4h89y5nKaqsUasJHCgWcsgPqRvgOJuAAAAIQGfkmpF/wLorQqD\n",
       "uuADYF/UYveHXbSTFuge2OMgevwcHQAAAEhBm5VJqEFsmUwUTCP//eEAEsitBweoTN6AFSW1hQUb\n",
       "7CRzWi/yeRtypG/dABOxieWSyNMIIR8/1383vJ3cbAumSyT+aqwtHdAAAAApAZ+0akX/CVHP00Mw\n",
       "QC2Z2KM6Vh60ACIEmSd2Ipn7wcmBRNFPWF9Cl4EAAABIQZu3SeEKUmUwUsI//eEAE00DfNADlDjb\n",
       "+sTa29jr54jACdNk0NnZmydUgO8rRItn3vdr4PJwq9rDePrQjnRIIiKhzdXp+Fp1AAAAKgGf1mpF\n",
       "/wlLMm3eIfPcuZyoClgVQAQSGX4KdxTAnwLIEil/lVOtDnMpuAAAADZBm9lJ4Q6JlMFEwj/94QAT\n",
       "Usq4sQVq5OAO889gBuuoTWc/lZ0iOkNO87WDLQbk40x1zr+0a4EAAAArAZ/4akX/CUsybd4h89y5\n",
       "nKfIYfcDfJcADUSXVrYa7NgN03lZq1yCEQDpgAAAAD1Bm/tJ4Q8mUwU8J//98QAGISwCHTgBGBKJ\n",
       "PBgaIvpIQKF+PntEqhWUcq8E6yNgjUXD2CjiS4QXOqHrII2BAAAAJQGeGmpF/wlLMm3eIfPcuZyI\n",
       "YDlG5faUAEM+64QB4IfWgaYQCbkAAAAxQZodSeEPJlMFPCf//fEABkSSpqrqfED4QAsE5talrxLu\n",
       "AQAVH9hqAlrIBPZRgFeRMAAAACkBnjxqRf8JSzJt3iHz3LmciUZ3RQAfcOmdq8r4VdznR6iFUTm3\n",
       "UFyEnAAAAExBmiFJ4Q8mUwIT//3xAAM2p64ARqN3AltszYSZKCqmFc3k1G6YVU8i3db6koBZcXLr\n",
       "XlbxVFPv1K5ew2TGIe6Pq8maM9YbXx++sEbBAAAAMUGeX0URPG8HXVxyv1ney4cs13uEXZTJyRfy\n",
       "EzoAQZnPh039Gi9QHJs72o0iFD/q0VsAAAAeAZ5+dEX/AupO3jPYkeQCFACEb9AIFykD//klfcd1\n",
       "AAAAIgGeYGpF/wLorNof5dKMAEBJrmgLcjoqTcj79KdgrsDuRdwAAAB9QZplSahBaJlMCEf//eEA\n",
       "Ryi4BcoARgOOjrBwI1j59Q4FNCWqiw0KFlzGxbiVThLN4fJ9W1axSH3Wkmdj2tUaUxQiaE/dWYFj\n",
       "acMtUom38jT/ev2xv/6WWdXKoBvVG2mo4ddJQp/Yw8xfWhbfjKS1zriG8i1R736H7AX+GpEAAAAu\n",
       "QZ6DRREsbwddXHK/Wd7Lieh5GhQLgyBZr2ddIAEr4wEGya3q+TQrrAJu0NwBNwAAABwBnqJ0Rf8C\n",
       "6k7epQBJB0AJgAwmFgpQ5h24r4u5AAAAFgGepGpF/wPOHyUZc5Qr4MbutfYB4b0AAABJQZqmSahB\n",
       "bJlMCEf//eEB+7qr3VeAfmxAHQHN7O6zu8G4DEWLH2OOG47+jvdkAOxVXRDZ4F499aBxZgrdkJ8B\n",
       "N7eFwRy0AwYf4AAAADBBmshJ4QpSZTBRUsI//eEARzBJC09TNxzQAcAUjFdiohc01ujOGHEfeluy\n",
       "TYi4RcAAAAAfAZ7nakX/CLsybd5RJ82mlEIGAAiBROD1mTxKJwBbQQAAADxBmutJ4Q6JlMCEf/3h\n",
       "ACTInBskAOCp3KrUHBy/q69VKdv/ZTwNontORs2zJnP84YXwfZyGlqXwj/2K0XAAAAAoQZ8JRRU8\n",
       "Xwi7Mm3eUR5GAFcEWtoAE7bXcMX/dZ90NdVx6llXCcBiwAAAACMBnypqRf8C6K24cRwAIZ+2R7CK\n",
       "NSRO5pDyIqC1VpxDPAsgYQAAAChBmy1JqEFomUwU8I/94QAkpZWlgAN0hhnhz/Cazjm+BUEhwd5K\n",
       "yRFxAAAAJAGfTGpF/wjBz9NDWBrn2IPGuQAe8upk9tr2oKVR+IpKu/+BCwAAAEBBm09J4QpSZTBS\n",
       "wj/94QAl3RNsbabnjzugwAdAZGAitWt+Q7GS/pPTXn7xYKjJ2ZUscIzC03e1HGVCMWCA8JSAAAAA\n",
       "HAGfbmpF/wi7Mm3eUR5F1Kr/KZ8zAuRxt1gAW0AAAAA0QZtxSeEOiZTBRMI//eEAEshFO/YKAADh\n",
       "1kqRNmmDHtDSmptu2R/p71g9KeXa5BW/t7JBjQAAACcBn5BqRf8IuzJt3lEeRdUM830ACHkAEZ1x\n",
       "fjGB5rfy/DpfcKt4ELAAAABDQZuTSeEPJlMFPCP//eEAEsjVzJM0l/oX0AN0qKbKKRgXMJ4JrQEL\n",
       "yyuocyUe302g8iaDybYvSIvtLSt++nJIHCKhQQAAACUBn7JqRf8IuzJt3lEeRdTruOHPQAEM/aDn\n",
       "fL/IYweilkmfhkQNAAAAUEGbtUnhDyZTBTwj//3hABNSyq4Q2SAFw92D05GuwXqZtjHYEje3R0PK\n",
       "hPwJ9ngyAC3d3PwD+9aU7PeV+7VogzNj5cQLZc58KPrcZHqxeEXAAAAAJgGf1GpF/wi7Mm3eUR5F\n",
       "1c7jClzkQABs2qJiCl925+qwLWiHa8FtAAAAQkGb1knhDyZTAhH//eEBldG73VjdjuKtkqDg2gAX\n",
       "F0SaGouUjx02Anq0whVK5SLygp6fdJFqkbx4ONSCKvPZNB9DuwAAAD1Bm/hJ4Q8mUwURPCP//eEA\n",
       "Ca5Oy9cdACJjK7PPs+C7P4IB0T8jo7qdIB+rHkFrrgcwgbMz+TfuhNQTjCbgAAAAJQGeF2pF/wg0\n",
       "8WJePfHZMzeAAQ8JmXbCFj+hen5TnzlHhZM+MCEAAACQQZocSeEPJlMCP//8hAET46IA2+0lqzfQ\n",
       "nOc5Kjk32H8t966aH+iIVnAs8El9SxH31USsJPAKLNLnqztX2ljSLwugR7n5oxYMMQHXADazvW9G\n",
       "ttc0Q5UrIk8sS0CG2c3Py5RBQV4lj+8N4S1sVwxmSvgjJTlPbBffPXCgHx4LZMWJ3yVVvJVgDrn/\n",
       "0yMZW7NeAAAAH0GeOkURPG8Gi/ASe7xSvY1rQS7v+h9QJmJvmpO/b5cAAAAlAZ5ZdEX/AupO6x+H\n",
       "qjmACDv4j8wFMFBV6Tbc16YcCZpvCaRFBQAAACIBnltqRf8Dzh59pAAQLVIig4mOAnEw49HeIpiM\n",
       "mJiRs4saAAAAUEGaXUmoQWiZTAj//IQBE7N3aV4AKOAr7J2XtTpfuivsAaUSM0hq99893vVSEgOY\n",
       "G8Tm7UxVE9KogRy4XR94K1KSp27ljX82oP8xoQ7pYw0gAAAALEGafknhClJlMCP//IQAih0qDESj\n",
       "AA2Wii0B37+HUoQvyMN5CjQl0G6fvSyBAAAAM0Gan0nhDomUwI///IQAirdS4AVag1olRWZpZsm+\n",
       "ybiSLuifCtRqKwl4p+CZrgZ1H1pEQAAAADZBmqBJ4Q8mUwIR//3hACOPuqCzKQAb4P/Ku9twFyvP\n",
       "wj8mmI8VJLzWvLzE4Z7WJBOn9lHJjWEAAABKQZrBSeEPJlMCEf/94QAkzKqlPoAncC148He+0LgJ\n",
       "1tTUgBHpmdDxXt4qVfh/21MP80iaN+XAAS5ZdkHXmbGvg+rxJUeyxMDIHMAAAAA1QZrjSeEPJlMF\n",
       "ETwj//3hACSaBR7j/mJIAfHmoWQ121ZfVOVPRk/sDZMtZXxqzPor6oss/3EAAAAjAZ8CakX/CDTx\n",
       "Yl4+PIm3gBMftYZd59gq9x0kbOQbMT8bABEAAAA8QZsFSeEPJlMFPCP//eEAEkfkKXIMWKFQBVn7\n",
       "YIb9jF5pYjmToQiQqCXnGede51igqS3nVJQWuPr2bc/BAAAAFwGfJGpF/wg08WJePf+jBxa5YpFV\n",
       "juZ7AAAAREGbJknhDyZTAhH//eEBS9bIizZFcx7AAS1ZBJmQFZYkb+uHAzyt0nyIesKxUvoWBhbp\n",
       "/QHPJD2qCdcf9lLRQljux+m2AAAANUGbSEnhDyZTBRE8I//94QAS2iftOACqchdDHyvymCgASID/\n",
       "2Q6Eem2wCIudii0CwVZYLGStAAAAIAGfZ2pF/wLorQqDdaAEKAqBD9pmnghQzcPs5SyY0ItxAAAA\n",
       "PUGbaknhDyZTBTwj//3hABLcEOtbtQAoAKaq8duadALeypVtcENEIF/RcrekXIw2PmZXw/x/zv7S\n",
       "9wfb9OAAAAAhAZ+JakX/AuitCgnTugBBtMPo0D32c19g8iuPGvgWXAmzAAAARUGbjEnhDyZTBTwj\n",
       "//3hABNvdRfI8vIAIPCQqp+zkNnCjXGT7FzNiTqtzxZZGGM1ia32Ehe/zWkecvyzd6KOIW/JXcyQ\n",
       "4QAAACoBn6tqRf8C6K0LjawI2AEAGxCh71rsO4rQl59n5FVl6N20ifMxc7ssRtEAAABCQZuuSeEP\n",
       "JlMFPCP//eEACaP62l6XwBW+79RKea9A2OEn8SfuDWrBw2v440L9o5bnoRHNjXimxD2w16xuUJ7T\n",
       "biUpAAAAHgGfzWpF/wLorOoFNgR4AAh3Ey9D4uUMZ+EaLdgFgAAAADhBm9BJ4Q8mUwU8I//94QAJ\n",
       "6zpz5/QAsPdy1jv9LoxBrTUHOZKKa/acoOzGU5MxiBrwDXCHZurikAAAACMBn+9qRf8C6KzrP6HK\n",
       "IgA1NmddPMrQ4wRrCjUiIjyBD1RliwAAAEtBm/JJ4Q8mUwU8I//94QAJ6wFRSKsAUAYHm5E3uqec\n",
       "nyyZExrWk6K8rbHdGwqbkL/8ZNAWENF3M12gF77DW5PX/5bQdKNik7UWuigAAAAmAZ4RakX/Auis\n",
       "6ys7jsuYAQZ1B7Zl+CA9xJrHktN4EN314M2BGUAAAAA7QZoVSeEPJlMCEf/94QAE9yr98MAPlvCk\n",
       "n4A4VAq2cMi8EjYMVdWjmeTx1JbkL7iaGtLqFwLei/xPchEAAAAjQZ4zRRE8XwLorNlYif2UYv5+\n",
       "ACGfoEHLwkcvtwoSTRHSRdwAAAAnAZ5UakX/Auis2VnUEqD89AB/3xD7sJWSudrTnNJso+CKyn4h\n",
       "venBAAAAWkGaV0moQWiZTBTwj/3hAAUdG2aSvAESClZobpbDSlsFiJByS9D/VJO6OQuLj8XMoDWJ\n",
       "KRiHU1zUrTuuCK678GkmBFEeFNspOzeLe1r1+HIvrhv3snh7/pKVeQAAACcBnnZqRf8C6KzaBfbI\n",
       "eYAFztJfjGzLChq4/KCj0yXS1w3TmDIcUtgAAAA6QZp4SeEKUmUwIR/94QAFHiXADIiAWdGzBoSb\n",
       "x6FO9xchj7PuzPoWiDrLWB3rPgjmfWWYuDQZWreJcQAAAE9BmplJ4Q6JlMCE//3xAAM4BHU/4Chf\n",
       "Z7RXsbpoI7ho98909mTZ0OONldj3GITkl97HHHkHTCPtV43Fl10yl0IPdX4YK1x2dUC79715+fce\n",
       "AAAASEGavEnhDyZTAhP//fEAA0/preavwGQjsqIQA6AuCF/ajrlE+SF9eFI+C0Wsa+2AfctJAtE/\n",
       "u2bNH0r18QGMgRJasqXBt8q0wQAAABxBntpFETxfAuis2p/U1GdNK2b7v5bkMnLn76FNAAAAIwGe\n",
       "+2pF/wLorNqVnUdqAlQAfFDp+MRjJ4PnQe2s+L6yvfXwAAAASkGa4EmoQWiZTAhP//3xAAGkz3FU\n",
       "ld517t7wAQh0gyTibfOs85Ih2MVWHE/BznQwOm8DOgJpod0fKRVs49WG8/JPCUkDrq9WbKIMAAAA\n",
       "LkGfHkURLG8CR0J3e0Ay+6A0BtXAA6wpp6mCDS5wSM4HfdepvslhpOY6Pm0OOXUAAAAlAZ89dEX/\n",
       "AupO2EBU9nSqgqQAIANnp7rC1L7q7cliInWfbOkC+AAAACcBnz9qRf8C6KzMyXcpRAAh5Bmkovse\n",
       "Xjkaxki3Tsjt/8fle4TBVJkAAABIQZsjSahBbJlMCEf//eEAAVmH1rTp9qGuuy0ABwbGkmrwrTQJ\n",
       "QueLiHaseV45mkI9vgOlZR2Vq1ZwUQm1zyndqwJDD8mTAaMkAAAAJkGfQUUVLF8C6KzMyCaMAR6v\n",
       "4r6lINXUNbeCvMW4sHTdKM+pOMn/AAAAJQGfYmpF/wLorMy3IYoSAG4BrGAJUaqMhg/o7aHauhF7\n",
       "DHRVZH8AAABaQZtlSahBbJlMFEwn//3xAABuwfv/wBD3uz2561SEktGNH15co4fsdmykC6meD/2A\n",
       "SolzY8gOB3icMUMAKZBcftLtYc+U23bmd+ZuySpZjSLia1TuaOdqAOgbAAAAJgGfhGpF/wLorMpz\n",
       "9LEdxSY+dAAh5aneQvrP54BXADKhQEXWgNT5AAAARkGbh0nhClJlMFLCf/3xAABuiAZ/wARxk3BF\n",
       "pZt2ATBqMT7ZeUCQau75NByU5dKSxV73PX8Pm60CB0OK07CJROSGWZTIskAAAAAeAZ+makX/Auis\n",
       "ynQTRgA+3qBE6wDYic1weLboxbtgAAAAXEGbq0nhDomUwIR//eEAALD0iuRyfdcAQjvG1snVOa3b\n",
       "MfOQNsvgk146elDzp+BldNI46HEamMPMoNFQkJ5MmRp9f+MbZeDfSs8JhZ0Y/VjfT02GwC4haven\n",
       "18GhAAAAJEGfyUUVPG8CR0JystAMvXi2ECAA52UqA61+ZoVGEvTGOmSN0wAAAB8Bn+h0Rf8C6k7T\n",
       "Qn0CgAD+cCZs0pjgUjhu9hEkDJiAAAAAIQGf6mpF/wLorMlCxSVvMwAQxcW0lOOOlqmbApLU6iUC\n",
       "OwAAAGFBm+5JqEFomUwIR//94QBE9A6IABy/QyC7qDzuwJnvtrSE6xWPsS+pBqKI/KahLmjsa4J4\n",
       "B63crVc2tvwEzNgkEAUTuQBQKGRmDtKJXNEJVK/2HoK3bChd4HP1v4Px2d0xAAAAOkGeDEURLF8D\n",
       "tuKVfzCm0wPw1gAToqozDgbcKJEDTFqKhys1FaEl3JOA+ZeXaQIZACFnM2mv+axJ24EAAAAYAZ4t\n",
       "akX/B1KsSnS8oBvePeDoV2Wvd4SMAAAAVUGaL0moQWyZTAhH//3hAEVjSYQAoAqKKv4audt7O8yX\n",
       "6qp7V0H18br0nKy/ltzZyLU1rMse+RQo9e7gPlIRhY6tROPA4T/n1xjwgldEvWWnL0WgYNgAAABO\n",
       "QZpRSeEKUmUwUVLCP/3hAEd9+4H+iXCgE0fvgr8zTkLp7HENUsEVM4qlVZICAKnFgMpLRq4W7zl1\n",
       "Ovrk+5QZyOuGnQQJCEy77Ck2VnhBAAAAJQGecGpF/wPK9ByoCAiEACGfqWnyj2ocz79lG/aSPzTW\n",
       "nBPrNTAAAAA/QZpzSeEOiZTBRMI//eEAI5BAZGXCoeVa8gArlhDatePRcI1HkTnGiuW3A+2b0NRw\n",
       "N5NbsAPY90VEy8rCY/hAAAAAHgGekmpF/wLorZsVDpdZgAIdv0Akv3bjIAwcPjvbQQAAACxBmpZJ\n",
       "4Q8mUwIR//3hACSaBSL5+H0wACUPrZhayem0UgS5V/z/gnMQs2vs6AAAACVBnrRFETxfAuituDib\n",
       "InFEACZc4YbCQp20httX7HiZbW1WXsXBAAAAIQGe1WpF/wLorbhkEgBMfxk3qe4Zlqj7NqHzEMcl\n",
       "H+qdSQAAAEJBmthJqEFomUwU8I/94QASWigfpABD3MgOx9Yq1eEsDWyFFQF7P31KOMaIBJpVbE2y\n",
       "pxGjpnnANDxtY2O3URtoM4AAAAAZAZ73akX/AuitCIBrgOnY+cMKUgoXM0+UkQAAADdBmvpJ4QpS\n",
       "ZTBSwj/94QASUsse00AHQGsAGGsAYOieMxpkKysdEqESuPUGMh/eBWQH7PccPDzHAAAAJgGfGWpF\n",
       "/wLorQdnEn4u6AEJIooBGgJM4azflfCkrOhU5rWLNR6RAAAAMUGbHEnhDomUwUTCP/3hABLaJuY3\n",
       "gBYptvbaJ8NeN/keJFnYM6ZuUg7FFoGJjjbGObUAAAAXAZ87akX/Auis6EvcKRU6LxVY4B6bJqQA\n",
       "AAA5QZs9SeEPJlMCEf/94QAS0srtFABYI/RYP0JR9CF+YLn42ACBiHFgTNk2CBuRzIL0+K2/J6Cp\n",
       "/VBAAAAAV0GbX0nhDyZTBRE8I//94QAS3LZn+ZFSeABt+iNxOV7ZqQtw7XuNi1+kDNcIsLpclRo8\n",
       "yaOkF5vx3/mYaVFrBz7/CtP6xowBzKzlaf0C74XHHg24iJzN+QAAACkBn35qRf8C6K0KWRAg84E7\n",
       "IS7AAQbZgmNl3U/NiAlRMpM3GzhH70lIGAAAAE5Bm2FJ4Q8mUwU8I//94QATb3VevIJ9HYAi30+j\n",
       "3MxvfwXQaoSQL7jRg6l+uaQIDngo2qrHJvWeoPv3X6hDaHu0Y/Xr/bgCVAv3lR/eU0EAAAAiAZ+A\n",
       "akX/AuitDFi2OuAEKGjD6C42lDgpNfvfsdEKTONDAgAAADNBm4NJ4Q8mUwU8J//98QAGHplWLhAC\n",
       "wR3cXmfWM3mGwsCQIGgBMg+/Nz61euLhprvfnCcAAAAdAZ+iakX/Auis6gNQKAANiEhrRccTXnGX\n",
       "reVWmLkAAAA6QZumSeEPJlMCEf/94QAJ/61qIAg4zlAFsOAEn1KC+tBphbrkyj9V/DRQddf8X1/P\n",
       "6PDieaMHYPhN/wAAACpBn8RFETxfAuis6ys6i2aWj+03vUAHu4VHT8WH6njUOsMoY3a7N215+h8A\n",
       "AAAgAZ/lakX/Auis2aDuuADYfvgzjaL5lK/PG4dEY4+ljegAAAA8QZvoSahBaJlMFPCf/fEAAyG8\n",
       "mOLanb2mACuUqbvKmIb+TyQyxVcYLRdOIZsOEDwEpyivbSKhOtrROm0IAAAAKQGeB2pF/wLorNlZ\n",
       "omR00ABCy9wSFBv2rSyET515IxyQSO93XUXg2CXBAAAASUGaC0nhClJlMCE//fEAAzWaNXy74ArU\n",
       "dtxw120JPcxe3oZfYIjjHPuCheRh61je0fpplMFDzbXJ41C+1ve96FXYrJyxeNSvWSAAAAAjQZ4p\n",
       "RTRMXwLorNof4mLlEdABN/b9264/YFglrgDQ2e/JMCAAAAAsAZ5KakX/Auis2iCaMAJaSL5aq6fE\n",
       "l9EZjkVeyoZaqtMu0CtScm5q5xSlJWEAAABDQZpNSahBaJlMFPCf/fEAAzYsjgCEeV91+9HkMc5U\n",
       "uO3LhAsobZdvXW4VO4Rab05c3KN1KzY0a8htbK8imtgWx7HekQAAACMBnmxqRf8C6KzaAnNDAC1e\n",
       "IJ8+hVRLNFSFGUGmTn2ipVS8gQAAAFpBmnBJ4QpSZTAhP/3xAAM5IqB5vQrqgikAjA47mte96nSJ\n",
       "C35u4PsEYY2RLZwvJ7srSsug9nk1smU5glNiyIvsFAXtLnRPzLQrvQC6mkx8SBBhlfgLmFLbiDgA\n",
       "AAAlQZ6ORTRMXwLorNoWRAlNTdgAIcM9zQFuZSr0k9HuzsK3SZytgAAAACsBnq9qRf8C6KzRS8iQ\n",
       "A3KksEwTT73Ps+TISVeIIvAd6/thOkZEj6Nd/hKxAAAAT0Gas0moQWiZTAhP//3xAADSxceGvADo\n",
       "FX4FnTCoy6BDWt86q/Q4Eb64eW6iz2f/6DJo8ZcDaAjyEx5pzwr2ZCstxpLO3fTUWCIyzYW0u4AA\n",
       "AAAnQZ7RRREsXwLorMygnTugBBvu3uRIieYz1lHMIsWBoKjA9yVRilYIAAAAJQGe8mpF/wLorMym\n",
       "AUAAbPUd+TB5HL5uWVMSDl7atygMHirlHkEAAABkQZr3SahBbJlMCE///fEAAaWVMU7uE4aPErkc\n",
       "Q8X8o+AC2Np+3COQodF0/Akl13cERzYlw+6EI0wBxgixlsw2WYRqXnUkAIBv+/WWu1ydfE/rszPn\n",
       "XEdG2f9bwk5fvnyf6pKqYAAAADZBnxVFFSxvAkdCdFMyfABuucGKeX75HJb167uYrDYKUTdkJ/Jk\n",
       "Ui36Vg50fB3gPuOy1C94kEEAAAAjAZ80dEX/AupO1PWJ5H2QgAiA7dVJUElGNNyseHQCTlIdScEA\n",
       "AAApAZ82akX/AuiszMWEAj7imQQANPJUGVugs0U5zQKKE7GVQjpm3EiYFYAAAABWQZs7SahBbJlM\n",
       "CE///fEAC1s+XaHGf19qgS0b4Cfzjvh2HnSlIeztXGZZFzCNPUL8/kdJgE4hMCAmtEyDB9K7cSC0\n",
       "Dbh6IMtizjd0NwongSa35wkCY9MAAAAjQZ9ZRRUsbwJHQnKzigF8ACZeg5/P+JRfeOGJa7CgVj5P\n",
       "+uAAAAAhAZ94dEX/AupO0zodFAAGnJGdleCCQOoCt4LBINht+SpJAAAAHwGfempF/wLorMpiyIRP\n",
       "0gAhn3hRO7GLUanpz3//zUkAAABZQZt/SahBbJlMCEf//eEARSSAFsIwAcX7N4Sn/nBjP2IcnmRm\n",
       "0Uzb+3NawOXUGnIQYrMBxtSjVg8vK+53VYEwgkRaRN869G4yVykT/E4BOpkRe+V5BGAAN6AAAAAb\n",
       "QZ+dRRUsbwLyf73ROuvUEWmsqWvPMq3+Gw5wAAAADwGfvHRF/wO3g0AK2poIeQAAABwBn75qRf8D\n",
       "qlEQcgARAk2iHHOLhnSn0nj+egtoAAAANUGboUmoQWyZTBRMJ//98QAsW3Gb0ANZ+TQUMJaE80UQ\n",
       "D01CEpI5XQD3SKPTl8SXt1VemA/xAAAAIwGfwGpF/wOxp+iAAbTEhh9j8lVsTdMgwBU42/GVUGMR\n",
       "o26AAAAAUkGbw0nhClJlMFLCf/3xABahxsPpF4AWS+yeAzDdIn9x1ChhoBUwBvoG2wDiaIOlsbyK\n",
       "m0rVWV5sS0YDdbsraRs8vyQAT8thzmMm4oAweE9AbMEAAAAmAZ/iakX/AuitppDWgBBv2g53xvtc\n",
       "Kq7Syih4BAwWma7fFhnHnOEAAAA/QZvnSeEOiZTAhP/98QAXVXmn5c/6gQAcWcvlMgXKRcpwizQh\n",
       "VXS+bwbiqtIzg1hCsMzDs6Q3WaEz4ESA0CphAAAAKUGeBUUVPG8CR0MRNOV/+1YrgAQYoi2f70df\n",
       "mQRMsprBhQAQ7eTTkDy5AAAAJgGeJHRF/wLqT2etQiNhJ4gAQb9ArJ4dxSRa/F2kRT5Ko/wie8uA\n",
       "AAAAHAGeJmpF/wLorbhFU9gAaAXUXRF03EJfc7YLlYAAAAA6QZoqSahBaJlMCEf//eEARSifwygB\n",
       "0Bze1oDWAmSOlQo5saYeT1K87aiiOashpie2I03CCq2q3Jdo4QAAACFBnkhFESxfA6pREMtACagj\n",
       "mgqDnGmA+nFmkhqK1ER+9+UAAAAkAZ5pakX/A7lNEAJmJIV/iUgcuv40vfaq2WKef+zftq8+DiFg\n",
       "AAAAQkGabEmoQWyZTBRMJ//98QAsXsqTsARpsva5oo+mt2eM0q5OUQRaw+rVQspd8QzBYjwSLfLH\n",
       "2Ystjitc61OLyTDJUQAAABgBnotqRf8DtQ0tLlV4g50hnnUpr/jow30AAABAQZqPSeEKUmUwIT/9\n",
       "8QAWwi4ergAbS92P5IQnofiUHXdm8q/NsXsr7JgMWFozOIB9Uc0BDNXuda7wH24P9gDaQQAAACdB\n",
       "nq1FNExfAuitpbnOgBY0yKur6dJIt7zs5GZiTUcChjVW2lYQi4AAAAAjAZ7OakX/AuitmyVcq2gB\n",
       "Ahfd2YO+3RG/NM9SL7AfmV61AFwAAABJQZrSSahBaJlMCEf//eEAJN7XByg/lbgAA2bWLx0UbYud\n",
       "NnnC1vwwrXBNZtFule3/u+zDP2TRrjfcJkoihxuMEmgM9bs4p9LcwQAAACJBnvBFESxfAuituEIR\n",
       "qmACGOq6brk4L3FVRYV/gqqcuLc+AAAAHgGfEWpF/wLorbhFU9gAbKoCLyx6eis5YxvbUkiPgAAA\n",
       "AEtBmxRJqEFsmUwUTCf//fEAC5kOcDEaVwARgVfgHveFX4MwshesP+aj6W056e74t3EL42egpVMl\n",
       "CXLchmabO7ailmdG7uxBaFNhWE0AAAAZAZ8zakX/AuitCH/hypju4i/U2yN4Q8AyQAAAAEJBmzdJ\n",
       "4QpSZTAhP/3xAAv39MJ/wBxPdkZB74TQri0XAW1hbPlViPNj3d3rQC5Y6dJfOMJjw10IG5jtVV8T\n",
       "XmMoKikAAAAmQZ9VRTRMXwLorQdv+iPPwATnrU+8A+YSjGBuCX1jtTQz8srf0gUAAAAkAZ92akX/\n",
       "AuitCpcTFWzEJABssb9n0CEuBWkXgvdG1XAJC1eBAAAAW0GbekmoQWiZTAhH//3hABLZALbjv+bA\n",
       "Eu33BduPdpkgukzTot7dOHTVHUp16EMXeJSx07zFYErdhPjkpV3KrDza+p3PdbhvPTDOPhOFWd2l\n",
       "xy9HUN38Hk7THz8AAAAkQZ+YRREsXwLorQqCaMAH4FsPgZdtQ8tGxovGWvkvHBOFxSAQAAAAHQGf\n",
       "uWpF/wLorQxV4W4QATkZ7mj5x9Z7rbNhxm33AAAAR0GbvEmoQWyZTBRMJ//98QAF85hDux1ya+AF\n",
       "gnR5kiRx/G3JDU30/ku1mIhhWcjb7eW3XScMVVBtO/Ej4ssmXDNHyoRhrU5PAAAAIwGf22pF/wLo\n",
       "rOixFMgFeH0gBChoV9BQckrgnUqdl81Crrf8AAAAS0Gb30nhClJlMCE//fEABiAWZltNWeAK3xIt\n",
       "EYaGs4liozU0LHI2ypVe1oTPfS62goit/xnA+sq1KCQbfz7s9yGc0RgbXnKXhglMXQAAACRBn/1F\n",
       "NExfAuis6kG60AJqTbD+jDw2nH0OtRjU2XESHWuIPakAAAAcAZ4eakX/Auis6gNMiQAgBcjKj+qp\n",
       "vuSQ82zdtwAAAENBmgJJqEFomUwIR//94QAJ/61dt6AGAIPJlurvHHld9nxbeuLad+b5JI1UYLm4\n",
       "MsAOaKpTK98pI7NVvGjByj/s1W9BAAAAJEGeIEURLF8C6KzrKztwY/AUyAAQXvmFh+KYJsrGyaql\n",
       "wv0cgAAAACEBnkFqRf8C6KzrLFZ1KfWAAH7S39aH5KHAaB/YuBw+DoMAAABAQZpESahBbJlMFEwn\n",
       "//3xAAMklf+jwAbwdlUYiM9I+gs3opiOWH/G4IHAV2+onUqBdyFzgcV/Prb4OR/R3/ts2QAAACQB\n",
       "nmNqRf8C6KzZf9KGADUt0JNiTCeYNLbahYEuvTEwQ8kmxH0AAABQQZpnSeEKUmUwIR/94QAFGjy8\n",
       "AVvvD5UivKVm4+2c97iqvxpm8x0k1xSawumK3W9VfZBvne3SCbl9CFqVKYOdVSXaCirZTgAl6EJd\n",
       "nnmVxeEAAAAlQZ6FRTRMXwLorNof5b5gAnRSxcjXg0Z9GKQF7KQrqmTpbmI+ygAAACQBnqZqRf8C\n",
       "6KzaH9Sr4DgAIWFwPTrji7oSFxYnql6JGTJ+NlAAAABHQZqpSahBaJlMFPCf/fEAAzhBXQeACOJC\n",
       "ujkpaaZ+Gdv0cGzFqH9eP2rGw5aEuogAM0JyElKN8Hms7ODAZqioG3TfIgJwrS0AAAAfAZ7IakX/\n",
       "Auis2gX3Q4WEHbMAITXo/DqxscNz9erkTAAAAFBBmsxJ4QpSZTAhH/3hAAUbKvVSBU9QQCvPF04n\n",
       "omtZzdE/gGHp7NHuHeoG79Y6+JwF3747Xd1niKg6EfssP7S49GK1qv4UGhrbtOshkGCt6AAAACpB\n",
       "nupFNExfAuis2pWduCg9GAc46ACHkJR/sl8Bk2A6Su0tiUgnYiJIwsEAAAAhAZ8LakX/Auis0U/y\n",
       "3zABDhnuZ//j81q1oCoKlHL5/ZhZAAAAO0GbDkmoQWiZTBTwn/3xAAGn9N16v/0eAEVzhKWYWdAq\n",
       "7AeeDEd5iFBn/dgVJQCfQn0TzaY1/eUh0MWxAAAAKAGfLWpF/wLorNFLDbge0ACDMePQAPh6e1+c\n",
       "5X0gAF1Fqhc1kGZiky4AAABQQZsxSeEKUmUwIT/98QAA0mj7Tx0vAFAJvVGiP8FTqdZdh9c3/3aM\n",
       "dPWLzvqMOoNm1NgJN8VqkRMiSStn9uU0j2GYwryp/ENr9sUAvJtuxIAAAAAqQZ9PRTRMXwLorMyX\n",
       "Lz2QAB/NvVsfApBp62CtRjkHIkAMWIK0C/iHwUanAAAAHQGfcGpF/wLorMpQT4L4AIfTCadbs0Pd\n",
       "8pvCRL35AAAAT0GbdEmoQWiZTAhP//3xAADY6m4Eb4Sct+smXps29R6f4NSERQJawepDuTI6D06E\n",
       "42PANamevJxyAvkBsGvqpPbMW6uAY0MBa+bLY2IEBjgAAAAlQZ+SRREsXwLorMzFZ27ICABB0fFw\n",
       "hgNytsjU4ko7gd3PZZMvewAAACQBn7NqRf8C6KzRSxxiPhBDIgAhyKAaJdTUdD088aauy5PZFJAA\n",
       "AABMQZu2SahBbJlMFEwn//3xAABuVKfAG/y9zFmDradbJRYjpa8L03pL3jAxAsoIUudq5tZQRBYK\n",
       "ufGCKMy9eOCY/joDAcP/dTxLg5YlQwAAACIBn9VqRf8C6KzKYLCLd0Rv/tgA4AtF7rpjKPN4tu9p\n",
       "LfBBAAAAW0Gb2UnhClJlMCE//fEAAG5i4zegFMAqsFGffIjigle8fJn8bWFLG6tJWiQhKqiMhTB8\n",
       "6Uwqm6BWSa/vZmRzyqmfTjd18jZn93XZymPWyWEDObBWAdQhH15OrSoAAAAjQZ/3RTRMXwLorMp0\n",
       "E0YAS0C13CWihkLxP/vG05Xz6rFR/0kAAAAhAZ4YakX/AuisynBSE0wAJyDX6lRay6QABlRdWI8A\n",
       "PPs8AAAAQ0GaHUmoQWiZTAhP//3xAAA4umgLGih8qjf+uzLs/I+s0AGEwYjCWZOJAjJ/vjXarCTs\n",
       "cFoANCZLuznGXHWFJDvVJ8EAAAAnQZ47RREsbwJHQnHewidHJ0sAA2Hl/QEJX3pd6n31PgT7NBlp\n",
       "lT5BAAAAIAGeWnRF/wLqTtJfSCpZe++ACHicA9OJC5+MxLgwye9AAAAALgGeXGpF/wLorMlCIxIA\n",
       "iOoxJGOuXiB3hSBdk+3rY3whAgRHpoEuqjdOCPjGj/IAAABnQZpBSahBbJlMCEf//eEAROAXbvyQ\n",
       "AoAwi6U9KixTMO5MKDDRgqjeF2RhUbX8VjG+s+Q2saz6fygnxx9x5riJPeSF59n3/uIROccRSAgX\n",
       "9ssQl+o2isPjDAt8bvnDrzaooK1TM4j4cQAAABtBnn9FFSxvAvWMViiYRyzutyMinI75rAS4+VAA\n",
       "AAAoAZ6edEX/AupO0fbwBcTABEABBypapsLZrwd/La0GTWyqpGxzSBXtrQAAACEBnoBqRf8DtqYR\n",
       "LwAEPIqjb23PFEjUIpx4btRcTfwAZUAAAAAsQZqDSahBbJlMFEwj//3hAET0CkZSbZNwAJPJCAOz\n",
       "bdFEYkMDEt3tZl9iA2sAAAAaAZ6iakX/A7KsnKBRX3PyBd7rR+x1P2jZKqEAAAAuQZqlSeEKUmUw\n",
       "UsI//eEAIsicTRtAB3d8duNsd4g2J2Tava1U55JOarihD3vRMwAAABoBnsRqRf8C6K2LN1i+MnR/\n",
       "6hDh234oVPgR8QAAAENBmsdJ4Q6JlMFEwj/94QAjyJwvgABwYvm98ttMyxwAUCYbYvgsmdjBLe/W\n",
       "11QzZ2XaQFKcDUyP/jh95pCxcUMve6H+AAAAJAGe5mpF/wLoraW5HAAhnrJAYXdxZGzQnlbhcB0N\n",
       "604hngWQsAAAAC1BmuhJ4Q8mUwIR//3hACOQC0YhZAD6z+VCulJ0Kq3n5l0MrGOjaAGUHzMBAakA\n",
       "AAAuQZsKSeEPJlMFETwj//3hACPPC3q+frYlgAaqEn1ChnweyXsdn3zWD7pFsh8RcAAAACEBnylq\n",
       "Rf8C6K2kVKAANnmFH+yYOqRg1mRdLrjCIL6UoIAAAABFQZssSeEPJlMFPCP//eEAEkkmqfxAABcX\n",
       "PY3ltR8/2X/8qHFTllrGG2eVuZ4EBE9y+7xzhsjv4AGbD4FGtZ2T1IP1yWVvAAAAGAGfS2pF/wLo\n",
       "rQh/4ZTv/BM50YYRzKSGSQAAADRBm01J4Q8mUwIT//3xAAuZk2Q2x4C2AAEpgr/T+mMv6OAGuQ3b\n",
       "2OkA7HD/LTsC2TvcrxKxAAAAL0Gbb0nhDyZTBRE8J//98QALn7KsHcAQitAhNg0BJ/WqHY/qXyug\n",
       "KHVgJLeycMuAAAAAEQGfjmpF/wLorOg8zex9y8lYAAAATUGbk0nhDyZTAhP//fEAC+kligAOgSBb\n",
       "9QK0/4V7JxYwkBY7b3El3IqtpzWN8+LVyD1+c+rVqcnCzWQ0P7jaRw1AhBqKR8LyWfecAM+BAAAA\n",
       "KUGfsUURPG8CR0Kf5k+ACaE0NJZ1itfqgCr94l8Wia6bmSoTGHVWjFbAAAAAIwGf0HRF/wLqTwJ3\n",
       "vBiABB+skfpibgP12zuqRcxdj2siY0m4AAAAKQGf0mpF/wLorQpYP8ZCJiIAICaRIr2dYFfvA2aM\n",
       "fymZFoN+1hg4dyGVAAAAVUGb10moQWiZTAhH//3hAAmkIrPw/yngVpQBOG0YGFxN8JikVTunUYTS\n",
       "9BAGNvy5oh2igj3vkG76G4Z8zKZ2+aRwAEcmlhTJzR63JPvmS0nTdrqJIcsAAAAwQZ/1RREsbwJH\n",
       "QokZnOgAvnLoH3hQ1TljXVQHblcxZJCf9yfMxTYsA6ZvFGpGiFlBAAAAHwGeFHRF/wLqTuqrwDrB\n",
       "P5wAhPcW6IyZCKlP1DdxSLkAAAAlAZ4WakX/Auis6gvuK1LzgARAkbebG0VjDYMH3wstRTds09dS\n",
       "LgAAAItBmhlJqEFsmUwUTCP//eEAQvQPMxgE0lM7Uo3suAOjqtS+mFtBbuJnffR25ZysMmXwSar0\n",
       "FD4oz1VfAnz4NuUe82gQmsMMGZvMgO6UpWAgPFl/+4m/NWek5Ab7Rj7JDKo1nOr1ZFF4GT86PniX\n",
       "+hDfcercgkQo9Sq1cVLx+RLyYDgrZKqgz1xLAf4HAAAAIQGeOGpF/wOgd7QUABA1vaGQSewCjPiK\n",
       "Mbc73YnN70UAEAAAFqtliIQAK//+9nN8CmtHM5UuBXb3ZqPl0JLl+xBg+tAAAAMAAarTsgylJqxH\n",
       "fQAAPI+ST4z/QYAKLliq5LVlR11tWxZ6s9rT4aJTTodXTtCmVm+OD98SITvPq7lgP+3c6v9f58OO\n",
       "PoBAXhV7lCsK8HcoZ3k8Sr9A9G92jHECk1vus9ubiMUQvbKU2LxUflamNuk2th/++SQUwEKKyuoP\n",
       "GR2fSMXre+RgRtswHDiPeaBwLMTIFS/gTK27t2M9BLCTSkTwzvEcm8++sW9T8/XoqS4j8/MGpZAx\n",
       "TXlLXLUPXD8pdg1u1Bclho+DPY5pHDGK9x+m8AiBPY/pDShWTha7r/psBlkySTY0sHVT3sXwdvqX\n",
       "7RCuRHlwkomvmzpslrL2ly6l9uFcEZ2BlmZec/iJ+1lFe+9/qHOuxA8a4ZHVPYYBtLKhR7aneXy2\n",
       "En4TfmOHRqYni16tL4rBQ3te/MC+y8dsS51Y27e49now8Y64S5zQW44Yx8YD2XwiwjoPV4JKd4TT\n",
       "0e2VL1rKu/m1f0dQ+sN4fUnxmAZb3BckKrRDr2s+TGLgaiB37AEGMynoN+rM95125Tg5Tq/RTq2N\n",
       "iB1xpuTByYeQjkIKSZrypK8MRHEotpDgeBEAAzAbeuPOvEoH1QVLYUGIaaDKAjX+ke3KtSwLyPFo\n",
       "rfACRyQTuKoZ+/s8KpUJvIc3kL9sIeToAWUxzbdaVAD7DANNSoX1f9nbOWQ/5ukFB0LiRu4v8qEn\n",
       "BermM4OaWx7ky8r4NCGp9OHNk7KnpzXTzf2RdUVIFqHCh28gquI7K6pwYULoTvEvLX4kwAQ5JYZG\n",
       "wrVzaMpEXICLUPTlnQUS7yKia6VkoHdEz5gF5/nej5MkwdgXKN5zfZ3Y6xs8Os7C7ZfkRHD4easN\n",
       "nSCZhE6zIffcANxiApPINiQzzUbtDb6nGJUEM5HP/CLcWn8+73S/iw9NKXqTHJ23KCTRrWLKJdS+\n",
       "3NREgyWP7iQC6Nkk4SE+IFXQ2E0GCR5MRSo5Rcvtpuus9mHsmCtX3DJg8Uv+7WXbdwGr4n9pelvq\n",
       "osUHHnlSqNGREkPe3FHhmMMKieiTmVrfBWCM41XDbs+V16VRkV6yg2hFVVynw+ha8R05Ptr8nMkN\n",
       "WUOOc3rQeNb5MmlJ2OqKa3Itbzryu5O8RMlbgk2djWowFnU38F2+rL1+mkEUQ62DgjDawI2+CMP/\n",
       "FB2fiTRnct1C7uNBbRKTgvbJAkkFtDsE66mHo9/lmkWl9FS1hCBp49RRVBvVCNwaZXdyU1gN+gio\n",
       "+t/3FSMEE0oAXkJ2TOB/dUokqkPLolpy4SIuW4TfGavScxtn/tckfJV0STiUzwLTIQ3pLYZcN7x0\n",
       "hmi5NeyRXw7v/Ug1NaxRm86I25nX5NGS9EOyIFvKYZcEpI1a8Rd9SDZscwN+tlBZrgZ9f3/8RQJQ\n",
       "jRPr5kghXAK7gmawS6BUAph2kY6T5J1iS3vr5YuWXh9uT5XRUjK3ilSQ9S0inKNnspEkYYrANuZR\n",
       "Nj9nn4RbOtCQtpyG5URFPdxxA796g4zcG1Uim/mXlV/z1fW9g0HvsLQS1y4ujd8lvu8ksi9hyOND\n",
       "//fK+EyZxYGmyV4fCTVmWqnu8O2lhsYEphKj0bzwBAB8N/o5fSA0gmVUowP/qiOaR2+4OuEaPjW/\n",
       "rqnBUW9/KEkTmpFrrRh6hcQGt5Iezzu/RWbpwNPo20Y3tx/qfwNC24kOWX+A3vSOch/4Qrda3626\n",
       "1/qQtrGRWRZeKzkeu9NS5MJgBH/TMFaPa7xO525ombnRLAWY/U8/36GP4OINYsLYfRzII/02Uu6T\n",
       "0WeMgtfoIIwx4PIKE7iGMnH36gO7VikkdV2kxM1GCMoJIjcuM/5D4FjWPSNr4YFNEdyoAvd5KJ0O\n",
       "53eb3zQCgq6onZqFsL5huHnX7asG1/CNXVZ0vhC5zxY7siITbsoEjLATruELMACSBa28UE/K41No\n",
       "+sz8hsh3VW/JAnNOx85djzfglpqHgxk6ieCsxNAxi4tkHrAGpj2ZtcOwoV5gZa9WtxEQ8BrEfsw8\n",
       "gOjePo0M1XTABmwkNFD8Wbeor35ECiUtYceY/9aVDjZZn+vPuOPcBCPbqdcFbtRy8RJd18HUIAUE\n",
       "28769qXGFjNNQfo0alKNG82YG/z4uz6BuWDmjHvaJ4lYLMDQUdMtVYdr4R6R0nZQ5MP7JWW5dYcb\n",
       "cggzU8X/cThBOceZNSbTcdW9lIRSOec1TDLG+DiWtS6j6DThmE7aUTY3PkX5p++YR/APAtOM/zS9\n",
       "GMs6hFw9Ch3TQe8v7cwhvL4z7fiF2m53UPMPWTiGV/7yLwD9iZkWBzT18XGY+E4S4yoIM8aICQW1\n",
       "HCvowXfrODfECfb2eDHShl15fVjFZFGRfVqiql996ESvZwPfA4tFNtYHdkJtw0HLdJSFi3Vb9UvH\n",
       "RbynY/4lqY2JUeuYAEfFDMMsJDywz/DyDEACAVjhmegPLTdHarTqvbaVl5dFI83ppfx3BnUfVoM4\n",
       "YIJhrffXt2paWipxpcZ8BVPu3hLbm9C2ELGU1e2BIy2dAAIrdbktifQlAF7fwZgi9bJC7Bpxwrjw\n",
       "vz7QQviqLHmqTpqs5CWjdfTeFgdWU5uc9BYQOEV3Ar6OtkCsLYkQwOKen+pOl9CPCXPfDl7fcAsP\n",
       "ClTzQS1vrAWsXllTgUTnGTxLVPhgIxpI+Xx9FPbTAzD+Bi+okpAtCh/3oweTB3Y5qghFmgCUBH6F\n",
       "UoVJLadiSFryk7y7KjF/XD8FblVidpiugzN1XaBo8fQofBB2KsH7kCPYf7+e56T9IUqlQX/VGpAw\n",
       "s33YNFRvMwylNxen8L1W0PlQWBj3R85r23F6V8VIrMR1Yg+ZooXNpsnp3QKyXJj0xibgSN8D/Xzc\n",
       "IAseCXay79zMPrR+fhLsiB4xHLq3bUBj2wMjAZ3r/16myqP++cwP0xwf3leSZNIh+BIM9Tj06gqe\n",
       "Tab7QI0wTJEwvb3JfSQDo2MBhbzS7XvU9rW8IegzBxTvbKEzd/2dt5OV/7HkoBt1AdW21XZ0LZ6C\n",
       "h2W0PoZsNHVxW8IgbLl8dfimPeod8/i2nGGLDeRvLKjTM2TmuiN7xzxsxmH+E46sHjd4+MwDJvEp\n",
       "mpAVs/zml6fFjPU7cTl5n6TyEM9LnJV2F+ILF8ryI0UH8P22Mg3NNG/ufz2qRXNQBPV0AXJ52Jmh\n",
       "rS43b8Cg1IJ8KWVvdEqE+mbvE1Kdv27J52nNwl5yi4H6EvF5eMqd/ze4C2WjMg/IPmRR+a4FaBO+\n",
       "CPKyAXULFw7nAr5rKKoqhedHQ5INSitb6k834Pw+2ywAflQ73olDwoVr3E6ebYNqegs1OqJOwJT/\n",
       "fL0GGoCr8FOUsqcRJxDimlLo/7KTdPqlpMm6W9CIUrTnIBjqfm5DUVh34QGINYKphDMZ+RlmO35a\n",
       "mim1LXe85Fqd2bONCiXqOZO3GJTUYxt09OiZO9Sk8wnzBea2p2122HYNPrdPwMLJw8+aEraeJq7G\n",
       "B3NZ2ZOzYSsIjkgNM0t0J0kK6RNl0kKH53R8kuK/n0yH1CE2zWq27S/i4CsppI4DISVlzs+qAB9M\n",
       "JI+Z7P0bwWWcf034BdQWm2pme8/qbZs2BalRPVZF47t7b8dOffbNI30hRKUb1Xhu/h2MRfsMCXzH\n",
       "oTlThA9KpTUa6efkiy34mwrop/pcgUsZFmUQa3UsZCRLVnBiuvmc0mzlbzouc//xMlQAmpXnP6SG\n",
       "N8bhN3aQCK//K6hZCjzoP3DhbNpwM6IKbvSegg6sBVlS4SbD/pfUEOzGyQjuzPeD/sARjuspDKqR\n",
       "1Rh3PvZmaWKMOCBoHslvwMJnDjgUGJcMaXcf7dTIbW0Z9tsnqLHi4ZvnM8/qTCZXIhsbqbWHEGHf\n",
       "tvtDSJOQHB98J3fWg3mLsJvKVhZHWr2ZP4YZ7AvjeM1xyz1xfNtRJAO68Min6+mq17Td6O6kZMoT\n",
       "7bbqHHQqcvCPo5ow29vfpNd17C5QRUw/Rcm02WwLKg4E4YhOfHureXmYzPfTaFy0SqzPyqPe+/7s\n",
       "PREGLjO7FRA2IvEQlF/Ye4ycXMEQf61bGdJoX+Q/mfE90pE8aVmQ148WUaKQRcUUOb4EOOWJjso0\n",
       "U9h78w11cjI3wqEDWSO6vTfs1KypPD78CYxZg0C222whvLeEBH+5q8zPOreGF7zD1vCg+llMerYj\n",
       "iVglpU95JYVj+t3zMcc4/QQHVIC8/nbWzi/Pb/DmnIa7DRlVoJseZmTm/vVqM/Wpx6h4ob0awf0s\n",
       "SrfNyty4QgsNwK/r+sVN6XhvjwmUMTjNp8EdnQR6OA9KGRWb0ktCx/1CYCcymXr3oAlgGTHGFn9G\n",
       "KsrXqkJSiiuJPJus1U58Nj8fRUuiAymi8w+PtFv1VtCKm0rJe9113a+BXF+a5gCcyj/iY4AIBWwJ\n",
       "DnbtfH/vbxl2s63B1dn7Bwb/NC7VP4+qvsP3mFLBFD8Huy4tToDbRffSvBdVMCBCj3D2WjlkH3LF\n",
       "Ig7aQpFuaA4t+BqDXeNFZrKN0SHsd3zsiDO0kBGkRzJSTo4BIzK4qQ8nfQ7dM2WkFAvQJ56/o81/\n",
       "IkNl88osPljN2XZciZrrmV7bwi/odWxiU///PIw2Om9focw2731N0N07z/FoKrJIzJQ3u+TmBydd\n",
       "/Afhk+pQGRVH4IQnRKD8YpG0G23Xr1xU0Y2MlUZ7AiAoFPizWSCBWx2ENPC/iyKVLpinQs9WUC7T\n",
       "WSAViOAuVfmZxaeyU7OExw9BRXALXPf57RYhDxm5+CRysRS+toDoHlZr7F7dgIs5N5qiVfd05FyJ\n",
       "RJT5kWgF5lc10LwgNjGhnE2JiwJBjsP3N9fKqZOi1aGJNmruWrP0DzDDKyiIIyf33DeCNgEZlWai\n",
       "T4gQHwoTr2+p4eBogebTx/TifpSUsoHqbTOxpPYnfAxA8dEUwaDnKOl/fu3sXDHl1kxCbe3aLmGD\n",
       "AbhuKsXDFgKJBbn1eJ3TxiTvOwKiPfaB8I1OdeJOwfT5LRNEypWP5LAR8aW59TBz/ic3GCYchNRH\n",
       "Oi0FT+HIjTnVx0nSEWwy6uxCmcMK8QhA2f6IJ69wRAOGl6YoVI4VC0nnOPskLr13OUIwrNwZOYXT\n",
       "AJHdby6/vm++v2enaJOn8SY/pvms2Pdh6/tWgev/QNye2ZjkA45pPWGXYc26oeLFaWm6Nhf6zK1b\n",
       "ta/zeN8M1tfLgNs8X8YMdzUJ61MKQq3kyBonYl7Ew7O+42LSur8GZf6tldot0tqpokdwKzLlz1wH\n",
       "+r1bb4b/uJDcd/cXD40QitlgGqGu3650U1SwUlAXn43m4K2lOdwLMQgGS0cAOH1fd164B6WWlniC\n",
       "pzDFYnx5dZyeBhMOu2/9A1FMXJ06g3Ua3x526Z/XLM1VCrPtmBpj+FtPmC2JS/BiX+gnlQWOEHVV\n",
       "7qyF6EZ9BK3weEKaLonKAU26Nk9ScM9LZEdLm/rHy2cUIY5gXL7qpR4LHbM0xiXy7AruiUX1MoPi\n",
       "a9R9YAHdAW2hB4Kjw4wJfs642kcABT6fCPZ2O8D3xuzol8DB6szwrKG8ehi+dEENeEYMiMuhNfAA\n",
       "RsXibs74QT1Gi5PZw7+s2kMBUIMjeSK5Y4v2M7jyV2oHnxvHhgRxKIBOPtrTeM2ps0JD5t1ptNWV\n",
       "8/erEA0pQnJlcx7FVWCT89iu6WT7LxWoXcm5TboBQfqx+bQ9lAuU86FbqBEmR3N8/9dhH6pYucyR\n",
       "we/hrZplPkZubi4SRyyyhhDHhoQx6i/aUlQ+z6Yoxy1+kBPhIjV8YUsA8vkcwvC8vdynD+M86Itp\n",
       "rySSCZK8y7ObLIps7qiChAWkwkqPEL0OkFrXzckrSDMKBbDC6QUYL4yJhnVtsDV/wh8ZEyEwLKT6\n",
       "Pe6+RLuNa46EQAY8zJqIhtfMu/DbsY/GFxmIAO82FCM+h3zvMpbPhhxQJeKt57jZf++8FJHGWlhg\n",
       "ZhRekVTiMBifa+v6TZgrnlZunJXbp/JQI87xtoHW1JKMgZDIvVKBKlI4lCkqxx7bNM/ljj9Ruazm\n",
       "RFhbnxlgXERy6kcYZ1qgIH2xHK5ov8OFVKN4p1dakaZ7qOqqLABVFcko9Tki/7UD4v3P3JAn+y62\n",
       "rFFnFuFpzoquxLDc7D18APv8XtSFA6Sstz3o/WVeP4qA97qbzp9ZMWxOjZUihjdH9+dQOxbg9bcL\n",
       "fLwQo9wSht7QbpLsEyaEQcLH5jsrGyVhHFh5Oya4ILwQKNHtrIjI5XzfgO5/ZR2FPAd46cGJQwjc\n",
       "ty9pLjJqMRka1mqN47egto0r4UsdoV+rL2LACK3+f7rqOyrch73jKZ8SsH4JyGdTROvJhFAea5IT\n",
       "eFw9cx+86+7cTpQBEJAy7ctbvd1vPZK5o4gtyXGtm69gbdBMvnlswFmK4WT0nZkaS1IxexiziJOW\n",
       "q41Vsi4gN/0SKNDBiUN6I4s0e7UTXQfzpAaJPegjUxq0pG3QWhzA0VQqo+my+IaHXrBoJKlkK0ce\n",
       "FE2vX7LFU1G4gDsqVyxf1aVvhwRLtWlqpJI+PvkkKxXA47JKAYhJC8A4Bp5gmqyl1Hnz7k0jEkXE\n",
       "/Bs7ZRW8haraqeWmPJlyiipcbCDMPQJKceF7OMT8CZ8GN9wUL5rw/bY94s/5fG4s8Viv8mwWv7vu\n",
       "VW9Qlr1NLk34ZiBl/gP2yKk7jfd1bBb4jbTjkD3yqVA9CzClmy4KGAXdX2ufs0GzJRuFVd59UVJY\n",
       "3aMFCji/WD6Woyv++Z45IFAMZfdP3NZwDGOjbe52D1HZPZN9T3LS/Se9URXlokV4ozKLamdWLI7z\n",
       "6l5yOZAD6EcTofRhNNDtbgYzpRyxMwWAv+e0u7lbS7JbCiLymd9q0kFfUrjOQDh4n95SXnWOIfJq\n",
       "3DWRRStoACq+KjSg7mcHJKH5247fk8j3qFui6h+fEqVCue/MewcNn9HpArLAuwKZeXpTQF/eyOFB\n",
       "tLH3Ny2anmCoRNbD0MazZtVSH51i6Mtz1i/areQ8Q1sesuleqcqrkNzo6ugsjGmtupwwj3y2cPRe\n",
       "Tls68PQ/BUStmQtUSfhykYO1P1fzuRsnoujvNr22bNh17EMvI5XKBPpZHASXvNsgQyqGpmRKIzQ7\n",
       "gXZcYHvYlmjt0c3y4zBgQmoqxiSpYhBAe+GexfaFQedbc9kiNzq78OIOeV2o2z01N22nHOVP/Q35\n",
       "DIVI3arLRfUtb5+fQMx5zNoopKvHlBAIH3/HTMZxu9dv/X1+t2h/I8iNfSJKi9VuoTMhpnuFs8xE\n",
       "0t+PS5vTKLJPhir86tqvsM/idtDyqRdSTBPmuh0P80ZAFoM7mnxDXBnUpnHyAcc2Z7Qh58QlUcQ+\n",
       "YLkluF4U0PqgzKqsHJab5x6GPB9IeeWJGOmaJs6iU4S0I4BQG6BVNzGa/ZH4kXWT9IDh0AWwdb5j\n",
       "I8RkqbEm6CddZ1X0z1spzwgwdrO2BspnICK294ou98Op5yDNId2KWidXyFcQoAywPPCXVOU/c2/n\n",
       "XE/oNqNZyLVuxRsqGLm2BCr4OktUSkQ8a720F55KL/csKzEcX8SENCh0FBxn+13wJlcLH9u0F6yM\n",
       "yjsbF6flJiBjdKTon9wBFrOeZq9ELl5dG4WeSh2cEP5vi8Dg6nKwJg/eWTZK6rtJ6rFAsUsWXUot\n",
       "5mixH4W497ZTA9jQXoyDYVks2J6Y8KJ9doPl3BSz1xgrcYVlbzi38wvV3pCOUZ7ulMpgpmWuMImo\n",
       "ZgWoVpVABHaJgDjB5mFDewLX9BkW6vxbK6K8FCxHjGJe7h5IbhaT18snBNG45PcLA4QkWSYkrXXq\n",
       "NAgZAAAA/kGaImxCP/3hBIskyhr8HX69oywpI1d66gbJwCxZkRbO4Bej+PYdd6kPjmDKL6o1SoDE\n",
       "BtrqLU6rzcTrobyJmkek8aOMQXb/BufGME5cPQqmBEzLVwXLc9E+8clknuZoRvrH/YatU1+KrG3s\n",
       "7SG/Z0bVhT5uOqtH18H7kwXPdHPWsC9UXLIm1LhjKBym9OnhnfLyRP2cBhwacdsOI0VucHJ/RvZ3\n",
       "ekMdhf8+qA/XmLzeT28IK04BYzyd5tpe0b1hBg1KJ/7O66JjwUiiURymMraGtp6m5NaikGpNRnFy\n",
       "DiEO/y0mrHIEQiQ09DpJ+urDLdN1DzW2suPnx3W1nBkxAAAAMQGeQXkX/wwfs52lBFsPwABkcAPp\n",
       "UbG1hrfzgfUraoQzrCY42lzKTH+JxMgqDCfcEjAAAABdQZpEPCGTKYQj//3hAEj1cQUYH3wctGwu\n",
       "2JgC/DGxd6U5wEwQ5KjRF2Q3PRZm+nOj86d1Lq0MPQXZMgKalkW2O513SFKmG7QRoAwlTmg2KS2R\n",
       "LaskNkNwVb/bNNiwAAAAJwGeY2pF/wPhB1ZP9vgAhjjPNSITqCP9dcFSrjWN4mmSvI2ke4563QAA\n",
       "AEZBmmVJ4Q8mUwIR//3hAEr1cQUYRi/o/wAbaYz9oZv7d44l5CUxpgBj7MaOcTNc7JBeELwEJ3u1\n",
       "qTRuaBNGSD4zusdLe1zwAAAAb0Gah0nhDyZTBRE8I//94QBM9XEFF5SAZzADnFH2G/xF6banTU06\n",
       "aHOojA80QajKXr01J7Y80uXsf4Df/D3LM5smcgSsoxaXTZTO2owQz6KUKv0SA8zaC6ExXGQufn2/\n",
       "d016fQtzak+KnbGI1pS4gwAAACEBnqZqRf8B5nw2ADUwpHBdGGRS08fGNaxdn6LUy+xOTCAAAABX\n",
       "QZqpSeEPJlMFPCP//eEATvVxBQ2+T3bdS+0FstQALCG9yHd/Xt8K7+YGWvzpNNTzKtakGHmxhy+p\n",
       "7aciozVwEKBneectT6Qn/U3IdjD0gsRZkL5XnsDZAAAAGAGeyGpF/wHwegGDVCCOpxkdAX8hcDrz\n",
       "4wAAAFRBmstJ4Q8mUwU8I//94QBRRXEFAnbqcW+pEANykS99K9NvaM6kQOThWNUEYWiQBCf9rATP\n",
       "YIxdMHFoJP8ilNDwEp3AVgFkuErUguvUrhAFcHPodmEAAAAfAZ7qakX/APjEEkAGnd2WoqD6VuX/\n",
       "PLaxceqyZg5z4QAAAExBmu1J4Q8mUwU8I//94QBT6RBt/EbGJo7S8YzACuWEAUS7A+NZq8wx4geJ\n",
       "uyZ6UvQ6mZQEzwrjE5AMGzHEShcZBuF9bfjFSIbAXl4HAAAAIAGfDGpF/wD3agWoAIbANvc5BNIE\n",
       "wdOTHiGw/F18O0GAAAAAR0GbD0nhDyZTBTwj//3hAFapEG3sY/+TGp06Y2ANqY/t5YlNGFLVCL/7\n",
       "UraIcdKn1TUsQIko0l4E6Bs7gCea0b7SMJsNUHWDAAAAHwGfLmpF/wD+NATaOQAgmI0VEs7XXIDn\n",
       "X7v66zoAc7AAAABIQZsxSeEPJlMFPCP//eEAWWkQbewSimOdYJdU3q0yR/MAErbs6vFtrNH3LGCj\n",
       "sKopEsEljdk3kl/fjS8Y90oiExDbBvRK8vA4AAAAJAGfUGpF/wD9vP4V72EgBAZJgYs87X/P+fyt\n",
       "yxl9MNEvgnhOVQAAAE9Bm1JJ4Q8mUwIR//3hAAlj6ioVnQAtm9yV8JaPDILMDNiwt0qaMQUO4dVF\n",
       "Ao0iH7Cl2aQ1FvcA9bHaZsGKQLN32MLq1lNchjUnhzvjI/9rAAAAOkGbc0nhDyZTAhH//eEACWPu\n",
       "wPV5MARHvRVRwccQKEBMY2DLmf3nr/pfLqfzIMX8up6QMRvjO+17qlUAAABIQZuVSeEPJlMFETwj\n",
       "//3hAAmtE/acAHGGHBRg+BQYTARIClTmZ2P36eV4faTnOPo6+b8ShmEtWT603NOZkb8Z32odYYHB\n",
       "A3/AAAAAIgGftGpF/wCCEXkgATgIxXJFoO/wBoqjtp4gwKn4pTL2vlwAAABMQZu3SeEPJlMFPCP/\n",
       "/eEACallXFjpeMyXiAG2lbiZtew6jxnkNqE/AvMwBfZK1b2E+KQdUOGsepuLrdDM6ZzjxvJ6gs5Q\n",
       "pKYaJXWAnQAAACUBn9ZqRf8AgiILMEALZU2/QfIyBXgB0Cy+6PZwBwCciMxHIYigAAAARkGb2Unh\n",
       "DyZTBTwj//3hAATabatO8ioA4+V3XgZ9EHqHF331GUeQjkK1MmR8LZzqtj9JwSn3e87nIC6jXx45\n",
       "KwR+uvr+QZAAAAAgAZ/4akX/AEBk4+H5gBAFNCud4OSa3QXQfzYb019IhCEAAABUQZv7SeEPJlMF\n",
       "PCf//fEAAyGjnAKgPwACxyAgL59KU+1H71PXvHWqX8Cx5MQveA02fm2BXTl4MJ4K87rsPqzBw0zd\n",
       "E8QN9wB2B/qXrRS8olivXs3dAAAAKAGeGmpF/wBDCLyQAIZAs4RRjL8LB7RT4O9WAIs4pYfP+SKS\n",
       "e/ouuC0AAABDQZodSeEPJlMFPCf//fEAAyU3Ma/Jv0YAL31ZEGboerg1nqkQgggYR62wm7ydTnRC\n",
       "ezMmx/wpS9bBqb/P0cxHjmxRQQAAACABnjxqRf8AQmc/7iAAm0dSn2szphZRNtDBD4iVgIS8AgAA\n",
       "AFhBmiBJ4Q8mUwIT//3xAAM2F1vgKCLdAuAldFlYp80xEeX4l3qcKUjGRtFZc+Q1vx3hUXc5zIrK\n",
       "KK7AxMSBLbMm5OYx0KIkW95UmaISqRcaKFf+4gqb5KCdAAAAGUGeXkURPF8ARXxtBPLnWsEi3qZ2\n",
       "9sN2btAAAAAqAZ5/akX/AEWvXABGF4GBujllQqbDepnKsTWW6HhT5jQL+qVtgsCVE1bvAAAAWUGa\n",
       "ZEmoQWiZTAhH//3hAAUeH6K1c/Aye83sbKg8glUM2oq4FMEXnp7F5UR/xiemLquDwhOZQGNcQFmR\n",
       "lHvIUA0Tu8eKUePfHvN9jDDAVZcB6OspBYjCUmfBAAAAJUGegkURLG8ANzwyoyABzM9KrutEJq74\n",
       "SiXp6lFkCMsDuryt+2gAAAAhAZ6hdEX/AEVJSb5xKDIANpfi6tVSUSbddySvKrZjeT7LAAAAIAGe\n",
       "o2pF/wAjqvfHCTPsABORn36DghucM8c9VJXwutJBAAAASkGapkmoQWyZTBRMJ//98QAA0vvtL4AC\n",
       "uxFKin2yXoiPCSfj9xISl3TjWTAucrWY7/20G0/dHiVYsA79A1CQx44nijetTVA6wLuAAAAAHQGe\n",
       "xWpF/wAR1wCABOh5lmfTf9Z/Ufhh/Of/qAjdAAAAT0GayEnhClJlMFLCf/3xAADSq2+AIPOZq2JW\n",
       "YTjOjPeLBuNFngpwWdM6tFx5WoFyL8rqf8h8mJcwCDWeFSQfejTo1N4qoJztriMUObSEtd0AAAAb\n",
       "AZ7nakX/AAjLXk0forLiwAIeRrAoh+StSR5TAAAAQUGa7EnhDomUwIT//fEAANj6afmdIetofQBy\n",
       "vjBO9YhsJkwXWfWmcLwNfe6n8XLwNXbO9FBpu2cBf7tlEtMyxf+RAAAAMEGfCkUVPG8ADnydg4Qq\n",
       "YgAIeWmismLmLn0KhxKQMFYuc0zSDSUwfj68z6YjaR4mdwAAACoBnyl0Rf8AElIQKnq4AQcI6KiP\n",
       "mToEIdHWBYjQFMcDXEzXy/fKyDkDHs0AAAAaAZ8rakX/AAkinXrQAfHitnqmeBFEr7G5w2AAAABj\n",
       "QZswSahBaJlMCE///fEAKy6XddADoFX6JOHNqEwhXOq0x/LAxV6aaI11lb4Ah9opCqZhBwTGbqcC\n",
       "zq1vhyD31r+9Vzlj3C5JNA8uHh90o0YaeLktDtd25ImOtmsYrwSvUmrgAAAAHkGfTkURLG8C41QG\n",
       "aAA7GhBaAOigS5uzJOtxS2cjLQAAABIBn210Rf8DoXy+4jsT0hFnrUAAAAAeAZ9vakX/A5wu2AVJ\n",
       "KSAAf7orO0S7jaGQM/MNO2VAAAAAREGbc0moQWyZTAhH//3hAET0Cwkn5Fbjmt4eEAQCgszyoIRM\n",
       "1NdLVtjkwChQS3p9QSR86zEVfBzCTNSq63o7Bt+FqEy9AAAAFUGfkUUVLF8DtPP8upCyvGtkBwHn\n",
       "RQAAABwBn7JqRf8B3NU0AH3TZnJoXh11jwbSfIHphvbRAAAATUGbtUmoQWyZTBRMJ//98QAXXk+4\n",
       "ERu9+PnFOduAFcqRQevkQSXct+xEKB9zUm0i+vIJKfFQziUM/kl+FJqj9DcxfHLHtb10+mO0/rSA\n",
       "AAAAHQGf1GpF/wHY1/L5gBBlxyRes0PVw/KL1rw5NeWAAAAARkGb2EnhClJlMCE//fEAFqdLFAAn\n",
       "3WLEO6GJV4qyPqFYWnIoDlvSKeeylzormDj6u0ZR21WefmeTn+E0qcIOWRdhTxM6X+EAAAAfQZ/2\n",
       "RTRMXwHmfDYAPwDoYdOP1JA9+1+omnozlRRtoAAAABkBnhdqRf8B8Ggzk1/uDVpyTrUze2QXx9SA\n",
       "AAAAREGaG0moQWiZTAhH//3hABJj9hAAFh7vinJFr3Ig3UgMM+pbBTOkFZYJ3NwoeXZqRLTwU+35\n",
       "ZqyNmE5ycuyYADNqojuBAAAAFUGeOUURLF8A+LYiTj/ho+c4N0OKSAAAAB8BnlpqRf8A+LWN+kAI\n",
       "QNcF63qVdTY1RW+9sz59vjpxAAAAUEGaXUmoQWyZTBRMJ//98QALmOJqeAVIAIzjFEom3/Xos0z+\n",
       "6HnfItKP6fH6ykl381N7zAdi95cNgxM9ZfAO3CXRrlybM7qzFNv4evJ9zb3BAAAAIAGefGpF/wD1\n",
       "g9fgYANnJ1oDiq1OwgKJN57GuZwV6F04AAAAQUGaYEnhClJlMCE//fEAC/7/rlM7P2DqAAuLyBvc\n",
       "Kfv9y0svOfsN97qnAAip+1HUXCr16BW0oWGvr7EmURXXamhZAAAAIEGenkU0TF8A/jQAO+AAhmSR\n",
       "NWn+PlvJi23wuhLl01EfAAAAHwGev2pF/wD+NXxZACEj/twwobaYp3ozNiZO0jIbosMAAAA8QZqj\n",
       "SahBaJlMCEf//eEAEdNlYugackQBEw3Yr31aJKwPa/+b+wr/ntTiQd/4JKM2aLm/IyCLl1wJEXVB\n",
       "AAAAHEGewUURLF8AfWnHQu16rGApN+QTJuf8Fp89bsAAAAAdAZ7iakX/AH1pxxpFtMUABspNhoQr\n",
       "HnSZ4nko/WwAAABTQZrlSahBbJlMFEwj//3hAAmmvDOQBRv80tZbaRmlpDFnWOFsluvyKOulnS1B\n",
       "iTBFQUcDviw0yBOySPY8t9aXw3H+xn2Wt/16bMoH/BqlGgyZPFkAAAAlAZ8EakX/AIL2HR9xS+AA\n",
       "g/kNaJi3lrRZY+GFxKHeeWtKN0gwYAAAAEFBmwhJ4QpSZTAhH/3hAAmmgVFIqwBQAVICXwxjDysI\n",
       "PlkyJjYlkDsqJHwhg3W2hI2aH0w3160YqsYA88BjEn+l3QAAACdBnyZFNExfAIL+AIAbrlGv30ou\n",
       "3DG+FfKQtaKC8uUPMq/sQRyWDqgAAAAaAZ9HakX/AIKu3DAoAQAua6Lcj1ynsKvnBl8AAAA+QZtJ\n",
       "SahBaJlMCE///fEAAw2iz5G7ICYAHBzetoezojde4z0WeHaoQePXQEVYalrmq9QB2R/IyVwuTboT\n",
       "rpkAAAAxQZtsSeEKUmUwIT/98QADJEAz/gAjsTq+kAxmlCBvAuCw/YFonRDNb+HTIAsmzSpdMQAA\n",
       "ACVBn4pFNExfAEMIdeWP3wAEEy0WF5KMw8+06rNV23d+1s7joRmBAAAAJQGfq2pF/wBDfwBACY9c\n",
       "D5wmnwUVWLwZ3GaCWp9uvpO6MZJTZlAAAAAvQZuuSahBaJlMFPCf/fEAAySKkr/EMALQ6WKpsEP7\n",
       "K3wD4uRkL2cGC7RSra81YEAAAAAgAZ/NakX/AEN/AEAJoVSa2mojNq3egxK1tiqez+GshGcAAABL\n",
       "QZvRSeEKUmUwIT/98QADNk2loBoKwAWiGr74hxKPijnpglohX0YLUoI6ybm+hrbdRYmC8Mr9ct7O\n",
       "7tO7dtMM1u28pgObanyMZgysAAAAJkGf70U0TF8ARXx4fgALnqMLv07ysOANDXXs2hHjU9OOrzAa\n",
       "s0fAAAAAKwGeEGpF/wBFmBkQAWBN6gluoWhN8kBasagquUYrJVlZCe5Vh6SM6XCkqk8AAABjQZoV\n",
       "SahBaJlMCE///fEAAZ11/DRTdwAgW4lbPMo74Dh2ZE8zGy2knWxVx3QVnnr/cI8JXKTFEDrXcpwf\n",
       "9J5HkID3x/me9oZjMb0jnwCAzrl+U6hrzs+7PSXy9NVBqG+LqIXdAAAALUGeM0URLG8AG54qXc0R\n",
       "sAAXwmVq7rRCau+Eol6J7+jSivxo1WXiInoyT81m/wAAACUBnlJ0Rf8AIqYioAQn8l1aqkolp2R7\n",
       "123id+YHMbnaKed9LqmAAAAAKAGeVGpF/wAR5UL0F9zkAH/T7QGj+i+TcA0JAb18KqQmM1nbjBz/\n",
       "IbgAAABgQZpZSahBbJlMCEf//eEAAU/Kur+QnscT5f+8j4ARI+fmBcz2zLVupAtbiDz7095TZFop\n",
       "BTqZOvn1rKVtlFDBkqzbrfQWcMlnzgLZYN2jDaafYkO7QakSqzBrxqR/9HoxAAAAJkGed0UVLG8A\n",
       "Dhjm6qQPdE+4kADZd7YFKMoMV0nLIVAPif9xeW34AAAAJAGelnRF/wAR0uRAAucRgvw4q2hD3Ccb\n",
       "CA76DntJhLp3x2A3cAAAACsBnphqRf8AEd/8QAEtJ7C70RChXMJs4W7P+MSwe631sGEC3/w4Djlm\n",
       "HBOBAAAAY0Gam0moQWyZTBRMI//94QBDKJ+04ALXR/hRC1h0364PT5BJjDG1kJP94niCahgLMbE7\n",
       "aTlLhGs0uDVRAe4/bftWq4eWhI3NhjeP9IErLIEoHNbtBtQBQRdfMZmRlrvDJyrZgAAAABgBnrpq\n",
       "Rf8DoNiHAXjwr2qgkp3Y/+94UEEAAAA1QZq9SeEKUmUwUsI//eEAQwAqwBExszlGN1JmOpzGfKY5\n",
       "hYJgaH7Q/BSV+Qwje3p/WsIwGrEAAAAXAZ7cakX/AcmrgMfoq+sABBeaQewhgccAAAA+QZrfSeEO\n",
       "iZTBRMI//eEARX4zemdYh9LQAWuL+OEfgb3/qQNkZLDAFWh/6LD19ovz0m3H1ofSjASX0wnKgScA\n",
       "AAAeAZ7+akX/BzuHDBKvxkgAEGAWgsW9AxDFB8BzwKuAAAAAM0Ga4EnhDyZTAhP//fEAFiaPqg14\n",
       "AN/Vw6xpKfoRYASHBjo0XgCDcmZClW+/BdAo67ultQAAAFpBmwRJ4Q8mUwIR//3hAEMon7TgBHuo\n",
       "irUYyrhDKczcEpD+52r8ttLsI1AQrkNnZD52r7MfAXjW/8qGT0fdMWQmTT3cTAWmHmtX5NXGfWOd\n",
       "hK01IA+QNEOmqXkAAAAjQZ8iRRE8bwXDkJ0KdaoR1aU7AAHZ4vgwmV17Y9pErXKurggAAAAjAZ9B\n",
       "dEX/AdSpsxvSbeWhSAADYe+I/bKBp7dnKr5Hd9K16YAAAAAVAZ9DakX/A6DYihU4eBzKuxcGIkCB\n",
       "AAAAW0GbRkmoQWiZTBTwn/3xACs0t+AK35b8tKZVuTDAARuXsqr0SJGxSJuVNnEQH6LiUqRh4CxP\n",
       "2i/YfnGOxXv3F7Xx60muHnI6OJdSZKY1uW6vb5jYPzTU6eJ9UHgAAAAcAZ9lakX/B0BBU+G+JJzZ\n",
       "4MkpKu8O+pSBGod8uQAAADVBm2lJ4QpSZTAhH/3hAEMRM6ysiUAAHBlFzIqifqHSHXSrcR8iSSxe\n",
       "WQ/BnSbfsSkKs/Ya4gAAABZBn4dFNExfBz8fsROIZLe+Xeo66TJTAAAAHwGfqGpF/wHbax2QABo+\n",
       "Ia3hribB5QCpmw7rs3YMUd0AAAA/QZurSahBaJlMFPCP/eEA1+6r2pz11XrwsP+lAxAFO87r+K2g\n",
       "6Qt9mJpEyQXZw7SkzMytkaPn/ICsIytdHuXBAAAAHwGfympF/wHUqTNzM9INQAQ4a2yNKWBPZtIy\n",
       "QfTyS4EAAAA8QZvNSeEKUmUwUsJ//fEAFikPI1BvkAZmPP/zVMvqHVip5DT9p+T0LpqDFkDSJuTd\n",
       "LTu1XkjxllKtFO/4AAAAGQGf7GpF/wHWz3CDqAAhWRwV1xqeF4XIrx4AAABWQZvwSeEOiZTAhP/9\n",
       "8QAWrwk/w5yXVgAXlyvesB8CC6julnce/GCV3Ke3nTpsA4iO+pei8WFBPOKr9boSQgXINsYA6423\n",
       "3XvwYEXeKArPJ/s1QHdhsJsAAAAhQZ4ORRU8XwHmO6IxYb4ACHlZFTmFGyOC/aEMuvYnihlwAAAA\n",
       "FwGeL2pF/wHlefx8XcR58N3ppCpFVf6oAAAAQUGaM0moQWiZTAhP//3xAAuY6yitwA3XlafHIZBY\n",
       "oGrmcpLWFZllR9Rhw/uHDrO59Wq4rIXVy+DC6TOjTc+h4RL9AAAAIUGeUUURLF8A+LQAqgYAPt6j\n",
       "lEZJNGi9vvGtuCI9VZRdUwAAAB8BnnJqRf8A+LPes9IAQkizalv2Zpw2DygW8H11wV0tAAAAPEGa\n",
       "dUmoQWyZTBRMJ//98QAL/v+wW+c54AhGb869zyiSGRpm41fnPgI+ahspBG+8cUQBpORhGz8gj+oE\n",
       "sAAAABsBnpRqRf8A9034tAB+XYzm98tDfKAa2XcwvWAAAAA8QZqYSeEKUmUwIT/98QALn7KhW32G\n",
       "b1Oj3VoSP3AFadrCMxtjNrxmw0AXHUOgzDZpJCk/v2cmv2f2umWBAAAAHUGetkU0TF8A+FR2ABDy\n",
       "s7Qizu1pHZkBAm+0JXrAAAAAIgGe12pF/wD95kCEh/atAAamq+nHaPI6LmgAiU9CKx/MyoAAAABG\n",
       "QZrcSahBaJlMCE///fEAC1cpjdc/Ou8sAL3069EyabpOhmq428gjfj4lfqNXt9Zg0p5rLYF3LMr0\n",
       "mMQTPsZGURC5uytgQQAAAB5BnvpFESxvAGcn1kAF8DNJZrokVQFPWxV/ynr8n8AAAAAeAZ8ZdEX/\n",
       "AH83gYANp0mWb5x6qNlgPIPNackJbi2BAAAAGwGfG2pF/wB+b5dqAEG+D0e5nbAnnKZuHrISywAA\n",
       "AEtBmx9JqEFsmUwIT//98QAGHJKlHaaAOT8C892nJ2iFGLUMozhj9Gv8ggkg9ZQ5mXrFGYT+6aCv\n",
       "6lUCudwE+PCqze9cDRl5tMza7WAAAAAjQZ89RRUsXwCC+PD8ABDyd8VY35iLAqkscDH1SEAXLBqe\n",
       "nD0AAAAiAZ9eakX/AIKr3yKokAIGCHrlDs08h6Jdyua7no5tg2wx4AAAAD9Bm0JJqEFsmUwIT//9\n",
       "8QADDxceGvADenvepx/J+l1JPx1LV2Ta26LCIAPNHjo6dChMCzyW/7l8vFsStyyEP1cAAAAkQZ9g\n",
       "RRUsXwBAWvJ0/tH4sACcBkKRF2zyVcdJAFwK0HZeR1TxAAAAIwGfgWpF/wBAXzHxdOUQAfgOuQsf\n",
       "6VvefdbrtqxC7BCeAcCAAAAAQUGbhUmoQWyZTAhP//3xAAMkH+T0YAWkpVM2ExJq/PwkvLQoCmtZ\n",
       "s91pOfLMTLK96LM3tE8EfptrWFTBpfiLgctgAAAAJ0Gfo0UVLF8AQxEFmCAG5UCBqjmMcpkHsyhk\n",
       "+epH88D4uFawQkQ3gQAAABQBn8RqRf8AQyhuQ2DCOfpPAsP9MAAAAEhBm8lJqEFsmUwIR//94QAF\n",
       "I9aq6OsaJpSeAC1zC892/L2BppqJ5vQf0vYapPu7FFxtTHZtxR+EZf8ejbWcoaxY1pFW79fp44EA\n",
       "AAApQZ/nRRUsbwA3UgBswASsnz9PVcS6QCGH+KnWS25Z1lAf6s4BH24ZICMAAAAeAZ4GdEX/AEMR\n",
       "pxEALd1GwaJfIH0TekGdeX172PLBAAAAIQGeCGpF/wBFVe3DCc5gBMbQit+vJBFg4pOX6L6SBWk7\n",
       "fwAAAFxBmgtJqEFsmUwUTCf//fEAAZumhnQQBtTmdYsp7UhuH/18n8wjl6cD/DSrP0DHbegqMd5g\n",
       "ILkDj/SzSEpVFNJzy8xnczlv84S0/7wAO0nFf1VIGaWkXFQyB8eBgQAAACEBnipqRf8AIquge8TA\n",
       "BtL8XVqqOsm3YCpREd0X1dxJB3EAAAA0QZouSeEKUmUwIT/98QAA0zdSK14ArRhMYNY9xEl+VWPG\n",
       "rzz29hIr7UP4BgRPURVJiD3OrAAAACZBnkxFNExfABHfHh+AAh5FtAy9lm2J9YJJ3ry+MwXxmQhQ\n",
       "duAwIAAAAB0Bnm1qRf8AEevXAAujasuc/U1Arztrh48zNvSEIwAAAEVBmnBJqEFomUwU8J/98QAA\n",
       "0sXFnYZ/2Smra9qauVhQAq2dWtCtZvx1gqIPtr5UaxXneVNo3xX2018Gyfy7AvnbP/u0hAgAAAAj\n",
       "AZ6PakX/ABHEZ3IAHEVUXbl3iy6zxwlXFn9WyZSnuDViA8YAAAA+QZqUSeEKUmUwIT/98QAAbAgG\n",
       "f8ACrndi1bOdwVIESty3E5uJf8Sph5h9MTg/Zi7aBYaGybe1gEOJ060Y2JEAAAAnQZ6yRTRMbwAH\n",
       "QdjE7AA/XsrP6Rzs15Bav4hIu4XO7U4E6pMyW+BhAAAAGwGe0XRF/wAIy9H4trUQAg17EtbaIj7z\n",
       "kntjgQAAACYBntNqRf8ACQyikGwAacRhCyGBvd72C3V+5AecxuMQqzRcnC1ilAAAAERBmtZJqEFo\n",
       "mUwU8J/98QApOfX4DFOBScFbeOORG46DgE/c8h799gBtVOQefSfNb3/r5uA958945WR8VBBv1/+2\n",
       "Bg7bSAAAACIBnvVqRf8DdSNa5p9BGQAhQslW5Hdxod0Fth4/iA08GUphAAAAWUGa+knhClJlMCE/\n",
       "/fEAKTn1+AxNRu+56cU80LRaaO3mYoZ5SYBJADgnj4mF5Q/sURVUQXS3hkV0xn7iybboODRBD1If\n",
       "LxI3eFaMl/Rh+ldgCsmNF77qmVUkAAAAOUGfGEU0TG8CvmEQfmoAAJ2VFLWWjOAfds0x+0VLG+mi\n",
       "X5kPv//8zHl/2+ghq3akGr5RP32sVhr6RAAAACgBnzd0Rf8DcvUUDTf/6ewANncZbpEE66iqVLxn\n",
       "pYGTIF6dgNigHbIfAAAAHgGfOWpF/wAJauKPWNApOMDAB/2ArBjtipNA4LlQYQAAAFtBmz5JqEFo\n",
       "mUwIT//98QArTUTl8AVqc2Uu5uohRQBnCVy+qQD932EhdUwwT+JEplMhYz77WbBiualxUPBTgMjw\n",
       "J2vJUVv3k6v7jBUvSyjFs1HEhIrDxUnusYphAAAAFUGfXEURLG8C4IHGw6Te9F1suh6lcQAAABEB\n",
       "n3t0Rf8DoXUp5Ss4uQwN0AAAAAoBn31qRf8AAAYFAAAASUGbYUmoQWyZTAhP//3xACoyaS5TIHwA\n",
       "vMdCpPddXWEfwDuFOxEf1JfCkSoOaeXOnQpFGHjbId1IDbPgYI26Xm5Nb0ynxHvgwIAAAAAXQZ+f\n",
       "RRUsXwOiHKKR0x138UrpYS7oiDEAAAAbAZ+gakX/A4WPTagBBwwo1y+SK2p7UcMWXKKbAAAARUGb\n",
       "pEmoQWyZTAhP//3xACsj7yYd8ARILhHXUSi2AkwrlhkdkmGiN5SqUE8hM8PAZuhKWiQrhxHoIo/a\n",
       "hOSC1Q2ooGhlQAAAAB5Bn8JFFSxfA6IhxgeyAAP2ofg0NuMceRVigkxfKMwAAAAgAZ/jakX/A6NN\n",
       "EAJqUJNu1b3d/75l+ZHzcQ6BYaGQLuEAAAA3QZvnSahBbJlMCEf//eEAQwsq47iiZIbAFMb2Wp4v\n",
       "VqZyGSwRi7Z8h8MURnmAn2Hr1z8KMf21uAAAABdBngVFFSxfA58E5BUfefUDDaAw5oZPmQAAABsB\n",
       "niZqRf8Bzcfa8wAg4YBNQGMj8k2Sir+9Y6oAAAA3QZoqSahBbJlMCEf//eEAIrRP9TYA4lMOUnhw\n",
       "OPiIO+epg343GLMn9vSP0jk06AFPe5abSYiD7wAAACZBnkhFFSxfAduHjQAmP2+Q2sa9JQRIoJjy\n",
       "qAkcIwhuSL2JbukxgQAAABsBnmlqRf8B2JvmQAIVWgPVl9RDWm7oETrkQMEAAAA/QZprSahBbJlM\n",
       "CEf//eEAIqA30ATtwU4rQgve+thzBBFq1KtyPsyDai7L8D9fm1eCGOOZ1jYuDi7ylGbjsgb9AAAA\n",
       "WEGajknhClJlMCEf/eEAI90TXzUhTLQBygRz0xQpf//NMSNNO4H/hlmBZJCLszD52Bo0OaXnxHIM\n",
       "ZL1j+EiCuviefdKnoLq3MLgdLYCcrCgRPMPTGtA9dEIAAAAjQZ6sRTRMXwHmbMBHhwAIeP8B0yo7\n",
       "PxPxbswNPviBLuie38AAAAAWAZ7NakX/AeV5/HwlqFwwOSyKUBMJsQAAADRBmtBJqEFomUwU8I/9\n",
       "4QARySExNiNY6XoABGAyMmSDaMHidWBMo98/zzcvKCaPNGSPUDjgAAAAGwGe72pF/wDx6gWoAIeW\n",
       "PoGoEPRCYfibR1hu3wAAAE1BmvJJ4QpSZTBSwj/94QASZH7UIwBxNzfS8jVw6E1Rz4xXdTZw54ps\n",
       "JUD9RiKdiSWexMIR2o0uyKhTyXIvlHNbFKGbJkE5lFZeCqSDwwAAACEBnxFqRf8A+LC9X3y50gBC\n",
       "BnmWpIBfywqWkL27yjIo2YEAAABDQZsTSeEOiZTAhP/98QALoyspcAIfCuVWaaPSFUL2k0bKnpjS\n",
       "CphfxQWhhRugO+hNlKk2va/qIKXY2AzbtKsCg4AScQAAADRBmzdJ4Q8mUwIT//3xAAue3Fj/yyY9\n",
       "4AWCc2XIXedoZlQEdYMiEakfxnUO7hy8JPomSDLgAAAAJUGfVUURPG8AyPBAL8SU9nIaAAOoLq49\n",
       "N5r+X8Lq37cA5AG+DjgAAAApAZ90dEX/APdmdAsQAJ2EfToO4eU0HtmmJgTXKTeqsj+zELmEEoHY\n",
       "wZ8AAAASAZ92akX/AHqq4sc/CYgFVGBAAAAAbUGbe0moQWiZTAhH//3hAEDgCNGoVAALD3m/Db/4\n",
       "MylwahcUwTCXbr8N7R8u3GBdpYOya135WOhHfrhZ96AiR8UGFgE1tboTPonlriZyxWheA1mnp1S1\n",
       "b2nBQdbCfXmyC828PecI5atFQeu2BhQAAAAWQZ+ZRREsbwLRjFKtYLTOrPnHauTKgQAAABkBn7h0\n",
       "Rf8AfzeBgA2nQWnP32U/a7rbx4b0AAAAIAGfumpF/wOFyiMoACAr+YiIEXG0cWAaYcatrekZd0Hr\n",
       "AAAAP0GbvkmoQWyZTAhH//3hAEL/a8A1e83t4Fzia7ezmh0+anj4iR73ZikWI9RZ5C8GhJDZTu0L\n",
       "DwNZV9g69Spx0wAAACJBn9xFFSxfA6DYxLIATSmHMghjA3UL5QI5SPGX6ch7FF3AAAAAHgGf/WpF\n",
       "/wcUQ5x27YY9oAD9dslo8CWBKadyxETFgQAAADVBm+BJqEFsmUwUTCP//eEAQwsq4sTHWA0AFomN\n",
       "qB+/3sO3LJpQ4nGbrm7sO0F+9gH+HKMh9wAAABIBnh9qRf8DnwUIiZnNSdGoRd0AAAA2QZoCSeEK\n",
       "UmUwUsI//eEAIdLv1MkthIBBbVRXAvdXSXO1IS+QffRVGr+izJiutyNWrgL/C2M/AAAAHQGeIWpF\n",
       "/wHJ9R8SkgBCPDJMgwzXQGiJ1+b/cRbQAAAAQUGaI0nhDomUwIR//eEAI90TYWrNVBoAh6ZqkZ7u\n",
       "V3NCn9oHUbXMxa1w0BORUzPXL8tUzWOhPj4pOwiiaCpw2xqQAAAAUEGaRUnhDyZTBRU8I//94QAi\n",
       "kAtByxAESRXnkY1hLYrf91cM/7umYwbJ2I9FD4Wq7H7RV5Zvnrb5qKcJGKV6ZNEEFoSquEd59mBw\n",
       "avkRG8XdAAAAHgGeZGpF/wHbfDYANTCiskpOV3Lp3kLKOr2i5DhswAAAADlBmmdJ4Q8mUwU8I//9\n",
       "4QAiqJnWYW/8iYSc0gAVJgK+hBtFXtP9tsA8aG1RZejk/rzeQuvJ+v+yCPkAAAAbAZ6GakX/Adqo\n",
       "7AAh5FZHq6A+YMvo74uVC9kPAAAAH0GaiEnhDyZTAhH//eEABHNIMt/p7sQpNWC+/JNERxUAAABA\n",
       "QZqqSeEPJlMFETwn//3xAAtQyii2V0AFs8r+rNM6qdY3dO9YXlYOwu9AqZBAmztG//C57tWQ9PLb\n",
       "sYUoTi0zcQAAACEBnslqRf8A8ef+hgA2eXmkKMpP6DiY5mqaendpLNFWKSEAAABSQZrNSeEPJlMC\n",
       "Ef/94QAST9rwBVjUSp18emEyewnBYR5wpdOF/B8ih4On+Jlr9eT6z/YTU0k9EMBPfRZZCc0lCnjI\n",
       "Pyxb7MThwiWjR9lpI9dZgQAAAB1BnutFETxfAPi0AKoGAD+V/wI+sX8iaB4VttYZ8AAAAB4Bnwxq\n",
       "Rf8A+LC99D8ABB/DRLLlCYWIlG4Wl/6yHrAAAABQQZsPSahBaJlMFPCf/fEAC57cUL5z0N7WFABt\n",
       "qp8PUK4EC8v+oAySaoqKavtfzGO3uxex57XLeSqFEb3nWEr1MKEc63RhYHwyME4X0r/xq2kAAAAg\n",
       "AZ8uakX/APdzMcgAXPN0yWuSUNlDe//vG65T8wtAiygAAAAyQZsxSeEKUmUwUsJ//fEABcymxczC\n",
       "s7TgBYI5QOPyJdCUqHqtWzId9o4FwngTGaYENWAAAAAZAZ9QakX/AHvF21+sQAhRWIblnrtLvXhM\n",
       "wQAAAFZBm1VJ4Q6JlMCE//3xAAX0kun+AOUTcUkYk5dwQzeD9GFe6GZi7ZvypduLNgPi83a9kDzv\n",
       "X/MKs9ML52XVKTCUMHoGa2EcV7eyienP+X4H+y1Oakh1QQAAACBBn3NFFTxvAGcn1kAG0pCBn2V/\n",
       "KHxrY7UFxzvZm00UUQAAAB0Bn5J0Rf8Afy3O3SAEIpYSGuncVGsgTZ6jiJDKgAAAABwBn5RqRf8A\n",
       "fX1CCaO++wAaeVmztRp+/J3nmGVAAAAAXkGbmUmoQWiZTAhH//3hAEDgF5RcXgAM8C0Eq/qOstLn\n",
       "RCDhk/gZ2X/GiFvxrnuJscKew3Lm4WAnMZBzdQbQi6GPRDciSo0R0/8SXpYNiiI5k5CDEVkbuHYB\n",
       "9rMzHHEAAAAYQZ+3RREsbwLRjFOk4b0d7vutFq8kEAUkAAAAIQGf1nRF/wCDDAQ6OQAhNRNo+SJ2\n",
       "B3lowuJJH5UxT5h6QAAAABABn9hqRf8Ditq/xbZJTCInAAAAX0Gb2kmoQWyZTAhP//3xACoxfzbQ\n",
       "AKATts5apdxrnZYINnFmbrcU68kX2LAfdKuGA+GtCun4rieFZhkHidwL04xF6as/Frfrj5AsqqoA\n",
       "a0Vzu53eHK6JdKiMYOijdUi4AAAAUUGb/knhClJlMCEf/eEAQvQKPqWYQPoA2f/ht/5DP1KOkWlj\n",
       "rpFlElJCgOHw/x/ZpMWe07R4Ibtl8nIxjzpcxxeA4uPF6DPUY6CXC2xJpuMFXQAAACdBnhxFNExv\n",
       "BXv9A6WU+AAmpTL/IjibIhUOokCWGQtNGDE1rytrLQUAAAApAZ47dEX/A41uIAEQIy4RWrd3IPxq\n",
       "C38Gph32O4uBPLrj+z3YfhJCQsAAAAAVAZ49akX/A6DeWkdgMQAGsm+jcHaDAAAAQkGaP0moQWiZ\n",
       "TAhP//3xABWBxQ/cH4AQ5oc9LXhhzPf8+8B+ue789enkvBKPcp5Ya2E2lcRcd0kIKVk890FYm+JQ\n",
       "8AAAAD5BmkJJ4QpSZTAhP/3xABYyn9vEvg3bS8pVJcAKg6DpzZLzNIAkBudcuDbOShIAsQX/HUkj\n",
       "qn939/T+eqxlQQAAACJBnmBFNExfAdthWXRPckAJjph+1Md5KnJLR0fKax9jIFixAAAAHQGegWpF\n",
       "/wHbaAFe+ACD57kXmyGqrrki2Sk62xAwAAAAN0GahUmoQWiZTAhP//3xABYXS5OABXwhiWGYw6At\n",
       "BEHP0i2Cd3pmsH0i9K72j3/PsR94L+woJnwAAAAhQZ6jRREsXwHbfRQAFrWPZbR9XyOSctC0hoRb\n",
       "BwN7VSm5AAAAHAGexGpF/wHZV7TBACCVtyzEyI3sUV8HzB9KrAgAAABoQZrISahBbJlMCEf//eEA\n",
       "IqiZ5mQDIi0n8A9jd+oEN+vT7pKqjLNJckiZVgw9Wk2ShxbTezPqLqDZYfpbMEZuiXc2ofPkfOem\n",
       "vnqea7/5J3DF/0Wx/sg9lVJ6Ly/mCs0qdK/B+L5aKkEAAAAuQZ7mRRUsXwHag8k6QctimIAa5MFv\n",
       "pzf2g4ZClxyGyd0gFxY1/22r9KNLGwQm4AAAABcBnwdqRf8A8zYeupOXQI2aAaWc1QJplQAAAEZB\n",
       "mwpJqEFsmUwUTCf//fEAC1xf0EtwA3NLvNCCuzKmCEf0ssVyFieqD+JzpfsFtgBNNonHzkyDGxRG\n",
       "+6ExTXp7oz7cWj1hAAAAIwGfKWpF/wDxziagANnmqXbFu6JnP07gWhGnLmfM5CARf1CxAAAAOUGb\n",
       "LUnhClJlMCE//fEAC5uk0oofANXy36HqfZ/tpRLlM/RncFjDovb3xl3WyNMq6wpSKbJB4n5n5wAA\n",
       "ACRBn0tFNExfAPiwu0BqPQAGxD8PaB9C+GMZuxaP2QIay35HrpgAAAAhAZ9sakX/APi1fFkAH1m6\n",
       "cicd0FXdFoWYvi3OvjV4NxLgAAAAVEGbb0moQWiZTBTwn/3xAAubpUo8rwA6BUzSkRJFtrCNU/H9\n",
       "BNgRRR0ZOmI+ZwU6F5UWL3ol9rW1qvJTkfFSyDiBh7EWixNr1D7OXGX/0K/Mij4FfQAAACoBn45q\n",
       "Rf8A+D0Pc95D5UAGgpNcf13E+KeketF3OGVUm+MDqaVOYBypYZUAAABIQZuSSeEKUmUwIT/98QAG\n",
       "J/puoF5aobUhTZRM/b1Qgtul2W+j7qzSqRmWPiFyaG1XCjhbbblxn0Ex0vSJpG+gqRxhi8dUDOtM\n",
       "AAAAJUGfsEU0TF8A6GQLw2jAwAbTaSJpjCQEX5XXSqb9kn9hmrQDHcEAAAAbAZ/RakX/AOg3/MXD\n",
       "jCkiSvUf1MGnUasYVbtXAAAAWEGb1UmoQWiZTAhP//3xAAX4gGvpABHvK/6KfoIT8zLUlJ3LCl0E\n",
       "ac+a0YE3w5/dBZTRIe6HPuCkKWTC7w/lppTCkEC9MNgDHPa5NBplXmk8Xp5rRqpNBn0AAAApQZ/z\n",
       "RREsXwDoiHn9+IIANWdPrlDsD4OeWdy9IsDhzMkZT7RnzqL0ZcAAAAAhAZ4UakX/AOg4A6mDRggA\n",
       "CWTHpjuGeJEdnV+ASjYllp+2AAAAREGaGEmoQWyZTAhP//3xAAX6BpW3PTqajEAK3El1SE7eSdNa\n",
       "emit0NQEqFFhWEhBbvdXJ2jPmlh6MdwwWeIk9/cVGHdBAAAAKkGeNkUVLF8A6Ih6anleGh6tgAIQ\n",
       "BNINkiWcAwjdqKpAhANFlzjLZkV8WAAAACIBnldqRf8A6DfRZ6VUcACC9CmyGNkcArTP9DYLqbRm\n",
       "Xc+AAAAAKEGaWUmoQWyZTAi/+lgAJNE7Rg5YACHkW0DL7cZwORdiaS4gRWWo7oEAABTqZYiCAAz/\n",
       "/vbsvgU1/Z/QlxEsxdpKcD4qpICAdzTAAAADAAB4HShe6DhKq9DAAB0Y+e2EgnvAAn4HJVNlx9Gt\n",
       "aHMIMVZFV4JhB+hDvza9Q3J1D1n2cQ+IHCAES6f6uXWCcpLKqmd6iUGlXuVn5ZO79DO8niVhIRo3\n",
       "u0Y4gUmt9iT2jf9g8C8b65sXio/L7bIkoV/h4hqtBp5wgng8A3+QvzUYzn00jAjcBgpYJYpU67VS\n",
       "teFS/gTcUvPKM9BLCUVOnhneI5N599Y0ZiT+ch2WmLL22XNgU8vPKWuWoeuH51RtNPBugRg2U3Vm\n",
       "krbkKpbZ5CNKIFDihkNKFZOHYOATNNvrruIQPxfCqe9i+Dx+UZ3OSwR5a/waA8FgMwMI1/JCjIAZ\n",
       "a0/eWAgYfYAmixnphIxKbC4+9fnxYwER5xHdM4OfYhvDqhcyQkMPGNpJGqkxg/3cXH/SCypDIZY3\n",
       "PcnDpMC1ENlLlvzE91jPRL/jpXdW3fNqwuhZNnMCi91gLWFlTuX0RPaV+IKjB4AL4GLYGSD6qsai\n",
       "SD6odgAfWfLdx1WkbKWeBTiMGaJm5tkAcVNC/Lx95HCC0k2j3LSRpSHdQliJUOWJ2wncEFF4Vp2R\n",
       "bvapLpNbU6Yz++3n/AAehgaHw7l/rdSXfdXRBfAvM/FphbdEH1RsEc4ZOChSN0+t7AM1qbf6fIpW\n",
       "aJRBHgZOjkg/Un4hi5a//w15xS5/1OT6CMogQAmBbocQmPMNFbrpIqUtw4+WvJND3mwXnW1DEbMd\n",
       "G13FwO5dsZrBTdZbJd+oYSZjOPpviWMpSx82usJtfZwxW4PEeGSTSS3cMSZsx2ihQzycCe4szkan\n",
       "kUErWOseqnv9CiBa5Q6DMYKqLRQELMYPlInPSRqdJXfXt262kxT1sLQHEYDkVnMCdZ/lUkj1UiFn\n",
       "Sz19Xzp1UsYN0FY3bJLPpccFBcfy9gzSeu2JgGgt3FEEUeaNXt6wUb4qj851GXfteugegjiazShZ\n",
       "KmIIx8PRkVxQFM/2MBuawJMM5UMLri68Ar94+vF1s0Mcu2BOuph6Pf4Syq8GrnjBq1H5dYVfzUGU\n",
       "eJWHzzgIObELS5qS9DZJkBCsaRdQVO7+2W53LQoHWB/Pfu2dtI3QGWMOD5keBH3lrIWIhsa+gIWr\n",
       "shZiS1S6mQ/PP2W/z6y1Nm5eetatrS8XvxQxjV7q3VffO+Xp/4gK9FMfDFTjC38U3UmZqZRBK5Fp\n",
       "lUgI2A83NKVf2x3spIPDI7ughc3fgeCXXNBRXyRHHnNKHdNZ6Qy1Kb/sAufE6F40OGxTyj9FoqK2\n",
       "jpHiCnBevNZa/hATmQV4umbJ9kTsVyleEZ6vSdI8bfa5J0QmOEAH18gJ9kalcSclQUTQL3IUqaQ0\n",
       "KitMOb2b88XqNN5Ls694R73qL2dEMxvUviUDTf/grX5VY93kR1rRhDko7YLZSS0XJzInkAPnzcjJ\n",
       "y+YqEnAD94ivqrVRPb08idTeMNrqr+xr0kyXTa1pVPLBF3y+b3FEZGGoiGXbG5XgSafNmG1V4uOX\n",
       "EBreW8mwTubaOUjB9qS3GoDL0FiFgaFtxIc7QfdOaN8WUndo4AuN8of1IfbXSCn1+vxXDXel9QQF\n",
       "ikAQD3OdrjGeZp5AVQ17Rnj/P9OlfkcgGknKg4RdoOmkuCFr6Q3996pImDwTdZqewBj9QZvoeW2i\n",
       "Mq7EWzHPxGbIJ6nybPXPLlpaXkWUYhLOFPQvJS+nRY/1s2rM8Kn9A4LaykOht/cYMQ1SecR3LjNP\n",
       "6Tc5P3GTbAmd4pWIa9YtXp6akwMv+9QErdk4JEsqnn9HxrHJmAI0y5wJg9zaC8TtobfuEdWbiUE5\n",
       "uuijTuDv/wjhcC7JUHh+99vn/97hD9MQktXmNnbXSuJKuy6AMaxhOEo+85n7F7w3XrFnW2BSqKew\n",
       "KAtdSdkna2uZbeOuRcDDYWh2aq50rdVw/u9pqQE38Mk7YMG/3ddBq4oOy1F2xc0DBwzb9majHD9O\n",
       "vO63YHRNb7irm5SxJSeLoS84hd29Isd6KpvzB+gQwALO9VbJ36AJpreoVGHEFsLcfZyYor0tN+SL\n",
       "kFxl06DoCOXcjnlfOTjY/dBuixKZu1KhhvZ6IKuODC5pjlBwXi9YqjvBZnCvmEyj6Otaz3/U/HTb\n",
       "Ks3bcNenixn9DaqMx5kV2qMXCVdPzR08PW5Fy8gQvSvv4642QthdrwfLs1m/5OCbpLntk1y9/+L/\n",
       "Kqe1QAAAXbjhdqCcarUOCY8X+p84GWci78VU8V7OJNa3rHFHE1gXf0X+qDFq7B7/PQ8jMotrSz4n\n",
       "trh1i4DhIKW7rB+QEn94y1YEpEbEWmY9l+lJqnm91N2i9fPzpgRvRLq1mTiKgCmE93smdm2WvNYS\n",
       "SArc7axTfrtfXL/ku2/RUDENqLol4KkXc3x/8LExlDgEne6rZvHhIEFbE3DOnahiEKU1564Gkf1o\n",
       "f5MgZSPzLnVR1zOLAx7o+c63XHKywcSNmjOgoGZ9mkcp0Jdn1BOcsukZJJ2ClwP9fNwgCwoin/p3\n",
       "7mYfWj0vPb23xJA6agNkzvSdHl/5uhZY8ZXvHglHaYH6Y4P7yWG3HFh9XCW1feCmTkZTYv1GzMtJ\n",
       "40SMsGAHAxJ/yq65WLpfGmD6OpwA8i9va6sXwWbTimB4HLKyMqG/5w78L9ir4h7x5gESHPI2mJ0F\n",
       "gvvKZV8ziqfXNA05Yo7yUGAixyxZZ5OKRwf94DPevoa6jCGPeDFXMBWPQylmRAuP/Nf1GBnzYK18\n",
       "E9Sbewq+39f/i+QgUDrEMWsi1xDtgaBQS3eSFEiSLI0zncfHtADa2ITmuN4Tia6mmA6Ak8yhNYRi\n",
       "g2FgfmX8VxMBhzLRL5xD5NJY/teeM/tfmzLPqvj+XKX7nf7EyDhh7qXsT+rsx5/QO1dmbdYte07p\n",
       "yqHgsZY/iNwnFyc3etFy4r+2W2ybX/Po9EDmN4VeZSezKNEZJipxU4+wHcdl+5JMwKcR5dv6Tj/w\n",
       "AwxS4Myh3q1IBLbmjiENxm44SPTtVwIfxIc+GTqLThaDNMeTfKyazeWc+/i7Ns62TZC3Who2Pa8s\n",
       "rijXi5aBZ6SXqCYXkU+1LGnYnUyeOI9AuanjE/PxptBc7X9u51xpqRx2fnu2jX6RulIa7ftzdN/Y\n",
       "DjklTpvifCT+G7GqaGc/48DuCwYx7w4SpzX+d+7gyTVgely/yzIUKEwOGbBMhpasYgxTcIa67L/4\n",
       "A/m4WXymWR/qvSb1jYkw1pWewLkdiETU2LmbsNKLD0tNvj3gNG9ZeXbhHHfpkbBzokZk0LgJ2ba2\n",
       "QzuQLZEkysUY3/Izn+cxTZtl4VdA9xxyKTqqL/yuWVIk8ykq7OxmNIn+wvjOz0T1IsQ+Nwm7tIBF\n",
       "f2hYxOx3w/r1xUtm0rZSiCm70nqYJ/BcfNpw0uVRdeX4xrq3mdh+jivmmlDs+3lvfQcMhQdXMICH\n",
       "LL462Ic3lFfHPntz9fDlbrjPWQe3ZeEy7Q2QLqKswq7o5j6syS/nard8JoS4MMs84hFTPXDsUSb4\n",
       "vvm7wSFHXyEW311Oj1H6jAk6CSBHUiMb0mgbDde3x1/R3daJ4CXoHXu5S5T25pf/mpKnFDzUXGs4\n",
       "SwGz3oTvFMNQUITGqEDj6sEPe6jJ1rMwAjeznD6E3eBZuYiqRa3HULFWMrqOW3uOhRL55YYXxojs\n",
       "Cft96s0WUczmHhY/TEooQvC37Rk8szJRj3M3l46/pqTnzJa+6i7I1RHROKkT+oUgFLFLhviiCPpw\n",
       "C3wGn74Y0PBTlvtGGNO5UeqnMLtsbeowNsj8odNz9zgypiqjwJha9+4OhffsMVCHvziRnkEp6v+O\n",
       "Xe1QMMftzTC4WpFf2ZwKNPR9ViVExWOYNq3G2NRFK0kzZhpIPpsSxR8mL6nR0J9hz3kEarro47Ky\n",
       "5sC2LMQ1oXmqgW/bRaxgX7M7LYxnPufUR8/TY1Xwgas7/GPE9QtJDvRpLwoqAZJWaqAShhVX2G4s\n",
       "f5eSr5LbJcWlKYdovvpVS6awhxe/ayISinu339/C2H7scjzGAELg/tavdvRVzLn8+PqBtP7Nd0dF\n",
       "JAR0vFLuS9sttVHAOY4tkP38CkX54LiGs2p3xTJ44LivXLrzE6Qpc63PiDa6+BAQgDS2nhyEGO3d\n",
       "JKIGwPVJg+9mTHqfbXZPcABrWi4oFqaOuN8Qy6V6YTbax2CsCfE8FHK741F0hWopeH96+MeyDAqu\n",
       "EEXJDNqR8nMK+88f6SJQ8tqUT5boyyI6PQebaw37FGRBmum9XdJysRKQKxxhsTzaznEni9Kfun9z\n",
       "sK0nk1UYgiRpk+lHCfJ4usj6GaBpyfSOcjglzQyByohaobrX2BJhyfblqsnvNY2Cb6yJdIy2dpa6\n",
       "SjVXtbitMM6fM5kdqS9zMWwT/pKbXlwsGWqo2tnFDMwe96UJNaUtvx1opItVYTCOVnJGwxC7149c\n",
       "XQ/SHFkOt+CxVX57uxJiOvFYgomgYNXqR9Vj5bYs8Zr8YOjy952imVV6R6sNUb2IKbIrkEA3lTOe\n",
       "ROBcChssm3RvdzP4RKta+DQeybelEODb3D3/rHXPEFGBSsYe+qnln0VT7ZKo8ntZYKEVlN7ZcHZ1\n",
       "5JKu4DJlrS38EWahPYEyJgyuIYVi1LPVjli4dtFtWZJiDPC2nDZZnYkQPbwmAqMuXPXAf6vMDGQO\n",
       "/uJDcd/YiSXVY79TANUNdMDGr4eppVoi9cdhti9FOXaV385Kz5HADh9XVkNDYB/pe14gqUp7spZe\n",
       "XWcngQ+SKQl/QNRTFyV+L1OP4tt26Wwk9w+37fDQLBWhfrhmsFsSl+Crf3t9LijJN7TH3ghjEBcX\n",
       "kD0vhCmi6JycT+Nbe1qThnZ3gj6DCNZhwsBwUvkU/7v7RkFcj8beNfv2+3jvbW4Uy3g44qil4cE8\n",
       "DyEngxJTu4epF9jho65zgjniJK2SHSdRB/SrqIr443DWCyxgWwRW1MtSdgXVN/DT9cTSiuZRHukT\n",
       "fg9NwH5RXbjNyEsCkGNLhGCNZ6z+/g/msiQ4UnPj6gV3EWNKpzVnUs8GRTMK0DrZJN6dSyIQwCUP\n",
       "YvlGNKPRSmj8kzv1ONlrNCvKmpaJjwm8W/lNQJiDpOB94zBk/1QF+lj+fwja5k3OZHuojFz9lJVy\n",
       "gmc3RYZASj4IQ35l2+rExnQuhCg81FTif9i2r/YHpznsuGYokjMo2/GE0odGFALPbpeJsUxa19cI\n",
       "bebB6j/XC4gmdA31QAcMxdaThN1PY2ysGrtzOy/3IxSCTXvhor+nSg1tvykppXC3BtIEvS0egZc9\n",
       "ilciUEGeLcW54518K/A0RossvtxSLNLi5yx5lIlTI7eXC/2KJ7h7+kN6hxAcb2lEiPKbXHacLjHu\n",
       "konsVr9UPeOcsrV07OJABIs1WdSBvvuvjgjpYea9KV60WNgd7scB6+sA3bVdA/+dB8waUfjY7A4C\n",
       "A9KHsz4EODu2Fip/AU8TzltfZC/cydkBT0Uldor0B8GQcbyLEbEfns/ehAhx7QqLyThFtOdMpDKF\n",
       "4Kho1hZY7yU6QZiQGnSepYrdBb4ULQXRxtPWs+vJ1+5Etq5uEQB+G4OZQU2EMWnCuprftVbVLDwa\n",
       "MiVsmLJFqDPA+SDIb0OMjdX3ZgyLqRKa/+GuhoesekLPw9edS3dplx+Sw4FhTJHy+UasVNuVH7ny\n",
       "NauCMNDz5U30saKgtY3OKMS4eUTRx1X8f99WfhXL+UAMUHncN2KYfZ+fabSEwigPYdyaO/T/VKJo\n",
       "h9qdWDWiiEbHBLJpEpYpiTpcza8wPLZKK+yqxfcAc7x54bzFcLL70SyUB79G6w7MifSBqZj0yRcQ\n",
       "HBBHRpFH0wmvR5UaPdtjCwIcxs5YLBwJ9WhdFpN0FocwFNv/NoqHTupruw05UYSUYwCXtw3KWeaF\n",
       "cguK8ZXhn2biDihQrVIqZafAZO+Kf2ckLtKK4HHZaWqS+jVkQoSTx8RYFFLGWmFnt5p439uKGHE6\n",
       "wASEKmAvyA+vH/hY3rC5uB2TBKtMBjcQ4+ZBM+DGRZkL5rw/bY94s/qsKws8Viv8mwUwnGd1eAys\n",
       "KEU5nKozENARj30dyTn5ZrTva+WW4GYnqLld/qO8Q0bx1GA193ZJqdm+LWD1F+PDJahExUgP+Y0/\n",
       "80KWy5gojyieA2pSRI9iyOGiTHhcvRDD7L8OUzDVTyL3Pez/0+IQBw0XIR00nZR/WFJFgDq/gGGJ\n",
       "+DKeEukOnd/DGwYMe9PYbPA2c6stNp3Zfln8k+zMRulTskS0Hh5hrnLDp9Mvjzq5EOXrpQahgbAz\n",
       "k8rgVteejyEKV5c0DOevLN2lyWhxsnXnMtVI1S5HwbeguKmqMaTGY882DEuIcXzNSd2CdyQunYMz\n",
       "9kIYOJ8ldfRvqiM+PxXIHMuBsYz713/4ntHujq6CKYcbxlZacgocCGe1eKGtnXh8IYhXSwb5ImdS\n",
       "SYh0isow5t34qT1H04fdX/HLorqm2L4ov0jdmppkES64U00KTVUQzmGb2hUfahsK3nlzI6dUjxDJ\n",
       "dZtl5L7O85FIYpVaMVh6Sm2yFbAN6AVB9m/9NoDYTOKjk5AeVF05hcCs49qKdbwVl49G/wWwg29C\n",
       "YtFjmEAgff8dMxou/12/9fX68an8jyI19IkqL43vSIuovZPdHLcmlvx6XN6ZRRrb0OeV/XXsM/id\n",
       "tDyqEUifvcBbWdldL5IIZ75p8Iqn70zVckHQ0ytSqUdZNRik2J7hLudwWQLPCq3ty79HuWFcgNqZ\n",
       "s299Q3tuRg8Z8nQq0mhQG+SITPKGhpWnFMfONVAVlW61XjsFnJUtmL3osm6vmHNI2vy6lkhYMWgH\n",
       "t+2u5qTh4YCc7nV6t/fKHZ3Vpb7PCINilcYGCdH5hyvqqcE6EaB8U5fkgt9iKlfiom80G1Lu8ido\n",
       "Vnl2dT5xNRG0bTDFNnSNSAJUZE2RT6Gz81YuuVXkjfQ7c/LGuDX5ft9CJaUkVG1Ujq3yO1Pf1DL3\n",
       "PZ0g4PAApxEPMjIl5XHmeiWDAfjHoYBfnWkEQoNkTVUeOcY/QTC4RRJYdGqfPPLVbd5MOcaQrY2n\n",
       "MGCaf8HYx3cx7Rp6ScwkJJiLp7v6z2OyOu/VivV3pCOUZ6rvVMJS5XkYqxcvXnZYP8BY5VAK32wl\n",
       "dXivYFrE1jC2cXFbtPTEsr/rgFTdN9wKL655SrOgHRbDoK1+rALyEYs10xgAAW8AAAD8QZokbEI/\n",
       "/eEEiyTKHLrWOSAWLMiLZ3AL0fx7D/ruQJBaDkKfVMaJBr5r4Wus6bG/gKA5zTQDsGK51/vf7/oG\n",
       "fV9oYOO0sBKJjqCSrqYNR49BQlLEPPD3qwRVqmWYzdra+6DgLIOtYbJpsmpXdohbI0b6hj6NpBPS\n",
       "aWo0nVaQcYCdyEOOAjjmN+mcF6OXTIoECovhXP1Y2GZh+hFLbwJWk3r27A72d1LzLSBQVUCnkETo\n",
       "D61LXePtP9wViFx7kbVT/CNA0og83vRhwMc2Ly9GI5pCCDBT4wy0nwQAip82BNl8OMC2upiBYCvJ\n",
       "gLtzKKJyJW4NaIOyERb/ZErBAAAAVUGeQniN/wiGIBTvqFaj+5Gpx40HH2HwAAADAEOcaI3TrRlh\n",
       "HZM0xgHn+8NMMaZIAIgLxT/vmZ7Djrdw+krxChD/TFVtE4VZ+8i05rwnW9pHW7Dr28EAAAA3AZ5h\n",
       "dEX/DB+gI8AtavwAAAMAAFRlUyxRpevAY4AEM+lA+aRttzfSF+cWVHuE0DE/VEfSVMjkfAAAAC4B\n",
       "nmNqRf8MEe8S6IkgBbuq7oJPzmL3AVp+NzEEHM0mhSR6tTH170UIuQOOhSInAAAAkEGaaEmoQWiZ\n",
       "TAj//IQA/F1zACZR2yFUvvScgaxBJAibFnoER8c/7ruD0Ep8PmCr4WkZ9xtA8jbiQdTyFPrSTZX1\n",
       "rb15AtEFiKhQQTzqP/Cej2k8yh5VkU37CMXSX3VxFDafX1xFXTodmHY9y+sI5tc1aRTwprMPzEV0\n",
       "x3bVklJ6bqwbU7TujrYdLt4tevQ4EAAAAE5BnoZFESxvCIYgFO+oVqP7kanHjQcBVTlUdd0rgLGP\n",
       "vyNgBNSnKQbvJSBVqzHwnKI7PCW88u7/6bSCH7uLn9hYJ1Zc3xyMNlD93lhrIEEAAAAiAZ6ldEX/\n",
       "AEWF/7UYASvjcMW9PaOTsoi0IRQ+BsIdSiltSQAAABUBnqdqRf8DdSN7qNAvCBvJid5wPWAAAABz\n",
       "QZqpSahBbJlMCP/8hAD86FWiQAcXc4I8q923f9m/T6eoSM1mdBr8/y38omyAd0NZrxxuG5T7oETH\n",
       "x66Gl+ihOgSK9zH0VD/ZVmVEvX9F35RSS5lmWW1RPDTUdXT+89vykkXR35pgVqvEadPQTZM7EJnh\n",
       "PwAAAHdBmspJ4QpSZTAj//yEAPy8iIAWCFxgKvd6dQ6OZs1oymZ6CmHddASmD0yWLMiy7GwQjcrq\n",
       "cXAvqcVyOvrCgsV2nQJjBQ1pihFImI46cZgnUHXukIwZcPImz3nkkrpI3AiiW3eENZzLaZVlzcGp\n",
       "9vkrGLb//Ehj4QAAAE5BmutJ4Q6JlMCEf/3hAEEy2TkdEgC/DDggUlrr0UnTsM8net2jzSmKmUpe\n",
       "xAE1M1c03aaWKG7XGJmR113PS8wONK9budLpMFLlMDmthkgAAABEQZsMSeEPJlMCEf/94QBBMtlh\n",
       "WABt3Ys+rMQ1mUse14g2v10HlZekBapzPTSZ9tImTFVXyf6pu6bpBWM/fGk2/+9EE4EAAAA8QZst\n",
       "SeEPJlMCEf/94QBDfjPVghDTm0uACXcXafrbu1jWyGIUWAxR/Zg11qUTk93q5p+AJdoJN0/44IeA\n",
       "AAAAQEGbT0nhDyZTBRE8J//98QAVgcTUohoAQWYegjGxFMbP9rnbKwpDYfSSyaMAQdJaY3Bb4btO\n",
       "1mz3/zjaM4LgXicAAAAsAZ9uakX/CrWAHJwodiXoFclsKaZlU8TetoB4GADYCZtTmGDfiSQ98MPA\n",
       "Yg8AAABPQZtySeEPJlMCE//98QAWzk+4ERu9LB6ZmACHtYUumD+B/hV2UkYcE/qYBIwc0l+ug/UL\n",
       "mBY1fMBJ+lLrbQLVO7/vQDVUlt6LFSpu+6UE4QAAADhBn5BFETxfCrWAHJwodiXoFclsKaZlU8Te\n",
       "tyMhP+6j/8EACcBkKiW7Z5KCTColRrU4WAatgJUi3QAAABgBn7FqRf8BycY0fgzbgOMSS7YNpz4E\n",
       "qpgAAABIQZu1SahBaJlMCEf//eEAIrISrcj3pIAlOJG5bp2fjLFsZXaiFbAMGM72dEq0MfXBCROI\n",
       "kuYvOwgyp2luWqeT1enW8jJOKAG9AAAAM0Gf00URLF8KtYAcnCh2JegVyWwppmVTxN6+a2PpABN8\n",
       "kiatP9Y5xOeU2JIbKB2AbOO6LwAAABoBn/RqRf8B1QH+su5f8ktNJa/uD9hifyNGwAAAAD5Bm/dJ\n",
       "qEFsmUwUTCf//fEACwmuTK2ZIo4hwAWeFPZQlYvAc0vtlh2QiAfywCdtSJZLU38qEgyoSkMv1VmQ\n",
       "aAAAACcBnhZqRf8KvvyBpmB7ImAAAAMAF8xozLy3SRJr3qDcMD9BN2jlNaEAAABhQZoaSeEKUmUw\n",
       "IR/94QARySue2Ce7uoUATSUWRZNyVj8egNAfv7TA7ntS+dltLGXhPMotMudFqBoNG7bLnUnOjtQg\n",
       "Jes/4GQbYERP2uXJi3icre5v3tpBEVBMmSZ/55kdhQAAADhBnjhFNExfCrWAHJwodiXoFclsKaZl\n",
       "U8TeNpbEDAB/OGt+azCYMkR1VH7Kg3yOei1oUImo46iDcQAAACEBnllqRf8A8isQTAAQ8jf+8bT5\n",
       "w12CqaFteJGmU7LeWUAAAABdQZpdSahBaJlMCEf//eEAEm91KxfacAPlbZGrGCnEV6yc/4ANPu8Z\n",
       "e+0LidESEqJLMvh5Pcs0oE3z9LM27VeKPEwVwqLvkWNkpZdbx9GDvOtceujspkI//yq429wTAAAA\n",
       "M0Gee0URLF8KtYAcnCh2JegVyWwppmVTxN436MsV7iQAf/QpsZ6m7FyNwxQdAC0s83UFBQAAAB8B\n",
       "npxqRf8A+LV8WQAhAz3MAtNkjAOvQUEdC6dfkEpAAAAAPUGankmoQWyZTAhH//3hA111V7qmkycu\n",
       "uGda77OYAReZYfHRYkFAyQ4ARtp000cLwCZfDqLapwitHPD8O0sAAABCQZqgSeEKUmUwUVLCf/3x\n",
       "AAXMdGlJbABx7PRApa8OXZvqPpxB6YhqMofxllUh5XWY/1PRwinKx4j0y1m1CiOiOjOBAAAAMwGe\n",
       "32pF/wno6m3eIfGs9Arkth6dKZu4WlCCgJOOktABs9JlmSRLUEl+zFauogrskAutgAAAADhBmsNJ\n",
       "4Q6JlMCE//3xAAX4gGf8ADjE3/S8rDCVG56HXpBpc91f9ER/nS2ew/9RgOKWga0ebGK93QAAADdB\n",
       "nuFFFTxfCejqbd4h8az0CuS2Hp0pm7hamxtrU2X/z2vstAB+hWbaYGIvxXE/GykzK64RYQ6ZAAAA\n",
       "JAGfAmpF/wD11YuTPhlACZBGdiBiyi/pmpHu1VxW1hHwkLGqygAAAEhBmwVJqEFomUwU8J/98QAF\n",
       "9i4siGLIVnAA/FOxRIPx5em76fRdO4sEP0lnmrAu8D/A1Riwr9vry8VGpgSdC3KOU09KfzS3/YMA\n",
       "AAA2AZ8kakX/CfCVw0MwPZEwAAADAiRVKzqvpdUDbDEX5lABcqm36D+GGEtLgxVO/hPSHQNsIULi\n",
       "AAAASkGbJ0nhClJlMFLCf/3xACt59fgfLmBEuxJY7IjWvjWYC5zHlj7UN487fXTla1XdW7oSlxxV\n",
       "mQcfhWSHUwTXSWWwJbh8pRn4+jlhAAAALwGfRmpF/wno6m3eIfGs9AvxAbqTqdFSZiBNU8+wKz3G\n",
       "AEBIFmSmjIy0mhGYAhqxAAAAVkGbS0nhDomUwIT//fEAK3n1+B8uYIFrozHZg0ObJvONcdkFBbEM\n",
       "n+PzfgfGtDE+nOhvEKlhzqkjwQKASg5A1vLNOrXBDJ8o6ug1AEAmgY5184n9HkLuAAAAOEGfaUUV\n",
       "PG8H25A5H1neCrLxJJ6s/nU6LNIWA2nMc0AA4DClB6dEwvs+WWFe4NpSZ/TIPVObMghYAAAAHwGf\n",
       "iHRF/wOeWUKfw4AEMVWTSmZpRIprSppyNLZUyUkAAAAhAZ+KakX/A6De9Xp4fAPZv0cDLxDgAbEX\n",
       "4R1oXGRdeY9IAAAASEGbj0moQWiZTAhP//3xACt59fgfLmJho2mnjqhCmpOuLU1buHsDcLG1oGtB\n",
       "cAs09fpbkRBYLRM9GOYRK44kToxFAykYf5wlHwAAAD5Bn61FESxvB9uQOR9Z3gqy8SSerP51OizS\n",
       "FgN9VbE5oADdc29FZBSmAVhi6LCuxh2YFIAulHIuRD2xQy7ScAAAAB0Bn8x0Rf8Dnll5N5ArU+1A\n",
       "A2m6qxPlpBLNIWIy4QAAABcBn85qRf8DoN71ezclp16WGBguIJzRMQAAAHZBm9NJqEFsmUwIR//9\n",
       "4QBDdXfwPlfN08GcFq9FBgQc/8KKGIP3st5SYGg/gIQnKsem0h3przMyyF/jm58GwaxDchLx4hUV\n",
       "Ci9o6weIqSRxVZHP800CTfA4wTxtEUqeYQI54wZGWn+BDzLKGxL4wzF9unbZeM+BAAAAOUGf8UUV\n",
       "LG8H25A5H1neCrLxJJ6s/nU6LJTaGIAA5T2vwn/EHjsUStsONIMm587gmgdJl9UtPVbBqQAAAB0B\n",
       "nhB0Rf8GmDHBX44TnSWi5sroFg3JYlppVhAPGAAAACkBnhJqRf8GlHtVVnNVwqmWlQd2AD8AXqrZ\n",
       "tF7W5UmsNbWYdFcWDIAqYAAAAGZBmhZJqEFsmUwIR//94QBDe1YkTITqWA1VxtDI7GIcxXqHzPef\n",
       "FHPl8hDXsRBwWZpzdnj6OtQFO4VJUo3125OCs7ycgxYaqO377MtNPHjGUeThS04W8cY1eejcnEbc\n",
       "RYKV4S35AUkAAAA0QZ40RRUsXwno6m3eIfGs9AvxAbqTqdBjRcpeIAE6IAQMgoSNMFAllI0xC383\n",
       "woiw23gH+AAAADEBnlVqRf8HD4AOTjUSqKQAP5u4UwegOnAw8VaUK+mv3Gph4m7JxzrTXXsj+m4T\n",
       "YBZQAAAAPUGaWEmoQWyZTBRMI//94QBFfjgAhoW52w+e7icwuC3L2rFa8ueC2cq+irmzeOfkk0df\n",
       "sTv1FixeDdQ5jH0AAAAxAZ53akX/CfCVw0MwPZEwBaBg1Ibc08ViKdaIkAANnFUIxDKAA2ypNNOZ\n",
       "ULyhoyKEnQAAAFRBmnpJ4QpSZTBSwj/94QBFe1YlYp8KQ7Dp5NPqrKo3RWIbFul6oggEr9HPml9X\n",
       "r75ZrUZQpITQXGiqaooQBI5jJjER9HE8lbhP9gXuZTx5SkGHKgcAAAA2AZ6ZakX/Cejqbd4h8az0\n",
       "C/EBupOp9RNPRiA2aC2WQAhJFxk5rahYMEB935ibDSkz+MdwkIMCAAAASEGanEnhDomUwUTCf/3x\n",
       "ACyZ9fgfLmJho2l2jRgg986omPOaJeBnOfQHZF1NTAtDLyvC6yxvynLZRvpkAEl7RbTuTTgGM9MW\n",
       "WAAAAC8BnrtqRf8J6Opt3iHxrPQiGVNZcqCGUxBpSyBzgZ6voANdgEiO8cLe7F4oqQDfgQAAAEdB\n",
       "mr9J4Q8mUwIR//3hAEV+NKsyKxvD7EUoc/gBXXj0xCzrsmXjw05aStvkRGa7ufOwND+xvrlb/pmr\n",
       "svy3Fa9njRi50oMNSAAAADdBnt1FETxfCejqbd4h8az0IhlTWXKgXCSUp4gAcRWiw98EgDMskOfW\n",
       "bOHvgVXsl/z6cZOAN9sCAAAAFgGe/mpF/wHaghJFpkXZXnVA3tbqGTcAAAA6QZrhSahBaJlMFPCf\n",
       "/fEACwlnsZXpicGqAEdnM6yDwh8aHR/5xYI2GDa9lYfPpJ74mb7Day58BPi2gAAAAC4BnwBqRf8J\n",
       "8JXDQzA9kTBbDgDUmeQ3PkzoIW6AEGdI5RGSSqEtQt3s/6Qb+o3pAAAARkGbBEnhClJlMCEf/eEA\n",
       "Em6JrbL9hgBEkP5ym8DHivv+88NjSJmUVbHA0g0/zRNYBvRDeE0jLp8eyvOWHCoA/A6ValwkT1kA\n",
       "AAA3QZ8iRTRMXwno6m3eIfGs9CIZU1lymcyGQpg5XAB/N3PcNwKPko4w/tKQsyuXFCQoa98xXbT0\n",
       "gAAAACABn0NqRf8A+DTy6/OABECgmOnx1OQAVRI2gyu2SDAccQAAAEJBm0dJqEFomUwIR//94QAR\n",
       "1EzrKvcJWbWgA49Y88v8hTSpXqD2/FcdqWqBpzz5Va/iEW8u0xIHwa82JCY6/Ff9QwoAAAA1QZ9l\n",
       "RREsXwno6m3eIfGs9CIZU1lymcyGG32cAEPIs1hZlT5mulTh6r024SxYMvk+xzzkBQUAAAAlAZ+G\n",
       "akX/APg8/ybwXsABKueMKTYu6ThGJO6BHcwq0IkTSX6zKwAAADlBm4lJqEFsmUwUTCP//eEACS0l\n",
       "f6AA4sdisvXKY4yHlRbj+MwyVNMiPzZOW1nq+WXO98/X95O8soAAAAAnAZ+oakX/CfCVw0MwPZEw\n",
       "Ww4A1JnkNz02YKuuKLr+Sw7FLwjDNKmAAAAAOkGbq0nhClJlMFLCP/3hAAkkVncr1YG7QALZrwt2\n",
       "Wq+8ay33VUmWzGlboN7RBIiqwj5NCozOAvgcPSEAAAAtAZ/KakX/Cejqbd4h8az0IhlTWXKZzIMk\n",
       "1vhOKLu3QAhQvuLjc5iCpIXiJBEwAAAAR0GbzEnhDomUwIT//fEBnMAxvLsI5ZRdakOZEsQBtSui\n",
       "finlkVkwHaMPF00t8YSeUtoZrDPNGND1K55b30dIg7VxTUg6jh1BAAAAQkGb70nhDyZTAhP//fEA\n",
       "BfSSpRwuAHQFwMDErWZEm7pE2PYivC/26kzU4HodhsU4ICtY/c/YNLd4NnkRllnvd3oM+AAAADBB\n",
       "ng1FETxfCUsybd4h8a1nQFMBeYBaRhkQA3XGWuLXm6Tu8M3otcA1RJWGXAcgyoEAAAAZAZ4uakX/\n",
       "AH7goZ9gAIMFQXIv3KGvzhj0gQAAAF1BmjFJqEFomUwU8J/98QADDri3AFWzhDzg8DUS819B4V9U\n",
       "kzjI8ZecxugW3v4Fp4pcjh5b8bPG/eLYIZjha6MwiV9AL8og0l3up6N+6QKh2fdVZrJKqiuyOfuD\n",
       "D0kAAAAvAZ5QakX/CVHP00MwPZIHyZ3/wwSMW75McyY5iIAM/WCNj8fxj91f4MlIAP64grcAAABW\n",
       "QZpVSeEKUmUwIT/98QADEIvQKvb9GAC/2hCCNpgUfYIFHov1wAZKAtpxw45vnzwtrdeJWBNh0Eg9\n",
       "0gFg5cYvNkAxBp0SiSlDkQwnhY8PI6e7hW5SpBwAAAA5QZ5zRTRMbwddXHK/Wd4KyB81aJVwCHGf\n",
       "HlABK1QXvfFJMXnpxJr8GFw327kwLzXC0Qn/VU9GQPmAAAAAKAGeknRF/wBBCLyQAIPmuIKRbO/X\n",
       "cc8ndzrhzMMlO2I+5Ojl/atkYsEAAAAZAZ6UakX/AEE1W1W/lF6v1wAIWhTgH3dxIwAAADZBmplJ\n",
       "qEFomUwIR//94QAE9YCwcshfMlbKaCIAmEU2XQ3FkjK2EQ2RqHdlWkUm/bKn30dwu4AAAAAxQZ63\n",
       "RREsbwddXHK/Wd4KyB81aJVwCJyADABbObet6c2LIqsUimn38j6HaS1zCL7iBwAAABIBntZ0Rf8A\n",
       "Q4aOYPGqakGTGBEAAAAbAZ7YakX/AEMohhkh46FYauADZydaClpIc0mZAAAAQkGa20moQWyZTBRM\n",
       "I//94QH7uqvdd2jYJ8G/Aee6gEHa1arn0bwwQ6/grZMbR7b+fHNWBR38tmRVUyVF2A1QRQ+xwAAA\n",
       "ACUBnvpqRf8Iwc/TQzBAMyQAI0gADYg1H2D63OJGK0eyc1cHSQvYAAAAN0Ga/UnhClJlMFLH//yE\n",
       "APxdcwBExfBg8m3GdVmnlz5kRKFZSK3njqfW87vdzdLhK5l7S7Z/wHkAAAAmAZ8cakX/CLsybd4h\n",
       "8+LF4cS1qB8EABs4zNFP7ZHw2qLreEFEk7wAAAA1QZseSeEOiZTAhH/94QGV0bvdWQxBQN0FggCM\n",
       "Bx9vlOHhBbwUUxm8dFJ4pWpibvxBBn2up44AAAAmQZs/SeEPJlMCEf/94QBBC01jnc5muAAuLn14\n",
       "v/vTq4CPVQbtNIEAAAA3QZtBSeEPJlMFETwj//3hACCS3PzPRHhwAtmsCfqjkuynrrAY3BDv/DcB\n",
       "GieqcSUcTDXOjXJNQAAAACUBn2BqRf8INPFXEjuvpe+VVNwCAEF29EsRqDLoWECE8KFL4athAAAA\n",
       "SkGbYknhDyZTAhH//eEBS9bIizZRRLVEggBa3OJrJ/UvNJkzPYJbUiMjRyCFTw0JJBDXqz/L9HP/\n",
       "Hunz7LvIXDSOyJHuiBxzQjF3AAAAPEGbhEnhDyZTBRE8I//94QAhuKG83oAcrn2b9B63y31hckwr\n",
       "iB5lLusbxDZOmrrU6bEO3auMO2eeJY34pgAAACMBn6NqRf8Hv4AXd+HWd7woANTnhXczZ11EmHJw\n",
       "w5WK0faygQAAAEBBm6VJ4Q8mUwIR//3hARLkmUOb6pLkdAJ3AhVX+cDIzW8Kl7bSvNRYaM7iXuxJ\n",
       "ocuBRJhc1OeEDsMvTOGG5cc7AAAAQEGbx0nhDyZTBRE8I//94QAimgWDlkL+qVKsAFw9N+14Qh2F\n",
       "0TP7zluC6yCeTr/lcn+oa3J7A++jqEOJoP+Tb6EAAAAgAZ/makX/AuitlD0HiemACHkQ0oTBEtwE\n",
       "nVU00RwcJUEAAABAQZvpSeEPJlMFPCP//eEAEVooBuMAHBVAftu4OlT+bGtGH1uF8bAEl7zkUjc0\n",
       "pVDE2gpwujJnm/Beia88jltB0AAAABkBnghqRf8C6K0FcO85KnypwwdBDRBiQiZJAAAARUGaC0nh\n",
       "DyZTBTwj//3hABFUTQ8yMAcocbETy4jOboQ1XQqaF4kTCmwhcQbCd4UzYA6OImbDklXyyezQCjuf\n",
       "yWgyAF5ReQAAACUBnipqRf8C6K0EnI9x5+ACHlkgUwrLP1wXoRHkVSQ5GscJsWPUAAAAVEGaLUnh\n",
       "DyZTBTwn//3xAAtiRmKbeAKY9XrIUzKVi4/pvqqfBA3HsR8vwcK5S5zgp9BoORABHt2GLlTuLX3S\n",
       "uyhn7y9pi90WyX1YJ7hm+qdrcDTHXwAAACYBnkxqRf8C6K0GauIkAIN8HpIE6Py9WgiRLnn0fAxX\n",
       "VpLHEt2iwAAAAEpBmlFJ4Q8mUwIR//3hABHnCNxngF/mwCpHMny3EiMBadKgn14LNTx1Beuin7ug\n",
       "IefrqsqbsYwF15mSJf8SuQFzJCMwN6HZ9dY9cQAAADNBnm9FETxvAkdCnaOhldndvl6A1QAOsKfc\n",
       "YW0C61qLIhTAdRVgFLghEnB7RP+Txdnd/dEAAAAgAZ6OdEX/APL75UAJqSNMlphQAz0LAwyCcHg5\n",
       "cYvOx1kAAAAhAZ6QakX/AHfrFmfd6RAB9pL4VLjMAAWyvLLLxb6O+LSlAAAAOEGak0moQWiZTBTw\n",
       "j/3hAAkp0DRAFaAGjWlNqQ+Nv4tQlOFHEdBxk98SSqTm/H5AQzpylrl6O78wAAAAJgGesmpF/wLo\n",
       "rOhcBIANmvpcUkiuJGL1mIjHseS5LGMZPxsVwcXAAAAALUGatUnhClJlMFLCP/3hAAkqJn6RADap\n",
       "EKCj1W95G2h6O5UD0SzCXGrAdQfEYQAAACABntRqRf8C6KznsztnroADYE5rotstRuOxNgHQC/Al\n",
       "QAAAAEJBmtdJ4Q6JlMFEwj/94QAJZoFg5ZMAAE+dfzMHLFuimCRiy+rY3vtiDlbiyxjkIux6HyBJ\n",
       "5/jWCKs6fkL6z9wNyygAAAAeAZ72akX/Auis6UvaoF20AB+u36y7A1C3NoJLs0ghAAAAQUGa+Unh\n",
       "DyZTBTwj//3hAASx/rOAG9QAp8s8WPU4TwpMJio7E7TJiO+TmQRqP/4gKfvwNEQtRl1WK5Ye33HO\n",
       "ZzaBAAAAIAGfGGpF/wLorNiCpkS4ANAu3bxcAT8jsyjumej7L35RAAAATEGbGknhDyZTAhP//fEA\n",
       "Avn1UIPFtYAh6+uqWKIi3Tp71nyguZIOJGOL5/7uyZRWZJZ9q1NKb5wwAWgIBiVgdIL4SH+o/ybX\n",
       "uS+x73QAAABHQZs9SeEPJlMCEf/94QAE1on7TgBHX99veKVXl/k80yZ0fcUdnKUZ6Ze8979IbYJ3\n",
       "tuh8ZJ5iJmwCIUTnvcuEp1/0C4tgM34AAAAqQZ9bRRE8XwLorNj/0oYAPwDuNd825BpONPflirKI\n",
       "Cr8LOqzHIkI4UobRAAAAIAGffGpF/wCCrs3rgATdHEufRMcGnTFbV3qfq0C+j/LgAAAAMEGbf0mo\n",
       "QWiZTBTwn/3xAAMPTKsHcAmvj2EwcEQlCn8KYwG3Pai4KV6UuIDS4iBPVgAAACABn55qRf8C6KzZ\n",
       "IJowAftG+b5FqFGnzzaRqA6CUw4nwQAAAD9Bm4JJ4QpSZTAhH/3hAD2+wuQV80K6s6nvDFRiS9hU\n",
       "5YX7Gn9Cdw7hZQaBe+1/qlwihA7V3037sqWnfAc0kkAAAAAfQZ+gRTRMXwLorNmgGEg8bAAQQySW\n",
       "b+g1J+780kIaLwAAACABn8FqRf8AQ3E3WACwPR/sjOjGEcgQFxienkOrtbLkEQAAAFFBm8RJqEFo\n",
       "mUwU8J/98QBu+Tq0bd74ggmgCrYDFH7eJlB7vNpnNtQdqH2yjVJCmOWtGbQKm21od7dyUi3SV5d7\n",
       "Py4P438vEVkvsjAZMIp88cAAAAAdAZ/jakX/Auis0KxEcH6mAAg7u2Y0qWljI4b6JcEAAABcQZvn\n",
       "SeEKUmUwIT/98QABmybSz/E1YAEdnE0IRPMTmMHVDrDirU2Kes8qJmkYR4i15j54IziSerJqkx1U\n",
       "Y6It4qyTS/CXN4/OLYqb7U85MxlGZtAGY1gP9Qb18i4AAAAmQZ4FRTRMXwLorNEP6I0kJAB+gq4+\n",
       "BOMJV/Evq37NIjQshxgePh0AAAAmAZ4makX/ACIyikigANw4n0NkAtfyE8APQVWVCSsdmFsMQ1hx\n",
       "zl0AAABFQZoqSahBaJlMCE///fEAAM3TKwxGAC8Y5mAFVbTkmg+BjhXEOzGMzPn8XTu+9pEoogLG\n",
       "mEWA4LV5W5SQX73vfeh4VJXEAAAAJ0GeSEURLF8C6KzMdmdVNLoAAhnscJTWSHx73E6VvGiyoTSs\n",
       "3gMkgAAAABwBnmlqRf8AEVeEgAGz1dkrkBt+MhBDL9TS5vqRAAAAYkGabEmoQWyZTBRMJ//98QAn\n",
       "yrJHhkFCNAWykek2l4KNDcuzSAaP5tdceX+wjWoM/tacVH+ACLpQVMGYm5FQ5zQ1erHAQfaU+xl1\n",
       "qSqjYJjBQJDUvHlQZ5YJfCgnHCac5RiwAAAAJgGei2pF/wLorMyrIcAEYacacCD/zXWpRCkp4u+7\n",
       "ODmUEzbf13i9AAAAUUGakEnhClJlMCE//fEAANLFxZJ6ZWtwAjVTZ7c9aFBI67vgKyAjBT2metPC\n",
       "D00DDVzznLEPY2w5/fiPfYTDUS0OfgjHvD+KNHTIyFmsyLPrgAAAADZBnq5FNExvAkdCdD2gGV2d\n",
       "6QK/qQ/H+AAhHM86LM8Z0dx1MFd/7MY91MBaM2LAYrbRgaVM/j0AAAAoAZ7NdEX/ABHSPWEPM/fA\n",
       "BsLPi4yjYIjXdYcdmho2JRHz9zkobgyNwQAAABkBns9qRf8ACTKrzzIoAA2ebwkd2BUmME4bAAAA\n",
       "MkGa1EmoQWiZTAhP//3xAABsH4spEPixrAE8Kg5M4xToknpR4mAUMq+BjUWbN0FfVJ0JAAAAEkGe\n",
       "8kURLG8CR0JyqMaJq/zQQAAAABsBnxF0Rf8ACTFhsAGwEdJC0hnc27O2kbxPNlAAAAAKAZ8TakX/\n",
       "AAAGBQAAAGRBmxhJqEFsmUwIR//94QA/E4soQAdAc1CRROqI7oU630l5WUB4u9KMCt0Cw/dWgd2r\n",
       "L+w7isvEYvVGVi9hb6H4cQG35APNsh45Ev4EQXwfLMy6reSBW8sLJrKSmS0ee7IlAHdAAAAAI0Gf\n",
       "NkUVLG8Cv1Pun714Rg0sNeZ++8YepVVABpMwPiM14hJwAAAAFgGfVXRF/wNwffIlvQeJdKbxwvzD\n",
       "BH0AAAAfAZ9XakX/A2nVoU0QAa4NCJ0hsr77ftvDg+H3uJUDpwAAADVBm1pJqEFsmUwUTCP//eEA\n",
       "QPQKpI0AEm+9QkJG1t20ZJdx+HFKOFkQCb1wPetK6sZ89YBvQQAAACIBn3lqRf8DivhsAH84Pq/9\n",
       "9y+LgUW/6J+mFF0J3atrIImAAAAAK0Gbe0nhClJlMCE//fEAFPGis4I1GW6ocz5wAF9b6hoiWHPW\n",
       "FOh/6DYgHzAAAABMQZudSeEOiZTBTRMJ//3xABWB0d9brAAtFTjHNrLPcRPX97N2XA95MCGkwt7F\n",
       "KM1MDQMWEITuCGCIidKVR0tMs/gtMu2yRwaSXMA9IQAAAB4Bn7xqRf8C6K2G800DqyrzbbzgBCgi\n",
       "bL3Ij6BwDugAAABYQZuhSeEPJlMCEf/94QA/NkBXc/AJpHcy5tCAErLVkwHhphvvjwfvhpr+8ijh\n",
       "a3IWoy9hA1XxS6VUoFPF1NNR/+pRI7gC+09Qzww2nstvLapjw7j2qlwN6AAAABhBn99FETxvAr+M\n",
       "VyUgy7VNeIu7mFEqJmEAAAAVAZ/+dEX/Ac2b5kACIAWrWF+w7AVcAAAAIAGf4GpF/wN1NogAQcgG\n",
       "X5Sw5xJYM9kl5Zzg6AN+Ym19AAAAR0Gb5EmoQWiZTAhH//3hAD9H8l436IAT4MYy5en6z0sV8bWs\n",
       "Id+JeMkiQNNZAsdNTWvha3gXW48cfmgl+jgWy7LKD4i0svLLAAAAI0GeAkURLF8DdT/RACFE9iLe\n",
       "vkQBMDHPmO7VNvwXWpKJjcqAAAAAGAGeI2pF/wNxBxwMQTn+/12ark2hZYH3IwAAAEdBmiZJqEFs\n",
       "mUwUTCP//eEAQPQLByyRiAY/3ZDKzMlXD/7X7cA9OmpAO6NrZaDRAgaAAPOcPo8uahyjdoFLskhB\n",
       "Zh8vtZxLPgAAABgBnkVqRf8DiPQlY1MKrk1Hdy5FK9MBRMEAAABDQZpISeEKUmUwUsI//eEAIJOE\n",
       "to+qMtiahJAFMW/T8MEkY9qX0zYtasHKRInwiSpzsypHJ+8JrfosBxOcR33nNdqHgQAAACABnmdq\n",
       "Rf8C6K12CB5tPPgAhmTlteGi9pmuHWQdq77GwAAAAEpBmmlJ4Q6JlMCEf/3hACHIt/0RR8AQeEZg\n",
       "Zpov+78ezMV0kfS16hyKyVXbeAw8gKvvy4ks2Alerzz6nPd2X2fZE7do35rn2j2qYAAAADZBmoxJ\n",
       "4Q8mUwIR//3hACG0YBN4QBxE9dcpJAXNUnc6/liPvRWfwGPYs3N+JauP1wG/6ARH9Q8AAAAiQZ6q\n",
       "RRE8XwLorYcTRgA+3tdwqmnTu1SjZYehi1FWKZI3oAAAABQBnstqRf8BzdFiGPDGauWM8BZvQQAA\n",
       "AERBms5JqEFomUwU8I/94QAi3RNXaLBmuJwAtCNbkcqTZ+kSe7ufm53DVVCU3Z/YD6QUPiy9HGRc\n",
       "ApQJxXvRAHVkkCqKaAAAACMBnu1qRf8C6K2Wu5T2ABs34urVSF8rQFdzQopDWtYN6gYyoQAAAEZB\n",
       "mvBJ4QpSZTBSwj/94QAi3RNr1o2H1AIAbKfsfqiL5h7yNLrueHs2IHosFqw5rGJm4KYaP/jmfx4v\n",
       "pq8bBApEl/zeh/7bAAAAGAGfD2pF/wLorQVwk7sKo6Fh680XUxVPgQAAADJBmxJJ4Q6JlMFEwn/9\n",
       "8QALCWkc49T6m6cAIwJ8FtFmsFeAFznJHeGoX/Dam/S0ZLtn+QAAACIBnzFqRf8C6K0EnImuFz8A\n",
       "EP9k2WX12WEH2EohXKQU80o2AAAAUEGbNUnhDyZTAhH//eEAEdon7TgBfgPIL5BUIwHEHH/RV/r3\n",
       "CCpVhKLElZn6PpjE+gMdam6CP7iv6M6FC2veaa3w67F3csMZzc7P7MXdJe7gAAAAJkGfU0URPF8C\n",
       "6K0G0GUogAQSSJo7NxgpoNG6ZuJqOy90KwDH2qmBAAAAIAGfdGpF/wDwA+xRKi2vgAIORPNGm1/+\n",
       "pA6261Ek172sAAAAP0Gbd0moQWiZTBTwn/3xAAtW3GKABPpQhEHvQD7fk/goTGmk1v1Exyh+e343\n",
       "ABLatBvrTbjuQqzgx71vS4FkrAAAACcBn5ZqRf8C6K0GqwjCiiAAIbNyBnwJrUnWwKWb18LwCCtM\n",
       "9tpWz4EAAAA2QZuaSeEKUmUwIR/94QAJJATXvIArUZpQINsM+mmUaoNI23qLEweorYVMlxq0j4c6\n",
       "PDEmxq7hAAAAJUGfuEU0TF8C6KzoPzWuuLB7wAmZNTn6ZoLEn9iM0CrZATtfsCEAAAAdAZ/ZakX/\n",
       "AHyD056QAhITMugqB4oGrFza3YI42TgAAABDQZvcSahBaJlMFPCP/eEACSlldooAUAUTIYik5b40\n",
       "T6SPf1TnDv+fJlib+OCsmESYAR7VBZjiwiU2w1oUYCDT8Cg0IAAAACABn/tqRf8C6KzoA0yJACA+\n",
       "zQtRwVmq9RadFkP6+T0UkQAAAD5Bm/5J4QpSZTBSwn/98QAF9jODDTXm0AXuDPvuCpMoPR2Xcb9o\n",
       "ayDjz7iF1DaA8LwhS1p6louPRF46txtZxwAAACQBnh1qRf8C6KzpP6jQnMAEPpVQvPhzsBbk6wGZ\n",
       "Q1sAALlxCggAAABQQZoCSeEOiZTAhH/94QAEsffMHpiVSoAKkvhm0NAALPpWSsRRoK6TRNFhKW/0\n",
       "1Zvwnw9BDvTV3q35nHbbsCPz/ArqY3AmXPNXNobPQO6gBn0AAAAqQZ4gRRU8bwJHQnyUZwG+fAAI\n",
       "C+En0HN9filt6lPjXw5HoQW9urNSFEsvAAAAHAGeX3RF/wA/nDHABC9yRbQCAre9/HyGEcK+K1MA\n",
       "AAAfAZ5BakX/AD61clQ4sACGfpJ2lzEc1DpzNQJjw9SzjwAAADlBmkNJqEFomUwIR//94QAEshqR\n",
       "OqdIAS7V42MPveHugdHMXLCYOnnrHKHsTu0NTA6F58/5qBltY9oAAABTQZpmSeEKUmUwIR/94QAE\n",
       "1kpSEnsAhVkESjFa8nqu6R9M+FuWVld4xGGpTZ6eMx1yLPHow9lE8/nmmTd/0o7PKHdOHPzQLEAU\n",
       "vFN57JimVmRtDKkAAAAnQZ6ERTRMXwLorNkCc0MALWoaLKFI2G41NLRNHJZykueatgW8dqkgAAAA\n",
       "IAGepWpF/wBBKG7MEALbWl4lMg3pS6+TBe4o+pILAqmBAAAAREGap0moQWiZTAhP//3xAAMQp3Fl\n",
       "5zwCEQ0lCGwyN0eig01kcuy8ZbxMKOQlX/FiCIcaOPd5310SKpq6XwJC6moVOpvxAAAASUGayknh\n",
       "ClJlMCE//fEAAyfprl0gy7AMpljuILO1giOyb4FGoKBqAUneM2YNpjrc/rT/uj+LNwRGAiCCLq57\n",
       "l6DFpu293AxMdMAAAAAmQZ7oRTRMXwLorNmQ9aihBW+aSB7UKAAbiVIBmXAmnE39hVstUEAAAAAg\n",
       "AZ8JakX/AEKDIuU01IANgJm1O8g9Si/lw58ksdjkFSUAAABHQZsOSahBaJlMCE///fEAAZsoq/fJ\n",
       "6tM9YArU5p6Ob4MRgRFDLtJxqNgPYZrL2uBtVtf+ZUc3d5olXZ7chYjto2zP0cCpJtQAAAAyQZ8s\n",
       "RREsbwJHQndWEToirYHj8AC+Ez6v67zAkx1Bl0WJZLPts2HDgc6UYv8LP2Vi7oEAAAAjAZ9LdEX/\n",
       "AEKDJbAE/62DAYAQ7X5xUGWO4lb/0xBnRoTmJKwAAAAcAZ9NakX/AEKDJ0SsXrYAQ4Z+C4kkamsO\n",
       "T+GSpwAAAEZBm1BJqEFsmUwUTCf//fEAKQ0f1GACPeVDJoAMJh3+FXzrG7Eojy+pIuj3zHqYRHnW\n",
       "m1ewINUks/53JYXitjM4Uz5OAJuBAAAAIwGfb2pF/wN1NogAQ0IUyEerCgOX1v8YP2a1KyuEujmS\n",
       "wDUhAAAAVkGbdEnhClJlMCE//fEAKhudLZmryYG91nJoSyAF1HOBk1bPP470QaU9ESidL1UNW3gy\n",
       "4/UFFw1/7vxXSWgD0GqyC/N1mshp0u8x8xW+lnTCBTexvvJnAAAAKUGfkkU0TG8C0Yf87YABECUi\n",
       "j1OpXaUdS6Rm0e9gauf0HnuJ2qT9lgYsAAAAIgGfsXRF/wcS6lezVkCggF0u1zeTPvWoAG05w1Bt\n",
       "nnzlBWwAAAAdAZ+zakX/Bw3n+TtTLFN8VqwnZfMAEPFld4M4DjkAAAA4QZu4SahBaJlMCEf//eEA\n",
       "ILRQLeYAh7nu8ZmtgV6dpwb7NsTvRSIh4b7IdDlwYejLNUsHv2mvAb8AAAAhQZ/WRREsbwJHQt+M\n",
       "8rHPCuAAIDNU7eW6S0QL+eJsGgGVAAAAHAGf9XRF/wHDX5x5GoAIZF6AW8RwTOdOGauwFfEAAAAM\n",
       "AZ/3akX/AcSCpgdNAAAAQEGb+kmoQWyZTBRMI//94QA/OjERngCtrSWcu0aWWhH8Q8xfdzsBBl7j\n",
       "P+GSIYnmZFZmkil8eo6rJOBaVU2Y5RcAAAAiAZ4ZakX/BuZGcLs2IAQjwoWCk2iiZRWp0dTjT6sx\n",
       "GWDZgAAAAEBBmhxJ4QpSZTBSwj/94QA/G8pAF+GG109AvtCWAsURnepSwlFWuMriqqugXMHP4CAS\n",
       "CpKLK64A/1s3yIfM2lbAAAAAJgGeO2pF/wboTgUyArAwDiBjkTy9eLIABNCMa+ppt4RveOmZ0HTB\n",
       "AAAAK0GaPknhDomUwUTCP/3hAD9hz+rz/SZcAaTPCB2/X0jHzqlDvqP+zzcw+4AAAAAgAZ5dakX/\n",
       "A3YzBQAEIKU805Eh8EPhTowFLnS/rug8ccAAAAAyQZpASeEPJlMFPCP//eEAIKDIoALW5xRtrIhy\n",
       "MwJbLh7MBBDdzf/xSFjQ/CVwvVl8YUEAAAAdAZ5/akX/AuiteP7BbYAIdv0IgBmiNC41Yw3g44AA\n",
       "AAA6QZphSeEPJlMCEf/94QAgkYbh70IAALf74vrTgs7uStdXJWwA5hb/bP3SIAC4WRr/TOntZYBO\n",
       "D3RFwQAAAD5BmoJJ4Q8mUwIR//3hACCQC0JV6ADdd479oZv3dmtNhK7WwTaqtnJz0F8WX4Cb3R5H\n",
       "IE2ERotpZ2SwJVexDwAAAE5BmqRJ4Q8mUwURPCP//eEAIZAMCEzH4s0OAF2KAdf3kJj/97duG4/P\n",
       "xnHy8gOaOa5XNOuAhbwieeA+ZAvObuW25prxp9ZtFA4l5bE5hcwAAAAbAZ7DakX/AuitcDP4lSWE\n",
       "gn0oaz0rObkgyLu7AAAAREGaxknhDyZTBTwj//3hACG0M/xgBa0SI8vqLIKdszktjQQX0w87g8FO\n",
       "R1aGncsrxfIeBBFHnG+mRf6zMkAgdX2szRlQAAAAHAGe5WpF/wLorX67G++gBBsxV6tzWu1gtf0r\n",
       "BvUAAABFQZroSeEPJlMFPCP//eEAIZFlNflbgABs8FJJE4BaAmCItYu5d7GAUx3hYhzoJp+Z/62E\n",
       "UCbZxD+thWHRbCD3CTYzYNSBAAAAHwGfB2pF/wLorYX63ABs86bVxQP1NxNOA6Ij9VXP8ooAAAA+\n",
       "QZsLSeEPJlMCEf/94QARR/qchRAAXQN+qpRgk4N8C7BVcRlem4VOQUooVLgY8hFB4dYIt2h3Gnc2\n",
       "XxU9ZWoAAAAbQZ8pRRE8XwLorQVwkrBveEjvY7iAZUCmEy0RAAAAIwGfSmpF/wDtw8aAEHCNdCKY\n",
       "nkwId0/+PPn2L5wWR+J+rtmAAAAAMUGbTUmoQWiZTBTwj/3hABFIrO5XpevLAEPdIu+VwM9h0L8k\n",
       "YxxfTbB9KkFS8h+yGrEAAAAaAZ9sakX/AuitBRKxEgBCN9K1ZsxYRxkLEPAAAABIQZtuSeEKUmUw\n",
       "IT/98QALDTb4ANpwokXXfbHx09UygEIY/jVuR3mqzbNpG0K5uIDlGdDl5TIYN6Kue/fSvXy+mOqM\n",
       "XUP+fBX1AAAAZUGbkknhDomUwIT//fEAC1ZGfXhyjF2vgByu2Nlbm/mYChCuKEBwlRrRlA746u03\n",
       "cMfYjSyroydiIDcQuTdiTgxK4Q88MvO6ItE1A5VvlGjhT4up1NRyv50eckqbkP+CJx1pADZhAAAA\n",
       "NUGfsEURPG8CR0KdonVhI6YZ/C/SHm4AIEQ3AnWdQnBduuhyuP4oasTBVZFX5LA+R8VCH4NTAAAA\n",
       "JQGfz3RF/wDzNeRl1hfAAQ8jthGfodQw/t9hazmGh267wFriSsEAAAAiAZ/RakX/AHi8K0tEQAAb\n",
       "SmZzedYHqBdodKFL7QOibrMJ2AAAAE1Bm9ZJqEFomUwIR//94QAJLLnoTFACgAjdHmRXFk44VNvR\n",
       "W9ngA9ULbmH/onL1CzEjTeoT2qJVe4UJjbO06uM4Gx4Tfjn3VUhcvtDwgAAAACxBn/RFESxvAkdC\n",
       "h+2OAAG02e83B3YB5PjFvgtT3h2RHXhcMMEzCHRpj5C7gQAAABQBnhN0Rf8AfGpVPcj1D4h25ZDP\n",
       "gAAAACABnhVqRf8Aer1HjJAAg+2g59Xlj9raDPq7FG/CqZIZDwAAADNBmhhJqEFsmUwUTCP//eEA\n",
       "Pf0X+4gBQBje3kWh81+h5ANWS070a/2pEFc6d2fwp/CzQg8AAAAcAZ43akX/A1x/6IABsMHllfBd\n",
       "S6/gHr5p0rIlYQAAACVBmjlJ4QpSZTAi//pYAO56ZJcwAmhS3bLWkZn29XHQUQ2NH9NxAAATdmWI\n",
       "hAAv//72rvzLK0cLlS4dWXuzUfLoSXL9iDB9aAAAAwAA1WnlBlKTViO+gAAeSGnthIJkwANnuduC\n",
       "H7TN35hYj5KNiq8Ewg/Qh2INeobk6h6z7OIfEC5qCJdP9XLrA+Dnh5pK9RKDSr3KQh17c5QzvJ4l\n",
       "XqQqzzaJ2IFJrfWE9o3/YItXJB82F4qPzBeyJKFf4eIarQacyFFZXUHjI7PpGE5A8g5jR+HlRxHv\n",
       "NA4GnJpQE2Xnx4EfJIEJwl4+1bII4xqFAgpLa1CIP16KmSJXPzBqWS9l55S1y1D1w/Mi7UbtQXJY\n",
       "g4gz2TdTtjBA+ZTeARAob/ggnAdBw0hwCZpt9dedNf+L4VT3sXwd5uQir7GGqVDUy9Pj+MQWly5B\n",
       "3LcDlBYgVR8T5js8WsTueDIewMYdLVNMdA3dxzkxxoT41tgfe/IIlNxfysUL4OYi09mUekpTQEBy\n",
       "E2t0AW2ttX7TUAfegghnF6sSSUxtuhIcW/RZ+SEyjxeHZR+0nC7AtYG4srVLZ6TOsYM1Cd+wby0e\n",
       "q86R3+Boq0ij/ushy4CBGM1ybf1BDMdM3vlz5J5HobvasAACxXAj/d3TrTVPdRFFTAdh6EpX5mEN\n",
       "9MQEgQ324ertFHj9ZzTGJxVwY8CIw1m3q6AHCj5mx9sgQokU5h31y7xS7qV2Uzg4nO5ygfP0ecdR\n",
       "nUTnDMCup4VbZ1RGb6cAiJZOnpB8TiaD10QPFFxNrJm7WvkjNIJg0asaQo4J4UX9koS7WFKiYpoe\n",
       "veln6wfOEmvXkPQGlmRXsF8KeAj1plEjRQVz90FGtpUeVDDLPrg6LugVnIhXOEeo/DTzy1Xw0zCO\n",
       "LeG/wSZdijkznH+S7BlZXPWxnjGhrpza3JvqDfRqkWC1E4AZcX7CzKFX7cN4P3typv6PqEuLd8/4\n",
       "WIIlIh7Kuzj2ppSNHjerr2ZUn8K3FrvsBwhqhHC+aTPQA1aoTgmH41ij3SNOYgQTaaOUr8PRHLDz\n",
       "WQcgNIfvW2o6e4YQsizUfZ/ofaqx8GvRuD8jUHwTc3WFFErbF8yl7XknCUUAJG6/Iz9nx6GKl8hP\n",
       "UDOMso1vbpIgIvwLl++c3O9FzMSf23Qs/Pt7ajYaY3+bma7KSZT8zG/SDpXkSS7Vl5L6XHYX8yRu\n",
       "QXq+m2e7IOqMT9SkJk3XD769BEtxiTyF9KrNdbNAZCDIxSEVRsHXMN2pTP4gI3DUCk46vBJ84U/n\n",
       "8zBc7+RxxFg+woSehazTXFT0zUYWRPrFJwuVlacBx9Gwg+zDGmSLroFIgyvuoM4TuheqZlAI6yuj\n",
       "lv1YOVJBLMon/d6eYC8wgXtx+mDXmu0u3d0GzwDhTP4dr54DBpkozlzRGNyO7figXcRCm29PInU3\n",
       "ob/wm4+jj+2E1StaVTywRB6t+OoR8a1cAsL1CQC8CTT5sAbwUMrZif+6D90F5YOpX61UsWEv13eQ\n",
       "LwQDCgaFtxIc4b8DXRt5DPSkVEB3VWMwCX/IPNy7mZT5NN/ysXEY5fyeabbuKPfE7nyNNg7Lios7\n",
       "5ZB/ZKkgYev2KuO8L8ycIAAAJ43IrmZrSSceQXPrmyy7/FvJmt1W4fy3CWAD//NnraJPoWeb8Jx4\n",
       "J4EYMDMf2Rw9JL7etWhCkVAgCVWrhOTXE/EMSljQiJiDiVXArTu9yOxmxQ+xHhuaoOeNlbkdungV\n",
       "qia0pg5oPBWcKkAfWkYzGNeX3BsxwLQZd2gg+5Jgbp2zT/w3DCbbzrOtCUZMtzbJZx6InvFQXgh4\n",
       "RWhC2X7ZaBNwnoFpXXopeBHJts6+/kL/88BPRV24+RWZpQMgkkNZ5XnWRIUwAiKpwnV7kZyivIwk\n",
       "mZDL8VkruKN/ofTLzTezCph1PcQBb+cfcnqCv38LS/tKPMmv8tCrShwYRSn2w/5x5WLTIYk0IHUs\n",
       "G7Vovlq5FSxiMNE4Ckxa6nZMQ+Zl0jJHfL4b64Be4bWxagAuMdAXsS8qFdxz0WP+DCqL96cIG33F\n",
       "fH0NFsttivm1ODdNufYW+0YnejJ4QcYJf9z1BjFvzYmpgR4vPEXwGFXLxAdg3O9jLJ2mn7XNFCWj\n",
       "g6UxVBb/rPKAAAAgxd4ziRhjgA2n20Jghe2BWQns9AQE8NDgMO925NEKjMa9QGixbjAJyUIENpVU\n",
       "IecB22yXMJr0sxOft0vv8D2iu+A2pa8oyEX/9HqrJ419SGqY0kB1zNePX0XfgDaj85Lp16otEOsc\n",
       "FSmIDyb4V7dKqhO9AMFsK1aezHHpZlFkrWfdm0ITRfI1WTZiKbMPn2vY9MfsKlgNbM4nPu/OFVAf\n",
       "SCmmVlp+Eoc3nEcHj+RFdAcP2+ph5BUzD60ep6T+ZIHY4Llty7JxEJAD/m6Fljxle7mYZ9p+Ydzo\n",
       "Gyq/Aiz2SFXp684HbgzeLtDCTQLLjiThmQAHzG7epoEAUyoW1a0S4RMCwWzxL8qfb5CfO7FPEgXX\n",
       "i7WbRgCAITIW1+iC0lJffAF3sViIcNvAJ1MrqMS2hxoPLZSbRMBaQalsC28PE3RDihvJF1U8WKU4\n",
       "TLy7bRTELIL58EX70us0SNwQGf6a2NdJovQqxbW1jBIWnnvQ+B6p+iV2yKPRJLPTf8ny7aX0N0SH\n",
       "3SLtNvuD2DAa4reET9J44vM6/+TH/yJOX6rgQMbXUm0m8rgdE3coDm4BEn/CZ0ExA7IhVHDTHPIp\n",
       "Rl7dEcWDOTom3rTeqwCjCABbb/Vv1ikNF6oBNH7br7TXMmmqZWIH3B9M8PVmaVY0UUXrjQjIHlcr\n",
       "ZlKRpDvAg9Y7Z6QLFExLmuGGokNpbS94jbQUeVqBo0dhmkEkcg1dNubmh2iWwlo2Ns+BSA/54JOb\n",
       "52MhU7TBqqrMwn+5HQMS2FH9kTtqKHstRo1Xe61+WqwDgjmm4zaoYts4d47/A1VX3kfq4vnIoykk\n",
       "iW8vPSGnFAHdE2qbkHSSi1K2GC7RXgODH0nRF8Fny/qKkgjXHw6XIUOcqx+wvjOz0T1Jsp8bhN3a\n",
       "QCK/2UZ9BhGdB+4cLZtgdj+gpu9J6yZFl7gFy+Gu+YlCp3RFP9aTGKrkHY8WZ3N5ZVdD/pqKZ20y\n",
       "Oh12WOrQZJZNue/jXb61sYz7OD7IyjIseLPYXYl3bqBve4FxIpSDuAuHx1CJWyDmPku5n7OW/msL\n",
       "LLa3lNlBnUtQedZiZ4k6LYZ+encXoLLeEu4+7N/1c60bT9jjrO8oUViCE8hCCcaRI78NhgXSOmS+\n",
       "KnOdXEkx4OPFH/gVJKQBhOR8kuNj58CueCdbldglHtoo19EGKx0GE5raCcLns3Io3vJPns06aHW1\n",
       "TxJKjM7C4Csc4G9ZJlqmlyUvKe+HHnfmeQtxqpQAoNqxOiK1nwyivAfKOg4G4qL4ByzcGwZkMTnm\n",
       "vmXTmvDetbg77X7O2Jf7pUWe30WCw/5qqNxeQLOftMS8hOZjbA+hHw83q3U8NWTdArLJF3U0uir/\n",
       "DyYdO2Z0CNNg6zaLSrTa1TnL7Q6TMcSBYPG1QImLDzfeYsYjuWC+nIHUAKNC/pb5sHIRt2HhjMDO\n",
       "n7g9kR60AXSqwF1qAgGvLcogrp8TOaDR2h+PyRxT6sHmwnZpcsq4I3+lDty1/r44nHco18lfhXtj\n",
       "RKWO3e5+nbZju3h/w4T5+bS1ACs8Zp65iOkyRUeu3SrJ5XDHNb3tqSHhyO8j2plaISxdiuxe0RoT\n",
       "4hH5GwDHYk5rPebuvC3NtGaIOi9bapr5ngExy2T6aLVG1ez0XmsWu7fQ5AGwMu2jl+OxVYRcNcUq\n",
       "Mqr1rRvAHVXEr8K0wUrDPOurewV+HrMoWguMf+fmbFqM7RT15vHmD86NzXZTYw7iDXG/b/t12xkp\n",
       "qv5bfJNgHW7D2CAn8g+vGldo6u/6PWgY4tfDhR3Mp2+XE3caEszuI95xKGt/gNXJSzGAGkm7dHVs\n",
       "rXmSimKkuAa9lmgDFlPJR87LbMH/Y69Vd+j025JJMnL0ewJdq5IslUUSsS2Lt5/SFbX+03AAUEwY\n",
       "1x3cID4pWYrIGU0hcgJWqrxTcGfbaqN7Ad4d8dfg38XlEufSAS47qpcMPlC3ICup2StnW2gJVnGc\n",
       "2LvhXqdS8VGb6WSpFaDpACaG6wBnn0aHxFtJ+78PFkUiuHHFPYYDjI113ZKyHxD+2q4nw+XSGIxO\n",
       "J8P82OgCRuJo4Zn8mYN0dpcCq/AO+Oy6tuAxQ2xCbLQhQ1W4aSY2Fm2P0wT+RbI1fD1NI5QfU6l9\n",
       "7yjVR2wr+AT7ds9+AAGMC6Y3FbpFuxC0lUmh/0ckYhcUrlaUhL+gaimLkQ9prA5QEZ26CXDLVb1C\n",
       "rPtmBODfrhmsFsSl+BKH7Te+BY4eYTkMVQxiArhyB6XwhTRdE4vwvBJGT1Jwzl1kR8jhobEAsBwU\n",
       "zhRY2Q5ogoPL8aZxfJu+8GFx/z25bwccVRULBYelfJx83JTu4eQf+m7jX7cuXQuG/cXTcul3GQ81\n",
       "r+KTuIXL2g5ION1VKXTA0yPoIjfVH64mlFcvBmScoWgHDjQlq16VoPvA4JGlwjthK9RBfwfzWTHL\n",
       "KTnx9QR9l6JBC6wvicFCQPrsb59f/p1HZBy1cLIeU+0SLCZC9PuO/SXQGGfVmh5qyalomPCHMCCN\n",
       "dwmM5yXCN+ZBk/0y19/9dcmLXsSVbLG3SCrGQlQd18l1GpEWHxT1MzDbWPZlflm3va9/asuIfkSb\n",
       "GPnNqZ/Dk6w0RbnDf/Z8aFRu114QEdCmXZHJVH4O8p+n3E4Q7dRkpTVYDbCBxdaThN1PZjRlQYv8\n",
       "10tBBxTd9V1QS8RbROL4UKTvmFDasGIYj8Y9Q/yuS5CmBv403DH2Q4T7ymcgk1Rp2W/hpFmlxc5Y\n",
       "/A5XSp4nIA8uRMqIfF4D6wZFAmIr0jYC3IcPJ5jAnuxs0t/y487hqDjuk84BEXX43LAZB02/eFN9\n",
       "7rxMvUyYn2dU3LdHKT+BUBbVIl7lWNbdkPW4XxkyzLEpQ1B0ZDTMm5uJWFuGvs+NXMyvkZMtPxJr\n",
       "/4vadD/ZNCiEh9H0aTWnB29nmZErqphswnmCj7ZsFtgXT8W0imipJDmSSV+GNfPaqXfPzDaNrX2x\n",
       "LDznSe10NYY4aAFE0XKWbAZ/YyYSfHsHrAEeK+UtOULb4ztTuObxWgWjRdJ7wmderq5BTkNH8vMQ\n",
       "+ighn+LmGnZl+coasZEHf6QelWGJ27FkvvcmPMcNVgLeRiCEvDz5VsdKKDpsPUlbUly/781Y72nP\n",
       "+VecoG1rcUM9HncN2KYfifwFPLyYRQHo7IJzJJjz3F/iSadmU2VdpFFBohJyi2Zvc1jqvMDyPhgV\n",
       "cqsX3AGc8aF9Y45jtnM+YNT5BG3WHSe0/1vPpIANJ0IEda9M/RRRJwZlj7jHEiv3eUUNnK+IaBA6\n",
       "jUWWt04PiCphE/jaKraxBLxa+3IIlJod14QBLBswIbeFSZ/yrqlEwfmlm5VI/SX7DkjAfFP2TLzy\n",
       "QhmnHZaWqS+HVcw3Ujx8RXt2MVR97ABN8CrOOqL8YSKGPbHZDSVFea5g1ucWHG4HZMEq0wGvKCSp\n",
       "kEz4McRdyOxKJ+2x7xZ+6VlhZ4rFf5Ngp4B2Gd6FUYOa0Qc7lFEDL/Afhy5i8s1rEEIuOz3x1KBn\n",
       "vdyYVsKYroEVXrvQH+7xrbneFzf3n1QGumCHavHyYrlMF0VREwjqMMkxTAjQQGvrK9YBtplbWyyb\n",
       "c4bw+loij8RCedzxrgVTLaPYqCP+fvYYpTTPheRtvSjKgTX8oRM2EZjIBf8+rfnSZM7vfKtR5Prl\n",
       "fImMINsLS9f6dDV4cq5aUqnuzoypUY3U48g7ZWqfNK3AWTcDVuqebD+8zeT15Zu0uS0OTq647uTP\n",
       "Avbm0xup1qCq+NJjMeeaMrTZ8nndFWWgHbt23HTqUzMplBJBo6rmJtgWy1poHLKV6y6V6Ngyg4Su\n",
       "z9Jbt43vGVlpyCh4A2cq8UNbOvD1kDBmnBvkiZ1JJiE5N7szr/aO9ICQWXV7o+t2laziH0e4sjWd\n",
       "yGogZKafgfsIpNVRDObFveWOzsdMtWmxopsBx2OcMIgcdtwoN/zB5G1kjvzepNvZIw7omXJ27nld\n",
       "qNY2D5Gi/da9UE9DK36cHtRTreCsvjt3dLH26KBj18mOg3+ZHD7obxR89hQqKKojZ5Kol9xnnVM5\n",
       "3/iFVdX9TPcLfNDFfcsVkdWOIqht6HPPGEMm4HidtDyqEVL3APf7z6va6Iu5Wa7cCsjUvkI2MuW2\n",
       "OKnifuUWkshv51iAX69j3uAWoNcr5uxg91AbECCstm3vqh3zxnW0QcuR9N6oyPGdrofNMzqQLAoN\n",
       "ojRZ38G5FiTBan96hi96LKUi7YDST6cupZO2DFwnjBEazJliPDCQ5t0Sy3/FnLoAiNdckKp/M8+J\n",
       "rHrxiEJa4Wf+UJkaB8U5flQwPUO/fivE+FtyghkRO0Kzy7O9eP57jaNphilTpG1gEqMidR3QK/GJ\n",
       "33o3gX+3B8J6PtRUKT4sovjlaibiu7LzuM36lcW59AnDHGC8rQG/cQswybkHFzZdUagfjBcwguWx\n",
       "NexDdkHVgpXlgk5x5rjF6xucBq8R0PRINg0ZZhuKQqG1yzcJ2K3DBaDtaHG+Hfz2QUFCoLI4Uud3\n",
       "N80noV/MTlyk1sojT9l6DmGM33kRuJh6r+MgS2pxZ+JspkBoB4u3dfbqAMgKlQWh4tiH5Bm7IDUR\n",
       "pMIfbw+t6+FpdwAQHiFiw/AACqMaAAAAxEGaImxCP/3hBIskyhy61jkgFizIi2dwC9H8ew/67kCQ\n",
       "Wg5Cn1TGiQa+a+FrrOkU7ffWtKONTAFZmnKuM1UsLRaIvzWg74zEigvBNjpxqN8MGTc8Ty+hVp2q\n",
       "V3/DjdqPUY/78o3xKmohw10sc/z37sGHYMTCbfHeHGOdl33khT3yhZK8NeqRgdmwnmx3MbrkPVQE\n",
       "iAknDVRq5vKLxoRfmmSiymQt6/M/h90oMa3iMbdfNS9jzCwKNEfhCP1P2A6qKI+gKeAAAABAAZ5B\n",
       "eRf/CrWAHJwodiXoFcl68EAgAAADAAO94SBAyoufJCZeY+L+jSAH13OhQ8Z+XzvITv6MqZpwdfMh\n",
       "XTHXVwAAADxBmkQ8IZMphCP//eEAQ340ss9hd19cABtwiZSXe4LB8k7mn8nhpCSGXWrF6jWWg7OB\n",
       "xv++eVQ3z6UB6WEAAAA6AZ5jakX/CrWAHJwodiXoFcl6x6lg8X3D8J9ugBAdBkxrx0gxxnVFd/BV\n",
       "UwYRmTRIzwvwgOogRhi0QAAAAE1BmmZJ4Q8mUwU8I//94QBDfjSy17xsgXC3AAufpdi3bkcZ8se5\n",
       "aAiv2R0I7DB/IIgZpZpKeQq/u9dw2XrhhPe4x+mgfUxLTMKdS/m+rQAAACwBnoVqRf8KtYAcnCh2\n",
       "JegVyXrHqWDxiqHNGhL1+V9V1GkuBvp67TGKl35I5QAAADxBmohJ4Q8mUwU8I//94QBDfjSy2tBG\n",
       "GyBMAI04HRseDvBf2y8Yih6wbpuNc7+CsKL0+eUhHH+RcXXLhQUAAAAxAZ6nakX/CrWAHJwodiXo\n",
       "Fcl6x6lg8YxPseAAhn6lnG34vSzcsiZHxMELLcmbJuMdoQAAAFhBmqpJ4Q8mUwU8I//94QBDfjTS\n",
       "nF1rPZ5P1+3pCjUg/dIJTnluk0/ZugM6XHlHjJKd25QNZPLhl6XtApV1Vaa/L15l7r1hA7j/Zdps\n",
       "m7q3OWlVvlo1GRKAAAAANAGeyWpF/wq1gBycKHYl6BXJesepYPGXRjmRgBAUCgk4jDf8Vh6KriKa\n",
       "Q2G/rDuct0Mx0z0AAAAyQZrMSeEPJlMFPCP//eEAQ340qvV1QVNVg/cAHJ2UbceFBs6tMKDbAIRE\n",
       "ibxuY3udB6wAAAAtAZ7rakX/CrWAHJwodiXoFcl6x6lg8ZxayWgATMZ7mhfa5RenAKPHh+0QZj3x\n",
       "AAAAWkGa7knhDyZTBTwn//3xACsvSYTs3eMZSrAIs85VxMz57AaZGi7vQUAHHXvddXY2dXkTYUIS\n",
       "t0/CgRQDGK55zPmpeeXb1B434c2RFHGOQnbeS6kuLfUyjFqWVQAAACcBnw1qRf8KtYAcnCh2JegV\n",
       "ydARCmi8Gm7oHJnTSF+4Ij+707XD1ugAAABMQZsQSeEPJlMFPCf//fEAiHTdbbklkgeK8qW5EAVq\n",
       "c2Ucq9iqyT8oxK1vAUQ/R6VKVZYYqULPMWn0h3R81Mk/3MkCv/aFOA5zLtlLTgAAADcBny9qRf8K\n",
       "tYAcnCh2JegVynX1NawRsU9GACIFBSSihq3iWTxsze64XZ4cI6jVoQW2Asa2M1/BAAAAQUGbNEnh\n",
       "DyZTAhH//eEARw2Rbzlm2oLGQcnbm0YwAOgCOemKFL8zP2goUSn3hQVZ5+i9gZeVNXEqOyrrEynj\n",
       "LBTQAAAAQkGfUkURPG8IhiAU76hWo/uRqghmplc5As8JY4+igBAGxk2vSkIiC+CrZWew1D7w2ifZ\n",
       "4ojGvJ5O+QG2K8Odbiy2UQAAACgBn3F0Rf8C6k7+TYVhy1AAbERN0sgjKGHKfAjIbh+GkmKZ73lP\n",
       "NM6kAAAAIAGfc2pF/wLorQbipRRAAh5BptrcwzuwRcWk97AyORKLAAAAO0GbdkmoQWiZTBTwn/3x\n",
       "AiWm5jSbiqhLuugB0jhoJULGfnoxvxBIt1GE2u1eQy6t+YVdQGZ8DXCX4C81AAAAKAGflWpF/wnw\n",
       "lcNDMD2RMAUVFBy5yLDyP0cRBGFCB47FM7+BWx/9D4EAAAA2QZuZSeEKUmUwIR/94QA/DLWgCg2R\n",
       "a05euqPsECfBs2CMPPvc9moxgfKg1uIIxUc4Prq3PtipAAAANEGft0U0TF8J6Opt3iHxrPQL1epA\n",
       "Mcyf8ABOiliLeAhONr5AYCDtyA8bL77arQiTwUWfA5QAAAAoAZ/YakX/A3UfEqAANlU26weNCCDk\n",
       "iiK2sptiEE6hZhJkoxDcRnEP4AAAADdBm9tJqEFomUwU8J/98QAo+3FkPfw+cAEao2CB9UtCA3OO\n",
       "9sv2gABy2CrinpKmXc0dKCSbfP4JAAAAJQGf+mpF/wnwlcNDMD2RMAUVFB5s+8fxY8RxzZGOX5CT\n",
       "u/tNnz4AAAA3QZv+SeEKUmUwIR/94QAgoI4ACHufb3MFhli1mDkKGECpQhYscjjQ2818Hsq25gd4\n",
       "0mWvErn0kAAAADhBnhxFNExfCejqbd4h8az0C9XqPWiSBYYZigAPb+8AQoD1k4a5nCb8vb67QHlq\n",
       "1uYW7qWO2sQv4QAAACABnj1qRf8C6K1qnSAANTdCSkQ94qlB3t9y6LwsxUolpQAAAEpBmiBJqEFo\n",
       "mUwU8J/98QAU8cTso822UAK5nVka5OyEWWos4WpxXkIqDmPepzeBpbzC5TVWpK3Z9ffTAzwVJNmR\n",
       "vhDt3w3Q7GExYQAAAC4Bnl9qRf8J8JXDQzA9kTAFFRQL48OcuBgANSf96WPxemUl8KTBlGhiumwG\n",
       "jh1AAAAAQUGaQ0nhClJlMCEf/eEAIaWVvmgCaSi7+054ptooztXyoNPvJzVgX+HUp1lJT1Gnyjxl\n",
       "qzH3IJlrK3HmfsTA8DopAAAAM0GeYUU0TF8J6Opt3iHxrPQL1eo9aJeBXc8AB/5nko3LWZP1so3Z\n",
       "nj/3yWb52QM7/QNM/QAAACMBnoJqRf8C6K2HuJSDNMAEEfGOsAxyGRswUI13DvOR0RQfegAAAFBB\n",
       "moVJqEFomUwU8I/94QAhpZV12pesddg/bACtGRPJcf/CtCpVMrDThn7FYOuaQd0JazRP4/1k0Cq5\n",
       "nsi7xr6GpktfW3LLt//uqlonZ21swAAAACcBnqRqRf8J8JXDQzA9kTAFFRQL48Z3/U/qpAhNL4hb\n",
       "d6dCYHIeN4EAAAA9QZqoSeEKUmUwIR/94QARUFRMARMafUobQ/gZMzq/muFrZg0lOkzP98wxtMki\n",
       "bhLrGR0swI83OiU16cqZpAAAADVBnsZFNExfCejqbd4h8az0C9XqPWgohxf/XywAEGAqObE8L7ms\n",
       "lZ8beibTUhW2vYkQ1cRZtQAAACABnudqRf8C6K0Fgo54ewANeTaH+kJs1PbvkL9IfQ0egQAAAERB\n",
       "mupJqEFomUwU8I/94QAi3xpZr+uiBsRI6FHrizfVHc7B78mdcZ/uQ7c51/RC+9CvNJz6f9y10sqE\n",
       "hBCKObTrydKuIAAAADIBnwlqRf8J8JXDQzA9kTAFFRQL42WZaRKEAAhMGA2zv2U2BTZx2G0MkKAZ\n",
       "Mxp7uU60KQAAAD5BmwxJ4QpSZTBSwj/94QARVEzrE0wYF+KoApid5vjMVsWmLjxcwf8kw6IAHQkW\n",
       "0VLRyfGQsGQy/1chekWnZgAAAC4BnytqRf8J6Opt3iHxrPQL1eo9aChh7AACHkWawsyprruqNtK2\n",
       "DUBYBT0Rsai/AAAASkGbLUnhDomUwIR//eECk5JlDmH8GKm3VgZlQsANbu0yerQ058WA/tmy7rgG\n",
       "NcQOMlIu5Vytceq+zQI+3QJv79LPu+xiKk69h6ljAAAAUEGbT0nhDyZTBRU8J//98QAF//puoF5a\n",
       "obUhXNOAX4FoYXlQQpJwoljjZaYgp//dyYzXwNtsUEI/378tUfyTr/orNkILozt9rQr7C4rCU0m4\n",
       "AAAAMQGfbmpF/wlLMm3eIfGs9sPItAHVmRhf9ABs7k6c8XRwLTEigY7xbu1QYTj9nqxWzFAAAABB\n",
       "QZtySeEPJlMCEf/94QAJMy6skQBGpW4qSF2qpVr1XVBINzRTofomb6yeSv+/ZO4t+i4qZhZFjCBj\n",
       "OGpWoW9Al5EAAAA0QZ+QRRE8XwlLMm3eIfGs9sPItAOIHY6tmsugcAJ2TbD+jDw2nHu0/TvFiGWv\n",
       "Qo07JMquegAAABkBn7FqRf8C6K0GEWIvvj+HgPXTH/Bs4fyBAAAAUEGbtEmoQWiZTBTwn/3xAAXR\n",
       "o/qMAF+IMQSPlCbGRH+Hr/vU2RACE2Uyxem3l6X03bW+HODt2zKfLmO9MdEtH1Dk0PGhpleV2kbm\n",
       "7C9Uj6fAAAAAMQGf02pF/wlRz9NDMD2RNywpIylLSvPi/SAA/aCUu6+3zx+VzI6E4H8CMwB05oay\n",
       "e1UAAAA1QZvXSeEKUmUwIT/98QAFz24slj6booiUA635WtEAQoi/gdI94ZFCTHMZyEKTgSLuRjcT\n",
       "LJcAAAA1QZ/1RTRMXwlLMm3eIfGs9sPItAOIHY6utW4ATUnsRb5WUnbftwgbgqWdvlRKHLASaj67\n",
       "9+sAAAAhAZ4WakX/AuitBhFiLunVCFZFIAQICuC1ydq1PLFZu0qBAAAAR0GaGkmoQWiZTAhH//3h\n",
       "AAT/k+J8isUF8AQ9ZdkoAkF5baU+BK6pkll9YulDWkfzsSIqXEMLMKWg9GQB4UMYy43si4CgS1XA\n",
       "AAAAMkGeOEURLF8JSzJt3iHxrPbDyLQDiB119pr+AB9glb6MJVIfyoV9LJBOE0tyn2tYNhjUAAAA\n",
       "JAGeWWpF/wLorQbQ+Qv5N224AQki4zgadqFgyfrR8XHugUq2/wAAAFZBmlxJqEFsmUwUTCf//fEA\n",
       "AxBC2q8AVqcd+wnL+IU+avR5Ypw2EF1cVH90D9HlAempGVtFUCj45Ak+IzJTCLQc5aripUzK3Nl5\n",
       "jO52dEfvj+xIJ7yK0AAAADoBnntqRf8JUc/TQzA9kTcsKSMpRyEHMZG+5gABASoibYCU9ODOY4pc\n",
       "KziHJC1SCRXFhDAa9PKeiNlAAAAATkGaf0nhClJlMCE//fEAAxBANUcAQjyvvQFGxSjNG5Q7XuWu\n",
       "ciRKCxDY7XpYbRfyiqKpGc5gRI6iHE+s7zhGuU0qnUnx+GYhjPKL+RNkIQAAADdBnp1FNExfCUsy\n",
       "bd4h8az2w8i0A4OzWHYFQAcZQk34jc/xQHhjHaYeGokEOwkIsIdVPG0ssenhAAAAGgGevmpF/wLo\n",
       "rQbQ+W8aF9tYgDWg+iFJyiNRAAAAPUGaokmoQWiZTAhP//3xAAMPTKhW5TrcAFopKp8PNyigddwR\n",
       "84s+VL8k/v5VHLj+EmHDh0XueBsyvgIZv0sAAAA6QZ7ARREsXwlLMm3eIfGs9sPItAOEODDstUAL\n",
       "d1aLvgCQGSu8mvm6ZqLx6DAcG1whiLnd5IB/R8QjUAAAACYBnuFqRf8C6K0G0Plx7CMnVDKdABB/\n",
       "+HtA+2XCpPcWPsf0bGeLSQAAAEVBmuRJqEFsmUwUTCf//fEAAZDZvGl2weoi2MACMXaGHRUpkOBp\n",
       "HhwaBP4fvj0mWz8xwbpmftB961547nq6qr+JJtfUz9gAAAAyAZ8DakX/CVHP00MwPZE3LCkjKUcf\n",
       "jag+gA1L1xrHIsp78q4JfYPunBeL76pcVzY76BgAAABmQZsISeEKUmUwIR/94QAJd7qw79DwFpa2\n",
       "IrQAqPukn4Abb3ocdsesjY1e11iGbfkvjwWdScd9Pu4O5ZYPyE6BD4JLhk15nGRuoMvZoj+tTpYk\n",
       "ruBQnfh8ak7xmNrqvRLmyzb5JA+hAAAAOkGfJkU0TG8HXVxyv1neCrPKJSPA92DTZIsAmMABMyfB\n",
       "991wJv/2KZ4hhfCboz3ZaOi3bEKvZ3J5LMAAAAAmAZ9FdEX/AupO//V5uW1E1gAh2cTpK2sYZH8T\n",
       "3CyztzGGXf/jy8kAAAApAZ9HakX/AuitBtDz+ve0UuQgANg+5xFzFshkBaMXSpoY0AZLl0G7msEA\n",
       "AABGQZtKSahBaJlMFPCf/fEBQdNzGk8L6Q7yq7MAKID0QBza2I/+l6Cd2258LcpLu4HC8HAgw3Mc\n",
       "R7P1t9+tKHOKxS4MV3AfSAAAACoBn2lqRf8Iwc/TQzA9nvUaivoet0Sb1xn0AJkEbPbvTpXe9QKX\n",
       "6OVgKTUAAABMQZttSeEKUmUwIR/94QABT2AroE1QDV7zd1FGV6tLruUzv0gZInXMdkEW/JlqJd3x\n",
       "JiPSXND0ST1A2QfpPiUJOGMTjGQ1a6D5FtqZgAAAAC9Bn4tFNExfCLsybd4h8baZPMb9s/p9O8gc\n",
       "4bEQAbPNV/wivvcraUveTI99Kr4lwQAAACABn6xqRf8C6K0G0PEEZwz8rwAbPUFc5F1P+UGxlLlu\n",
       "iwAAAEVBm69JqEFomUwU8I/94QAAqF4XBP0AR7qOhRTVSoGHwZ9qEn0ZOX0firJWabJOAQI3SIZq\n",
       "D5Q7wzxru8MG31HbNkeEqZgAAAAvAZ/OakX/CMHP00MwPZ71Gor6HrO4atvawARAnsr/4ugq7jgt\n",
       "j6g1EQ5XsztSrGgAAAA5QZvSSeEKUmUwIR/94QAArLR/acAEtP9i3Gno95ZbV7ct7nQ6SA0MESIr\n",
       "6tfmZFVygzY1+DlelbrBAAAAMkGf8EU0TF8IuzJt3iHxtpk8xv2z+E6VNra2hoAQGFJ+WVwy4jhj\n",
       "sxhp1xTrQ/Ghfo3AAAAAJQGeEWpF/wLorQbQ73wsn1x6gBrvTSxmZuHBZBald3BoGilYnYEAAABA\n",
       "QZoUSahBaJlMFPCP/eEAAKxJFYAbruh/8bn/rNX5Mwbr0wrdiFESGmD8OG/KX7vFlLpttO7BQcpX\n",
       "8C7lMRS/gAAAAC0BnjNqRf8Iwc/TQzA9nvUaivoes78fhABDyseB8RUlFeDa3qouOPwa6MC27/UA\n",
       "AABIQZo2SeEKUmUwUsI//eEAAKx0i8zGAah+tFCS372xJ2QdIxfw9rEzqH0yANt2NA1D/R+/bKeH\n",
       "FMS2Y8lpQEUyJZthVhz4pjtBAAAALQGeVWpF/wi7Mm3eIfG2mTzGqU4NIzfNQAfGkcvyLVju+lY7\n",
       "EQyM3KhBLicQ8QAAAElBmlhJ4Q6JlMFEwj/94QAAsLAWDlkL5kr+I/AAsDTTLzEvKqx7LzcSaCgG\n",
       "3SFlBbJxBZNRo3+RTOM+8WFlhrePY0S+UaGocd/hAAAAMgGed2pF/wi7Mm3eIfG2mTzGqVY+aBfw\n",
       "ANTAa01pQrrbqX89gHL8GEtNKNJzkf4CYhbEAAAAS0GafEnhDyZTAj///IQAdz7yQAQ/B9nFbDvl\n",
       "HuaMyKgPI9j85zce7I7TsHQc40+5aNi4Qm8fwj2Hoq1m/wIWGlRbzdp+/WlYLmXUaAAAADdBnppF\n",
       "ETxvBusQCnfUK1RUzzJPAhVaK4L3IAA2nTODrzTtequJ0XUQTDZDMfga2veqv/ZgHTXBAAAAJgGe\n",
       "uXRF/wLqTzMdQdSPiTGpwAhQ7GNiav4+ntAPvG7Dk5pqYs6sAAAAJwGeu2pF/wLorMlBwHQeZgAh\n",
       "5VRqDO00FMSJV+m+JHyQZ3DNGJchcAAAAFFBmr1JqEFomUwI//yEAPHpXjwABoTwVn4H2G/CC/4B\n",
       "uYxj25Z+/nBzgtDErdAp1yvRek5jZFUWF7eOvycC6yayWPTq28Yl681vq8BYXQOL738AAAAoQZre\n",
       "SeEKUmUwI//8hADxhR3x1dcAH7ROK+oGIqBAXCmGORxw1XEpfQAAADRBmv9J4Q6JlMCEf/3hAD3Y\n",
       "rfIAEe7zeVuTlOhaSFh1C5YKPbAMEyyOTF3GNdGhw1iMvzsxAAAAL0GbAEnhDyZTAhH//eEAPcYp\n",
       "cACwSjApqqExOM+Xs/iU0mjmol3adaCtiayb2ZmAAAAAK0GbIUnhDyZTAhH//eEAPxvKQCEd42cW\n",
       "uFuMJG28v0lemSHoasW6rjiuehAAAABDQZtDSeEPJlMFETwj//3hAD8kVzt1013tO7jwAEOGoyo5\n",
       "+kbM5W+l5C0ttKdkquklArnh3Akk9D5kHaCLs2/mF1TH4QAAACMBn2JqRf8IuzJt3iHxtplFgOBS\n",
       "RkzgtOB4Y4FqhEj/v7nkvgAAAEFBm2ZJ4Q8mUwIR//3hAB+yLDzIwByhzc4McDR34fld71/yixL4\n",
       "HG2iJfZy4PIU3n2UXNM/FG8vTItW45RRXk+h0wAAACxBn4RFETxfCLsybd4h8baZPMdkDXY21X4A\n",
       "D8BrhzdHgY4NY/BilGtGM9OSkQAAABgBn6VqRf8C6K1kqRpqPcKkqpsclcOhDUAAAABCQZuoSahB\n",
       "aJlMFPCP/eEAILRP4ZQAqSc27V4eiBEu9OyBF5LFU7W1mBJSP5GiqxUSZYspB2Bbb590m/dI+Ajp\n",
       "p9lZAAAAIwGfx2pF/wjBz9NDMD2e9RqLFIq2c+gNprYvzzWo/RamEy2JAAAAQEGbyknhClJlMFLC\n",
       "P/3hACCTbJwDYNiARMWvxqauuoYv0W8IsSip7Qg56C7I6++yoNDcfMLssFH9u/iewL2edUAAAAAt\n",
       "AZ/pakX/CLsybd4h8baZPMdsJ+IAQStfp34/5ttOV68tAjcWBFgIdE/wlG3BAAAAVkGb7UnhDomU\n",
       "wI///IQAglnBlQ/eebn5hhus4mryi0vgp/IRMMFiBkDHjDj+M4PHA2U5aGC0IgDEZVtVxTWqzTzx\n",
       "J/xnusmmtn0C9wMpWlbYnO/tqM1AAAAAOEGeC0UVPF8IuzJt3iHxtpk8x3n9xo57tgAEOyMkUtzL\n",
       "dRmTvdaLVd2X8UvM6h3wNp/NVH2Y534hAAAAGQGeLGpF/wLorYWz3VYFuDjfjaCxymEb1IEAAABW\n",
       "QZouSahBaJlMCEf//eEBldG73VjkM/6OtcB2YQBFXPbb7ulhacqLiEvS2rI1BkoQGqrVJaEWooVE\n",
       "tXdt2jNMUiViVcX46q9/Sh5ZgDZl0tR4YqX67TAAAABJQZpPSeEKUmUwIR/94QAQx94eqn+K+AK1\n",
       "IhMdFht6KR7ol7JW2bXcy5pIUBYd5oADtUKCrEQYJkORdEuRtNB6W+Lq58mE19JksAAAAD9BmnBJ\n",
       "4Q6JlMCEf/3hABDJ2xdhffU+wkAX4YbT3kAux75XkGJVmgCXPmcWIhnQjzPyigjxz5stRDKT0cSm\n",
       "ZF0AAABZQZqSSeEPJlMFETwj//3hABHuia28IKEIAGfb7CoA2+luF7dQbAhQEWv7AkU1u3Gt6F8j\n",
       "EoIs74kynGyAu+zgb7HdZao8jkLx5+OcXinQYwetzXpLlw7e8QQAAAAdAZ6xakX/CDTxVxIUxKKO\n",
       "iI/boxVaqGCyfYiitQkAAAAoQZq0SeEPJlMFPCP//eEAEWlCl4zcSMctgBMisPUDnWbMN1Ukcqya\n",
       "swAAACoBntNqRf8INPFXEhTEoo6oK6egBNSRpktMJuGD8nSYwwgJlT7WysdSPEcAAABMQZrWSeEP\n",
       "JlMFPCP//eEACOP9UFUwAAi8ywNH0AfwDMsRgnTJJ9wG7M+aOkcMznYJDZOV3XwzBv1/8HjfZr4P\n",
       "2I/6OGVF788ynjNTYQAAAC0BnvVqRf8INPFXEhTEoo6Y3P3BhOSAAg2eBs74CFv2F0D18SbRIfBa\n",
       "mGNxPMEAAABGQZr4SeEPJlMFPCP//eEACOP9l3sS4ACsteMk3pppoMO7VzS6yOX/eDrLrWQ9G7Kv\n",
       "E0ijNOf2bkEmrV6eiDsNmEiF4rNz4QAAAB8BnxdqRf8INPFXEhTEoo6YupaHCHWvo7AZ0dYaJdn0\n",
       "AAAANUGbG0nhDyZTAhH//eEACSf1yABwau0qRHwB4u/PtXXIevXOcLGqmM2VFzFubScfka7C420h\n",
       "AAAALkGfOUURPF8INPFXEhTEoo6pE0qIGo+7PuAE05St9EwXskFmV9j7XrOEw//z8YEAAAAjAZ9a\n",
       "akX/Auis6D/LfMAEHP3Hqu+Tffzcp+F3MSyIjhhxt0AAAABJQZtdSahBaJlMFPCP/eEACS0Tc3xg\n",
       "A4wJEkRD8SMoCRKJpVdASm07eMtOFp/ZYlPZvrvGvK5R8P5YW0PWiKenQiKZ5sXQLKMyCwAAACEB\n",
       "n3xqRf8IOrFQ0zDOorR+uoXOSr3uM697rYhlEQYgQ3EAAAA3QZtgSeEKUmUwIR/94QAJM4RuM8BP\n",
       "AZnU6ndqRclhzlZ8lzxQNlvGo9yCgbhtOnenPEBNMuYrsQAAACtBn55FNExfCDTxVxIUxKKOmUmT\n",
       "JZgANgJZkBRNZ/B6Vsc8vuAUjKqHejuPAAAAHgGfv2pF/wLorNfZo1UB8EgAghmxuDakchZJaIPu\n",
       "gAAAAEpBm6FJqEFomUwIR//94QFL1siLNjqgaSiQQBD3OERUIyZ1R0t7JSEMtxZdPSj2+Ry57Td4\n",
       "fyOQzavTHT6xGqlRE8hWG7nc0FbSygAAAFZBm8NJ4QpSZTBREsJ//fEAAvyV/8BQA5V9hpfprroN\n",
       "BfWui+3BXNEkTaiSBmNfCtatpgnNjXrsK1mwaUEDEw6BxGoaKdaM7CSP/1OZE+jjPfaMoogZ8QAA\n",
       "ACsBn+JqRf8Hv4AOXqs2cy5JCQAGnlJsdj7Uj0XpdvYzmUQTDmg9PrEfrpfwAAAAREGb5knhDomU\n",
       "wIR//eEABNP2vAHL7ev13BZdttKa6GkPMuPiVzr1p027C9xjPAaKQy4Tg4iiH/8pfneC7IqBO5dG\n",
       "z3paAAAAKkGeBEUVPF8Hv4AOXqs2c1nuMrgBNSRwZqXxeaw6Nlizcu70i2yMvB96VQAAACEBniVq\n",
       "Rf8C6KzZH+W+YAIdvoCnti9FUi5GVp1LaBBtN0AAAABDQZooSahBaJlMFPCP/eEABNLeusA1eobo\n",
       "9NmHLnPa73DcNsb7OEAWAzcyFv2q+5MOkUnaZH8irfWJIt9hyTuyg5vQgQAAAB8BnkdqRf8HxD5A\n",
       "36s4PPblj91BQv4qLYy7fZOTROWZAAAAQUGaS0nhClJlMCEf/eEABNUTOsrIamADg1GM1STou+FQ\n",
       "AYrZ/iJ+ncaMepH980kUhqjCTEscaMwqli5bSBL8v3dTAAAALEGeaUU0TF8Hv4AOXqs2c1O7UVnx\n",
       "E1hgBJSOem4YAViM/Mf71UyuyaA5hXIlAAAAGQGeimpF/wLorNDS6yUVCZQTRg+H7QofX8MAAAA9\n",
       "QZqNSahBaJlMFPCP/eEAAn0PRswn1yAHKHG3xozo1mQ1jjT8x8INgZ0qbeoHtSCLzVmFjlV7iQIU\n",
       "/OfVQQAAAC8BnqxqRf8HxD5A36s4PQ+WCERte7ACEj/twwp8LiRhtGPF5/9YEBh+Nnz5SNgdgQAA\n",
       "ADtBmq5J4QpSZTAhP/3xAK1wDG8p0jJhscf8QwAX4kqUbyn70s1WAI5JDrk3WQrSCsQXffRSAGfE\n",
       "bDpL8AAAAFBBmtJJ4Q6JlMCEf/3hAAJ70iuR0Xz5zCATVvJ1I+vdaKjekW39Kgz8osh7X6Krfik4\n",
       "tNOHh9nwe2PFDm6q8z73+P2jy2Y1tizzkXUOeW9vMAAAADdBnvBFETxvBeXMGcFJmX/D/AQADYip\n",
       "CG0AwxAXsORba6HzL7NebHSyLnAZ9eSWNBywt0JUsXeBAAAAJAGfD3RF/wLqTtfwWEBW8v2AAhwz\n",
       "3NAW5lNAVWLjT/p9HrvqwAAAACYBnxFqRf8C6KzMgJzQwAftEn08+ShrpYFkTYX1Q0xpyNMgR2Zy\n",
       "CQAAAExBmxVJqEFomUwIR//94QABUeT3ifELYAtI5u9kTCJJWWDzD4c2c/UnauG3ar6r+a7T0GOG\n",
       "kz14idxmY3oBS/RVtyrVypRz0rvm4AJAAAAAKEGfM0URLF8HZ4bOoNXLmdj8AEs90S2FmazvVc3R\n",
       "/ZaZfApBcPXL7FUAAAAnAZ9UakX/AuiszKf5b5gAnIz0IuM0OzOX6bh/78kyN/l/iEE8CsSlAAAA\n",
       "RUGbVkmoQWyZTAhH//3hAOlo354tOgmpOiAAiDxPWKXW/105MnxEUBdeSO4CMRy2UBUrTY06V/Ya\n",
       "m/16z90nfp8dotaLJQAAAENBm3hJ4QpSZTBRUsJ//fEAAGmgaP+xHvMAEHA+SyphhTmYh8DTgBdH\n",
       "bHCioAAd6Ltlsp4CQRF3sfyyt+J0qu7t0RgNAAAAKwGfl2pF/wLorMypevWAggAbPVnLN5gqYeq/\n",
       "+zUw30j+SBEy86rAKqe7O+AAAAA3QZubSeEOiZTAhH/94QAArLZy/ACPd5uz+MLC2KiPQRG4Y+5X\n",
       "d/M3QNcGWYVw0mDWG4k2j8ZnVwAAAC1Bn7lFFTxfAuisymP8t8wAQf/SkJHKFhkHHxxToyq/ZPiq\n",
       "70IGXO/lKMa/0cEAAAAjAZ/aakX/AuisylxLHECtheoAR8ioxne5qwTufJj9ngARsSAAAAA9QZvd\n",
       "SahBaJlMFPCf/fEAAGwQsLOPAJr288LWaINixrBSGa+W+zqrEtMe2u9TdCzZ2UJwH4/pN6n1eBIJ\n",
       "wAAAAB4Bn/xqRf8C6KzKYQgc1hTruIO0ObcvcdAOjSuJZVEAAABVQZvgSeEKUmUwIR/94QAAsfJ7\n",
       "1JDB5UAAR4IwAHAO5KdXebYUtlkVYD/2wHPmqQ/sYCTKpVc7kohTlM73PtxxGTm7VeafC6rn60Xh\n",
       "Ro2Ww2UwF7umsQAAAC1Bnh5FNExfAuisynP6jQnMAE7F3B6g7wwR41vTvkRgMf3OaTo/AO3Y4b+T\n",
       "QMEAAAAwAZ4/akX/AuisymxtYFvwPUoAGxEXrDRsuaCYN649JhsqIKNtf2ZwqKEdtsIxTrRAAAAA\n",
       "TUGaIkmoQWiZTBTwn/3xAAA3TdjQ5wAcbyLiEakltk8KHp5uUfKKuaSj3WOrFcEpHoHnl146H+Fb\n",
       "e5QIUP3H95ZUz5RJU/d6x4TfKzUcAAAAKAGeQWpF/wLorMk1x+O5JABs76DlP6w1c/Rcf20I9gS2\n",
       "n1aNctPdn2MAAABNQZpFSeEKUmUwIR/94QAAsfrZYAZ1h6umU5ACdDDA0sdAFlr+WyGVm+aOzY4O\n",
       "I4mdilqxJ970dDdYdNBKPPX4GeZCSMwgTjI1xj2dk7AAAAAoQZ5jRTRMXwLorMpyxGfzABDtqDoN\n",
       "A7qEzL5BhQgd3Tnm6HVWSXJqkAAAACQBnoRqRf8C6KzJOWRX1lCev+56gA/akqD8Y9p4uK46cCZv\n",
       "jB0AAABOQZqHSahBaJlMFPCf/fEAABxg5/PYhtAFnD8+KyZO81wbRC34a5j5Yz8AI19nme+DMkGd\n",
       "+kRU2feSBNHKZkD3BXDdPdju3FtGjkWQqelAAAAAKAGepmpF/wLorMigU+AYASwqozEV5jKzppg1\n",
       "IUqEdoTn8XIV2oOe8KEAAABWQZqqSeEKUmUwIR/94QAAFzmCKAIe59vcwWGO92mROQ8RkguLRroY\n",
       "1PX6zrckIXaJvFii2WFilKVuEGIPNu4RE8srsPIWPHDUnQDF6W42tT12g/6veMEAAAApQZ7IRTRM\n",
       "XwLorMimBxMfxHdkX9ACYuhmbyVjGy2dtv94ErnetQbp3hAAAAAhAZ7pakX/AuisyJkBJpTxAzYA\n",
       "EBJplqnqk3FhTaCUayOtAAAAYEGa7EmoQWiZTBTwn/3xAAAOc9NPoSXyVAAcUcTDFWdIR9p+HQaT\n",
       "0Y64GIoNpK53BruJq0woFMMvvjt9rIKRayYc08MjqyhzhYQsVMbwzoaRqpN3Ikm+Z07r7X1UoRfW\n",
       "JAAAACUBnwtqRf8C6KzImS+HF1rgBCiRr2EUw+FBfyTNAmLC7Jw0Qpp5AAAAOEGbDknhClJlMFLC\n",
       "f/3xAAAOcvRLwQg0sAB0CptnvHYwIkwKrL+QvULwIiZ94PwcAls/UU2YsT3jAAAAIQGfLWpF/wLo\n",
       "rMhSahIWAAiBPIAmsRO+XnrkN/YOKRzhowAAAE5BmzJJ4Q6JlMCEf/3hABfRAuQIuaPvMbizwoN7\n",
       "ulryq4IKAKAMNuU0Qf0gRuew2OMYdgfDaCxObdZP6ueBXL9X9Q43QfrDw1cF6L2rVWAAAAAkQZ9Q\n",
       "RRU8bwJHQqtty+jKjvLbpdp54ADaclh1YswZger657WHAAAAHgGfb3RF/wLqTtG817wzgAIMCFEH\n",
       "0AHb/QV8cjKCcAAAABYBn3FqRf8C6K0dMrvqkhTBBdN6MrOBAAAANkGbdEmoQWiZTBTwj/3hAD3a\n",
       "HcZ4BqT7na1rEMENmJPrDAlFs+bjZReNTMjrmJq3wCzgNTVk4AAAACIBn5NqRf8DYTaIAENBhOsy\n",
       "rvNcADvc3Y+NIwchGJsmyE7xAAAAQ0GblknhClJlMFLCf/3xACfU2+ALWdTw8L8w7Qr7dQDSsryc\n",
       "tAsSOHiImslJLXEsA0/1MOJApXroIKoP6VvHIT+a1QUAAAAjAZ+1akX/A2E2iABDyKKMwfq6Cpj8\n",
       "vAKsx8lum38i3N62JTEAAAA7QZu5SeEOiZTAhH/94QA/ft13AIW514bMAHBf8hDaBI9nb0p+6oxT\n",
       "AJX/nawdcFglr4PjAC0p80PA6uEAAAAgQZ/XRRU8XwN1GKdHimo2kHQCiZJq8EAlmvmxNLiCkkAA\n",
       "AAAWAZ/4akX/A3OfxtnJsCLa1mJyuTFbMAAAAEBBm/tJqEFomUwU8I/94QAfou8wATiBMMAI09d0\n",
       "5svtFUxlwZ42RtACZoEuzaNHO9zr9wrnFKjACpXAVyg0nUD3AAAAIgGeGmpF/wLorWSj3IyFAB7z\n",
       "oDW6as74iLAzWjn7F8JXksAAAAA4QZoeSeEKUmUwIR/94QAgyP2oRgCHudGKQKrpa4lkDcEWncFZ\n",
       "PfQQAoLSNZhY97zexmhYU8l05MAAAAAmQZ48RTRMXwLorXjzWPYKoSADaMDRKrkrvK3hShxN/xgc\n",
       "mUhCgBMAAAAgAZ5dakX/AuitdPZ/E14RAAgcs4ApymRYc4If7j5Sy2EAAABDQZpASahBaJlMFPCP\n",
       "/eEAILRjcU2AOJpCz1SXDyf8aughlzSqALyKBmuE+3Z7qWomXurMvKPzYiBrnbTyzig7bf4pQQAA\n",
       "ABkBnn9qRf8C6K11U2fUR8XZMGiOFjT/Erh4AAAAXEGaYknhClJlMFLCP/3hACHfGb0z3I0AsLg1\n",
       "Su5ijTitNEPE4TXQ3q0WH2qNl9hl+frBmobES3WsyrEsr/DzRLw6+ws2f8EBYGLRiTBLo+Mg4ueX\n",
       "DEIWs37NYd5IAAAAIgGegWpF/wLorYb9V8wAQ8f9uGFDbTR9WwEoyIl19v5gWBkAAABTQZqESeEO\n",
       "iZTBRMJ//fEACsEOcDEar8AIwFv+AjgYvQ5gAY33D4DIiKchWJilvJYWTu6cO8DTor8GHBcUvURc\n",
       "2n4rC4lzHoYYNJbS3noCEv0rb9AAAAAbAZ6jakX/AuitBBCTuDKo6FimbNRu2NxQbgBgAAAAWEGa\n",
       "p0nhDyZTAhP//fEAC2cn1qgEAGi+IQpRjEafZ/4ZYo+ZMDJwLDt0El4ovdVgg8rKNF6tDhhJh3WQ\n",
       "oycTTUKFtt10PDLjQQGrOeu7lufS3Vf9Gs51ovkAAAAlQZ7FRRE8XwLorQM8j3Hn4AIgP7npdXbW\n",
       "CMdihYXa3usJ1YWbsAAAABsBnuZqRf8C6K0DsslIAA2nLeYoy+KFU7nf2gUAAABQQZrqSahBaJlM\n",
       "CEf//eEAEU0DKsA4jQ7EBrjwnBMz8ZfXnbCiw0fwUa4g2dbSTIb8mHuXYrH+QQUshpo3+OOAtdQz\n",
       "6gAGgGJ16vyGE+bWaDkAAAAmQZ8IRREsXwLorQU7RkBAB6mhUGkCPM+1LgRCucuRqDTH0kWPwCAA\n",
       "AAAhAZ8pakX/Auithc0AINOYAP2huTeustP5MQkfyIHHArKhAAAAP0GbLEmoQWyZTBRMJ//98QAF\n",
       "hNhCAZPzehACwTFOvZuJFES/VWEcnVQlofWS+99nQ3aA8ANGK+M3HdCVVfDT/AAAACIBn0tqRf8C\n",
       "6KzmudMkAIOFgcIbmqiP/uu4pJU+t/pfgNZRAAAARUGbT0nhClJlMCE//fEABahxNS29cAVvTjbT\n",
       "NNTydzaR+pcpLgj12p5d6dWSkVUu2UelSjGC/5YofgEPj9b+fnzQJ+X++QAAACtBn21FNExfAuis\n",
       "52l4kAE7F5irB4/m9r0YVEqD5IWQT9t3jaTkHXNPLywgAAAAHQGfjmpF/wLorOdyAUgAiAvmXCPd\n",
       "inojIEebJQWAAAAASkGbkkmoQWiZTAhH//3hAAkrdaMB/myvLS2h6h6JbyA6I4ffhjaHTa/g3vkh\n",
       "s1RKnSiAuhdGMSVGWpL3c8/K3OOwIExIFy7dWbCNAAAAJEGfsEURLF8C6KzoP7Oid6IANiIWEWUy\n",
       "te5kjwIFkI2qoTfM9wAAABwBn9FqRf8C6KzoP8t8wAQ8i4zglMXhJK5SDZtBAAAAP0Gb1EmoQWyZ\n",
       "TBRMJ//98QAFzdKyNBYgLwAa7il0vnFuEJbmAcw86kaqeS7e+cs20QwVeK3qW2s0GRwnCw27gAAA\n",
       "ACYBn/NqRf8C6KzoQTRgBbOUpleSRbDc+adeGRAzr5J/1OJ74M17RwAAAD9Bm/dJ4QpSZTAhP/3x\n",
       "AAL6uLcAQ97xjm1lqvCHRLx1/RbPfbgV+8vDFQniWjfxiJ9x/fhQvtAMffWvMteUrKEAAAAiQZ4V\n",
       "RTRMXwLorNgCfC4QAlSVkOnd83Bw2qIuqM5pa86FQQAAAB8BnjZqRf8C6KzYpcNxATq19tgAhOL6\n",
       "NQ2dmmunFKLxAAAASEGaOkmoQWiZTAhH//3hAAS4Yv1Y3/cAE+GDOWOtOo1No3faWZNPOFyoMsir\n",
       "VGViLEyC2Ah2j85f4V+JFNMicNLKOIC43MNtoAAAAC5BnlhFESxfAuis6Sw6nGcALG/b0gMIzbZg\n",
       "58sQihYGjljdj4YfEN299vYxd374AAAAIgGeeWpF/wLorNhcgc/xgAQEmmWsRN95XHfiIporB/3m\n",
       "4WEAAABNQZp8SahBbJlMFEwn//3xAAMQRoPFdoewAQYcsBokVcNh6ScYBjvBj+kbVwtfmVVHKc0J\n",
       "EqnEwoDOr3S7NRXUVv6VdxJkWr+Ewb7TK7AAAAAmAZ6bakX/Auis2IINFUAAbRcGX2y/7xDfM7He\n",
       "wRiTpyYqWFXeuEAAAABOQZqfSeEKUmUwIT/98QADDxcVHnWtQCAzCB9a8p0fP2BlGxWG6wRaX7mL\n",
       "s77jLsMF3MN7TVf7SQZcpAgIdD2OcoklcYtiOJKN8epR7RZhAAAAKkGevUU0TF8C6KzZCEDIU6AK\n",
       "BrVZdB07+BZM6F7fha9gkPCFmtqj3sDkwQAAABgBnt5qRf8C6KzZn9x9SqmzQwqBDPvVlsEAAAA7\n",
       "QZrDSahBaJlMCEf//eEABLTZWLoJZnoArUourKGgrX5KopN04VzDBQuToFJ4AHM6S2FfzmtnUhul\n",
       "IeAAAAAmQZ7hRREsbwJHQncuHyR+WiEAB+5T0jZ0ry3vjeAvxRJXGh4XQ5AAAAAdAZ8AdEX/AupO\n",
       "17Ks7TXwAQUVn21v+AQKIG/30+EAAAAmAZ8CakX/Auis0MAECcACdEe4v3KqHUzW2TTCG7Pu9eEm\n",
       "zH57Q+AAAABAQZsESahBbJlMCE///fEAAZJCxGs8ActcGy7S2l4DltmzE1ViGGtb0iU+kxBvG9NF\n",
       "54Du2RDnVxEbjp4eX4nbUAAAAFdBmyhJ4QpSZTAhH/3hAAJ70iyrAOJTNZxNx0fCuXvoU35UaLkY\n",
       "M+ci4NuZevyNI2oHxZ4QZhsJcnijhwcKWAR5GM+g99cEOHkEMfyH4e/tZIRHl/IU44EAAAAvQZ9G\n",
       "RTRMbwJHQncrQDK7QbMMhABdmdegF3rXeB9sKm1FAJ1jvOWczr/M0Mp8VGsAAAAlAZ9ldEX/AupO\n",
       "1+00Al8yADZ5uawsyo8VcKe4oM2LpyumLBGIEwAAACsBn2dqRf8C6KzMgX3FkDEP9YyEgrlbABCu\n",
       "ZaZpZu1U5aLQZSTLkEgrHsaDAAAAR0Gba0moQWiZTAhH//3hAAFIVPnAUApJVLxihaVJvL1kIl8l\n",
       "XnmvbrZIP9tze3BT7dDJ2GahHtqHsd3GpDkINXqFgWCLZ1k4AAAAK0GfiUURLF8C6KzMgIgsYAHE\n",
       "UtRhP2oLsl6p3QyU8QEUbR5AAEmtj7FeEjkAAAAkAZ+qakX/AuiszICAQ0AAloJDtCIWMie/F9hj\n",
       "4WQNUVTzHeNAAAAAN0GbrEmoQWyZTAhH//3hADydIsOIAR1Hm37nH94cj8Qc+Z7E/knqYFgh2lPw\n",
       "pAxGfYsai/UmYIEAAABTQZvOSeEKUmUwUVLCP/3hAD2kQN8tfgCsY7TnaTX9Cc9wMyX+0g7k2sjI\n",
       "xrjvE7HlSELN0Awof4rSJ25WpDF9ugIrFrJ62VLmRP+BNH8FPMnItSEAAAAdAZ/takX/A1Yd7wb8\n",
       "wxrxWD0mw8l6j165Y1jb5OAAAABAQZvwSeEOiZTBRMI//eEAPdm0KAFBsi1rTjd45t8EPfX5ZFKi\n",
       "yc1nJMxx5dpU6OCY6Ez1huRqn3dFCqJI/0E8ngAAABQBng9qRf8C6KzIG92uv4/qwAsDkQAAAChB\n",
       "mhFJ4Q8mUwIT//3xACfeyoU2VzzHgAtq3mBh1jXOTDBlIGUx2iYuAAAAQUGaNEnhDyZTAhP//fEA\n",
       "FGIc4FfbFAAirAAp4sSenm465dUXO3Wl87bxwzHgO/bL5OVv3k2MxZcHRGZXShaL8jMxAAAAI0Ge\n",
       "UkURPF8C6K1rmQ4AFw9rnNsRJNB+idx25ParEzySMX5yAAAAHgGec2pF/wLorWd0LTgAQZTQrndh\n",
       "zeETh2rzUujXqQAAAExBmnhJqEFomUwIR//94QAgn7XgCHuY1cOgbbdH3q2fDn5WWi67bGAWWJZ+\n",
       "d9gP/9Sp2dapdDvXpN0OcLNnnbPvO/VgMKFX931dcZWBAAAAIkGelkURLG8CR0LkvgCK1CIgA0FJ\n",
       "FQ0O2hTP+KnT9lqwVMEAAAAbAZ61dEX/AupPQRvIWAAiBJpGa/TPxTpJWRidAAAAIAGet2pF/wLo\n",
       "rXj9V8wAQQ0UlyOW7JI7EgBtuIveRv2AAAAAOEGauUmoQWyZTAhP//3xABWuT6/P0sJAEH+iKn6k\n",
       "NBDxFJrZ1a9Osxo62JGZXsW7kCaMdANyKThQAAASrWWIggAL//72rvzLK0cLlS4dWXuzUfLoSXL9\n",
       "iDB9aAAAAwAA1WnlBlKTViO+gAAeSGnthIJkwANnuduCH7TN35hYj5KNiq8Ewg/Qh2INeobk6h6z\n",
       "7OIfEC5qCJdP9XLrA+Dnh5pK9RKDSr3KQh17c5QzvJ4lXqQqzzaJ2IFJrfWE9o3/YItXJB82F4qP\n",
       "zBeyJKFf4eIarQacyFFZXUHjI7PpGE5A8g5jR+HlRxHvNA4GnJpQE2Xnx4EfJIEJwl4+1bII4xqF\n",
       "AgpLa1CIP16KmSJXPzBqWS9l55S1y1D1w/Mi7UbtQXJYg4gz2TdTtjBA+ZTeARAob/ggnAdBw0hw\n",
       "CZpt9dedNf+L4VT3sXwd5uQir7GGqVDIGVAC/O5EKUicfW0r57+fupnhrMd4xweHOJjDnggUPIQ8\n",
       "ZA4yfqC6RZYN8ramHh8jK7YZMLOqVcg7WnYb7SMwKaH7oH/Gmv9p11ttm8wM31ukQ+Rh29b2s+ZD\n",
       "g/FsF/VOMCiKCi3se69h124/ebWcadSzd7bPrN4ob2ASXROna0LApcGCotlJgCUvPK/JuAACXIhO\n",
       "ffWW4PfPXk9xDdeAlZi1A9l9ItRsnm9/KgU72yUU+22V/rN6ztGo1GuOKhqaam6DtENINZBkewWW\n",
       "YBUyyt+6lTWJDi+6vbnjgiYNw3vj/VF54L5i0m6rE6Rqdu4rCyQ1wo1s5sPFxb+JbAoXpqXQ81/C\n",
       "XSDPcLswziP5mVSS3QMC2yXdC0Jybqt/Dd/23UqGEe84pVPjHOfYGv8pcwzhqPz+gQc09L+NG3Jh\n",
       "BWq69gC05v6A2ljW8JUvkeH1FGU3+wQ5EBKxGMlP9rLEs5QGgSthAkdXdS8S6+eTsab8oTKrxv+z\n",
       "lQ8AnTe1Q5zd/O1ruRWWk3qNgFyQYnEh0/lNYCMOMJQrcvknfA1j21ZeNUgMETP0M2VpJ6+lXlJo\n",
       "iDRQAxpETrqYej39tIXh19FS1hS7115M7qwmwV1Og6A/5juiZTMMAaD1PKCkTx2ECJM1o2qMujO+\n",
       "Nutg+4mQwe920psFfr4SbtrIZw23UxumWpaGbRbJx/eDh4m39SYK0wBSeulrV0mNmtam2QpchgeH\n",
       "MOqO8LaFx7Zcp05cOhDJImfU6Ug1naZ47zl8XCWT/i5ZVv9oKCJysrhyrWejlMQatttzWphCjY/T\n",
       "6HhEgBrkfl80E8KCosyKv39dYrBpaD7rLVjcuUFZKouNTZkAO9yrz1dPnzPcEbQQAuRHlQkgLS1L\n",
       "+APGTydLgOO3rK54acSf+G51oaqeiq95io9BOJ8Bm7eprVQ3rANmSP7HV4hbl1DFtK0H4/oi/dHv\n",
       "ya/Yxffu+1o4xkMqZxWYG+IQFsTnRHt7M9wi9ZXPIkq7ilJCYxquYShzM9AZ18Edu/nwpT/zM9Bv\n",
       "s8dauJfiqhvy8CTT5uRqiaGVsxP/dCT44ouXiknBWwyVKgMkCbNR4RA8ZVOh5e8xm1u3eciBC4pE\n",
       "A3Yjh/UiGLpCsimOVnI9d6UGh2lIG2LfsBPRd4TzECIu/tSUFoS8O42IABQiyrxyzVaqstEvjbn8\n",
       "aVx16eeIN+/ki5NhaSD54evK+iaKyB/H2LS18OPOcr6sdPVJLzRNK3vX0vBZubdKYDpFliPCifdV\n",
       "DlN61hNxCkv8ODEN21kaBHMsJhLskGELZfVxkfx+uGxPFjUi1wNmeGW3hCX5n8s7TQbU3LvhOrH4\n",
       "Nxu6gUraGNHeQIs9hZQSPajdcvZjkCM8ECjnJNTCPa7K/mexr7uAYpM0DrZUjuLwpCKdrg16TC3i\n",
       "GYRscc7NHKqvCZAij+YBQ6glOe92h2uQsHTnv2L79KCHjqOWhraRSvWGC6OSmizMSi36dDmDqdPc\n",
       "fH4jvmbZcZHxN6kFeoN7ckklnsuwVeNmeGLMAvIU0b60h4hbKIlHfeixn9Qw6NKI8/RJmJTAD77h\n",
       "pT4kULb07aiBj3bJ8+O0qyv6a7DOrQg6QZQNyYEeeKsuLz5ZAEG9mo4lzmhDI/RjdmTDqVPaaYmt\n",
       "c6tW3uBlIiqhpdjhFcpWyTtxf8bw01hjbc+JB9sQyYbiPGeakoldtLgAEC741VW7roA0+fnL5C4T\n",
       "c1RrPbtGvoVr0ECX0wQFgHy+m895cnVDnLvbc11N3B9DJE4O9yvqKoA8p2Ms7UQ45JhiFn0etDnA\n",
       "2Olvt7JIod0lP1lGfAcfxt37QjELAx7o+c8LyWibXbW2ON6HrB+GWyHKdCXaGdocWXSMkk63ovgf\n",
       "6+bhAFjjHrWXfuZh9aPi7lekkP2IoAfftV4bJPyMBnev/XqbKoWb5zA/THB/eU/6wQvmu9PVqA4K\n",
       "X1U2hhJb86BS7Q8rM0q3WMS0RW9tuT1ctQllFBtszL8XO6jnFR9KgXeH6qbX6Z6j8ihcHdLx5VRq\n",
       "93hxyBHwn61p9HXcRLaSaRhlSGw3+yy0OpzymFc7/UBXfCtnbFcziIuSuBC1QDBewi3ltDDRgjRk\n",
       "9H+03/Aw393mlVVCJmiRkMNLHWHqw98RHuolJVKAEnpUZPgGFe0c9WN14pSxDSSvmxg11nQgRb0G\n",
       "ipVduu4JtOyhrczvx1HoomqVUT7NTRx35EPhirCY7FbIvd6VZmsCyNKGn4B3R/Y6O69UkkZ//NOV\n",
       "r2nb+94GEUoIkTcw58woz2GXRka5wOiJ62cE3K6wziY+sc3XeSndEWk2MLLoU9lPzgT6OU2fmsXE\n",
       "pv7V0O99Thvl71YYxj4cHl58NddxfXv7WQ887TcXTr6+RF7GuvTlhL3HQ3Ot/pG227NZdqED8UFS\n",
       "6UIyXWDCvDWYfMO7QjLwLUDzAKYV6QthWY9ql2HitITGgLN5T+ws7XvBYLeD/c4ZfSWpNT4I5VDQ\n",
       "y7ClgP3YjSO1aWcIS//sG/m78gNKNsnyK+GLTRXw8GJsNHEegr6NPIz4F38HSmeHT7AyH5tnbrKV\n",
       "zZbvnAcguPgEy/wLd57naw6/7vSekpZsWkJjQ9v5LsdWDFu3bzDXT+6/wJOUcDhvB5OWmmdkJMzG\n",
       "tp8yqLhjRHwjC/eCPZYi2ehdFZTU/5KT0nUCSPzAcvkt32TpBzwPCV9SMU8RZaQMncaGegHbWnwJ\n",
       "SQM7oPXh/KUqzPNzpWbtwQnWvrqWlAMkUsnxPAF6UTAuXswdXcT3T32EBsMgu52yo6pRADPjnI+q\n",
       "5W4FpeoB0UMsbTIyaDpdYIMY8+scC+Lm1krFC+XFmCAso3+WKrXRrNg1rWSRFoxEBUJELl9HqrYb\n",
       "ip93RfOZKRxpOi3XrOXYc6JqIqMBo79QaW/MWC44dhKEIxFYF1eoQNVVn0a3VbJis6/500nxt6q6\n",
       "z0xhzjq/OZzQIRAtK0Ys/1A73VaOT6R6He5u26pZkUX6g5th4uIg5H1Le1JoXzeJV76XJB7PSLhU\n",
       "cqAIzHM0DvPBkcTfTVes63B0MWwLoluaF2RI01HEOIk5TLyVfJbZLi2Qffgn9Xv4JWmWDKyeVdS0\n",
       "bBLNyxSIzCLjkeYigSz+gszAzTBoQ/uUdIni1euuaj4QGK4vdJoR5AVQHcSHZa3hka7bLaczAkEZ\n",
       "FUqv4vYtyhDAym3G6KbylViO+csi7n0poTQym9ud9TgazKNGf9zAJDRZxi/p26YZjKjYwMlZqkUo\n",
       "oGx/0/x2rNZYGySP+wFSgsR4AkL317ly7wMyU4KiIuvlyXcuNevtgFiCdubYfrJjVMgqdld7LV6J\n",
       "kUQKtP85qVEwVUfWQNQGaS+vGoBDdgUAoAZRUg7YE490nHB2wJF0EwCaxxsFiivL0VC/3E+2tmxh\n",
       "IAy0pQncVWFrYy12oSp+fbvwmXBzivA0VEvhYnaWZmiaz71V44Xmp34hJ5ubYY2GN9TqkpGglihJ\n",
       "5zbTX84wjIuBAuLkMrdP+ij8reX7MjpdHVYx4EuqA/2QK+gr98iM/DCktVnQ+gUQWupAcR+r/Qje\n",
       "FPX4p9nk8lnr6wurqMFsHJSCrtRWBEhtnZWOF7LDstK4hlbLXXQAxXEPFeN0ILfTOlU1nX5wdeKv\n",
       "uiZ3iPDckaytGGLYqE4IdbGOm7p0MUSwW7ELRqIRlkTTkpJ4CPzXSb/0DUUxch56Jrb+LbduggVl\n",
       "qt6hVn2zAlxd1wzWC2JS/AqH4i9eTB1b8lO2qUG6CVWpb4PCFNF0TlWN4JIyepOGddRq0VoG9sQC\n",
       "wHBTN25O/vOvYfMXxtzaCyAkTnepb3/bJFAJHmXrfNkM6SzrchOSXQC8jg4Yi/kGXr7uXI03xI18\n",
       "GoqHMcsuoHsH4b6w3us1WEp1sEr/+MWEMhyhPq3X7C8RUbzRd9FBmgSGnp6pWfkqHNqLMk3UvYtm\n",
       "tGIB9gnl3vjmUoxu6GRhGqkYUusM4LWPZt3jxvObZUw8zQjGKqXWmOL3D/UHGbjoSrGv5TMMPG7Y\n",
       "gylVVjBdXbttb88e5St6mMlCMUctDTD6Q9uR3LWLYRRcWjNf1uepzcBBEU7fSth+xveAPWeHiEkz\n",
       "ALzLTiFN92eICycxJvZpSASOAAADASqTFez5bHKNg27FM28jjo+SRyr/t+KdMIgxvMlZAkPeZDNZ\n",
       "nk1ZGofHprw+9Bk0DgHECtqe/Z6Qv1EyIxjd+nF7eNLpXca8nUBmvNa823lRFAGq8pGo4Bh7nFzH\n",
       "99IbIHsLMWV2Wnj7udg1khlQOGdkY4S5BOt2EFLahmiV9eEncz1Q63rehfJsLw6qoPSbfgYvKLCN\n",
       "J7XUdF4ohaGE4ZlL+PFeTWGkDoz2Rlq68QMIz1cRcE0YNoYcedtV9PD/J6Fq94kVlHtGGsIUD079\n",
       "z1ZIk09y8dj/5tPacc0hBvLjc1rWn84bu+/mgcvmkzHqMQa/VXhS8RNObXNGCGzBEZ/EbpqFXuXE\n",
       "Pd5f2v4tINOJUdAcHF8ZAiO8fTgSJlFNhdyti4E7taNXQon1HmdUzLndtAl5rSZVpEUg1v+gy0LO\n",
       "ZrhTBKFjkGyQqec+uPtPvq3hvRB0hkwmsbuigyWTc9FvuHHhefB21jF1t45/bEFuTIZK0zrWZ0xN\n",
       "Vn064r1+rACVUTTwktkrJEPX3n1QGPZkGoufAlvOcGpwCTr0eVGj3QMbrA8gsDQOewQGi2BR4zD1\n",
       "ocgvR4Byulh3/bo4G1+OttO2uDYqbJxN3jE5V8F2g3MIdSsdYhWXG+XeLCb03ewkxqCZ/+U1g9AP\n",
       "+EuSv03ydKE4Thm2Y8ggloy+O7tt/0Mc1FFrWs+mBTfndBlzUSfr8qpGjXJXsoQiaaSMZ6V2zana\n",
       "8o72S4BNABIHgNeH7bHvFn4/DTizxWK/ybBGGd2lTADjnYCXRQ7bAbfV/2th3W+cXmci9GPh6jZT\n",
       "ZJdmLf6jqInuvB1CIgGhvt9kUAjyFR6MNXXSN5Hnz8olvBwtbAwAAr+r1fDPwzQSjJptY0a9IYBa\n",
       "+sLGnPXDIMdg7wdxPPAxN5MxjSBd4jqb+96SPqPI9/+PQKxPXpjNR0QgSxYyAX/Pq350mTO73yrU\n",
       "eT65XyJjCDbC0vQp7ac81ggJcIDNJXjWa7IpR3bw1JbBzkw7wVFcCAu9dTY3AsHDYbzVKJl/dhHn\n",
       "KZJwpd72LlkYOmKmqMaTGY880YpBw0iDZ+moxBCSDUcbAkCx9FYwMNGaF2XVLyP5KAlmxjPvWKuj\n",
       "rV52fpLScHG8ZWWnIKG2qrtReH5iiPjxI8omFprYwdqfrLxRzZ4NvttJEA8jXVo3dbtK1nEPo9xS\n",
       "KfajYM3rrA/A/YRSaqiGcwqW3m+HZi/XZNjRTYDjshIMJw5nAFrgKKVTvsIB2Sm8TxrhnA8Y9uZ3\n",
       "PK7UaxnfyNF+616oJ6GTX04PainW8FZfKl350xsN69VDtBDtz6jphEe5BoseoVeRfX6/MKML7jPO\n",
       "qZzxpnrBJ4qme4W+AunHSqNLVh0l4+i1S+faSZNwPE7aHlUInzzge/3n1e10RdfSBevxCmpfIRsa\n",
       "tAsZyLo5b0JRRi/nWIBfr5Su4YhULlfN1/HuweIgQVls299TL+eM62iDlyPx2VGR4ztdD5pmdTJY\n",
       "FBtEaLO/g3IxKQ6b5cpfNTL140E9D9NmKy6lkN2MWfqOJOw1qTh4YCmNzqCW/4s5dAD8ngcuhP5n\n",
       "nxNY9eLuFk8cq9yDa6B8U5fvaBPlqlfivE+HyyghkRO0Kzy7O0cv57jaNphiqzpG1gEqMidR5QK/\n",
       "GJ33o3gX+0x8J6PtRUKT4sprjlaibiu7Lzt9OKlcW59AnDHGC8rQG/cQswyj6nJKWdUagfjBdOJa\n",
       "OxNexDdkHVgox9gk5x5rjF61xcBq8R0PNH9a0ZZhuKQo2zRyVOGVFlcaE5aHG+Hfz2O4EqoLI4Uu\n",
       "d3N/mnoV/MTlyk1sojT9l6DmGM34iRuJh6r+MgS2h5B+JspkBoB4OXdfbqAMgKlQWhr0cFD1U3AQ\n",
       "GojSYQ+3e8l18QxvgAATwtcAAAMAshPvAAAA00GaJGxCf/3xAvGAY3kyM36gCBiFdEgT9L0fvGj/\n",
       "ru+bHgI+82/5yRNBLNetGPrsdttLaP4MQBh+kLL2JgAXuzLLex/MAeLlDTs8HAUEVJOMlhI2PT/+\n",
       "irVNA5UA77J0mGKStBl5ZuZOvbOmH5mLAxVJ1xrdzYJiy9E29B5Zp8UgJC1rMaAcDo6XagKP6Y7H\n",
       "7xybfJyRYFIfOHVh3AXeK4nFB5+wNHXbR5aU4pieMSw50q9640ZSbBbpY2OyLPWIB4xKKnJZeNmU\n",
       "KOcisQtwjCmVlbAAAABQQZ5CeIv/DB/wcocivMDoLfExuZz+MAAAAwAIkQkVTM+J/V1RenvIASrO\n",
       "AG8haHwAtr7FIWhImiIHDqYJhlHitwR0/vcaVSTOFUXnQd2wdIAAAAA0AZ5hdEX/Bpc57CXB0XWA\n",
       "AAADAAmYRqmbRfPAC8J6l7oiVQPxoAEPphaVhMKLt6PVZnoVkQAAACoBnmNqRf8MI69Pf84JmYAQ\n",
       "Z0jlEOnxfEKkrzIh722GPHTj7UGAAvOqaGEAAACGQZpoSahBaJlMCEf//eEAId0TbHN8GlGw4Boz\n",
       "Mi40EdCnNNaP1uGR41c3+r6x7UAUYAeuxMBqo02UkAsjtqPL51ewdSNRUKBupreaN1fGygvsffRF\n",
       "6Otoltsa/ZYxYAMku2hssYPKT6r/KrABi/l08zHS8oewJJKtuebBiSK/pfaEHkUvQOEAAAA8QZ6G\n",
       "RREsbwm8QtjlCFFUGTuAAAM9umZTo2242clKaAEAcpiy6gQICW2CXZETSRw1Jpdfedy1XKu5XDDA\n",
       "AAAAFwGepXRF/wHPLOa3OMwqlc78En9po+eVAAAAJAGep2pF/wDuB58oAA1G2pn7S9tLBxAV9vFv\n",
       "79aflmlns+Wo4QAAAGJBmqlJqEFsmUwIR//94QNddVe6ppMjum2P0Bg2N7gU2HJ0kP2AqD6BOhdM\n",
       "hSmD3xiQP7sF8r42E7BQ3eH1O1iha0Qj3yU/IQL3ySqG/L/5BbQzs4cmWFM5OpUf+OXdjgtKYAAA\n",
       "AEBBmstJ4QpSZTBRUsJ//fEABYSrvSvVX+JgAWBMhDGAJQopQ12qnMS7KqGwkCY4pt0TWDxN7MP3\n",
       "UDysSGxzOo3bAAAANQGe6mpF/wno6m3eIfGs9ArvISeQh3upk6r4ACEHZMk82tgeqnhvfAlenLDl\n",
       "UHKvobLLUjzxAAAATUGa7knhDomUwIR//eEACOgjgAIj2/oCYj8OY7GnfESU5rpoDQJCF+6wxMld\n",
       "I4+xIqMR8j19HZZA1cUwXk+rvkucMXeqCSAThYzVJySAAAAANkGfDEUVPF8J6Opt3iHxrPQK7yEn\n",
       "kMxP8SezAAGztLiVMAGmJTRL3teTs0KAEWGGxl4FRySz/QAAACYBny1qRf8AefKYACIBmzdn+TcT\n",
       "i6t5X1sKvubQC7B+a71lZ8IiwQAAADpBmzBJqEFomUwU8J/98QAFrh/RNTtn9ADld77hhgULupoD\n",
       "YpE9IicHy4ToGmJyOcdHAuKqLY8CMxB0AAAALwGfT2pF/wnwlcNDMD2RMABWmTyHSzRawAg4RnYc\n",
       "4j1jiDuBxyhr1GT8jT0owkxLAAAAQkGbU0nhClJlMCEf/eEACSaBVVnKyvUxsIApje8up5+U5VDj\n",
       "f5vW7t0doIGsRqaEgdEXg5QZJQN3Kp6pBXOmR8ZhOwAAADJBn3FFNExfCejqbd4h8az0Cu8hJ5Ec\n",
       "KfoPnT+9ugBNCVMukENvzAvWQdYDspRCyqLttQAAAB8Bn5JqRf8AfFvQjBNsAE6KUiD0qDS/nAJ+\n",
       "wRmhZ+ohAAAARkGblUmoQWiZTBTwn/3xAALmOJ4XFHgCrWHx5nqB1VAYonDVQwHY3cND/yqXA58V\n",
       "A/FVFDmOAICEW3u2ygLRcmEnfftIXGAAAAAvAZ+0akX/CfCVw0MwPZEwAFaZPFTjiOEACDoEUftL\n",
       "20r/iIX7ryFVHt9exJVqWCgAAAA1QZu4SeEKUmUwIR/94QAEuR+0SQAfhEfGn2NADJaMw9+90U76\n",
       "CMOp4FvSSl+XeelOagnsjhEAAAA1QZ/WRTRMXwno6m3eIfGs9ArvISeKti/YM+49q4AP2j4K/jrT\n",
       "GqE19Br2wG5PxZH88zBZ06AAAAApAZ/3akX/AD8fveEAJgi4xYktRucfJLqyBX1Y64Qznt0Gfn1S\n",
       "rv31xIEAAABBQZv6SahBaJlMFPCP/eEABLcUN3lgBuupN2hiQBM+qc3P+qnU8KdfsQIa1LZEUhTe\n",
       "8AjEym6tx7A2XR4ve8fo2FIAAAAsAZ4ZakX/CfCVw0MwPZEwAFaZPFYbQs48eIACGhF3cUjbhJBQ\n",
       "8kDS/ypnNf8AAABIQZocSeEKUmUwUsJ//fEAAv0DXw1LWaAJ8uze5eIobubx6qYNL55ymfAJlPX3\n",
       "l9rJPTTm3tj35R31xpDDPzeIj7twNHHhjTthAAAALwGeO2pF/wno6m3eIfGs9ArvISeKxCRXz8Ip\n",
       "4oADYUv2CTsAptIvbfdpNl7AJSXLAAAAPUGaP0nhDomUwIT//fEAAw5JVaC/u3Ur+ZdwAjSccCGw\n",
       "wwFf2F/YekEzoZYRWEg38oANT2QEwDGN2n9jpIEAAAA2QZ5dRRU8Xwno6m3eIfGs9ArvISeK3lWw\n",
       "AEY6tELJXW7UGBme9Qf0HGZqCs++NtWcdCYA3svAAAAAGwGefmpF/wBBV24YFACAAzanh934Uv7Y\n",
       "z1P8uAAAAEZBmmJJqEFomUwIR//94QACfNIFs5ABz4HOEuIGJhOrSo7GaffutVe6o5IZ4pCCGxyH\n",
       "hDaIxgPfbDi6GDp6dvpdRVt01QVBAAAAM0GegEURLF8J6Opt3iHxrPQK7yEnh4P2GGNXABsPNsIm\n",
       "MRPLSlT75nH0/rcwggUdsEJUngAAACABnqFqRf8AIYQRiQV/gAIY6cHD0a6T9J96MUpSWOLPQAAA\n",
       "AD1BmqRJqEFsmUwUTCf//fEAAZGLihfOedP+k1XPJsGgBuvKMqCzifm+n3fX+MgunuYqEHGko0OR\n",
       "eyDkGUe9AAAAMwGew2pF/wnwlcNDMD2RMABWmTw8VpFRzAAtPkUp3Bkeh8rzDxWXqnCGFk06gRux\n",
       "3ejpfwAAAEBBmsdJ4QpSZTAhH/3hAAFGjy8AN13dyCIJZB4Jq0r6wMhcECWlC0VHyMskNdYqDmPz\n",
       "WHt2G9Qvli2bZOoFsdTBAAAANkGe5UU0TF8J6Opt3iHxrPQK7yEnhcz39wyIXAAP/nd1fRLJujqt\n",
       "AQ7SefkX8FibXqj7goJCgAAAACQBnwZqRf8AEdWxx2TABDyLaBl9qumWSvRjF8ZiSif5Up0UkSgA\n",
       "AABAQZsJSahBaJlMFPCf/fEAAM4QXgSEAI4vaSAy/w5W/LdASj+8aEoWj8ZvhUM26NnPi3bfz5f4\n",
       "qK4X/U+dGeMZrQAAADEBnyhqRf8J8JXDQzA9kTAAVpk8LofKETsAC2adrsoi7J5s8B1UT8d++KyW\n",
       "mNAcegpAAAAARUGbLEnhClJlMCEf/eEAAUbKvVSAze1SOXdce5Zu4Xj1CObx7D3ilXUWiKUrH92a\n",
       "Gdi4mPdBXgo4T70t/U4yJ39F0BF7/QAAADNBn0pFNExfCejqbd4h8az0Cu8hJ4XX8T9cNDokQAH3\n",
       "hJbJUPloZr9IS/ZAGYFcwLAANcEAAAAiAZ9rakX/ABHfQ4ZHlu8vnAB9k0y1T1YPFrxbYrp3O5Q1\n",
       "gAAAADNBm25JqEFomUwU8J/98QAAadONBw8AEn4AiPo8tivLIuXJw4LACV2hg8dzwNM1uf5BLxcA\n",
       "AAAxAZ+NakX/CfCVw0MwPZEwAFaZPC6tanGAANp1aIMUTCFQ2Eg8UkG3kgk8mFNkxMcmBwAAADVB\n",
       "m5FJ4QpSZTAhP/3xAABpaZVg7gCtTp0+9iXiANBvQLYGlw5XVtUe3oT744ILUQZQGRHFbwAAADRB\n",
       "n69FNExfCejqbd4h8az0Cu8hJ4XYO96IaxkAJj7DP0ga0QO8YxdHiBsBb7jzhDoMX0SBAAAAHgGf\n",
       "0GpF/wAI4f5ZEM3OQACTafYiC6J5nc7PZcl0bgAAAD1Bm9RJqEFomUwIR//94QAArLR08sAI9xGU\n",
       "SuW1FkDMXVACpCtWbcsHVbvQAmT/Abl+TOVhUZrG3udQnDbzAAAANEGf8kURLF8J6Opt3iHxrPQK\n",
       "7yEnhPGAtgAE7KFbXOn+j4lL+VINjK7lU6yYu9kd1EsiLPEAAAAXAZ4TakX/AAklQ1vvTcHlVjaa\n",
       "him012AAAABaQZoWSahBbJlMFEwn//3xAABr6ZUK3KbHABO3j38qoCwTlwx3341/CCalPW46nt3d\n",
       "j5AH5uBg8OLvslV6T+JBMzYPgkuJ9TXhBjIzG2b1SzuvYC2xwdXKcYGAAAAALwGeNWpF/wnwlcND\n",
       "MD2RMABWmTwniMWGMAxgBAdDJX7zygKJOWZzULQMwACdiMZtAAAAQ0GaOUnhClJlMCEf/eEAAFi5\n",
       "ejN7tgA49kESkVtJX+d9eL75SRtoXLyh24aRHoCiCN/KmAlBIHvn2WSNlG9ioU8DnsQAAAAyQZ5X\n",
       "RTRMXwno6m3eIfGs9ArvISeEe+EHE1+hQAlhSzhi1YXNPoLipxKdun8i8c1SfecAAAAgAZ54akX/\n",
       "AAS4BNQAQ5RcypEuT7R9EICtRk+R4qdVmx4AAAA+QZp8SahBaJlMCEf//eEAAFjVPl9j/4tACMBx\n",
       "vWZMxzcsUZhLukXf4FaZUZcc6hWC+6/Hls83s+3eiDOoJEEAAAAxQZ6aRREsXwno6m3eIfGs9Arv\n",
       "ISeEevSUvtdxcAGzhYOg0Ds5Qb8C6DDqnjbnfS6XUQAAABwBnrtqRf8AAmysAlAAGzzi6pCUZZ5/\n",
       "Hs6NjPnXAAAAM0GavkmoQWyZTBRMI//94QAALV0iuOd1C+IAS2QwjVIzTn5AD/+QvJSo++OcmhCt\n",
       "U1oc+QAAACsBnt1qRf8J8JXDQzA9kTAAVpk8Ifgtc8kIAIPJarKrzaff+Gv7cWjyS5LaAAAAL0Ga\n",
       "wEnhClJlMFLCP/3hAAAWrKw8CQAlkVJwAXjHrFWBCEgJ8eYq9hY0jiFNvzaAAAAAJwGe/2pF/wno\n",
       "6m3eIfGs9ArvISeEH81yGIgA2AjpIU5yb+eTI6yngQAAADRBmuNJ4Q6JlMCEf/3hAAAXRpADEABO\n",
       "oHHb6SVvOOylogTGDFQDA1mPua0+HwKiDDHamKEwAAAALUGfAUUVPF8J6Opt3iHxrPQK7yEnhCB4\n",
       "exq4ANnq+YXuKNxObXZasm6Up19pCAAAABQBnyJqRf8AATmvknRTflYHBZbdlwAAADVBmyZJqEFo\n",
       "mUwI//yEAABdfRjfn82BM+Xt4AAL0z24bHKwiSrQpUo8ygiWtOKTX5lfL/e+VQAAADlBn0RFESxf\n",
       "Cejqbd4h8az0Cu8hJ4QheNnQv8nGACGha2udv0FJXBEMRwxz3vvuvkTHzk5Yirzlg4kAAAAmAZ9l\n",
       "akX/AAFHzgZcACAlUFGO9iMkkXhJLc0kgji9peWy6DgaSFwAAAAxQZtnSahBbJlMCP/8hAAALlMj\n",
       "Bw/MfACE0GBVAWZyPJw2JcN2j//JU8au8zHL2DpHgAAAACtBm4lJ4QpSZTBRUsX/+lgAtoEiYGvk\n",
       "WkiGImxO6E0p8X6mexInvlfbdJAJAAAAKAGfqGpF/wno6m3eIfGs9ArvISfFLkFZANyl5AQwDIAE\n",
       "KBxhj3uxLJ8AAGbqbW9vdgAAAGxtdmhkAAAAAAAAAAAAAAAAAAAD6AAAWsgAAQAAAQAAAAAAAAAA\n",
       "AAAAAAEAAAAAAAAAAAAAAAAAAAABAAAAAAAAAAAAAAAAAABAAAAAAAAAAAAAAAAAAAAAAAAAAAAA\n",
       "AAAAAAAAAAAAAgAAZhR0cmFrAAAAXHRraGQAAAADAAAAAAAAAAAAAAABAAAAAAAAWsgAAAAAAAAA\n",
       "AAAAAAAAAAAAAAEAAAAAAAAAAAAAAAAAAAABAAAAAAAAAAAAAAAAAABAAAAAAbAAAAEgAAAAAAAk\n",
       "ZWR0cwAAABxlbHN0AAAAAAAAAAEAAFrIAAABAAABAAAAAGWMbWRpYQAAACBtZGhkAAAAAAAAAAAA\n",
       "AAAAAAAyAAAEigBVxAAAAAAALWhkbHIAAAAAAAAAAHZpZGUAAAAAAAAAAAAAAABWaWRlb0hhbmRs\n",
       "ZXIAAABlN21pbmYAAAAUdm1oZAAAAAEAAAAAAAAAAAAAACRkaW5mAAAAHGRyZWYAAAAAAAAAAQAA\n",
       "AAx1cmwgAAAAAQAAZPdzdGJsAAAAs3N0c2QAAAAAAAAAAQAAAKNhdmMxAAAAAAAAAAEAAAAAAAAA\n",
       "AAAAAAAAAAAAAbABIABIAAAASAAAAAAAAAABAAAAAAAAAAAAAAAAAAAAAAAAAAAAAAAAAAAAAAAA\n",
       "AAAAGP//AAAAMWF2Y0MBZAAf/+EAGGdkAB+s2UGwloQAAAMABAAAAwMgPGDGWAEABmjr48siwAAA\n",
       "ABx1dWlka2hA8l8kT8W6OaUbzwMj8wAAAAAAAAAYc3R0cwAAAAAAAAABAAAJFAAAAIAAAAA4c3Rz\n",
       "cwAAAAAAAAAKAAAAAQAAAPsAAAH1AAAC7wAAA+kAAATjAAAF3QAABtcAAAfRAAAIywAAP1hjdHRz\n",
       "AAAAAAAAB+kAAAABAAABAAAAAAEAAAKAAAAAAQAAAQAAAAABAAAAAAAAAAEAAACAAAAAAgAAAQAA\n",
       "AAABAAABgAAAAAEAAACAAAAAAQAAAoAAAAABAAABAAAAAAEAAAAAAAAAAQAAAIAAAAABAAACAAAA\n",
       "AAIAAACAAAAAAQAAAQAAAAABAAACAAAAAAIAAACAAAAAAQAAAYAAAAABAAAAgAAAAAEAAAKAAAAA\n",
       "AQAAAQAAAAABAAAAAAAAAAEAAACAAAAAAQAAAoAAAAABAAABAAAAAAEAAAAAAAAAAQAAAIAAAAAB\n",
       "AAABgAAAAAEAAACAAAAAAQAAAgAAAAACAAAAgAAAAAEAAAGAAAAAAQAAAIAAAAABAAACgAAAAAEA\n",
       "AAEAAAAAAQAAAAAAAAABAAAAgAAAAAEAAAGAAAAAAQAAAIAAAAABAAABgAAAAAEAAACAAAAAAQAA\n",
       "AgAAAAACAAAAgAAAAAEAAAIAAAAAAgAAAIAAAAABAAACgAAAAAEAAAEAAAAAAQAAAAAAAAABAAAA\n",
       "gAAAAAEAAAEAAAAAAQAAAYAAAAABAAAAgAAAAAEAAAGAAAAAAQAAAIAAAAABAAACgAAAAAEAAAEA\n",
       "AAAAAQAAAAAAAAABAAAAgAAAAAEAAAIAAAAAAgAAAIAAAAABAAACgAAAAAEAAAEAAAAAAQAAAAAA\n",
       "AAABAAAAgAAAAAEAAAGAAAAAAQAAAIAAAAABAAABgAAAAAEAAACAAAAAAQAAAYAAAAABAAAAgAAA\n",
       "AAEAAAKAAAAAAQAAAQAAAAABAAAAAAAAAAEAAACAAAAAAQAAAgAAAAACAAAAgAAAAAEAAAKAAAAA\n",
       "AQAAAQAAAAABAAAAAAAAAAEAAACAAAAAAQAAAYAAAAABAAAAgAAAAAEAAAGAAAAAAQAAAIAAAAAB\n",
       "AAABgAAAAAEAAACAAAAAAQAAAQAAAAABAAABgAAAAAEAAACAAAAAAQAAAYAAAAABAAAAgAAAAAEA\n",
       "AAGAAAAAAQAAAIAAAAABAAABgAAAAAEAAACAAAAAAQAAAYAAAAABAAAAgAAAAAEAAAKAAAAAAQAA\n",
       "AQAAAAABAAAAAAAAAAEAAACAAAAAAQAAAQAAAAABAAABgAAAAAEAAACAAAAAAQAAAoAAAAABAAAB\n",
       "AAAAAAEAAAAAAAAAAQAAAIAAAAABAAABAAAAAAEAAAKAAAAAAQAAAQAAAAABAAAAAAAAAAEAAACA\n",
       "AAAAAQAAAYAAAAABAAAAgAAAAAEAAAGAAAAAAQAAAIAAAAABAAABgAAAAAEAAACAAAAAAQAAAYAA\n",
       "AAABAAAAgAAAAAEAAAKAAAAAAQAAAQAAAAABAAAAAAAAAAEAAACAAAAAAQAAAoAAAAABAAABAAAA\n",
       "AAEAAAAAAAAAAQAAAIAAAAABAAACgAAAAAEAAAEAAAAAAQAAAAAAAAABAAAAgAAAAAEAAAKAAAAA\n",
       "AQAAAQAAAAABAAAAAAAAAAEAAACAAAAAAgAAAQAAAAABAAABgAAAAAEAAACAAAAAAQAAAgAAAAAC\n",
       "AAAAgAAAAAEAAAGAAAAAAQAAAIAAAAABAAABgAAAAAEAAACAAAAAAQAAAQAAAAABAAACgAAAAAEA\n",
       "AAEAAAAAAQAAAAAAAAABAAAAgAAAAAEAAAIAAAAAAgAAAIAAAAABAAACAAAAAAIAAACAAAAAAQAA\n",
       "AoAAAAABAAABAAAAAAEAAAAAAAAAAQAAAIAAAAABAAACgAAAAAEAAAEAAAAAAQAAAAAAAAABAAAA\n",
       "gAAAAAEAAAGAAAAAAQAAAIAAAAABAAACAAAAAAIAAACAAAAAAQAAAYAAAAABAAAAgAAAAAEAAAIA\n",
       "AAAAAgAAAIAAAAABAAABgAAAAAEAAACAAAAAAQAAAYAAAAABAAAAgAAAAAEAAAIAAAAAAgAAAIAA\n",
       "AAABAAACAAAAAAIAAACAAAAAAQAAAgAAAAACAAAAgAAAAAEAAAIAAAAAAgAAAIAAAAABAAACAAAA\n",
       "AAIAAACAAAAAAQAAAYAAAAABAAAAgAAAAAEAAAGAAAAAAQAAAIAAAAABAAACAAAAAAIAAACAAAAA\n",
       "AQAAAgAAAAACAAAAgAAAAAEAAAIAAAAAAgAAAIAAAAABAAABgAAAAAEAAACAAAAAAQAAAgAAAAAC\n",
       "AAAAgAAAAAEAAAKAAAAAAQAAAQAAAAABAAAAAAAAAAEAAACAAAAAAQAAAoAAAAABAAABAAAAAAEA\n",
       "AAAAAAAAAQAAAIAAAAABAAABgAAAAAEAAACAAAAAAQAAAoAAAAABAAABAAAAAAEAAAAAAAAAAQAA\n",
       "AIAAAAABAAACAAAAAAIAAACAAAAAAQAAAYAAAAABAAAAgAAAAAEAAAGAAAAAAQAAAIAAAAABAAAB\n",
       "gAAAAAEAAACAAAAAAQAAAQAAAAABAAACgAAAAAEAAAEAAAAAAQAAAAAAAAABAAAAgAAAAAEAAAEA\n",
       "AAAAAQAAAgAAAAACAAAAgAAAAAEAAAKAAAAAAQAAAQAAAAABAAAAAAAAAAEAAACAAAAAAQAAAYAA\n",
       "AAABAAAAgAAAAAEAAAKAAAAAAQAAAQAAAAABAAAAAAAAAAEAAACAAAAAAQAAAgAAAAACAAAAgAAA\n",
       "AAEAAAGAAAAAAQAAAIAAAAABAAACAAAAAAIAAACAAAAAAQAAAoAAAAABAAABAAAAAAEAAAAAAAAA\n",
       "AQAAAIAAAAABAAACAAAAAAIAAACAAAAAAQAAAoAAAAABAAABAAAAAAEAAAAAAAAAAQAAAIAAAAAB\n",
       "AAABgAAAAAEAAACAAAAAAQAAAQAAAAABAAACAAAAAAIAAACAAAAAAQAAAQAAAAABAAACAAAAAAIA\n",
       "AACAAAAAAQAAAYAAAAABAAAAgAAAAAEAAAEAAAAAAQAAAoAAAAABAAABAAAAAAEAAAAAAAAAAQAA\n",
       "AIAAAAABAAABAAAAAAEAAAKAAAAAAQAAAQAAAAABAAAAAAAAAAEAAACAAAAAAQAAAYAAAAABAAAA\n",
       "gAAAAAEAAAKAAAAAAQAAAQAAAAABAAAAAAAAAAEAAACAAAAAAQAAAoAAAAABAAABAAAAAAEAAAAA\n",
       "AAAAAQAAAIAAAAABAAACAAAAAAIAAACAAAAAAQAAAYAAAAABAAAAgAAAAAEAAAKAAAAAAQAAAQAA\n",
       "AAABAAAAAAAAAAEAAACAAAAAAQAAAgAAAAACAAAAgAAAAAEAAAGAAAAAAQAAAIAAAAABAAACAAAA\n",
       "AAIAAACAAAAAAQAAAYAAAAABAAAAgAAAAAEAAAGAAAAAAQAAAIAAAAABAAACAAAAAAIAAACAAAAA\n",
       "AQAAAgAAAAACAAAAgAAAAAEAAAGAAAAAAQAAAIAAAAABAAABAAAAAAEAAAKAAAAAAQAAAQAAAAAB\n",
       "AAAAAAAAAAEAAACAAAAAAQAAAoAAAAABAAABAAAAAAEAAAAAAAAAAQAAAIAAAAABAAABAAAAAAEA\n",
       "AAGAAAAAAQAAAIAAAAABAAABgAAAAAEAAACAAAAAAQAAAYAAAAABAAAAgAAAAAIAAAEAAAAAAQAA\n",
       "AoAAAAABAAABAAAAAAEAAAAAAAAAAQAAAIAAAAABAAACAAAAAAIAAACAAAAAAQAAAgAAAAACAAAA\n",
       "gAAAAAEAAAEAAAAAAQAAAoAAAAABAAABAAAAAAEAAAAAAAAAAQAAAIAAAAABAAACAAAAAAIAAACA\n",
       "AAAAAQAAAYAAAAABAAAAgAAAAAEAAAKAAAAAAQAAAQAAAAABAAAAAAAAAAEAAACAAAAAAQAAAoAA\n",
       "AAABAAABAAAAAAEAAAAAAAAAAQAAAIAAAAABAAABgAAAAAEAAACAAAAAAQAAAoAAAAABAAABAAAA\n",
       "AAEAAAAAAAAAAQAAAIAAAAABAAACAAAAAAIAAACAAAAAAQAAAYAAAAABAAAAgAAAAAEAAAIAAAAA\n",
       "AgAAAIAAAAABAAABgAAAAAEAAACAAAAAAQAAAgAAAAACAAAAgAAAAAEAAAGAAAAAAQAAAIAAAAAB\n",
       "AAACAAAAAAIAAACAAAAAAQAAAYAAAAABAAAAgAAAAAMAAAEAAAAAAQAAAYAAAAABAAAAgAAAAAEA\n",
       "AAGAAAAAAQAAAIAAAAABAAACgAAAAAEAAAEAAAAAAQAAAAAAAAABAAAAgAAAAAEAAAKAAAAAAQAA\n",
       "AQAAAAABAAAAAAAAAAEAAACAAAAAAQAAAgAAAAACAAAAgAAAAAEAAAGAAAAAAQAAAIAAAAABAAAB\n",
       "gAAAAAEAAACAAAAAAQAAAoAAAAABAAABAAAAAAEAAAAAAAAAAQAAAIAAAAABAAACAAAAAAIAAACA\n",
       "AAAAAQAAAYAAAAABAAAAgAAAAAEAAAGAAAAAAQAAAIAAAAABAAABgAAAAAEAAACAAAAAAQAAAgAA\n",
       "AAACAAAAgAAAAAEAAAGAAAAAAQAAAIAAAAABAAACAAAAAAIAAACAAAAAAQAAAYAAAAABAAAAgAAA\n",
       "AAEAAAKAAAAAAQAAAQAAAAABAAAAAAAAAAEAAACAAAAAAQAAAoAAAAABAAABAAAAAAEAAAAAAAAA\n",
       "AQAAAIAAAAABAAACAAAAAAIAAACAAAAAAQAAAYAAAAABAAAAgAAAAAEAAAIAAAAAAgAAAIAAAAAB\n",
       "AAACgAAAAAEAAAEAAAAAAQAAAAAAAAABAAAAgAAAAAEAAAKAAAAAAQAAAQAAAAABAAAAAAAAAAEA\n",
       "AACAAAAAAQAAAoAAAAABAAABAAAAAAEAAAAAAAAAAQAAAIAAAAABAAABgAAAAAEAAACAAAAAAQAA\n",
       "AoAAAAABAAABAAAAAAEAAAAAAAAAAQAAAIAAAAABAAABgAAAAAEAAACAAAAAAQAAAYAAAAABAAAA\n",
       "gAAAAAIAAAEAAAAAAQAAAYAAAAABAAAAgAAAAAEAAAIAAAAAAgAAAIAAAAABAAABgAAAAAEAAACA\n",
       "AAAAAQAAAgAAAAACAAAAgAAAAAEAAAGAAAAAAQAAAIAAAAABAAABAAAAAAEAAAKAAAAAAQAAAQAA\n",
       "AAABAAAAAAAAAAEAAACAAAAAAQAAAoAAAAABAAABAAAAAAEAAAAAAAAAAQAAAIAAAAACAAABAAAA\n",
       "AAEAAAKAAAAAAQAAAQAAAAABAAAAAAAAAAEAAACAAAAAAQAAAoAAAAABAAABAAAAAAEAAAAAAAAA\n",
       "AQAAAIAAAAABAAACAAAAAAIAAACAAAAAAQAAAoAAAAABAAABAAAAAAEAAAAAAAAAAQAAAIAAAAAB\n",
       "AAABgAAAAAEAAACAAAAAAQAAAYAAAAABAAAAgAAAAAEAAAGAAAAAAQAAAIAAAAABAAACAAAAAAIA\n",
       "AACAAAAAAQAAAYAAAAABAAAAgAAAAAEAAAKAAAAAAQAAAQAAAAABAAAAAAAAAAEAAACAAAAAAQAA\n",
       "AgAAAAACAAAAgAAAAAEAAAGAAAAAAQAAAIAAAAABAAABgAAAAAEAAACAAAAAAQAAAgAAAAACAAAA\n",
       "gAAAAAEAAAGAAAAAAQAAAIAAAAABAAABAAAAAAEAAAGAAAAAAQAAAIAAAAABAAABgAAAAAEAAACA\n",
       "AAAAAQAAAgAAAAACAAAAgAAAAAEAAAKAAAAAAQAAAQAAAAABAAAAAAAAAAEAAACAAAAAAQAAAoAA\n",
       "AAABAAABAAAAAAEAAAAAAAAAAQAAAIAAAAABAAABAAAAAAEAAAGAAAAAAQAAAIAAAAABAAABAAAA\n",
       "AAEAAAIAAAAAAgAAAIAAAAABAAABgAAAAAEAAACAAAAAAQAAAgAAAAACAAAAgAAAAAEAAAIAAAAA\n",
       "AgAAAIAAAAABAAABgAAAAAEAAACAAAAAAQAAAgAAAAACAAAAgAAAAAEAAAIAAAAAAgAAAIAAAAAB\n",
       "AAABgAAAAAEAAACAAAAAAQAAAgAAAAACAAAAgAAAAAEAAAGAAAAAAQAAAIAAAAABAAABgAAAAAEA\n",
       "AACAAAAAAQAAAoAAAAABAAABAAAAAAEAAAAAAAAAAQAAAIAAAAABAAACgAAAAAEAAAEAAAAAAQAA\n",
       "AAAAAAABAAAAgAAAAAIAAAEAAAAAAQAAAgAAAAACAAAAgAAAAAEAAAGAAAAAAQAAAIAAAAABAAAC\n",
       "AAAAAAIAAACAAAAAAQAAAgAAAAACAAAAgAAAAAEAAAIAAAAAAgAAAIAAAAABAAABgAAAAAEAAACA\n",
       "AAAAAQAAAgAAAAACAAAAgAAAAAEAAAGAAAAAAQAAAIAAAAABAAACAAAAAAIAAACAAAAAAQAAAYAA\n",
       "AAABAAAAgAAAAAEAAAGAAAAAAQAAAIAAAAABAAACgAAAAAEAAAEAAAAAAQAAAAAAAAABAAAAgAAA\n",
       "AAEAAAIAAAAAAgAAAIAAAAABAAACAAAAAAIAAACAAAAAAQAAAQAAAAABAAABgAAAAAEAAACAAAAA\n",
       "AQAAAgAAAAACAAAAgAAAAAEAAAEAAAAAAQAAAgAAAAACAAAAgAAAAAEAAAIAAAAAAgAAAIAAAAAB\n",
       "AAABgAAAAAEAAACAAAAAAQAAAgAAAAACAAAAgAAAAAEAAAIAAAAAAgAAAIAAAAABAAABgAAAAAEA\n",
       "AACAAAAAAQAAAoAAAAABAAABAAAAAAEAAAAAAAAAAQAAAIAAAAABAAACgAAAAAEAAAEAAAAAAQAA\n",
       "AAAAAAABAAAAgAAAAAEAAAKAAAAAAQAAAQAAAAABAAAAAAAAAAEAAACAAAAAAQAAAgAAAAACAAAA\n",
       "gAAAAAEAAAKAAAAAAQAAAQAAAAABAAAAAAAAAAEAAACAAAAAAQAAAoAAAAABAAABAAAAAAEAAAAA\n",
       "AAAAAQAAAIAAAAABAAABgAAAAAEAAACAAAAAAQAAAYAAAAABAAAAgAAAAAEAAAKAAAAAAQAAAQAA\n",
       "AAABAAAAAAAAAAEAAACAAAAAAQAAAYAAAAABAAAAgAAAAAEAAAGAAAAAAQAAAIAAAAABAAABgAAA\n",
       "AAEAAACAAAAAAQAAAYAAAAABAAAAgAAAAAEAAAIAAAAAAgAAAIAAAAABAAACAAAAAAIAAACAAAAA\n",
       "AQAAAYAAAAABAAAAgAAAAAEAAAGAAAAAAQAAAIAAAAABAAACAAAAAAIAAACAAAAAAQAAAoAAAAAB\n",
       "AAABAAAAAAEAAAAAAAAAAQAAAIAAAAABAAACgAAAAAEAAAEAAAAAAQAAAAAAAAABAAAAgAAAAAEA\n",
       "AAKAAAAAAQAAAQAAAAABAAAAAAAAAAEAAACAAAAAAgAAAQAAAAABAAABgAAAAAEAAACAAAAAAQAA\n",
       "AYAAAAABAAAAgAAAAAEAAAGAAAAAAQAAAIAAAAABAAABgAAAAAEAAACAAAAAAQAAAgAAAAACAAAA\n",
       "gAAAAAEAAAGAAAAAAQAAAIAAAAABAAABgAAAAAEAAACAAAAAAQAAAYAAAAABAAAAgAAAAAEAAAKA\n",
       "AAAAAQAAAQAAAAABAAAAAAAAAAEAAACAAAAABAAAAQAAAAABAAACgAAAAAEAAAEAAAAAAQAAAAAA\n",
       "AAABAAAAgAAAAAEAAAGAAAAAAQAAAIAAAAABAAABgAAAAAEAAACAAAAAAQAAAgAAAAACAAAAgAAA\n",
       "AAEAAAIAAAAAAgAAAIAAAAABAAABgAAAAAEAAACAAAAAAQAAAgAAAAACAAAAgAAAAAEAAAGAAAAA\n",
       "AQAAAIAAAAABAAACAAAAAAIAAACAAAAAAQAAAgAAAAACAAAAgAAAAAEAAAIAAAAAAgAAAIAAAAAB\n",
       "AAABgAAAAAEAAACAAAAAAQAAAgAAAAACAAAAgAAAAAEAAAGAAAAAAQAAAIAAAAABAAACAAAAAAIA\n",
       "AACAAAAAAQAAAQAAAAABAAACAAAAAAIAAACAAAAAAQAAAQAAAAABAAABgAAAAAEAAACAAAAAAQAA\n",
       "AgAAAAACAAAAgAAAAAEAAAIAAAAAAgAAAIAAAAABAAACAAAAAAIAAACAAAAAAQAAAoAAAAABAAAB\n",
       "AAAAAAEAAAAAAAAAAQAAAIAAAAABAAABgAAAAAEAAACAAAAAAQAAAQAAAAABAAABgAAAAAEAAACA\n",
       "AAAAAQAAAYAAAAABAAAAgAAAAAEAAAGAAAAAAQAAAIAAAAABAAABgAAAAAEAAACAAAAAAQAAAYAA\n",
       "AAABAAAAgAAAAAEAAAGAAAAAAQAAAIAAAAABAAACgAAAAAEAAAEAAAAAAQAAAAAAAAABAAAAgAAA\n",
       "AAEAAAKAAAAAAQAAAQAAAAABAAAAAAAAAAEAAACAAAAAAQAAAgAAAAACAAAAgAAAAAEAAAGAAAAA\n",
       "AQAAAIAAAAABAAABgAAAAAEAAACAAAAAAQAAAYAAAAABAAAAgAAAAAEAAAEAAAAAAQAAAYAAAAAB\n",
       "AAAAgAAAAAEAAAKAAAAAAQAAAQAAAAABAAAAAAAAAAEAAACAAAAAAwAAAQAAAAABAAABgAAAAAEA\n",
       "AACAAAAAAQAAAgAAAAACAAAAgAAAAAEAAAGAAAAAAQAAAIAAAAABAAABgAAAAAEAAACAAAAAAQAA\n",
       "AoAAAAABAAABAAAAAAEAAAAAAAAAAQAAAIAAAAABAAACgAAAAAEAAAEAAAAAAQAAAAAAAAABAAAA\n",
       "gAAAAAEAAAEAAAAAAQAAAYAAAAABAAAAgAAAAAEAAAGAAAAAAQAAAIAAAAABAAABgAAAAAEAAACA\n",
       "AAAAAQAAAYAAAAABAAAAgAAAAAEAAAIAAAAAAgAAAIAAAAABAAACAAAAAAIAAACAAAAAAQAAAYAA\n",
       "AAABAAAAgAAAAAEAAAIAAAAAAgAAAIAAAAABAAABgAAAAAEAAACAAAAAAQAAAYAAAAABAAAAgAAA\n",
       "AAEAAAGAAAAAAQAAAIAAAAABAAABgAAAAAEAAACAAAAAAQAAAYAAAAABAAAAgAAAAAEAAAIAAAAA\n",
       "AgAAAIAAAAABAAABgAAAAAEAAACAAAAAAQAAAgAAAAACAAAAgAAAAAEAAAKAAAAAAQAAAQAAAAAB\n",
       "AAAAAAAAAAEAAACAAAAAAQAAAoAAAAABAAABAAAAAAEAAAAAAAAAAQAAAIAAAAABAAACgAAAAAEA\n",
       "AAEAAAAAAQAAAAAAAAABAAAAgAAAAAEAAAGAAAAAAQAAAIAAAAABAAABgAAAAAEAAACAAAAAAQAA\n",
       "AoAAAAABAAABAAAAAAEAAAAAAAAAAQAAAIAAAAAEAAABAAAAAAEAAAIAAAAAAgAAAIAAAAABAAAB\n",
       "gAAAAAEAAACAAAAAAQAAAQAAAAABAAACAAAAAAIAAACAAAAAAQAAAYAAAAABAAAAgAAAAAEAAAIA\n",
       "AAAAAgAAAIAAAAABAAABgAAAAAEAAACAAAAAAQAAAYAAAAABAAAAgAAAAAEAAAGAAAAAAQAAAIAA\n",
       "AAABAAABgAAAAAEAAACAAAAAAQAAAQAAAAABAAACAAAAAAIAAACAAAAAAQAAAQAAAAABAAACAAAA\n",
       "AAIAAACAAAAABwAAAQAAAAABAAACgAAAAAEAAAEAAAAAAQAAAAAAAAABAAAAgAAAAAEAAAGAAAAA\n",
       "AQAAAIAAAAABAAABAAAAAAEAAAGAAAAAAQAAAIAAAAABAAABgAAAAAEAAACAAAAAAQAAAYAAAAAB\n",
       "AAAAgAAAAAEAAAKAAAAAAQAAAQAAAAABAAAAAAAAAAEAAACAAAAAAQAAAgAAAAACAAAAgAAAAAEA\n",
       "AAKAAAAAAQAAAQAAAAABAAAAAAAAAAEAAACAAAAAAQAAAYAAAAABAAAAgAAAAAEAAAGAAAAAAQAA\n",
       "AIAAAAABAAABAAAAAAEAAAGAAAAAAQAAAIAAAAABAAABAAAAAAEAAAGAAAAAAQAAAIAAAAABAAAB\n",
       "gAAAAAEAAACAAAAAAQAAAYAAAAABAAAAgAAAAAEAAAGAAAAAAQAAAIAAAAABAAACAAAAAAIAAACA\n",
       "AAAAAQAAAQAAAAABAAABgAAAAAEAAACAAAAAAQAAAYAAAAABAAAAgAAAAAEAAAGAAAAAAQAAAIAA\n",
       "AAABAAACgAAAAAEAAAEAAAAAAQAAAAAAAAABAAAAgAAAAAEAAAEAAAAAAQAAAoAAAAABAAABAAAA\n",
       "AAEAAAAAAAAAAQAAAIAAAAABAAACgAAAAAEAAAEAAAAAAQAAAAAAAAABAAAAgAAAAAEAAAKAAAAA\n",
       "AQAAAQAAAAABAAAAAAAAAAEAAACAAAAAAQAAAoAAAAABAAABAAAAAAEAAAAAAAAAAQAAAIAAAAAB\n",
       "AAABgAAAAAEAAACAAAAAAQAAAYAAAAABAAAAgAAAAAEAAAGAAAAAAQAAAIAAAAABAAACAAAAAAIA\n",
       "AACAAAAAAQAAAgAAAAACAAAAgAAAAAEAAAIAAAAAAgAAAIAAAAABAAACAAAAAAIAAACAAAAAAQAA\n",
       "AgAAAAACAAAAgAAAAAEAAAGAAAAAAQAAAIAAAAABAAACAAAAAAIAAACAAAAAAQAAAYAAAAABAAAA\n",
       "gAAAAAEAAAIAAAAAAgAAAIAAAAABAAACAAAAAAIAAACAAAAAAQAAAgAAAAACAAAAgAAAAAEAAAGA\n",
       "AAAAAQAAAIAAAAABAAACAAAAAAIAAACAAAAAAQAAAYAAAAABAAAAgAAAAAEAAAIAAAAAAgAAAIAA\n",
       "AAABAAABAAAAAAEAAAGAAAAAAQAAAIAAAAABAAABAAAAAAEAAAIAAAAAAgAAAIAAAAABAAACAAAA\n",
       "AAIAAACAAAAAAQAAAgAAAAACAAAAgAAAAAIAAAEAAAAAAQAAAoAAAAABAAABAAAAAAEAAAAAAAAA\n",
       "AQAAAIAAAAABAAABgAAAAAEAAACAAAAAAQAAAYAAAAABAAAAgAAAAAEAAAGAAAAAAQAAAIAAAAAB\n",
       "AAABgAAAAAEAAACAAAAAAQAAAYAAAAABAAAAgAAAAAEAAAIAAAAAAgAAAIAAAAABAAABgAAAAAEA\n",
       "AACAAAAAAQAAAgAAAAACAAAAgAAAAAEAAAIAAAAAAgAAAIAAAAABAAABgAAAAAEAAACAAAAAAQAA\n",
       "AgAAAAACAAAAgAAAAAEAAAGAAAAAAQAAAIAAAAABAAABgAAAAAEAAACAAAAAAQAAAYAAAAABAAAA\n",
       "gAAAAAEAAAGAAAAAAQAAAIAAAAABAAABgAAAAAEAAACAAAAAAQAAAgAAAAACAAAAgAAAAAEAAAKA\n",
       "AAAAAQAAAQAAAAABAAAAAAAAAAEAAACAAAAAAQAAAoAAAAABAAABAAAAAAEAAAAAAAAAAQAAAIAA\n",
       "AAABAAABAAAAAAEAAAKAAAAAAQAAAQAAAAABAAAAAAAAAAEAAACAAAAAAQAAAgAAAAACAAAAgAAA\n",
       "AAQAAAEAAAAAAQAAAYAAAAABAAAAgAAAAAEAAAEAAAAAAQAAAYAAAAABAAAAgAAAAAEAAAEAAAAA\n",
       "AQAAAYAAAAABAAAAgAAAAAEAAAGAAAAAAQAAAIAAAAABAAABgAAAAAEAAACAAAAAAQAAAYAAAAAB\n",
       "AAAAgAAAAAEAAAIAAAAAAgAAAIAAAAABAAABAAAAAAEAAAKAAAAAAQAAAQAAAAABAAAAAAAAAAEA\n",
       "AACAAAAAAQAAAgAAAAACAAAAgAAAAAEAAAIAAAAAAgAAAIAAAAABAAABgAAAAAEAAACAAAAAAQAA\n",
       "AoAAAAABAAABAAAAAAEAAAAAAAAAAQAAAIAAAAABAAACAAAAAAIAAACAAAAAAQAAAYAAAAABAAAA\n",
       "gAAAAAEAAAGAAAAAAQAAAIAAAAABAAABAAAAAAEAAAGAAAAAAQAAAIAAAAABAAABgAAAAAEAAACA\n",
       "AAAAAQAAAYAAAAABAAAAgAAAAAEAAAGAAAAAAQAAAIAAAAABAAABgAAAAAEAAACAAAAAAQAAAYAA\n",
       "AAABAAAAgAAAAAEAAAIAAAAAAgAAAIAAAAABAAABgAAAAAEAAACAAAAAAgAAAQAAAAABAAABgAAA\n",
       "AAEAAACAAAAAAQAAAQAAAAABAAACgAAAAAEAAAEAAAAAAQAAAAAAAAABAAAAgAAAAAEAAAGAAAAA\n",
       "AQAAAIAAAAABAAABgAAAAAEAAACAAAAAAQAAAYAAAAABAAAAgAAAAAEAAAIAAAAAAgAAAIAAAAAB\n",
       "AAACAAAAAAIAAACAAAAAAQAAAYAAAAABAAAAgAAAAAEAAAGAAAAAAQAAAIAAAAABAAABgAAAAAEA\n",
       "AACAAAAAAQAAAYAAAAABAAAAgAAAAAEAAAGAAAAAAQAAAIAAAAABAAACgAAAAAEAAAEAAAAAAQAA\n",
       "AAAAAAABAAAAgAAAAAEAAAKAAAAAAQAAAQAAAAABAAAAAAAAAAEAAACAAAAAAQAAAQAAAAABAAAB\n",
       "gAAAAAEAAACAAAAAAQAAAgAAAAACAAAAgAAAAAEAAAGAAAAAAQAAAIAAAAABAAABgAAAAAEAAACA\n",
       "AAAAAQAAAYAAAAABAAAAgAAAAAEAAAGAAAAAAQAAAIAAAAABAAABgAAAAAEAAACAAAAAAQAAAQAA\n",
       "AAABAAABgAAAAAEAAACAAAAAAQAAAoAAAAABAAABAAAAAAEAAAAAAAAAAQAAAIAAAAAFAAABAAAA\n",
       "AAEAAAGAAAAAAQAAAIAAAAABAAABgAAAAAEAAACAAAAAAQAAAQAAAAABAAABgAAAAAEAAACAAAAA\n",
       "AQAAAYAAAAABAAAAgAAAAAEAAAGAAAAAAQAAAIAAAAABAAABgAAAAAEAAACAAAAAAQAAAYAAAAAB\n",
       "AAAAgAAAAAEAAAGAAAAAAQAAAIAAAAABAAACAAAAAAIAAACAAAAAAQAAAYAAAAABAAAAgAAAAAIA\n",
       "AAEAAAAAAQAAAgAAAAACAAAAgAAAAAEAAAKAAAAAAQAAAQAAAAABAAAAAAAAAAEAAACAAAAAAQAA\n",
       "AgAAAAACAAAAgAAAAAEAAAGAAAAAAQAAAIAAAAABAAABgAAAAAEAAACAAAAAAQAAAoAAAAABAAAB\n",
       "AAAAAAEAAAAAAAAAAQAAAIAAAAABAAACAAAAAAIAAACAAAAAAQAAAQAAAAABAAABgAAAAAEAAACA\n",
       "AAAAAQAAAYAAAAABAAAAgAAAAAEAAAIAAAAAAgAAAIAAAAABAAABgAAAAAEAAACAAAAAAQAAAYAA\n",
       "AAABAAAAgAAAAAEAAAGAAAAAAQAAAIAAAAABAAABAAAAAAEAAAGAAAAAAQAAAIAAAAABAAABgAAA\n",
       "AAEAAACAAAAAAQAAAYAAAAABAAAAgAAAAAEAAAIAAAAAAgAAAIAAAAABAAABgAAAAAEAAACAAAAA\n",
       "AQAAAgAAAAACAAAAgAAAAAEAAAGAAAAAAQAAAIAAAAABAAACAAAAAAIAAACAAAAAAQAAAgAAAAAC\n",
       "AAAAgAAAAAEAAAKAAAAAAQAAAQAAAAABAAAAAAAAAAEAAACAAAAAAQAAAoAAAAABAAABAAAAAAEA\n",
       "AAAAAAAAAQAAAIAAAAABAAACgAAAAAEAAAEAAAAAAQAAAAAAAAABAAAAgAAAAAEAAAGAAAAAAQAA\n",
       "AIAAAAABAAABgAAAAAEAAACAAAAAAQAAAoAAAAABAAABAAAAAAEAAAAAAAAAAQAAAIAAAAABAAAC\n",
       "AAAAAAIAAACAAAAAAQAAAYAAAAABAAAAgAAAAAEAAAIAAAAAAgAAAIAAAAABAAACAAAAAAIAAACA\n",
       "AAAAAQAAAYAAAAABAAAAgAAAAAEAAAIAAAAAAgAAAIAAAAABAAACAAAAAAIAAACAAAAAAQAAAYAA\n",
       "AAABAAAAgAAAAAEAAAIAAAAAAgAAAIAAAAABAAACAAAAAAIAAACAAAAAAQAAAYAAAAABAAAAgAAA\n",
       "AAEAAAIAAAAAAgAAAIAAAAABAAABgAAAAAEAAACAAAAAAQAAAgAAAAACAAAAgAAAAAEAAAGAAAAA\n",
       "AQAAAIAAAAABAAACAAAAAAIAAACAAAAAAQAAAgAAAAACAAAAgAAAAAEAAAGAAAAAAQAAAIAAAAAB\n",
       "AAACAAAAAAIAAACAAAAAAQAAAoAAAAABAAABAAAAAAEAAAAAAAAAAQAAAIAAAAABAAACgAAAAAEA\n",
       "AAEAAAAAAQAAAAAAAAABAAAAgAAAAAEAAAGAAAAAAQAAAIAAAAABAAABgAAAAAEAAACAAAAAAQAA\n",
       "AYAAAAABAAAAgAAAAAEAAAEAAAAAAQAAAYAAAAABAAAAgAAAAAEAAAGAAAAAAQAAAIAAAAABAAAB\n",
       "AAAAAAEAAAGAAAAAAQAAAIAAAAABAAACgAAAAAEAAAEAAAAAAQAAAAAAAAABAAAAgAAAAAEAAAKA\n",
       "AAAAAQAAAQAAAAABAAAAAAAAAAEAAACAAAAAAQAAAYAAAAABAAAAgAAAAAEAAAEAAAAAAQAAAYAA\n",
       "AAABAAAAgAAAAAEAAAGAAAAAAQAAAIAAAAABAAABAAAAAAEAAAGAAAAAAQAAAIAAAAABAAABgAAA\n",
       "AAEAAACAAAAAAQAAAYAAAAABAAAAgAAAAAEAAAGAAAAAAQAAAIAAAAABAAABgAAAAAEAAACAAAAA\n",
       "AQAAAYAAAAABAAAAgAAAAAIAAAEAAAAAAQAAAYAAAAABAAAAgAAAAAEAAAGAAAAAAQAAAIAAAAAB\n",
       "AAABgAAAAAEAAACAAAAAAQAAAYAAAAABAAAAgAAAAAEAAAGAAAAAAQAAAIAAAAABAAACAAAAAAIA\n",
       "AACAAAAAAQAAAoAAAAABAAABAAAAAAEAAAAAAAAAAQAAAIAAAAABAAABgAAAAAEAAACAAAAAAQAA\n",
       "AYAAAAABAAAAgAAAAAEAAAKAAAAAAQAAAQAAAAABAAAAAAAAAAEAAACAAAAAAQAAAoAAAAABAAAB\n",
       "AAAAAAEAAAAAAAAAAQAAAIAAAAABAAACAAAAAAIAAACAAAAAAQAAAYAAAAABAAAAgAAAAAEAAAIA\n",
       "AAAAAgAAAIAAAAABAAACAAAAAAIAAACAAAAAAQAAAYAAAAABAAAAgAAAAAEAAAIAAAAAAgAAAIAA\n",
       "AAABAAACAAAAAAIAAACAAAAAAQAAAYAAAAABAAAAgAAAAAEAAAIAAAAAAgAAAIAAAAABAAABAAAA\n",
       "AAEAAAIAAAAAAgAAAIAAAAABAAABgAAAAAEAAACAAAAAAQAAAgAAAAACAAAAgAAAAAEAAAKAAAAA\n",
       "AQAAAQAAAAABAAAAAAAAAAEAAACAAAAAAQAAAoAAAAABAAABAAAAAAEAAAAAAAAAAQAAAIAAAAAB\n",
       "AAABgAAAAAEAAACAAAAAAQAAAYAAAAABAAAAgAAAAAEAAAGAAAAAAQAAAIAAAAABAAABAAAAAAEA\n",
       "AAKAAAAAAQAAAQAAAAABAAAAAAAAAAEAAACAAAAAAQAAAYAAAAABAAAAgAAAAAEAAAIAAAAAAgAA\n",
       "AIAAAAABAAABgAAAAAEAAACAAAAAAQAAAYAAAAABAAAAgAAAAAEAAAIAAAAAAgAAAIAAAAABAAAC\n",
       "AAAAAAIAAACAAAAAAQAAAYAAAAABAAAAgAAAAAEAAAIAAAAAAgAAAIAAAAABAAACgAAAAAEAAAEA\n",
       "AAAAAQAAAAAAAAABAAAAgAAAAAEAAAIAAAAAAgAAAIAAAAABAAACAAAAAAIAAACAAAAAAQAAAgAA\n",
       "AAACAAAAgAAAAAEAAAKAAAAAAQAAAQAAAAABAAAAAAAAAAEAAACAAAAAAQAAAYAAAAABAAAAgAAA\n",
       "AAEAAAIAAAAAAgAAAIAAAAABAAABgAAAAAEAAACAAAAAAQAAAoAAAAABAAABAAAAAAEAAAAAAAAA\n",
       "AQAAAIAAAAABAAABgAAAAAEAAACAAAAAAQAAAoAAAAABAAABAAAAAAEAAAAAAAAAAQAAAIAAAAAB\n",
       "AAACgAAAAAEAAAEAAAAAAQAAAAAAAAABAAAAgAAAAAEAAAIAAAAAAgAAAIAAAAABAAACAAAAAAIA\n",
       "AACAAAAAAQAAAgAAAAACAAAAgAAAAAEAAAIAAAAAAgAAAIAAAAABAAABAAAAAAEAAAIAAAAAAgAA\n",
       "AIAAAAABAAABgAAAAAEAAACAAAAAAQAAAYAAAAABAAAAgAAAAAEAAAEAAAAAAQAAAoAAAAABAAAB\n",
       "AAAAAAEAAAAAAAAAAQAAAIAAAAABAAACgAAAAAEAAAEAAAAAAQAAAAAAAAABAAAAgAAAAAEAAAIA\n",
       "AAAAAgAAAIAAAAABAAABgAAAAAEAAACAAAAAAQAAAYAAAAABAAAAgAAAAAEAAAEAAAAAAQAAAYAA\n",
       "AAABAAAAgAAAAAEAAAGAAAAAAQAAAIAAAAABAAABAAAAAAEAAAGAAAAAAQAAAIAAAAABAAACAAAA\n",
       "AAIAAACAAAAAAQAAAYAAAAABAAAAgAAAAAEAAAGAAAAAAQAAAIAAAAABAAACgAAAAAEAAAEAAAAA\n",
       "AQAAAAAAAAABAAAAgAAAAAEAAAKAAAAAAQAAAQAAAAABAAAAAAAAAAEAAACAAAAAAQAAAQAAAAAB\n",
       "AAACgAAAAAEAAAEAAAAAAQAAAAAAAAABAAAAgAAAAAEAAAEAAAAAAQAAAgAAAAACAAAAgAAAAAEA\n",
       "AAIAAAAAAgAAAIAAAAABAAACAAAAAAIAAACAAAAAAQAAAYAAAAABAAAAgAAAAAEAAAIAAAAAAgAA\n",
       "AIAAAAABAAABgAAAAAEAAACAAAAAAQAAAgAAAAACAAAAgAAAAAEAAAIAAAAAAgAAAIAAAAABAAAC\n",
       "AAAAAAIAAACAAAAAAgAAAQAAAAABAAACgAAAAAEAAAEAAAAAAQAAAAAAAAABAAAAgAAAAAEAAAKA\n",
       "AAAAAQAAAQAAAAABAAAAAAAAAAEAAACAAAAABQAAAQAAAAABAAABgAAAAAEAAACAAAAAAQAAAgAA\n",
       "AAACAAAAgAAAAAEAAAIAAAAAAgAAAIAAAAABAAABgAAAAAEAAACAAAAAAQAAAgAAAAACAAAAgAAA\n",
       "AAEAAAIAAAAAAgAAAIAAAAABAAABAAAAAAEAAAGAAAAAAQAAAIAAAAABAAACAAAAAAIAAACAAAAA\n",
       "AQAAAYAAAAABAAAAgAAAAAEAAAGAAAAAAQAAAIAAAAABAAACgAAAAAEAAAEAAAAAAQAAAAAAAAAB\n",
       "AAAAgAAAAAEAAAKAAAAAAQAAAQAAAAABAAAAAAAAAAEAAACAAAAAAQAAAoAAAAABAAABAAAAAAEA\n",
       "AAAAAAAAAQAAAIAAAAABAAACAAAAAAIAAACAAAAAAQAAAYAAAAABAAAAgAAAAAEAAAGAAAAAAQAA\n",
       "AIAAAAABAAABgAAAAAEAAACAAAAAAQAAAgAAAAACAAAAgAAAAAEAAAGAAAAAAQAAAIAAAAABAAAC\n",
       "AAAAAAIAAACAAAAAAQAAAgAAAAACAAAAgAAAAAEAAAGAAAAAAQAAAIAAAAABAAABgAAAAAEAAACA\n",
       "AAAAAQAAAQAAAAABAAACAAAAAAIAAACAAAAAAQAAAYAAAAABAAAAgAAAAAEAAAKAAAAAAQAAAQAA\n",
       "AAABAAAAAAAAAAEAAACAAAAAAQAAAoAAAAABAAABAAAAAAEAAAAAAAAAAQAAAIAAAAABAAABgAAA\n",
       "AAEAAACAAAAAAQAAAYAAAAABAAAAgAAAAAIAAAEAAAAAAQAAAYAAAAABAAAAgAAAAAEAAAEAAAAA\n",
       "AQAAAYAAAAABAAAAgAAAAAEAAAEAAAAAAQAAAYAAAAABAAAAgAAAAAEAAAGAAAAAAQAAAIAAAAAB\n",
       "AAABgAAAAAEAAACAAAAAAQAAAYAAAAABAAAAgAAAAAEAAAKAAAAAAQAAAQAAAAABAAAAAAAAAAEA\n",
       "AACAAAAAAQAAAYAAAAABAAAAgAAAAAEAAAGAAAAAAQAAAIAAAAABAAABgAAAAAEAAACAAAAAAQAA\n",
       "AYAAAAABAAAAgAAAAAEAAAEAAAAAAQAAAgAAAAACAAAAgAAAAAEAAAGAAAAAAQAAAIAAAAABAAAC\n",
       "AAAAAAIAAACAAAAAAQAAAYAAAAABAAAAgAAAAAEAAAIAAAAAAgAAAIAAAAABAAACAAAAAAIAAACA\n",
       "AAAAAQAAAYAAAAABAAAAgAAAAAEAAAKAAAAAAQAAAQAAAAABAAAAAAAAAAEAAACAAAAAAQAAAoAA\n",
       "AAABAAABAAAAAAEAAAAAAAAAAQAAAIAAAAABAAACgAAAAAEAAAEAAAAAAQAAAAAAAAABAAAAgAAA\n",
       "AAEAAAGAAAAAAQAAAIAAAAABAAABAAAAAAEAAAGAAAAAAQAAAIAAAAABAAACgAAAAAEAAAEAAAAA\n",
       "AQAAAAAAAAABAAAAgAAAAAEAAAIAAAAAAgAAAIAAAAABAAABgAAAAAEAAACAAAAAAQAAAYAAAAAB\n",
       "AAAAgAAAAAEAAAEAAAAAAQAAAgAAAAACAAAAgAAAAAEAAAGAAAAAAQAAAIAAAAABAAABgAAAAAEA\n",
       "AACAAAAAAQAAAYAAAAABAAAAgAAAAAEAAAIAAAAAAgAAAIAAAAABAAABgAAAAAEAAACAAAAAAQAA\n",
       "AgAAAAACAAAAgAAAAAEAAAGAAAAAAQAAAIAAAAABAAABgAAAAAEAAACAAAAAAQAAAoAAAAABAAAB\n",
       "AAAAAAEAAAAAAAAAAQAAAIAAAAABAAABAAAAAAEAAAIAAAAAAgAAAIAAAAABAAABAAAAAAEAAAIA\n",
       "AAAAAgAAAIAAAAABAAACgAAAAAEAAAEAAAAAAQAAAAAAAAABAAAAgAAAAAEAAAGAAAAAAQAAAIAA\n",
       "AAABAAACgAAAAAEAAAEAAAAAAQAAAAAAAAABAAAAgAAAAAEAAAKAAAAAAQAAAQAAAAABAAAAAAAA\n",
       "AAEAAACAAAAAAQAAAYAAAAABAAAAgAAAAAEAAAGAAAAAAQAAAIAAAAABAAABgAAAAAEAAACAAAAA\n",
       "AQAAAYAAAAABAAAAgAAAAAIAAAEAAAAAAQAAAYAAAAABAAAAgAAAAAEAAAGAAAAAAQAAAIAAAAAB\n",
       "AAABgAAAAAEAAACAAAAAAQAAAgAAAAACAAAAgAAAAAEAAAGAAAAAAQAAAIAAAAABAAABAAAAAAEA\n",
       "AAKAAAAAAQAAAQAAAAABAAAAAAAAAAEAAACAAAAAAQAAAoAAAAABAAABAAAAAAEAAAAAAAAAAQAA\n",
       "AIAAAAABAAABgAAAAAEAAACAAAAAAgAAAQAAAAABAAABgAAAAAEAAACAAAAAAQAAAYAAAAABAAAA\n",
       "gAAAAAEAAAGAAAAAAQAAAIAAAAABAAABgAAAAAEAAACAAAAAAQAAAYAAAAABAAAAgAAAAAEAAAGA\n",
       "AAAAAQAAAIAAAAABAAABgAAAAAEAAACAAAAAAQAAAYAAAAABAAAAgAAAAAEAAAKAAAAAAQAAAQAA\n",
       "AAABAAAAAAAAAAEAAACAAAAAAQAAAYAAAAABAAAAgAAAAAEAAAIAAAAAAgAAAIAAAAABAAABgAAA\n",
       "AAEAAACAAAAAAQAAAgAAAAACAAAAgAAAAAEAAAGAAAAAAQAAAIAAAAABAAACAAAAAAIAAACAAAAA\n",
       "AQAAAYAAAAABAAAAgAAAAAEAAAIAAAAAAgAAAIAAAAABAAABgAAAAAEAAACAAAAAAQAAAYAAAAAB\n",
       "AAAAgAAAAAEAAAEAAAAAAQAAAYAAAAABAAAAgAAAAAEAAAIAAAAAAgAAAIAAAAABAAABgAAAAAEA\n",
       "AACAAAAAAQAAAgAAAAACAAAAgAAAAAEAAAIAAAAAAgAAAIAAAAABAAABgAAAAAEAAACAAAAAAQAA\n",
       "AgAAAAACAAAAgAAAAAEAAAIAAAAAAgAAAIAAAAABAAABgAAAAAEAAACAAAAAAQAAAoAAAAABAAAB\n",
       "AAAAAAEAAAAAAAAAAQAAAIAAAAABAAABgAAAAAEAAACAAAAAAQAAAgAAAAACAAAAgAAAAAEAAAGA\n",
       "AAAAAQAAAIAAAAABAAACAAAAAAIAAACAAAAAAQAAAYAAAAABAAAAgAAAAAEAAAGAAAAAAQAAAIAA\n",
       "AAABAAABgAAAAAEAAACAAAAAAQAAAoAAAAABAAABAAAAAAEAAAAAAAAAAQAAAIAAAAAFAAABAAAA\n",
       "AAEAAAGAAAAAAQAAAIAAAAABAAACAAAAAAIAAACAAAAAAQAAAYAAAAABAAAAgAAAAAEAAAGAAAAA\n",
       "AQAAAIAAAAABAAACAAAAAAIAAACAAAAAAwAAAQAAAAABAAABgAAAAAEAAACAAAAAAQAAAYAAAAAB\n",
       "AAAAgAAAAAEAAAGAAAAAAQAAAIAAAAABAAABgAAAAAEAAACAAAAAAQAAAgAAAAACAAAAgAAAAAEA\n",
       "AAGAAAAAAQAAAIAAAAABAAACAAAAAAIAAACAAAAAAQAAAQAAAAABAAABgAAAAAEAAACAAAAAAQAA\n",
       "AgAAAAACAAAAgAAAAAEAAAGAAAAAAQAAAIAAAAABAAACAAAAAAIAAACAAAAAAQAAAYAAAAABAAAA\n",
       "gAAAAAEAAAEAAAAAAQAAAoAAAAABAAABAAAAAAEAAAAAAAAAAQAAAIAAAAABAAACAAAAAAIAAACA\n",
       "AAAAAQAAAQAAAAABAAABgAAAAAEAAACAAAAAAQAAAgAAAAACAAAAgAAAAAEAAAGAAAAAAQAAAIAA\n",
       "AAABAAACAAAAAAIAAACAAAAAAQAAAYAAAAABAAAAgAAAAAEAAAIAAAAAAgAAAIAAAAABAAABgAAA\n",
       "AAEAAACAAAAAAQAAAgAAAAACAAAAgAAAAAEAAAGAAAAAAQAAAIAAAAABAAABgAAAAAEAAACAAAAA\n",
       "AQAAAoAAAAABAAABAAAAAAEAAAAAAAAAAQAAAIAAAAABAAABgAAAAAEAAACAAAAAAQAAAYAAAAAB\n",
       "AAAAgAAAAAEAAAIAAAAAAgAAAIAAAAABAAABgAAAAAEAAACAAAAAAQAAAgAAAAACAAAAgAAAAAEA\n",
       "AAGAAAAAAQAAAIAAAAABAAABgAAAAAEAAACAAAAAAQAAAYAAAAABAAAAgAAAAAEAAAIAAAAAAgAA\n",
       "AIAAAAABAAACAAAAAAIAAACAAAAAAQAAAYAAAAABAAAAgAAAAAEAAAIAAAAAAgAAAIAAAAABAAAC\n",
       "AAAAAAIAAACAAAAAAQAAAYAAAAABAAAAgAAAAAEAAAIAAAAAAgAAAIAAAAABAAACAAAAAAIAAACA\n",
       "AAAAAQAAAYAAAAABAAAAgAAAAAEAAAIAAAAAAgAAAIAAAAABAAACgAAAAAEAAAEAAAAAAQAAAAAA\n",
       "AAABAAAAgAAAAAEAAAEAAAAAAQAAAoAAAAABAAABAAAAAAEAAAAAAAAAAQAAAIAAAAABAAACAAAA\n",
       "AAIAAACAAAAAAQAAAQAAAAABAAABgAAAAAEAAACAAAAAAQAAAYAAAAABAAAAgAAAAAEAAAEAAAAA\n",
       "AQAAAgAAAAACAAAAgAAAAAEAAAKAAAAAAQAAAQAAAAABAAAAAAAAAAEAAACAAAAAAgAAAQAAAAAB\n",
       "AAACgAAAAAEAAAEAAAAAAQAAAAAAAAABAAAAgAAAAAEAAAKAAAAAAQAAAQAAAAABAAAAAAAAAAEA\n",
       "AACAAAAAAQAAAQAAAAABAAABgAAAAAEAAACAAAAAAQAAAgAAAAACAAAAgAAAAAEAAAGAAAAAAQAA\n",
       "AIAAAAABAAACAAAAAAIAAACAAAAAAQAAAYAAAAABAAAAgAAAAAEAAAIAAAAAAgAAAIAAAAABAAAB\n",
       "gAAAAAEAAACAAAAAAQAAAYAAAAABAAAAgAAAAAEAAAIAAAAAAgAAAIAAAAABAAACAAAAAAIAAACA\n",
       "AAAAAQAAAYAAAAABAAAAgAAAAAEAAAIAAAAAAgAAAIAAAAABAAABgAAAAAEAAACAAAAAAQAAAgAA\n",
       "AAACAAAAgAAAAAEAAAGAAAAAAQAAAIAAAAABAAACAAAAAAIAAACAAAAAAQAAAgAAAAACAAAAgAAA\n",
       "AAEAAAGAAAAAAQAAAIAAAAABAAACAAAAAAIAAACAAAAAAQAAAgAAAAACAAAAgAAAAAEAAAGAAAAA\n",
       "AQAAAIAAAAABAAABgAAAAAEAAACAAAAAAQAAAgAAAAACAAAAgAAAAAEAAAIAAAAAAgAAAIAAAAAB\n",
       "AAABAAAAAAEAAAGAAAAAAQAAAIAAAAAcc3RzYwAAAAAAAAABAAAAAQAACRQAAAABAAAkZHN0c3oA\n",
       "AAAAAAAAAAAACRQAACBSAAABNgAAAFgAAABCAAAARAAAAHQAAABjAAAASQAAADIAAABLAAAAOQAA\n",
       "AC4AAAAzAAAAOQAAADAAAAApAAAASQAAACoAAAAqAAAAJQAAAEsAAAAtAAAANgAAADIAAAAmAAAA\n",
       "JwAAAG4AAABCAAAANgAAACsAAABVAAAALgAAAFoAAAA3AAAAPAAAAGAAAAAqAAAAUAAAAC8AAAAu\n",
       "AAAAKAAAADEAAAAxAAAATgAAACYAAABHAAAAMQAAADoAAABlAAAAKAAAACUAAABOAAAANwAAADoA\n",
       "AAAkAAAALAAAACoAAAAtAAAANgAAACwAAAA1AAAAKwAAADUAAAA1AAAANQAAADQAAAAiAAAAVAAA\n",
       "ADkAAAAxAAAAIQAAADQAAAAkAAAALwAAADEAAABGAAAALwAAAFMAAAA3AAAAPwAAADUAAABRAAAA\n",
       "KQAAACIAAABmAAAAJAAAAC4AAAA3AAAANAAAACIAAABRAAAAIwAAAE4AAAAgAAAAKgAAAEgAAAA2\n",
       "AAAAPwAAAB4AAABBAAAANAAAADIAAAAoAAAARgAAAB4AAABEAAAAKgAAABwAAAAcAAAAMQAAAEoA\n",
       "AAAgAAAAfwAAADcAAAAcAAAAHAAAAEgAAACLAAAAMgAAABoAAAAnAAAAQAAAABsAAAAxAAAAGwAA\n",
       "ACcAAAAlAAAAVAAAACcAAABfAAAAPAAAACcAAAAsAAAAdAAAABwAAAAhAAAAGQAAADoAAAAuAAAA\n",
       "HgAAACEAAABzAAAALgAAABkAAAAbAAAARAAAACcAAAA6AAAAIwAAAC8AAAAcAAAAIwAAAG0AAAAw\n",
       "AAAAbQAAACAAAABQAAAAegAAAB4AAAAcAAAAKwAAAIEAAAAdAAAAJAAAAEUAAAAgAAAAGgAAAEcA\n",
       "AAApAAAAHgAAABoAAABeAAAAMQAAAB8AAAAiAAAASAAAACQAAABBAAAAHQAAABoAAABaAAAAKgAA\n",
       "ADwAAAAfAAAAJwAAAFcAAAAxAAAARQAAAC0AAABMAAAAMQAAACQAAABPAAAAHQAAACYAAABHAAAA\n",
       "HwAAACYAAABhAAAAHQAAABgAAABhAAAAMQAAACgAAAB/AAAAMQAAADQAAAAVAAAATwAAABsAAAAh\n",
       "AAAAKgAAABoAAAAjAAAAYwAAADAAAAAnAAAAVQAAABgAAAAvAAAALQAAACEAAABpAAAALwAAACwA\n",
       "AAAnAAAAdAAAACcAAAAYAAAAIQAAACsAAAAZAAAARwAAACwAAAAkAAAAGQAAAEwAAAAdAAAAJwAA\n",
       "ADMAAAAmAAAAUQAAACYAAAA4AAAAKAAAAFQAAABlAAAANAAAADEAAAAUAAAf9QAAAWIAAABdAAAA\n",
       "MAAAAIMAAABHAAAAMAAAACcAAABUAAAAMgAAAFEAAABBAAAAJQAAACYAAABuAAAAKAAAACQAAABC\n",
       "AAAAJgAAAH8AAAAxAAAAMAAAAE0AAAA/AAAALAAAADEAAABLAAAAPQAAADgAAACpAAAAKwAAADcA\n",
       "AAAuAAAALgAAACAAAAAnAAAAPgAAACwAAAAoAAAAMgAAADAAAAA4AAAALwAAAD4AAAAvAAAAOwAA\n",
       "AI4AAAAnAAAALwAAADMAAABfAAAAVwAAAC0AAAAbAAAAIQAAAC8AAAAZAAAAYgAAAEIAAAAxAAAA\n",
       "MQAAAFUAAAAfAAAALQAAABYAAABdAAAAKQAAABoAAABVAAAAGAAAAGYAAAArAAAAJQAAAB8AAAAx\n",
       "AAAAHwAAACMAAABCAAAAJgAAAC0AAAAqAAAAJgAAAFUAAAAxAAAANwAAACEAAABEAAAAKgAAACQA\n",
       "AABOAAAAGQAAACMAAAAkAAAAJwAAADQAAABDAAAAGAAAACMAAAAeAAAAcwAAADAAAAAnAAAAGgAA\n",
       "ADkAAABHAAAAIgAAAFYAAAAmAAAAUQAAACoAAABHAAAASAAAAG8AAAA0AAAANgAAABkAAABBAAAA\n",
       "JAAAABgAAABaAAAAIQAAACsAAABGAAAATAAAADQAAAAmAAAAKAAAAEoAAAAhAAAAMAAAAEwAAAAh\n",
       "AAAAYQAAACwAAAAoAAAAMAAAAJwAAAAjAAAALQAAACsAAAApAAAAIAAAAEQAAAAwAAAAHwAAACMA\n",
       "AABdAAAAKgAAADEAAAAyAAAAKQAAAEkAAAAwAAAAJAAAAFAAAAAqAAAARwAAACAAAAAlAAAATQAA\n",
       "ACcAAABzAAAAPAAAACoAAAA4AAAALwAAACYAAAAgAAAAIAAAAEEAAAApAAAAPQAAACcAAABdAAAA\n",
       "NQAAACsAAAArAAAAXAAAADQAAAAuAAAAGAAAACsAAAApAAAAFwAAAD4AAAAaAAAARQAAACIAAABW\n",
       "AAAALwAAABwAAAAjAAAAgwAAAB4AAAAqAAAATgAAAB0AAABCAAAAIQAAAEoAAAAkAAAATQAAACsA\n",
       "AAAnAAAAQwAAACoAAABGAAAAKgAAACkAAABPAAAAIwAAAG4AAAAzAAAAKAAAACMAAABYAAAAHQAA\n",
       "AB8AAAAWAAAALgAAAB4AAAAXAAAAUAAAAB0AAABLAAAAJgAAACIAAAAvAAAALAAAACcAAAAhAAAA\n",
       "WQAAAC4AAAAlAAAAJAAAAFQAAAA0AAAAGAAAAC8AAAA+AAAALgAAAFsAAABAAAAAIQAAADEAAABT\n",
       "AAAAJwAAACcAAAAVAAAAIgAAHZUAAAEKAAAARQAAAFsAAAA+AAAAMAAAAEwAAAA3AAAAZwAAAEMA\n",
       "AAA0AAAAUwAAADIAAABNAAAARwAAACoAAAAnAAAAJQAAAFwAAAA7AAAAGwAAADEAAABuAAAAYwAA\n",
       "AJUAAAAkAAAAKgAAADkAAABOAAAAPgAAACAAAAAwAAAAVwAAACQAAAAoAAAAbwAAADwAAAAsAAAA\n",
       "JgAAAFQAAAAkAAAAPgAAACoAAAA3AAAAJwAAACwAAAAuAAAAJQAAAEQAAAAkAAAAbQAAADUAAAAu\n",
       "AAAAKgAAAF0AAAA1AAAAHwAAAE4AAAAvAAAAOwAAACwAAABBAAAANgAAACgAAABYAAAAKwAAAE0A\n",
       "AAA+AAAAKgAAAEQAAAAsAAAAWgAAADIAAAAfAAAAmAAAADcAAAAhAAAALAAAAJAAAAAmAAAAKgAA\n",
       "ADMAAABMAAAAUAAAACsAAAAuAAAARQAAABsAAAAmAAAASAAAACMAAAA5AAAAMAAAACIAAABPAAAA\n",
       "HgAAAB8AAABaAAAALgAAAF0AAAAqAAAAKwAAAEgAAAAcAAAAKQAAAEQAAAAlAAAAUAAAAC0AAAAn\n",
       "AAAAUQAAACIAAABPAAAAJwAAAGoAAAAxAAAAMAAAABsAAAB3AAAALQAAACMAAAAlAAAARAAAACIA\n",
       "AABMAAAAJQAAACQAAABZAAAAJQAAAC0AAAAoAAAAJAAAAEkAAAApAAAAJgAAAF0AAAAtAAAAKQAA\n",
       "ADgAAAAlAAAASAAAACkAAAAmAAAATQAAACYAAABHAAAAJgAAACQAAABmAAAAJQAAAFQAAAApAAAA\n",
       "WQAAACoAAAAoAAAAHQAAAFwAAAAlAAAAIAAAADYAAAAlAAAAIgAAADkAAAA9AAAAHgAAAE0AAAAm\n",
       "AAAAJAAAAEEAAAA8AAAAJwAAABoAAABKAAAALAAAACYAAABRAAAAJAAAAGkAAAAvAAAAGQAAAEwA\n",
       "AAAkAAAAIwAAAE8AAAAjAAAARwAAAC4AAAAmAAAAKwAAAHkAAAAyAAAAKAAAACgAAABKAAAALAAA\n",
       "ACgAAAApAAAAcQAAADQAAAAoAAAASQAAADcAAAAkAAAAIQAAAGUAAAAvAAAALgAAACIAAABXAAAA\n",
       "LwAAACsAAAAgAAAARgAAAC8AAAAfAAAAJQAAAEgAAAAbAAAATAAAACQAAABKAAAAJQAAAE8AAAAd\n",
       "AAAARQAAAC4AAAAmAAAATgAAACoAAAAnAAAARQAAACIAAABZAAAAGAAAAEMAAAAoAAAAHgAAAGwA\n",
       "AAAtAAAAJAAAABkAAABZAAAAMgAAACUAAAAmAAAAagAAABwAAAAkAAAAJAAAAC0AABwnAAABQQAA\n",
       "AEgAAABzAAAALwAAAHEAAAA7AAAASQAAADEAAABRAAAAOgAAACMAAABCAAAAJgAAAEMAAAA0AAAA\n",
       "SAAAADQAAABsAAAANQAAACkAAAAiAAAAOAAAAEYAAABJAAAAWwAAAE8AAAA1AAAANAAAAB0AAABn\n",
       "AAAALQAAAEcAAAArAAAAOgAAADIAAAAhAAAAQwAAADYAAAAsAAAAVgAAADIAAABcAAAAPwAAACwA\n",
       "AABIAAAAKwAAAFYAAAA5AAAAMQAAAE0AAAA5AAAAMwAAAFsAAAApAAAALAAAAFIAAAA0AAAARwAA\n",
       "ADYAAAAnAAAAYQAAACwAAABLAAAANgAAACwAAABHAAAAUAAAACUAAAAwAAAAUwAAAFQAAAArAAAA\n",
       "KgAAAC4AAAAiAAAAdQAAACQAAAAeAAAAcAAAAC0AAAAvAAAAewAAADMAAAAnAAAAHQAAAGcAAAAx\n",
       "AAAANAAAAEIAAAApAAAATwAAACcAAABLAAAAIAAAADcAAAAnAAAAUgAAACoAAABWAAAAMgAAAFoA\n",
       "AAAzAAAAJgAAADEAAABdAAAAIwAAACUAAAAoAAAAUQAAACIAAAAnAAAAKAAAACEAAABCAAAAHgAA\n",
       "AEAAAAAkAAAAPwAAAHUAAAAlAAAATAAAADUAAAAqAAAAIgAAADgAAABTAAAANgAAAEcAAAAnAAAA\n",
       "NQAAACwAAAAaAAAAOQAAACsAAABIAAAALAAAAFwAAAA2AAAALAAAABsAAABJAAAAKwAAACsAAAAb\n",
       "AAAAQgAAAEcAAAAiAAAAVgAAACEAAAA0AAAAIgAAAEgAAAAbAAAAOAAAACYAAAAkAAAAPAAAACcA\n",
       "AAApAAAAPgAAABwAAABQAAAAHgAAACQAAAA/AAAALQAAAEkAAAAmAAAAZAAAAB4AAAAqAAAAJwAA\n",
       "AFgAAAAoAAAAWwAAACYAAAAoAAAASQAAACYAAABJAAAAKwAAACgAAABKAAAALgAAACkAAAArAAAA\n",
       "WQAAADcAAAAzAAAAJQAAAGMAAAAtAAAAIAAAAB4AAAA4AAAALQAAAE8AAAAdAAAAPgAAADIAAAAu\n",
       "AAAAJwAAAEQAAABSAAAATgAAAFUAAAA0AAAAKQAAAC4AAABaAAAALgAAACkAAABGAAAAKAAAACkA\n",
       "AABMAAAALAAAAEkAAAAsAAAAIQAAAD4AAAAwAAAAQgAAACsAAABZAAAAKwAAAEIAAAAoAAAARQAA\n",
       "AEcAAAApAAAALQAAAE8AAAAqAAAALgAAACkAAABIAAAARgAAAE4AAABNAAAAVAAAAFAAAABFAAAA\n",
       "VQAAADAAAAAlAAAAKAAAAE0AAAAmAAAaMwAAASkAAABHAAAAfAAAAEIAAABLAAAAKQAAAFIAAAA0\n",
       "AAAAJQAAACkAAABDAAAANQAAACsAAABsAAAAOwAAACAAAAAWAAAASwAAADEAAABKAAAAJQAAAFwA\n",
       "AAA2AAAAKgAAADIAAABKAAAALAAAAEUAAAApAAAAYAAAACwAAAA1AAAAJAAAAEUAAAAfAAAAIwAA\n",
       "ADEAAABAAAAAJQAAAE0AAAApAAAASAAAACoAAABRAAAANAAAACQAAAAbAAAAXwAAAGkAAABJAAAA\n",
       "KgAAADoAAABFAAAALwAAACUAAAAiAAAAUgAAAC0AAAAlAAAAGAAAAEYAAAAqAAAAIgAAACEAAABM\n",
       "AAAAJAAAAD0AAAAgAAAAQwAAACIAAAA5AAAAJQAAACIAAABLAAAAHQAAACsAAAA7AAAALQAAACQA\n",
       "AABNAAAALQAAACMAAAAuAAAAJAAAACQAAABQAAAAJwAAAFkAAAAvAAAALQAAAEQAAAAqAAAANAAA\n",
       "ACYAAAApAAAASAAAADIAAAAqAAAAYwAAADEAAAAwAAAATQAAACgAAABGAAAAJAAAACMAAABXAAAA\n",
       "KwAAAE0AAAAsAAAAHwAAAD4AAABGAAAAJQAAAEEAAAA7AAAAKwAAACUAAABKAAAAHAAAABsAAABE\n",
       "AAAAKQAAACgAAABYAAAAYQAAAKcAAAA0AAAALwAAAB0AAABFAAAAKwAAADsAAAAeAAAARQAAACAA\n",
       "AAArAAAAIQAAAE4AAAAXAAAAOwAAACYAAAAfAAAARwAAACEAAABIAAAAJgAAAB4AAABDAAAAJwAA\n",
       "ABcAAABIAAAAJwAAAFQAAAAoAAAAIgAAAFMAAAAjAAAAIwAAACMAAABBAAAAKgAAAEQAAAAlAAAA\n",
       "ZQAAACkAAABUAAAAKwAAACIAAABaAAAANgAAACIAAAAoAAAAWQAAACMAAAAlAAAAJQAAAEMAAABP\n",
       "AAAALwAAACMAAAAkAAAAPAAAACoAAAAhAAAANQAAADMAAABUAAAASwAAADQAAAAhAAAAJAAAAD8A\n",
       "AAAoAAAAPgAAAEwAAAAiAAAARgAAACkAAABEAAAAIQAAACMAAAAfAAAATAAAACQAAAAjAAAAUQAA\n",
       "AHgAAAArAAAAIgAAACcAAABTAAAALgAAACUAAAA4AAAAIwAAACAAAAA4AAAAIAAAAEoAAAAkAAAA\n",
       "IQAAACMAAABhAAAAJwAAABgAAABFAAAAJQAAAD0AAAAeAAAAPQAAAEEAAAAlAAAAOAAAAB0AAABT\n",
       "AAAAKAAAAFIAAAAqAAAARgAAACIAAAA3AAAAJAAAADkAAAAkAAAAIQAAADsAAAAYAAAAKwAAGJEA\n",
       "AAE2AAAAUQAAAF0AAACPAAAATQAAACUAAAA9AAAAWwAAAC8AAABBAAAAJAAAAD8AAAAqAAAAJAAA\n",
       "AC0AAAAhAAAAPgAAACYAAAAlAAAATAAAAC0AAABMAAAALgAAADoAAAAvAAAAQQAAACkAAAA1AAAA\n",
       "LQAAAFAAAAA1AAAAIgAAACYAAACBAAAAMgAAACAAAAAaAAAATQAAADQAAAAjAAAAQAAAACwAAAAn\n",
       "AAAALAAAACgAAABEAAAAIAAAADgAAAArAAAARwAAACkAAABUAAAAKgAAAEYAAABBAAAAKQAAAJQA\n",
       "AAAjAAAAKQAAACYAAABUAAAAMAAAADcAAAA6AAAATgAAADkAAAAnAAAAQAAAABsAAABIAAAAOQAA\n",
       "ACQAAABBAAAAJQAAAEkAAAAuAAAARgAAACIAAAA8AAAAJwAAAE8AAAAqAAAAPwAAACcAAAArAAAA\n",
       "XgAAACsAAAA+AAAAUwAAAEwAAAAgAAAAJwAAAE4AAAAyAAAAKQAAACsAAABMAAAAKgAAACkAAABe\n",
       "AAAAKgAAAEoAAAAiAAAAYAAAACgAAAAjAAAAJQAAAGUAAAA+AAAAHAAAAFkAAABSAAAAKQAAAEMA\n",
       "AAAiAAAAMAAAACkAAAAlAAAARgAAAB0AAAA7AAAAKgAAADUAAAAbAAAAPQAAAFsAAAAtAAAAUgAA\n",
       "ACYAAAA3AAAAIQAAAD4AAAAuAAAAJAAAAEAAAAAtAAAATQAAACcAAAAwAAAARwAAACcAAABeAAAA\n",
       "KQAAAC8AAABTAAAAKwAAACkAAABoAAAAOgAAACcAAAAtAAAAWgAAACcAAAAlAAAAIwAAAF0AAAAf\n",
       "AAAAEwAAACAAAAA5AAAAJwAAAFYAAAAqAAAAQwAAAC0AAAAqAAAAIAAAAD4AAAAlAAAAKAAAAEYA\n",
       "AAAcAAAARAAAACsAAAAnAAAATQAAACYAAAAiAAAATwAAAB0AAABGAAAAKgAAACgAAABfAAAAKAAA\n",
       "ACEAAABLAAAAJwAAAE8AAAAoAAAAIAAAAEcAAAAoAAAAJQAAAEQAAAAoAAAAVAAAACkAAAAoAAAA\n",
       "SwAAACMAAABUAAAALgAAACUAAAA/AAAALAAAAFQAAAAuAAAAIQAAAFMAAAApAAAAKAAAAFAAAAAm\n",
       "AAAAXwAAACcAAAAlAAAARwAAACsAAAAkAAAAMgAAAGsAAAAfAAAALAAAACUAAAAwAAAAHgAAADIA\n",
       "AAAeAAAARwAAACgAAAAxAAAAMgAAACUAAABJAAAAHAAAADgAAAAzAAAAFQAAAFEAAAAtAAAAJwAA\n",
       "AC0AAABZAAAANAAAACMAAAApAAAAjwAAACUAABavAAABAgAAADUAAABhAAAAKwAAAEoAAABzAAAA\n",
       "JQAAAFsAAAAcAAAAWAAAACMAAABQAAAAJAAAAEsAAAAjAAAATAAAACgAAABTAAAAPgAAAEwAAAAm\n",
       "AAAAUAAAACkAAABKAAAAJAAAAFgAAAAsAAAARwAAACQAAABcAAAAHQAAAC4AAABdAAAAKQAAACUA\n",
       "AAAkAAAATgAAACEAAABTAAAAHwAAAEUAAAA0AAAALgAAAB4AAABnAAAAIgAAABYAAAAiAAAASAAA\n",
       "ABkAAAAgAAAAUQAAACEAAABKAAAAIwAAAB0AAABIAAAAGQAAACMAAABUAAAAJAAAAEUAAAAkAAAA\n",
       "IwAAAEAAAAAgAAAAIQAAAFcAAAApAAAARQAAACsAAAAeAAAAQgAAADUAAAApAAAAKQAAADMAAAAk\n",
       "AAAATwAAACoAAAAvAAAAZwAAADEAAAApAAAALAAAAGQAAAAqAAAAKAAAAC8AAABnAAAAHAAAADkA\n",
       "AAAbAAAAQgAAACIAAAA3AAAAXgAAACcAAAAnAAAAGQAAAF8AAAAgAAAAOQAAABoAAAAjAAAAQwAA\n",
       "ACMAAABAAAAAHQAAAFoAAAAlAAAAGwAAAEUAAAAlAAAAIwAAAEAAAAAfAAAAQAAAACEAAAAmAAAA\n",
       "SgAAACIAAAAiAAAAHwAAAE8AAAAnAAAAJgAAAEMAAAAoAAAAJwAAAEUAAAArAAAAGAAAAEwAAAAt\n",
       "AAAAIgAAACUAAABgAAAAJQAAADgAAAAqAAAAIQAAAEkAAAAnAAAAQgAAACsAAAAfAAAAKgAAAEgA\n",
       "AAAmAAAAXQAAAD0AAAAsAAAAIgAAAF8AAAAZAAAAFQAAAA4AAABNAAAAGwAAAB8AAABJAAAAIgAA\n",
       "ACQAAAA7AAAAGwAAAB8AAAA7AAAAKgAAAB8AAABDAAAAXAAAACcAAAAaAAAAOAAAAB8AAABRAAAA\n",
       "JQAAAEcAAAA4AAAAKQAAAC0AAAAWAAAAcQAAABoAAAAdAAAAJAAAAEMAAAAmAAAAIgAAADkAAAAW\n",
       "AAAAOgAAACEAAABFAAAAVAAAACIAAAA9AAAAHwAAACMAAABEAAAAJQAAAFYAAAAhAAAAIgAAAFQA\n",
       "AAAkAAAANgAAAB0AAABaAAAAJAAAACEAAAAgAAAAYgAAABwAAAAlAAAAFAAAAGMAAABVAAAAKwAA\n",
       "AC0AAAAZAAAARgAAAEIAAAAmAAAAIQAAADsAAAAlAAAAIAAAAGwAAAAyAAAAGwAAAEoAAAAnAAAA\n",
       "PQAAACgAAAAlAAAAWAAAAC4AAABMAAAAKQAAAB8AAABcAAAALQAAACUAAABIAAAALgAAACYAAAAs\n",
       "AAAU7gAAAQAAAABZAAAAOwAAADIAAACUAAAAUgAAACYAAAAZAAAAdwAAAHsAAABSAAAASAAAAEAA\n",
       "AABEAAAAMAAAAFMAAAA8AAAAHAAAAEwAAAA3AAAAHgAAAEIAAAArAAAAZQAAADwAAAAlAAAAYQAA\n",
       "ADcAAAAjAAAAQQAAAEYAAAA3AAAAPAAAADsAAAAoAAAATAAAADoAAABOAAAAMwAAAFoAAAA8AAAA\n",
       "IwAAACUAAABMAAAAQgAAACEAAAAbAAAAegAAAD0AAAAhAAAALQAAAGoAAAA4AAAANQAAAEEAAAA1\n",
       "AAAAWAAAADoAAABMAAAAMwAAAEsAAAA7AAAAGgAAAD4AAAAyAAAASgAAADsAAAAkAAAARgAAADkA\n",
       "AAApAAAAPQAAACsAAAA+AAAAMQAAAEsAAABGAAAANAAAAB0AAABhAAAAMwAAAFoAAAA9AAAALAAA\n",
       "AB0AAAA6AAAANQAAABYAAAAfAAAARgAAACkAAAA7AAAAKgAAADkAAAAqAAAAOwAAACkAAABOAAAA\n",
       "QAAAACcAAABEAAAARAAAACQAAABEAAAAHQAAAEkAAAApAAAAWAAAACoAAABOAAAANwAAACQAAAAl\n",
       "AAAAPAAAACoAAAAxAAAAJAAAAEYAAAAiAAAARQAAACQAAABQAAAASwAAAC4AAAAkAAAANAAAACQA\n",
       "AABDAAAAIwAAACQAAABVAAAAIQAAAGAAAAAqAAAAKgAAAEkAAAArAAAAIAAAAGYAAAAqAAAAVQAA\n",
       "ADoAAAAsAAAAHQAAADYAAAAWAAAAHwAAAA4AAABoAAAAJwAAABoAAAAjAAAAOQAAACYAAAAvAAAA\n",
       "UAAAACIAAABcAAAAHAAAABkAAAAkAAAASwAAACcAAAAcAAAASwAAABwAAABHAAAAJAAAAE4AAAA6\n",
       "AAAAJgAAABgAAABIAAAAJwAAAEoAAAAcAAAANgAAACYAAABUAAAAKgAAACQAAABDAAAAKwAAADoA\n",
       "AAApAAAAIQAAAEcAAAAkAAAAQgAAACgAAABUAAAALgAAACAAAAAjAAAAPQAAAFcAAAArAAAAJAAA\n",
       "AEgAAABNAAAAKgAAACQAAABLAAAANgAAACcAAAAgAAAASgAAACcAAABaAAAALQAAACYAAAAhAAAA\n",
       "PAAAACUAAAAgAAAAEAAAAEQAAAAmAAAARAAAACoAAAAvAAAAJAAAADYAAAAhAAAAPgAAAEIAAABS\n",
       "AAAAHwAAAEgAAAAgAAAASQAAACMAAABCAAAAHwAAACcAAAA1AAAAHgAAAEwAAABpAAAAOQAAACkA\n",
       "AAAmAAAAUQAAADAAAAAYAAAAJAAAADcAAAAgAAAAKQAAE3oAAADIAAAARAAAAEAAAAA+AAAAUQAA\n",
       "ADAAAABAAAAANQAAAFwAAAA4AAAANgAAADEAAABeAAAAKwAAAFAAAAA7AAAARQAAAEYAAAAsAAAA\n",
       "JAAAAD8AAAAsAAAAOgAAADgAAAAsAAAAOwAAACkAAAA7AAAAPAAAACQAAABOAAAAMgAAAEUAAAA3\n",
       "AAAAJwAAAFQAAAArAAAAQQAAADkAAAAkAAAASAAAADYAAABCAAAAMgAAAE4AAABUAAAANQAAAEUA\n",
       "AAA4AAAAHQAAAFQAAAA1AAAAOQAAADkAAAAlAAAASwAAADYAAAAoAAAAWgAAAD4AAABSAAAAOwAA\n",
       "AB4AAABBAAAAPgAAACoAAABJAAAANgAAAGoAAAA+AAAAKgAAAC0AAABKAAAALgAAAFAAAAAzAAAA\n",
       "JAAAAEkAAAAzAAAAPQAAADYAAAApAAAARAAAADEAAABMAAAAMQAAAE0AAAA2AAAATwAAADsAAAAq\n",
       "AAAAKwAAAFUAAAAsAAAAOAAAADMAAAAvAAAARwAAACcAAABFAAAAMAAAABwAAABGAAAAJwAAAEQA\n",
       "AAAxAAAAWgAAADwAAAAdAAAAWgAAAE0AAABDAAAAXQAAACEAAAAsAAAALgAAAFAAAAAxAAAASgAA\n",
       "ACMAAAA5AAAAMgAAACcAAABNAAAAJQAAADsAAAAvAAAAIgAAAE4AAABaAAAALwAAAEgAAAAuAAAA\n",
       "JQAAAEcAAAAjAAAARQAAADAAAAAdAAAAQQAAADMAAAA/AAAAVAAAADsAAAAoAAAAKgAAAFAAAAAs\n",
       "AAAAKwAAAEkAAABHAAAALwAAADsAAAAxAAAAJwAAAEEAAAAiAAAAWQAAADEAAAA0AAAAUQAAACwA\n",
       "AABRAAAALAAAACgAAABSAAAALAAAAFoAAAAtAAAAJQAAAGQAAAApAAAAPAAAACUAAABSAAAAKAAA\n",
       "ACIAAAAaAAAAOgAAACYAAABHAAAAJwAAAD8AAAAkAAAAGgAAAEQAAAAmAAAAPAAAACoAAAAkAAAA\n",
       "RwAAAB0AAABgAAAAJgAAAFcAAAAfAAAAXAAAACkAAAAfAAAAVAAAACoAAAAlAAAAQwAAACYAAABJ\n",
       "AAAALwAAACEAAABOAAAAKAAAACAAAABDAAAAKgAAAEMAAAAmAAAAIwAAAEwAAAAyAAAAJgAAAFEA\n",
       "AAAqAAAAUgAAAC4AAAAcAAAAPwAAACoAAAAhAAAAKgAAAEQAAABbAAAAMwAAACkAAAAvAAAASwAA\n",
       "AC8AAAAoAAAAOwAAAFcAAAAhAAAARAAAABgAAAAsAAAARQAAACcAAAAiAAAAUAAAACYAAAAfAAAA\n",
       "JAAAADwAABKxAAAA1wAAAFQAAAA4AAAALgAAAIoAAABAAAAAGwAAACgAAABmAAAARAAAADkAAABR\n",
       "AAAAOgAAACoAAAA+AAAAMwAAAEYAAAA2AAAAIwAAAEoAAAAzAAAAOQAAADkAAAAtAAAARQAAADAA\n",
       "AABMAAAAMwAAAEEAAAA6AAAAHwAAAEoAAAA3AAAAJAAAAEEAAAA3AAAARAAAADoAAAAoAAAARAAA\n",
       "ADUAAABJAAAANwAAACYAAAA3AAAANQAAADkAAAA4AAAAIgAAAEEAAAA4AAAAGwAAAF4AAAAzAAAA\n",
       "RwAAADYAAAAkAAAAQgAAADUAAAAgAAAANwAAAC8AAAAzAAAAKwAAADgAAAAxAAAAGAAAADkAAAA9\n",
       "AAAAKgAAADUAAAAvAAAALAAAABRzdGNvAAAAAAAAAAEAAAAsAAAAYnVkdGEAAABabWV0YQAAAAAA\n",
       "AAAhaGRscgAAAAAAAAAAbWRpcmFwcGwAAAAAAAAAAAAAAAAtaWxzdAAAACWpdG9vAAAAHWRhdGEA\n",
       "AAABAAAAAExhdmY1Ny41Ni4xMDA=\n",
       "\">\n",
       "  Your browser does not support the video tag.\n",
       "</video>"
      ],
      "text/plain": [
       "<IPython.core.display.HTML object>"
      ]
     },
     "execution_count": 26,
     "metadata": {},
     "output_type": "execute_result"
    }
   ],
   "source": [
    "HTML(ani.to_html5_video())"
   ]
  },
  {
   "cell_type": "code",
   "execution_count": 31,
   "metadata": {
    "slideshow": {
     "slide_type": "subslide"
    }
   },
   "outputs": [
    {
     "data": {
      "text/html": [
       "<iframe src=https://visualgo.net/sorting width=1200 height=700></iframe>"
      ],
      "text/plain": [
       "<IPython.core.display.HTML object>"
      ]
     },
     "execution_count": 31,
     "metadata": {},
     "output_type": "execute_result"
    }
   ],
   "source": [
    "HTML('<iframe src=https://visualgo.net/sorting width=1200 height=700></iframe>')"
   ]
  },
  {
   "cell_type": "markdown",
   "metadata": {
    "slideshow": {
     "slide_type": "subslide"
    }
   },
   "source": [
    "### Version itérative"
   ]
  },
  {
   "cell_type": "code",
   "execution_count": null,
   "metadata": {
    "collapsed": true
   },
   "outputs": [],
   "source": [
    "# A vous"
   ]
  },
  {
   "cell_type": "code",
   "execution_count": 34,
   "metadata": {
    "collapsed": true,
    "slideshow": {
     "slide_type": "subslide"
    }
   },
   "outputs": [],
   "source": [
    "def tri_insertion(L):\n",
    "    n=len(L)\n",
    "    for i in range(1,n):\n",
    "        x=L[i]\n",
    "        j=i-1\n",
    "        while (j>-1) and (L[j]>x):\n",
    "            L[j+1]=L[j]\n",
    "            j=j-1\n",
    "        L[j+1]=x"
   ]
  },
  {
   "cell_type": "markdown",
   "metadata": {
    "slideshow": {
     "slide_type": "fragment"
    }
   },
   "source": [
    "* Pas de boucle interne $\\verb\"for\"$    \n",
    "$\\rightarrow$ arrêt $\\leftrightarrow$ position définitive de $x$    \n",
    "$\\rightarrow$ sinon : placement de $x$ partout à sa gauche\n",
    "* Evaluation paresseuse de Python    \n",
    "$\\rightarrow$ si $\\verb\"j==-1\"$, pas d'évaluation de $\\verb\"L[-1]\"$    \n",
    "$\\rightarrow$ évite <i>list index out of range</i>"
   ]
  },
  {
   "cell_type": "code",
   "execution_count": null,
   "metadata": {
    "collapsed": true,
    "slideshow": {
     "slide_type": "subslide"
    }
   },
   "outputs": [],
   "source": [
    "#Test\n",
    "import numpy as np\n",
    "import numpy.random as rd\n",
    "def lalea(n,Max):\n",
    "    return [rd.randint(0,Max) for i in range(n)]"
   ]
  },
  {
   "cell_type": "code",
   "execution_count": 37,
   "metadata": {
    "slideshow": {
     "slide_type": "fragment"
    }
   },
   "outputs": [
    {
     "data": {
      "text/plain": [
       "(array([267, 190, 590, 668, 621, 195, 926, 751, 489, 768, 394, 360, 585,\n",
       "        156, 564, 944, 543,  86, 988, 283, 614, 523, 199, 691, 417, 872,\n",
       "        439, 291, 301, 747, 287,  24, 517, 616, 572, 574, 308, 960,  72,\n",
       "         33, 999, 191,  22, 597, 325, 302, 279,   7, 376, 398, 746, 239,\n",
       "        501, 966, 918, 928, 331, 824, 362, 278, 703,  36, 445, 437, 212,\n",
       "        132, 167, 219, 875, 152, 163, 554, 920, 953, 200, 434, 234, 536,\n",
       "        991, 265, 783, 105, 655, 525, 656, 934, 186,  35, 963, 593, 967,\n",
       "        566,  75,  53, 341, 370, 785, 692, 352, 995]),\n",
       " array([  7,  22,  24,  33,  35,  36,  53,  72,  75,  86, 105, 132, 152,\n",
       "        156, 163, 167, 186, 190, 191, 195, 199, 200, 212, 219, 234, 239,\n",
       "        265, 267, 278, 279, 283, 287, 291, 301, 302, 308, 325, 331, 341,\n",
       "        352, 360, 362, 370, 376, 394, 398, 417, 434, 437, 439, 445, 489,\n",
       "        501, 517, 523, 525, 536, 543, 554, 564, 566, 572, 574, 585, 590,\n",
       "        593, 597, 614, 616, 621, 655, 656, 668, 691, 692, 703, 746, 747,\n",
       "        751, 768, 783, 785, 824, 872, 875, 918, 920, 926, 928, 934, 944,\n",
       "        953, 960, 963, 966, 967, 988, 991, 995, 999]))"
      ]
     },
     "execution_count": 37,
     "metadata": {},
     "output_type": "execute_result"
    }
   ],
   "source": [
    "Ltest=lalea(100,1000)\n",
    "Ltestbis=[Ltest[i] for i in range(len(Ltest))]\n",
    "tri_insertion(Ltest)\n",
    "np.array(Ltestbis),np.array(Ltest)"
   ]
  },
  {
   "cell_type": "markdown",
   "metadata": {
    "slideshow": {
     "slide_type": "subslide"
    }
   },
   "source": [
    "### Version modulaire"
   ]
  },
  {
   "cell_type": "code",
   "execution_count": 32,
   "metadata": {
    "collapsed": true
   },
   "outputs": [],
   "source": [
    "def tri_insertion2(L):\n",
    "    n=len(L)\n",
    "    for i in range(1,n):\n",
    "        aplacer=L[i]\n",
    "        insertion(aplacer,L,i)\n",
    "    return L\n",
    "    \n",
    "def insertion(x,L,j):\n",
    "    k=j\n",
    "    while(k>0) and (x<L[k-1]):\n",
    "        L[k]=L[k-1]\n",
    "        k=k-1\n",
    "    L[k]=x"
   ]
  },
  {
   "cell_type": "markdown",
   "metadata": {
    "slideshow": {
     "slide_type": "subslide"
    }
   },
   "source": [
    "### Version récursive"
   ]
  },
  {
   "cell_type": "code",
   "execution_count": 29,
   "metadata": {
    "collapsed": true
   },
   "outputs": [],
   "source": [
    "def insertionrec(a,l):\n",
    "    if not l:\n",
    "        return [a]\n",
    "    else:\n",
    "        b=l[-1]\n",
    "        if a>b:\n",
    "            return l+[a]\n",
    "        else:\n",
    "            return insertionrec(a,l[:-1])+[b]\n",
    "        \n",
    "def tri_insertionrec(l):\n",
    "    if l==[]:\n",
    "        return []\n",
    "    else:\n",
    "        return insertionrec(l[-1],tri_insertionrec(l[:-1]))"
   ]
  },
  {
   "cell_type": "markdown",
   "metadata": {
    "slideshow": {
     "slide_type": "subslide"
    }
   },
   "source": [
    "### Terminaison\n",
    "\n",
    "Fonction $\\verb\"tri_insertion\"$\n",
    "\n",
    "* Terminaison $\\verb\"for\"$ externe certaine    \n",
    "$\\rightarrow$ si les instructions internes se terminent. \n",
    "* Terminaison boucles $\\verb\"while\"$ : $\\verb\"j\"$ $\\leftrightarrow$ variant de boucle    \n",
    "    $\\rightarrow$ sortie sur le test $\\verb\"L[j]>x\"$    \n",
    "    $\\rightarrow$ ou bien $\\verb\"j\"$ atteint -1."
   ]
  },
  {
   "cell_type": "markdown",
   "metadata": {
    "slideshow": {
     "slide_type": "subslide"
    }
   },
   "source": [
    "### Correction\n",
    "* Invariant de boucle : $\\verb\"L[0,p]\"$ triée à l'issue de la $p^{\\text{ième}}$ itération\n",
    "    * Après la première itération $\\verb\"L[0,1]\"$ ne contient qu'un élément et est triée.\n",
    "    * Supposons $\\verb\"L[0,p]\"$ triée après la $p^{\\text{ième}}$ itération\n",
    "    Après la boucle $\\verb\"while\"$ à la ${p+1}^{\\text{ième}}$ itération :"
   ]
  },
  {
   "cell_type": "markdown",
   "metadata": {
    "slideshow": {
     "slide_type": "subslide"
    }
   },
   "source": [
    "* soit $j=-1$ et la sous liste initialement triée $\\verb\"L[0,p]\"$ coïncide avec $\\verb\"L[1,p+1]\"$ dans le même ordre et $\\verb\"x\"$ (placé à l'indice 0) est inférieur à ses éléments : $\\verb\"L[0,p+1]\"$ est triée.\n",
    "* soit $j$ est le premier indice tel que $\\verb\"L[j]<=x\"$.    \n",
    "Tous les éléments de $\\verb\"L[0:j+1]\"$ son triés et inférieurs à $\\verb\"x\"$.    \n",
    "Tous les éléments de $\\verb\"L[j+2:p+1]\"$ sont ceux de $\\verb\"L[j+1:p]\"$ dans le même ordre, donc triés.    \n",
    "Comme $\\verb\"x\"$ s'intercale entre ces deux listes, $\\verb\"L[0,p+1]\"$ est triée."
   ]
  },
  {
   "cell_type": "markdown",
   "metadata": {
    "slideshow": {
     "slide_type": "subslide"
    }
   },
   "source": [
    "### Complexité\n",
    "* $i^{\\text{ème}}$ itération (boucle externe) :\n",
    "    * Pire des cas : boucle $\\verb\"while\"$ $\\leftrightarrow$ condition $\\verb\"j==-1\"$    \n",
    "    $\\rightarrow$ $i$ itérations internes   \n",
    "    $\\rightarrow$ 1 comparaison + 1 affectation à chaque fois    \n",
    "    $\\rightarrow$ $i$ comparaisons + $(i+2)$ affectations au total "
   ]
  },
  {
   "cell_type": "markdown",
   "metadata": {
    "slideshow": {
     "slide_type": "subslide"
    }
   },
   "source": [
    "* Total :\n",
    "    * $\\sum\\limits_{i=1}^{n-1} i=\\frac{n(n-1)}{2}$ comparaisons\n",
    "    * $\\sum\\limits_{i=1}^{n-1} i+2=\\frac{(n+4)(n-1)}{2}$ affectations"
   ]
  },
  {
   "cell_type": "markdown",
   "metadata": {
    "slideshow": {
     "slide_type": "subslide"
    }
   },
   "source": [
    "### Bilan :\n",
    "* $C(n)=O(n^2)$    \n",
    "$\\rightarrow$ juste acceptable\n",
    "* Pire des cas : $\\verb\"[n,n-1,...,2,1]\"$    \n",
    "* Tri stable grâce à $\\verb\"L[j]>x\"$ au lieu de $\\verb\"L[j]>=x\"$\n"
   ]
  },
  {
   "cell_type": "markdown",
   "metadata": {
    "collapsed": true,
    "slideshow": {
     "slide_type": "subslide"
    }
   },
   "source": [
    "### Fonctions intégrées"
   ]
  },
  {
   "cell_type": "markdown",
   "metadata": {},
   "source": [
    "<b>Algorithme Timsort</b> (Tim Peters)\n",
    "* Méthode de liste $\\verb\"sort\"$ (en place)\n",
    "* Fonction $\\verb\"sorted\"$ (nouvelle liste)"
   ]
  },
  {
   "cell_type": "code",
   "execution_count": 139,
   "metadata": {
    "slideshow": {
     "slide_type": "fragment"
    }
   },
   "outputs": [
    {
     "data": {
      "text/plain": [
       "([2, 2, 5, 6, 7, 8, 8, 9], [2, 2, 5, 6, 7, 8, 8, 9], [5, 2, 8, 7, 2, 9, 6, 8])"
      ]
     },
     "execution_count": 139,
     "metadata": {},
     "output_type": "execute_result"
    }
   ],
   "source": [
    "L=[5,2,8,7,2,9,6,8]\n",
    "M=L+[]\n",
    "L.sort()\n",
    "L,sorted(M),M"
   ]
  },
  {
   "cell_type": "markdown",
   "metadata": {
    "slideshow": {
     "slide_type": "slide"
    }
   },
   "source": [
    "## <center> K PLUS PROCHES VOISINS (k-NN - nearest neighbours)</center>"
   ]
  },
  {
   "cell_type": "markdown",
   "metadata": {
    "slideshow": {
     "slide_type": "subslide"
    }
   },
   "source": [
    "### Données\n",
    "* Ensemble de vecteurs/points à coordonnées numériques    \n",
    "$\\rightarrow$ Liste $L$ (l'ensemble) de listes numériques ($\\approx$ point) <i>de même taille</i> $n$.\n",
    "* A chaque point est associée une caractéristique    \n",
    "$\\rightarrow$ ou entier naturel $\\in [\\! | 0, N-1|\\! ]$    \n",
    "$\\rightarrow$ ou valeur numérique continue"
   ]
  },
  {
   "cell_type": "markdown",
   "metadata": {
    "slideshow": {
     "slide_type": "subslide"
    }
   },
   "source": [
    "### Méthode d'apprentissage supervisé.\n",
    "* Prévoir des résultats (sur un corpus de test)\n",
    "* A partir de données (corpus d'apprentissage)"
   ]
  },
  {
   "cell_type": "markdown",
   "metadata": {
    "collapsed": true,
    "slideshow": {
     "slide_type": "fragment"
    }
   },
   "source": [
    "Concrètement :\n",
    "* Soit x de taille $n$ un <i>nouveau</i> point\n",
    "* On cherche <b>statistiquement</b> la caractéristique la plus probable de $x$    \n",
    "$\\rightarrow$ en cherchant les $k\\in \\mathbb{N}^\\star$ plus proches voisins de $x$    \n",
    "$\\rightarrow$ en déterminant :\n",
    "    * la caractéristique la plus représentée (le mode des voisins)\n",
    "    * la moyenne des valeurs pour une régression (la moyenne des voisins)\n",
    "$\\rightarrow$ on l'associe à $x$"
   ]
  },
  {
   "cell_type": "code",
   "execution_count": 90,
   "metadata": {
    "slideshow": {
     "slide_type": "subslide"
    }
   },
   "outputs": [
    {
     "data": {
      "image/png": "[encoded data removed]",
      "text/plain": [
       "<matplotlib.figure.Figure at 0x1119dcf10>"
      ]
     },
     "metadata": {},
     "output_type": "display_data"
    }
   ],
   "source": [
    "plt.close()\n",
    "L1x=[1,2,2]\n",
    "L1y=[3,1,4]\n",
    "L2x=[4,5,6,7,5]\n",
    "L2y=[2,2,4,6,5]\n",
    "cir=plt.Circle((4,3),2.4,color='b',fill=False)\n",
    "ax=plt.gca()\n",
    "ax.cla()\n",
    "ax.set_xlim((0,7.5))\n",
    "ax.set_ylim((0,7.5))\n",
    "ax.plot(L1x,L1y,'ro')\n",
    "ax.plot(L2x,L2y,'cx')\n",
    "ax.plot([4],[3],'ks')\n",
    "ax.add_artist(cir)\n",
    "ax.text(3,6,'categorie bleue')\n",
    "plt.show()"
   ]
  },
  {
   "cell_type": "markdown",
   "metadata": {
    "collapsed": true,
    "slideshow": {
     "slide_type": "subslide"
    }
   },
   "source": [
    "### Mesure de distance.\n",
    "Soit $x=(x_1,\\dots,x_n)$ et $y=(y_1,\\dots, y_n)$ points de $\\mathbb{R}^n$.\n",
    "$${\\rm d}(x,y)=\\sqrt{\\sum\\limits_{k=1}^n (x_k-y_k)^2}=\\sqrt{(x_1-y_1)^2+\\dots +(x_n-y_n)^2}$$\n",
    "$\\rightarrow$ distance <i>euclidienne</i>    \n",
    "$\\rightarrow$ Autres distances : de Manhattan, de Hamming"
   ]
  },
  {
   "cell_type": "code",
   "execution_count": null,
   "metadata": {
    "collapsed": true,
    "slideshow": {
     "slide_type": "subslide"
    }
   },
   "outputs": [],
   "source": [
    "# Sous fonction : distance\n"
   ]
  },
  {
   "cell_type": "code",
   "execution_count": 58,
   "metadata": {
    "collapsed": true,
    "slideshow": {
     "slide_type": "subslide"
    }
   },
   "outputs": [],
   "source": [
    "def dist(x,y):\n",
    "    \"\"\"Entree : deux listes ou tuples. \n",
    "    Sortie : la distance entre les points représentés\"\"\"\n",
    "    assert len(x)==len(y)\n",
    "    return np.sqrt(sum([ (x[i]-y[i])**2 for i in range(len(x))]))"
   ]
  },
  {
   "cell_type": "markdown",
   "metadata": {
    "slideshow": {
     "slide_type": "subslide"
    }
   },
   "source": [
    "### Recherche des k plus proches voisins.\n",
    "* k : paramètre \n",
    "* E : liste des $P\\geq k$ points du corpus d'apprentissage\n",
    "* C : liste (dans le même ordre) de leurs caractéristiques (parmi $[\\!| 0, N-1|\\! ]$)\n",
    "* x : nouveau point de $\\mathbb{R}^n$."
   ]
  },
  {
   "cell_type": "markdown",
   "metadata": {
    "slideshow": {
     "slide_type": "subslide"
    }
   },
   "source": [
    "#### Heuristique :\n",
    "* On parcourt la liste E en calculant à chaque fois la distance de $x$ à l'élément courant.\n",
    "* On maintient à jour le liste Min des indices des $k$ plus proches voisins déjà parcourus.    \n",
    "$\\rightarrow$ Il vaut mieux les classer dans l'ordre croissant des distances\n",
    "* A chaque étape, si la distance de $x$ à l'élément courant est inférieure à celle au dernier élément représenté dans Min :\n",
    "    * On supprime le dernier élément de Min.\n",
    "    * On insère l'indice courant dans Min à sa place\n",
    "    \n",
    "  $\\rightarrow$ Pour ne pas recalculer les distances, on les stocke aussi dans Min.\n",
    "* On initialise Min en insérant les couples (distance à $x$, indice)     \n",
    "$\\rightarrow$ par ordre croissant des distances    \n",
    "$\\rightarrow$ pour des indices de $[\\!| 0, k-1|\\! ]$    \n",
    "$\\rightarrow$ une fonction d'insertion est utile"
   ]
  },
  {
   "cell_type": "code",
   "execution_count": null,
   "metadata": {
    "collapsed": true,
    "slideshow": {
     "slide_type": "subslide"
    }
   },
   "outputs": [],
   "source": [
    "# A vous : insertion\n",
    "def insere(elt,liste):"
   ]
  },
  {
   "cell_type": "code",
   "execution_count": 75,
   "metadata": {
    "slideshow": {
     "slide_type": "skip"
    }
   },
   "outputs": [
    {
     "data": {
      "text/plain": [
       "[3]"
      ]
     },
     "execution_count": 75,
     "metadata": {},
     "output_type": "execute_result"
    }
   ],
   "source": [
    "#Version non en place annulée\n",
    "def insere(elt,liste):\n",
    "    \"\"\"Données : liste est homogène et triée,\n",
    "    les éléments de même type que x,\n",
    "    qui peuvent être comparés par <=\n",
    "    Résultat : une liste comportant les élément des liste et x, triée\"\"\"\n",
    "    n=len(liste)\n",
    "    res=[]\n",
    "    k=0\n",
    "    while (k<n) and (liste[k]<=elt):\n",
    "        res.append(liste[k])\n",
    "        k+=1\n",
    "    res.append(elt)\n",
    "    if k<n:\n",
    "        while(k<n):\n",
    "            res.append(liste[k])\n",
    "            k+=1\n",
    "    return res\n",
    "insere(3,[])"
   ]
  },
  {
   "cell_type": "code",
   "execution_count": 90,
   "metadata": {
    "slideshow": {
     "slide_type": "subslide"
    }
   },
   "outputs": [
    {
     "data": {
      "text/plain": [
       "[0, 1, 2, 2, 3, 7, 8]"
      ]
     },
     "execution_count": 90,
     "metadata": {},
     "output_type": "execute_result"
    }
   ],
   "source": [
    "def insere(elt,L):\n",
    "    k=len(L)\n",
    "    L.append(elt)\n",
    "    while (k>0) and (L[k-1]>L[k]):\n",
    "        L[k-1],L[k]=L[k],L[k-1]\n",
    "        k-=1"
   ]
  },
  {
   "cell_type": "code",
   "execution_count": null,
   "metadata": {
    "collapsed": true,
    "slideshow": {
     "slide_type": "subslide"
    }
   },
   "outputs": [],
   "source": [
    "# A vous"
   ]
  },
  {
   "cell_type": "code",
   "execution_count": 83,
   "metadata": {
    "collapsed": true,
    "slideshow": {
     "slide_type": "skip"
    }
   },
   "outputs": [],
   "source": [
    "#Version non en place annulée\n",
    "def proches_voisins(E,k,x):#On peut rajouter la distance en paramètre\n",
    "    Min=[]\n",
    "    for i in range(k):\n",
    "        Min=insere((dist(E[i],x),i),Min)\n",
    "    for j in range(k,len(E)):\n",
    "        d=dist(x,E[j])\n",
    "        if Min[-1][0]>d:\n",
    "            Min.pop()\n",
    "            Min=insere((d,j),Min)\n",
    "    return Min"
   ]
  },
  {
   "cell_type": "code",
   "execution_count": 93,
   "metadata": {
    "collapsed": true,
    "slideshow": {
     "slide_type": "subslide"
    }
   },
   "outputs": [],
   "source": [
    "def proches_voisins(E,k,x):#On peut rajouter la distance en paramètre\n",
    "    Min=[]\n",
    "    for i in range(k):\n",
    "        insere((dist(E[i],x),i),Min)\n",
    "    for j in range(k,len(E)):\n",
    "        d=dist(x,E[j])\n",
    "        if Min[-1][0]>d:\n",
    "            Min.pop()\n",
    "            insere((d,j),Min)\n",
    "    return Min"
   ]
  },
  {
   "cell_type": "code",
   "execution_count": 96,
   "metadata": {
    "scrolled": true,
    "slideshow": {
     "slide_type": "subslide"
    }
   },
   "outputs": [
    {
     "data": {
      "text/plain": [
       "[(1.0, 3),\n",
       " (1.4142135623730951, 4),\n",
       " (2.2360679774997898, 2),\n",
       " (2.2360679774997898, 5),\n",
       " (2.2360679774997898, 7)]"
      ]
     },
     "execution_count": 96,
     "metadata": {},
     "output_type": "execute_result"
    }
   ],
   "source": [
    "E=[(1,3),(2,1),(2,4),(4,2),(5,2),(6,4),(7,6),(5,5)]\n",
    "C=[0,0,0,1,1,1,1,1]\n",
    "x=(4,3)\n",
    "proches_voisins(E,5,(4,3))"
   ]
  },
  {
   "cell_type": "markdown",
   "metadata": {},
   "source": [
    "$\\rightarrow$ Complexité linéaire"
   ]
  },
  {
   "cell_type": "markdown",
   "metadata": {
    "slideshow": {
     "slide_type": "subslide"
    }
   },
   "source": [
    "#### Heuristique plus simple\n",
    "* On établit par simple parcours la liste des couples (distance à x,indice).\n",
    "* On trie.\n",
    "* On ne garde que le $k$ premiers éléments."
   ]
  },
  {
   "cell_type": "markdown",
   "metadata": {
    "slideshow": {
     "slide_type": "fragment"
    }
   },
   "source": [
    "$\\rightarrow$ Complexité quadratique"
   ]
  },
  {
   "cell_type": "code",
   "execution_count": null,
   "metadata": {
    "collapsed": true,
    "slideshow": {
     "slide_type": "subslide"
    }
   },
   "outputs": [],
   "source": [
    "def proches_vois_complexe(E,k,x):\n",
    "    M=[]\n",
    "    for i in range(len(E)):\n",
    "        M.append((dist(x,E[i]),i))\n",
    "    M.sorted()\n",
    "    return M[:k]"
   ]
  },
  {
   "cell_type": "markdown",
   "metadata": {
    "slideshow": {
     "slide_type": "subslide"
    }
   },
   "source": [
    "### Fonction finale.\n",
    "* Détermination de :\n",
    "    * la caractéristique majoritaire \n",
    "    * la valeur (moyenne à attribeur à la caractéristique de x\n",
    "* Parmi les k plus proches voisins"
   ]
  },
  {
   "cell_type": "code",
   "execution_count": null,
   "metadata": {
    "collapsed": true,
    "slideshow": {
     "slide_type": "subslide"
    }
   },
   "outputs": [],
   "source": [
    "# A vous\n",
    "def caracterise(x,E,k,C):"
   ]
  },
  {
   "cell_type": "code",
   "execution_count": 110,
   "metadata": {
    "collapsed": true,
    "slideshow": {
     "slide_type": "subslide"
    }
   },
   "outputs": [],
   "source": [
    "def caracterise(x,E,k,C):\n",
    "    N=max(C)\n",
    "    Ldecompte=[0 for i in range(N+1)]\n",
    "    Voisins=proches_voisins(E,k,x)\n",
    "    for elt in Voisins:\n",
    "        d,i=elt#unpacking\n",
    "        Ldecompte[C[i]]+=1\n",
    "    car,val=0,Ldecompte[0]\n",
    "    for i in range(len(Ldecompte)):\n",
    "        num=Ldecompte[i]\n",
    "        if num>val:\n",
    "            car,val=i,num\n",
    "    return car     "
   ]
  },
  {
   "cell_type": "code",
   "execution_count": 111,
   "metadata": {
    "slideshow": {
     "slide_type": "subslide"
    }
   },
   "outputs": [
    {
     "data": {
      "text/plain": [
       "1"
      ]
     },
     "execution_count": 111,
     "metadata": {},
     "output_type": "execute_result"
    }
   ],
   "source": [
    "   \n",
    "caracterise(x,E,5,C)"
   ]
  },
  {
   "cell_type": "code",
   "execution_count": 112,
   "metadata": {
    "collapsed": true,
    "slideshow": {
     "slide_type": "subslide"
    }
   },
   "outputs": [],
   "source": [
    "#C'est plus pratique et lisible avec un dictionnaire\n",
    "def caracterise2(x,E,k,C):\n",
    "    dico={}\n",
    "    Voisins=proches_voisins(E,k,x)\n",
    "    for elt in Voisins:\n",
    "        d,i=elt\n",
    "        dico[C[i]]=dico.get(C[i],0)+1\n",
    "    maxi,ind=-1,-1\n",
    "    for elt in dico.keys():\n",
    "        if dico[elt]>maxi:\n",
    "            maxi,ind=dico[elt],elt\n",
    "    return ind"
   ]
  },
  {
   "cell_type": "code",
   "execution_count": 113,
   "metadata": {
    "slideshow": {
     "slide_type": "subslide"
    }
   },
   "outputs": [
    {
     "data": {
      "text/plain": [
       "1"
      ]
     },
     "execution_count": 113,
     "metadata": {},
     "output_type": "execute_result"
    }
   ],
   "source": [
    "caracterise2(x,E,5,C)"
   ]
  },
  {
   "cell_type": "code",
   "execution_count": 114,
   "metadata": {
    "collapsed": true,
    "slideshow": {
     "slide_type": "subslide"
    }
   },
   "outputs": [],
   "source": [
    "def regression(x,E,k,C):\n",
    "    Voisins=proches_voisins(E,k,x)\n",
    "    accu=0\n",
    "    for elt in Voisins:\n",
    "        d,i=elt\n",
    "        accu+=C[i]\n",
    "    return (1/float(k))*accu"
   ]
  },
  {
   "cell_type": "markdown",
   "metadata": {
    "slideshow": {
     "slide_type": "subslide"
    }
   },
   "source": [
    "#### Sur un exemple plus consistant"
   ]
  },
  {
   "cell_type": "code",
   "execution_count": 136,
   "metadata": {
    "slideshow": {
     "slide_type": "subslide"
    }
   },
   "outputs": [
    {
     "data": {
      "image/png": "[encoded data removed]",
      "text/plain": [
       "<matplotlib.figure.Figure at 0x11a48b990>"
      ]
     },
     "metadata": {},
     "output_type": "display_data"
    }
   ],
   "source": [
    "#iris de Fisher\n",
    "from sklearn import datasets\n",
    "iris = datasets.load_iris()\n",
    "X,y = iris.data[:, :2],iris.target\n",
    "\n",
    "x_min, x_max, y_min, y_max = X[:, 0].min() - .5, X[:, 0].max() + .5,X[:, 1].min() - .5, X[:, 1].max() + .5\n",
    "\n",
    "plt.cla()\n",
    "plt.scatter(X[:, 0], X[:, 1], c=y, cmap=plt.cm.viridis,\n",
    "            edgecolor='k')\n",
    "plt.xlabel('longueur sepale')\n",
    "plt.ylabel('largeur sepale')\n",
    "plt.xlim(x_min, x_max)\n",
    "plt.ylim(y_min, y_max)\n",
    "#plt.xticks(())\n",
    "#plt.yticks(())\n",
    "plt.show()"
   ]
  },
  {
   "cell_type": "markdown",
   "metadata": {
    "slideshow": {
     "slide_type": "subslide"
    }
   },
   "source": [
    "#### Petit focus sur les types et contenus"
   ]
  },
  {
   "cell_type": "code",
   "execution_count": 138,
   "metadata": {
    "collapsed": true,
    "slideshow": {
     "slide_type": "fragment"
    }
   },
   "outputs": [
    {
     "data": {
      "text/plain": [
       "(array([0, 0, 0, 0, 0, 0, 0, 0, 0, 0, 0, 0, 0, 0, 0, 0, 0, 0, 0, 0, 0, 0, 0,\n",
       "        0, 0, 0, 0, 0, 0, 0, 0, 0, 0, 0, 0, 0, 0, 0, 0, 0, 0, 0, 0, 0, 0, 0,\n",
       "        0, 0, 0, 0, 1, 1, 1, 1, 1, 1, 1, 1, 1, 1, 1, 1, 1, 1, 1, 1, 1, 1, 1,\n",
       "        1, 1, 1, 1, 1, 1, 1, 1, 1, 1, 1, 1, 1, 1, 1, 1, 1, 1, 1, 1, 1, 1, 1,\n",
       "        1, 1, 1, 1, 1, 1, 1, 1, 2, 2, 2, 2, 2, 2, 2, 2, 2, 2, 2, 2, 2, 2, 2,\n",
       "        2, 2, 2, 2, 2, 2, 2, 2, 2, 2, 2, 2, 2, 2, 2, 2, 2, 2, 2, 2, 2, 2, 2,\n",
       "        2, 2, 2, 2, 2, 2, 2, 2, 2, 2, 2, 2]), array([[ 5.1,  3.5],\n",
       "        [ 4.9,  3. ],\n",
       "        [ 4.7,  3.2],\n",
       "        [ 4.6,  3.1],\n",
       "        [ 5. ,  3.6],\n",
       "        [ 5.4,  3.9],\n",
       "        [ 4.6,  3.4],\n",
       "        [ 5. ,  3.4],\n",
       "        [ 4.4,  2.9],\n",
       "        [ 4.9,  3.1],\n",
       "        [ 5.4,  3.7],\n",
       "        [ 4.8,  3.4],\n",
       "        [ 4.8,  3. ],\n",
       "        [ 4.3,  3. ],\n",
       "        [ 5.8,  4. ],\n",
       "        [ 5.7,  4.4],\n",
       "        [ 5.4,  3.9],\n",
       "        [ 5.1,  3.5],\n",
       "        [ 5.7,  3.8],\n",
       "        [ 5.1,  3.8],\n",
       "        [ 5.4,  3.4],\n",
       "        [ 5.1,  3.7],\n",
       "        [ 4.6,  3.6],\n",
       "        [ 5.1,  3.3],\n",
       "        [ 4.8,  3.4],\n",
       "        [ 5. ,  3. ],\n",
       "        [ 5. ,  3.4],\n",
       "        [ 5.2,  3.5],\n",
       "        [ 5.2,  3.4],\n",
       "        [ 4.7,  3.2],\n",
       "        [ 4.8,  3.1],\n",
       "        [ 5.4,  3.4],\n",
       "        [ 5.2,  4.1],\n",
       "        [ 5.5,  4.2],\n",
       "        [ 4.9,  3.1],\n",
       "        [ 5. ,  3.2],\n",
       "        [ 5.5,  3.5],\n",
       "        [ 4.9,  3.1],\n",
       "        [ 4.4,  3. ],\n",
       "        [ 5.1,  3.4],\n",
       "        [ 5. ,  3.5],\n",
       "        [ 4.5,  2.3],\n",
       "        [ 4.4,  3.2],\n",
       "        [ 5. ,  3.5],\n",
       "        [ 5.1,  3.8],\n",
       "        [ 4.8,  3. ],\n",
       "        [ 5.1,  3.8],\n",
       "        [ 4.6,  3.2],\n",
       "        [ 5.3,  3.7],\n",
       "        [ 5. ,  3.3],\n",
       "        [ 7. ,  3.2],\n",
       "        [ 6.4,  3.2],\n",
       "        [ 6.9,  3.1],\n",
       "        [ 5.5,  2.3],\n",
       "        [ 6.5,  2.8],\n",
       "        [ 5.7,  2.8],\n",
       "        [ 6.3,  3.3],\n",
       "        [ 4.9,  2.4],\n",
       "        [ 6.6,  2.9],\n",
       "        [ 5.2,  2.7],\n",
       "        [ 5. ,  2. ],\n",
       "        [ 5.9,  3. ],\n",
       "        [ 6. ,  2.2],\n",
       "        [ 6.1,  2.9],\n",
       "        [ 5.6,  2.9],\n",
       "        [ 6.7,  3.1],\n",
       "        [ 5.6,  3. ],\n",
       "        [ 5.8,  2.7],\n",
       "        [ 6.2,  2.2],\n",
       "        [ 5.6,  2.5],\n",
       "        [ 5.9,  3.2],\n",
       "        [ 6.1,  2.8],\n",
       "        [ 6.3,  2.5],\n",
       "        [ 6.1,  2.8],\n",
       "        [ 6.4,  2.9],\n",
       "        [ 6.6,  3. ],\n",
       "        [ 6.8,  2.8],\n",
       "        [ 6.7,  3. ],\n",
       "        [ 6. ,  2.9],\n",
       "        [ 5.7,  2.6],\n",
       "        [ 5.5,  2.4],\n",
       "        [ 5.5,  2.4],\n",
       "        [ 5.8,  2.7],\n",
       "        [ 6. ,  2.7],\n",
       "        [ 5.4,  3. ],\n",
       "        [ 6. ,  3.4],\n",
       "        [ 6.7,  3.1],\n",
       "        [ 6.3,  2.3],\n",
       "        [ 5.6,  3. ],\n",
       "        [ 5.5,  2.5],\n",
       "        [ 5.5,  2.6],\n",
       "        [ 6.1,  3. ],\n",
       "        [ 5.8,  2.6],\n",
       "        [ 5. ,  2.3],\n",
       "        [ 5.6,  2.7],\n",
       "        [ 5.7,  3. ],\n",
       "        [ 5.7,  2.9],\n",
       "        [ 6.2,  2.9],\n",
       "        [ 5.1,  2.5],\n",
       "        [ 5.7,  2.8],\n",
       "        [ 6.3,  3.3],\n",
       "        [ 5.8,  2.7],\n",
       "        [ 7.1,  3. ],\n",
       "        [ 6.3,  2.9],\n",
       "        [ 6.5,  3. ],\n",
       "        [ 7.6,  3. ],\n",
       "        [ 4.9,  2.5],\n",
       "        [ 7.3,  2.9],\n",
       "        [ 6.7,  2.5],\n",
       "        [ 7.2,  3.6],\n",
       "        [ 6.5,  3.2],\n",
       "        [ 6.4,  2.7],\n",
       "        [ 6.8,  3. ],\n",
       "        [ 5.7,  2.5],\n",
       "        [ 5.8,  2.8],\n",
       "        [ 6.4,  3.2],\n",
       "        [ 6.5,  3. ],\n",
       "        [ 7.7,  3.8],\n",
       "        [ 7.7,  2.6],\n",
       "        [ 6. ,  2.2],\n",
       "        [ 6.9,  3.2],\n",
       "        [ 5.6,  2.8],\n",
       "        [ 7.7,  2.8],\n",
       "        [ 6.3,  2.7],\n",
       "        [ 6.7,  3.3],\n",
       "        [ 7.2,  3.2],\n",
       "        [ 6.2,  2.8],\n",
       "        [ 6.1,  3. ],\n",
       "        [ 6.4,  2.8],\n",
       "        [ 7.2,  3. ],\n",
       "        [ 7.4,  2.8],\n",
       "        [ 7.9,  3.8],\n",
       "        [ 6.4,  2.8],\n",
       "        [ 6.3,  2.8],\n",
       "        [ 6.1,  2.6],\n",
       "        [ 7.7,  3. ],\n",
       "        [ 6.3,  3.4],\n",
       "        [ 6.4,  3.1],\n",
       "        [ 6. ,  3. ],\n",
       "        [ 6.9,  3.1],\n",
       "        [ 6.7,  3.1],\n",
       "        [ 6.9,  3.1],\n",
       "        [ 5.8,  2.7],\n",
       "        [ 6.8,  3.2],\n",
       "        [ 6.7,  3.3],\n",
       "        [ 6.7,  3. ],\n",
       "        [ 6.3,  2.5],\n",
       "        [ 6.5,  3. ],\n",
       "        [ 6.2,  3.4],\n",
       "        [ 5.9,  3. ]]))"
      ]
     },
     "execution_count": 138,
     "metadata": {},
     "output_type": "execute_result"
    }
   ],
   "source": [
    "y,X"
   ]
  },
  {
   "cell_type": "code",
   "execution_count": 126,
   "metadata": {
    "collapsed": true,
    "slideshow": {
     "slide_type": "fragment"
    }
   },
   "outputs": [],
   "source": [
    "Noms=iris.target_names\n",
    "Noms"
   ]
  },
  {
   "cell_type": "code",
   "execution_count": 135,
   "metadata": {
    "slideshow": {
     "slide_type": "subslide"
    }
   },
   "outputs": [
    {
     "data": {
      "text/plain": [
       "'virginica'"
      ]
     },
     "execution_count": 135,
     "metadata": {},
     "output_type": "execute_result"
    }
   ],
   "source": [
    "Noms[caracterise(np.array([6,3]),X,5,y)]#gros changements selon les valeurs de 1<=k<=7"
   ]
  },
  {
   "cell_type": "markdown",
   "metadata": {
    "slideshow": {
     "slide_type": "subslide"
    }
   },
   "source": [
    "### Limites et solutions\n",
    "* Bruit dans les classes\n",
    "* Classe majoritaire en nombre    \n",
    "$\\rightarrow$ pondérations possibles    \n",
    "$\\rightarrow$ coefficients forts $\\leftrightarrow$ proximité\n",
    "* Choix de $k$ :\n",
    "    * $k$ grand    \n",
    "    $\\rightarrow$ Moins sensible au bruit    \n",
    "    $\\rightarrow$ Adapté à un grand corpus d'apprentissage\n",
    "    * $k$ petit :    \n",
    "    $\\rightarrow$ Structures fines    \n",
    "    $\\rightarrow$ Nécessaire pour des petits corpus d'apprentissage  \n",
    "    \n",
    "$\\rightarrow$ Choix utilisateur/heuristique"
   ]
  },
  {
   "cell_type": "markdown",
   "metadata": {
    "slideshow": {
     "slide_type": "subslide"
    }
   },
   "source": [
    "### Fonctions intégrées\n",
    "https://scikit-learn.org/stable/modules/neighbors.html\n",
    "https://scikit-learn.org/stable/modules/generated/sklearn.neighbors.KNeighborsClassifier.html\n",
    "* $\\verb\"scikit-learn\"$\n",
    "    * $\\verb\"sklearn.neighbors\"$ (package)\n",
    "    * $\\verb\"NearestNeighbors\"$\n",
    "    * $\\verb\"KNeighborsClassifier\"$"
   ]
  },
  {
   "cell_type": "code",
   "execution_count": 145,
   "metadata": {
    "slideshow": {
     "slide_type": "subslide"
    }
   },
   "outputs": [
    {
     "data": {
      "text/plain": [
       "array([1])"
      ]
     },
     "execution_count": 145,
     "metadata": {},
     "output_type": "execute_result"
    }
   ],
   "source": [
    "from sklearn.neighbors import KNeighborsClassifier\n",
    "E=[[1,3],[2,1],[2,4],[4,2],[5,2],[6,4],[7,6],[5,5]]\n",
    "C=[0,0,0,1,1,1,1,1]\n",
    "x=[4,3]\n",
    "neigh = KNeighborsClassifier(n_neighbors=5)\n",
    "neigh.fit(E, C)\n",
    "neigh.predict(np.array(x).reshape(1,-1))"
   ]
  },
  {
   "cell_type": "markdown",
   "metadata": {
    "slideshow": {
     "slide_type": "slide"
    }
   },
   "source": [
    "## <center> RECHERCHE DICHOTOMIQUE DANS UN TABLEAU TRIE </center>"
   ]
  },
  {
   "cell_type": "markdown",
   "metadata": {
    "slideshow": {
     "slide_type": "subslide"
    }
   },
   "source": [
    "### Rappels - Recherche dans un tableau quelconque\n",
    "* On renvoie le booléen correspondant à la présence de $x$ dans $L$.    \n",
    "$\\rightarrow$ Parcours de tout le tableau et conclusion.    \n",
    "$\\rightarrow$ Parcours et on renvoie True dès que $x$ est rencontré"
   ]
  },
  {
   "cell_type": "code",
   "execution_count": null,
   "metadata": {
    "collapsed": true,
    "slideshow": {
     "slide_type": "subslide"
    }
   },
   "outputs": [],
   "source": [
    "def rech1(x,L):\n",
    "    \"\"\"Données : une liste L homogène\n",
    "    et x de même type.\n",
    "    Résultat : le booléen correspondant à l'appartenance de x à L\"\"\"\n",
    "    booleen=False\n",
    "    for elt in L:#ou i in range(len(L))\n",
    "        if elt==x:\n",
    "            booleen=True\n",
    "    return booleen"
   ]
  },
  {
   "cell_type": "code",
   "execution_count": null,
   "metadata": {
    "collapsed": true,
    "slideshow": {
     "slide_type": "subslide"
    }
   },
   "outputs": [],
   "source": [
    "def rech1(x,L):\n",
    "    \"\"\"Données : une liste L homogène\n",
    "    et x de même type.\n",
    "    Résultat : le booléen correspondant à l'appartenance de x à L\"\"\"\n",
    "    for elt in L:\n",
    "        if elt==x:\n",
    "            return True\n",
    "    return False"
   ]
  },
  {
   "cell_type": "markdown",
   "metadata": {
    "slideshow": {
     "slide_type": "subslide"
    }
   },
   "source": [
    "### Recherche dichotomique - Principe\n",
    "* Recherche de l'appartenance de $x$ à $L$    \n",
    "$\\rightarrow$ Par découpages successifs.\n",
    "* Liste triée :\n",
    "    * Tant que la liste n'est pas vide\n",
    "    * On regarde au milieu\n",
    "    * Non trouvé     \n",
    "        $\\rightarrow$ Recherche à droite/gauche\n",
    "* <b>Ex :</b> $\\verb\"recherche(xerus,[agouti,...,zebu])\"$"
   ]
  },
  {
   "cell_type": "markdown",
   "metadata": {
    "slideshow": {
     "slide_type": "subslide"
    }
   },
   "source": [
    "* On maintient à chaque étape les indices de <i>gauche et droit</i> du sous-tableau où se fait la recherche    \n",
    "    * Intitialisation $g=0$, $d=\\verb\"len(L)\"-1$    \n",
    "    * Test au milieu $m=(g+d)//2$    \n",
    "    $\\rightarrow$ $\\verb\"L[m]=x\"$ $\\Rightarrow$ $x$ est trouvé $\\Rightarrow$ sortie de boucle    \n",
    "    $\\rightarrow$ $\\verb\"L[m]<x\"$ $\\Rightarrow$ $x$ est à droite $\\Rightarrow$ $g\\leftarrow m+1$, $d\\leftarrow d$    \n",
    "    $\\rightarrow$ $\\verb\"L[m]>x\"$ $\\Rightarrow$ $x$ est à gauche $\\Rightarrow$ $g\\leftarrow g$, $d\\leftarrow m-1$\n",
    "    * Cas de base : $L$ contient 0 ou 1 élément  \n",
    "    * Sortie définitive de boucle : $d-g<0$"
   ]
  },
  {
   "cell_type": "markdown",
   "metadata": {
    "slideshow": {
     "slide_type": "skip"
    }
   },
   "source": [
    "Finir la figure "
   ]
  },
  {
   "cell_type": "code",
   "execution_count": 25,
   "metadata": {
    "collapsed": true,
    "slideshow": {
     "slide_type": "subslide"
    }
   },
   "outputs": [],
   "source": [
    "#A vous : Recherche dichotomique - Liste triée\n"
   ]
  },
  {
   "cell_type": "code",
   "execution_count": 140,
   "metadata": {
    "collapsed": true,
    "slideshow": {
     "slide_type": "subslide"
    }
   },
   "outputs": [],
   "source": [
    "def dichotomie_liste(L,x):\n",
    "    \"\"\"L triée dans l'ordre croissant, on cherche si x est dans L \n",
    "    en renvoyant le booléen correspondant.\"\"\"\n",
    "    d=0\n",
    "    f=len(L)-1\n",
    "    while d<=f:\n",
    "        m=(d+f)//2\n",
    "        if L[m]==x:\n",
    "            return True\n",
    "        elif L[m]<x:\n",
    "            d=m+1 \n",
    "        else:\n",
    "            f=m-1\n",
    "    return False"
   ]
  },
  {
   "cell_type": "markdown",
   "metadata": {
    "slideshow": {
     "slide_type": "subslide"
    }
   },
   "source": [
    "### Terminaison\n",
    "* Variant de boucle : la suite $(f-d)$ décroît strictement avec les itérations"
   ]
  },
  {
   "cell_type": "markdown",
   "metadata": {
    "slideshow": {
     "slide_type": "subslide"
    }
   },
   "source": [
    "### Correction\n",
    "* Si x est présent dans le tableau on a l'invariant :\n",
    "$$L[d]\\leq x\\leq L[f]$$\n",
    "* Si x n'y est pas l'invariant est (par exemple) $x\\not\\in L$ !"
   ]
  },
  {
   "cell_type": "markdown",
   "metadata": {},
   "source": [
    "### Complexité (pire des cas)\n",
    "\n",
    "* $C(n)=C(\\frac{n}{2})+4$\n",
    "* $C(n)=O(\\ln n)$   \n",
    "$\\rightarrow$ Preuve accessible avec $n=2^k$, $u_k=\\frac{C(2^k)}{2^k}$ et téléscopage"
   ]
  },
  {
   "cell_type": "markdown",
   "metadata": {
    "slideshow": {
     "slide_type": "slide"
    }
   },
   "source": [
    "## <center>Recursivité </center>\n",
    "\n",
    "Une fonction $f$ est dite <b>récursive</b> si :\n",
    " * Elle s'appelle elle-même ($f$ apparaît dans le corps de $f$)\n",
    " * La suite des appels se termine (est finie)    \n",
    "   $\\rightarrow$ par un <i>cas de base</i>\n"
   ]
  },
  {
   "cell_type": "markdown",
   "metadata": {
    "slideshow": {
     "slide_type": "subslide"
    }
   },
   "source": [
    "*  <b>Paradigme diviser pour régner</b> (<i>divide and conquer</i>, <i>divide ut regnes</i> ou <i>divide et impera</i>)    \n",
    "$\\rightarrow$ Pour résoudre un problème appliqué à une instance de taille $n$ :\n",
    "    * <b>Diviser :</b> diviser/découper l'instance principale en $a$ (ici 2) sous-instances de tailles $\\approx \\frac{n}{b}$ (ici $\\frac{n}{2}$)    \n",
    "    $\\rightarrow$ de même nature\n",
    "    * <b>Régner :</b> résoudre récursivement les sous-problèmes associés aux sous-instances.   \n",
    "    $\\rightarrow$ réappliquer le découpage    \n",
    "    $\\rightarrow$ jusqu'au cas de base\n",
    "    * <b>Combiner :</b> construire la solution au problème principal grâce aux solutions des sous-problèmes    \n",
    "    $\\rightarrow$ en temps en $O(n^d)$"
   ]
  },
  {
   "cell_type": "markdown",
   "metadata": {
    "slideshow": {
     "slide_type": "subslide"
    }
   },
   "source": [
    "### Recherche dichotomique récursive\n",
    "A chaque appel récursif :\n",
    "* <b> Diviser :</b> On découpe une liste $\\verb\"[L[0],...,L[n-1]]\"$ en deux sous listes $\\verb\"[L[0],...,L[\"\\lfloor \\frac{n}{2} \\rfloor\\verb\"]]\"$ et $\\verb\"[L[\"\\lfloor \\frac{n}{2} \\rfloor+1\\verb\"...L[n-1]]\"$\n",
    "* <b> Régner :</b> On cherche récursivement $\\verb\"x\"$ dans ces deux sous-instances    \n",
    "$\\rightarrow$ Cas de base liste de taille 0 (absence de $x$) ou 1 (simple test)\n",
    "* <b> Combiner :</b> On conclut que $\\verb\"x\"$ est trouvé s'il l'est dans l'une des sous-instances."
   ]
  },
  {
   "cell_type": "code",
   "execution_count": null,
   "metadata": {
    "collapsed": true,
    "slideshow": {
     "slide_type": "subslide"
    }
   },
   "outputs": [],
   "source": [
    "#Ecrivons une fonction python effectuant la recherche dichotomique.\n",
    "#Cas de base\n",
    "#Moteur"
   ]
  },
  {
   "cell_type": "code",
   "execution_count": null,
   "metadata": {
    "collapsed": true,
    "slideshow": {
     "slide_type": "subslide"
    }
   },
   "outputs": [],
   "source": [
    "def rech_dicho(x,L):\n",
    "    n=len(L)\n",
    "    if n==0:\n",
    "        return False\n",
    "    elif n==1:\n",
    "        return x==L[0]\n",
    "    else:\n",
    "        L1=L[:n//2]\n",
    "        L2=L[n//2:]\n",
    "        return rech_dicho(x,L1) or rech_dicho(x,L2)"
   ]
  },
  {
   "cell_type": "markdown",
   "metadata": {
    "slideshow": {
     "slide_type": "subslide"
    }
   },
   "source": [
    "### Si $\\verb\"L\"$ triée.\n",
    "Recherche uniquement dans la \"bonne\" instance $\\rightarrow$ Gain temporel"
   ]
  },
  {
   "cell_type": "code",
   "execution_count": 137,
   "metadata": {
    "slideshow": {
     "slide_type": "fragment"
    }
   },
   "outputs": [
    {
     "data": {
      "text/plain": [
       "(True, False)"
      ]
     },
     "execution_count": 137,
     "metadata": {},
     "output_type": "execute_result"
    }
   ],
   "source": [
    "def rech_dicho(x,L):\n",
    "    if len(L)==0:\n",
    "        return False\n",
    "    else:\n",
    "        m=len(L)//2\n",
    "        if L[m]==x:\n",
    "            return True\n",
    "        elif L[m]>x:\n",
    "            return rech_dicho(x,L[:m])\n",
    "        else:\n",
    "            return rech_dicho(x,L[m+1:])\n",
    "\n",
    "\n",
    "rech_dicho(4,[1,1,2,3,4,5,6]),rech_dicho(8,[1,1,2,3,4,5,6])"
   ]
  },
  {
   "cell_type": "markdown",
   "metadata": {
    "slideshow": {
     "slide_type": "subslide"
    }
   },
   "source": [
    "Modifier la fonction pour renvoyer $\\verb\"NaN\"$ si $x\\not\\in L$ et $\\verb\"i\"$ si $x\\in L$ et $\\verb\"L[i]==x\"$"
   ]
  },
  {
   "cell_type": "code",
   "execution_count": null,
   "metadata": {
    "collapsed": true
   },
   "outputs": [],
   "source": [
    "# A vous"
   ]
  },
  {
   "cell_type": "code",
   "execution_count": 47,
   "metadata": {
    "collapsed": true,
    "slideshow": {
     "slide_type": "subslide"
    }
   },
   "outputs": [
    {
     "data": {
      "text/plain": [
       "4"
      ]
     },
     "execution_count": 47,
     "metadata": {},
     "output_type": "execute_result"
    }
   ],
   "source": [
    "def rech_dicho_indice(x,L):\n",
    "    if len(L)==0:\n",
    "        return NaN\n",
    "    else:\n",
    "        m=len(L)//2\n",
    "        if L[m]==x:\n",
    "            return m\n",
    "        elif L[m]>x:\n",
    "            return rech_dicho_indice(x,L[:m])\n",
    "        else:\n",
    "            return m+1+rech_dicho_indice(x,L[m+1:])\n",
    "\n",
    "rech_dicho_indice(4,[1,1,2,3,4,5,6])"
   ]
  },
  {
   "cell_type": "markdown",
   "metadata": {
    "slideshow": {
     "slide_type": "subslide"
    }
   },
   "source": [
    "### Complexité réelle\n",
    "* A chaque étape :\n",
    "    * On construit un nouveau tableau !\n",
    "    * Temps de calcul augmenté\n",
    "* Complexité\n",
    "    * $L$ de longueur $n$.\n",
    "    * Dans le pire des cas $C(n)=\\sum\\limits_{i=0}^{p-1} \\lfloor \\frac{n}{2^{i+1}} \\rfloor=O(2^p n)$    \n",
    "    $\\rightarrow$ où $p$ est le plus grand entier     \n",
    "    $\\rightarrow$ tel que $\\lfloor \\frac{n}{2^{p+1}} \\rfloor < 1$    \n",
    "    $\\rightarrow$ $n\\leq 2^{p+1}$, $p=\\lfloor\\log_2(n) \\rfloor$    \n",
    "    $\\rightarrow$ $C(n)=O(n^2)$ !"
   ]
  },
  {
   "cell_type": "markdown",
   "metadata": {
    "collapsed": true,
    "slideshow": {
     "slide_type": "subslide"
    }
   },
   "source": [
    "### Solution :\n",
    "Employer les indices de début et fin"
   ]
  },
  {
   "cell_type": "code",
   "execution_count": null,
   "metadata": {
    "collapsed": true
   },
   "outputs": [],
   "source": [
    "def dichorec(x,L):\n",
    "    def dichorecint(x,L,d,f):\n",
    "        m=(d+f)//2\n",
    "        if d>f:\n",
    "            return False\n",
    "        elif d==f:\n",
    "            return L[d]==x\n",
    "        elif L[m]==x:\n",
    "            return True\n",
    "        elif L[m]>x:\n",
    "            return dichorecint(x,L,d,m-1)\n",
    "        else:\n",
    "            return dichorecint(x,L,m+1,f)\n",
    "    return dichorecint(x,L,0,len(L)-1)"
   ]
  },
  {
   "cell_type": "markdown",
   "metadata": {
    "collapsed": true,
    "slideshow": {
     "slide_type": "subslide"
    }
   },
   "source": [
    "### Complexité\n",
    "* Après la $k^{\\text{ième}}$ étape :\n",
    "$$ f-d+1\\leq \\frac{n}{2^k}\n",
    "$$\n",
    "* Complexité en $O(\\ln(n))$"
   ]
  },
  {
   "cell_type": "markdown",
   "metadata": {
    "collapsed": true,
    "slideshow": {
     "slide_type": "subslide"
    }
   },
   "source": [
    "### Fonctions intégrées"
   ]
  },
  {
   "cell_type": "markdown",
   "metadata": {},
   "source": [
    "* $\\verb\"x in L\"$ $\\rightarrow$ booléen\n",
    "* Si $x\\in L$ : $\\verb\"L.index(x)\"$    \n",
    "$\\rightarrow$ 1er indice    \n",
    "$\\rightarrow$ sinon : ValueError\n",
    "* Complexité : $O(n)$."
   ]
  },
  {
   "cell_type": "markdown",
   "metadata": {
    "slideshow": {
     "slide_type": "slide"
    }
   },
   "source": [
    "## <center> ALGORITHMES GLOUTONS (Greedy)</center>"
   ]
  },
  {
   "cell_type": "code",
   "execution_count": null,
   "metadata": {
    "collapsed": true
   },
   "outputs": [],
   "source": [
    "#Sac a dos\n",
    "#Rendu monnaie\n",
    "#Voyageur de commerce : non optimalité"
   ]
  },
  {
   "cell_type": "markdown",
   "metadata": {
    "collapsed": true,
    "slideshow": {
     "slide_type": "subslide"
    }
   },
   "source": [
    "### Heuristique gloutonne :\n",
    "* On ne revient pas sur ses choix    \n",
    "$\\rightarrow$ ce qui est mangé ne ressort pas\n",
    "* Choix d'optimum local"
   ]
  },
  {
   "cell_type": "markdown",
   "metadata": {
    "collapsed": true,
    "slideshow": {
     "slide_type": "slide"
    }
   },
   "source": [
    "### Ex : Rendu de monnaie\n",
    "* Rendu de monnaie avec système de pièces :    \n",
    "* <b>Heuristique gloutonne</b> : on rend à chaque étape la plus grosse pièce possible.\n",
    "    * Système 1,2,5,10,20,50,100,200    \n",
    "    $\\rightarrow$ heuristique optimale.\n",
    "    * Système 1,3,4    \n",
    "    $\\rightarrow$ 6=4+1+1 (glouton) 6=3+3 (optimal)"
   ]
  },
  {
   "cell_type": "markdown",
   "metadata": {
    "collapsed": true,
    "slideshow": {
     "slide_type": "subslide"
    }
   },
   "source": [
    "#### Données et résultat.\n",
    "* Données : \n",
    "    * Système : Une liste $L$ d'entiers naturels non nuls triée (ordre croissant)    \n",
    "    $\\rightarrow$ Premier élément 1.    \n",
    "    $\\rightarrow$ Rendu toujours possible.\n",
    "    * Quantité r à rendre : entier naturel non nul\n",
    "* Résulat : liste de nombres    "
   ]
  },
  {
   "cell_type": "markdown",
   "metadata": {
    "collapsed": true,
    "slideshow": {
     "slide_type": "subslide"
    }
   },
   "source": [
    "* Faire un décompte jusqu'à 0\n",
    "* Mémoriser la dernière pièce rendue     \n",
    "$\\rightarrow$ inutile de parcourir toute la liste L à chaque fois."
   ]
  },
  {
   "cell_type": "code",
   "execution_count": null,
   "metadata": {
    "collapsed": true
   },
   "outputs": [],
   "source": [
    "# A vous"
   ]
  },
  {
   "cell_type": "code",
   "execution_count": 91,
   "metadata": {
    "slideshow": {
     "slide_type": "subslide"
    }
   },
   "outputs": [
    {
     "data": {
      "text/plain": [
       "[50, 20, 20, 2, 1]"
      ]
     },
     "execution_count": 91,
     "metadata": {},
     "output_type": "execute_result"
    }
   ],
   "source": [
    "def rendu(r,L):\n",
    "    decompte=r\n",
    "    Rendu=[]\n",
    "    repere=len(L)-1\n",
    "    while (decompte>0):\n",
    "        booleen=True\n",
    "        while booleen:\n",
    "            if decompte-L[repere]>=0:\n",
    "                booleen=False\n",
    "            else:\n",
    "                repere-=1\n",
    "        Rendu.append(L[repere])\n",
    "        decompte-=L[repere]\n",
    "    return Rendu\n",
    "L=[1,2,5,10,20,50]\n",
    "rendu(93,L)"
   ]
  },
  {
   "cell_type": "markdown",
   "metadata": {
    "collapsed": true,
    "slideshow": {
     "slide_type": "slide"
    }
   },
   "source": [
    "### Ex : Problème du voyageur de commerce\n",
    "* Parcourir $N$ villes/points une unique fois en minimisant la distance parcourue.    \n",
    "* <b>Heuristique gloutonne</b> : on choisit à chaque étape la ville la plus proche du point actuel.    \n",
    "$\\rightarrow$ Connaître les distances    \n",
    "$\\rightarrow$ Distances de Manhattan, euclidienne    \n",
    "$\\rightarrow$ Tableau (bidimensionnel des distances)"
   ]
  },
  {
   "cell_type": "code",
   "execution_count": 24,
   "metadata": {
    "slideshow": {
     "slide_type": "subslide"
    }
   },
   "outputs": [
    {
     "data": {
      "image/png": "[encoded data removed]",
      "text/plain": [
       "<matplotlib.figure.Figure at 0x108af5850>"
      ]
     },
     "metadata": {},
     "output_type": "display_data"
    }
   ],
   "source": [
    "lx=[0,1,4,5]\n",
    "ly=[2,0,4,1]\n",
    "\n",
    "plt.subplot(121)\n",
    "plt.scatter(lx,ly,c='k')\n",
    "plt.plot([0,1,1],[2,2,0],'y');plt.plot([0,4,4],[2,2,4],'g');plt.plot([0,0,5],[2,1,1],'b');plt.plot([1,1,4],[0,4,4],'r');plt.plot([1,5,5],[0,0,1],'k');plt.plot([4,5,5],[4,4,1],'y');\n",
    "plt.subplot(122)\n",
    "plt.scatter(lx,ly,c='k')\n",
    "plt.plot([0,1],[2,0],'c');plt.plot([0,4],[2,4],'c');plt.plot([0,5],[2,1],'c');plt.plot([1,4],[0,4],'c');plt.plot([1,5],[0,1],'c');plt.plot([4,5],[4,1],'c');\n",
    "plt.show()"
   ]
  },
  {
   "cell_type": "markdown",
   "metadata": {
    "collapsed": true,
    "slideshow": {
     "slide_type": "subslide"
    }
   },
   "source": [
    "#### Données et résultat.\n",
    "* Données : \n",
    "    * Matrice des distances : Une liste $Dist$ de $N$ listes à $N$ éléments    \n",
    "    $\\rightarrow$ $Dist[i][j]$ : distance de la ville $i$ à la ville $j$.    \n",
    "    * Point de départ $orig$ (facultatif) : l'un des éléments de $[\\! |0, N-1|\\! ]$.\n",
    "* Résulat : liste contenant une permutation de $[\\! |0, N-1|\\! ]$    \n",
    "$\\rightarrow$ Ordre de parcours (g$ \\rightarrow$ d)   \n",
    "$\\rightarrow$ Possibilité de renvoyer aussi la distance parcourue."
   ]
  },
  {
   "cell_type": "markdown",
   "metadata": {
    "collapsed": true,
    "slideshow": {
     "slide_type": "subslide"
    }
   },
   "source": [
    "* Sous-fonction donnant l'indice du plus proche voisin non visité    \n",
    "$\\rightarrow$ indice $cour$ de la position courante    \n",
    "$\\rightarrow$ Liste $Visites$    \n",
    "$\\rightarrow$ Matrice $Dist$\n",
    "* Fonction principale    \n",
    "$\\rightarrow$ Remplit Visites    \n",
    "$\\rightarrow$ A partir de $[Orig]$."
   ]
  },
  {
   "cell_type": "code",
   "execution_count": null,
   "metadata": {
    "collapsed": true,
    "slideshow": {
     "slide_type": "subslide"
    }
   },
   "outputs": [],
   "source": [
    "# A vous : + proche voisin non visite"
   ]
  },
  {
   "cell_type": "code",
   "execution_count": 26,
   "metadata": {
    "collapsed": true,
    "slideshow": {
     "slide_type": "subslide"
    }
   },
   "outputs": [],
   "source": [
    "def proche_vois_possible(cour,Dist,Visites):\n",
    "    N=len(Dist)\n",
    "    val=max(Dist[cour])\n",
    "    ind=-1#changera toujours\n",
    "    for i in range(N):\n",
    "        if (Dist[cour][i]<=val) and (not i in Visites):#large important pour que ind change\n",
    "            val,ind=Dist[cour][i],i\n",
    "    return ind"
   ]
  },
  {
   "cell_type": "code",
   "execution_count": 27,
   "metadata": {
    "collapsed": true,
    "slideshow": {
     "slide_type": "subslide"
    }
   },
   "outputs": [],
   "source": [
    "# A vous : + court chemin"
   ]
  },
  {
   "cell_type": "code",
   "execution_count": 28,
   "metadata": {
    "collapsed": true,
    "slideshow": {
     "slide_type": "subslide"
    }
   },
   "outputs": [],
   "source": [
    "def court_chemin(orig,Dist):\n",
    "    Visites=[orig]\n",
    "    d=0\n",
    "    N=len(Dist)\n",
    "    while len(Visites)<N:\n",
    "        i=proche_vois_possible(Visites[-1],Dist,Visites)\n",
    "        d+=Dist[Visites[-1]][i]\n",
    "        Visites.append(i)\n",
    "    return Visites,d"
   ]
  },
  {
   "cell_type": "code",
   "execution_count": 31,
   "metadata": {
    "slideshow": {
     "slide_type": "subslide"
    }
   },
   "outputs": [
    {
     "data": {
      "text/plain": [
       "([[0.0, 2.2360679774997898, 4.4721359549995796, 5.0990195135927845],\n",
       "  [2.2360679774997898, 0.0, 5.0, 4.1231056256176606],\n",
       "  [4.4721359549995796, 5.0, 0.0, 3.1622776601683795],\n",
       "  [5.0990195135927845, 4.1231056256176606, 3.1622776601683795, 0.0]],\n",
       " [[0, 3, 6, 6], [3, 0, 7, 5], [6, 7, 0, 4], [6, 5, 4, 0]])"
      ]
     },
     "execution_count": 31,
     "metadata": {},
     "output_type": "execute_result"
    }
   ],
   "source": [
    "Lpoints=[[0,2],[1,0],[4,4],[5,1]]\n",
    "def deucl(x,y):\n",
    "    n=len(x)\n",
    "    assert n==len(y)\n",
    "    return np.sqrt( sum([ (x[i]-y[i])**2 for i in range(n) ]))\n",
    "def dman(x,y):\n",
    "    n=len(x)\n",
    "    assert n==len(y)\n",
    "    return sum([abs(x[i]-y[i]) for i in range(n)] )\n",
    "Dist1=[[ deucl(Lpoints[i],Lpoints[j]) for i in range(len(Lpoints))] for j  in range(len(Lpoints))]\n",
    "Dist2=[[ dman(Lpoints[i],Lpoints[j]) for i in range(len(Lpoints))] for j  in range(len(Lpoints))]\n",
    "Dist1,Dist2"
   ]
  },
  {
   "cell_type": "code",
   "execution_count": 32,
   "metadata": {},
   "outputs": [
    {
     "data": {
      "text/plain": [
       "(([0, 1, 3, 2], 9.5214512632858295), ([0, 1, 3, 2], 12))"
      ]
     },
     "execution_count": 32,
     "metadata": {},
     "output_type": "execute_result"
    }
   ],
   "source": [
    "court_chemin(0,Dist1),court_chemin(0,Dist2)"
   ]
  },
  {
   "cell_type": "markdown",
   "metadata": {
    "slideshow": {
     "slide_type": "subslide"
    }
   },
   "source": [
    "* Non optimalité globale :\n",
    "    * départ $(40,0)$\n",
    "    * points de passage : $(0,0)$, $(30,0)$, $(70,0)$    \n",
    "* Algorithme $(40,0)\\rightarrow (30,0)\\rightarrow (0,0)\\rightarrow (70,0)$    \n",
    "$\\rightarrow$ distance 110\n",
    "* Choix optimal : $(40,0)\\rightarrow (70,0)\\rightarrow (30,0)\\rightarrow (0,0)$    \n",
    "$\\rightarrow$ distance 100"
   ]
  },
  {
   "cell_type": "code",
   "execution_count": 198,
   "metadata": {
    "collapsed": true,
    "slideshow": {
     "slide_type": "subslide"
    }
   },
   "outputs": [],
   "source": [
    "Lp=[[0,0],[0,30],[0,40],[0,70]]\n",
    "Dist3=[[ dman(Lp[i],Lp[j]) for i in range(len(Lp))] for j  in range(len(Lp))]"
   ]
  },
  {
   "cell_type": "code",
   "execution_count": 201,
   "metadata": {},
   "outputs": [
    {
     "data": {
      "text/plain": [
       "([2, 1, 0, 3], 110)"
      ]
     },
     "execution_count": 201,
     "metadata": {},
     "output_type": "execute_result"
    }
   ],
   "source": [
    "court_chemin(2,Dist3)"
   ]
  },
  {
   "cell_type": "markdown",
   "metadata": {
    "slideshow": {
     "slide_type": "slide"
    }
   },
   "source": [
    "### Ex : Problème du sac à dos\n",
    "* Optimisation combinatoire sous contrainte.\n",
    "* Sac à dos : poids maximal $P_{max}$. \n",
    "* Collection (ensemble fini) $\\mathcal{C}$ d'objets     \n",
    "$\\rightarrow$ Poids (nombre)   \n",
    "$\\rightarrow$ Valeur (nombre)    \n",
    "$\\rightarrow$ $\\mathcal{C}$ $\\leftrightarrow$ Liste L de 2-uplets\n",
    "\n",
    "* Problème (KP problem, comme \"knappsack\") : remplir le sac    \n",
    "$\\rightarrow$ Maximiser la valeur du contenu.    \n",
    "$\\rightarrow$ Sans dépasser $P_{max}$."
   ]
  },
  {
   "cell_type": "markdown",
   "metadata": {
    "slideshow": {
     "slide_type": "subslide"
    }
   },
   "source": [
    "* Notation : pour  $c\\in \\mathcal{C}$ :    \n",
    "$\\rightarrow$ $v_c>0$ : valeur     \n",
    "$\\rightarrow$ $p_c>0$ : poids\n",
    "\n",
    "\n",
    "\n",
    "* Recherche sous-collection $\\mathcal{D}$ de $\\mathcal{C}$ telle que :\n",
    "    * $\\sum\\limits_{d\\in \\mathcal{D}} p_d\\leq P_{max}$.\n",
    "    * $\\forall \\mathcal{D}'\\subset \\mathcal{C}$ telle que $\\sum\\limits_{d'\\in \\mathcal{D}'} p_{d'}\\leq P_{max}$ :$$ V_{\\mathcal{D}'}=\\sum\\limits_{d'\\in \\mathcal{D}'} v_{d'} \\leq \\sum\\limits_{d\\in \\mathcal{D}} v_{d}=V_{\\mathcal{D}}$$\n",
    "\n",
    "* $V_{\\mathcal{D}'}$ $\\leftrightarrow$ valeur de $\\mathcal{D}'$"
   ]
  },
  {
   "cell_type": "markdown",
   "metadata": {},
   "source": [
    "* <b>Heuristique gloutonne 1</b> :\n",
    "    * On remplit à chaque étape par l'objet de plus grande valeur qui rentre    \n",
    "    $\\rightarrow$ analogue au rendu de monnaie\n",
    "* <b>Heuristique gloutonne 2</b> :\n",
    "    * On remplit à chaque étape par l'objet de plus grande valeur qui rentre    \n",
    "    $\\rightarrow$ analogue au plus court chemin\n",
    "* <b>Heuristique gloutonne 3</b> :\n",
    "    * On remplit à chaque étape par l'objet de plus grand ration valeur/poids qui rentre"
   ]
  },
  {
   "cell_type": "code",
   "execution_count": 92,
   "metadata": {
    "collapsed": true,
    "slideshow": {
     "slide_type": "subslide"
    }
   },
   "outputs": [],
   "source": [
    "# A vous : heuristique 3\n",
    "# sous-fonctions ?"
   ]
  },
  {
   "cell_type": "code",
   "execution_count": 2,
   "metadata": {
    "collapsed": true,
    "slideshow": {
     "slide_type": "subslide"
    }
   },
   "outputs": [],
   "source": [
    "def classement(L):\n",
    "    M=[]\n",
    "    for i in range(len(L)):\n",
    "        v,p=L[i]\n",
    "        M.append((float(v)/p,i))\n",
    "    M.sort()\n",
    "    return M"
   ]
  },
  {
   "cell_type": "code",
   "execution_count": 1,
   "metadata": {
    "collapsed": true
   },
   "outputs": [],
   "source": [
    "def sac_a_dos(L,Pmax):\n",
    "    decompte=Pmax\n",
    "    Rempli=[]\n",
    "    Class=classement(L)\n",
    "    repere=len(Class)-1\n",
    "    while (repere>=0):\n",
    "        val,ind=Class[repere]\n",
    "        if (not ind in Rempli) and (decompte-L[ind][1]>=0):\n",
    "            Rempli.append(ind)\n",
    "            decompte-=L[ind][1]\n",
    "        repere-=1\n",
    "    return Rempli"
   ]
  },
  {
   "cell_type": "markdown",
   "metadata": {
    "slideshow": {
     "slide_type": "subslide"
    }
   },
   "source": [
    "* Non optimalité globale :\n",
    "    * 4 objets (0,1,2,3)\n",
    "    * (valeurs,poids) : $(6,13)$, $(4,12)$, $(3,8)$, $(3,10)$.    \n",
    "    $\\rightarrow$ rapports $0,46$, $0,33$, $0,375$, $0,3$\n",
    "    * Pmax=30\n",
    "* Algorithme 0 et 3   \n",
    "$\\rightarrow$ valeur 10\n",
    "* Choix optimal : 1,2 et 3   \n",
    "$\\rightarrow$ valeur 11"
   ]
  },
  {
   "cell_type": "code",
   "execution_count": 3,
   "metadata": {},
   "outputs": [
    {
     "data": {
      "text/plain": [
       "[0, 2]"
      ]
     },
     "execution_count": 3,
     "metadata": {},
     "output_type": "execute_result"
    }
   ],
   "source": [
    "L=[(6,13), (4,12), (3,8), (3,10)]\n",
    "sac_a_dos(L,30)"
   ]
  },
  {
   "cell_type": "markdown",
   "metadata": {},
   "source": [
    "#### Solution à la non optimalité : Programmation Dynamique\n",
    "* Typiquement :\n",
    "    * Diviser pour régner (top-down)\n",
    "    * Remontée avec mémoïsation (bottom-up) :     \n",
    "    $\\rightarrow$ Programmation Dynamique    \n",
    "    $\\rightarrow$ Possibilité de recourrir à un tableau dynamique... et de le remonter"
   ]
  },
  {
   "cell_type": "markdown",
   "metadata": {
    "slideshow": {
     "slide_type": "subslide"
    }
   },
   "source": [
    "#### Problème NP-complet.\n",
    "* On peut <b>vérifier</b> en temps polynomial qu'une solution l'est bien.    \n",
    "$\\rightarrow$ Avec de la chance - en tirant des valeurs au hasard...     \n",
    "$\\rightarrow$ il existe un algorithme polynomial permettant d'obtenir une solution\n",
    "* On ne sait pas s'il existe un algorithme polynomial pour <b>trouver</b> une solution\n",
    "* Le problème est le plus difficile de ces problèmes     \n",
    "$\\rightarrow$ si on sait le résoudre en temps polynomial    \n",
    "$\\rightarrow$ ce sera le cas pour tous les autres problèmes NP\n"
   ]
  },
  {
   "cell_type": "markdown",
   "metadata": {
    "slideshow": {
     "slide_type": "slide"
    }
   },
   "source": [
    "## <center>PROGRAMMATION DYNAMIQUE</center>"
   ]
  },
  {
   "cell_type": "markdown",
   "metadata": {
    "slideshow": {
     "slide_type": "subslide"
    }
   },
   "source": [
    "### Rappels\n",
    "* <b>Algorithme glouton</b> :    \n",
    "$\\rightarrow$ optimalité locale    \n",
    "$\\rightarrow$solution de proche en proche\n",
    "\n",
    "* <b>Diviser pour régner</b> : (<i>Top-down<i>)    \n",
    "$\\rightarrow$ division en sous-problèmes    \n",
    "$\\rightarrow$ <i>ne se chevauchant pas</i>  \n",
    "$\\rightarrow$ résolution    \n",
    "$\\rightarrow$ combinaison"
   ]
  },
  {
   "cell_type": "markdown",
   "metadata": {
    "slideshow": {
     "slide_type": "subslide"
    }
   },
   "source": [
    "* <b>Programmation dynamique</b> : (<i>Bottom-up</i>)   \n",
    "$\\rightarrow$ division en sous-problèmes    \n",
    "$\\rightarrow$ <i>se chevauchant</i>  \n",
    "$\\rightarrow$ stockage    \n",
    "$\\rightarrow$ résolution problèmes plus grands"
   ]
  },
  {
   "cell_type": "markdown",
   "metadata": {},
   "source": [
    "* <b>Méthode</b> :\n",
    "    * Définir les sous-problèmes\n",
    "    * Trouver une relation de récurrence\n",
    "    * Résoudre -- à partir des cas de base -- des problèmes plus grands"
   ]
  },
  {
   "cell_type": "code",
   "execution_count": 16,
   "metadata": {
    "collapsed": true,
    "slideshow": {
     "slide_type": "skip"
    }
   },
   "outputs": [],
   "source": [
    "def fibo1(n):#Fibonacci naif\n",
    "    if n==0 or n==1:\n",
    "        return 1\n",
    "    else:\n",
    "        return fibo1(n-1)+fibo1(n-2)\n",
    "\n",
    "\n",
    "def fibo2(n):#Fibonacci memoise\n",
    "    if n==0 or n==1:\n",
    "        return 1\n",
    "    else:\n",
    "        L=[None]*(n+1)\n",
    "        L[0],L[1]=1,1\n",
    "        def fibomemo(L,n):\n",
    "            if L[n]==None:\n",
    "                L[n]=fibomemo(L,n-1)+fibomemo(L,n-2)\n",
    "            return L[n]\n",
    "        return fibomemo(L,n)"
   ]
  },
  {
   "cell_type": "code",
   "execution_count": 21,
   "metadata": {
    "slideshow": {
     "slide_type": "skip"
    }
   },
   "outputs": [
    {
     "data": {
      "text/plain": [
       "(56.81453699999997, 9.000000000014552e-05)"
      ]
     },
     "execution_count": 21,
     "metadata": {},
     "output_type": "execute_result"
    }
   ],
   "source": [
    "import time#A ne surtout pas relancer !!!\n",
    "t1=time.clock()\n",
    "fibo1(40)\n",
    "t2=time.clock()\n",
    "t3=time.clock()\n",
    "fibo2(40)\n",
    "t4=time.clock()\n",
    "t2-t1,t4-t3"
   ]
  },
  {
   "cell_type": "code",
   "execution_count": null,
   "metadata": {
    "collapsed": true,
    "slideshow": {
     "slide_type": "skip"
    }
   },
   "outputs": [],
   "source": [
    "def fibo3(n):\n",
    "    L=[0]*(n+1)\n",
    "    L[0],L[1]=1,1\n",
    "    for i in range(2,n+1):\n",
    "        L[i]=L[i-1]+L[i-2]\n",
    "    return L[-1]\n",
    "\n",
    "#Encore mieux\n",
    "def fibo4(n):\n",
    "    a,b=1,1\n",
    "    for i in range(2,n+1):\n",
    "        a,b=a+b,b\n",
    "    return a"
   ]
  },
  {
   "cell_type": "markdown",
   "metadata": {
    "slideshow": {
     "slide_type": "subslide"
    }
   },
   "source": [
    "## Ex : Rendu de monnaie\n",
    "* Système de $n\\in \\mathbb{N}^\\star$ pièces (dont $1$)    \n",
    "$\\rightarrow$ notées $p_1,\\dots, p_n$\n",
    "* Notation $N_{i,s}$    \n",
    "$\\rightarrow$ nombre minimal de pièces    \n",
    "$\\rightarrow$ parmi $p_1,\\dots, p_i$\n",
    "$\\rightarrow$ pour constituer $s$    \n",
    "$\\rightarrow$ <i>Ex :</i>$N_{1,s}=s$ et $N_{i,0}=0$\n",
    "* Relation de récurrence :\n",
    "$$\n",
    "N{i,s}=\\begin{cases}\n",
    "N_{i-1,s}&\\text{ si }p_i>s\\\\\n",
    "\\min(N_{i-1,s},1+N_{i,s-p_i})\n",
    "\\end{cases}\n",
    "$$\n",
    "2 choix : \n",
    "* Soit $p_i$ intervient au moins une fois    \n",
    "$\\rightarrow$ on décrémente $s\\leftarrow s-p_i$    \n",
    "$\\rightarrow$ on ajoute 1 pièce\n",
    "* Soit elle n'intervient pas $\\rightarrow$ on supprime $p_i$"
   ]
  },
  {
   "cell_type": "markdown",
   "metadata": {
    "slideshow": {
     "slide_type": "subslide"
    }
   },
   "source": [
    "* On construit la matrice $(N_{l,k})_{(l,k)\\in [\\! |  1,n |\\! ] \\times [\\! |  0,s |\\! ]}$\n",
    "* Représentée par une liste de liste $L$.\n",
    "    * $\\forall k \\in [\\! |  0,s |\\! ]$, $L[1,k]=k$\n",
    "    * Remplie récursivement"
   ]
  },
  {
   "cell_type": "code",
   "execution_count": 93,
   "metadata": {},
   "outputs": [
    {
     "data": {
      "text/plain": [
       "2"
      ]
     },
     "execution_count": 93,
     "metadata": {},
     "output_type": "execute_result"
    }
   ],
   "source": [
    "def tab_rendu(Sys,s):\n",
    "    n=len(Sys)#Sys[0]=1\n",
    "    L=[ [0 for j in range(s+1)] for i in range(n)]\n",
    "    for j in range(s+1):\n",
    "        L[0][j]=j\n",
    "    for i in range(1,n):\n",
    "        for j in range(s+1):\n",
    "            if Sys[i]>j:\n",
    "                L[i][j]=L[i-1][j]\n",
    "            else:\n",
    "                L[i][j]=min([L[i-1][j],1+L[i][j-Sys[i]]])\n",
    "    return L\n",
    "\n",
    "S=[1,4,6]\n",
    "tab_rendu(S,8)[-1][-1]"
   ]
  },
  {
   "cell_type": "markdown",
   "metadata": {
    "slideshow": {
     "slide_type": "subslide"
    }
   },
   "source": [
    "#### Stockage des solutions\n",
    "* Dans un tableau de mêmes dimensions."
   ]
  },
  {
   "cell_type": "code",
   "execution_count": 44,
   "metadata": {},
   "outputs": [
    {
     "data": {
      "text/plain": [
       "[4, 4]"
      ]
     },
     "execution_count": 44,
     "metadata": {},
     "output_type": "execute_result"
    }
   ],
   "source": [
    "def rendu_dyn(Sys,s):\n",
    "    n=len(Sys)#Sys[0]=1\n",
    "    L=[ [[] for j in range(s+1)] for i in range(n)]\n",
    "    for j in range(s+1):\n",
    "        L[0][j]=[1 for k in range(j)]\n",
    "    for i in range(1,n):\n",
    "        for j in range(s+1):\n",
    "            if Sys[i]>j:\n",
    "                L[i][j]=L[i-1][j]+[]\n",
    "            else:\n",
    "                if len(L[i-1][j])<=len(L[i][j-Sys[i]]):\n",
    "                    L[i][j]=L[i-1][j]+[]\n",
    "                else:\n",
    "                    T=L[i][j-Sys[i]]+[]\n",
    "                    L[i][j]=L[i][j-Sys[i]]+[Sys[i]]\n",
    "                    L[i][j]\n",
    "    return L\n",
    "S=[1,4,6]\n",
    "#rendu_dyn(S,8)\n",
    "rendu_dyn(S,8)[-1][-1]"
   ]
  },
  {
   "cell_type": "code",
   "execution_count": 45,
   "metadata": {
    "slideshow": {
     "slide_type": "subslide"
    }
   },
   "outputs": [
    {
     "data": {
      "text/plain": [
       "[3, 3]"
      ]
     },
     "execution_count": 45,
     "metadata": {},
     "output_type": "execute_result"
    }
   ],
   "source": [
    "S2=[1,3,4]\n",
    "rendu_dyn(S2,6)[-1][-1]"
   ]
  },
  {
   "cell_type": "markdown",
   "metadata": {
    "slideshow": {
     "slide_type": "subslide"
    }
   },
   "source": [
    "$\\rightarrow$ Optimalité globale !"
   ]
  },
  {
   "cell_type": "markdown",
   "metadata": {
    "slideshow": {
     "slide_type": "subslide"
    }
   },
   "source": [
    "### Exercice : Sac à dos en programmation dynamique\n",
    "$\\rightarrow$ Principe et implémentation analogues"
   ]
  },
  {
   "cell_type": "markdown",
   "metadata": {
    "slideshow": {
     "slide_type": "slide"
    }
   },
   "source": [
    "## <center> PLUS COURT CHEMIN DANS UN GRAPHE</center>\n",
    "## <center> ALGORITHMES DE DIJKSTRA et BELLMAN-FORD</center>"
   ]
  },
  {
   "cell_type": "markdown",
   "metadata": {
    "slideshow": {
     "slide_type": "subslide"
    }
   },
   "source": [
    "### Graphe\n",
    "* Ensemble fini $S$ de $N$ sommets    \n",
    "$\\leftrightarrow$ Villes ou Points\n",
    "* Ensemble $A$ d'arêtes pondérées    \n",
    "$\\leftrightarrow$ chemins pondérés par leurs longueurs    \n",
    "$\\rightarrow$ $A\\subset S\\times S$    \n",
    "$\\rightarrow$ $(x,y)\\in A$ $\\Leftrightarrow$ $x$ et $y$ sont reliés    \n",
    "$\\rightarrow$ ${\\rm d}(x,y)$ : distance de $x$ à $y$ \n",
    "* Hypothèses :\n",
    "    * ${\\rm d}(x,y)={\\rm d}(y,x)$\n",
    "    * ${\\rm d}(x,y)\\geq 0$\n",
    "    * ${\\rm d}(x,y)=0$ $\\Leftrightarrow$ $x=y$\n",
    "\n"
   ]
  },
  {
   "cell_type": "code",
   "execution_count": 47,
   "metadata": {
    "slideshow": {
     "slide_type": "subslide"
    }
   },
   "outputs": [
    {
     "ename": "NameError",
     "evalue": "name 'plt' is not defined",
     "output_type": "error",
     "traceback": [
      "\u001b[0;31m---------------------------------------------------------------------------\u001b[0m",
      "\u001b[0;31mNameError\u001b[0m                                 Traceback (most recent call last)",
      "\u001b[0;32m<ipython-input-47-3a288304a0ab>\u001b[0m in \u001b[0;36m<module>\u001b[0;34m()\u001b[0m\n\u001b[1;32m      7\u001b[0m     \u001b[0mx\u001b[0m \u001b[0;34m=\u001b[0m \u001b[0mx_coords\u001b[0m\u001b[0;34m[\u001b[0m\u001b[0mi\u001b[0m\u001b[0;34m]\u001b[0m\u001b[0;34m\u001b[0m\u001b[0m\n\u001b[1;32m      8\u001b[0m     \u001b[0my\u001b[0m \u001b[0;34m=\u001b[0m \u001b[0my_coords\u001b[0m\u001b[0;34m[\u001b[0m\u001b[0mi\u001b[0m\u001b[0;34m]\u001b[0m\u001b[0;34m\u001b[0m\u001b[0m\n\u001b[0;32m----> 9\u001b[0;31m     \u001b[0mplt\u001b[0m\u001b[0;34m.\u001b[0m\u001b[0mscatter\u001b[0m\u001b[0;34m(\u001b[0m\u001b[0mx\u001b[0m\u001b[0;34m,\u001b[0m \u001b[0my\u001b[0m\u001b[0;34m,\u001b[0m \u001b[0mcolor\u001b[0m\u001b[0;34m=\u001b[0m\u001b[0;34m'red'\u001b[0m\u001b[0;34m)\u001b[0m\u001b[0;34m\u001b[0m\u001b[0m\n\u001b[0m\u001b[1;32m     10\u001b[0m     \u001b[0mplt\u001b[0m\u001b[0;34m.\u001b[0m\u001b[0mtext\u001b[0m\u001b[0;34m(\u001b[0m\u001b[0mx\u001b[0m\u001b[0;34m+\u001b[0m\u001b[0;36m.1\u001b[0m\u001b[0;34m,\u001b[0m \u001b[0my\u001b[0m\u001b[0;34m+\u001b[0m\u001b[0;36m.1\u001b[0m\u001b[0;34m,\u001b[0m \u001b[0mtype\u001b[0m\u001b[0;34m,\u001b[0m \u001b[0mfontsize\u001b[0m\u001b[0;34m=\u001b[0m\u001b[0;36m9\u001b[0m\u001b[0;34m)\u001b[0m\u001b[0;34m\u001b[0m\u001b[0m\n\u001b[1;32m     11\u001b[0m \u001b[0;32mfor\u001b[0m \u001b[0melt\u001b[0m \u001b[0;32min\u001b[0m \u001b[0mListe\u001b[0m\u001b[0;34m:\u001b[0m\u001b[0;34m\u001b[0m\u001b[0m\n",
      "\u001b[0;31mNameError\u001b[0m: name 'plt' is not defined"
     ]
    }
   ],
   "source": [
    "Lp=[(0,2),(2,4),(2,0),(4,4),(4,2),(4,0),(6,4),(6,0),(8,2)]\n",
    "types = ['A','B','C','D','E','F','G','H','I']\n",
    "x_coords = [0,2,2,4,4,4,6,6,8]\n",
    "y_coords = [2,4,0,4,2,0,4,0,2]\n",
    "Liste=[(0,1,4),(0,2,8),(1,2,11),(1,3,8),(2,4,7),(2,5,1),(3,4,2),(3,6,7),(3,7,4),(4,5,6),(5,7,2),(6,7,14),(6,8,9),(7,8,10)]#triplets (dep,arr,poids)\n",
    "for i,type in enumerate(types):\n",
    "    x = x_coords[i]\n",
    "    y = y_coords[i]\n",
    "    plt.scatter(x, y, color='red')\n",
    "    plt.text(x+.1, y+.1, type, fontsize=9)\n",
    "for elt in Liste:\n",
    "    i,j,val=elt\n",
    "    plt.plot([Lp[i][0],Lp[j][0]],[Lp[i][1],Lp[j][1]],'k')\n",
    "    plt.text((Lp[i][0]+Lp[j][0])/2.,(Lp[i][1]+Lp[j][1])/2.,str(val))\n",
    "plt.show()"
   ]
  },
  {
   "cell_type": "markdown",
   "metadata": {
    "slideshow": {
     "slide_type": "subslide"
    }
   },
   "source": [
    "### Tableau des distances à partir de Liste\n",
    "* Liste : triplets - sans répétition - (origine,destination,distance)\n",
    "* Dist : $Dist[i][j]=distance(i,j)$\n",
    "* $N$ : nombre d'arêtes."
   ]
  },
  {
   "cell_type": "code",
   "execution_count": 50,
   "metadata": {
    "slideshow": {
     "slide_type": "fragment"
    }
   },
   "outputs": [
    {
     "data": {
      "text/plain": [
       "[[inf, 4, 8, inf, inf, inf, inf, inf, inf],\n",
       " [4, inf, 11, 8, inf, inf, inf, inf, inf],\n",
       " [8, 11, inf, inf, 7, 1, inf, inf, inf],\n",
       " [inf, 8, inf, inf, 2, inf, 7, 4, inf],\n",
       " [inf, inf, 7, 2, inf, 6, inf, inf, inf],\n",
       " [inf, inf, 1, inf, 6, inf, inf, 2, inf],\n",
       " [inf, inf, inf, 7, inf, inf, inf, 14, 9],\n",
       " [inf, inf, inf, 4, inf, 2, 14, inf, 10],\n",
       " [inf, inf, inf, inf, inf, inf, 9, 10, inf]]"
      ]
     },
     "execution_count": 50,
     "metadata": {},
     "output_type": "execute_result"
    }
   ],
   "source": [
    "def tab_dist(L):\n",
    "    N=max([max(L[i][0],L[i][1]) for i in range(len(Liste))])+1\n",
    "    Dist=[[float('inf') for i in range(N)] for j in range(N)]#float('nan') ou -1 au lieu de l'infini\n",
    "    for elt in L:\n",
    "        i,j,val=elt\n",
    "        Dist[i][j],Dist[j][i]=val,val\n",
    "    return Dist\n",
    "Disttest=tab_dist(Liste)\n",
    "Disttest"
   ]
  },
  {
   "cell_type": "markdown",
   "metadata": {
    "slideshow": {
     "slide_type": "subslide"
    }
   },
   "source": [
    "### Notations\n",
    "* On choisit un sommet de départ $x_0$    \n",
    "$\\rightarrow$ éventuellement fictif et relié à tous les autres sommets    \n",
    "$\\rightarrow$ on suppose que tout sommet est relié à $x_0$ (connexité par arcs)\n",
    "* Si  $x\\in S$, on note \n",
    "$$\\delta(x)\\; :\\; \\text{ longueur du plus court chemin de }x_0\\text{ a }x$$"
   ]
  },
  {
   "cell_type": "markdown",
   "metadata": {
    "slideshow": {
     "slide_type": "slide"
    }
   },
   "source": [
    "## Algorithme de DIJKSTRA\n",
    "* On construit récursivement une suite $(L_n)$ où, pour $1\\leq n\\leq N$ :\n",
    "    * $L_n=[x_0,\\dots,x_{n-1}]$ est une liste de $n$ sommets ($\\leftrightarrow$ ensemble).\n",
    "    * Ce sont les $n$ sommets les plus proches de $x_0$\n",
    "    * $\\delta(x_{n-1})$ est réalisé pour un chemin constitué de points de $L_n$."
   ]
  },
  {
   "cell_type": "markdown",
   "metadata": {
    "slideshow": {
     "slide_type": "fragment"
    }
   },
   "source": [
    "### Initialisation\n",
    "* $L_1=[x_0]$"
   ]
  },
  {
   "cell_type": "markdown",
   "metadata": {
    "slideshow": {
     "slide_type": "subslide"
    }
   },
   "source": [
    "### Hérédité\n",
    "Pour $1\\leq n \\leq N-1$, on suppose $L_n=[x_0,\\dots,x_{n-1}]$ construite.\n",
    "* On choisit $x_n\\in S\\setminus L_n$ minimisant \n",
    "$$ \\Delta=\\min\\limits_{\\substack{(x,y)\\in A^2\\\\ x\\in S\\setminus L_n \\\\ y\\in L_n }} \\delta(y)+{\\rm d}(x,y)$$  \n",
    "$\\rightarrow$ Plusieurs $y\\in L_n$ peuvent convenir    \n",
    "$\\rightarrow$ Vérifier $\\Delta=\\delta(y)+{\\rm d}(x,y)$\n",
    "* On peut poser $L_{n+1}=[x_0,\\dots,x_{n-1},x_n]$\n",
    "* On en profite pour mémoriser le chemin obtenu en concaténant :\n",
    "    * Un chemin réalisant $\\delta(y)$ dans $L_n$ (mémorisé)\n",
    "    * L'arête $(x,y)$"
   ]
  },
  {
   "cell_type": "markdown",
   "metadata": {
    "slideshow": {
     "slide_type": "subslide"
    }
   },
   "source": [
    "### Principe simple (de Bellman)\n",
    "* Si un $\\gamma=(x_0,x_1,\\dots, x_m,x)$ est un plus court chemin entre $x_0$ et $x$\n",
    "* Alors $\\forall i \\in [\\! | 1, m |\\! ]$, $(x_0,\\dots ,x_i)$ est encore un plus court chemin entre $x_0$ et $x_i$\n",
    "* Sinon, un plus cours chemin entre $x_0$ et $x_i$ ...\n",
    "* Complété par $(x_{i+1},\\dots , x_m,x)$ serait ...\n",
    "* Plus court que $\\gamma$ !"
   ]
  },
  {
   "cell_type": "markdown",
   "metadata": {
    "slideshow": {
     "slide_type": "subslide"
    }
   },
   "source": [
    "### Preuve\n",
    "* On suppose que \n",
    "    * $L_n$ est bien constitué des $n$ sommets les plus proches de $x_0$\n",
    "    * et que le plus court chemin entre $x_0$ et un point $y'$ de $L_n$ se fait dans $L_n$.\n",
    "* On fixe $x\\in S\\setminus L_n$ et $y\\in L_n$ convenables.\n",
    "\n",
    "1. On montre que $\\delta(x)= \\Delta$.\n",
    "2. On montre que $x'\\in S\\setminus L_n$ n'est pas plus proche de $x_0$ que $x$."
   ]
  },
  {
   "cell_type": "markdown",
   "metadata": {
    "slideshow": {
     "slide_type": "skip"
    }
   },
   "source": [
    "* Preuve de $\\delta(x)= \\Delta$.\n",
    "    * $\\Delta$ est la somme de la longueur du plus court chemin de $x_0$ à $y$ et de la longueur du chemin de $y$ à $x$    \n",
    "    $\\rightarrow$ C'est la longueur d'un chemin de $x_0$ à $x$    \n",
    "    $\\rightarrow$ $\\delta(x)\\leq \\Delta$\n",
    "    * Soit $\\gamma=(x_0,y_1,\\dots, y_m,x)$ le plus court chemin de $x_0$ à $x$\n",
    "    * $(x_0,y_1\\dots,y_m)$ est strictement plus court que $\\gamma$\n",
    "    * Si l'un des $y_i$ (disons $y_k$) n'appartient pas à $L_n$\n",
    "    * alors $\\delta(y_{k-1})+{\\rm d}(y_{k-1},y_k)<\\delta(x)\\leq \\Delta$\n",
    "    * Contradiction avec la définition de $\\Delta$ : $y'\\in L_n$\n",
    "    * Par définition de $\\Delta$ encore : $\\delta(x) \\geq \\Delta$"
   ]
  },
  {
   "cell_type": "markdown",
   "metadata": {
    "slideshow": {
     "slide_type": "skip"
    }
   },
   "source": [
    "* Soit $x'\\in S\\setminus L_n$ strictement plus proche de $x_0$ que $x$.\n",
    "    * Comme précédemment, il existe $\\gamma'=(x_0,\\dots, y_k)$ \n",
    "    * avec $(x_0,y_1,\\dots ,y_{k-1})\\in (L_n)^{k}$ et $y_k\\in S\\setminus L_n$\n",
    "    * éventuellement $y_k=x'$\n",
    "    * donc $\\gamma'$ de longueur strictement inférieure à $\\delta(x)$\n",
    "    * Contradiction avec le définition de $\\Delta$."
   ]
  },
  {
   "cell_type": "code",
   "execution_count": 52,
   "metadata": {
    "slideshow": {
     "slide_type": "subslide"
    }
   },
   "outputs": [
    {
     "data": {
      "text/plain": [
       "[[0, 0],\n",
       " [0, 1, 4],\n",
       " [0, 2, 8],\n",
       " [0, 1, 3, 12],\n",
       " [0, 1, 3, 4, 14],\n",
       " [0, 2, 5, 9],\n",
       " [0, 1, 3, 6, 19],\n",
       " [0, 2, 5, 7, 11],\n",
       " [0, 2, 5, 7, 8, 21]]"
      ]
     },
     "execution_count": 52,
     "metadata": {},
     "output_type": "execute_result"
    }
   ],
   "source": [
    "def courts_chemins(Dist,x0):\n",
    "    N=len(Dist)\n",
    "    valmax=N*(max([max([Dist[i][j] for i in range(N)])for j in range(N)])+1)\n",
    "    L=[x0]\n",
    "    chemin=[[] for i in range(N)]\n",
    "    chemin[x0]=[x0,0]\n",
    "    while(len(L)<N):\n",
    "        val=valmax\n",
    "        for i in range(N):\n",
    "            if i in L:#déjà traités\n",
    "                diopt=chemin[i][-1]\n",
    "                for j in range(N):\n",
    "                    if (not j in L) and Dist[i][j]!=float('inf'):#reliés non traités\n",
    "                        prov=diopt+Dist[i][j]\n",
    "                        if prov<val:\n",
    "                            y,x,val=i,j,prov\n",
    "        chemin[x]=chemin[y][:-1]+[x]+[val]\n",
    "        L.append(x)\n",
    "    return chemin\n",
    "                        \n",
    "courts_chemins(Disttest,0)                   "
   ]
  },
  {
   "cell_type": "markdown",
   "metadata": {
    "collapsed": true
   },
   "source": [
    "$\\rightarrow$ On obtient <b>tous</b> les plus courts chemins de $x_0$ aux autres points du graphe."
   ]
  },
  {
   "cell_type": "markdown",
   "metadata": {},
   "source": [
    "## Algorithme de BELLMAN-FORD\n",
    "* Principe de Bellman s'applique    \n",
    "$\\rightarrow$ programmation dynamique\n",
    "* Notation $D_{k,x}$    \n",
    "$\\rightarrow$ distance minimale entre la source $x_0$ et $x$   \n",
    "$\\rightarrow$ empruntant <i>au plus</i> $k \\in [\\!| 1, N |\\! ]$ sommets    \n",
    "$\\rightarrow$ <i>Ex :</i>$D_{1,x_0}=0$ et $D_{1,x}=+\\infty$ si $x\\neq x_0$.\n",
    "* Relation de récurrence :\n",
    "$$\n",
    "D_{k,x}=\\begin{cases}\n",
    "0&\\text{ si }x=x_0\\\\\n",
    "+\\infty&\\text{ si }x\\neq x_0\\text{ et }k=1\\\\\n",
    "\\min \\left(D(k-1,x),\\min\\limits_{y\\in E}( D(k-1,y)+d(x,y)\\right)\n",
    "\\end{cases}\n",
    "$$\n"
   ]
  },
  {
   "cell_type": "code",
   "execution_count": 75,
   "metadata": {
    "slideshow": {
     "slide_type": "subslide"
    }
   },
   "outputs": [
    {
     "data": {
      "text/plain": [
       "[[0, inf, inf, inf, inf, inf, inf, inf, inf],\n",
       " [0, 4, 8, inf, inf, inf, inf, inf, inf],\n",
       " [0, 4, 8, 12, 15, 9, inf, inf, inf],\n",
       " [0, 4, 8, 12, 14, 9, 19, 11, inf],\n",
       " [0, 4, 8, 12, 14, 9, 19, 11, 21],\n",
       " [0, 4, 8, 12, 14, 9, 19, 11, 21],\n",
       " [0, 4, 8, 12, 14, 9, 19, 11, 21],\n",
       " [0, 4, 8, 12, 14, 9, 19, 11, 21],\n",
       " [0, 4, 8, 12, 14, 9, 19, 11, 21]]"
      ]
     },
     "execution_count": 75,
     "metadata": {},
     "output_type": "execute_result"
    }
   ],
   "source": [
    "def Bellman_Ford(Dist,x0):\n",
    "    N=len(Dist)\n",
    "    L=[ [ float(\"inf\") for j in range(N) ] for i in range(N)]\n",
    "    L[0][x0]=0\n",
    "    for k in range(1,N):\n",
    "        for j in range(N):\n",
    "            L[k][j]=min([L[k-1][j],min([L[k-1][v]+Dist[v][j] for v in range(N)])])\n",
    "    return L\n",
    "\n",
    "Bellman_Ford(Disttest,0)"
   ]
  },
  {
   "cell_type": "code",
   "execution_count": null,
   "metadata": {
    "collapsed": true,
    "slideshow": {
     "slide_type": "subslide"
    }
   },
   "outputs": [],
   "source": [
    "#Avec les chemins\n"
   ]
  },
  {
   "cell_type": "code",
   "execution_count": 74,
   "metadata": {
    "slideshow": {
     "slide_type": "subslide"
    }
   },
   "outputs": [
    {
     "data": {
      "text/plain": [
       "[[0, 0],\n",
       " [0, 1, 4],\n",
       " [0, 2, 8],\n",
       " [0, 1, 3, 12],\n",
       " [0, 1, 3, 4, 14],\n",
       " [0, 2, 5, 9],\n",
       " [0, 1, 3, 6, 19],\n",
       " [0, 2, 5, 7, 11],\n",
       " [0, 2, 5, 7, 8, 21]]"
      ]
     },
     "execution_count": 74,
     "metadata": {},
     "output_type": "execute_result"
    }
   ],
   "source": [
    "def Bellman_Ford2(Dist,x0):\n",
    "    N=len(Dist)\n",
    "    L=[ [ [float(\"inf\")] for j in range(N) ] for i in range(N)]\n",
    "    L[0][x0]=[x0,0]\n",
    "    for k in range(1,N):\n",
    "        for j in range(N):\n",
    "            mini=L[k-1][j][-1]\n",
    "            b=j\n",
    "            for v in range(N):#On repasse par j - évitable\n",
    "                if v!=j and L[k-1][v][-1]+Dist[v][j]<mini:#Evité !\n",
    "                    b=v\n",
    "                    mini=L[k-1][v][-1]+Dist[v][j]\n",
    "            if b==j:\n",
    "                L[k][j]=L[k-1][j]+[]\n",
    "            else:\n",
    "                L[k][j]=L[k-1][b][:-1]+[j]+[mini]\n",
    "    return L\n",
    "\n",
    "Bellman_Ford2(Disttest,0)[-1]"
   ]
  },
  {
   "cell_type": "markdown",
   "metadata": {
    "slideshow": {
     "slide_type": "subslide"
    }
   },
   "source": [
    "#### Généralisations :\n",
    "* Arcs de poids négatifs.\n",
    "* Nécessité de limiter les tours de boucle ($\\neq N$)\n",
    "* Possibilité d'oublier les lignes précédentes\n",
    "* Floyd Warshall    \n",
    "$\\rightarrow$ plus cours chemin entre tous les couples   \n",
    "$\\rightarrow$ même principe dynamique que rendu monnaie\n",
    "\n",
    "#### Applications :\n",
    "* Routage RIP\n",
    "* Programmation linéaire"
   ]
  },
  {
   "cell_type": "markdown",
   "metadata": {
    "slideshow": {
     "slide_type": "slide"
    }
   },
   "source": [
    "## <center> BACKTRACKING </center>"
   ]
  },
  {
   "cell_type": "markdown",
   "metadata": {
    "collapsed": true,
    "slideshow": {
     "slide_type": "slide"
    }
   },
   "source": [
    "## Solveur de Sudoku\n",
    "* Glouton\n",
    "* Backtracking"
   ]
  },
  {
   "cell_type": "markdown",
   "metadata": {
    "collapsed": true,
    "slideshow": {
     "slide_type": "subslide"
    }
   },
   "source": [
    "### Sudoku\n",
    "* Grille $9\\times 9$ $\\rightarrow$ 81 cases\n",
    "* 9 sous-grilles $3\\times 3$ $\\rightarrow$ régions de 9 cases\n",
    "* Règle : une seule occurence de chaque nombre de $[\\! | 1,9|\\! ]$\n",
    "    * par ligne\n",
    "    * par colonne\n",
    "    * Par région"
   ]
  },
  {
   "cell_type": "markdown",
   "metadata": {
    "collapsed": true,
    "slideshow": {
     "slide_type": "subslide"
    }
   },
   "source": [
    "### Jeu \n",
    "* Grille préremplie    \n",
    "$\\rightarrow$ Par quelques nombres    \n",
    "$\\rightarrow$ Existence de solution"
   ]
  },
  {
   "cell_type": "code",
   "execution_count": 37,
   "metadata": {},
   "outputs": [
    {
     "data": {
      "text/html": [
       "\n",
       "        <iframe\n",
       "            width=\"500\"\n",
       "            height=\"500\"\n",
       "            src=\"./sudoku.pdf\"\n",
       "            frameborder=\"0\"\n",
       "            allowfullscreen\n",
       "        ></iframe>\n",
       "        "
      ],
      "text/plain": [
       "<IPython.lib.display.IFrame at 0x10bfa5e10>"
      ]
     },
     "execution_count": 37,
     "metadata": {},
     "output_type": "execute_result"
    }
   ],
   "source": [
    "IFrame(\"./sudoku.pdf\", width=500, height=500)"
   ]
  },
  {
   "cell_type": "markdown",
   "metadata": {
    "collapsed": true,
    "slideshow": {
     "slide_type": "subslide"
    }
   },
   "source": [
    "### Modélisation\n",
    "* Liste de 9 listes de 9 nombres\n",
    "* Case à compléter    \n",
    "$\\rightarrow$ 0"
   ]
  },
  {
   "cell_type": "code",
   "execution_count": null,
   "metadata": {
    "collapsed": true
   },
   "outputs": [],
   "source": [
    "M=[[0,1,3,0,0,9,0,0,5],[6,0,0,0,4,0,0,0,9],\\\n",
    "   [4,0,5,3,0,7,6,1,2],[5,0,0,0,1,3,0,9,0],\\\n",
    "   [0,2,1,7,0,4,5,8,0],[0,4,0,8,2,0,0,0,3],\\\n",
    "   [2,2,9,0,0,6,4,0,8],[1,0,0,0,5,0,3,0,7],\\\n",
    "   [8,0,0,4,0,2,0,0,0]]"
   ]
  },
  {
   "cell_type": "markdown",
   "metadata": {
    "slideshow": {
     "slide_type": "subslide"
    }
   },
   "source": [
    "### Test de position\n",
    "* $\\verb\"compatible_region(num,i,j,M)\"$\n",
    "* $\\verb\"compatible_ligne(num,i,j,M)\"$\n",
    "* $\\verb\"compatible_colonne(num,i,j,M)\"$    \n",
    "$\\rightarrow$ $\\verb\"compatible(num,i,j,M)\"$ "
   ]
  },
  {
   "cell_type": "code",
   "execution_count": null,
   "metadata": {
    "collapsed": true,
    "slideshow": {
     "slide_type": "subslide"
    }
   },
   "outputs": [],
   "source": [
    "# A vous"
   ]
  },
  {
   "cell_type": "code",
   "execution_count": null,
   "metadata": {
    "collapsed": true,
    "slideshow": {
     "slide_type": "subslide"
    }
   },
   "outputs": [],
   "source": [
    "# A vous"
   ]
  },
  {
   "cell_type": "code",
   "execution_count": null,
   "metadata": {
    "collapsed": true,
    "slideshow": {
     "slide_type": "subslide"
    }
   },
   "outputs": [],
   "source": [
    "# A vous"
   ]
  },
  {
   "cell_type": "code",
   "execution_count": null,
   "metadata": {
    "collapsed": true,
    "slideshow": {
     "slide_type": "subslide"
    }
   },
   "outputs": [],
   "source": [
    "def compatibleligne(i,num,M):\n",
    "    for j in range(9):\n",
    "        if M[i][j]==num:\n",
    "            return False\n",
    "    return True"
   ]
  },
  {
   "cell_type": "code",
   "execution_count": null,
   "metadata": {
    "collapsed": true,
    "slideshow": {
     "slide_type": "fragment"
    }
   },
   "outputs": [],
   "source": [
    "def compatiblecolonne(j,num,M):\n",
    "    for i in range(9):\n",
    "        if M[i][j]==num:\n",
    "            return False\n",
    "    return True"
   ]
  },
  {
   "cell_type": "code",
   "execution_count": null,
   "metadata": {
    "collapsed": true,
    "slideshow": {
     "slide_type": "subslide"
    }
   },
   "outputs": [],
   "source": [
    "def compatibleregion(num,i,j,M):\n",
    "    ir=(i//3)*3\n",
    "    jr=(j//3)*3\n",
    "    for k in range(3):\n",
    "        for l in range(3):\n",
    "            if M[ir+k][jr+l]==num:\n",
    "                return False\n",
    "    return True"
   ]
  },
  {
   "cell_type": "code",
   "execution_count": null,
   "metadata": {
    "collapsed": true,
    "slideshow": {
     "slide_type": "subslide"
    }
   },
   "outputs": [],
   "source": [
    "def compatible(num,i,j,M):\n",
    "    return compatibleregion(num,i,j,M) and \\\n",
    "    compatibleligne(i,num,M) and compatiblecolonne(j,num,M)"
   ]
  },
  {
   "cell_type": "markdown",
   "metadata": {
    "slideshow": {
     "slide_type": "subslide"
    }
   },
   "source": [
    "### Backtracking\n",
    "* Parcours lignes/colonnes\n",
    "* Cases vides \n",
    "* Heuristique gloutonne :    \n",
    "$\\rightarrow$ On remplit par les nombres de $[\\! | 1, 9|\\! ]$ (dans l'ordre)    \n",
    "$\\rightarrow$ Si possible !    \n",
    "$\\rightarrow$ On continue...    \n",
    "$\\rightarrow$ Jusqu'à :\n",
    "    * Grille terminée\n",
    "    * Impossibilité\n",
    "* On revient alors sur le dernier choix    \n",
    "$\\rightarrow$ backtracking    \n",
    "$\\rightarrow$ Retour sur ses pas"
   ]
  },
  {
   "cell_type": "markdown",
   "metadata": {
    "slideshow": {
     "slide_type": "subslide"
    }
   },
   "source": [
    "#### Fonction utilitaire"
   ]
  },
  {
   "cell_type": "code",
   "execution_count": 33,
   "metadata": {
    "collapsed": true,
    "slideshow": {
     "slide_type": "subslide"
    }
   },
   "outputs": [],
   "source": [
    "def recherchecase(M):\n",
    "    for i in range(9):\n",
    "        for j in range(9):\n",
    "            if M[i][j]==0:\n",
    "                return (i,j)\n",
    "    return (float('nan'),float('nan'))"
   ]
  },
  {
   "cell_type": "markdown",
   "metadata": {},
   "source": [
    "$\\rightarrow$ Que fait-elle ? A quoi sert-elle ?"
   ]
  },
  {
   "cell_type": "code",
   "execution_count": null,
   "metadata": {
    "collapsed": true,
    "slideshow": {
     "slide_type": "subslide"
    }
   },
   "outputs": [],
   "source": [
    "# Foncton finale\n",
    "def solveur(M):\n",
    "    i,j=recherchecase(M)\n",
    "    if i!=i:\n",
    "        return True\n",
    "    else:\n",
    "        for k in range(1,10):\n",
    "            if compatible(k,i,j,M):\n",
    "                M[i][j]=k\n",
    "                nouveau=solveur(M)\n",
    "                if nouveau:\n",
    "                    return nouveau\n",
    "        M[i][j]=0\n",
    "        return False"
   ]
  },
  {
   "cell_type": "markdown",
   "metadata": {
    "collapsed": true,
    "slideshow": {
     "slide_type": "slide"
    }
   },
   "source": [
    "## Labyrinthe\n",
    "* Glouton\n",
    "* Backtracking\n",
    "* Piles"
   ]
  },
  {
   "cell_type": "markdown",
   "metadata": {
    "collapsed": true,
    "slideshow": {
     "slide_type": "slide"
    }
   },
   "source": [
    "## A-Etoile\n",
    "* Glouton\n",
    "* Alternative au backtracking    \n",
    "$\\rightarrow$ Programmation dynamique\n",
    "* BFS (comme Dijsktra, auquel il faut ajouter une file de priorité)    \n",
    "$\\rightarrow$ Parler de DFS ?"
   ]
  },
  {
   "cell_type": "markdown",
   "metadata": {
    "slideshow": {
     "slide_type": "slide"
    }
   },
   "source": [
    "## <center>ALGORITHMES GENETIQUES</center>"
   ]
  },
  {
   "cell_type": "code",
   "execution_count": null,
   "metadata": {
    "collapsed": true
   },
   "outputs": [],
   "source": [
    "#Voyageur de commerce"
   ]
  },
  {
   "cell_type": "code",
   "execution_count": null,
   "metadata": {
    "collapsed": true
   },
   "outputs": [],
   "source": []
  },
  {
   "cell_type": "code",
   "execution_count": null,
   "metadata": {
    "collapsed": true
   },
   "outputs": [],
   "source": []
  },
  {
   "cell_type": "code",
   "execution_count": null,
   "metadata": {
    "collapsed": true
   },
   "outputs": [],
   "source": []
  },
  {
   "cell_type": "code",
   "execution_count": null,
   "metadata": {
    "collapsed": true
   },
   "outputs": [],
   "source": []
  },
  {
   "cell_type": "code",
   "execution_count": null,
   "metadata": {
    "collapsed": true
   },
   "outputs": [],
   "source": []
  },
  {
   "cell_type": "markdown",
   "metadata": {
    "slideshow": {
     "slide_type": "slide"
    }
   },
   "source": [
    "## <center>COLONIES DE FOURMIS - ESSAIMS ABEILLES</center>"
   ]
  },
  {
   "cell_type": "code",
   "execution_count": null,
   "metadata": {
    "collapsed": true
   },
   "outputs": [],
   "source": [
    "#Voyageur de commerce"
   ]
  },
  {
   "cell_type": "code",
   "execution_count": null,
   "metadata": {
    "collapsed": true
   },
   "outputs": [],
   "source": []
  },
  {
   "cell_type": "code",
   "execution_count": null,
   "metadata": {
    "collapsed": true
   },
   "outputs": [],
   "source": []
  },
  {
   "cell_type": "code",
   "execution_count": null,
   "metadata": {
    "collapsed": true
   },
   "outputs": [],
   "source": []
  },
  {
   "cell_type": "code",
   "execution_count": null,
   "metadata": {
    "collapsed": true
   },
   "outputs": [],
   "source": []
  },
  {
   "cell_type": "code",
   "execution_count": null,
   "metadata": {
    "collapsed": true
   },
   "outputs": [],
   "source": []
  },
  {
   "cell_type": "markdown",
   "metadata": {
    "slideshow": {
     "slide_type": "slide"
    }
   },
   "source": [
    "## <center> OPTIMISATION <center>"
   ]
  },
  {
   "cell_type": "code",
   "execution_count": null,
   "metadata": {
    "collapsed": true
   },
   "outputs": [],
   "source": [
    "#Multiplicateurs de Lagrange\n",
    "#Gradient conjugué\n",
    "#Type Aetoile (score/pénalité)\n",
    "#Programmation dynamique\n",
    "#Recuit simulé"
   ]
  },
  {
   "cell_type": "code",
   "execution_count": null,
   "metadata": {
    "collapsed": true
   },
   "outputs": [],
   "source": []
  },
  {
   "cell_type": "code",
   "execution_count": null,
   "metadata": {
    "collapsed": true
   },
   "outputs": [],
   "source": []
  },
  {
   "cell_type": "code",
   "execution_count": null,
   "metadata": {
    "collapsed": true
   },
   "outputs": [],
   "source": []
  },
  {
   "cell_type": "code",
   "execution_count": null,
   "metadata": {
    "collapsed": true
   },
   "outputs": [],
   "source": []
  },
  {
   "cell_type": "code",
   "execution_count": null,
   "metadata": {
    "collapsed": true
   },
   "outputs": [],
   "source": []
  }
 ],
 "metadata": {
  "anaconda-cloud": {},
  "celltoolbar": "Slideshow",
  "kernelspec": {
   "display_name": "Python [conda env:python34]",
   "language": "python",
   "name": "conda-env-python34-py"
  },
  "language_info": {
   "codemirror_mode": {
    "name": "ipython",
    "version": 3
   },
   "file_extension": ".py",
   "mimetype": "text/x-python",
   "name": "python",
   "nbconvert_exporter": "python",
   "pygments_lexer": "ipython3",
   "version": "3.4.5"
  }
 },
 "nbformat": 4,
 "nbformat_minor": 2
}
