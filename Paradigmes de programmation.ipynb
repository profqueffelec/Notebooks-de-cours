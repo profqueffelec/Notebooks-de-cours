{
 "cells": [
  {
   "cell_type": "code",
   "execution_count": 12,
   "metadata": {
    "slideshow": {
     "slide_type": "skip"
    }
   },
   "outputs": [],
   "source": [
    "from IPython.display import IFrame\n",
    "from IPython.display import HTML\n",
    "from IPython.display import Image"
   ]
  },
  {
   "cell_type": "code",
   "execution_count": 11,
   "metadata": {
    "slideshow": {
     "slide_type": "skip"
    }
   },
   "outputs": [],
   "source": [
    "import matplotlib.pyplot as plt\n",
    "import matplotlib.animation as anim\n",
    "import random\n",
    "import sys\n",
    "import numpy as np"
   ]
  },
  {
   "cell_type": "markdown",
   "metadata": {
    "slideshow": {
     "slide_type": "skip"
    }
   },
   "source": [
    "https://github.com/awesomedata/awesome-public-datasets"
   ]
  },
  {
   "cell_type": "code",
   "execution_count": 3,
   "metadata": {
    "collapsed": true,
    "slideshow": {
     "slide_type": "skip"
    }
   },
   "outputs": [],
   "source": [
    "#import this"
   ]
  },
  {
   "cell_type": "code",
   "execution_count": 4,
   "metadata": {
    "collapsed": true,
    "slideshow": {
     "slide_type": "skip"
    }
   },
   "outputs": [],
   "source": [
    "#import antigravity"
   ]
  },
  {
   "cell_type": "code",
   "execution_count": 5,
   "metadata": {
    "collapsed": true,
    "slideshow": {
     "slide_type": "skip"
    }
   },
   "outputs": [],
   "source": [
    "#from __future__ import braces"
   ]
  },
  {
   "cell_type": "markdown",
   "metadata": {
    "slideshow": {
     "slide_type": "slide"
    }
   },
   "source": [
    "<CENTER>\n",
    "<div style=width:600px;border-radius:10px;height:200px;background-color:#ffcccc;text-align:center;vertical-align:middle;line-height:200px> \n",
    "<font size=14, font color=navy>Programmation\n",
    "</div>\n",
    "</CENTER>"
   ]
  },
  {
   "cell_type": "markdown",
   "metadata": {
    "slideshow": {
     "slide_type": "slide"
    }
   },
   "source": [
    "## <center> K PLUS PROCHES VOISINS (k-NN - nearest neighbours)</center>"
   ]
  },
  {
   "cell_type": "markdown",
   "metadata": {
    "slideshow": {
     "slide_type": "subslide"
    }
   },
   "source": [
    "### Données\n",
    "* Ensemble de vecteurs/points à coordonnées numériques    \n",
    "$\\rightarrow$ Liste $L$ (l'ensemble) de listes numériques ($\\approx$ point) <i>de même taille</i> $n$.\n",
    "* A chaque point est associée une caractéristique    \n",
    "$\\rightarrow$ ou entier naturel $\\in [\\! | 0, N-1|\\! ]$    \n",
    "$\\rightarrow$ ou valeur numérique continue"
   ]
  },
  {
   "cell_type": "markdown",
   "metadata": {
    "slideshow": {
     "slide_type": "subslide"
    }
   },
   "source": [
    "### Méthode d'apprentissage supervisé.\n",
    "* Prévoir des résultats (sur un corpus de test)\n",
    "* A partir de données (corpus d'apprentissage)"
   ]
  },
  {
   "cell_type": "markdown",
   "metadata": {
    "collapsed": true,
    "slideshow": {
     "slide_type": "fragment"
    }
   },
   "source": [
    "Concrètement :\n",
    "* Soit x de taille $n$ un <i>nouveau</i> point\n",
    "* On cherche <b>statistiquement</b> la caractéristique la plus probable de $x$    \n",
    "$\\rightarrow$ en cherchant les $k\\in \\mathbb{N}^\\star$ plus proches voisins de $x$    \n",
    "$\\rightarrow$ en déterminant :\n",
    "    * la caractéristique la plus représentée (le mode des voisins)\n",
    "    * la moyenne des valeurs pour une régression (la moyenne des voisins)\n",
    "$\\rightarrow$ on l'associe à $x$"
   ]
  },
  {
   "cell_type": "code",
   "execution_count": 90,
   "metadata": {
    "slideshow": {
     "slide_type": "subslide"
    }
   },
   "outputs": [
    {
     "data": {
      "image/png": "[encoded data removed]",
      "text/plain": [
       "<matplotlib.figure.Figure at 0x1119dcf10>"
      ]
     },
     "metadata": {},
     "output_type": "display_data"
    }
   ],
   "source": [
    "plt.close()\n",
    "L1x=[1,2,2]\n",
    "L1y=[3,1,4]\n",
    "L2x=[4,5,6,7,5]\n",
    "L2y=[2,2,4,6,5]\n",
    "cir=plt.Circle((4,3),2.4,color='b',fill=False)\n",
    "ax=plt.gca()\n",
    "ax.cla()\n",
    "ax.set_xlim((0,7.5))\n",
    "ax.set_ylim((0,7.5))\n",
    "ax.plot(L1x,L1y,'ro')\n",
    "ax.plot(L2x,L2y,'cx')\n",
    "ax.plot([4],[3],'ks')\n",
    "ax.add_artist(cir)\n",
    "ax.text(3,6,'categorie bleue')\n",
    "plt.show()"
   ]
  },
  {
   "cell_type": "markdown",
   "metadata": {
    "collapsed": true,
    "slideshow": {
     "slide_type": "subslide"
    }
   },
   "source": [
    "### Mesure de distance.\n",
    "Soit $x=(x_1,\\dots,x_n)$ et $y=(y_1,\\dots, y_n)$ points de $\\mathbb{R}^n$.\n",
    "$${\\rm d}(x,y)=\\sqrt{\\sum\\limits_{k=1}^n (x_k-y_k)^2}=\\sqrt{(x_1-y_1)^2+\\dots +(x_n-y_n)^2}$$\n",
    "$\\rightarrow$ distance <i>euclidienne</i>    \n",
    "$\\rightarrow$ Autres distances : de Manhattan, de Hamming"
   ]
  },
  {
   "cell_type": "code",
   "execution_count": null,
   "metadata": {
    "collapsed": true,
    "slideshow": {
     "slide_type": "subslide"
    }
   },
   "outputs": [],
   "source": [
    "# Sous fonction : distance\n"
   ]
  },
  {
   "cell_type": "code",
   "execution_count": 13,
   "metadata": {
    "slideshow": {
     "slide_type": "subslide"
    }
   },
   "outputs": [],
   "source": [
    "def dist(x,y):\n",
    "    \"\"\"Entree : deux listes ou tuples. \n",
    "    Sortie : la distance entre les points représentés\"\"\"\n",
    "    assert len(x)==len(y)\n",
    "    return np.sqrt(sum([ (x[i]-y[i])**2 for i in range(len(x))]))"
   ]
  },
  {
   "cell_type": "markdown",
   "metadata": {
    "slideshow": {
     "slide_type": "subslide"
    }
   },
   "source": [
    "### Recherche des k plus proches voisins.\n",
    "* k : paramètre \n",
    "* E : liste des $P\\geq k$ points du corpus d'apprentissage\n",
    "* C : liste (dans le même ordre) de leurs caractéristiques (parmi $[\\!| 0, N-1|\\! ]$)\n",
    "* x : nouveau point de $\\mathbb{R}^n$."
   ]
  },
  {
   "cell_type": "markdown",
   "metadata": {
    "slideshow": {
     "slide_type": "subslide"
    }
   },
   "source": [
    "#### Heuristique :\n",
    "* On parcourt la liste E en calculant à chaque fois la distance de $x$ à l'élément courant.\n",
    "* On maintient à jour le liste Min des indices des $k$ plus proches voisins déjà parcourus.    \n",
    "$\\rightarrow$ Il vaut mieux les classer dans l'ordre croissant des distances\n",
    "* A chaque étape, si la distance de $x$ à l'élément courant est inférieure à celle au dernier élément représenté dans Min :\n",
    "    * On supprime le dernier élément de Min.\n",
    "    * On insère l'indice courant dans Min à sa place\n",
    "    \n",
    "  $\\rightarrow$ Pour ne pas recalculer les distances, on les stocke aussi dans Min.\n",
    "* On initialise Min en insérant les couples (distance à $x$, indice)     \n",
    "$\\rightarrow$ par ordre croissant des distances    \n",
    "$\\rightarrow$ pour des indices de $[\\!| 0, k-1|\\! ]$    \n",
    "$\\rightarrow$ une fonction d'insertion est utile"
   ]
  },
  {
   "cell_type": "code",
   "execution_count": null,
   "metadata": {
    "collapsed": true,
    "slideshow": {
     "slide_type": "skip"
    }
   },
   "outputs": [],
   "source": [
    "# A vous : insertion\n",
    "def insere(elt,liste):"
   ]
  },
  {
   "cell_type": "code",
   "execution_count": 75,
   "metadata": {
    "slideshow": {
     "slide_type": "skip"
    }
   },
   "outputs": [
    {
     "data": {
      "text/plain": [
       "[3]"
      ]
     },
     "execution_count": 75,
     "metadata": {},
     "output_type": "execute_result"
    }
   ],
   "source": [
    "#Version non en place annulée\n",
    "def insere(elt,liste):\n",
    "    \"\"\"Données : liste est homogène et triée,\n",
    "    les éléments de même type que x,\n",
    "    qui peuvent être comparés par <=\n",
    "    Résultat : une liste comportant les élément des liste et x, triée\"\"\"\n",
    "    n=len(liste)\n",
    "    res=[]\n",
    "    k=0\n",
    "    while (k<n) and (liste[k]<=elt):\n",
    "        res.append(liste[k])\n",
    "        k+=1\n",
    "    res.append(elt)\n",
    "    if k<n:\n",
    "        while(k<n):\n",
    "            res.append(liste[k])\n",
    "            k+=1\n",
    "    return res\n",
    "insere(3,[])"
   ]
  },
  {
   "cell_type": "code",
   "execution_count": 10,
   "metadata": {
    "slideshow": {
     "slide_type": "subslide"
    }
   },
   "outputs": [],
   "source": [
    "def insere(elt,L):\n",
    "    k=len(L)\n",
    "    L.append(elt)\n",
    "    while (k>0) and (L[k-1]>L[k]):\n",
    "        L[k-1],L[k]=L[k],L[k-1]\n",
    "        k-=1"
   ]
  },
  {
   "cell_type": "code",
   "execution_count": null,
   "metadata": {
    "collapsed": true,
    "slideshow": {
     "slide_type": "skip"
    }
   },
   "outputs": [],
   "source": [
    "# A vous"
   ]
  },
  {
   "cell_type": "code",
   "execution_count": 83,
   "metadata": {
    "collapsed": true,
    "slideshow": {
     "slide_type": "skip"
    }
   },
   "outputs": [],
   "source": [
    "#Version non en place annulée\n",
    "def proches_voisins(E,k,x):#On peut rajouter la distance en paramètre\n",
    "    Min=[]\n",
    "    for i in range(k):\n",
    "        Min=insere((dist(E[i],x),i),Min)\n",
    "    for j in range(k,len(E)):\n",
    "        d=dist(x,E[j])\n",
    "        if Min[-1][0]>d:\n",
    "            Min.pop()\n",
    "            Min=insere((d,j),Min)\n",
    "    return Min"
   ]
  },
  {
   "cell_type": "code",
   "execution_count": 9,
   "metadata": {
    "slideshow": {
     "slide_type": "subslide"
    }
   },
   "outputs": [],
   "source": [
    "def proches_voisins(E,k,x):#On peut rajouter la distance en paramètre\n",
    "    Min=[]\n",
    "    for i in range(k):\n",
    "        insere((dist(E[i],x),i),Min)#La distance en premier pour l'ordre lexicographique et qu'insere fonctionne\n",
    "    for j in range(k,len(E)):\n",
    "        d=dist(x,E[j])\n",
    "        if Min[-1][0]>d:\n",
    "            Min.pop()\n",
    "            insere((d,j),Min)\n",
    "    return Min"
   ]
  },
  {
   "cell_type": "code",
   "execution_count": 12,
   "metadata": {
    "scrolled": true,
    "slideshow": {
     "slide_type": "subslide"
    }
   },
   "outputs": [
    {
     "data": {
      "text/plain": [
       "[(1.0, 3),\n",
       " (1.4142135623730951, 4),\n",
       " (2.23606797749979, 2),\n",
       " (2.23606797749979, 5),\n",
       " (2.23606797749979, 7)]"
      ]
     },
     "execution_count": 12,
     "metadata": {},
     "output_type": "execute_result"
    }
   ],
   "source": [
    "E=[(1,3),(2,1),(2,4),(4,2),(5,2),(6,4),(7,6),(5,5)]\n",
    "C=[0,0,0,1,1,1,1,1]\n",
    "x=(4,3)\n",
    "proches_voisins(E,5,(4,3))"
   ]
  },
  {
   "cell_type": "markdown",
   "metadata": {},
   "source": [
    "$\\rightarrow$ Complexité linéaire"
   ]
  },
  {
   "cell_type": "markdown",
   "metadata": {
    "slideshow": {
     "slide_type": "subslide"
    }
   },
   "source": [
    "#### Heuristique plus simple\n",
    "* On établit par simple parcours la liste des couples (distance à x,indice).\n",
    "* On trie.\n",
    "* On ne garde que le $k$ premiers éléments."
   ]
  },
  {
   "cell_type": "markdown",
   "metadata": {
    "slideshow": {
     "slide_type": "fragment"
    }
   },
   "source": [
    "$\\rightarrow$ Complexité quadratique ou en $O(n\\ln(n))$"
   ]
  },
  {
   "cell_type": "code",
   "execution_count": 8,
   "metadata": {
    "slideshow": {
     "slide_type": "subslide"
    }
   },
   "outputs": [],
   "source": [
    "def proches_vois_complexe(E,k,x):\n",
    "    M=[]\n",
    "    for i in range(len(E)):\n",
    "        M.append((dist(x,E[i]),i))\n",
    "    M.sorted()\n",
    "    return M[:k]"
   ]
  },
  {
   "cell_type": "markdown",
   "metadata": {
    "slideshow": {
     "slide_type": "subslide"
    }
   },
   "source": [
    "### Fonction finale.\n",
    "* Détermination de :\n",
    "    * la caractéristique majoritaire \n",
    "    * la valeur (moyenne à attribeur à la caractéristique de x\n",
    "* Parmi les k plus proches voisins"
   ]
  },
  {
   "cell_type": "code",
   "execution_count": null,
   "metadata": {
    "collapsed": true,
    "slideshow": {
     "slide_type": "skip"
    }
   },
   "outputs": [],
   "source": [
    "# A vous\n",
    "def caracterise(x,E,k,C):"
   ]
  },
  {
   "cell_type": "code",
   "execution_count": 7,
   "metadata": {
    "slideshow": {
     "slide_type": "subslide"
    }
   },
   "outputs": [],
   "source": [
    "def caracterise(x,E,k,C):\n",
    "    N=max(C)\n",
    "    Ldecompte=[0 for i in range(N+1)]\n",
    "    Voisins=proches_voisins(E,k,x)\n",
    "    for elt in Voisins:\n",
    "        d,i=elt#unpacking\n",
    "        Ldecompte[C[i]]+=1\n",
    "    car,val=0,Ldecompte[0]\n",
    "    for i in range(len(Ldecompte)):#recherche de maximum\n",
    "        num=Ldecompte[i]\n",
    "        if num>val:\n",
    "            car,val=i,num\n",
    "    return car     "
   ]
  },
  {
   "cell_type": "code",
   "execution_count": 21,
   "metadata": {
    "slideshow": {
     "slide_type": "subslide"
    }
   },
   "outputs": [
    {
     "data": {
      "text/plain": [
       "1"
      ]
     },
     "execution_count": 21,
     "metadata": {},
     "output_type": "execute_result"
    }
   ],
   "source": [
    "   \n",
    "caracterise(x,E,5,C)"
   ]
  },
  {
   "cell_type": "code",
   "execution_count": 6,
   "metadata": {
    "slideshow": {
     "slide_type": "subslide"
    }
   },
   "outputs": [],
   "source": [
    "#C'est plus pratique et lisible avec un dictionnaire\n",
    "def caracterise2(x,E,k,C):\n",
    "    dico={}\n",
    "    Voisins=proches_voisins(E,k,x)\n",
    "    for elt in Voisins:\n",
    "        d,i=elt\n",
    "        dico[C[i]]=dico.get(C[i],0)+1#crée ce qu'il faut\n",
    "    maxi,ind=-1,-1\n",
    "    for elt in dico.keys():\n",
    "        if dico[elt]>maxi:\n",
    "            maxi,ind=dico[elt],elt\n",
    "    return ind"
   ]
  },
  {
   "cell_type": "code",
   "execution_count": 113,
   "metadata": {
    "slideshow": {
     "slide_type": "subslide"
    }
   },
   "outputs": [
    {
     "data": {
      "text/plain": [
       "1"
      ]
     },
     "execution_count": 113,
     "metadata": {},
     "output_type": "execute_result"
    }
   ],
   "source": [
    "caracterise2(x,E,5,C)"
   ]
  },
  {
   "cell_type": "code",
   "execution_count": 114,
   "metadata": {
    "collapsed": true,
    "slideshow": {
     "slide_type": "subslide"
    }
   },
   "outputs": [],
   "source": [
    "def regression(x,E,k,C):\n",
    "    Voisins=proches_voisins(E,k,x)\n",
    "    accu=0\n",
    "    for elt in Voisins:\n",
    "        d,i=elt\n",
    "        accu+=C[i]\n",
    "    return (1/float(k))*accu"
   ]
  },
  {
   "cell_type": "markdown",
   "metadata": {
    "slideshow": {
     "slide_type": "subslide"
    }
   },
   "source": [
    "#### Sur un exemple plus consistant"
   ]
  },
  {
   "cell_type": "code",
   "execution_count": 18,
   "metadata": {},
   "outputs": [
    {
     "data": {
      "text/html": [
       "\n",
       "        <iframe\n",
       "            width=\"300\"\n",
       "            height=\"250\"\n",
       "            src=\"./iris.jpg\"\n",
       "            frameborder=\"0\"\n",
       "            allowfullscreen\n",
       "        ></iframe>\n",
       "        "
      ],
      "text/plain": [
       "<IPython.lib.display.IFrame at 0x103900d90>"
      ]
     },
     "execution_count": 18,
     "metadata": {},
     "output_type": "execute_result"
    }
   ],
   "source": [
    "IFrame(\"./iris.jpg\", width=300, height=250)"
   ]
  },
  {
   "cell_type": "markdown",
   "metadata": {
    "slideshow": {
     "slide_type": "subslide"
    }
   },
   "source": [
    "#### IRIS DE FISHER\n",
    "* Ronald Fisher (ou Edgar Anderson), 1936\n",
    "* Caractéristiques morphologiques $\\leadsto$ Taxonomie des fleurs\n",
    "\n",
    "\n",
    "* Fisher : analyse discriminante linéaire\n",
    "* Aujourd'hui : modèle de <i>data mining</i> (fouille de données)"
   ]
  },
  {
   "cell_type": "code",
   "execution_count": 24,
   "metadata": {
    "slideshow": {
     "slide_type": "subslide"
    }
   },
   "outputs": [
    {
     "data": {
      "image/png": "[encoded data removed]",
      "text/plain": [
       "<Figure size 432x288 with 1 Axes>"
      ]
     },
     "metadata": {
      "needs_background": "light"
     },
     "output_type": "display_data"
    }
   ],
   "source": [
    "#iris de Fisher\n",
    "from sklearn import datasets\n",
    "iris = datasets.load_iris()\n",
    "X,y = iris.data[:, :2],iris.target\n",
    "\n",
    "x_min, x_max, y_min, y_max = X[:, 0].min() - .5, X[:, 0].max() + .5,X[:, 1].min() - .5, X[:, 1].max() + .5\n",
    "\n",
    "plt.cla()\n",
    "plt.scatter(X[:, 0], X[:, 1], c=y, cmap=plt.cm.viridis,\n",
    "            edgecolor='k')\n",
    "plt.xlabel('longueur sepale')\n",
    "plt.ylabel('largeur sepale')\n",
    "plt.xlim(x_min, x_max)\n",
    "plt.ylim(y_min, y_max)\n",
    "#plt.xticks(())\n",
    "#plt.yticks(())\n",
    "plt.show()"
   ]
  },
  {
   "cell_type": "markdown",
   "metadata": {
    "slideshow": {
     "slide_type": "subslide"
    }
   },
   "source": [
    "#### Petit focus sur les types et contenus"
   ]
  },
  {
   "cell_type": "code",
   "execution_count": 14,
   "metadata": {
    "slideshow": {
     "slide_type": "fragment"
    }
   },
   "outputs": [
    {
     "data": {
      "text/plain": [
       "(array([0, 0, 0, 0, 0, 0, 0, 0, 0, 0, 0, 0, 0, 0, 0, 0, 0, 0, 0, 0, 0, 0,\n",
       "        0, 0, 0, 0, 0, 0, 0, 0, 0, 0, 0, 0, 0, 0, 0, 0, 0, 0, 0, 0, 0, 0,\n",
       "        0, 0, 0, 0, 0, 0, 1, 1, 1, 1, 1, 1, 1, 1, 1, 1, 1, 1, 1, 1, 1, 1,\n",
       "        1, 1, 1, 1, 1, 1, 1, 1, 1, 1, 1, 1, 1, 1, 1, 1, 1, 1, 1, 1, 1, 1,\n",
       "        1, 1, 1, 1, 1, 1, 1, 1, 1, 1, 1, 1, 2, 2, 2, 2, 2, 2, 2, 2, 2, 2,\n",
       "        2, 2, 2, 2, 2, 2, 2, 2, 2, 2, 2, 2, 2, 2, 2, 2, 2, 2, 2, 2, 2, 2,\n",
       "        2, 2, 2, 2, 2, 2, 2, 2, 2, 2, 2, 2, 2, 2, 2, 2, 2, 2]),\n",
       " array([[5.1, 3.5],\n",
       "        [4.9, 3. ],\n",
       "        [4.7, 3.2],\n",
       "        [4.6, 3.1],\n",
       "        [5. , 3.6],\n",
       "        [5.4, 3.9],\n",
       "        [4.6, 3.4],\n",
       "        [5. , 3.4],\n",
       "        [4.4, 2.9],\n",
       "        [4.9, 3.1],\n",
       "        [5.4, 3.7],\n",
       "        [4.8, 3.4],\n",
       "        [4.8, 3. ],\n",
       "        [4.3, 3. ],\n",
       "        [5.8, 4. ],\n",
       "        [5.7, 4.4],\n",
       "        [5.4, 3.9],\n",
       "        [5.1, 3.5],\n",
       "        [5.7, 3.8],\n",
       "        [5.1, 3.8],\n",
       "        [5.4, 3.4],\n",
       "        [5.1, 3.7],\n",
       "        [4.6, 3.6],\n",
       "        [5.1, 3.3],\n",
       "        [4.8, 3.4],\n",
       "        [5. , 3. ],\n",
       "        [5. , 3.4],\n",
       "        [5.2, 3.5],\n",
       "        [5.2, 3.4],\n",
       "        [4.7, 3.2],\n",
       "        [4.8, 3.1],\n",
       "        [5.4, 3.4],\n",
       "        [5.2, 4.1],\n",
       "        [5.5, 4.2],\n",
       "        [4.9, 3.1],\n",
       "        [5. , 3.2],\n",
       "        [5.5, 3.5],\n",
       "        [4.9, 3.6],\n",
       "        [4.4, 3. ],\n",
       "        [5.1, 3.4],\n",
       "        [5. , 3.5],\n",
       "        [4.5, 2.3],\n",
       "        [4.4, 3.2],\n",
       "        [5. , 3.5],\n",
       "        [5.1, 3.8],\n",
       "        [4.8, 3. ],\n",
       "        [5.1, 3.8],\n",
       "        [4.6, 3.2],\n",
       "        [5.3, 3.7],\n",
       "        [5. , 3.3],\n",
       "        [7. , 3.2],\n",
       "        [6.4, 3.2],\n",
       "        [6.9, 3.1],\n",
       "        [5.5, 2.3],\n",
       "        [6.5, 2.8],\n",
       "        [5.7, 2.8],\n",
       "        [6.3, 3.3],\n",
       "        [4.9, 2.4],\n",
       "        [6.6, 2.9],\n",
       "        [5.2, 2.7],\n",
       "        [5. , 2. ],\n",
       "        [5.9, 3. ],\n",
       "        [6. , 2.2],\n",
       "        [6.1, 2.9],\n",
       "        [5.6, 2.9],\n",
       "        [6.7, 3.1],\n",
       "        [5.6, 3. ],\n",
       "        [5.8, 2.7],\n",
       "        [6.2, 2.2],\n",
       "        [5.6, 2.5],\n",
       "        [5.9, 3.2],\n",
       "        [6.1, 2.8],\n",
       "        [6.3, 2.5],\n",
       "        [6.1, 2.8],\n",
       "        [6.4, 2.9],\n",
       "        [6.6, 3. ],\n",
       "        [6.8, 2.8],\n",
       "        [6.7, 3. ],\n",
       "        [6. , 2.9],\n",
       "        [5.7, 2.6],\n",
       "        [5.5, 2.4],\n",
       "        [5.5, 2.4],\n",
       "        [5.8, 2.7],\n",
       "        [6. , 2.7],\n",
       "        [5.4, 3. ],\n",
       "        [6. , 3.4],\n",
       "        [6.7, 3.1],\n",
       "        [6.3, 2.3],\n",
       "        [5.6, 3. ],\n",
       "        [5.5, 2.5],\n",
       "        [5.5, 2.6],\n",
       "        [6.1, 3. ],\n",
       "        [5.8, 2.6],\n",
       "        [5. , 2.3],\n",
       "        [5.6, 2.7],\n",
       "        [5.7, 3. ],\n",
       "        [5.7, 2.9],\n",
       "        [6.2, 2.9],\n",
       "        [5.1, 2.5],\n",
       "        [5.7, 2.8],\n",
       "        [6.3, 3.3],\n",
       "        [5.8, 2.7],\n",
       "        [7.1, 3. ],\n",
       "        [6.3, 2.9],\n",
       "        [6.5, 3. ],\n",
       "        [7.6, 3. ],\n",
       "        [4.9, 2.5],\n",
       "        [7.3, 2.9],\n",
       "        [6.7, 2.5],\n",
       "        [7.2, 3.6],\n",
       "        [6.5, 3.2],\n",
       "        [6.4, 2.7],\n",
       "        [6.8, 3. ],\n",
       "        [5.7, 2.5],\n",
       "        [5.8, 2.8],\n",
       "        [6.4, 3.2],\n",
       "        [6.5, 3. ],\n",
       "        [7.7, 3.8],\n",
       "        [7.7, 2.6],\n",
       "        [6. , 2.2],\n",
       "        [6.9, 3.2],\n",
       "        [5.6, 2.8],\n",
       "        [7.7, 2.8],\n",
       "        [6.3, 2.7],\n",
       "        [6.7, 3.3],\n",
       "        [7.2, 3.2],\n",
       "        [6.2, 2.8],\n",
       "        [6.1, 3. ],\n",
       "        [6.4, 2.8],\n",
       "        [7.2, 3. ],\n",
       "        [7.4, 2.8],\n",
       "        [7.9, 3.8],\n",
       "        [6.4, 2.8],\n",
       "        [6.3, 2.8],\n",
       "        [6.1, 2.6],\n",
       "        [7.7, 3. ],\n",
       "        [6.3, 3.4],\n",
       "        [6.4, 3.1],\n",
       "        [6. , 3. ],\n",
       "        [6.9, 3.1],\n",
       "        [6.7, 3.1],\n",
       "        [6.9, 3.1],\n",
       "        [5.8, 2.7],\n",
       "        [6.8, 3.2],\n",
       "        [6.7, 3.3],\n",
       "        [6.7, 3. ],\n",
       "        [6.3, 2.5],\n",
       "        [6.5, 3. ],\n",
       "        [6.2, 3.4],\n",
       "        [5.9, 3. ]]))"
      ]
     },
     "execution_count": 14,
     "metadata": {},
     "output_type": "execute_result"
    }
   ],
   "source": [
    "y,X"
   ]
  },
  {
   "cell_type": "code",
   "execution_count": 16,
   "metadata": {
    "slideshow": {
     "slide_type": "fragment"
    }
   },
   "outputs": [
    {
     "data": {
      "text/plain": [
       "array(['setosa', 'versicolor', 'virginica'], dtype='|S10')"
      ]
     },
     "execution_count": 16,
     "metadata": {},
     "output_type": "execute_result"
    }
   ],
   "source": [
    "Noms=iris.target_names\n",
    "Noms"
   ]
  },
  {
   "cell_type": "code",
   "execution_count": 23,
   "metadata": {
    "slideshow": {
     "slide_type": "subslide"
    }
   },
   "outputs": [
    {
     "data": {
      "text/plain": [
       "'versicolor'"
      ]
     },
     "execution_count": 23,
     "metadata": {},
     "output_type": "execute_result"
    }
   ],
   "source": [
    "Noms[caracterise(np.array([6,3]),X,8,y)]#Importants changements selon les valeurs de 1<=k<=7"
   ]
  },
  {
   "cell_type": "markdown",
   "metadata": {
    "slideshow": {
     "slide_type": "subslide"
    }
   },
   "source": [
    "### Limites et solutions\n",
    "* Bruit dans les classes\n",
    "* Classe majoritaire en nombre    \n",
    "$\\rightarrow$ pondérations possibles    \n",
    "$\\rightarrow$ coefficients forts $\\leftrightarrow$ proximité\n",
    "* Choix de $k$ :\n",
    "    * $k$ grand    \n",
    "    $\\rightarrow$ Moins sensible au bruit    \n",
    "    $\\rightarrow$ Adapté à un grand corpus d'apprentissage\n",
    "    * $k$ petit :    \n",
    "    $\\rightarrow$ Structures fines    \n",
    "    $\\rightarrow$ Nécessaire pour des petits corpus d'apprentissage  \n",
    "    \n",
    "$\\rightarrow$ Choix utilisateur/heuristique"
   ]
  },
  {
   "cell_type": "markdown",
   "metadata": {
    "slideshow": {
     "slide_type": "subslide"
    }
   },
   "source": [
    "### Fonctions intégrées\n",
    "https://scikit-learn.org/stable/modules/neighbors.html\n",
    "https://scikit-learn.org/stable/modules/generated/sklearn.neighbors.KNeighborsClassifier.html\n",
    "* $\\verb\"scikit-learn\"$\n",
    "    * $\\verb\"sklearn.neighbors\"$ (package)\n",
    "    * $\\verb\"NearestNeighbors\"$\n",
    "    * $\\verb\"KNeighborsClassifier\"$"
   ]
  },
  {
   "cell_type": "code",
   "execution_count": 32,
   "metadata": {
    "slideshow": {
     "slide_type": "subslide"
    }
   },
   "outputs": [
    {
     "data": {
      "text/plain": [
       "array([1])"
      ]
     },
     "execution_count": 32,
     "metadata": {},
     "output_type": "execute_result"
    }
   ],
   "source": [
    "from sklearn.neighbors import KNeighborsClassifier\n",
    "E=[[1,3],[2,1],[2,4],[4,2],[5,2],[6,4],[7,6],[5,5]]\n",
    "C=[0,0,0,1,1,1,1,1]\n",
    "x=[4,3]\n",
    "neigh = KNeighborsClassifier(n_neighbors=5)\n",
    "neigh.fit(E, C)\n",
    "neigh.predict(np.array(x).reshape(1,-1))"
   ]
  },
  {
   "cell_type": "markdown",
   "metadata": {
    "slideshow": {
     "slide_type": "slide"
    }
   },
   "source": [
    "## <center> ALGORITHMES GLOUTONS (Greedy)</center>"
   ]
  },
  {
   "cell_type": "code",
   "execution_count": null,
   "metadata": {
    "collapsed": true
   },
   "outputs": [],
   "source": [
    "#Sac a dos\n",
    "#Rendu monnaie\n",
    "#Voyageur de commerce : non optimalité"
   ]
  },
  {
   "cell_type": "markdown",
   "metadata": {
    "collapsed": true,
    "slideshow": {
     "slide_type": "subslide"
    }
   },
   "source": [
    "### Heuristique gloutonne :\n",
    "* On ne revient pas sur ses choix    \n",
    "$\\rightarrow$ ce qui est mangé ne ressort pas\n",
    "* Choix d'optimum local"
   ]
  },
  {
   "cell_type": "markdown",
   "metadata": {
    "collapsed": true,
    "slideshow": {
     "slide_type": "slide"
    }
   },
   "source": [
    "### Ex : Rendu de monnaie\n",
    "* Rendu de monnaie avec système de pièces :    \n",
    "* <b>Heuristique gloutonne</b> : on rend à chaque étape la plus grosse pièce possible.\n",
    "    * Système 1,2,5,10,20,50,100,200    \n",
    "    $\\rightarrow$ heuristique optimale.\n",
    "    * Système 1,3,4    \n",
    "    $\\rightarrow$ 6=4+1+1 (glouton) 6=3+3 (optimal)"
   ]
  },
  {
   "cell_type": "markdown",
   "metadata": {
    "collapsed": true,
    "slideshow": {
     "slide_type": "subslide"
    }
   },
   "source": [
    "#### Données et résultat.\n",
    "* Données : \n",
    "    * Système : Une liste $L$ d'entiers naturels non nuls triée (ordre croissant)    \n",
    "    $\\rightarrow$ Premier élément 1.    \n",
    "    $\\rightarrow$ Rendu toujours possible.\n",
    "    * Quantité r à rendre : entier naturel non nul\n",
    "* Résulat : liste de nombres    "
   ]
  },
  {
   "cell_type": "markdown",
   "metadata": {
    "collapsed": true,
    "slideshow": {
     "slide_type": "subslide"
    }
   },
   "source": [
    "* Faire un décompte jusqu'à 0\n",
    "* Mémoriser la dernière pièce rendue     \n",
    "$\\rightarrow$ inutile de parcourir toute la liste L à chaque fois."
   ]
  },
  {
   "cell_type": "code",
   "execution_count": null,
   "metadata": {
    "collapsed": true
   },
   "outputs": [],
   "source": [
    "# A vous"
   ]
  },
  {
   "cell_type": "code",
   "execution_count": 27,
   "metadata": {
    "slideshow": {
     "slide_type": "subslide"
    }
   },
   "outputs": [
    {
     "data": {
      "text/plain": [
       "[50, 20, 20, 2, 1]"
      ]
     },
     "execution_count": 27,
     "metadata": {},
     "output_type": "execute_result"
    }
   ],
   "source": [
    "def rendu(r,L):\n",
    "    decompte=r\n",
    "    Rendu=[]\n",
    "    repere=len(L)-1\n",
    "    while (decompte>0):\n",
    "        booleen=True\n",
    "        while booleen:\n",
    "            if decompte-L[repere]>=0:\n",
    "                booleen=False\n",
    "            else:\n",
    "                repere-=1\n",
    "        Rendu.append(L[repere])\n",
    "        decompte-=L[repere]\n",
    "    return Rendu\n",
    "L=[1,2,5,10,20,50]\n",
    "rendu(93,L)"
   ]
  },
  {
   "cell_type": "markdown",
   "metadata": {
    "collapsed": true,
    "slideshow": {
     "slide_type": "slide"
    }
   },
   "source": [
    "### Ex : Problème du voyageur de commerce\n",
    "* Parcourir $N$ villes/points une unique fois en minimisant la distance parcourue.    \n",
    "* <b>Heuristique gloutonne</b> : on choisit à chaque étape la ville la plus proche du point actuel.    \n",
    "$\\rightarrow$ Connaître les distances    \n",
    "$\\rightarrow$ Distances de Manhattan, euclidienne    \n",
    "$\\rightarrow$ Tableau (bidimensionnel des distances)"
   ]
  },
  {
   "cell_type": "code",
   "execution_count": 24,
   "metadata": {
    "slideshow": {
     "slide_type": "subslide"
    }
   },
   "outputs": [
    {
     "data": {
      "image/png": "[encoded data removed]",
      "text/plain": [
       "<matplotlib.figure.Figure at 0x108af5850>"
      ]
     },
     "metadata": {},
     "output_type": "display_data"
    }
   ],
   "source": [
    "lx=[0,1,4,5]\n",
    "ly=[2,0,4,1]\n",
    "\n",
    "plt.subplot(121)\n",
    "plt.scatter(lx,ly,c='k')\n",
    "plt.plot([0,1,1],[2,2,0],'y');plt.plot([0,4,4],[2,2,4],'g');plt.plot([0,0,5],[2,1,1],'b');plt.plot([1,1,4],[0,4,4],'r');plt.plot([1,5,5],[0,0,1],'k');plt.plot([4,5,5],[4,4,1],'y');\n",
    "plt.subplot(122)\n",
    "plt.scatter(lx,ly,c='k')\n",
    "plt.plot([0,1],[2,0],'c');plt.plot([0,4],[2,4],'c');plt.plot([0,5],[2,1],'c');plt.plot([1,4],[0,4],'c');plt.plot([1,5],[0,1],'c');plt.plot([4,5],[4,1],'c');\n",
    "plt.show()"
   ]
  },
  {
   "cell_type": "markdown",
   "metadata": {
    "collapsed": true,
    "slideshow": {
     "slide_type": "subslide"
    }
   },
   "source": [
    "#### Données et résultat.\n",
    "* Données : \n",
    "    * Matrice des distances : Une liste $Dist$ de $N$ listes à $N$ éléments    \n",
    "    $\\rightarrow$ $Dist[i][j]$ : distance de la ville $i$ à la ville $j$.    \n",
    "    * Point de départ $orig$ (facultatif) : l'un des éléments de $[\\! |0, N-1|\\! ]$.\n",
    "* Résulat : liste contenant une permutation de $[\\! |0, N-1|\\! ]$    \n",
    "$\\rightarrow$ Ordre de parcours (g$ \\rightarrow$ d)   \n",
    "$\\rightarrow$ Possibilité de renvoyer aussi la distance parcourue."
   ]
  },
  {
   "cell_type": "markdown",
   "metadata": {
    "collapsed": true,
    "slideshow": {
     "slide_type": "subslide"
    }
   },
   "source": [
    "* Sous-fonction donnant l'indice du plus proche voisin non visité    \n",
    "$\\rightarrow$ indice $cour$ de la position courante    \n",
    "$\\rightarrow$ Liste $Visites$    \n",
    "$\\rightarrow$ Matrice $Dist$\n",
    "* Fonction principale    \n",
    "$\\rightarrow$ Remplit Visites    \n",
    "$\\rightarrow$ A partir de $[Orig]$."
   ]
  },
  {
   "cell_type": "code",
   "execution_count": null,
   "metadata": {
    "collapsed": true,
    "slideshow": {
     "slide_type": "subslide"
    }
   },
   "outputs": [],
   "source": [
    "# A vous : + proche voisin non visite"
   ]
  },
  {
   "cell_type": "code",
   "execution_count": 28,
   "metadata": {
    "slideshow": {
     "slide_type": "subslide"
    }
   },
   "outputs": [],
   "source": [
    "def proche_vois_possible(cour,Dist,Visites):\n",
    "    N=len(Dist)\n",
    "    val=max(Dist[cour])\n",
    "    ind=-1#changera toujours\n",
    "    for i in range(N):\n",
    "        if (Dist[cour][i]<=val) and (not i in Visites):#large important pour que ind change\n",
    "            val,ind=Dist[cour][i],i\n",
    "    return ind"
   ]
  },
  {
   "cell_type": "code",
   "execution_count": 27,
   "metadata": {
    "collapsed": true,
    "slideshow": {
     "slide_type": "subslide"
    }
   },
   "outputs": [],
   "source": [
    "# A vous : + court chemin"
   ]
  },
  {
   "cell_type": "code",
   "execution_count": 29,
   "metadata": {
    "slideshow": {
     "slide_type": "subslide"
    }
   },
   "outputs": [],
   "source": [
    "def court_chemin(orig,Dist):\n",
    "    Visites=[orig]\n",
    "    d=0\n",
    "    N=len(Dist)\n",
    "    while len(Visites)<N:\n",
    "        i=proche_vois_possible(Visites[-1],Dist,Visites)\n",
    "        d+=Dist[Visites[-1]][i]\n",
    "        Visites.append(i)\n",
    "    return Visites,d"
   ]
  },
  {
   "cell_type": "code",
   "execution_count": 30,
   "metadata": {
    "slideshow": {
     "slide_type": "subslide"
    }
   },
   "outputs": [
    {
     "data": {
      "text/plain": [
       "([[0.0, 2.23606797749979, 4.47213595499958, 5.0990195135927845],\n",
       "  [2.23606797749979, 0.0, 5.0, 4.123105625617661],\n",
       "  [4.47213595499958, 5.0, 0.0, 3.1622776601683795],\n",
       "  [5.0990195135927845, 4.123105625617661, 3.1622776601683795, 0.0]],\n",
       " [[0, 3, 6, 6], [3, 0, 7, 5], [6, 7, 0, 4], [6, 5, 4, 0]])"
      ]
     },
     "execution_count": 30,
     "metadata": {},
     "output_type": "execute_result"
    }
   ],
   "source": [
    "Lpoints=[[0,2],[1,0],[4,4],[5,1]]\n",
    "def deucl(x,y):\n",
    "    n=len(x)\n",
    "    assert n==len(y)\n",
    "    return np.sqrt( sum([ (x[i]-y[i])**2 for i in range(n) ]))\n",
    "def dman(x,y):\n",
    "    n=len(x)\n",
    "    assert n==len(y)\n",
    "    return sum([abs(x[i]-y[i]) for i in range(n)] )\n",
    "Dist1=[[ deucl(Lpoints[i],Lpoints[j]) for i in range(len(Lpoints))] for j  in range(len(Lpoints))]\n",
    "Dist2=[[ dman(Lpoints[i],Lpoints[j]) for i in range(len(Lpoints))] for j  in range(len(Lpoints))]\n",
    "Dist1,Dist2"
   ]
  },
  {
   "cell_type": "code",
   "execution_count": 32,
   "metadata": {},
   "outputs": [
    {
     "data": {
      "text/plain": [
       "(([0, 1, 3, 2], 9.5214512632858295), ([0, 1, 3, 2], 12))"
      ]
     },
     "execution_count": 32,
     "metadata": {},
     "output_type": "execute_result"
    }
   ],
   "source": [
    "court_chemin(0,Dist1),court_chemin(0,Dist2)"
   ]
  },
  {
   "cell_type": "markdown",
   "metadata": {
    "slideshow": {
     "slide_type": "subslide"
    }
   },
   "source": [
    "* Non optimalité globale :\n",
    "    * départ $(40,0)$\n",
    "    * points de passage : $(0,0)$, $(30,0)$, $(70,0)$    \n",
    "* Algorithme $(40,0)\\rightarrow (30,0)\\rightarrow (0,0)\\rightarrow (70,0)$    \n",
    "$\\rightarrow$ distance 110\n",
    "* Choix optimal : $(40,0)\\rightarrow (70,0)\\rightarrow (30,0)\\rightarrow (0,0)$    \n",
    "$\\rightarrow$ distance 100"
   ]
  },
  {
   "cell_type": "code",
   "execution_count": 198,
   "metadata": {
    "collapsed": true,
    "slideshow": {
     "slide_type": "subslide"
    }
   },
   "outputs": [],
   "source": [
    "Lp=[[0,0],[0,30],[0,40],[0,70]]\n",
    "Dist3=[[ dman(Lp[i],Lp[j]) for i in range(len(Lp))] for j  in range(len(Lp))]"
   ]
  },
  {
   "cell_type": "code",
   "execution_count": 201,
   "metadata": {},
   "outputs": [
    {
     "data": {
      "text/plain": [
       "([2, 1, 0, 3], 110)"
      ]
     },
     "execution_count": 201,
     "metadata": {},
     "output_type": "execute_result"
    }
   ],
   "source": [
    "court_chemin(2,Dist3)"
   ]
  },
  {
   "cell_type": "markdown",
   "metadata": {
    "slideshow": {
     "slide_type": "slide"
    }
   },
   "source": [
    "### Ex : Problème du sac à dos\n",
    "* Optimisation combinatoire sous contrainte.\n",
    "* Sac à dos : poids maximal $P_{max}$. \n",
    "* Collection (ensemble fini) $\\mathcal{C}$ d'objets     \n",
    "$\\rightarrow$ Poids (nombre)   \n",
    "$\\rightarrow$ Valeur (nombre)    \n",
    "$\\rightarrow$ $\\mathcal{C}$ $\\leftrightarrow$ Liste L de 2-uplets\n",
    "\n",
    "* Problème (KP problem, comme \"knappsack\") : remplir le sac    \n",
    "$\\rightarrow$ Maximiser la valeur du contenu.    \n",
    "$\\rightarrow$ Sans dépasser $P_{max}$."
   ]
  },
  {
   "cell_type": "markdown",
   "metadata": {
    "slideshow": {
     "slide_type": "subslide"
    }
   },
   "source": [
    "* Notation : pour  $c\\in \\mathcal{C}$ :    \n",
    "$\\rightarrow$ $v_c>0$ : valeur     \n",
    "$\\rightarrow$ $p_c>0$ : poids\n",
    "\n",
    "\n",
    "\n",
    "* Recherche sous-collection $\\mathcal{D}$ de $\\mathcal{C}$ telle que :\n",
    "    * $\\sum\\limits_{d\\in \\mathcal{D}} p_d\\leq P_{max}$.\n",
    "    * $\\forall \\mathcal{D}'\\subset \\mathcal{C}$ telle que $\\sum\\limits_{d'\\in \\mathcal{D}'} p_{d'}\\leq P_{max}$ :$$ V_{\\mathcal{D}'}=\\sum\\limits_{d'\\in \\mathcal{D}'} v_{d'} \\leq \\sum\\limits_{d\\in \\mathcal{D}} v_{d}=V_{\\mathcal{D}}$$\n",
    "\n",
    "* $V_{\\mathcal{D}'}$ $\\leftrightarrow$ valeur de $\\mathcal{D}'$"
   ]
  },
  {
   "cell_type": "markdown",
   "metadata": {},
   "source": [
    "* <b>Heuristique gloutonne 1</b> :\n",
    "    * On remplit à chaque étape par l'objet de plus grande valeur qui rentre    \n",
    "    $\\rightarrow$ analogue au rendu de monnaie\n",
    "* <b>Heuristique gloutonne 2</b> :\n",
    "    * On remplit à chaque étape par l'objet de plus grande valeur qui rentre    \n",
    "    $\\rightarrow$ analogue au plus court chemin\n",
    "* <b>Heuristique gloutonne 3</b> :\n",
    "    * On remplit à chaque étape par l'objet de plus grand ration valeur/poids qui rentre"
   ]
  },
  {
   "cell_type": "code",
   "execution_count": 92,
   "metadata": {
    "collapsed": true,
    "slideshow": {
     "slide_type": "skip"
    }
   },
   "outputs": [],
   "source": [
    "# A vous : heuristique 3\n",
    "# sous-fonctions ?"
   ]
  },
  {
   "cell_type": "code",
   "execution_count": 2,
   "metadata": {
    "collapsed": true,
    "slideshow": {
     "slide_type": "subslide"
    }
   },
   "outputs": [],
   "source": [
    "def classement(L):\n",
    "    M=[]\n",
    "    for i in range(len(L)):\n",
    "        v,p=L[i]\n",
    "        M.append((float(v)/p,i))\n",
    "    M.sort()\n",
    "    return M"
   ]
  },
  {
   "cell_type": "code",
   "execution_count": 1,
   "metadata": {
    "collapsed": true,
    "slideshow": {
     "slide_type": "subslide"
    }
   },
   "outputs": [],
   "source": [
    "def sac_a_dos(L,Pmax):\n",
    "    decompte=Pmax\n",
    "    Rempli=[]\n",
    "    Class=classement(L)\n",
    "    repere=len(Class)-1\n",
    "    while (repere>=0):\n",
    "        val,ind=Class[repere]\n",
    "        if (not ind in Rempli) and (decompte-L[ind][1]>=0):\n",
    "            Rempli.append(ind)\n",
    "            decompte-=L[ind][1]\n",
    "        repere-=1\n",
    "    return Rempli"
   ]
  },
  {
   "cell_type": "markdown",
   "metadata": {
    "slideshow": {
     "slide_type": "subslide"
    }
   },
   "source": [
    "* Non optimalité globale :\n",
    "    * 4 objets (0,1,2,3)\n",
    "    * (valeurs,poids) : $(6,13)$, $(4,12)$, $(3,8)$, $(3,10)$.    \n",
    "    $\\rightarrow$ rapports $0,46$, $0,33$, $0,375$, $0,3$\n",
    "    * Pmax=30\n",
    "* Algorithme 0 et 2   \n",
    "$\\rightarrow$ valeur 9\n",
    "* Choix optimal : 1,2 et 3   \n",
    "$\\rightarrow$ valeur 10"
   ]
  },
  {
   "cell_type": "code",
   "execution_count": 3,
   "metadata": {},
   "outputs": [
    {
     "data": {
      "text/plain": [
       "[0, 2]"
      ]
     },
     "execution_count": 3,
     "metadata": {},
     "output_type": "execute_result"
    }
   ],
   "source": [
    "L=[(6,13), (4,12), (3,8), (3,10)]\n",
    "sac_a_dos(L,30)"
   ]
  },
  {
   "cell_type": "markdown",
   "metadata": {
    "slideshow": {
     "slide_type": "subslide"
    }
   },
   "source": [
    "#### Solution à la non optimalité : Programmation Dynamique\n",
    "\n",
    "$\\leadsto$ En exercice (DM)"
   ]
  },
  {
   "cell_type": "markdown",
   "metadata": {
    "slideshow": {
     "slide_type": "skip"
    }
   },
   "source": [
    "#### Solution à la non optimalité : Programmation Dynamique\n",
    "* Typiquement :\n",
    "    * Diviser pour régner (top-down)\n",
    "    * Remontée avec mémoïsation (bottom-up) :     \n",
    "    $\\rightarrow$ Programmation Dynamique    \n",
    "    $\\rightarrow$ Possibilité de recourrir à un tableau dynamique... et de le remonter"
   ]
  },
  {
   "cell_type": "markdown",
   "metadata": {
    "slideshow": {
     "slide_type": "subslide"
    }
   },
   "source": [
    "#### Problème NP-complet.\n",
    "* On peut <b>vérifier</b> en temps polynomial qu'une solution l'est bien.    \n",
    "$\\rightarrow$ Avec de la chance - en tirant des valeurs au hasard...     \n",
    "$\\rightarrow$ il existe un algorithme polynomial permettant d'obtenir une solution\n",
    "* On ne sait pas s'il existe un algorithme polynomial pour <b>trouver</b> une solution\n",
    "* Le problème est le plus difficile de ces problèmes     \n",
    "$\\rightarrow$ si on sait le résoudre en temps polynomial    \n",
    "$\\rightarrow$ ce sera le cas pour tous les autres problèmes NP\n"
   ]
  },
  {
   "cell_type": "markdown",
   "metadata": {
    "slideshow": {
     "slide_type": "slide"
    }
   },
   "source": [
    "## <center>PROGRAMMATION DYNAMIQUE</center>"
   ]
  },
  {
   "cell_type": "markdown",
   "metadata": {
    "slideshow": {
     "slide_type": "subslide"
    }
   },
   "source": [
    "### Rappels\n",
    "* <b>Algorithme glouton</b> :    \n",
    "$\\rightarrow$ optimalité locale    \n",
    "$\\rightarrow$solution de proche en proche\n",
    "\n",
    "* <b>Diviser pour régner</b> : (<i>Top-down<i>)    \n",
    "$\\rightarrow$ division en sous-problèmes    \n",
    "$\\rightarrow$ <i>ne se chevauchant pas</i>  \n",
    "$\\rightarrow$ résolution    \n",
    "$\\rightarrow$ combinaison"
   ]
  },
  {
   "cell_type": "markdown",
   "metadata": {
    "slideshow": {
     "slide_type": "subslide"
    }
   },
   "source": [
    "* <b>Programmation dynamique</b> : (<i>Bottom-up</i>)   \n",
    "$\\rightarrow$ division en sous-problèmes    \n",
    "$\\rightarrow$ <i>se chevauchant</i>  \n",
    "$\\rightarrow$ stockage    \n",
    "$\\rightarrow$ résolution problèmes plus grands"
   ]
  },
  {
   "cell_type": "markdown",
   "metadata": {},
   "source": [
    "* <b>Méthode</b> :\n",
    "    * Définir les sous-problèmes\n",
    "    * Trouver une relation de récurrence\n",
    "    * Résoudre -- à partir des cas de base -- des problèmes plus grands"
   ]
  },
  {
   "cell_type": "code",
   "execution_count": 16,
   "metadata": {
    "collapsed": true,
    "slideshow": {
     "slide_type": "subslide"
    }
   },
   "outputs": [],
   "source": [
    "def fibo1(n):#Fibonacci naif\n",
    "    if n==0 or n==1:\n",
    "        return 1\n",
    "    else:\n",
    "        return fibo1(n-1)+fibo1(n-2)\n",
    "\n",
    "\n",
    "def fibo2(n):#Fibonacci memoise\n",
    "    if n==0 or n==1:\n",
    "        return 1\n",
    "    else:\n",
    "        L=[None]*(n+1)\n",
    "        L[0],L[1]=1,1\n",
    "        def fibomemo(L,n):\n",
    "            if L[n]==None:\n",
    "                L[n]=fibomemo(L,n-1)+fibomemo(L,n-2)\n",
    "            return L[n]\n",
    "        return fibomemo(L,n)"
   ]
  },
  {
   "cell_type": "code",
   "execution_count": 21,
   "metadata": {
    "slideshow": {
     "slide_type": "subslide"
    }
   },
   "outputs": [
    {
     "data": {
      "text/plain": [
       "(56.81453699999997, 9.000000000014552e-05)"
      ]
     },
     "execution_count": 21,
     "metadata": {},
     "output_type": "execute_result"
    }
   ],
   "source": [
    "import time#A ne surtout pas relancer !!!\n",
    "t1=time.clock()\n",
    "fibo1(40)\n",
    "t2=time.clock()\n",
    "t3=time.clock()\n",
    "fibo2(40)\n",
    "t4=time.clock()\n",
    "t2-t1,t4-t3"
   ]
  },
  {
   "cell_type": "code",
   "execution_count": null,
   "metadata": {
    "collapsed": true,
    "slideshow": {
     "slide_type": "skip"
    }
   },
   "outputs": [],
   "source": [
    "def fibo3(n):\n",
    "    L=[0]*(n+1)\n",
    "    L[0],L[1]=1,1\n",
    "    for i in range(2,n+1):\n",
    "        L[i]=L[i-1]+L[i-2]\n",
    "    return L[-1]\n",
    "\n",
    "#Encore mieux\n",
    "def fibo4(n):\n",
    "    a,b=1,1\n",
    "    for i in range(2,n+1):\n",
    "        a,b=a+b,b\n",
    "    return a"
   ]
  },
  {
   "cell_type": "markdown",
   "metadata": {
    "slideshow": {
     "slide_type": "subslide"
    }
   },
   "source": [
    "## Ex : Rendu de monnaie\n",
    "* Système de $n\\in \\mathbb{N}^\\star$ pièces (dont $1$)    \n",
    "$\\rightarrow$ notées $p_1,\\dots, p_n$\n",
    "* Notation $N_{i,s}$    \n",
    "$\\rightarrow$ nombre minimal de pièces    \n",
    "$\\rightarrow$ parmi $p_1,\\dots, p_i$\n",
    "$\\rightarrow$ pour constituer $s$    \n",
    "$\\rightarrow$ <i>Ex :</i>$N_{1,s}=s$ et $N_{i,0}=0$\n",
    "* Relation de récurrence :\n",
    "$$\n",
    "N{i,s}=\\begin{cases}\n",
    "N_{i-1,s}&\\text{ si }p_i>s\\\\\n",
    "\\min(N_{i-1,s},1+N_{i,s-p_i})\n",
    "\\end{cases}\n",
    "$$\n",
    "2 choix : \n",
    "* Soit $p_i$ intervient au moins une fois    \n",
    "$\\rightarrow$ on décrémente $s\\leftarrow s-p_i$    \n",
    "$\\rightarrow$ on ajoute 1 pièce\n",
    "* Soit elle n'intervient pas $\\rightarrow$ on supprime $p_i$"
   ]
  },
  {
   "cell_type": "markdown",
   "metadata": {
    "slideshow": {
     "slide_type": "subslide"
    }
   },
   "source": [
    "* On construit la matrice $(N_{l,k})_{(l,k)\\in [\\! |  1,n |\\! ] \\times [\\! |  0,s |\\! ]}$\n",
    "* Représentée par une liste de liste $L$.\n",
    "    * $\\forall k \\in [\\! |  0,s |\\! ]$, $L[1][k]=k$\n",
    "    * Remplie récursivement"
   ]
  },
  {
   "cell_type": "code",
   "execution_count": 2,
   "metadata": {},
   "outputs": [
    {
     "data": {
      "text/plain": [
       "2"
      ]
     },
     "execution_count": 2,
     "metadata": {},
     "output_type": "execute_result"
    }
   ],
   "source": [
    "def tab_rendu(Sys,s):\n",
    "    n=len(Sys)#Sys[0]=1\n",
    "    L=[ [0 for j in range(s+1)] for i in range(n)]\n",
    "    for j in range(s+1):\n",
    "        L[0][j]=j\n",
    "    for i in range(1,n):\n",
    "        for j in range(s+1):\n",
    "            if Sys[i]>j:\n",
    "                L[i][j]=L[i-1][j]\n",
    "            else:\n",
    "                L[i][j]=min([L[i-1][j],1+L[i][j-Sys[i]]])\n",
    "    return L\n",
    "\n",
    "S=[1,4,6]\n",
    "tab_rendu(S,8)[-1][-1]"
   ]
  },
  {
   "cell_type": "markdown",
   "metadata": {
    "slideshow": {
     "slide_type": "subslide"
    }
   },
   "source": [
    "#### Stockage des solutions\n",
    "* Dans un tableau de mêmes dimensions."
   ]
  },
  {
   "cell_type": "code",
   "execution_count": 3,
   "metadata": {},
   "outputs": [
    {
     "data": {
      "text/plain": [
       "[[[],\n",
       "  [1],\n",
       "  [1, 1],\n",
       "  [1, 1, 1],\n",
       "  [1, 1, 1, 1],\n",
       "  [1, 1, 1, 1, 1],\n",
       "  [1, 1, 1, 1, 1, 1],\n",
       "  [1, 1, 1, 1, 1, 1, 1],\n",
       "  [1, 1, 1, 1, 1, 1, 1, 1]],\n",
       " [[], [1], [1, 1], [1, 1, 1], [4], [1, 4], [1, 1, 4], [1, 1, 1, 4], [4, 4]],\n",
       " [[], [1], [1, 1], [1, 1, 1], [4], [1, 4], [6], [1, 6], [4, 4]]]"
      ]
     },
     "execution_count": 3,
     "metadata": {},
     "output_type": "execute_result"
    }
   ],
   "source": [
    "def rendu_dyn(Sys,s):\n",
    "    n=len(Sys)#Sys[0]=1\n",
    "    L=[ [[] for j in range(s+1)] for i in range(n)]\n",
    "    for j in range(s+1):\n",
    "        L[0][j]=[1 for k in range(j)]\n",
    "    for i in range(1,n):\n",
    "        for j in range(s+1):\n",
    "            if Sys[i]>j:\n",
    "                L[i][j]=L[i-1][j]+[]\n",
    "            else:\n",
    "                if len(L[i-1][j])<=len(L[i][j-Sys[i]]):\n",
    "                    L[i][j]=L[i-1][j]+[]\n",
    "                else:\n",
    "                    T=L[i][j-Sys[i]]+[]\n",
    "                    L[i][j]=L[i][j-Sys[i]]+[Sys[i]]\n",
    "                    L[i][j]\n",
    "    return L\n",
    "S=[1,4,6]\n",
    "#rendu_dyn(S,8)\n",
    "rendu_dyn(S,8)#[-1][-1]"
   ]
  },
  {
   "cell_type": "code",
   "execution_count": 4,
   "metadata": {
    "slideshow": {
     "slide_type": "subslide"
    }
   },
   "outputs": [
    {
     "data": {
      "text/plain": [
       "[3, 3]"
      ]
     },
     "execution_count": 4,
     "metadata": {},
     "output_type": "execute_result"
    }
   ],
   "source": [
    "S2=[1,3,4]\n",
    "rendu_dyn(S2,6)[-1][-1]"
   ]
  },
  {
   "cell_type": "markdown",
   "metadata": {
    "slideshow": {
     "slide_type": "subslide"
    }
   },
   "source": [
    "$\\rightarrow$ Optimalité globale !"
   ]
  },
  {
   "cell_type": "markdown",
   "metadata": {
    "slideshow": {
     "slide_type": "subslide"
    }
   },
   "source": [
    "### Exercice : Sac à dos en programmation dynamique\n",
    "$\\rightarrow$ Principe et implémentation analogues"
   ]
  },
  {
   "cell_type": "markdown",
   "metadata": {
    "slideshow": {
     "slide_type": "slide"
    }
   },
   "source": [
    "## <center> PLUS COURT CHEMIN DANS UN GRAPHE</center>\n",
    "## <center> ALGORITHMES DE DIJKSTRA et BELLMAN-FORD</center>"
   ]
  },
  {
   "cell_type": "markdown",
   "metadata": {
    "slideshow": {
     "slide_type": "subslide"
    }
   },
   "source": [
    "### Graphe\n",
    "* Ensemble fini $S$ de $N$ sommets    \n",
    "$\\leftrightarrow$ Villes ou Points\n",
    "* Ensemble $A$ d'arêtes pondérées    \n",
    "$\\leftrightarrow$ chemins pondérés par leurs longueurs    \n",
    "$\\rightarrow$ $A\\subset S\\times S$    \n",
    "$\\rightarrow$ $(x,y)\\in A$ $\\Leftrightarrow$ $x$ et $y$ sont reliés    \n",
    "$\\rightarrow$ ${\\rm d}(x,y)$ : distance de $x$ à $y$ \n",
    "* Hypothèses :\n",
    "    * ${\\rm d}(x,y)={\\rm d}(y,x)$\n",
    "    * ${\\rm d}(x,y)\\geq 0$\n",
    "    * ${\\rm d}(x,y)=0$ $\\Leftrightarrow$ $x=y$\n",
    "\n"
   ]
  },
  {
   "cell_type": "code",
   "execution_count": 59,
   "metadata": {
    "slideshow": {
     "slide_type": "subslide"
    }
   },
   "outputs": [
    {
     "data": {
      "image/png": "[encoded data removed]",
      "text/plain": [
       "<Figure size 432x288 with 1 Axes>"
      ]
     },
     "metadata": {
      "needs_background": "light"
     },
     "output_type": "display_data"
    }
   ],
   "source": [
    "Lp=[(0,2),(2,4),(2,0),(4,4),(4,2),(4,0),(6,4),(6,0),(8,2)]\n",
    "types = ['A','B','C','D','E','F','G','H','I']\n",
    "x_coords = [0,2,2,4,4,4,6,6,8]\n",
    "y_coords = [2,4,0,4,2,0,4,0,2]\n",
    "Liste=[(0,1,4),(0,2,8),(1,2,11),(1,3,8),(2,4,7),(2,5,1),(3,4,2),(3,6,7),(3,7,4),(4,5,6),(5,7,2),(6,7,14),(6,8,9),(7,8,10)]#triplets (dep,arr,poids)\n",
    "for i,type in enumerate(types):\n",
    "    x = x_coords[i]\n",
    "    y = y_coords[i]\n",
    "    plt.scatter(x, y, color='red')\n",
    "    plt.text(x+.1, y+.1, type, fontsize=9)\n",
    "for elt in Liste:\n",
    "    i,j,val=elt\n",
    "    plt.plot([Lp[i][0],Lp[j][0]],[Lp[i][1],Lp[j][1]],'k')\n",
    "    plt.text((Lp[i][0]+Lp[j][0])/2.,(Lp[i][1]+Lp[j][1])/2.,str(val))\n",
    "plt.show()"
   ]
  },
  {
   "cell_type": "markdown",
   "metadata": {
    "slideshow": {
     "slide_type": "subslide"
    }
   },
   "source": [
    "### Tableau des distances à partir de Liste\n",
    "* Liste : triplets - sans répétition - (origine,destination,distance)\n",
    "* Dist : $Dist[i][j]=distance(i,j)$\n",
    "* $N$ : nombre d'arêtes."
   ]
  },
  {
   "cell_type": "code",
   "execution_count": 60,
   "metadata": {
    "slideshow": {
     "slide_type": "fragment"
    }
   },
   "outputs": [
    {
     "data": {
      "text/plain": [
       "[[inf, 4, 8, inf, inf, inf, inf, inf, inf],\n",
       " [4, inf, 11, 8, inf, inf, inf, inf, inf],\n",
       " [8, 11, inf, inf, 7, 1, inf, inf, inf],\n",
       " [inf, 8, inf, inf, 2, inf, 7, 4, inf],\n",
       " [inf, inf, 7, 2, inf, 6, inf, inf, inf],\n",
       " [inf, inf, 1, inf, 6, inf, inf, 2, inf],\n",
       " [inf, inf, inf, 7, inf, inf, inf, 14, 9],\n",
       " [inf, inf, inf, 4, inf, 2, 14, inf, 10],\n",
       " [inf, inf, inf, inf, inf, inf, 9, 10, inf]]"
      ]
     },
     "execution_count": 60,
     "metadata": {},
     "output_type": "execute_result"
    }
   ],
   "source": [
    "def tab_dist(L):\n",
    "    N=max([max(L[i][0],L[i][1]) for i in range(len(Liste))])+1\n",
    "    Dist=[[float('inf') for i in range(N)] for j in range(N)]#float('nan') ou -1 au lieu de l'infini\n",
    "    for elt in L:\n",
    "        i,j,val=elt\n",
    "        Dist[i][j],Dist[j][i]=val,val\n",
    "    return Dist\n",
    "Disttest=tab_dist(Liste)\n",
    "Disttest"
   ]
  },
  {
   "cell_type": "markdown",
   "metadata": {
    "slideshow": {
     "slide_type": "subslide"
    }
   },
   "source": [
    "### Notations\n",
    "* On choisit un sommet de départ $x_0$    \n",
    "$\\rightarrow$ éventuellement fictif et relié à tous les autres sommets    \n",
    "$\\rightarrow$ on suppose que tout sommet est relié à $x_0$ (connexité par arcs)\n",
    "* Si  $x\\in S$, on note \n",
    "$$\\delta(x)\\; :\\; \\text{ longueur du plus court chemin de }x_0\\text{ a }x$$"
   ]
  },
  {
   "cell_type": "markdown",
   "metadata": {
    "slideshow": {
     "slide_type": "slide"
    }
   },
   "source": [
    "## Algorithme de DIJKSTRA\n",
    "* On construit récursivement une suite $(L_n)$ où, pour $1\\leq n\\leq N$ :\n",
    "    * $L_n=[x_0,\\dots,x_{n-1}]$ est une liste de $n$ sommets ($\\leftrightarrow$ ensemble).\n",
    "    * Ce sont les $n$ sommets les plus proches de $x_0$\n",
    "    * $\\delta(x_{n-1})$ est réalisé pour un chemin constitué de points de $L_n$."
   ]
  },
  {
   "cell_type": "markdown",
   "metadata": {
    "slideshow": {
     "slide_type": "fragment"
    }
   },
   "source": [
    "### Initialisation\n",
    "* $L_1=[x_0]$"
   ]
  },
  {
   "cell_type": "markdown",
   "metadata": {
    "slideshow": {
     "slide_type": "subslide"
    }
   },
   "source": [
    "### Hérédité\n",
    "Pour $1\\leq n \\leq N-1$, on suppose $L_n=[x_0,\\dots,x_{n-1}]$ construite.\n",
    "* On choisit $x_n\\in S\\setminus L_n$ minimisant \n",
    "$$ \\Delta=\\min\\limits_{\\substack{(x,y)\\in A^2\\\\ x\\in S\\setminus L_n \\\\ y\\in L_n }} \\delta(y)+{\\rm d}(x,y)$$  \n",
    "$\\rightarrow$ Plusieurs $y\\in L_n$ peuvent convenir    \n",
    "$\\rightarrow$ Vérifier $\\Delta=\\delta(y)+{\\rm d}(x,y)$\n",
    "* On peut poser $L_{n+1}=[x_0,\\dots,x_{n-1},x_n]$\n",
    "* On en profite pour mémoriser le chemin obtenu en concaténant :\n",
    "    * Un chemin réalisant $\\delta(y)$ dans $L_n$ (mémorisé)\n",
    "    * L'arête $(x,y)$"
   ]
  },
  {
   "cell_type": "markdown",
   "metadata": {
    "slideshow": {
     "slide_type": "subslide"
    }
   },
   "source": [
    "### Principe simple (de Bellman)\n",
    "* Si un $\\gamma=(x_0,x_1,\\dots, x_m,x)$ est un plus court chemin entre $x_0$ et $x$\n",
    "* Alors $\\forall i \\in [\\! | 1, m |\\! ]$, $(x_0,\\dots ,x_i)$ est encore un plus court chemin entre $x_0$ et $x_i$\n",
    "* Sinon, un plus court chemin entre $x_0$ et $x_i$ ...\n",
    "* Complété par $(x_{i+1},\\dots , x_m,x)$ serait ...\n",
    "* Plus court que $\\gamma$ !"
   ]
  },
  {
   "cell_type": "markdown",
   "metadata": {
    "slideshow": {
     "slide_type": "subslide"
    }
   },
   "source": [
    "### Preuve\n",
    "* On suppose que \n",
    "    * $L_n$ est bien constitué des $n$ sommets les plus proches de $x_0$\n",
    "    * et que le plus court chemin entre $x_0$ et un point $y'$ de $L_n$ se fait dans $L_n$.\n",
    "* On fixe $x\\in S\\setminus L_n$ et $y\\in L_n$ convenables.\n",
    "\n",
    "1. On montre que $\\delta(x)= \\Delta$.\n",
    "2. On montre que $x'\\in S\\setminus L_n$ n'est pas plus proche de $x_0$ que $x$."
   ]
  },
  {
   "cell_type": "markdown",
   "metadata": {
    "slideshow": {
     "slide_type": "subslide"
    }
   },
   "source": [
    "* Preuve de $\\delta(x)= \\Delta$.\n",
    "    * $\\Delta$ est la somme de la longueur du plus court chemin de $x_0$ à $y$ et de la longueur du chemin de $y$ à $x$    \n",
    "    $\\rightarrow$ C'est la longueur d'un chemin de $x_0$ à $x$    \n",
    "    $\\rightarrow$ $\\delta(x)\\leq \\Delta$\n",
    "    * Soit $\\gamma=(x_0,y_1,\\dots, y_m,x)$ le plus court chemin de $x_0$ à $x$\n",
    "    * $(x_0,y_1\\dots,y_m)$ est strictement plus court que $\\gamma$\n",
    "    * Si l'un des $y_i$ (disons $y_k$) n'appartient pas à $L_n$\n",
    "    * alors $\\delta(y_{k-1})+{\\rm d}(y_{k-1},y_k)<\\delta(x)\\leq \\Delta$\n",
    "    * Contradiction avec la définition de $\\Delta$ : $y_k\\in L_n$\n",
    "    * Par définition de $\\Delta$ encore : $\\delta(x) \\geq \\Delta$"
   ]
  },
  {
   "cell_type": "markdown",
   "metadata": {
    "slideshow": {
     "slide_type": "subslide"
    }
   },
   "source": [
    "* Soit $x'\\in S\\setminus L_n$ strictement plus proche de $x_0$ que $x$.\n",
    "    * Comme précédemment, il existe $\\gamma'=(x_0,\\dots, y_k)$ \n",
    "    * avec $(x_0,y_1,\\dots ,y_{k-1})\\in (L_n)^{k}$ et $y_k\\in S\\setminus L_n$\n",
    "    * éventuellement $y_k=x'$\n",
    "    * donc $\\gamma'$ de longueur strictement inférieure à $\\delta(x)$\n",
    "    * Contradiction avec le définition de $\\Delta$."
   ]
  },
  {
   "cell_type": "code",
   "execution_count": 52,
   "metadata": {
    "slideshow": {
     "slide_type": "subslide"
    }
   },
   "outputs": [
    {
     "data": {
      "text/plain": [
       "[[0, 0],\n",
       " [0, 1, 4],\n",
       " [0, 2, 8],\n",
       " [0, 1, 3, 12],\n",
       " [0, 1, 3, 4, 14],\n",
       " [0, 2, 5, 9],\n",
       " [0, 1, 3, 6, 19],\n",
       " [0, 2, 5, 7, 11],\n",
       " [0, 2, 5, 7, 8, 21]]"
      ]
     },
     "execution_count": 52,
     "metadata": {},
     "output_type": "execute_result"
    }
   ],
   "source": [
    "def courts_chemins(Dist,x0):\n",
    "    N=len(Dist)\n",
    "    valmax=N*(max([max([Dist[i][j] for i in range(N)])for j in range(N)])+1)\n",
    "    L=[x0]\n",
    "    chemin=[[] for i in range(N)]\n",
    "    chemin[x0]=[x0,0]\n",
    "    while(len(L)<N):\n",
    "        val=valmax\n",
    "        for i in range(N):\n",
    "            if i in L:#déjà traités\n",
    "                diopt=chemin[i][-1]\n",
    "                for j in range(N):\n",
    "                    if (not j in L) and Dist[i][j]!=float('inf'):#reliés non traités\n",
    "                        prov=diopt+Dist[i][j]\n",
    "                        if prov<val:\n",
    "                            y,x,val=i,j,prov\n",
    "        chemin[x]=chemin[y][:-1]+[x]+[val]\n",
    "        L.append(x)\n",
    "    return chemin\n",
    "                        \n",
    "courts_chemins(Disttest,0)                   "
   ]
  },
  {
   "cell_type": "markdown",
   "metadata": {
    "collapsed": true
   },
   "source": [
    "$\\rightarrow$ On obtient <b>tous</b> les plus courts chemins de $x_0$ aux autres points du graphe."
   ]
  },
  {
   "cell_type": "markdown",
   "metadata": {},
   "source": [
    "## Algorithme de BELLMAN-FORD\n",
    "* Principe de Bellman s'applique    \n",
    "$\\rightarrow$ programmation dynamique\n",
    "* Notation $D_{k,x}$    \n",
    "$\\rightarrow$ distance minimale entre la source $x_0$ et $x$   \n",
    "$\\rightarrow$ empruntant <i>au plus</i> $k \\in [\\!| 1, N |\\! ]$ sommets    \n",
    "$\\rightarrow$ <i>Ex :</i>$D_{1,x_0}=0$ et $D_{1,x}=+\\infty$ si $x\\neq x_0$.\n",
    "* Relation de récurrence :\n",
    "$$\n",
    "D_{k,x}=\\begin{cases}\n",
    "0&\\text{ si }x=x_0\\\\\n",
    "+\\infty&\\text{ si }x\\neq x_0\\text{ et }k=1\\\\\n",
    "\\min \\left(D(k-1,x),\\min\\limits_{y\\in E}( D(k-1,y)+d(x,y)\\right)\n",
    "\\end{cases}\n",
    "$$\n"
   ]
  },
  {
   "cell_type": "code",
   "execution_count": 75,
   "metadata": {
    "slideshow": {
     "slide_type": "subslide"
    }
   },
   "outputs": [
    {
     "data": {
      "text/plain": [
       "[[0, inf, inf, inf, inf, inf, inf, inf, inf],\n",
       " [0, 4, 8, inf, inf, inf, inf, inf, inf],\n",
       " [0, 4, 8, 12, 15, 9, inf, inf, inf],\n",
       " [0, 4, 8, 12, 14, 9, 19, 11, inf],\n",
       " [0, 4, 8, 12, 14, 9, 19, 11, 21],\n",
       " [0, 4, 8, 12, 14, 9, 19, 11, 21],\n",
       " [0, 4, 8, 12, 14, 9, 19, 11, 21],\n",
       " [0, 4, 8, 12, 14, 9, 19, 11, 21],\n",
       " [0, 4, 8, 12, 14, 9, 19, 11, 21]]"
      ]
     },
     "execution_count": 75,
     "metadata": {},
     "output_type": "execute_result"
    }
   ],
   "source": [
    "def Bellman_Ford(Dist,x0):\n",
    "    N=len(Dist)\n",
    "    L=[ [ float(\"inf\") for j in range(N) ] for i in range(N)]\n",
    "    L[0][x0]=0\n",
    "    for k in range(1,N):\n",
    "        for j in range(N):\n",
    "            L[k][j]=min([L[k-1][j],min([L[k-1][v]+Dist[v][j] for v in range(N)])])\n",
    "    return L\n",
    "\n",
    "Bellman_Ford(Disttest,0)"
   ]
  },
  {
   "cell_type": "code",
   "execution_count": null,
   "metadata": {
    "collapsed": true,
    "slideshow": {
     "slide_type": "skip"
    }
   },
   "outputs": [],
   "source": [
    "#Avec les chemins\n"
   ]
  },
  {
   "cell_type": "code",
   "execution_count": 74,
   "metadata": {
    "slideshow": {
     "slide_type": "subslide"
    }
   },
   "outputs": [
    {
     "data": {
      "text/plain": [
       "[[0, 0],\n",
       " [0, 1, 4],\n",
       " [0, 2, 8],\n",
       " [0, 1, 3, 12],\n",
       " [0, 1, 3, 4, 14],\n",
       " [0, 2, 5, 9],\n",
       " [0, 1, 3, 6, 19],\n",
       " [0, 2, 5, 7, 11],\n",
       " [0, 2, 5, 7, 8, 21]]"
      ]
     },
     "execution_count": 74,
     "metadata": {},
     "output_type": "execute_result"
    }
   ],
   "source": [
    "def Bellman_Ford2(Dist,x0):\n",
    "    N=len(Dist)\n",
    "    L=[ [ [float(\"inf\")] for j in range(N) ] for i in range(N)]\n",
    "    L[0][x0]=[x0,0]\n",
    "    for k in range(1,N):\n",
    "        for j in range(N):\n",
    "            mini=L[k-1][j][-1]\n",
    "            b=j\n",
    "            for v in range(N):#On repasse par j - évitable\n",
    "                if v!=j and L[k-1][v][-1]+Dist[v][j]<mini:#Evité !\n",
    "                    b=v\n",
    "                    mini=L[k-1][v][-1]+Dist[v][j]\n",
    "            if b==j:\n",
    "                L[k][j]=L[k-1][j]+[]\n",
    "            else:\n",
    "                L[k][j]=L[k-1][b][:-1]+[j]+[mini]\n",
    "    return L\n",
    "\n",
    "Bellman_Ford2(Disttest,0)[-1]"
   ]
  },
  {
   "cell_type": "markdown",
   "metadata": {
    "slideshow": {
     "slide_type": "subslide"
    }
   },
   "source": [
    "#### Généralisations :\n",
    "* Arcs de poids négatifs.\n",
    "* Nécessité de limiter les tours de boucle ($\\neq N$)\n",
    "* Possibilité d'oublier les lignes précédentes\n",
    "* Floyd Warshall    \n",
    "$\\rightarrow$ plus cours chemin entre tous les couples   \n",
    "$\\rightarrow$ même principe dynamique que rendu monnaie\n",
    "\n",
    "#### Applications :\n",
    "* Routage RIP\n",
    "* Programmation linéaire"
   ]
  },
  {
   "cell_type": "markdown",
   "metadata": {
    "slideshow": {
     "slide_type": "slide"
    }
   },
   "source": [
    "## <center> BACKTRACKING </center>"
   ]
  },
  {
   "cell_type": "markdown",
   "metadata": {
    "collapsed": true,
    "slideshow": {
     "slide_type": "slide"
    }
   },
   "source": [
    "## Solveur de Sudoku\n",
    "* Glouton\n",
    "* Backtracking"
   ]
  },
  {
   "cell_type": "markdown",
   "metadata": {
    "collapsed": true,
    "slideshow": {
     "slide_type": "subslide"
    }
   },
   "source": [
    "### Sudoku\n",
    "* Grille $9\\times 9$ $\\rightarrow$ 81 cases\n",
    "* 9 sous-grilles $3\\times 3$ $\\rightarrow$ régions de 9 cases\n",
    "* Règle : une seule occurence de chaque nombre de $[\\! | 1,9|\\! ]$\n",
    "    * par ligne\n",
    "    * par colonne\n",
    "    * Par région"
   ]
  },
  {
   "cell_type": "markdown",
   "metadata": {
    "collapsed": true,
    "slideshow": {
     "slide_type": "subslide"
    }
   },
   "source": [
    "### Jeu \n",
    "* Grille préremplie    \n",
    "$\\rightarrow$ Par quelques nombres    \n",
    "$\\rightarrow$ Existence de solution"
   ]
  },
  {
   "cell_type": "code",
   "execution_count": 1,
   "metadata": {},
   "outputs": [
    {
     "data": {
      "image/jpeg": "[encoded data removed]",
      "text/plain": [
       "<IPython.core.display.Image object>"
      ]
     },
     "metadata": {},
     "output_type": "display_data"
    }
   ],
   "source": [
    "from IPython.display import Image,display\n",
    "i = Image(filename='sudoku.jpg')\n",
    "display(i)"
   ]
  },
  {
   "cell_type": "markdown",
   "metadata": {
    "collapsed": true,
    "slideshow": {
     "slide_type": "subslide"
    }
   },
   "source": [
    "### Modélisation\n",
    "* Liste de 9 listes de 9 nombres\n",
    "* Case à compléter    \n",
    "$\\rightarrow$ 0"
   ]
  },
  {
   "cell_type": "code",
   "execution_count": null,
   "metadata": {
    "collapsed": true
   },
   "outputs": [],
   "source": [
    "M=[[0,1,3,0,0,9,0,0,5],[6,0,0,0,4,0,0,0,9],\\\n",
    "   [4,0,5,3,0,7,6,1,2],[5,0,0,0,1,3,0,9,0],\\\n",
    "   [0,2,1,7,0,4,5,8,0],[0,4,0,8,2,0,0,0,3],\\\n",
    "   [2,2,9,0,0,6,4,0,8],[1,0,0,0,5,0,3,0,7],\\\n",
    "   [8,0,0,4,0,2,0,0,0]]"
   ]
  },
  {
   "cell_type": "markdown",
   "metadata": {
    "slideshow": {
     "slide_type": "subslide"
    }
   },
   "source": [
    "### Test de position\n",
    "* $\\verb\"compatible_region(num,i,j,M)\"$\n",
    "* $\\verb\"compatible_ligne(num,i,j,M)\"$\n",
    "* $\\verb\"compatible_colonne(num,i,j,M)\"$    \n",
    "$\\rightarrow$ $\\verb\"compatible(num,i,j,M)\"$ "
   ]
  },
  {
   "cell_type": "code",
   "execution_count": null,
   "metadata": {
    "collapsed": true,
    "slideshow": {
     "slide_type": "skip"
    }
   },
   "outputs": [],
   "source": [
    "# A vous"
   ]
  },
  {
   "cell_type": "code",
   "execution_count": null,
   "metadata": {
    "collapsed": true,
    "slideshow": {
     "slide_type": "skip"
    }
   },
   "outputs": [],
   "source": [
    "# A vous"
   ]
  },
  {
   "cell_type": "code",
   "execution_count": null,
   "metadata": {
    "collapsed": true,
    "slideshow": {
     "slide_type": "skip"
    }
   },
   "outputs": [],
   "source": [
    "# A vous"
   ]
  },
  {
   "cell_type": "code",
   "execution_count": null,
   "metadata": {
    "collapsed": true,
    "slideshow": {
     "slide_type": "subslide"
    }
   },
   "outputs": [],
   "source": [
    "def compatibleligne(i,num,M):\n",
    "    for j in range(9):\n",
    "        if M[i][j]==num:\n",
    "            return False\n",
    "    return True"
   ]
  },
  {
   "cell_type": "code",
   "execution_count": null,
   "metadata": {
    "collapsed": true,
    "slideshow": {
     "slide_type": "fragment"
    }
   },
   "outputs": [],
   "source": [
    "def compatiblecolonne(j,num,M):\n",
    "    for i in range(9):\n",
    "        if M[i][j]==num:\n",
    "            return False\n",
    "    return True"
   ]
  },
  {
   "cell_type": "code",
   "execution_count": null,
   "metadata": {
    "collapsed": true,
    "slideshow": {
     "slide_type": "subslide"
    }
   },
   "outputs": [],
   "source": [
    "def compatibleregion(num,i,j,M):\n",
    "    ir=(i//3)*3\n",
    "    jr=(j//3)*3\n",
    "    for k in range(3):\n",
    "        for l in range(3):\n",
    "            if M[ir+k][jr+l]==num:\n",
    "                return False\n",
    "    return True"
   ]
  },
  {
   "cell_type": "code",
   "execution_count": null,
   "metadata": {
    "collapsed": true,
    "slideshow": {
     "slide_type": "subslide"
    }
   },
   "outputs": [],
   "source": [
    "def compatible(num,i,j,M):\n",
    "    return compatibleregion(num,i,j,M) and \\\n",
    "    compatibleligne(i,num,M) and compatiblecolonne(j,num,M)"
   ]
  },
  {
   "cell_type": "markdown",
   "metadata": {
    "slideshow": {
     "slide_type": "subslide"
    }
   },
   "source": [
    "### Backtracking\n",
    "* Parcours lignes/colonnes\n",
    "* Cases vides \n",
    "* Heuristique gloutonne :    \n",
    "$\\rightarrow$ On remplit par les nombres de $[\\! | 1, 9|\\! ]$ (dans l'ordre)    \n",
    "$\\rightarrow$ Si possible !    \n",
    "$\\rightarrow$ On continue...    \n",
    "$\\rightarrow$ Jusqu'à :\n",
    "    * Grille terminée\n",
    "    * Impossibilité\n",
    "* On revient alors sur le dernier choix    \n",
    "$\\rightarrow$ backtracking    \n",
    "$\\rightarrow$ Retour sur ses pas"
   ]
  },
  {
   "cell_type": "markdown",
   "metadata": {
    "slideshow": {
     "slide_type": "subslide"
    }
   },
   "source": [
    "#### Fonction utilitaire"
   ]
  },
  {
   "cell_type": "code",
   "execution_count": 33,
   "metadata": {
    "collapsed": true,
    "slideshow": {
     "slide_type": "subslide"
    }
   },
   "outputs": [],
   "source": [
    "def recherchecase(M):\n",
    "    for i in range(9):\n",
    "        for j in range(9):\n",
    "            if M[i][j]==0:\n",
    "                return (i,j)\n",
    "    return (float('nan'),float('nan'))"
   ]
  },
  {
   "cell_type": "markdown",
   "metadata": {},
   "source": [
    "$\\rightarrow$ Que fait-elle ? A quoi sert-elle ?"
   ]
  },
  {
   "cell_type": "code",
   "execution_count": null,
   "metadata": {
    "collapsed": true,
    "slideshow": {
     "slide_type": "subslide"
    }
   },
   "outputs": [],
   "source": [
    "# Foncton finale\n",
    "def solveur(M):\n",
    "    i,j=recherchecase(M)\n",
    "    if i!=i:\n",
    "        return True\n",
    "    else:\n",
    "        for k in range(1,10):\n",
    "            if compatible(k,i,j,M):\n",
    "                M[i][j]=k\n",
    "                nouveau=solveur(M)\n",
    "                if nouveau:\n",
    "                    return nouveau\n",
    "        M[i][j]=0\n",
    "        return False"
   ]
  },
  {
   "cell_type": "markdown",
   "metadata": {
    "collapsed": true,
    "slideshow": {
     "slide_type": "skip"
    }
   },
   "source": [
    "## Labyrinthe\n",
    "* Glouton\n",
    "* Backtracking\n",
    "* Piles"
   ]
  },
  {
   "cell_type": "markdown",
   "metadata": {
    "collapsed": true,
    "slideshow": {
     "slide_type": "skip"
    }
   },
   "source": [
    "## A-Etoile\n",
    "* Glouton\n",
    "* Alternative au backtracking    \n",
    "$\\rightarrow$ Programmation dynamique\n",
    "* BFS (comme Dijsktra, auquel il faut ajouter une file de priorité)    \n",
    "$\\rightarrow$ Parler de DFS ?"
   ]
  },
  {
   "cell_type": "markdown",
   "metadata": {
    "slideshow": {
     "slide_type": "skip"
    }
   },
   "source": [
    "## <center>ALGORITHMES GENETIQUES</center>"
   ]
  },
  {
   "cell_type": "code",
   "execution_count": null,
   "metadata": {
    "collapsed": true,
    "slideshow": {
     "slide_type": "skip"
    }
   },
   "outputs": [],
   "source": [
    "#Voyageur de commerce"
   ]
  },
  {
   "cell_type": "code",
   "execution_count": null,
   "metadata": {
    "collapsed": true,
    "slideshow": {
     "slide_type": "skip"
    }
   },
   "outputs": [],
   "source": []
  },
  {
   "cell_type": "code",
   "execution_count": null,
   "metadata": {
    "collapsed": true,
    "slideshow": {
     "slide_type": "skip"
    }
   },
   "outputs": [],
   "source": []
  },
  {
   "cell_type": "code",
   "execution_count": null,
   "metadata": {
    "collapsed": true
   },
   "outputs": [],
   "source": []
  },
  {
   "cell_type": "code",
   "execution_count": null,
   "metadata": {
    "collapsed": true
   },
   "outputs": [],
   "source": []
  },
  {
   "cell_type": "code",
   "execution_count": null,
   "metadata": {
    "collapsed": true
   },
   "outputs": [],
   "source": []
  },
  {
   "cell_type": "markdown",
   "metadata": {
    "slideshow": {
     "slide_type": "skip"
    }
   },
   "source": [
    "## <center>COLONIES DE FOURMIS - ESSAIMS ABEILLES</center>"
   ]
  },
  {
   "cell_type": "code",
   "execution_count": null,
   "metadata": {
    "collapsed": true,
    "slideshow": {
     "slide_type": "skip"
    }
   },
   "outputs": [],
   "source": [
    "#Voyageur de commerce"
   ]
  },
  {
   "cell_type": "code",
   "execution_count": null,
   "metadata": {
    "collapsed": true
   },
   "outputs": [],
   "source": []
  },
  {
   "cell_type": "code",
   "execution_count": null,
   "metadata": {
    "collapsed": true
   },
   "outputs": [],
   "source": []
  },
  {
   "cell_type": "code",
   "execution_count": null,
   "metadata": {
    "collapsed": true
   },
   "outputs": [],
   "source": []
  },
  {
   "cell_type": "code",
   "execution_count": null,
   "metadata": {
    "collapsed": true
   },
   "outputs": [],
   "source": []
  },
  {
   "cell_type": "code",
   "execution_count": null,
   "metadata": {
    "collapsed": true
   },
   "outputs": [],
   "source": []
  },
  {
   "cell_type": "markdown",
   "metadata": {
    "slideshow": {
     "slide_type": "skip"
    }
   },
   "source": [
    "## <center> OPTIMISATION <center>"
   ]
  },
  {
   "cell_type": "code",
   "execution_count": null,
   "metadata": {
    "collapsed": true,
    "slideshow": {
     "slide_type": "skip"
    }
   },
   "outputs": [],
   "source": [
    "#Multiplicateurs de Lagrange\n",
    "#Gradient conjugué\n",
    "#Type Aetoile (score/pénalité)\n",
    "#Programmation dynamique\n",
    "#Recuit simulé"
   ]
  },
  {
   "cell_type": "code",
   "execution_count": null,
   "metadata": {
    "collapsed": true
   },
   "outputs": [],
   "source": []
  },
  {
   "cell_type": "code",
   "execution_count": null,
   "metadata": {
    "collapsed": true
   },
   "outputs": [],
   "source": []
  },
  {
   "cell_type": "code",
   "execution_count": null,
   "metadata": {
    "collapsed": true
   },
   "outputs": [],
   "source": []
  },
  {
   "cell_type": "code",
   "execution_count": null,
   "metadata": {
    "collapsed": true
   },
   "outputs": [],
   "source": []
  },
  {
   "cell_type": "code",
   "execution_count": null,
   "metadata": {
    "collapsed": true
   },
   "outputs": [],
   "source": []
  },
  {
   "cell_type": "code",
   "execution_count": null,
   "metadata": {
    "collapsed": true
   },
   "outputs": [],
   "source": []
  }
 ],
 "metadata": {
  "anaconda-cloud": {},
  "celltoolbar": "Diaporama",
  "kernelspec": {
   "display_name": "Python 3",
   "language": "python",
   "name": "python3"
  },
  "language_info": {
   "codemirror_mode": {
    "name": "ipython",
    "version": 3
   },
   "file_extension": ".py",
   "mimetype": "text/x-python",
   "name": "python",
   "nbconvert_exporter": "python",
   "pygments_lexer": "ipython3",
   "version": "3.8.5"
  }
 },
 "nbformat": 4,
 "nbformat_minor": 2
}
