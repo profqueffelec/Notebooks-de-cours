{
 "cells": [
  {
   "cell_type": "code",
   "execution_count": 8,
   "metadata": {},
   "outputs": [],
   "source": [
    "import matplotlib.pyplot as plt\n",
    "import numpy as np"
   ]
  },
  {
   "cell_type": "markdown",
   "metadata": {
    "slideshow": {
     "slide_type": "slide"
    }
   },
   "source": [
    "\n",
    "<CENTER>\n",
    "<div style=width:500px;border-radius:10px;height:220px;background-color:#ffcccc;\n",
    "     text-align:center;vertical-align:middle;>\n",
    "\n",
    "\n",
    "<br>\n",
    "<CENTER>\n",
    "<font size=7, font color=navy> Méthodes numériques\n",
    "</CENTER>\n",
    "     <br>\n",
    "<CENTER>\n",
    "<font size=6, font color=navy>Equations différentielles\n",
    "</CENTER>\n",
    "</div>\n",
    "</CENTER>"
   ]
  },
  {
   "cell_type": "markdown",
   "metadata": {
    "slideshow": {
     "slide_type": "slide"
    }
   },
   "source": [
    "# MISE EN FORME"
   ]
  },
  {
   "cell_type": "markdown",
   "metadata": {
    "slideshow": {
     "slide_type": "subslide"
    }
   },
   "source": [
    "### Méthode d'Euler :\n",
    "$$(E)\\colon \\;  X'=F(X,t) \\text{ sur }I \\text{ intervalle }$$\n",
    "* A priori :\n",
    "    * $F\\colon \\mathbb{R}^n \\times I \\rightarrow \\mathbb{R}^n$    \n",
    "    $\\rightarrow$ Supposée continue\n",
    "    * $X\\colon I \\rightarrow \\mathbb{R}^n$    \n",
    "    $\\rightarrow$ Supposée dérivable."
   ]
  },
  {
   "cell_type": "markdown",
   "metadata": {
    "slideshow": {
     "slide_type": "subslide"
    }
   },
   "source": [
    "### Exemples (scalaires - ordre 1).\n",
    "* $y'=ty$ $\\leadsto$ $F(y,t)=ty$\n",
    "* $y'=y$ $\\leadsto$ $F(y,t)=y$\n",
    "* $y'-ty=\\ln(t)$ $\\leadsto$ $F(y,t)=ty+\\ln(t)$"
   ]
  },
  {
   "cell_type": "markdown",
   "metadata": {},
   "source": [
    "* Solution de $(E)$ : fonction $y$ dérivable sur $I$ telle que \n",
    "$$\\forall t \\in I,\\; y'(t)=F(y(t),t)$$\n",
    "* Construction de $F$ :    \n",
    "$\\leadsto$ On \"oublie\" que $y$ est une <b>fonction</b>   \n",
    "$\\leadsto$ devient une <b>variable</b>"
   ]
  },
  {
   "cell_type": "code",
   "execution_count": null,
   "metadata": {
    "slideshow": {
     "slide_type": "subslide"
    }
   },
   "outputs": [],
   "source": [
    "def f1(y,t):\n",
    "    return t*y\n",
    "def f2(y,t):\n",
    "    return y\n",
    "def f3(y,t):\n",
    "    return t*y+np.ln(t)#numérique"
   ]
  },
  {
   "cell_type": "markdown",
   "metadata": {
    "slideshow": {
     "slide_type": "subslide"
    }
   },
   "source": [
    "### Exemples (vectorielles - ordre 1).\n",
    "* $(x',y')=(2x-3y,y+5x)$    \n",
    "$\\leadsto$ $F((x,y),t)=(2x-3y,y+5x)$\n",
    "* $(x',y')=(y^2-3\\cos(t)xy,\\sin(x+y+t)-t^2)$    \n",
    "$\\leadsto$ $F((x,y),t)=(y^2-3\\cos(t)xy,\\sin(x+y+t)-t^2)$"
   ]
  },
  {
   "cell_type": "code",
   "execution_count": 1,
   "metadata": {},
   "outputs": [],
   "source": [
    "def F1(X,t):\n",
    "    return (2*X[0]-3*X[1],X[1]+5*X[0])\n",
    "def F2(X,t):\n",
    "    return (X[1]**2-3*np.cos(t)*X[0]*X[1],np.sin(X[0]+X[1]+t)-t**2)"
   ]
  },
  {
   "cell_type": "markdown",
   "metadata": {
    "slideshow": {
     "slide_type": "subslide"
    }
   },
   "source": [
    "### Exemples (scalaires - ordre 2).\n",
    "* $y''+y=0$    \n",
    "$\\leadsto$ On pose $X=(y,y')$ (2 termes)    \n",
    "$\\leadsto$ $X'=(y',y'')=(y',-y)$    \n",
    "$\\leadsto$ $(x_1',x_2')=(x_2,-x_1)$    \n",
    "$\\leadsto$ $F((x_1,x_2),t)=(x_2,-x_1)$\n",
    "* $y''+2y'+y=e^t$     \n",
    "$\\leadsto$ $F((x_1,x_2),t)=(x_2,-x_1-2x_2+e^t)$\n",
    "* $(t+1)y''+(y')^2+(t^2+1)y=t^3$     \n",
    "$\\leadsto$ $F((x_1,x_2),t)=(x_2,t^3-\\frac{1}{1+t}((t^2+1)x_1+x_2^2))$"
   ]
  },
  {
   "cell_type": "markdown",
   "metadata": {
    "slideshow": {
     "slide_type": "subslide"
    }
   },
   "source": [
    "### Exemples (scalaires - ordre n).\n",
    "* $y'''+\\cos(t)y''+\\sin(t)y'+y=e^t$    \n",
    "$\\leadsto$ $F((x,y,z),t)=(y,z,e^t-\\cos(t)z-\\sin(t)y-x)$\n",
    "* $\\sum\\limits_{k=0}^n y^{(k)}=f(t)$    \n",
    "$\\leadsto$ $F((x_1,\\dots, x_n),t)=(x_2,\\dots, x_n,f(t)-\\sum\\limits_{k=0}^{n-1} x_k)$\n"
   ]
  },
  {
   "cell_type": "markdown",
   "metadata": {
    "slideshow": {
     "slide_type": "subslide"
    }
   },
   "source": [
    "### Exemple (vectorielles - ordre 2).\n",
    "* $(x'',y'')=(t xy, x'y+y'x)$    \n",
    "$\\leadsto$ On pose $X=(x,x',y,y')=(x_1,x_2,x_3,x_4)$    \n",
    "$\\leadsto$ $X'=(x',x'',y',y'')=(x',txy,y',x'y+y'x)=(x_2,tx_1x_3,x_4,x_2x_3+x_4x_1)$    \n",
    "$\\leadsto$ $F((x_1,x_2,x_3,x_4), t)=(x_2,tx_1x_3,x_4,x_2x_3+x_4x_1)$\n",
    "* $\\dots$ et ainsi de suite    \n",
    "$\\dots$ pour des équations vectorielles d'ordre $n$"
   ]
  },
  {
   "cell_type": "markdown",
   "metadata": {
    "slideshow": {
     "slide_type": "slide"
    }
   },
   "source": [
    "# ALGORITHME - METHODE D'EULER"
   ]
  },
  {
   "cell_type": "markdown",
   "metadata": {
    "slideshow": {
     "slide_type": "subslide"
    }
   },
   "source": [
    "### Paramètres constants\n",
    "* $a<b$ définissant $[a,b]$\n",
    "* Fonction $f$ dérivable sur $[a,b]$\n",
    "* Valeur $X_0$ $\\leftrightarrow$ $X(a)$."
   ]
  },
  {
   "cell_type": "markdown",
   "metadata": {
    "slideshow": {
     "slide_type": "subslide"
    }
   },
   "source": [
    "$\\leadsto$ <b>On discrétise les temps $t\\in [a,b]$</b>"
   ]
  },
  {
   "cell_type": "markdown",
   "metadata": {
    "slideshow": {
     "slide_type": "-"
    }
   },
   "source": [
    "### 2 Types de paramètres en plus (outre f, a, b et X0)\n",
    "* $n\\in \\mathbb{N}^\\star$ : nombre de sous-intervalles de $[a,b]$    \n",
    "$\\leadsto$ tous de taille $\\frac{b-a}{n}$    \n",
    "$\\leadsto$ subdivision $t_0=a<t_1=a+\\frac{b-a}{n}<\\dots < t_k=a+k\\frac{b-a}{n}<\\dots <t_n=b$\n",
    "* $h>0$ : pas de la subdivision     \n",
    "$\\leadsto$ intervalles réguliers    \n",
    "$\\dots$ sauf le dernier $[a+\\lfloor \\frac{b-a}{h} \\rfloor h, b]$   \n",
    "\n",
    "\n",
    "$\\dagger$ Parfois : donnée de $t_0=a$, $n$ et $h$ :     \n",
    "$\\leadsto$ $b=t_0+nh$ "
   ]
  },
  {
   "cell_type": "markdown",
   "metadata": {
    "slideshow": {
     "slide_type": "subslide"
    }
   },
   "source": [
    "### Heuristique\n",
    "$n\\in \\mathbb{N}^\\star$\n",
    "* $X_k$ $\\leftrightarrow$ approximation de $X(t_k)$\n",
    "* $t_{k+1} -t_k =h=\\frac{b-a}{n}$ $\\Rightarrow$ $t_{k+1}-t_k=h$\n",
    " $$X'(t_k)  \\approx \\frac{X(t_{k+1})-X(t_k)}{t_{k+1}-t_k} \\approx \\frac{X_{k+1}-X_k}{h}$$\n",
    "* Equation $$F(X_k,t_k)= \\approx \\frac{X_{k+1}-X_k}{h}$$"
   ]
  },
  {
   "cell_type": "markdown",
   "metadata": {
    "slideshow": {
     "slide_type": "subslide"
    }
   },
   "source": [
    "$$\n",
    "X_{k+1}=X_k+hF(X_k,t_k)\n",
    "$$\n",
    "$$\n",
    "\\text{Relation de récurrence}$$"
   ]
  },
  {
   "cell_type": "markdown",
   "metadata": {
    "slideshow": {
     "slide_type": "subslide"
    }
   },
   "source": [
    "### Types (retour)\n",
    "* liste $\\verb\"[X\"_0,\\dots, \\verb\"X\"_n\\verb\"]\"$\n",
    "* liste $\\verb\"[(t\"_1,\\verb\"X\"_1),\\dots ,(\\verb\"t\"_n,\\verb\"X\"_n)\\verb\"]\"$     \n",
    "    $\\leadsto$ peu inutile : on connaît les $t_k$ $\\rightarrow$ calculables à part.\n",
    "    \n",
    "* Files ou Piles : inutiles    \n",
    "$\\leadsto$ Représentation graphique   \n",
    "$\\leftrightarrow$ liste"
   ]
  },
  {
   "cell_type": "markdown",
   "metadata": {
    "slideshow": {
     "slide_type": "subslide"
    }
   },
   "source": [
    "### Algorithme \n",
    "* Evident : \n",
    "    * boucle $\\verb\"for\"$ (paramètre $n$)\n",
    "    * boucle $\\verb\"while\"$ (paramètre $h$)    \n",
    "$\\rightarrow$ suffit de <b>mettre à jour $(X,t)$</b> (représentant les $(X_k,t_k)$)    \n",
    "$\\dots$ A chaque tour de boucle"
   ]
  },
  {
   "cell_type": "code",
   "execution_count": 15,
   "metadata": {
    "slideshow": {
     "slide_type": "subslide"
    }
   },
   "outputs": [],
   "source": [
    "#Paramètre n\n",
    "def Euler_nb(F,a,b,X0,n):\n",
    "    h=(b-a)/float(n)\n",
    "    t=a\n",
    "    X=X0#Liste des valeurs approchées\n",
    "    L=[X0]#Liste des temps\n",
    "    T=[t]\n",
    "    for i in range(n):#Mise à jour\n",
    "        X=X+h*F(X,t)\n",
    "        t=t+ h\n",
    "        L=L+[X]\n",
    "        T=T+[t]\n",
    "    return L,T"
   ]
  },
  {
   "cell_type": "code",
   "execution_count": 41,
   "metadata": {
    "slideshow": {
     "slide_type": "subslide"
    }
   },
   "outputs": [],
   "source": [
    "#Paramètre h\n",
    "def Euler_pas(F,a,b,X0,h):\n",
    "    t=a\n",
    "    X=X0#Liste des valeurs approchées\n",
    "    L=[X0]#Liste des temps\n",
    "    T=[t]\n",
    "    while t+h<=b:#Mise à jour\n",
    "        X=X+h*F(X,t)\n",
    "        t=t+h\n",
    "        L=L+[X]\n",
    "        T=T+[t]\n",
    "    X=X+(b-t)*F(X,t)\n",
    "    t=b\n",
    "    L=L+[X]\n",
    "    T=T+[t]\n",
    "    return L,T"
   ]
  },
  {
   "cell_type": "code",
   "execution_count": 4,
   "metadata": {
    "slideshow": {
     "slide_type": "subslide"
    }
   },
   "outputs": [],
   "source": [
    "#Paramètres t0, n et h\n",
    "def Euler_ter(F,t0,X_0,n,h):\n",
    "    t=t0\n",
    "    X=X0\n",
    "    L=[X0]\n",
    "    #T=[t]\n",
    "    for i in range(n):\n",
    "        X=X+hF(X,t)\n",
    "        t=t+h\n",
    "        L=L+[X]\n",
    "        #T=T+[t]\n",
    "    return L#,T"
   ]
  },
  {
   "cell_type": "markdown",
   "metadata": {
    "slideshow": {
     "slide_type": "subslide"
    }
   },
   "source": [
    "### Remarque : polymorphisme\n",
    "* Si opérations + et * ont le sens \"attendu\"    \n",
    "$\\leadsto$ les fonctions $\\verb\"Euler\"$ s'appliquent !    \n",
    "$\\leadsto$ valable en scalaire <b>et</b> vectoriel\n",
    "* Pour des vecteurs :    \n",
    "$\\rightarrow$ types $\\verb\"np.matrix\"$ et $\\verb\"np.array\"$ $\\rightarrow$ OK !     \n",
    "$\\rightarrow$ types $\\verb\"list\"$ et $\\verb\"tuple\"$ : NON !\n",
    "\n",
    "$\\leadsto$ Fonctions <i>Polymorphes</i>    \n",
    "$\\rightarrow$ Changer les types en vectoriel    \n",
    "$\\dots$ $\\verb\"tuple\"\\to \\verb\"array\"$"
   ]
  },
  {
   "cell_type": "markdown",
   "metadata": {
    "slideshow": {
     "slide_type": "slide"
    }
   },
   "source": [
    "# EXEMPLES"
   ]
  },
  {
   "cell_type": "markdown",
   "metadata": {
    "slideshow": {
     "slide_type": "subslide"
    }
   },
   "source": [
    "### Exemple 1 : Exponentielle"
   ]
  },
  {
   "cell_type": "markdown",
   "metadata": {
    "slideshow": {
     "slide_type": "-"
    }
   },
   "source": [
    "$$\\begin{cases}y'=y\\\\ y(0)=1\\end{cases}$$\n",
    "* Solution bien connue : $\\exp$ !\n",
    "* Sur $[0,6]$ (exemple) avec $n=200$"
   ]
  },
  {
   "cell_type": "code",
   "execution_count": 23,
   "metadata": {
    "slideshow": {
     "slide_type": "subslide"
    }
   },
   "outputs": [
    {
     "data": {
      "image/png": "[encoded data removed]",
      "text/plain": [
       "<Figure size 432x288 with 1 Axes>"
      ]
     },
     "metadata": {
      "needs_background": "light"
     },
     "output_type": "display_data"
    }
   ],
   "source": [
    "def F(y,t):return y\n",
    "ordo,absc=Euler_nb(F,0,5,1,100)\n",
    "plt.plot(absc,ordo,'r--',label='approchee')\n",
    "#La vraie exponentielle\n",
    "Vraie=map(lambda x:np.exp(x),absc);plt.plot(absc,Vraie,label='exacte')\n",
    "plt.legend();plt.show()"
   ]
  },
  {
   "cell_type": "markdown",
   "metadata": {},
   "source": [
    "$\\rightarrow$ Cumul des erreurs ?"
   ]
  },
  {
   "cell_type": "markdown",
   "metadata": {
    "slideshow": {
     "slide_type": "subslide"
    }
   },
   "source": [
    "### Exemple 2 : Sinus"
   ]
  },
  {
   "cell_type": "markdown",
   "metadata": {},
   "source": [
    "$$\\begin{cases}\n",
    "y''+y=0\\\\\n",
    "y(0)=0\\\\\n",
    "y'(0)=1\n",
    "\\end{cases}$$\n",
    "* Solution bien connue : $\\sin$ !\n",
    "* Sur $[0,\\pi]$ (exemple) avec $h=0,02$ (exemple)"
   ]
  },
  {
   "cell_type": "code",
   "execution_count": 45,
   "metadata": {
    "slideshow": {
     "slide_type": "subslide"
    }
   },
   "outputs": [
    {
     "data": {
      "image/png": "[encoded data removed]",
      "text/plain": [
       "<Figure size 432x288 with 1 Axes>"
      ]
     },
     "metadata": {
      "needs_background": "light"
     },
     "output_type": "display_data"
    }
   ],
   "source": [
    "def F(X,t):return np.array([X[1],-X[0]])#Type compatible avec le polymorphisme !\n",
    "yyprime,absc=Euler_pas(F,0,2*np.pi,np.array([0,1]),.02)\n",
    "ordo=[elt[0] for elt in yyprime]\n",
    "plt.plot(absc,ordo,'r--',label='approche')\n",
    "#Le vrai sinus\n",
    "Vraie=map(lambda x:np.sin(x),absc);plt.plot(absc,Vrai,label='exact')\n",
    "plt.legend();plt.show()"
   ]
  },
  {
   "cell_type": "markdown",
   "metadata": {},
   "source": [
    "$\\rightarrow$ Compensation des erreurs ?"
   ]
  },
  {
   "cell_type": "markdown",
   "metadata": {
    "slideshow": {
     "slide_type": "subslide"
    }
   },
   "source": [
    "### Exemple 3 : Lotka-Volterra\n",
    "$\\rightarrow$ Système Proies-Prédateurs    \n",
    "$\\rightarrow$ $x\\; \\leftrightarrow$ proies ; $y\\; \\leftrightarrow$ prédateurs\n",
    "$$\n",
    "\\left\\{   \\begin{array}{lcrcrr}  x'&=&x&-&0,1xy&=x(\\alpha-\\beta y)\n",
    "\\\\y'&=&-2y&+&0,4xy &=-y(\\delta-\\gamma x)  \\end{array}  \\right.\n",
    "$$\n",
    "* $\\alpha$ : taux de reproduction des proies en l'absence de prédateur\n",
    "* $\\beta$ : taux de mortalité des proies par rencontre avec les prédateurs\n",
    "* $\\delta$ : taux de mortalité des prédateurs en l'absence de proie\n",
    "* $\\gamma$ : taux de reproduction des prédateurs en fonction des proies mangées.\n",
    "* <b>Système Autonome</b> : variable $t$ absente    \n",
    "$\\leadsto$ Peu importe le temps de départ $t_0$    \n",
    "$\\rightarrow$ Evolution $y$ par rapport $x$    \n",
    "$\\rightarrow$ Portrait de phase    "
   ]
  },
  {
   "cell_type": "code",
   "execution_count": 47,
   "metadata": {
    "slideshow": {
     "slide_type": "subslide"
    }
   },
   "outputs": [
    {
     "data": {
      "image/png": "[encoded data removed]",
      "text/plain": [
       "<Figure size 432x288 with 1 Axes>"
      ]
     },
     "metadata": {
      "needs_background": "light"
     },
     "output_type": "display_data"
    }
   ],
   "source": [
    "def F(X,t):return np.array([X[0]-.1*X[0]*X[1],-2*X[1]+.4*X[0]*X[1]])\n",
    "Rep,absc=Euler_nb(F,0,20,np.array([8,22]),1000)\n",
    "XX,YY=[elt[0] for elt in Rep],[elt[1] for elt in Rep]\n",
    "plt.plot(XX,YY); plt.title('Lotka-Voltera approche');plt.show()"
   ]
  },
  {
   "cell_type": "markdown",
   "metadata": {},
   "source": [
    "$\\rightarrow$ Solution apparemment non-périodique"
   ]
  },
  {
   "cell_type": "markdown",
   "metadata": {
    "slideshow": {
     "slide_type": "subslide"
    }
   },
   "source": [
    "Calcul exact pour les conditions initiales :\n",
    "    $$(x(0),y(0))=(8,22),\\;  (x(0),y(0))=(7,7)\\text{ et }(x(0),y(0))=(11,6)$$"
   ]
  },
  {
   "cell_type": "code",
   "execution_count": 51,
   "metadata": {},
   "outputs": [
    {
     "name": "stderr",
     "output_type": "stream",
     "text": [
      "/anaconda/lib/python2.7/site-packages/ipykernel/__main__.py:3: RuntimeWarning: divide by zero encountered in log\n",
      "  app.launch_new_instance()\n"
     ]
    },
    {
     "data": {
      "text/plain": [
       "<matplotlib.contour.QuadContourSet at 0x115ee3810>"
      ]
     },
     "execution_count": 51,
     "metadata": {},
     "output_type": "execute_result"
    },
    {
     "data": {
      "image/png": "[encoded data removed]",
      "text/plain": [
       "<Figure size 432x288 with 1 Axes>"
      ]
     },
     "metadata": {
      "needs_background": "light"
     },
     "output_type": "display_data"
    }
   ],
   "source": [
    "h = 0.01;valeursx = np.arange(0,12,h);valeursy = np.arange(0,35,h) #borne droite exclue\n",
    "X, Y = np.meshgrid(valeursx,valeursy,)#Treillis ou réseau\n",
    "F = 0.4*X+0.1*Y-2*np.log(X)-np.log(Y);G1 = 0.4*8+0.1*22-2*np.log(8)-np.log(22);G2 = 0.4*7+0.1*7-2*np.log(7)-np.log(7);G3 = 0.4*11+0.1*6-2*np.log(11)-np.log(6) #Différentes valeur initiales\n",
    "plt.contour(X, Y, (F - G1), [0],colors='b');plt.contour(X, Y, (F - G2), [0],colors='k');plt.contour(X, Y, (F - G3), [0],colors='r')#(x(0),y(0))=(11,6)"
   ]
  },
  {
   "cell_type": "markdown",
   "metadata": {},
   "source": [
    "$\\rightarrow$ Erreurs probables dans Euler    \n",
    "$\\rightarrow$ Se propagent !"
   ]
  },
  {
   "cell_type": "markdown",
   "metadata": {
    "slideshow": {
     "slide_type": "slide"
    }
   },
   "source": [
    "# AUTRES METHODES"
   ]
  },
  {
   "cell_type": "markdown",
   "metadata": {
    "slideshow": {
     "slide_type": "subslide"
    }
   },
   "source": [
    "### Euler Implicite \n",
    "* Approximation\n",
    "$$\n",
    "X'(t_{k+1})\\approx \\frac{1}{t_{k+1}-t_k}\\left( X(t_{k+1})-X(t_k) \\right)\n",
    "$$\n",
    "* On pose :\n",
    "$$ X_{k+1}=X_k+hF(X_{k+1},t_{k+1})\n",
    "$$\n",
    "\n",
    "$\\leadsto$ Nécessite de résoudre l'équation implicite\n",
    "$$\\Phi_k(x)=x-X_k-hF(x,t_{k+1})=0$$\n",
    "\n",
    "$\\rightarrow$ Dichotomie    \n",
    "$\\rightarrow$ Euler"
   ]
  },
  {
   "cell_type": "markdown",
   "metadata": {
    "slideshow": {
     "slide_type": "subslide"
    }
   },
   "source": [
    "### Moyenne Euler Explicite-Implicite\n",
    "* Nom : Crank-Nicholson (se sont mis à deux !)\n",
    "* On pose :\n",
    "$$  X_{k+1}=X_k+\\frac{h}{2}\\left( F(X_{k+1},t_{k+1})+F(X_{k},t_{k})\\right)\n",
    "$$\n",
    "\n",
    "$\\leadsto$ Pas plus efficace pour compenser les erreurs    \n",
    "$\\leadsto$ Reste implicite"
   ]
  },
  {
   "cell_type": "markdown",
   "metadata": {
    "slideshow": {
     "slide_type": "subslide"
    }
   },
   "source": [
    "### Runge-Kutta d'ordre 2 (RK2)\n",
    "* Point au milieu $t_k+\\frac{h}{2}$\n",
    "* A peu près Euler explicite \n",
    "$$X_{k+\\frac{1}{2}}=X_k+\\frac{h}{2} F(X_k,t_k)$$\n",
    "* Estimation Dérivée :\n",
    "$$X'(t_k+\\frac{h}{2})\\approx F(X_{k+\\frac{1}{2}},t_k+\\frac{h}{2})$$\n",
    "* Avec $X'(t_{k+1})\\approx X'(t_k+\\frac{h}{2})\\approx \\frac{1}{t_{k+1}-t_k}\\left( X_{k+1}-X_k \\right)$ :\n",
    "$$\n",
    "X_{k+1}=X_k+hF\\left(X_k+\\frac{h}{2} F(X_k,t_k),t_k+\\frac{h}{2}\\right)\n",
    "$$\n",
    "\n",
    "\n",
    "$\\leadsto$ Schéma prédicteur-correcteur "
   ]
  },
  {
   "cell_type": "markdown",
   "metadata": {
    "slideshow": {
     "slide_type": "subslide"
    }
   },
   "source": [
    "### Runge-Kutta d'ordre 2 (RK2)\n",
    "* Hybride et itératif avec points médians $\\leftrightarrow$ RK2 généralisé\n",
    "$$X_{k+1}=X_k+\\frac{h}{6}\\left(  \\underbrace{F(X_k,t_k)}_{=T_1}+ 2\\underbrace{F(X_k+\\frac{h}{2}T_1,t_k+\\frac{h}{2})}_{=T_2}+2\\underbrace{F(X_k+\\frac{h}{2}T_2,t_k+\\frac{h}{2})}_{=T_3}+F(X_k+hT_3,t_k+t_{k+1})\\right)$$"
   ]
  },
  {
   "cell_type": "markdown",
   "metadata": {},
   "source": [
    "$\\leadsto$ RKn (ou RK2n ou même RK$2^k$)    \n",
    "\n",
    "$\\leadsto$ Lien fort avec les <b>méthodes de quadrature</b>    \n",
    "    $\\rightarrow$ c.f. Poly"
   ]
  },
  {
   "cell_type": "markdown",
   "metadata": {
    "slideshow": {
     "slide_type": "slide"
    }
   },
   "source": [
    "# CONVERGENCE DES METHODES\n",
    "## TOTALEMENT H.P. !!!"
   ]
  },
  {
   "cell_type": "markdown",
   "metadata": {
    "slideshow": {
     "slide_type": "subslide"
    }
   },
   "source": [
    "# EXEMPLES SIMPLES"
   ]
  },
  {
   "cell_type": "markdown",
   "metadata": {
    "slideshow": {
     "slide_type": "subslide"
    }
   },
   "source": [
    "### Exp\n"
   ]
  },
  {
   "cell_type": "markdown",
   "metadata": {},
   "source": [
    "$$\\begin{cases}y'=y\\\\ y(0)=1\\end{cases}$$\n",
    "* Pour $k \\in [\\! | 0, n-1|\\! ]$,: $X_{k+1}=X_k+hX_k=(1+h)X_k$. Par une $\\rightarrow$  $\\forall k \\in [\\! | 0, n-1|\\! ]$ $$ X_k=(1+h)^nX_0=(1+h)^n$$\n",
    "* Intervalle d'approximation  $[0,T]$ fixé ($T>0$) $$y(t_n)\\approx X_n= \\left( 1+\\frac{T}{n} \\right)^n$$\n",
    "* $\\lim\\limits_{n\\to+\\infty} e^T$"
   ]
  },
  {
   "cell_type": "markdown",
   "metadata": {
    "slideshow": {
     "slide_type": "subslide"
    }
   },
   "source": [
    "### Sommes de Riemann"
   ]
  },
  {
   "cell_type": "markdown",
   "metadata": {},
   "source": [
    "* $f\\in \\mathcal{C}^1([a,b],\\mathbb{R})$ $$\\begin{cases}y'=f(t)\\\\ y(a)=0\\end{cases}$$\n",
    "$\\rightarrow$ unique primitive de $f\\colon t\\mapsto \\int_a^t f(u){\\rm d} u$\n",
    "* $\\forall k \\in [\\! | 0, n-1|\\! ]$, \n",
    "$$X_{k+1}=X_k+f(t_k)=X_k+f(a+k\\frac{b-a}{n})$$\n",
    "* Téléscopage :  $$y(b)=y(t_n)\\approx X_n=\\sum\\limits_{k=0}^{n-1} f(a+k\\frac{b-a}{n})$$\n",
    "$\\leadsto$ Somme de Riemann    \n",
    "$\\leadsto$ $\\int_a^b f(u){\\rm d} u$.\n",
    "\n",
    "    * Méthode d'Euler $\\leftrightarrow$ Méthode des rectangles."
   ]
  },
  {
   "cell_type": "markdown",
   "metadata": {
    "slideshow": {
     "slide_type": "subslide"
    }
   },
   "source": [
    "Autres liens : méthodes de quadrature !"
   ]
  }
 ],
 "metadata": {
  "celltoolbar": "Diaporama",
  "kernelspec": {
   "display_name": "Python [default]",
   "language": "python",
   "name": "python2"
  },
  "language_info": {
   "codemirror_mode": {
    "name": "ipython",
    "version": 2
   },
   "file_extension": ".py",
   "mimetype": "text/x-python",
   "name": "python",
   "nbconvert_exporter": "python",
   "pygments_lexer": "ipython2",
   "version": "2.7.16"
  }
 },
 "nbformat": 4,
 "nbformat_minor": 2
}
